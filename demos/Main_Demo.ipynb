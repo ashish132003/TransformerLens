{
  "cells": [
    {
      "cell_type": "markdown",
      "metadata": {
        "id": "NA1LdLHxOYkc"
      },
      "source": [
        "<a target=\"_blank\" href=\"https://colab.research.google.com/github/TransformerLensOrg/TransformerLens/blob/main/demos/Main_Demo.ipynb\">\n",
        "  <img src=\"https://colab.research.google.com/assets/colab-badge.svg\" alt=\"Open In Colab\"/>\n",
        "</a>"
      ]
    },
    {
      "cell_type": "markdown",
      "metadata": {
        "id": "Uzky71_NOYke"
      },
      "source": [
        "# Transformer Lens Main Demo Notebook\n",
        "\n",
        "<b style=\"color: red\">To use this notebook, go to Runtime > Change Runtime Type and select GPU as the hardware accelerator.</b>\n",
        "\n",
        "This is a reference notebook covering the main features of the [TransformerLens](https://github.com/TransformerLensOrg/TransformerLens) library for mechanistic interpretability. See [Callum McDougall's tutorial](https://transformerlens-intro.streamlit.app/TransformerLens_&_induction_circuits) for a more structured and gentler introduction to the library"
      ]
    },
    {
      "cell_type": "markdown",
      "metadata": {
        "id": "fvRMK7WwOYkf"
      },
      "source": [
        "**Tips for reading this Colab:**\n",
        "* You can run all this code for yourself!\n",
        "* The graphs are interactive!\n",
        "* Use the table of contents pane in the sidebar to navigate\n",
        "* Collapse irrelevant sections with the dropdown arrows\n",
        "* Search the page using the search in the sidebar, not CTRL+F"
      ]
    },
    {
      "cell_type": "markdown",
      "metadata": {
        "id": "W1sCVzk5OYkg"
      },
      "source": [
        "# Setup\n",
        "(No need to read)"
      ]
    },
    {
      "cell_type": "code",
      "execution_count": 2,
      "metadata": {
        "id": "hmJuxQBgOYkg",
        "outputId": "3d1919fb-f782-42c2-e3e7-c7f9e2ea3353",
        "colab": {
          "base_uri": "https://localhost:8080/"
        }
      },
      "outputs": [
        {
          "output_type": "stream",
          "name": "stdout",
          "text": [
            "Running as a Colab notebook\n",
            "Requirement already satisfied: transformer_lens in /usr/local/lib/python3.11/dist-packages (2.16.1)\n",
            "Requirement already satisfied: accelerate>=0.23.0 in /usr/local/lib/python3.11/dist-packages (from transformer_lens) (1.9.0)\n",
            "Requirement already satisfied: beartype<0.15.0,>=0.14.1 in /usr/local/lib/python3.11/dist-packages (from transformer_lens) (0.14.1)\n",
            "Requirement already satisfied: better-abc<0.0.4,>=0.0.3 in /usr/local/lib/python3.11/dist-packages (from transformer_lens) (0.0.3)\n",
            "Requirement already satisfied: datasets>=2.7.1 in /usr/local/lib/python3.11/dist-packages (from transformer_lens) (4.0.0)\n",
            "Requirement already satisfied: einops>=0.6.0 in /usr/local/lib/python3.11/dist-packages (from transformer_lens) (0.8.1)\n",
            "Requirement already satisfied: fancy-einsum>=0.0.3 in /usr/local/lib/python3.11/dist-packages (from transformer_lens) (0.0.3)\n",
            "Requirement already satisfied: jaxtyping>=0.2.11 in /usr/local/lib/python3.11/dist-packages (from transformer_lens) (0.3.2)\n",
            "Requirement already satisfied: numpy<2,>=1.24 in /usr/local/lib/python3.11/dist-packages (from transformer_lens) (1.26.4)\n",
            "Requirement already satisfied: pandas>=1.1.5 in /usr/local/lib/python3.11/dist-packages (from transformer_lens) (2.2.2)\n",
            "Requirement already satisfied: rich>=12.6.0 in /usr/local/lib/python3.11/dist-packages (from transformer_lens) (13.9.4)\n",
            "Requirement already satisfied: sentencepiece in /usr/local/lib/python3.11/dist-packages (from transformer_lens) (0.2.0)\n",
            "Requirement already satisfied: torch>=2.6 in /usr/local/lib/python3.11/dist-packages (from transformer_lens) (2.6.0+cu124)\n",
            "Requirement already satisfied: tqdm>=4.64.1 in /usr/local/lib/python3.11/dist-packages (from transformer_lens) (4.67.1)\n",
            "Requirement already satisfied: transformers>=4.51 in /usr/local/lib/python3.11/dist-packages (from transformer_lens) (4.55.0)\n",
            "Requirement already satisfied: transformers-stream-generator<0.0.6,>=0.0.5 in /usr/local/lib/python3.11/dist-packages (from transformer_lens) (0.0.5)\n",
            "Requirement already satisfied: typeguard<5.0,>=4.2 in /usr/local/lib/python3.11/dist-packages (from transformer_lens) (4.4.4)\n",
            "Requirement already satisfied: typing-extensions in /usr/local/lib/python3.11/dist-packages (from transformer_lens) (4.14.1)\n",
            "Requirement already satisfied: wandb>=0.13.5 in /usr/local/lib/python3.11/dist-packages (from transformer_lens) (0.21.0)\n",
            "Requirement already satisfied: packaging>=20.0 in /usr/local/lib/python3.11/dist-packages (from accelerate>=0.23.0->transformer_lens) (25.0)\n",
            "Requirement already satisfied: psutil in /usr/local/lib/python3.11/dist-packages (from accelerate>=0.23.0->transformer_lens) (5.9.5)\n",
            "Requirement already satisfied: pyyaml in /usr/local/lib/python3.11/dist-packages (from accelerate>=0.23.0->transformer_lens) (6.0.2)\n",
            "Requirement already satisfied: huggingface_hub>=0.21.0 in /usr/local/lib/python3.11/dist-packages (from accelerate>=0.23.0->transformer_lens) (0.34.3)\n",
            "Requirement already satisfied: safetensors>=0.4.3 in /usr/local/lib/python3.11/dist-packages (from accelerate>=0.23.0->transformer_lens) (0.6.1)\n",
            "Requirement already satisfied: filelock in /usr/local/lib/python3.11/dist-packages (from datasets>=2.7.1->transformer_lens) (3.18.0)\n",
            "Requirement already satisfied: pyarrow>=15.0.0 in /usr/local/lib/python3.11/dist-packages (from datasets>=2.7.1->transformer_lens) (18.1.0)\n",
            "Requirement already satisfied: dill<0.3.9,>=0.3.0 in /usr/local/lib/python3.11/dist-packages (from datasets>=2.7.1->transformer_lens) (0.3.8)\n",
            "Requirement already satisfied: requests>=2.32.2 in /usr/local/lib/python3.11/dist-packages (from datasets>=2.7.1->transformer_lens) (2.32.3)\n",
            "Requirement already satisfied: xxhash in /usr/local/lib/python3.11/dist-packages (from datasets>=2.7.1->transformer_lens) (3.5.0)\n",
            "Requirement already satisfied: multiprocess<0.70.17 in /usr/local/lib/python3.11/dist-packages (from datasets>=2.7.1->transformer_lens) (0.70.16)\n",
            "Requirement already satisfied: fsspec<=2025.3.0,>=2023.1.0 in /usr/local/lib/python3.11/dist-packages (from fsspec[http]<=2025.3.0,>=2023.1.0->datasets>=2.7.1->transformer_lens) (2025.3.0)\n",
            "Requirement already satisfied: wadler-lindig>=0.1.3 in /usr/local/lib/python3.11/dist-packages (from jaxtyping>=0.2.11->transformer_lens) (0.1.7)\n",
            "Requirement already satisfied: python-dateutil>=2.8.2 in /usr/local/lib/python3.11/dist-packages (from pandas>=1.1.5->transformer_lens) (2.9.0.post0)\n",
            "Requirement already satisfied: pytz>=2020.1 in /usr/local/lib/python3.11/dist-packages (from pandas>=1.1.5->transformer_lens) (2025.2)\n",
            "Requirement already satisfied: tzdata>=2022.7 in /usr/local/lib/python3.11/dist-packages (from pandas>=1.1.5->transformer_lens) (2025.2)\n",
            "Requirement already satisfied: markdown-it-py>=2.2.0 in /usr/local/lib/python3.11/dist-packages (from rich>=12.6.0->transformer_lens) (3.0.0)\n",
            "Requirement already satisfied: pygments<3.0.0,>=2.13.0 in /usr/local/lib/python3.11/dist-packages (from rich>=12.6.0->transformer_lens) (2.19.2)\n",
            "Requirement already satisfied: networkx in /usr/local/lib/python3.11/dist-packages (from torch>=2.6->transformer_lens) (3.5)\n",
            "Requirement already satisfied: jinja2 in /usr/local/lib/python3.11/dist-packages (from torch>=2.6->transformer_lens) (3.1.6)\n",
            "Requirement already satisfied: nvidia-cuda-nvrtc-cu12==12.4.127 in /usr/local/lib/python3.11/dist-packages (from torch>=2.6->transformer_lens) (12.4.127)\n",
            "Requirement already satisfied: nvidia-cuda-runtime-cu12==12.4.127 in /usr/local/lib/python3.11/dist-packages (from torch>=2.6->transformer_lens) (12.4.127)\n",
            "Requirement already satisfied: nvidia-cuda-cupti-cu12==12.4.127 in /usr/local/lib/python3.11/dist-packages (from torch>=2.6->transformer_lens) (12.4.127)\n",
            "Requirement already satisfied: nvidia-cudnn-cu12==9.1.0.70 in /usr/local/lib/python3.11/dist-packages (from torch>=2.6->transformer_lens) (9.1.0.70)\n",
            "Requirement already satisfied: nvidia-cublas-cu12==12.4.5.8 in /usr/local/lib/python3.11/dist-packages (from torch>=2.6->transformer_lens) (12.4.5.8)\n",
            "Requirement already satisfied: nvidia-cufft-cu12==11.2.1.3 in /usr/local/lib/python3.11/dist-packages (from torch>=2.6->transformer_lens) (11.2.1.3)\n",
            "Requirement already satisfied: nvidia-curand-cu12==10.3.5.147 in /usr/local/lib/python3.11/dist-packages (from torch>=2.6->transformer_lens) (10.3.5.147)\n",
            "Requirement already satisfied: nvidia-cusolver-cu12==11.6.1.9 in /usr/local/lib/python3.11/dist-packages (from torch>=2.6->transformer_lens) (11.6.1.9)\n",
            "Requirement already satisfied: nvidia-cusparse-cu12==12.3.1.170 in /usr/local/lib/python3.11/dist-packages (from torch>=2.6->transformer_lens) (12.3.1.170)\n",
            "Requirement already satisfied: nvidia-cusparselt-cu12==0.6.2 in /usr/local/lib/python3.11/dist-packages (from torch>=2.6->transformer_lens) (0.6.2)\n",
            "Requirement already satisfied: nvidia-nccl-cu12==2.21.5 in /usr/local/lib/python3.11/dist-packages (from torch>=2.6->transformer_lens) (2.21.5)\n",
            "Requirement already satisfied: nvidia-nvtx-cu12==12.4.127 in /usr/local/lib/python3.11/dist-packages (from torch>=2.6->transformer_lens) (12.4.127)\n",
            "Requirement already satisfied: nvidia-nvjitlink-cu12==12.4.127 in /usr/local/lib/python3.11/dist-packages (from torch>=2.6->transformer_lens) (12.4.127)\n",
            "Requirement already satisfied: triton==3.2.0 in /usr/local/lib/python3.11/dist-packages (from torch>=2.6->transformer_lens) (3.2.0)\n",
            "Requirement already satisfied: sympy==1.13.1 in /usr/local/lib/python3.11/dist-packages (from torch>=2.6->transformer_lens) (1.13.1)\n",
            "Requirement already satisfied: mpmath<1.4,>=1.1.0 in /usr/local/lib/python3.11/dist-packages (from sympy==1.13.1->torch>=2.6->transformer_lens) (1.3.0)\n",
            "Requirement already satisfied: regex!=2019.12.17 in /usr/local/lib/python3.11/dist-packages (from transformers>=4.51->transformer_lens) (2024.11.6)\n",
            "Requirement already satisfied: tokenizers<0.22,>=0.21 in /usr/local/lib/python3.11/dist-packages (from transformers>=4.51->transformer_lens) (0.21.4)\n",
            "Requirement already satisfied: click!=8.0.0,>=7.1 in /usr/local/lib/python3.11/dist-packages (from wandb>=0.13.5->transformer_lens) (8.2.1)\n",
            "Requirement already satisfied: gitpython!=3.1.29,>=1.0.0 in /usr/local/lib/python3.11/dist-packages (from wandb>=0.13.5->transformer_lens) (3.1.45)\n",
            "Requirement already satisfied: platformdirs in /usr/local/lib/python3.11/dist-packages (from wandb>=0.13.5->transformer_lens) (4.3.8)\n",
            "Requirement already satisfied: protobuf!=4.21.0,!=5.28.0,<7,>=3.19.0 in /usr/local/lib/python3.11/dist-packages (from wandb>=0.13.5->transformer_lens) (5.29.5)\n",
            "Requirement already satisfied: pydantic<3 in /usr/local/lib/python3.11/dist-packages (from wandb>=0.13.5->transformer_lens) (2.11.7)\n",
            "Requirement already satisfied: sentry-sdk>=2.0.0 in /usr/local/lib/python3.11/dist-packages (from wandb>=0.13.5->transformer_lens) (2.34.1)\n",
            "Requirement already satisfied: aiohttp!=4.0.0a0,!=4.0.0a1 in /usr/local/lib/python3.11/dist-packages (from fsspec[http]<=2025.3.0,>=2023.1.0->datasets>=2.7.1->transformer_lens) (3.12.15)\n",
            "Requirement already satisfied: gitdb<5,>=4.0.1 in /usr/local/lib/python3.11/dist-packages (from gitpython!=3.1.29,>=1.0.0->wandb>=0.13.5->transformer_lens) (4.0.12)\n",
            "Requirement already satisfied: hf-xet<2.0.0,>=1.1.3 in /usr/local/lib/python3.11/dist-packages (from huggingface_hub>=0.21.0->accelerate>=0.23.0->transformer_lens) (1.1.7)\n",
            "Requirement already satisfied: mdurl~=0.1 in /usr/local/lib/python3.11/dist-packages (from markdown-it-py>=2.2.0->rich>=12.6.0->transformer_lens) (0.1.2)\n",
            "Requirement already satisfied: annotated-types>=0.6.0 in /usr/local/lib/python3.11/dist-packages (from pydantic<3->wandb>=0.13.5->transformer_lens) (0.7.0)\n",
            "Requirement already satisfied: pydantic-core==2.33.2 in /usr/local/lib/python3.11/dist-packages (from pydantic<3->wandb>=0.13.5->transformer_lens) (2.33.2)\n",
            "Requirement already satisfied: typing-inspection>=0.4.0 in /usr/local/lib/python3.11/dist-packages (from pydantic<3->wandb>=0.13.5->transformer_lens) (0.4.1)\n",
            "Requirement already satisfied: six>=1.5 in /usr/local/lib/python3.11/dist-packages (from python-dateutil>=2.8.2->pandas>=1.1.5->transformer_lens) (1.17.0)\n",
            "Requirement already satisfied: charset-normalizer<4,>=2 in /usr/local/lib/python3.11/dist-packages (from requests>=2.32.2->datasets>=2.7.1->transformer_lens) (3.4.2)\n",
            "Requirement already satisfied: idna<4,>=2.5 in /usr/local/lib/python3.11/dist-packages (from requests>=2.32.2->datasets>=2.7.1->transformer_lens) (3.10)\n",
            "Requirement already satisfied: urllib3<3,>=1.21.1 in /usr/local/lib/python3.11/dist-packages (from requests>=2.32.2->datasets>=2.7.1->transformer_lens) (2.5.0)\n",
            "Requirement already satisfied: certifi>=2017.4.17 in /usr/local/lib/python3.11/dist-packages (from requests>=2.32.2->datasets>=2.7.1->transformer_lens) (2025.8.3)\n",
            "Requirement already satisfied: MarkupSafe>=2.0 in /usr/local/lib/python3.11/dist-packages (from jinja2->torch>=2.6->transformer_lens) (3.0.2)\n",
            "Requirement already satisfied: aiohappyeyeballs>=2.5.0 in /usr/local/lib/python3.11/dist-packages (from aiohttp!=4.0.0a0,!=4.0.0a1->fsspec[http]<=2025.3.0,>=2023.1.0->datasets>=2.7.1->transformer_lens) (2.6.1)\n",
            "Requirement already satisfied: aiosignal>=1.4.0 in /usr/local/lib/python3.11/dist-packages (from aiohttp!=4.0.0a0,!=4.0.0a1->fsspec[http]<=2025.3.0,>=2023.1.0->datasets>=2.7.1->transformer_lens) (1.4.0)\n",
            "Requirement already satisfied: attrs>=17.3.0 in /usr/local/lib/python3.11/dist-packages (from aiohttp!=4.0.0a0,!=4.0.0a1->fsspec[http]<=2025.3.0,>=2023.1.0->datasets>=2.7.1->transformer_lens) (25.3.0)\n",
            "Requirement already satisfied: frozenlist>=1.1.1 in /usr/local/lib/python3.11/dist-packages (from aiohttp!=4.0.0a0,!=4.0.0a1->fsspec[http]<=2025.3.0,>=2023.1.0->datasets>=2.7.1->transformer_lens) (1.7.0)\n",
            "Requirement already satisfied: multidict<7.0,>=4.5 in /usr/local/lib/python3.11/dist-packages (from aiohttp!=4.0.0a0,!=4.0.0a1->fsspec[http]<=2025.3.0,>=2023.1.0->datasets>=2.7.1->transformer_lens) (6.6.3)\n",
            "Requirement already satisfied: propcache>=0.2.0 in /usr/local/lib/python3.11/dist-packages (from aiohttp!=4.0.0a0,!=4.0.0a1->fsspec[http]<=2025.3.0,>=2023.1.0->datasets>=2.7.1->transformer_lens) (0.3.2)\n",
            "Requirement already satisfied: yarl<2.0,>=1.17.0 in /usr/local/lib/python3.11/dist-packages (from aiohttp!=4.0.0a0,!=4.0.0a1->fsspec[http]<=2025.3.0,>=2023.1.0->datasets>=2.7.1->transformer_lens) (1.20.1)\n",
            "Requirement already satisfied: smmap<6,>=3.0.1 in /usr/local/lib/python3.11/dist-packages (from gitdb<5,>=4.0.1->gitpython!=3.1.29,>=1.0.0->wandb>=0.13.5->transformer_lens) (5.0.2)\n",
            "Requirement already satisfied: circuitsvis in /usr/local/lib/python3.11/dist-packages (1.43.3)\n",
            "Requirement already satisfied: importlib-metadata>=5.1.0 in /usr/local/lib/python3.11/dist-packages (from circuitsvis) (8.7.0)\n",
            "Requirement already satisfied: numpy>=1.24 in /usr/local/lib/python3.11/dist-packages (from circuitsvis) (1.26.4)\n",
            "Requirement already satisfied: torch>=2.1.1 in /usr/local/lib/python3.11/dist-packages (from circuitsvis) (2.6.0+cu124)\n",
            "Requirement already satisfied: zipp>=3.20 in /usr/local/lib/python3.11/dist-packages (from importlib-metadata>=5.1.0->circuitsvis) (3.23.0)\n",
            "Requirement already satisfied: filelock in /usr/local/lib/python3.11/dist-packages (from torch>=2.1.1->circuitsvis) (3.18.0)\n",
            "Requirement already satisfied: typing-extensions>=4.10.0 in /usr/local/lib/python3.11/dist-packages (from torch>=2.1.1->circuitsvis) (4.14.1)\n",
            "Requirement already satisfied: networkx in /usr/local/lib/python3.11/dist-packages (from torch>=2.1.1->circuitsvis) (3.5)\n",
            "Requirement already satisfied: jinja2 in /usr/local/lib/python3.11/dist-packages (from torch>=2.1.1->circuitsvis) (3.1.6)\n",
            "Requirement already satisfied: fsspec in /usr/local/lib/python3.11/dist-packages (from torch>=2.1.1->circuitsvis) (2025.3.0)\n",
            "Requirement already satisfied: nvidia-cuda-nvrtc-cu12==12.4.127 in /usr/local/lib/python3.11/dist-packages (from torch>=2.1.1->circuitsvis) (12.4.127)\n",
            "Requirement already satisfied: nvidia-cuda-runtime-cu12==12.4.127 in /usr/local/lib/python3.11/dist-packages (from torch>=2.1.1->circuitsvis) (12.4.127)\n",
            "Requirement already satisfied: nvidia-cuda-cupti-cu12==12.4.127 in /usr/local/lib/python3.11/dist-packages (from torch>=2.1.1->circuitsvis) (12.4.127)\n",
            "Requirement already satisfied: nvidia-cudnn-cu12==9.1.0.70 in /usr/local/lib/python3.11/dist-packages (from torch>=2.1.1->circuitsvis) (9.1.0.70)\n",
            "Requirement already satisfied: nvidia-cublas-cu12==12.4.5.8 in /usr/local/lib/python3.11/dist-packages (from torch>=2.1.1->circuitsvis) (12.4.5.8)\n",
            "Requirement already satisfied: nvidia-cufft-cu12==11.2.1.3 in /usr/local/lib/python3.11/dist-packages (from torch>=2.1.1->circuitsvis) (11.2.1.3)\n",
            "Requirement already satisfied: nvidia-curand-cu12==10.3.5.147 in /usr/local/lib/python3.11/dist-packages (from torch>=2.1.1->circuitsvis) (10.3.5.147)\n",
            "Requirement already satisfied: nvidia-cusolver-cu12==11.6.1.9 in /usr/local/lib/python3.11/dist-packages (from torch>=2.1.1->circuitsvis) (11.6.1.9)\n",
            "Requirement already satisfied: nvidia-cusparse-cu12==12.3.1.170 in /usr/local/lib/python3.11/dist-packages (from torch>=2.1.1->circuitsvis) (12.3.1.170)\n",
            "Requirement already satisfied: nvidia-cusparselt-cu12==0.6.2 in /usr/local/lib/python3.11/dist-packages (from torch>=2.1.1->circuitsvis) (0.6.2)\n",
            "Requirement already satisfied: nvidia-nccl-cu12==2.21.5 in /usr/local/lib/python3.11/dist-packages (from torch>=2.1.1->circuitsvis) (2.21.5)\n",
            "Requirement already satisfied: nvidia-nvtx-cu12==12.4.127 in /usr/local/lib/python3.11/dist-packages (from torch>=2.1.1->circuitsvis) (12.4.127)\n",
            "Requirement already satisfied: nvidia-nvjitlink-cu12==12.4.127 in /usr/local/lib/python3.11/dist-packages (from torch>=2.1.1->circuitsvis) (12.4.127)\n",
            "Requirement already satisfied: triton==3.2.0 in /usr/local/lib/python3.11/dist-packages (from torch>=2.1.1->circuitsvis) (3.2.0)\n",
            "Requirement already satisfied: sympy==1.13.1 in /usr/local/lib/python3.11/dist-packages (from torch>=2.1.1->circuitsvis) (1.13.1)\n",
            "Requirement already satisfied: mpmath<1.4,>=1.1.0 in /usr/local/lib/python3.11/dist-packages (from sympy==1.13.1->torch>=2.1.1->circuitsvis) (1.3.0)\n",
            "Requirement already satisfied: MarkupSafe>=2.0 in /usr/local/lib/python3.11/dist-packages (from jinja2->torch>=2.1.1->circuitsvis) (3.0.2)\n",
            "\n",
            "\u001b[31m================================================================================\u001b[m\n",
            "\u001b[31m================================================================================\u001b[m\n",
            "\n",
            "  \u001b[1m\u001b[33m                            DEPRECATION WARNING                            \u001b[m\n",
            "\n",
            "    \u001b[1m\u001b[4m Node.js 16.x is no longer actively supported!\u001b[m\n",
            "\n",
            "  \u001b[1mYou will not receive security or critical stability updates\u001b[m for this version.\n",
            "\n",
            "  You should migrate to a supported version of Node.js as soon as possible.\n",
            "  Use the installation script that corresponds to the version of Node.js you\n",
            "  wish to install. e.g.\n",
            "  \n",
            "   * \u001b[31mhttps://deb.nodesource.com/setup_16.x — Node.js 16 \"Gallium\" \u001b[1m(deprecated)\u001b[m\n",
            "   * \u001b[32mhttps://deb.nodesource.com/setup_18.x — Node.js 18 \"Hydrogen\" (Maintenance)\u001b[m\n",
            "   * \u001b[31mhttps://deb.nodesource.com/setup_19.x — Node.js 19 \"Nineteen\" \u001b[1m(deprecated)\u001b[m\n",
            "   * \u001b[1m\u001b[32mhttps://deb.nodesource.com/setup_20.x — Node.js 20 LTS \"Iron\" (recommended)\u001b[m\n",
            "   * \u001b[32mhttps://deb.nodesource.com/setup_21.x — Node.js 21 \"Iron\" (current)\u001b[m\n",
            "   \n",
            "\n",
            "\n",
            "  Please see \u001b[1mhttps://github.com/nodejs/Release\u001b[m for details about which\n",
            "  version may be appropriate for you.\n",
            "\n",
            "  The \u001b[32m\u001b[1mNodeSource\u001b[m Node.js distributions repository contains\n",
            "  information both about supported versions of Node.js and supported Linux\n",
            "  distributions. To learn more about usage, see the repository:\n",
            "   \u001b[4m\u001b[1mhttps://github.com/nodesource/distributions\u001b[m\n",
            "\n",
            "\u001b[31m================================================================================\u001b[m\n",
            "\u001b[31m================================================================================\u001b[m\n",
            "\n",
            "Continuing in 10 seconds ...\n",
            "\n",
            "\u001b[38;5;79m2025-08-10 09:17:20 - Installing pre-requisites\u001b[0m\n",
            "Hit:1 https://cloud.r-project.org/bin/linux/ubuntu jammy-cran40/ InRelease\n",
            "Hit:2 https://developer.download.nvidia.com/compute/cuda/repos/ubuntu2204/x86_64  InRelease\n",
            "Hit:3 https://deb.nodesource.com/node_16.x nodistro InRelease\n",
            "Hit:4 http://security.ubuntu.com/ubuntu jammy-security InRelease\n",
            "Hit:5 http://archive.ubuntu.com/ubuntu jammy InRelease\n",
            "Hit:6 http://archive.ubuntu.com/ubuntu jammy-updates InRelease\n",
            "Hit:7 https://ppa.launchpadcontent.net/deadsnakes/ppa/ubuntu jammy InRelease\n",
            "Hit:8 http://archive.ubuntu.com/ubuntu jammy-backports InRelease\n",
            "Hit:9 https://ppa.launchpadcontent.net/graphics-drivers/ppa/ubuntu jammy InRelease\n",
            "Hit:10 https://ppa.launchpadcontent.net/ubuntugis/ppa/ubuntu jammy InRelease\n",
            "Hit:11 https://r2u.stat.illinois.edu/ubuntu jammy InRelease\n",
            "Reading package lists... Done\n",
            "W: Skipping acquire of configured file 'main/source/Sources' as repository 'https://r2u.stat.illinois.edu/ubuntu jammy InRelease' does not seem to provide it (sources.list entry misspelt?)\n",
            "Reading package lists... Done\n",
            "Building dependency tree... Done\n",
            "Reading state information... Done\n",
            "ca-certificates is already the newest version (20240203~22.04.1).\n",
            "curl is already the newest version (7.81.0-1ubuntu1.20).\n",
            "gnupg is already the newest version (2.2.27-3ubuntu2.4).\n",
            "apt-transport-https is already the newest version (2.4.14).\n",
            "0 upgraded, 0 newly installed, 0 to remove and 35 not upgraded.\n",
            "Hit:1 https://cloud.r-project.org/bin/linux/ubuntu jammy-cran40/ InRelease\n",
            "Hit:2 https://developer.download.nvidia.com/compute/cuda/repos/ubuntu2204/x86_64  InRelease\n",
            "Hit:3 https://deb.nodesource.com/node_16.x nodistro InRelease\n",
            "Hit:4 http://security.ubuntu.com/ubuntu jammy-security InRelease\n",
            "Hit:5 http://archive.ubuntu.com/ubuntu jammy InRelease\n",
            "Hit:6 http://archive.ubuntu.com/ubuntu jammy-updates InRelease\n",
            "Hit:7 https://ppa.launchpadcontent.net/deadsnakes/ppa/ubuntu jammy InRelease\n",
            "Hit:8 http://archive.ubuntu.com/ubuntu jammy-backports InRelease\n",
            "Hit:9 https://ppa.launchpadcontent.net/graphics-drivers/ppa/ubuntu jammy InRelease\n",
            "Hit:10 https://r2u.stat.illinois.edu/ubuntu jammy InRelease\n",
            "Hit:11 https://ppa.launchpadcontent.net/ubuntugis/ppa/ubuntu jammy InRelease\n",
            "Reading package lists... Done\n",
            "W: Skipping acquire of configured file 'main/source/Sources' as repository 'https://r2u.stat.illinois.edu/ubuntu jammy InRelease' does not seem to provide it (sources.list entry misspelt?)\n",
            "\u001b[1;32m2025-08-10 09:17:28 - Repository configured successfully. To install Node.js, run: apt-get install nodejs -y\u001b[0m\n",
            "Reading package lists... Done\n",
            "Building dependency tree... Done\n",
            "Reading state information... Done\n",
            "nodejs is already the newest version (16.20.2-1nodesource1).\n",
            "0 upgraded, 0 newly installed, 0 to remove and 35 not upgraded.\n"
          ]
        }
      ],
      "source": [
        "import os\n",
        "DEVELOPMENT_MODE = False\n",
        "# Detect if we're running in Google Colab\n",
        "try:\n",
        "    import google.colab\n",
        "    IN_COLAB = True\n",
        "    print(\"Running as a Colab notebook\")\n",
        "except:\n",
        "    IN_COLAB = False\n",
        "\n",
        "# Install if in Colab\n",
        "if IN_COLAB:\n",
        "    %pip install transformer_lens\n",
        "    %pip install circuitsvis\n",
        "    # Install a faster Node version\n",
        "    !curl -fsSL https://deb.nodesource.com/setup_16.x | sudo -E bash -; sudo apt-get install -y nodejs  # noqa\n",
        "\n",
        "# Hot reload in development mode & not running on the CD\n",
        "if not IN_COLAB:\n",
        "    from IPython import get_ipython\n",
        "    ip = get_ipython()\n",
        "    if not ip.extension_manager.loaded:\n",
        "        ip.extension_manager.load('autoreload')\n",
        "        %autoreload 2\n",
        "\n",
        "IN_GITHUB = os.getenv(\"GITHUB_ACTIONS\") == \"true\"\n"
      ]
    },
    {
      "cell_type": "code",
      "execution_count": 3,
      "metadata": {
        "id": "FH9ej8QYOYki",
        "outputId": "8a50c82a-8b78-4685-f580-904ae05b74d0",
        "colab": {
          "base_uri": "https://localhost:8080/"
        }
      },
      "outputs": [
        {
          "output_type": "stream",
          "name": "stdout",
          "text": [
            "Using renderer: colab\n"
          ]
        }
      ],
      "source": [
        "# Plotly needs a different renderer for VSCode/Notebooks vs Colab argh\n",
        "import plotly.io as pio\n",
        "if IN_COLAB or not DEVELOPMENT_MODE:\n",
        "    pio.renderers.default = \"colab\"\n",
        "else:\n",
        "    pio.renderers.default = \"notebook_connected\"\n",
        "print(f\"Using renderer: {pio.renderers.default}\")"
      ]
    },
    {
      "cell_type": "code",
      "execution_count": 4,
      "metadata": {
        "id": "syH8m5wBOYkj",
        "outputId": "6d3db932-2194-40d3-d0f8-d4b1e9066c97",
        "colab": {
          "base_uri": "https://localhost:8080/",
          "height": 64
        }
      },
      "outputs": [
        {
          "output_type": "execute_result",
          "data": {
            "text/plain": [
              "<circuitsvis.utils.render.RenderedHTML at 0x7dbc687fffd0>"
            ],
            "text/html": [
              "<div id=\"circuits-vis-59bbcbd7-febe\" style=\"margin: 15px 0;\"/>\n",
              "    <script crossorigin type=\"module\">\n",
              "    import { render, Hello } from \"https://unpkg.com/circuitsvis@1.43.3/dist/cdn/esm.js\";\n",
              "    render(\n",
              "      \"circuits-vis-59bbcbd7-febe\",\n",
              "      Hello,\n",
              "      {\"name\": \"Neel\"}\n",
              "    )\n",
              "    </script>"
            ]
          },
          "metadata": {},
          "execution_count": 4
        }
      ],
      "source": [
        "import circuitsvis as cv\n",
        "# Testing that the library works\n",
        "cv.examples.hello(\"Neel\")"
      ]
    },
    {
      "cell_type": "code",
      "execution_count": 151,
      "metadata": {
        "id": "x7tGSazwOYkk"
      },
      "outputs": [],
      "source": [
        "# Import stuff\n",
        "import torch\n",
        "import torch.nn as nn\n",
        "import torch.nn.functional as F\n",
        "import einops\n",
        "from fancy_einsum import einsum\n",
        "import tqdm.auto as tqdm\n",
        "import plotly.express as px\n",
        "\n",
        "from jaxtyping import Float\n",
        "from functools import partial"
      ]
    },
    {
      "cell_type": "code",
      "execution_count": 6,
      "metadata": {
        "id": "bDPU2gWsOYkl"
      },
      "outputs": [],
      "source": [
        "# import transformer_lens\n",
        "import transformer_lens.utils as utils\n",
        "from transformer_lens.hook_points import (\n",
        "    HookPoint,\n",
        ")  # Hooking utilities\n",
        "from transformer_lens import HookedTransformer, FactoredMatrix"
      ]
    },
    {
      "cell_type": "markdown",
      "metadata": {
        "id": "7ZvBlnfpOYkm"
      },
      "source": [
        "We turn automatic differentiation off, to save GPU memory, as this notebook focuses on model inference not model training."
      ]
    },
    {
      "cell_type": "code",
      "execution_count": 7,
      "metadata": {
        "id": "5YqLVwmEOYkm",
        "outputId": "6eb11116-b53f-4171-a3cb-a2b3842633ab",
        "colab": {
          "base_uri": "https://localhost:8080/"
        }
      },
      "outputs": [
        {
          "output_type": "execute_result",
          "data": {
            "text/plain": [
              "<torch.autograd.grad_mode.set_grad_enabled at 0x7dbbc99fef90>"
            ]
          },
          "metadata": {},
          "execution_count": 7
        }
      ],
      "source": [
        "torch.set_grad_enabled(False)"
      ]
    },
    {
      "cell_type": "markdown",
      "metadata": {
        "id": "uIMLmztwOYkm"
      },
      "source": [
        "Plotting helper functions:"
      ]
    },
    {
      "cell_type": "code",
      "execution_count": 8,
      "metadata": {
        "id": "4UzaYuwDOYkn"
      },
      "outputs": [],
      "source": [
        "def imshow(tensor, renderer=None, xaxis=\"\", yaxis=\"\", **kwargs):\n",
        "    px.imshow(utils.to_numpy(tensor), color_continuous_midpoint=0.0, color_continuous_scale=\"RdBu\", labels={\"x\":xaxis, \"y\":yaxis}, **kwargs).show(renderer)\n",
        "\n",
        "def line(tensor, renderer=None, xaxis=\"\", yaxis=\"\", **kwargs):\n",
        "    px.line(utils.to_numpy(tensor), labels={\"x\":xaxis, \"y\":yaxis}, **kwargs).show(renderer)\n",
        "\n",
        "def scatter(x, y, xaxis=\"\", yaxis=\"\", caxis=\"\", renderer=None, **kwargs):\n",
        "    x = utils.to_numpy(x)\n",
        "    y = utils.to_numpy(y)\n",
        "    px.scatter(y=y, x=x, labels={\"x\":xaxis, \"y\":yaxis, \"color\":caxis}, **kwargs).show(renderer)"
      ]
    },
    {
      "cell_type": "markdown",
      "metadata": {
        "id": "NjaQT39fOYkn"
      },
      "source": [
        "# Introduction"
      ]
    },
    {
      "cell_type": "markdown",
      "metadata": {
        "id": "G6iG2f0GOYkn"
      },
      "source": [
        "This is a demo notebook for [TransformerLens](https://github.com/TransformerLensOrg/TransformerLens), **a library I ([Neel Nanda](https://neelnanda.io)) wrote for doing [mechanistic interpretability](https://distill.pub/2020/circuits/zoom-in/) of GPT-2 Style language models.** The goal of mechanistic interpretability is to take a trained model and reverse engineer the algorithms the model learned during training from its weights. It is a fact about the world today that we have computer programs that can essentially speak English at a human level (GPT-3, PaLM, etc), yet we have no idea how they work nor how to write one ourselves. This offends me greatly, and I would like to solve this! Mechanistic interpretability is a very young and small field, and there are a *lot* of open problems - if you would like to help, please try working on one! **If you want to skill up, check out [my guide to getting started](https://neelnanda.io/getting-started), and if you want to jump into an open problem check out my sequence [200 Concrete Open Problems in Mechanistic Interpretability](https://neelnanda.io/concrete-open-problems).**\n",
        "\n",
        "I wrote this library because after I left the Anthropic interpretability team and started doing independent research, I got extremely frustrated by the state of open source tooling. There's a lot of excellent infrastructure like HuggingFace and DeepSpeed to *use* or *train* models, but very little to dig into their internals and reverse engineer how they work. **This library tries to solve that**, and to make it easy to get into the field even if you don't work at an industry org with real infrastructure! The core features were heavily inspired by [Anthropic's excellent Garcon tool](https://transformer-circuits.pub/2021/garcon/index.html). Credit to Nelson Elhage and Chris Olah for building Garcon and showing me the value of good infrastructure for accelerating exploratory research!\n",
        "\n",
        "The core design principle I've followed is to enable exploratory analysis - one of the most fun parts of mechanistic interpretability compared to normal ML is the extremely short feedback loops! The point of this library is to keep the gap between having an experiment idea and seeing the results as small as possible, to make it easy for **research to feel like play** and to enter a flow state. This notebook demonstrates how the library works and how to use it, but if you want to see how well it works for exploratory research, check out [my notebook analysing Indirect Objection Identification](https://neelnanda.io/exploratory-analysis-demo) or [my recording of myself doing research](https://www.youtube.com/watch?v=yo4QvDn-vsU)!"
      ]
    },
    {
      "cell_type": "markdown",
      "metadata": {
        "id": "gkkrnUVGOYko"
      },
      "source": [
        "## Loading and Running Models\n",
        "\n",
        "TransformerLens comes loaded with >40 open source GPT-style models. You can load any of them in with `HookedTransformer.from_pretrained(MODEL_NAME)`. For this demo notebook we'll look at GPT-2 Small, an 80M parameter model, see the Available Models section for info on the rest."
      ]
    },
    {
      "cell_type": "code",
      "execution_count": 9,
      "metadata": {
        "id": "AnyF6uSCOYko"
      },
      "outputs": [],
      "source": [
        "device = utils.get_device()"
      ]
    },
    {
      "cell_type": "code",
      "execution_count": 65,
      "metadata": {
        "id": "D9bbOmD9OYko",
        "outputId": "e473e1d1-9768-4efe-bb05-94ac1a46fc7e",
        "colab": {
          "base_uri": "https://localhost:8080/",
          "height": 258,
          "referenced_widgets": [
            "860fe6ce8a2d486587dbcf11ef05c66c",
            "7d329281a2af44188cec265f1ed927ed",
            "c8b2d343edd847e4bd2bd505683cd177",
            "f31f22a20d3d4aec96a5c66f95298bff",
            "8460fdc8bca343f78ed4651585522cea",
            "86507e7d77f84819814d2ee6ad2085a8",
            "5f99e810e8af47b7941e999cf7ce6203",
            "249f69626bcc42368c854de727e8403a",
            "dc278d900e68415fa2172f0b397becd9",
            "a9417e2f59e44313a80f4849c57cb868",
            "af50ed242121424082bfbda64f0a8e54",
            "78697861d1534b3ca927d049d493e650",
            "434d788221314be89fe731e0e7247533",
            "fb5c6f69dc1346a0b231469e8bb1ab64",
            "db2871c168a1452daebe969ec6cd81e5",
            "9ccbfb8488174c8997c17363e88596d6",
            "b622e44f2413401b9846636346ad894b",
            "a26aae32ae5f44f39a346d65f97ec36e",
            "9e84b8e7c7244b1bbbb4a1ac92b81a6d",
            "2cdca141867f447889d598c4ff1f19e5",
            "201fb8e4dee64a64948410fa0cdc1580",
            "de62aca7fe3c431a9985ae1bb35396d4",
            "58258f25460f4a3c919168679c5d2ab0",
            "d9b11208b11149ec959676a6bcde1097",
            "051b4f2ac6d545a58c96b8e4e230db47",
            "c4a6a9c66da04ef8b219015c047f67f3",
            "6681190df6c844028914ec239f4a1a2d",
            "5b04f3ba87f5420a96312be99c3189f6",
            "d58eace3edb64b04b28d10ba2544ddb5",
            "fb9d0e8d829f43bfb450712bae99269c",
            "a97ca614fb0e44b78605f74393ccd76b",
            "dece4fe0c4b043469f46d0d313ad4d51",
            "076544d260f5406a9d599f4da399e3fa",
            "85c4da4cc945462d8bf4a618582a039b",
            "18972d7e211645a78a9d287929d81f5d",
            "c038f52e90fb428db5c1469b48e0a39d",
            "0f3231c9cc284fbb85cba3358eb66361",
            "166ed80510e6491f85318f8d34b78e5a",
            "fb5f54bce91e458a9680a44821154589",
            "643a6d06eebe4b57a94335f73fd12c4a",
            "1c65366e67d041abb7c83be4a580ac5e",
            "43b6c2ca61704ff78bd7581db161cbc3",
            "a50ed627f18444408bbd6cb869d496a3",
            "7a5320da3f0e4c889c30e796ee8aed4d",
            "551b5cdcff884a939b8f19df1c45a5a5",
            "7690f660533346c79c8f1f232b95d96e",
            "ffa3b7a6ab7e409197f9e837b4da06a1",
            "3cfb21583a6648c3b6422a0a95dca07c",
            "c878707a60854cbca48615ff6c867968",
            "166483751ff14bf984d5cfcb58691fca",
            "213bb43275c44f3abbc804c9c6b5156e",
            "0321eba8ed0c4c549bbe28fe14f56e8b",
            "d26b550253f9412d8ac9accce72e2e84",
            "f85f4a59b0c948428047a2f190ce8fde",
            "55231f2d68134b6b929dd5dd82c9acc5",
            "7f34a4e98fec4cb4bd4f789986007208",
            "8837ea84b5aa42efa6b9a9a471b5d721",
            "90f103a95c3e4865bc4004c26df3f7cc",
            "a5877a5e7abe47e5bb34799ac38e7ffb",
            "015c3b2892594a8bbf3b21104541551b",
            "3e6a4fff7292466788b04cc88e80126e",
            "1249645fc9144d13b070312629487984",
            "675890b261f046c2ae4f9b7fed7c968a",
            "2aad1c4367c845b7896be5770d3de334",
            "cc7e9d127db04b538da3d0245f414a71",
            "a1a9d4ef11af4c1fa8885b7747cce48b",
            "4b1e364a00f341edae24b88b6ae236cd",
            "7f69509f4bc7410a93e38e0ae1102b4f",
            "17bc8aedea0a4dadb604edb853df3e58",
            "226fe0019d904f789b86f1ec8703ddab",
            "2df1563d7ee04a28b4069fcca57d4372",
            "9071e9fce73d40d7a1da3da8cc5d4fdd",
            "d137ded3f98e488b83d4dacfbc934bb7",
            "787b3f35d7344bc0982029b9b4d9bd31",
            "4323cc3fd3ce45c1a3511f8e058bbc67",
            "3165adae46b14183879dbc0abe84c27f",
            "ef8c08bb21e942daae69b7ae0d6bfbd7"
          ]
        }
      },
      "outputs": [
        {
          "output_type": "display_data",
          "data": {
            "text/plain": [
              "config.json:   0%|          | 0.00/718 [00:00<?, ?B/s]"
            ],
            "application/vnd.jupyter.widget-view+json": {
              "version_major": 2,
              "version_minor": 0,
              "model_id": "860fe6ce8a2d486587dbcf11ef05c66c"
            }
          },
          "metadata": {}
        },
        {
          "output_type": "display_data",
          "data": {
            "text/plain": [
              "model.safetensors:   0%|          | 0.00/1.52G [00:00<?, ?B/s]"
            ],
            "application/vnd.jupyter.widget-view+json": {
              "version_major": 2,
              "version_minor": 0,
              "model_id": "78697861d1534b3ca927d049d493e650"
            }
          },
          "metadata": {}
        },
        {
          "output_type": "display_data",
          "data": {
            "text/plain": [
              "generation_config.json:   0%|          | 0.00/124 [00:00<?, ?B/s]"
            ],
            "application/vnd.jupyter.widget-view+json": {
              "version_major": 2,
              "version_minor": 0,
              "model_id": "58258f25460f4a3c919168679c5d2ab0"
            }
          },
          "metadata": {}
        },
        {
          "output_type": "display_data",
          "data": {
            "text/plain": [
              "tokenizer_config.json:   0%|          | 0.00/26.0 [00:00<?, ?B/s]"
            ],
            "application/vnd.jupyter.widget-view+json": {
              "version_major": 2,
              "version_minor": 0,
              "model_id": "85c4da4cc945462d8bf4a618582a039b"
            }
          },
          "metadata": {}
        },
        {
          "output_type": "display_data",
          "data": {
            "text/plain": [
              "vocab.json:   0%|          | 0.00/1.04M [00:00<?, ?B/s]"
            ],
            "application/vnd.jupyter.widget-view+json": {
              "version_major": 2,
              "version_minor": 0,
              "model_id": "551b5cdcff884a939b8f19df1c45a5a5"
            }
          },
          "metadata": {}
        },
        {
          "output_type": "display_data",
          "data": {
            "text/plain": [
              "merges.txt:   0%|          | 0.00/456k [00:00<?, ?B/s]"
            ],
            "application/vnd.jupyter.widget-view+json": {
              "version_major": 2,
              "version_minor": 0,
              "model_id": "7f34a4e98fec4cb4bd4f789986007208"
            }
          },
          "metadata": {}
        },
        {
          "output_type": "display_data",
          "data": {
            "text/plain": [
              "tokenizer.json:   0%|          | 0.00/1.36M [00:00<?, ?B/s]"
            ],
            "application/vnd.jupyter.widget-view+json": {
              "version_major": 2,
              "version_minor": 0,
              "model_id": "4b1e364a00f341edae24b88b6ae236cd"
            }
          },
          "metadata": {}
        },
        {
          "output_type": "stream",
          "name": "stdout",
          "text": [
            "Loaded pretrained model gpt2-medium into HookedTransformer\n"
          ]
        }
      ],
      "source": [
        "# NBVAL_IGNORE_OUTPUT\n",
        "model = HookedTransformer.from_pretrained(\"gpt2-medium\", device=device)"
      ]
    },
    {
      "cell_type": "markdown",
      "metadata": {
        "id": "VEOI6m9UOYko"
      },
      "source": [
        "To try the model out, let's find the loss on this text! Models can be run on a single string or a tensor of tokens (shape: [batch, position], all integers), and the possible return types are:\n",
        "* \"logits\" (shape [batch, position, d_vocab], floats),\n",
        "* \"loss\" (the cross-entropy loss when predicting the next token),\n",
        "* \"both\" (a tuple of (logits, loss))\n",
        "* None (run the model, but don't calculate the logits - this is faster when we only want to use intermediate activations)"
      ]
    },
    {
      "cell_type": "code",
      "source": [
        "print(type(model))\n",
        "print(model)"
      ],
      "metadata": {
        "id": "JEpBkzeqeeUw",
        "outputId": "95fefe97-cf54-4916-8b72-5404afaaa298",
        "colab": {
          "base_uri": "https://localhost:8080/"
        }
      },
      "execution_count": 107,
      "outputs": [
        {
          "output_type": "stream",
          "name": "stdout",
          "text": [
            "<class 'transformer_lens.HookedTransformer.HookedTransformer'>\n",
            "HookedTransformer(\n",
            "  (embed): Embed()\n",
            "  (hook_embed): HookPoint()\n",
            "  (pos_embed): PosEmbed()\n",
            "  (hook_pos_embed): HookPoint()\n",
            "  (blocks): ModuleList(\n",
            "    (0-23): 24 x TransformerBlock(\n",
            "      (ln1): LayerNormPre(\n",
            "        (hook_scale): HookPoint()\n",
            "        (hook_normalized): HookPoint()\n",
            "      )\n",
            "      (ln2): LayerNormPre(\n",
            "        (hook_scale): HookPoint()\n",
            "        (hook_normalized): HookPoint()\n",
            "      )\n",
            "      (attn): Attention(\n",
            "        (hook_k): HookPoint()\n",
            "        (hook_q): HookPoint()\n",
            "        (hook_v): HookPoint()\n",
            "        (hook_z): HookPoint()\n",
            "        (hook_attn_scores): HookPoint()\n",
            "        (hook_pattern): HookPoint()\n",
            "        (hook_result): HookPoint()\n",
            "      )\n",
            "      (mlp): MLP(\n",
            "        (hook_pre): HookPoint()\n",
            "        (hook_post): HookPoint()\n",
            "      )\n",
            "      (hook_attn_in): HookPoint()\n",
            "      (hook_q_input): HookPoint()\n",
            "      (hook_k_input): HookPoint()\n",
            "      (hook_v_input): HookPoint()\n",
            "      (hook_mlp_in): HookPoint()\n",
            "      (hook_attn_out): HookPoint()\n",
            "      (hook_mlp_out): HookPoint()\n",
            "      (hook_resid_pre): HookPoint()\n",
            "      (hook_resid_mid): HookPoint()\n",
            "      (hook_resid_post): HookPoint()\n",
            "    )\n",
            "  )\n",
            "  (ln_final): LayerNormPre(\n",
            "    (hook_scale): HookPoint()\n",
            "    (hook_normalized): HookPoint()\n",
            "  )\n",
            "  (unembed): Unembed()\n",
            ")\n"
          ]
        }
      ]
    },
    {
      "cell_type": "code",
      "execution_count": 99,
      "metadata": {
        "id": "4w9VFr68OYko",
        "outputId": "5c03942a-ff94-4d51-e011-640c7b93bc83",
        "colab": {
          "base_uri": "https://localhost:8080/"
        }
      },
      "outputs": [
        {
          "output_type": "stream",
          "name": "stdout",
          "text": [
            "torch.Size([1, 1, 50257])\n"
          ]
        }
      ],
      "source": [
        "model_description_text = \"hello\"\n",
        "logits = model(model_description_text, return_type=\"logits\",prepend_bos=False)\n",
        "print(logits.shape)"
      ]
    },
    {
      "cell_type": "markdown",
      "metadata": {
        "id": "kIUCzOdROYkp"
      },
      "source": [
        "## Caching all Activations\n",
        "\n",
        "The first basic operation when doing mechanistic interpretability is to break open the black box of the model and look at all of the internal activations of a model. This can be done with `logits, cache = model.run_with_cache(tokens)`. Let's try this out on the first line of the abstract of the GPT-2 paper.\n",
        "\n",
        "<details><summary>On `remove_batch_dim`</summary>\n",
        "\n",
        "Every activation inside the model begins with a batch dimension. Here, because we only entered a single batch dimension, that dimension is always length 1 and kinda annoying, so passing in the `remove_batch_dim=True` keyword removes it. `gpt2_cache_no_batch_dim = gpt2_cache.remove_batch_dim()` would have achieved the same effect.\n",
        "</details?>"
      ]
    },
    {
      "cell_type": "code",
      "execution_count": 170,
      "metadata": {
        "id": "lSBUBM4COYkp",
        "outputId": "3d785706-a7d9-45b4-9239-d45f935c3aa2",
        "colab": {
          "base_uri": "https://localhost:8080/"
        }
      },
      "outputs": [
        {
          "output_type": "stream",
          "name": "stdout",
          "text": [
            "cuda:0\n",
            "torch.Size([1, 41, 50257])\n",
            "['Nat', 'alia', ' sold', ' clips', ' to', ' 42', ' of', ' her', ' friends', ' in', ' April', ',', ' and', ' then', ' she', ' sold', ' half', ' as', ' many', ' clips', ' in', ' May', '.', ' How', ' many', ' clips', ' did', ' Nat', 'alia', ' sell', ' altogether', ' in', ' April', ' and', ' May', '?', ' She', ' sold', ' 72', ' clips', '.']\n",
            "38\n"
          ]
        }
      ],
      "source": [
        "gpt2_text = \"Natalia sold clips to 42 of her friends in April, and then she sold half as many clips in May. How many clips did Natalia sell altogether in April and May? She sold 72 clips.\"\n",
        "gpt2_tokens = model.to_tokens(gpt2_text,prepend_bos=False)\n",
        "print(gpt2_tokens.device)\n",
        "gpt2_logits, gpt2_cache = model.run_with_cache(gpt2_tokens, remove_batch_dim=True)\n",
        "print(gpt2_logits.shape)\n",
        "\n",
        "tokens_in_human_readable_format=model.to_str_tokens(gpt2_tokens)\n",
        "print(tokens_in_human_readable_format)\n",
        "print((tokens_in_human_readable_format).index(\" 72\"))\n",
        "\n",
        "def find_loss_at_pos(pos,logits,target_token_id):\n",
        "  print(logits.shape)\n",
        "  print(target_token_id.shape)\n",
        "  loss=F.cross_entropy(logits.unsqueeze(0).unsqueeze(0),target_token_id.unsqueeze(0))\n",
        "  return loss.item()"
      ]
    },
    {
      "cell_type": "markdown",
      "metadata": {
        "id": "YIeSkOFSOYkp"
      },
      "source": [
        "Let's visualize the attention pattern of all the heads in layer 0, using [Alan Cooney's CircuitsVis library](https://github.com/alan-cooney/CircuitsVis) (based on [Anthropic's PySvelte library](https://github.com/anthropics/PySvelte)).\n",
        "\n",
        "We look this the attention pattern in `gpt2_cache`, an `ActivationCache` object, by entering in the name of the activation, followed by the layer index (here, the activation is called \"attn\" and the layer index is 0). This has shape [head_index, destination_position, source_position], and we use the `model.to_str_tokens` method to convert the text to a list of tokens as strings, since there is an attention weight between each pair of tokens.\n",
        "\n",
        "This visualization is interactive! Try hovering over a token or head, and click to lock. The grid on the top left and for each head is the attention pattern as a destination position by source position grid. It's lower triangular because GPT-2 has **causal attention**, attention can only look backwards, so information can only move forwards in the network.\n",
        "\n",
        "See the ActivationCache section for more on what `gpt2_cache` can do."
      ]
    },
    {
      "cell_type": "code",
      "execution_count": 131,
      "metadata": {
        "id": "UoGyUlDOOYkp",
        "outputId": "7432a790-10ed-42cd-c88b-e49a70a8ae70",
        "colab": {
          "base_uri": "https://localhost:8080/"
        }
      },
      "outputs": [
        {
          "output_type": "stream",
          "name": "stdout",
          "text": [
            "<class 'transformer_lens.ActivationCache.ActivationCache'>\n",
            "ActivationCache with keys ['hook_embed', 'hook_pos_embed', 'blocks.0.hook_resid_pre', 'blocks.0.ln1.hook_scale', 'blocks.0.ln1.hook_normalized', 'blocks.0.attn.hook_q', 'blocks.0.attn.hook_k', 'blocks.0.attn.hook_v', 'blocks.0.attn.hook_attn_scores', 'blocks.0.attn.hook_pattern', 'blocks.0.attn.hook_z', 'blocks.0.hook_attn_out', 'blocks.0.hook_resid_mid', 'blocks.0.ln2.hook_scale', 'blocks.0.ln2.hook_normalized', 'blocks.0.mlp.hook_pre', 'blocks.0.mlp.hook_post', 'blocks.0.hook_mlp_out', 'blocks.0.hook_resid_post', 'blocks.1.hook_resid_pre', 'blocks.1.ln1.hook_scale', 'blocks.1.ln1.hook_normalized', 'blocks.1.attn.hook_q', 'blocks.1.attn.hook_k', 'blocks.1.attn.hook_v', 'blocks.1.attn.hook_attn_scores', 'blocks.1.attn.hook_pattern', 'blocks.1.attn.hook_z', 'blocks.1.hook_attn_out', 'blocks.1.hook_resid_mid', 'blocks.1.ln2.hook_scale', 'blocks.1.ln2.hook_normalized', 'blocks.1.mlp.hook_pre', 'blocks.1.mlp.hook_post', 'blocks.1.hook_mlp_out', 'blocks.1.hook_resid_post', 'blocks.2.hook_resid_pre', 'blocks.2.ln1.hook_scale', 'blocks.2.ln1.hook_normalized', 'blocks.2.attn.hook_q', 'blocks.2.attn.hook_k', 'blocks.2.attn.hook_v', 'blocks.2.attn.hook_attn_scores', 'blocks.2.attn.hook_pattern', 'blocks.2.attn.hook_z', 'blocks.2.hook_attn_out', 'blocks.2.hook_resid_mid', 'blocks.2.ln2.hook_scale', 'blocks.2.ln2.hook_normalized', 'blocks.2.mlp.hook_pre', 'blocks.2.mlp.hook_post', 'blocks.2.hook_mlp_out', 'blocks.2.hook_resid_post', 'blocks.3.hook_resid_pre', 'blocks.3.ln1.hook_scale', 'blocks.3.ln1.hook_normalized', 'blocks.3.attn.hook_q', 'blocks.3.attn.hook_k', 'blocks.3.attn.hook_v', 'blocks.3.attn.hook_attn_scores', 'blocks.3.attn.hook_pattern', 'blocks.3.attn.hook_z', 'blocks.3.hook_attn_out', 'blocks.3.hook_resid_mid', 'blocks.3.ln2.hook_scale', 'blocks.3.ln2.hook_normalized', 'blocks.3.mlp.hook_pre', 'blocks.3.mlp.hook_post', 'blocks.3.hook_mlp_out', 'blocks.3.hook_resid_post', 'blocks.4.hook_resid_pre', 'blocks.4.ln1.hook_scale', 'blocks.4.ln1.hook_normalized', 'blocks.4.attn.hook_q', 'blocks.4.attn.hook_k', 'blocks.4.attn.hook_v', 'blocks.4.attn.hook_attn_scores', 'blocks.4.attn.hook_pattern', 'blocks.4.attn.hook_z', 'blocks.4.hook_attn_out', 'blocks.4.hook_resid_mid', 'blocks.4.ln2.hook_scale', 'blocks.4.ln2.hook_normalized', 'blocks.4.mlp.hook_pre', 'blocks.4.mlp.hook_post', 'blocks.4.hook_mlp_out', 'blocks.4.hook_resid_post', 'blocks.5.hook_resid_pre', 'blocks.5.ln1.hook_scale', 'blocks.5.ln1.hook_normalized', 'blocks.5.attn.hook_q', 'blocks.5.attn.hook_k', 'blocks.5.attn.hook_v', 'blocks.5.attn.hook_attn_scores', 'blocks.5.attn.hook_pattern', 'blocks.5.attn.hook_z', 'blocks.5.hook_attn_out', 'blocks.5.hook_resid_mid', 'blocks.5.ln2.hook_scale', 'blocks.5.ln2.hook_normalized', 'blocks.5.mlp.hook_pre', 'blocks.5.mlp.hook_post', 'blocks.5.hook_mlp_out', 'blocks.5.hook_resid_post', 'blocks.6.hook_resid_pre', 'blocks.6.ln1.hook_scale', 'blocks.6.ln1.hook_normalized', 'blocks.6.attn.hook_q', 'blocks.6.attn.hook_k', 'blocks.6.attn.hook_v', 'blocks.6.attn.hook_attn_scores', 'blocks.6.attn.hook_pattern', 'blocks.6.attn.hook_z', 'blocks.6.hook_attn_out', 'blocks.6.hook_resid_mid', 'blocks.6.ln2.hook_scale', 'blocks.6.ln2.hook_normalized', 'blocks.6.mlp.hook_pre', 'blocks.6.mlp.hook_post', 'blocks.6.hook_mlp_out', 'blocks.6.hook_resid_post', 'blocks.7.hook_resid_pre', 'blocks.7.ln1.hook_scale', 'blocks.7.ln1.hook_normalized', 'blocks.7.attn.hook_q', 'blocks.7.attn.hook_k', 'blocks.7.attn.hook_v', 'blocks.7.attn.hook_attn_scores', 'blocks.7.attn.hook_pattern', 'blocks.7.attn.hook_z', 'blocks.7.hook_attn_out', 'blocks.7.hook_resid_mid', 'blocks.7.ln2.hook_scale', 'blocks.7.ln2.hook_normalized', 'blocks.7.mlp.hook_pre', 'blocks.7.mlp.hook_post', 'blocks.7.hook_mlp_out', 'blocks.7.hook_resid_post', 'blocks.8.hook_resid_pre', 'blocks.8.ln1.hook_scale', 'blocks.8.ln1.hook_normalized', 'blocks.8.attn.hook_q', 'blocks.8.attn.hook_k', 'blocks.8.attn.hook_v', 'blocks.8.attn.hook_attn_scores', 'blocks.8.attn.hook_pattern', 'blocks.8.attn.hook_z', 'blocks.8.hook_attn_out', 'blocks.8.hook_resid_mid', 'blocks.8.ln2.hook_scale', 'blocks.8.ln2.hook_normalized', 'blocks.8.mlp.hook_pre', 'blocks.8.mlp.hook_post', 'blocks.8.hook_mlp_out', 'blocks.8.hook_resid_post', 'blocks.9.hook_resid_pre', 'blocks.9.ln1.hook_scale', 'blocks.9.ln1.hook_normalized', 'blocks.9.attn.hook_q', 'blocks.9.attn.hook_k', 'blocks.9.attn.hook_v', 'blocks.9.attn.hook_attn_scores', 'blocks.9.attn.hook_pattern', 'blocks.9.attn.hook_z', 'blocks.9.hook_attn_out', 'blocks.9.hook_resid_mid', 'blocks.9.ln2.hook_scale', 'blocks.9.ln2.hook_normalized', 'blocks.9.mlp.hook_pre', 'blocks.9.mlp.hook_post', 'blocks.9.hook_mlp_out', 'blocks.9.hook_resid_post', 'blocks.10.hook_resid_pre', 'blocks.10.ln1.hook_scale', 'blocks.10.ln1.hook_normalized', 'blocks.10.attn.hook_q', 'blocks.10.attn.hook_k', 'blocks.10.attn.hook_v', 'blocks.10.attn.hook_attn_scores', 'blocks.10.attn.hook_pattern', 'blocks.10.attn.hook_z', 'blocks.10.hook_attn_out', 'blocks.10.hook_resid_mid', 'blocks.10.ln2.hook_scale', 'blocks.10.ln2.hook_normalized', 'blocks.10.mlp.hook_pre', 'blocks.10.mlp.hook_post', 'blocks.10.hook_mlp_out', 'blocks.10.hook_resid_post', 'blocks.11.hook_resid_pre', 'blocks.11.ln1.hook_scale', 'blocks.11.ln1.hook_normalized', 'blocks.11.attn.hook_q', 'blocks.11.attn.hook_k', 'blocks.11.attn.hook_v', 'blocks.11.attn.hook_attn_scores', 'blocks.11.attn.hook_pattern', 'blocks.11.attn.hook_z', 'blocks.11.hook_attn_out', 'blocks.11.hook_resid_mid', 'blocks.11.ln2.hook_scale', 'blocks.11.ln2.hook_normalized', 'blocks.11.mlp.hook_pre', 'blocks.11.mlp.hook_post', 'blocks.11.hook_mlp_out', 'blocks.11.hook_resid_post', 'blocks.12.hook_resid_pre', 'blocks.12.ln1.hook_scale', 'blocks.12.ln1.hook_normalized', 'blocks.12.attn.hook_q', 'blocks.12.attn.hook_k', 'blocks.12.attn.hook_v', 'blocks.12.attn.hook_attn_scores', 'blocks.12.attn.hook_pattern', 'blocks.12.attn.hook_z', 'blocks.12.hook_attn_out', 'blocks.12.hook_resid_mid', 'blocks.12.ln2.hook_scale', 'blocks.12.ln2.hook_normalized', 'blocks.12.mlp.hook_pre', 'blocks.12.mlp.hook_post', 'blocks.12.hook_mlp_out', 'blocks.12.hook_resid_post', 'blocks.13.hook_resid_pre', 'blocks.13.ln1.hook_scale', 'blocks.13.ln1.hook_normalized', 'blocks.13.attn.hook_q', 'blocks.13.attn.hook_k', 'blocks.13.attn.hook_v', 'blocks.13.attn.hook_attn_scores', 'blocks.13.attn.hook_pattern', 'blocks.13.attn.hook_z', 'blocks.13.hook_attn_out', 'blocks.13.hook_resid_mid', 'blocks.13.ln2.hook_scale', 'blocks.13.ln2.hook_normalized', 'blocks.13.mlp.hook_pre', 'blocks.13.mlp.hook_post', 'blocks.13.hook_mlp_out', 'blocks.13.hook_resid_post', 'blocks.14.hook_resid_pre', 'blocks.14.ln1.hook_scale', 'blocks.14.ln1.hook_normalized', 'blocks.14.attn.hook_q', 'blocks.14.attn.hook_k', 'blocks.14.attn.hook_v', 'blocks.14.attn.hook_attn_scores', 'blocks.14.attn.hook_pattern', 'blocks.14.attn.hook_z', 'blocks.14.hook_attn_out', 'blocks.14.hook_resid_mid', 'blocks.14.ln2.hook_scale', 'blocks.14.ln2.hook_normalized', 'blocks.14.mlp.hook_pre', 'blocks.14.mlp.hook_post', 'blocks.14.hook_mlp_out', 'blocks.14.hook_resid_post', 'blocks.15.hook_resid_pre', 'blocks.15.ln1.hook_scale', 'blocks.15.ln1.hook_normalized', 'blocks.15.attn.hook_q', 'blocks.15.attn.hook_k', 'blocks.15.attn.hook_v', 'blocks.15.attn.hook_attn_scores', 'blocks.15.attn.hook_pattern', 'blocks.15.attn.hook_z', 'blocks.15.hook_attn_out', 'blocks.15.hook_resid_mid', 'blocks.15.ln2.hook_scale', 'blocks.15.ln2.hook_normalized', 'blocks.15.mlp.hook_pre', 'blocks.15.mlp.hook_post', 'blocks.15.hook_mlp_out', 'blocks.15.hook_resid_post', 'blocks.16.hook_resid_pre', 'blocks.16.ln1.hook_scale', 'blocks.16.ln1.hook_normalized', 'blocks.16.attn.hook_q', 'blocks.16.attn.hook_k', 'blocks.16.attn.hook_v', 'blocks.16.attn.hook_attn_scores', 'blocks.16.attn.hook_pattern', 'blocks.16.attn.hook_z', 'blocks.16.hook_attn_out', 'blocks.16.hook_resid_mid', 'blocks.16.ln2.hook_scale', 'blocks.16.ln2.hook_normalized', 'blocks.16.mlp.hook_pre', 'blocks.16.mlp.hook_post', 'blocks.16.hook_mlp_out', 'blocks.16.hook_resid_post', 'blocks.17.hook_resid_pre', 'blocks.17.ln1.hook_scale', 'blocks.17.ln1.hook_normalized', 'blocks.17.attn.hook_q', 'blocks.17.attn.hook_k', 'blocks.17.attn.hook_v', 'blocks.17.attn.hook_attn_scores', 'blocks.17.attn.hook_pattern', 'blocks.17.attn.hook_z', 'blocks.17.hook_attn_out', 'blocks.17.hook_resid_mid', 'blocks.17.ln2.hook_scale', 'blocks.17.ln2.hook_normalized', 'blocks.17.mlp.hook_pre', 'blocks.17.mlp.hook_post', 'blocks.17.hook_mlp_out', 'blocks.17.hook_resid_post', 'blocks.18.hook_resid_pre', 'blocks.18.ln1.hook_scale', 'blocks.18.ln1.hook_normalized', 'blocks.18.attn.hook_q', 'blocks.18.attn.hook_k', 'blocks.18.attn.hook_v', 'blocks.18.attn.hook_attn_scores', 'blocks.18.attn.hook_pattern', 'blocks.18.attn.hook_z', 'blocks.18.hook_attn_out', 'blocks.18.hook_resid_mid', 'blocks.18.ln2.hook_scale', 'blocks.18.ln2.hook_normalized', 'blocks.18.mlp.hook_pre', 'blocks.18.mlp.hook_post', 'blocks.18.hook_mlp_out', 'blocks.18.hook_resid_post', 'blocks.19.hook_resid_pre', 'blocks.19.ln1.hook_scale', 'blocks.19.ln1.hook_normalized', 'blocks.19.attn.hook_q', 'blocks.19.attn.hook_k', 'blocks.19.attn.hook_v', 'blocks.19.attn.hook_attn_scores', 'blocks.19.attn.hook_pattern', 'blocks.19.attn.hook_z', 'blocks.19.hook_attn_out', 'blocks.19.hook_resid_mid', 'blocks.19.ln2.hook_scale', 'blocks.19.ln2.hook_normalized', 'blocks.19.mlp.hook_pre', 'blocks.19.mlp.hook_post', 'blocks.19.hook_mlp_out', 'blocks.19.hook_resid_post', 'blocks.20.hook_resid_pre', 'blocks.20.ln1.hook_scale', 'blocks.20.ln1.hook_normalized', 'blocks.20.attn.hook_q', 'blocks.20.attn.hook_k', 'blocks.20.attn.hook_v', 'blocks.20.attn.hook_attn_scores', 'blocks.20.attn.hook_pattern', 'blocks.20.attn.hook_z', 'blocks.20.hook_attn_out', 'blocks.20.hook_resid_mid', 'blocks.20.ln2.hook_scale', 'blocks.20.ln2.hook_normalized', 'blocks.20.mlp.hook_pre', 'blocks.20.mlp.hook_post', 'blocks.20.hook_mlp_out', 'blocks.20.hook_resid_post', 'blocks.21.hook_resid_pre', 'blocks.21.ln1.hook_scale', 'blocks.21.ln1.hook_normalized', 'blocks.21.attn.hook_q', 'blocks.21.attn.hook_k', 'blocks.21.attn.hook_v', 'blocks.21.attn.hook_attn_scores', 'blocks.21.attn.hook_pattern', 'blocks.21.attn.hook_z', 'blocks.21.hook_attn_out', 'blocks.21.hook_resid_mid', 'blocks.21.ln2.hook_scale', 'blocks.21.ln2.hook_normalized', 'blocks.21.mlp.hook_pre', 'blocks.21.mlp.hook_post', 'blocks.21.hook_mlp_out', 'blocks.21.hook_resid_post', 'blocks.22.hook_resid_pre', 'blocks.22.ln1.hook_scale', 'blocks.22.ln1.hook_normalized', 'blocks.22.attn.hook_q', 'blocks.22.attn.hook_k', 'blocks.22.attn.hook_v', 'blocks.22.attn.hook_attn_scores', 'blocks.22.attn.hook_pattern', 'blocks.22.attn.hook_z', 'blocks.22.hook_attn_out', 'blocks.22.hook_resid_mid', 'blocks.22.ln2.hook_scale', 'blocks.22.ln2.hook_normalized', 'blocks.22.mlp.hook_pre', 'blocks.22.mlp.hook_post', 'blocks.22.hook_mlp_out', 'blocks.22.hook_resid_post', 'blocks.23.hook_resid_pre', 'blocks.23.ln1.hook_scale', 'blocks.23.ln1.hook_normalized', 'blocks.23.attn.hook_q', 'blocks.23.attn.hook_k', 'blocks.23.attn.hook_v', 'blocks.23.attn.hook_attn_scores', 'blocks.23.attn.hook_pattern', 'blocks.23.attn.hook_z', 'blocks.23.hook_attn_out', 'blocks.23.hook_resid_mid', 'blocks.23.ln2.hook_scale', 'blocks.23.ln2.hook_normalized', 'blocks.23.mlp.hook_pre', 'blocks.23.mlp.hook_post', 'blocks.23.hook_mlp_out', 'blocks.23.hook_resid_post', 'ln_final.hook_scale', 'ln_final.hook_normalized']\n",
            "torch.Size([16, 41, 41])\n",
            "['Nat', 'alia', ' sold', ' clips', ' to', ' 42', ' of', ' her', ' friends', ' in', ' April', ',', ' and', ' then', ' she', ' sold', ' half', ' as', ' many', ' clips', ' in', ' May', '.', ' How', ' many', ' clips', ' did', ' Nat', 'alia', ' sell', ' altogether', ' in', ' April', ' and', ' May', '?', ' She', ' sold', ' 72', ' clips', '.']\n"
          ]
        }
      ],
      "source": [
        "print(type(gpt2_cache))\n",
        "print(gpt2_cache)\n",
        "attention_pattern = gpt2_cache[\"pattern\",0,\"mlp\"]\n",
        "# print(utils.get_act_name(\"mlp\",0))\n",
        "print(attention_pattern.shape) # number of heads in layer 0 * input seq length * input seq length\n",
        "gpt2_str_tokens = model.to_str_tokens(gpt2_text,prepend_bos=False)\n",
        "print(gpt2_str_tokens)"
      ]
    },
    {
      "cell_type": "code",
      "execution_count": 132,
      "metadata": {
        "id": "Y6ZEGv4jOYkq",
        "outputId": "83580632-30fd-4ea9-a46a-44b6a101f981",
        "colab": {
          "base_uri": "https://localhost:8080/",
          "height": 503
        }
      },
      "outputs": [
        {
          "output_type": "stream",
          "name": "stdout",
          "text": [
            "Layer 0 Head Attention Patterns:\n"
          ]
        },
        {
          "output_type": "execute_result",
          "data": {
            "text/plain": [
              "<circuitsvis.utils.render.RenderedHTML at 0x7dbbc9ceffd0>"
            ],
            "text/html": [
              "<div id=\"circuits-vis-dc2348fc-cc61\" style=\"margin: 15px 0;\"/>\n",
              "    <script crossorigin type=\"module\">\n",
              "    import { render, AttentionPatterns } from \"https://unpkg.com/circuitsvis@1.43.3/dist/cdn/esm.js\";\n",
              "    render(\n",
              "      \"circuits-vis-dc2348fc-cc61\",\n",
              "      AttentionPatterns,\n",
              "      {\"tokens\": [\"Nat\", \"alia\", \" sold\", \" clips\", \" to\", \" 42\", \" of\", \" her\", \" friends\", \" in\", \" April\", \",\", \" and\", \" then\", \" she\", \" sold\", \" half\", \" as\", \" many\", \" clips\", \" in\", \" May\", \".\", \" How\", \" many\", \" clips\", \" did\", \" Nat\", \"alia\", \" sell\", \" altogether\", \" in\", \" April\", \" and\", \" May\", \"?\", \" She\", \" sold\", \" 72\", \" clips\", \".\"], \"attention\": [[[1.0, 0.0, 0.0, 0.0, 0.0, 0.0, 0.0, 0.0, 0.0, 0.0, 0.0, 0.0, 0.0, 0.0, 0.0, 0.0, 0.0, 0.0, 0.0, 0.0, 0.0, 0.0, 0.0, 0.0, 0.0, 0.0, 0.0, 0.0, 0.0, 0.0, 0.0, 0.0, 0.0, 0.0, 0.0, 0.0, 0.0, 0.0, 0.0, 0.0, 0.0], [0.9478154182434082, 0.052184585481882095, 0.0, 0.0, 0.0, 0.0, 0.0, 0.0, 0.0, 0.0, 0.0, 0.0, 0.0, 0.0, 0.0, 0.0, 0.0, 0.0, 0.0, 0.0, 0.0, 0.0, 0.0, 0.0, 0.0, 0.0, 0.0, 0.0, 0.0, 0.0, 0.0, 0.0, 0.0, 0.0, 0.0, 0.0, 0.0, 0.0, 0.0, 0.0, 0.0], [0.37575289607048035, 0.019646527245640755, 0.6046005487442017, 0.0, 0.0, 0.0, 0.0, 0.0, 0.0, 0.0, 0.0, 0.0, 0.0, 0.0, 0.0, 0.0, 0.0, 0.0, 0.0, 0.0, 0.0, 0.0, 0.0, 0.0, 0.0, 0.0, 0.0, 0.0, 0.0, 0.0, 0.0, 0.0, 0.0, 0.0, 0.0, 0.0, 0.0, 0.0, 0.0, 0.0, 0.0], [0.3250938951969147, 0.019747968763113022, 0.44560763239860535, 0.20955057442188263, 0.0, 0.0, 0.0, 0.0, 0.0, 0.0, 0.0, 0.0, 0.0, 0.0, 0.0, 0.0, 0.0, 0.0, 0.0, 0.0, 0.0, 0.0, 0.0, 0.0, 0.0, 0.0, 0.0, 0.0, 0.0, 0.0, 0.0, 0.0, 0.0, 0.0, 0.0, 0.0, 0.0, 0.0, 0.0, 0.0, 0.0], [0.17066842317581177, 0.022837724536657333, 0.31536009907722473, 0.15777936577796936, 0.3333543539047241, 0.0, 0.0, 0.0, 0.0, 0.0, 0.0, 0.0, 0.0, 0.0, 0.0, 0.0, 0.0, 0.0, 0.0, 0.0, 0.0, 0.0, 0.0, 0.0, 0.0, 0.0, 0.0, 0.0, 0.0, 0.0, 0.0, 0.0, 0.0, 0.0, 0.0, 0.0, 0.0, 0.0, 0.0, 0.0, 0.0], [0.19420725107192993, 0.018889371305704117, 0.29464444518089294, 0.18038280308246613, 0.20254796743392944, 0.10932813584804535, 0.0, 0.0, 0.0, 0.0, 0.0, 0.0, 0.0, 0.0, 0.0, 0.0, 0.0, 0.0, 0.0, 0.0, 0.0, 0.0, 0.0, 0.0, 0.0, 0.0, 0.0, 0.0, 0.0, 0.0, 0.0, 0.0, 0.0, 0.0, 0.0, 0.0, 0.0, 0.0, 0.0, 0.0, 0.0], [0.181778684258461, 0.0149422911927104, 0.2866002023220062, 0.23526473343372345, 0.13823939859867096, 0.10112214833498001, 0.04205255210399628, 0.0, 0.0, 0.0, 0.0, 0.0, 0.0, 0.0, 0.0, 0.0, 0.0, 0.0, 0.0, 0.0, 0.0, 0.0, 0.0, 0.0, 0.0, 0.0, 0.0, 0.0, 0.0, 0.0, 0.0, 0.0, 0.0, 0.0, 0.0, 0.0, 0.0, 0.0, 0.0, 0.0, 0.0], [0.15821680426597595, 0.01754772663116455, 0.2563248574733734, 0.15774419903755188, 0.12736742198467255, 0.1076447069644928, 0.05996688827872276, 0.11518740653991699, 0.0, 0.0, 0.0, 0.0, 0.0, 0.0, 0.0, 0.0, 0.0, 0.0, 0.0, 0.0, 0.0, 0.0, 0.0, 0.0, 0.0, 0.0, 0.0, 0.0, 0.0, 0.0, 0.0, 0.0, 0.0, 0.0, 0.0, 0.0, 0.0, 0.0, 0.0, 0.0, 0.0], [0.15591342747211456, 0.014482406899333, 0.23142355680465698, 0.12162932008504868, 0.1497427076101303, 0.06321120262145996, 0.05398524925112724, 0.08733005076646805, 0.1222820058465004, 0.0, 0.0, 0.0, 0.0, 0.0, 0.0, 0.0, 0.0, 0.0, 0.0, 0.0, 0.0, 0.0, 0.0, 0.0, 0.0, 0.0, 0.0, 0.0, 0.0, 0.0, 0.0, 0.0, 0.0, 0.0, 0.0, 0.0, 0.0, 0.0, 0.0, 0.0, 0.0], [0.12166158109903336, 0.01997053436934948, 0.21783336997032166, 0.11917587369680405, 0.08993598073720932, 0.05056954175233841, 0.04112834110856056, 0.05188336223363876, 0.1488361656665802, 0.13900530338287354, 0.0, 0.0, 0.0, 0.0, 0.0, 0.0, 0.0, 0.0, 0.0, 0.0, 0.0, 0.0, 0.0, 0.0, 0.0, 0.0, 0.0, 0.0, 0.0, 0.0, 0.0, 0.0, 0.0, 0.0, 0.0, 0.0, 0.0, 0.0, 0.0, 0.0, 0.0], [0.1009838804602623, 0.012206502258777618, 0.1296091079711914, 0.08663620054721832, 0.12411513924598694, 0.07818709313869476, 0.06879481673240662, 0.06027323380112648, 0.09748058021068573, 0.15783008933067322, 0.0838833674788475, 0.0, 0.0, 0.0, 0.0, 0.0, 0.0, 0.0, 0.0, 0.0, 0.0, 0.0, 0.0, 0.0, 0.0, 0.0, 0.0, 0.0, 0.0, 0.0, 0.0, 0.0, 0.0, 0.0, 0.0, 0.0, 0.0, 0.0, 0.0, 0.0, 0.0], [0.07879075407981873, 0.019521428272128105, 0.200816348195076, 0.11404798179864883, 0.09904096275568008, 0.02545912005007267, 0.04518942907452583, 0.037269968539476395, 0.12542739510536194, 0.17708225548267365, 0.03721000254154205, 0.0401444174349308, 0.0, 0.0, 0.0, 0.0, 0.0, 0.0, 0.0, 0.0, 0.0, 0.0, 0.0, 0.0, 0.0, 0.0, 0.0, 0.0, 0.0, 0.0, 0.0, 0.0, 0.0, 0.0, 0.0, 0.0, 0.0, 0.0, 0.0, 0.0, 0.0], [0.07278327643871307, 0.01901361159980297, 0.17416538298130035, 0.07906226068735123, 0.0889836847782135, 0.0169721320271492, 0.038765229284763336, 0.03189805895090103, 0.09141529351472855, 0.1443907469511032, 0.032967932522296906, 0.028386613354086876, 0.18119575083255768, 0.0, 0.0, 0.0, 0.0, 0.0, 0.0, 0.0, 0.0, 0.0, 0.0, 0.0, 0.0, 0.0, 0.0, 0.0, 0.0, 0.0, 0.0, 0.0, 0.0, 0.0, 0.0, 0.0, 0.0, 0.0, 0.0, 0.0, 0.0], [0.07558538764715195, 0.011194484308362007, 0.14798860251903534, 0.05907706543803215, 0.09266336262226105, 0.012657237239181995, 0.03516476973891258, 0.023435411974787712, 0.05912618339061737, 0.11306841671466827, 0.029686395078897476, 0.014198663644492626, 0.10933949053287506, 0.2168145328760147, 0.0, 0.0, 0.0, 0.0, 0.0, 0.0, 0.0, 0.0, 0.0, 0.0, 0.0, 0.0, 0.0, 0.0, 0.0, 0.0, 0.0, 0.0, 0.0, 0.0, 0.0, 0.0, 0.0, 0.0, 0.0, 0.0, 0.0], [0.06498466432094574, 0.011369140818715096, 0.11915156245231628, 0.058387573808431625, 0.041479140520095825, 0.03400588408112526, 0.024182837456464767, 0.05383165553212166, 0.08055876195430756, 0.058191921561956406, 0.04782803729176521, 0.006768747232854366, 0.05275362357497215, 0.29966074228286743, 0.04684576019644737, 0.0, 0.0, 0.0, 0.0, 0.0, 0.0, 0.0, 0.0, 0.0, 0.0, 0.0, 0.0, 0.0, 0.0, 0.0, 0.0, 0.0, 0.0, 0.0, 0.0, 0.0, 0.0, 0.0, 0.0, 0.0, 0.0], [0.08388251811265945, 0.005067690275609493, 0.12766753137111664, 0.05884268507361412, 0.08186954259872437, 0.01137135736644268, 0.02245204523205757, 0.016963498666882515, 0.04128101468086243, 0.08441396802663803, 0.030435044318437576, 0.01004689373075962, 0.0659208819270134, 0.17662684619426727, 0.022610271349549294, 0.16054822504520416, 0.0, 0.0, 0.0, 0.0, 0.0, 0.0, 0.0, 0.0, 0.0, 0.0, 0.0, 0.0, 0.0, 0.0, 0.0, 0.0, 0.0, 0.0, 0.0, 0.0, 0.0, 0.0, 0.0, 0.0, 0.0], [0.06693480163812637, 0.01201468612998724, 0.10130283236503601, 0.05193886533379555, 0.05237966030836105, 0.023030953481793404, 0.027358418330550194, 0.029254982247948647, 0.05771256238222122, 0.06276264786720276, 0.0374620258808136, 0.011496864259243011, 0.05337247624993324, 0.14854633808135986, 0.036166828125715256, 0.13878369331359863, 0.0894814133644104, 0.0, 0.0, 0.0, 0.0, 0.0, 0.0, 0.0, 0.0, 0.0, 0.0, 0.0, 0.0, 0.0, 0.0, 0.0, 0.0, 0.0, 0.0, 0.0, 0.0, 0.0, 0.0, 0.0, 0.0], [0.043841637670993805, 0.007497246377170086, 0.0820566713809967, 0.036969270557165146, 0.05772831663489342, 0.010276604443788528, 0.02341615781188011, 0.01298656314611435, 0.04019928351044655, 0.07419034838676453, 0.01737452670931816, 0.013961810618638992, 0.0793965682387352, 0.13940203189849854, 0.027829201892018318, 0.12970855832099915, 0.06977016478776932, 0.13339509069919586, 0.0, 0.0, 0.0, 0.0, 0.0, 0.0, 0.0, 0.0, 0.0, 0.0, 0.0, 0.0, 0.0, 0.0, 0.0, 0.0, 0.0, 0.0, 0.0, 0.0, 0.0, 0.0, 0.0], [0.04797569289803505, 0.0093743447214365, 0.07291952520608902, 0.0265803225338459, 0.02933514676988125, 0.01627355068922043, 0.016259176656603813, 0.025984277948737144, 0.04247666150331497, 0.03752171993255615, 0.02654591016471386, 0.004595229402184486, 0.029605938121676445, 0.12916284799575806, 0.020018115639686584, 0.08334702253341675, 0.09753181785345078, 0.04184529557824135, 0.24264751374721527, 0.0, 0.0, 0.0, 0.0, 0.0, 0.0, 0.0, 0.0, 0.0, 0.0, 0.0, 0.0, 0.0, 0.0, 0.0, 0.0, 0.0, 0.0, 0.0, 0.0, 0.0, 0.0], [0.0697028785943985, 0.005227958783507347, 0.08803136646747589, 0.04056558385491371, 0.06203033775091171, 0.012688866816461086, 0.02129996195435524, 0.016032664105296135, 0.0348755344748497, 0.05711902305483818, 0.03081708960235119, 0.009086331352591515, 0.03745010122656822, 0.09428863972425461, 0.018985895439982414, 0.10520756244659424, 0.049156203866004944, 0.0759250670671463, 0.11950965225696564, 0.05199931934475899, 0.0, 0.0, 0.0, 0.0, 0.0, 0.0, 0.0, 0.0, 0.0, 0.0, 0.0, 0.0, 0.0, 0.0, 0.0, 0.0, 0.0, 0.0, 0.0, 0.0, 0.0], [0.033856555819511414, 0.007019602227956057, 0.06019806116819382, 0.029789404943585396, 0.02054121159017086, 0.009301367215812206, 0.01023887563496828, 0.011209122836589813, 0.034416187554597855, 0.03161859139800072, 0.015076649375259876, 0.006742316298186779, 0.03410246968269348, 0.12576642632484436, 0.022089142352342606, 0.10511988401412964, 0.05974726006388664, 0.05861259251832962, 0.20714780688285828, 0.05532735958695412, 0.06207912787795067, 0.0, 0.0, 0.0, 0.0, 0.0, 0.0, 0.0, 0.0, 0.0, 0.0, 0.0, 0.0, 0.0, 0.0, 0.0, 0.0, 0.0, 0.0, 0.0, 0.0], [0.0399383082985878, 0.005313775036484003, 0.04881340265274048, 0.038552526384592056, 0.035735927522182465, 0.02023422345519066, 0.017858633771538734, 0.016635892912745476, 0.029981784522533417, 0.04428315907716751, 0.026058869436383247, 0.01711934432387352, 0.042550913989543915, 0.0998430922627449, 0.032885804772377014, 0.08511776477098465, 0.038196906447410583, 0.08819125592708588, 0.11230546236038208, 0.06912471354007721, 0.07829900830984116, 0.012959222309291363, 0.0, 0.0, 0.0, 0.0, 0.0, 0.0, 0.0, 0.0, 0.0, 0.0, 0.0, 0.0, 0.0, 0.0, 0.0, 0.0, 0.0, 0.0, 0.0], [0.022921381518244743, 0.005615736357867718, 0.057987507432699203, 0.02949625812470913, 0.03188631311058998, 0.004572450183331966, 0.013341348618268967, 0.007931407541036606, 0.028330519795417786, 0.04932102560997009, 0.009180149994790554, 0.010638359934091568, 0.06897246092557907, 0.10916778445243835, 0.019272170960903168, 0.09726902097463608, 0.04011652246117592, 0.08480221033096313, 0.14690446853637695, 0.05076415464282036, 0.0956256091594696, 0.007646168116480112, 0.008237022906541824, 0.0, 0.0, 0.0, 0.0, 0.0, 0.0, 0.0, 0.0, 0.0, 0.0, 0.0, 0.0, 0.0, 0.0, 0.0, 0.0, 0.0, 0.0], [0.04823552444577217, 0.0033930421341210604, 0.04955097660422325, 0.053767696022987366, 0.02304661273956299, 0.01609673909842968, 0.008161142468452454, 0.01322400663048029, 0.02295401692390442, 0.03003387153148651, 0.026501579210162163, 0.011032321490347385, 0.027939753606915474, 0.12789319455623627, 0.026176074519753456, 0.09571171551942825, 0.030927671119570732, 0.07098402082920074, 0.11087711155414581, 0.1061164066195488, 0.053475864231586456, 0.008769751526415348, 0.02352295070886612, 0.011607987806200981, 0.0, 0.0, 0.0, 0.0, 0.0, 0.0, 0.0, 0.0, 0.0, 0.0, 0.0, 0.0, 0.0, 0.0, 0.0, 0.0, 0.0], [0.03734050318598747, 0.007444220129400492, 0.05648326128721237, 0.020173266530036926, 0.021771933883428574, 0.010861369781196117, 0.011541783809661865, 0.019087519496679306, 0.0302625373005867, 0.026774222031235695, 0.019138691946864128, 0.0030234658624976873, 0.021349970251321793, 0.09022299200296402, 0.01269642636179924, 0.05914680287241936, 0.07019977271556854, 0.026600994169712067, 0.16359733045101166, 0.02314417064189911, 0.036272697150707245, 0.013498232699930668, 0.004159333650022745, 0.015005937777459621, 0.2002025693655014, 0.0, 0.0, 0.0, 0.0, 0.0, 0.0, 0.0, 0.0, 0.0, 0.0, 0.0, 0.0, 0.0, 0.0, 0.0, 0.0], [0.056729406118392944, 0.004235225263983011, 0.07052917778491974, 0.032119397073984146, 0.04908466339111328, 0.008999866433441639, 0.016101662069559097, 0.012019527144730091, 0.026023386046290398, 0.043204087764024734, 0.023198066279292107, 0.006524211261421442, 0.028411777690052986, 0.0683993548154831, 0.012975367717444897, 0.07898369431495667, 0.036470748484134674, 0.05306776240468025, 0.08379978686571121, 0.038787562400102615, 0.06446860730648041, 0.008200733922421932, 0.01709691621363163, 0.016324909403920174, 0.10012128204107285, 0.04412272199988365, 0.0, 0.0, 0.0, 0.0, 0.0, 0.0, 0.0, 0.0, 0.0, 0.0, 0.0, 0.0, 0.0, 0.0, 0.0], [0.026849394664168358, 0.004367959685623646, 0.04925931617617607, 0.017394140362739563, 0.032452452927827835, 0.006618920713663101, 0.013709252700209618, 0.0127092394977808, 0.023141760379076004, 0.03860718756914139, 0.012856032699346542, 0.004774324130266905, 0.0351160503923893, 0.07622981816530228, 0.011406692676246166, 0.05352853983640671, 0.04627975448966026, 0.04180094227194786, 0.12442031502723694, 0.02052205242216587, 0.05730611830949783, 0.007939386181533337, 0.007134429644793272, 0.010820948518812656, 0.15367229282855988, 0.023604294285178185, 0.0874783992767334, 0.0, 0.0, 0.0, 0.0, 0.0, 0.0, 0.0, 0.0, 0.0, 0.0, 0.0, 0.0, 0.0, 0.0], [0.04018424451351166, 0.007943478412926197, 0.04458041116595268, 0.03832751139998436, 0.025388367474079132, 0.021009108051657677, 0.016745803877711296, 0.022492311894893646, 0.02958211675286293, 0.028098903596401215, 0.03200026601552963, 0.010690836235880852, 0.025682896375656128, 0.06446389108896255, 0.025543199852108955, 0.0601985901594162, 0.032091692090034485, 0.038651421666145325, 0.06430136412382126, 0.05249524116516113, 0.03710785508155823, 0.01662560924887657, 0.017336010932922363, 0.019527947530150414, 0.07179965078830719, 0.056668221950531006, 0.07118137180805206, 0.02928168699145317, 0.0, 0.0, 0.0, 0.0, 0.0, 0.0, 0.0, 0.0, 0.0, 0.0, 0.0, 0.0, 0.0], [0.03944970667362213, 0.0025380351580679417, 0.03930303081870079, 0.04249732568860054, 0.012233479879796505, 0.015356728807091713, 0.005028730258345604, 0.012400299310684204, 0.020383957773447037, 0.0139462910592556, 0.023057961836457253, 0.0031464460771530867, 0.011831150390207767, 0.09068384021520615, 0.01873830519616604, 0.07384994626045227, 0.025077927857637405, 0.03236366808414459, 0.08514390885829926, 0.07930533587932587, 0.022508693858981133, 0.007117173634469509, 0.007232082542032003, 0.010097194463014603, 0.10179062932729721, 0.09009233117103577, 0.07941734045743942, 0.03249282017350197, 0.0029156068339943886, 0.0, 0.0, 0.0, 0.0, 0.0, 0.0, 0.0, 0.0, 0.0, 0.0, 0.0, 0.0], [0.04830295965075493, 0.0036290097050368786, 0.06564579159021378, 0.030016781762242317, 0.034020259976387024, 0.006407582201063633, 0.01091205608099699, 0.009523017331957817, 0.02102719061076641, 0.030384115874767303, 0.016663504764437675, 0.0029722501058131456, 0.022734422236680984, 0.07080473750829697, 0.008396798744797707, 0.07059768587350845, 0.03634803369641304, 0.03466949984431267, 0.08486124128103256, 0.0345877967774868, 0.042543623596429825, 0.006179116666316986, 0.006387164816260338, 0.010673117823898792, 0.10360241681337357, 0.039867036044597626, 0.058317795395851135, 0.009133736602962017, 0.002164397854357958, 0.07862676680088043, 0.0, 0.0, 0.0, 0.0, 0.0, 0.0, 0.0, 0.0, 0.0, 0.0, 0.0], [0.03713031858205795, 0.008143551647663116, 0.05692080780863762, 0.022675151005387306, 0.027864255011081696, 0.011578116565942764, 0.014516209252178669, 0.023048104718327522, 0.029212500900030136, 0.02676771767437458, 0.02031511254608631, 0.002578763524070382, 0.020899910479784012, 0.06687013059854507, 0.010773622430860996, 0.04776947200298309, 0.05631737783551216, 0.020949257537722588, 0.10394931584596634, 0.020080218091607094, 0.02886398695409298, 0.012758588418364525, 0.0035292927641421556, 0.013328407891094685, 0.11861521005630493, 0.021723594516515732, 0.06519192457199097, 0.007624852005392313, 0.004373649135231972, 0.05201904848217964, 0.04361145943403244, 0.0, 0.0, 0.0, 0.0, 0.0, 0.0, 0.0, 0.0, 0.0, 0.0], [0.021462341770529747, 0.0044337608851492405, 0.0369744710624218, 0.018374400213360786, 0.012578439898788929, 0.004359644837677479, 0.005456764250993729, 0.006086772307753563, 0.01775847002863884, 0.017049144953489304, 0.007932710461318493, 0.0032127462327480316, 0.018641773611307144, 0.06160249188542366, 0.009277289733290672, 0.05371847003698349, 0.02997339703142643, 0.025747599080204964, 0.08978565782308578, 0.02845369093120098, 0.02917853370308876, 0.006182723678648472, 0.0029456326737999916, 0.009411060251295567, 0.11766309291124344, 0.034414127469062805, 0.07006331533193588, 0.011714484542608261, 0.004587032366544008, 0.06974735110998154, 0.12279850989580154, 0.04841407760977745, 0.0, 0.0, 0.0, 0.0, 0.0, 0.0, 0.0, 0.0, 0.0], [0.025863923132419586, 0.0035846501123160124, 0.031919825822114944, 0.020113611593842506, 0.028137652203440666, 0.012204057537019253, 0.014639533124864101, 0.011983189731836319, 0.018484998494386673, 0.031499460339546204, 0.01692793518304825, 0.010794654488563538, 0.02871950902044773, 0.04956815019249916, 0.017004985362291336, 0.042616840451955795, 0.02286188304424286, 0.045892298221588135, 0.05442424863576889, 0.028032105416059494, 0.047726500779390335, 0.008499685674905777, 0.021745285019278526, 0.01310849841684103, 0.06514351069927216, 0.03196742758154869, 0.05877315253019333, 0.01232400257140398, 0.0031882645562291145, 0.06022767350077629, 0.067064568400383, 0.06627323478460312, 0.028684644028544426, 0.0, 0.0, 0.0, 0.0, 0.0, 0.0, 0.0, 0.0], [0.018049389123916626, 0.005416298750787973, 0.042453594505786896, 0.018088456243276596, 0.02003343403339386, 0.002199353650212288, 0.007402713876217604, 0.005788485053926706, 0.01592923514544964, 0.027192924171686172, 0.005838734097778797, 0.004227775614708662, 0.036288436502218246, 0.05586528778076172, 0.006807254161685705, 0.04644393175840378, 0.028329985216259956, 0.02800663933157921, 0.07156553119421005, 0.02116711437702179, 0.03943623974919319, 0.005086313933134079, 0.002820558613166213, 0.0064898403361439705, 0.09020622819662094, 0.02497284673154354, 0.06231163814663887, 0.008180921897292137, 0.0041465070098638535, 0.044654861092567444, 0.09122335910797119, 0.06288235634565353, 0.01033368706703186, 0.08016002178192139, 0.0, 0.0, 0.0, 0.0, 0.0, 0.0, 0.0], [0.02473253570497036, 0.003307163715362549, 0.02947317063808441, 0.023376712575554848, 0.021413583308458328, 0.010015853680670261, 0.009553222917020321, 0.009435911662876606, 0.015888884663581848, 0.023781243711709976, 0.014035169966518879, 0.008217603899538517, 0.022900933399796486, 0.050373468548059464, 0.01463234331458807, 0.04358707368373871, 0.019643398001790047, 0.03950746729969978, 0.05107829347252846, 0.03546905145049095, 0.03691080957651138, 0.006730653345584869, 0.014152358286082745, 0.009781175293028355, 0.062263861298561096, 0.04116363450884819, 0.052420586347579956, 0.017051314935088158, 0.0033719914499670267, 0.060984522104263306, 0.08986622840166092, 0.053490445017814636, 0.02513035014271736, 0.04685261473059654, 0.00940636545419693, 0.0, 0.0, 0.0, 0.0, 0.0, 0.0], [0.0187460258603096, 0.002442819532006979, 0.029522422701120377, 0.021334446966648102, 0.03411490097641945, 0.0025455080904066563, 0.009353578090667725, 0.003166120732203126, 0.00880630686879158, 0.0347796231508255, 0.005283280275762081, 0.00822368636727333, 0.044529035687446594, 0.036772362887859344, 0.007064802572131157, 0.039877355098724365, 0.013785623013973236, 0.05750027671456337, 0.03159382939338684, 0.030118046328425407, 0.05653625354170799, 0.002599165076389909, 0.013308916240930557, 0.006406025029718876, 0.03912227600812912, 0.035849492996931076, 0.02359244041144848, 0.010444601066410542, 0.002126422245055437, 0.03780344873666763, 0.12732481956481934, 0.08549781888723373, 0.00945835467427969, 0.09744179248809814, 0.0037152194418013096, 0.009212858974933624, 0.0, 0.0, 0.0, 0.0, 0.0], [0.027856653556227684, 0.003208363661542535, 0.03490825742483139, 0.03101763129234314, 0.012329907156527042, 0.007980861701071262, 0.004665740299969912, 0.011019278317689896, 0.0167966540902853, 0.01400788128376007, 0.014616395346820354, 0.0027366667054593563, 0.012835939414799213, 0.06793481856584549, 0.010615648701786995, 0.04992172122001648, 0.02199355512857437, 0.020655963569879532, 0.06784814596176147, 0.04444780573248863, 0.01933123543858528, 0.006031441502273083, 0.0034868563525378704, 0.005592618137598038, 0.08242060989141464, 0.051187850534915924, 0.06769165396690369, 0.02153797633945942, 0.003045844379812479, 0.06910189986228943, 0.09632979333400726, 0.027706671506166458, 0.024803321808576584, 0.02454710751771927, 0.008723066188395023, 0.006831626407802105, 0.004232577048242092, 0.0, 0.0, 0.0, 0.0], [0.0342978909611702, 0.002105329418554902, 0.05046982318162918, 0.023073120042681694, 0.031319644302129745, 0.0029804003424942493, 0.007134433835744858, 0.005588120315223932, 0.012711351737380028, 0.027371035888791084, 0.009656151756644249, 0.002683323808014393, 0.021629290655255318, 0.05054807662963867, 0.005129623226821423, 0.04893134906888008, 0.021173346787691116, 0.030021144077181816, 0.05109832435846329, 0.023982061073184013, 0.036716315895318985, 0.003041632007807493, 0.0061239637434482574, 0.005421082954853773, 0.06207713112235069, 0.0277950931340456, 0.039669428020715714, 0.0055884746834635735, 0.001062798430211842, 0.04994881898164749, 0.09417726844549179, 0.05220787599682808, 0.015374056063592434, 0.040407776832580566, 0.004355304408818483, 0.005464807618409395, 0.0013506239047273993, 0.0873136892914772, 0.0, 0.0, 0.0], [0.03380627557635307, 0.0035252640955150127, 0.043104495853185654, 0.02181153930723667, 0.02955939620733261, 0.008526064455509186, 0.013376882299780846, 0.009273973293602467, 0.019008686766028404, 0.025864483788609505, 0.015920115634799004, 0.0045908372849226, 0.019405674189329147, 0.03619841858744621, 0.010618392378091812, 0.04761144518852234, 0.02013271115720272, 0.029937434941530228, 0.04053431749343872, 0.025308502838015556, 0.035382188856601715, 0.007174438796937466, 0.009611533023416996, 0.01614132896065712, 0.04823016747832298, 0.028837671503424644, 0.035105302929878235, 0.00868644006550312, 0.002398985205218196, 0.0633261501789093, 0.053517021238803864, 0.04873275384306908, 0.025682931765913963, 0.03497452661395073, 0.009669414721429348, 0.013750691898167133, 0.005862690042704344, 0.07961336523294449, 0.015187508426606655, 0.0, 0.0], [0.03889030963182449, 0.0029370938427746296, 0.04846850782632828, 0.02246519923210144, 0.03384463116526604, 0.005271297879517078, 0.009907213039696217, 0.007979211397469044, 0.016212034970521927, 0.027035724371671677, 0.014370200224220753, 0.003641291055828333, 0.017667222768068314, 0.041424356400966644, 0.007015177048742771, 0.047104910016059875, 0.02207871526479721, 0.028772801160812378, 0.046305637806653976, 0.02327060140669346, 0.035674385726451874, 0.00480021582916379, 0.009009694680571556, 0.008669648319482803, 0.05455368757247925, 0.02630062960088253, 0.03493436425924301, 0.006338739767670631, 0.0016148787690326571, 0.052457619458436966, 0.06882014870643616, 0.046943772584199905, 0.021646687760949135, 0.029636390507221222, 0.006368482485413551, 0.008020834997296333, 0.0022386580239981413, 0.07589595764875412, 0.008919336833059788, 0.032493703067302704, 0.0], [0.012671547010540962, 0.0031643426045775414, 0.032037168741226196, 0.01652197353541851, 0.017815887928009033, 0.0017951556947082281, 0.005977750290185213, 0.00396083015948534, 0.012740935198962688, 0.022852318361401558, 0.004072420299053192, 0.003942173905670643, 0.03172764554619789, 0.04617573693394661, 0.006521370727568865, 0.04082981497049332, 0.017270686104893684, 0.02963246777653694, 0.05266924574971199, 0.02128068171441555, 0.0353582501411438, 0.0030967690981924534, 0.002719014184549451, 0.004974213894456625, 0.06636610627174377, 0.025205979123711586, 0.04670038819313049, 0.007573386654257774, 0.002847941592335701, 0.042979415506124496, 0.09638779610395432, 0.05683455243706703, 0.007473769132047892, 0.07297399640083313, 0.004698755219578743, 0.008365386165678501, 0.002076097996905446, 0.08202072232961655, 0.0069108447059988976, 0.035661838948726654, 0.00511460704728961]], [[1.0, 0.0, 0.0, 0.0, 0.0, 0.0, 0.0, 0.0, 0.0, 0.0, 0.0, 0.0, 0.0, 0.0, 0.0, 0.0, 0.0, 0.0, 0.0, 0.0, 0.0, 0.0, 0.0, 0.0, 0.0, 0.0, 0.0, 0.0, 0.0, 0.0, 0.0, 0.0, 0.0, 0.0, 0.0, 0.0, 0.0, 0.0, 0.0, 0.0, 0.0], [0.5329589247703552, 0.4670410454273224, 0.0, 0.0, 0.0, 0.0, 0.0, 0.0, 0.0, 0.0, 0.0, 0.0, 0.0, 0.0, 0.0, 0.0, 0.0, 0.0, 0.0, 0.0, 0.0, 0.0, 0.0, 0.0, 0.0, 0.0, 0.0, 0.0, 0.0, 0.0, 0.0, 0.0, 0.0, 0.0, 0.0, 0.0, 0.0, 0.0, 0.0, 0.0, 0.0], [0.2806594967842102, 0.3267644941806793, 0.3925760090351105, 0.0, 0.0, 0.0, 0.0, 0.0, 0.0, 0.0, 0.0, 0.0, 0.0, 0.0, 0.0, 0.0, 0.0, 0.0, 0.0, 0.0, 0.0, 0.0, 0.0, 0.0, 0.0, 0.0, 0.0, 0.0, 0.0, 0.0, 0.0, 0.0, 0.0, 0.0, 0.0, 0.0, 0.0, 0.0, 0.0, 0.0, 0.0], [0.15502697229385376, 0.22938133776187897, 0.2739534378051758, 0.3416382074356079, 0.0, 0.0, 0.0, 0.0, 0.0, 0.0, 0.0, 0.0, 0.0, 0.0, 0.0, 0.0, 0.0, 0.0, 0.0, 0.0, 0.0, 0.0, 0.0, 0.0, 0.0, 0.0, 0.0, 0.0, 0.0, 0.0, 0.0, 0.0, 0.0, 0.0, 0.0, 0.0, 0.0, 0.0, 0.0, 0.0, 0.0], [0.17703312635421753, 0.19010843336582184, 0.1653459519147873, 0.27094823122024536, 0.19656424224376678, 0.0, 0.0, 0.0, 0.0, 0.0, 0.0, 0.0, 0.0, 0.0, 0.0, 0.0, 0.0, 0.0, 0.0, 0.0, 0.0, 0.0, 0.0, 0.0, 0.0, 0.0, 0.0, 0.0, 0.0, 0.0, 0.0, 0.0, 0.0, 0.0, 0.0, 0.0, 0.0, 0.0, 0.0, 0.0, 0.0], [0.059004005044698715, 0.11680580675601959, 0.14153364300727844, 0.18718183040618896, 0.4495726227760315, 0.045902080833911896, 0.0, 0.0, 0.0, 0.0, 0.0, 0.0, 0.0, 0.0, 0.0, 0.0, 0.0, 0.0, 0.0, 0.0, 0.0, 0.0, 0.0, 0.0, 0.0, 0.0, 0.0, 0.0, 0.0, 0.0, 0.0, 0.0, 0.0, 0.0, 0.0, 0.0, 0.0, 0.0, 0.0, 0.0, 0.0], [0.12288454174995422, 0.14028015732765198, 0.1120697483420372, 0.18075330555438995, 0.13843810558319092, 0.05268741026520729, 0.25288671255111694, 0.0, 0.0, 0.0, 0.0, 0.0, 0.0, 0.0, 0.0, 0.0, 0.0, 0.0, 0.0, 0.0, 0.0, 0.0, 0.0, 0.0, 0.0, 0.0, 0.0, 0.0, 0.0, 0.0, 0.0, 0.0, 0.0, 0.0, 0.0, 0.0, 0.0, 0.0, 0.0, 0.0, 0.0], [0.06898711621761322, 0.06499132513999939, 0.08141229301691055, 0.09519188106060028, 0.23816421627998352, 0.045510999858379364, 0.2800745368003845, 0.12566755712032318, 0.0, 0.0, 0.0, 0.0, 0.0, 0.0, 0.0, 0.0, 0.0, 0.0, 0.0, 0.0, 0.0, 0.0, 0.0, 0.0, 0.0, 0.0, 0.0, 0.0, 0.0, 0.0, 0.0, 0.0, 0.0, 0.0, 0.0, 0.0, 0.0, 0.0, 0.0, 0.0, 0.0], [0.07434062659740448, 0.09113144129514694, 0.08502565324306488, 0.11590244621038437, 0.18959160149097443, 0.04206475615501404, 0.24020040035247803, 0.0788501501083374, 0.08289291709661484, 0.0, 0.0, 0.0, 0.0, 0.0, 0.0, 0.0, 0.0, 0.0, 0.0, 0.0, 0.0, 0.0, 0.0, 0.0, 0.0, 0.0, 0.0, 0.0, 0.0, 0.0, 0.0, 0.0, 0.0, 0.0, 0.0, 0.0, 0.0, 0.0, 0.0, 0.0, 0.0], [0.09262455999851227, 0.11525817215442657, 0.0662875697016716, 0.10756630450487137, 0.04998909309506416, 0.03358533978462219, 0.11575062572956085, 0.11496058851480484, 0.1995055228471756, 0.10447221994400024, 0.0, 0.0, 0.0, 0.0, 0.0, 0.0, 0.0, 0.0, 0.0, 0.0, 0.0, 0.0, 0.0, 0.0, 0.0, 0.0, 0.0, 0.0, 0.0, 0.0, 0.0, 0.0, 0.0, 0.0, 0.0, 0.0, 0.0, 0.0, 0.0, 0.0, 0.0], [0.07754246890544891, 0.07004408538341522, 0.08189384639263153, 0.10132499039173126, 0.11844862997531891, 0.03377790004014969, 0.1331522911787033, 0.07483895868062973, 0.07268385589122772, 0.16014127433300018, 0.07615170627832413, 0.0, 0.0, 0.0, 0.0, 0.0, 0.0, 0.0, 0.0, 0.0, 0.0, 0.0, 0.0, 0.0, 0.0, 0.0, 0.0, 0.0, 0.0, 0.0, 0.0, 0.0, 0.0, 0.0, 0.0, 0.0, 0.0, 0.0, 0.0, 0.0, 0.0], [0.08560071885585785, 0.09424330294132233, 0.06050083041191101, 0.08613517135381699, 0.0410432405769825, 0.025640541687607765, 0.12454000860452652, 0.08244427293539047, 0.16386081278324127, 0.09192939102649689, 0.07185973227024078, 0.07220205664634705, 0.0, 0.0, 0.0, 0.0, 0.0, 0.0, 0.0, 0.0, 0.0, 0.0, 0.0, 0.0, 0.0, 0.0, 0.0, 0.0, 0.0, 0.0, 0.0, 0.0, 0.0, 0.0, 0.0, 0.0, 0.0, 0.0, 0.0, 0.0, 0.0], [0.07636663317680359, 0.08855458348989487, 0.0513174831867218, 0.088102325797081, 0.03321019560098648, 0.023275667801499367, 0.0928417295217514, 0.07174143940210342, 0.14714877307415009, 0.07669393718242645, 0.07260410487651825, 0.0580458901822567, 0.12009726464748383, 0.0, 0.0, 0.0, 0.0, 0.0, 0.0, 0.0, 0.0, 0.0, 0.0, 0.0, 0.0, 0.0, 0.0, 0.0, 0.0, 0.0, 0.0, 0.0, 0.0, 0.0, 0.0, 0.0, 0.0, 0.0, 0.0, 0.0, 0.0], [0.04907556623220444, 0.0684940442442894, 0.04633292555809021, 0.07476919144392014, 0.055176954716444016, 0.021205663681030273, 0.1063198447227478, 0.03879363462328911, 0.06424126029014587, 0.10319053381681442, 0.046508628875017166, 0.09407076984643936, 0.15995414555072784, 0.07186679542064667, 0.0, 0.0, 0.0, 0.0, 0.0, 0.0, 0.0, 0.0, 0.0, 0.0, 0.0, 0.0, 0.0, 0.0, 0.0, 0.0, 0.0, 0.0, 0.0, 0.0, 0.0, 0.0, 0.0, 0.0, 0.0, 0.0, 0.0], [0.04095112159848213, 0.039692118763923645, 0.041981447488069534, 0.048669107258319855, 0.0741838663816452, 0.02065279707312584, 0.09956685453653336, 0.03904648497700691, 0.04923810809850693, 0.1147327870130539, 0.04812132194638252, 0.10853872448205948, 0.14697305858135223, 0.07177405059337616, 0.055878154933452606, 0.0, 0.0, 0.0, 0.0, 0.0, 0.0, 0.0, 0.0, 0.0, 0.0, 0.0, 0.0, 0.0, 0.0, 0.0, 0.0, 0.0, 0.0, 0.0, 0.0, 0.0, 0.0, 0.0, 0.0, 0.0, 0.0], [0.03622138872742653, 0.04150058329105377, 0.03946720436215401, 0.04964924231171608, 0.07950688898563385, 0.015351949259638786, 0.10605034977197647, 0.029027514159679413, 0.03286297991871834, 0.1185411810874939, 0.0360100194811821, 0.12432637065649033, 0.14200550317764282, 0.04965571314096451, 0.04992053285241127, 0.04990258067846298, 0.0, 0.0, 0.0, 0.0, 0.0, 0.0, 0.0, 0.0, 0.0, 0.0, 0.0, 0.0, 0.0, 0.0, 0.0, 0.0, 0.0, 0.0, 0.0, 0.0, 0.0, 0.0, 0.0, 0.0, 0.0], [0.03629838675260544, 0.03940878063440323, 0.031214892864227295, 0.040436334908008575, 0.06671727448701859, 0.016251197084784508, 0.09368621557950974, 0.027232371270656586, 0.03180950507521629, 0.11245177686214447, 0.034012824296951294, 0.09600795060396194, 0.16007587313652039, 0.0652228444814682, 0.05329370126128197, 0.041905321180820465, 0.05397475138306618, 0.0, 0.0, 0.0, 0.0, 0.0, 0.0, 0.0, 0.0, 0.0, 0.0, 0.0, 0.0, 0.0, 0.0, 0.0, 0.0, 0.0, 0.0, 0.0, 0.0, 0.0, 0.0, 0.0, 0.0], [0.0505160428583622, 0.055883996188640594, 0.03487067297101021, 0.05713968724012375, 0.034652743488550186, 0.018079431727528572, 0.071133553981781, 0.04554298147559166, 0.07355580478906631, 0.06992695480585098, 0.04119955748319626, 0.06621770560741425, 0.1054069921374321, 0.05390090495347977, 0.05251003056764603, 0.053780749440193176, 0.049931276589632034, 0.06575091183185577, 0.0, 0.0, 0.0, 0.0, 0.0, 0.0, 0.0, 0.0, 0.0, 0.0, 0.0, 0.0, 0.0, 0.0, 0.0, 0.0, 0.0, 0.0, 0.0, 0.0, 0.0, 0.0, 0.0], [0.03869094327092171, 0.04069502651691437, 0.030508844181895256, 0.038478195667266846, 0.047726068645715714, 0.018288444727659225, 0.07315051555633545, 0.02763231284916401, 0.038106609135866165, 0.08342932909727097, 0.03543724864721298, 0.0865524634718895, 0.12983819842338562, 0.05624966695904732, 0.048625193536281586, 0.04070170968770981, 0.04884214326739311, 0.0791279748082161, 0.03791910409927368, 0.0, 0.0, 0.0, 0.0, 0.0, 0.0, 0.0, 0.0, 0.0, 0.0, 0.0, 0.0, 0.0, 0.0, 0.0, 0.0, 0.0, 0.0, 0.0, 0.0, 0.0, 0.0], [0.03039521537721157, 0.0421411395072937, 0.04017605632543564, 0.050140898674726486, 0.07380250096321106, 0.017540382221341133, 0.0717756599187851, 0.01946978271007538, 0.028207505121827126, 0.08691242337226868, 0.03723745793104172, 0.08697563409805298, 0.07418569177389145, 0.03993920981884003, 0.03583236411213875, 0.047171853482723236, 0.03536531329154968, 0.0687960833311081, 0.05503351613879204, 0.05890132114291191, 0.0, 0.0, 0.0, 0.0, 0.0, 0.0, 0.0, 0.0, 0.0, 0.0, 0.0, 0.0, 0.0, 0.0, 0.0, 0.0, 0.0, 0.0, 0.0, 0.0, 0.0], [0.05871497094631195, 0.06380210816860199, 0.031168902292847633, 0.04761885851621628, 0.016919869929552078, 0.016938671469688416, 0.04294416308403015, 0.04345276579260826, 0.08995138108730316, 0.03800995647907257, 0.041239071637392044, 0.03212057054042816, 0.06217292696237564, 0.046336784958839417, 0.04471974819898605, 0.05237623304128647, 0.04522455483675003, 0.03779086843132973, 0.03537457808852196, 0.08993884176015854, 0.06318420171737671, 0.0, 0.0, 0.0, 0.0, 0.0, 0.0, 0.0, 0.0, 0.0, 0.0, 0.0, 0.0, 0.0, 0.0, 0.0, 0.0, 0.0, 0.0, 0.0, 0.0], [0.05679505690932274, 0.03399617224931717, 0.03952110558748245, 0.04868385195732117, 0.03288261592388153, 0.01691172458231449, 0.05363239347934723, 0.02764349989593029, 0.03476613014936447, 0.054565854370594025, 0.03250706568360329, 0.06352178752422333, 0.07737051695585251, 0.0362761989235878, 0.03883551061153412, 0.052966486662626266, 0.04022453352808952, 0.051207736134529114, 0.024789730086922646, 0.06915371865034103, 0.07486933469772339, 0.03887894004583359, 0.0, 0.0, 0.0, 0.0, 0.0, 0.0, 0.0, 0.0, 0.0, 0.0, 0.0, 0.0, 0.0, 0.0, 0.0, 0.0, 0.0, 0.0, 0.0], [0.05273525044322014, 0.040168385952711105, 0.030721785500645638, 0.03774977847933769, 0.019445929676294327, 0.012164649553596973, 0.05849701166152954, 0.023475406691432, 0.048716794699430466, 0.04314010590314865, 0.028404217213392258, 0.03457949683070183, 0.08349480479955673, 0.03796025738120079, 0.03680702671408653, 0.046127814799547195, 0.03506560996174812, 0.03737565502524376, 0.017950307577848434, 0.06362815946340561, 0.07070757448673248, 0.03753461688756943, 0.10354934632778168, 0.0, 0.0, 0.0, 0.0, 0.0, 0.0, 0.0, 0.0, 0.0, 0.0, 0.0, 0.0, 0.0, 0.0, 0.0, 0.0, 0.0, 0.0], [0.03073941357433796, 0.023124542087316513, 0.026724815368652344, 0.029130345210433006, 0.04123193398118019, 0.013984784483909607, 0.058713171631097794, 0.018243540078401566, 0.022673211991786957, 0.06336872279644012, 0.020945150405168533, 0.07243227958679199, 0.08371306210756302, 0.03490659222006798, 0.02968948893249035, 0.031044280156493187, 0.03773518279194832, 0.053937964141368866, 0.019623540341854095, 0.03562029451131821, 0.08056172728538513, 0.022067973390221596, 0.09549038112163544, 0.054297614842653275, 0.0, 0.0, 0.0, 0.0, 0.0, 0.0, 0.0, 0.0, 0.0, 0.0, 0.0, 0.0, 0.0, 0.0, 0.0, 0.0, 0.0], [0.03015805408358574, 0.02990761026740074, 0.02180730551481247, 0.026439448818564415, 0.03077779896557331, 0.013528975658118725, 0.04855674132704735, 0.017814889550209045, 0.02584826387465, 0.053798574954271317, 0.024521062150597572, 0.055084723979234695, 0.08514074236154556, 0.038676101714372635, 0.03294331580400467, 0.028104880824685097, 0.03306778520345688, 0.049817461520433426, 0.024730093777179718, 0.037204984575510025, 0.07724438607692719, 0.02455071173608303, 0.10109015554189682, 0.06163905933499336, 0.027546832337975502, 0.0, 0.0, 0.0, 0.0, 0.0, 0.0, 0.0, 0.0, 0.0, 0.0, 0.0, 0.0, 0.0, 0.0, 0.0, 0.0], [0.024597804993391037, 0.03308708593249321, 0.030741868540644646, 0.03731679916381836, 0.05197857320308685, 0.013838258571922779, 0.0520298071205616, 0.013468810357153416, 0.020834479480981827, 0.06126409024000168, 0.02802135795354843, 0.06039221212267876, 0.052559878677129745, 0.029620954766869545, 0.025872424244880676, 0.035125549882650375, 0.025657720863819122, 0.04718360677361488, 0.039300378412008286, 0.04301176965236664, 0.0737372487783432, 0.023156926035881042, 0.0489741750061512, 0.04312155023217201, 0.040822479873895645, 0.044284190982580185, 0.0, 0.0, 0.0, 0.0, 0.0, 0.0, 0.0, 0.0, 0.0, 0.0, 0.0, 0.0, 0.0, 0.0, 0.0], [0.027723347768187523, 0.027870643883943558, 0.021454157307744026, 0.025484127923846245, 0.024618497118353844, 0.011339706368744373, 0.03946563974022865, 0.01576077751815319, 0.026958042755723, 0.04389349743723869, 0.02451886609196663, 0.04698373004794121, 0.07493548840284348, 0.03394242376089096, 0.028687037527561188, 0.0287549439817667, 0.028383059427142143, 0.041392095386981964, 0.02266695350408554, 0.03677240386605263, 0.06321212649345398, 0.02212357521057129, 0.11178642511367798, 0.056250642985105515, 0.02557733841240406, 0.04014217481017113, 0.049302320927381516, 0.0, 0.0, 0.0, 0.0, 0.0, 0.0, 0.0, 0.0, 0.0, 0.0, 0.0, 0.0, 0.0, 0.0], [0.034000884741544724, 0.02155381441116333, 0.026024943217635155, 0.028284909203648567, 0.04913848638534546, 0.013155223801732063, 0.04789632931351662, 0.026928314939141273, 0.017514478415250778, 0.06020091474056244, 0.021743785589933395, 0.06804145127534866, 0.05165547877550125, 0.027193699032068253, 0.02805042639374733, 0.027577998116612434, 0.029538139700889587, 0.052230533212423325, 0.03562858700752258, 0.03197222948074341, 0.07126288115978241, 0.02402251400053501, 0.05692819505929947, 0.03319091349840164, 0.03759092837572098, 0.03348107635974884, 0.023740269243717194, 0.021452581509947777, 0.0, 0.0, 0.0, 0.0, 0.0, 0.0, 0.0, 0.0, 0.0, 0.0, 0.0, 0.0, 0.0], [0.023555660620331764, 0.018947774544358253, 0.024476228281855583, 0.021717539057135582, 0.06439711898565292, 0.011120257899165154, 0.04762409254908562, 0.023147623986005783, 0.01508156768977642, 0.06809735298156738, 0.0198513213545084, 0.0656803548336029, 0.059265222400426865, 0.030043158680200577, 0.02908373810350895, 0.025720305740833282, 0.02854081615805626, 0.060785915702581406, 0.03938371688127518, 0.023211751133203506, 0.08021553605794907, 0.017059242352843285, 0.045515142381191254, 0.024574274197220802, 0.04139646887779236, 0.023938655853271484, 0.03162949159741402, 0.017272112891077995, 0.01866753399372101, 0.0, 0.0, 0.0, 0.0, 0.0, 0.0, 0.0, 0.0, 0.0, 0.0, 0.0, 0.0], [0.029724981635808945, 0.026179393753409386, 0.026776248589158058, 0.033099982887506485, 0.031126106157898903, 0.010425330139696598, 0.0482209175825119, 0.01456761360168457, 0.019105976447463036, 0.04799313098192215, 0.02221248857676983, 0.053415365517139435, 0.06148528680205345, 0.025791512802243233, 0.02576129138469696, 0.03222385048866272, 0.02132740430533886, 0.03844698891043663, 0.022786419838666916, 0.041483718901872635, 0.06029559671878815, 0.023596758022904396, 0.06387145072221756, 0.047070275992155075, 0.02449633926153183, 0.04430157318711281, 0.03035883978009224, 0.017534231767058372, 0.030259711667895317, 0.02606120891869068, 0.0, 0.0, 0.0, 0.0, 0.0, 0.0, 0.0, 0.0, 0.0, 0.0, 0.0], [0.03220966085791588, 0.029458625242114067, 0.03001990355551243, 0.04028354957699776, 0.041913457214832306, 0.013495155610144138, 0.04078201949596405, 0.02049654722213745, 0.02305397018790245, 0.04608649015426636, 0.022115318104624748, 0.04398535192012787, 0.03165691718459129, 0.02622377686202526, 0.022809727117419243, 0.03312183916568756, 0.03199942037463188, 0.03455594927072525, 0.03322439268231392, 0.047448139637708664, 0.05383108928799629, 0.019749846309423447, 0.0319143570959568, 0.03210819140076637, 0.034936629235744476, 0.04930449649691582, 0.03133800998330116, 0.017451828345656395, 0.030784226953983307, 0.026470936834812164, 0.027170196175575256, 0.0, 0.0, 0.0, 0.0, 0.0, 0.0, 0.0, 0.0, 0.0, 0.0], [0.041277214884757996, 0.04099007323384285, 0.018838223069906235, 0.026665927842259407, 0.00827749166637659, 0.01110285334289074, 0.022944046184420586, 0.021140100434422493, 0.050462327897548676, 0.018509265035390854, 0.02363726496696472, 0.014905668795108795, 0.030518196523189545, 0.025917526334524155, 0.02330670692026615, 0.029354378581047058, 0.024037061259150505, 0.01712237112224102, 0.017648059874773026, 0.047466497868299484, 0.02937859110534191, 0.030258387327194214, 0.05696543678641319, 0.03977397829294205, 0.020398098975419998, 0.053719937801361084, 0.0464109443128109, 0.03532254323363304, 0.0681561529636383, 0.03823511302471161, 0.028106899932026863, 0.03915262967348099, 0.0, 0.0, 0.0, 0.0, 0.0, 0.0, 0.0, 0.0, 0.0], [0.03284482657909393, 0.02425774559378624, 0.02515823021531105, 0.0275745689868927, 0.02550455369055271, 0.01167153287678957, 0.03135111927986145, 0.015967871993780136, 0.018873976543545723, 0.03498690202832222, 0.021526217460632324, 0.03810153156518936, 0.04444234073162079, 0.022495893761515617, 0.02488337829709053, 0.03230372816324234, 0.021120958030223846, 0.03350335732102394, 0.020327571779489517, 0.03687380254268646, 0.046859558671712875, 0.024219196289777756, 0.05025039240717888, 0.0443468876183033, 0.022167567163705826, 0.04003269597887993, 0.03163573145866394, 0.020782940089702606, 0.03156882897019386, 0.03309988975524902, 0.02489071525633335, 0.05678766965866089, 0.0295877642929554, 0.0, 0.0, 0.0, 0.0, 0.0, 0.0, 0.0, 0.0], [0.038101520389318466, 0.03552890568971634, 0.017692439258098602, 0.02641940675675869, 0.00736289331689477, 0.009269134141504765, 0.023967374116182327, 0.01661176234483719, 0.04407550022006035, 0.017349284142255783, 0.02284000627696514, 0.012130403891205788, 0.028415657579898834, 0.02361566387116909, 0.02050158753991127, 0.02749820239841938, 0.0210148673504591, 0.01512994896620512, 0.016594870015978813, 0.04690912738442421, 0.027688702568411827, 0.027604421600699425, 0.049663081765174866, 0.03974413499236107, 0.01917285844683647, 0.05319992080330849, 0.04010171443223953, 0.028831103816628456, 0.05756669119000435, 0.0316908098757267, 0.02297547645866871, 0.036944326013326645, 0.040148936212062836, 0.05363919585943222, 0.0, 0.0, 0.0, 0.0, 0.0, 0.0, 0.0], [0.040324196219444275, 0.021825898438692093, 0.02464195340871811, 0.02839120849967003, 0.017078237608075142, 0.011256261728703976, 0.029797904193401337, 0.014221602119505405, 0.02002193219959736, 0.027981877326965332, 0.019139453768730164, 0.031338710337877274, 0.03960946202278137, 0.020917728543281555, 0.021052801981568336, 0.030770262703299522, 0.022365588694810867, 0.024667711928486824, 0.013024578802287579, 0.03803158923983574, 0.03663230687379837, 0.02206394448876381, 0.05648346617817879, 0.04324515536427498, 0.014362404122948647, 0.04142230004072189, 0.02884187363088131, 0.022163420915603638, 0.026911718770861626, 0.029192527756094933, 0.024157516658306122, 0.04516942799091339, 0.02678150124847889, 0.06002508103847504, 0.02608833648264408, 0.0, 0.0, 0.0, 0.0, 0.0, 0.0], [0.02691170573234558, 0.022203152999281883, 0.019813066348433495, 0.021589776501059532, 0.020315300673246384, 0.008848324418067932, 0.044507309794425964, 0.010484604164958, 0.0205627903342247, 0.03685464709997177, 0.01566237397491932, 0.037213362753391266, 0.05014004930853844, 0.02046366035938263, 0.016498753800988197, 0.022509990260004997, 0.017637887969613075, 0.025081658735871315, 0.011136634275317192, 0.02690166048705578, 0.04755797237157822, 0.016405710950493813, 0.05697063356637955, 0.024889549240469933, 0.012222913093864918, 0.029055822640657425, 0.03328069671988487, 0.014256594702601433, 0.02455149218440056, 0.01921241730451584, 0.01731785386800766, 0.05935961380600929, 0.021431060507893562, 0.07630439102649689, 0.019581489264965057, 0.05226508900523186, 0.0, 0.0, 0.0, 0.0, 0.0], [0.019930977374315262, 0.013707531616091728, 0.017011968418955803, 0.016617342829704285, 0.02229994535446167, 0.008181734010577202, 0.03647417947649956, 0.010292994789779186, 0.013726784847676754, 0.03741566836833954, 0.014564244076609612, 0.035269595682621, 0.06107126176357269, 0.025473201647400856, 0.019271602854132652, 0.019695205613970757, 0.02195405773818493, 0.03163277357816696, 0.013256555423140526, 0.019933806732296944, 0.04691481962800026, 0.014198100194334984, 0.05803661420941353, 0.037177104502916336, 0.014529790729284286, 0.021250372752547264, 0.031180933117866516, 0.013705390505492687, 0.01467471569776535, 0.013090935535728931, 0.01870661973953247, 0.05610840022563934, 0.018849076703190804, 0.08739104866981506, 0.016264114528894424, 0.03777619078755379, 0.04236423969268799, 0.0, 0.0, 0.0, 0.0], [0.02092444710433483, 0.020653411746025085, 0.018429813906550407, 0.02088317647576332, 0.02802344597876072, 0.007954255677759647, 0.04133473336696625, 0.010013439692556858, 0.013575543649494648, 0.04138379544019699, 0.015531418845057487, 0.04092711582779884, 0.049922529608011246, 0.02072291448712349, 0.019064337015151978, 0.020865406841039658, 0.015879889950156212, 0.03144785016775131, 0.016988005489110947, 0.024682559072971344, 0.051029689610004425, 0.015006296336650848, 0.04600410535931587, 0.02982167899608612, 0.018264830112457275, 0.026212673634290695, 0.023411858826875687, 0.011721820570528507, 0.022800078615546227, 0.015089732594788074, 0.016471069306135178, 0.06019792705774307, 0.01950649358332157, 0.06895812600851059, 0.01680695079267025, 0.024427833035588264, 0.0292009636759758, 0.02585977129638195, 0.0, 0.0, 0.0], [0.011114525608718395, 0.016067683696746826, 0.014881828799843788, 0.0160902738571167, 0.03004476986825466, 0.005959449335932732, 0.025715356692671776, 0.009163369424641132, 0.012377159669995308, 0.03644952178001404, 0.010561184957623482, 0.027227042242884636, 0.05681746453046799, 0.01807095669209957, 0.018961552530527115, 0.02146196737885475, 0.01115820650011301, 0.0376104936003685, 0.015125754289329052, 0.022122357040643692, 0.049350522458553314, 0.015497948043048382, 0.024523353204131126, 0.04970519244670868, 0.016184743493795395, 0.02409103885293007, 0.031238829717040062, 0.01332214754074812, 0.022846320644021034, 0.03612697869539261, 0.01744432933628559, 0.05997692048549652, 0.014014757238328457, 0.0881725624203682, 0.01809866912662983, 0.0152195505797863, 0.04738076403737068, 0.028507722541689873, 0.011316733434796333, 0.0, 0.0], [0.019473673775792122, 0.024378111585974693, 0.022443531081080437, 0.025880251079797745, 0.034347355365753174, 0.010753023438155651, 0.036037661135196686, 0.008709610439836979, 0.014377032406628132, 0.03970161825418472, 0.019702358171343803, 0.038167137652635574, 0.034042246639728546, 0.020660432055592537, 0.017170296981930733, 0.024097418412566185, 0.01729380153119564, 0.029159361496567726, 0.025416923686861992, 0.028075458481907845, 0.045379552990198135, 0.01573084481060505, 0.031016213819384575, 0.028660191223025322, 0.026555778458714485, 0.0290105901658535, 0.025453662499785423, 0.008750159293413162, 0.02569654770195484, 0.014498413540422916, 0.01671910472214222, 0.050270237028598785, 0.022637296468019485, 0.04169289395213127, 0.016740603372454643, 0.018635239452123642, 0.020712586119771004, 0.028391137719154358, 0.01087535172700882, 0.03268631175160408, 0.0], [0.03251522779464722, 0.02179553732275963, 0.01607610285282135, 0.017827706411480904, 0.007584347855299711, 0.007075364701449871, 0.025580300018191338, 0.009115397930145264, 0.022860564291477203, 0.01638105697929859, 0.013759348541498184, 0.012434635311365128, 0.03223397210240364, 0.017537031322717667, 0.015456094406545162, 0.021594610065221786, 0.015113535337150097, 0.01291800756007433, 0.007045830134302378, 0.027043817564845085, 0.02446305938065052, 0.017037274315953255, 0.038466908037662506, 0.030727114528417587, 0.008158259093761444, 0.030966738238930702, 0.03051725961267948, 0.02078207954764366, 0.029307857155799866, 0.024956533685326576, 0.016898978501558304, 0.03435485064983368, 0.023821774870157242, 0.06302562355995178, 0.0228884257376194, 0.045006897300481796, 0.042941123247146606, 0.033786091953516006, 0.014841227792203426, 0.03773221746087074, 0.05737122520804405]], [[1.0, 0.0, 0.0, 0.0, 0.0, 0.0, 0.0, 0.0, 0.0, 0.0, 0.0, 0.0, 0.0, 0.0, 0.0, 0.0, 0.0, 0.0, 0.0, 0.0, 0.0, 0.0, 0.0, 0.0, 0.0, 0.0, 0.0, 0.0, 0.0, 0.0, 0.0, 0.0, 0.0, 0.0, 0.0, 0.0, 0.0, 0.0, 0.0, 0.0, 0.0], [0.6313081383705139, 0.3686918020248413, 0.0, 0.0, 0.0, 0.0, 0.0, 0.0, 0.0, 0.0, 0.0, 0.0, 0.0, 0.0, 0.0, 0.0, 0.0, 0.0, 0.0, 0.0, 0.0, 0.0, 0.0, 0.0, 0.0, 0.0, 0.0, 0.0, 0.0, 0.0, 0.0, 0.0, 0.0, 0.0, 0.0, 0.0, 0.0, 0.0, 0.0, 0.0, 0.0], [0.41125836968421936, 0.16292135417461395, 0.4258202910423279, 0.0, 0.0, 0.0, 0.0, 0.0, 0.0, 0.0, 0.0, 0.0, 0.0, 0.0, 0.0, 0.0, 0.0, 0.0, 0.0, 0.0, 0.0, 0.0, 0.0, 0.0, 0.0, 0.0, 0.0, 0.0, 0.0, 0.0, 0.0, 0.0, 0.0, 0.0, 0.0, 0.0, 0.0, 0.0, 0.0, 0.0, 0.0], [0.3884122669696808, 0.1545255184173584, 0.36229175329208374, 0.0947704017162323, 0.0, 0.0, 0.0, 0.0, 0.0, 0.0, 0.0, 0.0, 0.0, 0.0, 0.0, 0.0, 0.0, 0.0, 0.0, 0.0, 0.0, 0.0, 0.0, 0.0, 0.0, 0.0, 0.0, 0.0, 0.0, 0.0, 0.0, 0.0, 0.0, 0.0, 0.0, 0.0, 0.0, 0.0, 0.0, 0.0, 0.0], [0.0015514037804678082, 0.0005345203680917621, 0.0022236835211515427, 0.0007587320869788527, 0.9949316382408142, 0.0, 0.0, 0.0, 0.0, 0.0, 0.0, 0.0, 0.0, 0.0, 0.0, 0.0, 0.0, 0.0, 0.0, 0.0, 0.0, 0.0, 0.0, 0.0, 0.0, 0.0, 0.0, 0.0, 0.0, 0.0, 0.0, 0.0, 0.0, 0.0, 0.0, 0.0, 0.0, 0.0, 0.0, 0.0, 0.0], [0.01353660598397255, 0.005560900550335646, 0.013344502076506615, 0.003626949619501829, 0.9303507208824158, 0.03358028829097748, 0.0, 0.0, 0.0, 0.0, 0.0, 0.0, 0.0, 0.0, 0.0, 0.0, 0.0, 0.0, 0.0, 0.0, 0.0, 0.0, 0.0, 0.0, 0.0, 0.0, 0.0, 0.0, 0.0, 0.0, 0.0, 0.0, 0.0, 0.0, 0.0, 0.0, 0.0, 0.0, 0.0, 0.0, 0.0], [0.001366758719086647, 0.0004466906830202788, 0.0017371822614222765, 0.0005427990690805018, 0.5239986777305603, 0.0023272596299648285, 0.4695807099342346, 0.0, 0.0, 0.0, 0.0, 0.0, 0.0, 0.0, 0.0, 0.0, 0.0, 0.0, 0.0, 0.0, 0.0, 0.0, 0.0, 0.0, 0.0, 0.0, 0.0, 0.0, 0.0, 0.0, 0.0, 0.0, 0.0, 0.0, 0.0, 0.0, 0.0, 0.0, 0.0, 0.0, 0.0], [0.011021877638995647, 0.005092899780720472, 0.01113321352750063, 0.0036889100447297096, 0.4691895842552185, 0.023201441392302513, 0.4067918360233307, 0.06988021731376648, 0.0, 0.0, 0.0, 0.0, 0.0, 0.0, 0.0, 0.0, 0.0, 0.0, 0.0, 0.0, 0.0, 0.0, 0.0, 0.0, 0.0, 0.0, 0.0, 0.0, 0.0, 0.0, 0.0, 0.0, 0.0, 0.0, 0.0, 0.0, 0.0, 0.0, 0.0, 0.0, 0.0], [0.029126983135938644, 0.011988350190222263, 0.02275671996176243, 0.006415440235286951, 0.3956852853298187, 0.043721847236156464, 0.37479642033576965, 0.08095553517341614, 0.03455342352390289, 0.0, 0.0, 0.0, 0.0, 0.0, 0.0, 0.0, 0.0, 0.0, 0.0, 0.0, 0.0, 0.0, 0.0, 0.0, 0.0, 0.0, 0.0, 0.0, 0.0, 0.0, 0.0, 0.0, 0.0, 0.0, 0.0, 0.0, 0.0, 0.0, 0.0, 0.0, 0.0], [0.0016711277421563864, 0.0005837855860590935, 0.0020866577979177237, 0.0007374010747298598, 0.2859783470630646, 0.002834924729540944, 0.23322038352489471, 0.008499560877680779, 0.0028161201626062393, 0.461571604013443, 0.0, 0.0, 0.0, 0.0, 0.0, 0.0, 0.0, 0.0, 0.0, 0.0, 0.0, 0.0, 0.0, 0.0, 0.0, 0.0, 0.0, 0.0, 0.0, 0.0, 0.0, 0.0, 0.0, 0.0, 0.0, 0.0, 0.0, 0.0, 0.0, 0.0, 0.0], [0.013692994602024555, 0.006307655479758978, 0.012270095758140087, 0.003626252058893442, 0.27010414004325867, 0.02798573113977909, 0.223702535033226, 0.05146552622318268, 0.017437344416975975, 0.35687798261642456, 0.016529694199562073, 0.0, 0.0, 0.0, 0.0, 0.0, 0.0, 0.0, 0.0, 0.0, 0.0, 0.0, 0.0, 0.0, 0.0, 0.0, 0.0, 0.0, 0.0, 0.0, 0.0, 0.0, 0.0, 0.0, 0.0, 0.0, 0.0, 0.0, 0.0, 0.0, 0.0], [0.00018713722238317132, 5.5963584600249305e-05, 0.00024239812046289444, 7.487048424081877e-05, 0.10564489662647247, 0.0002929357287939638, 0.09572716057300568, 0.0020036734640598297, 0.0004263663140591234, 0.23145124316215515, 0.0004815516294911504, 0.5634117722511292, 0.0, 0.0, 0.0, 0.0, 0.0, 0.0, 0.0, 0.0, 0.0, 0.0, 0.0, 0.0, 0.0, 0.0, 0.0, 0.0, 0.0, 0.0, 0.0, 0.0, 0.0, 0.0, 0.0, 0.0, 0.0, 0.0, 0.0, 0.0, 0.0], [0.0004675435193348676, 0.00014681422908324748, 0.0005493898643180728, 0.00017397427291143686, 0.10052337497472763, 0.0006225978722795844, 0.08792195469141006, 0.002298524370416999, 0.0007385307690128684, 0.1817738562822342, 0.0008343699155375361, 0.33919328451156616, 0.28475576639175415, 0.0, 0.0, 0.0, 0.0, 0.0, 0.0, 0.0, 0.0, 0.0, 0.0, 0.0, 0.0, 0.0, 0.0, 0.0, 0.0, 0.0, 0.0, 0.0, 0.0, 0.0, 0.0, 0.0, 0.0, 0.0, 0.0, 0.0, 0.0], [0.007738173473626375, 0.0029355196747928858, 0.0064397514797747135, 0.0019310162169858813, 0.12654560804367065, 0.009787824004888535, 0.12057933956384659, 0.0191294364631176, 0.00893708597868681, 0.18310600519180298, 0.00877256691455841, 0.18429157137870789, 0.2657875120639801, 0.05401858314871788, 0.0, 0.0, 0.0, 0.0, 0.0, 0.0, 0.0, 0.0, 0.0, 0.0, 0.0, 0.0, 0.0, 0.0, 0.0, 0.0, 0.0, 0.0, 0.0, 0.0, 0.0, 0.0, 0.0, 0.0, 0.0, 0.0, 0.0], [0.00841967761516571, 0.0032929289154708385, 0.006844548508524895, 0.001963315298780799, 0.11758162826299667, 0.011313362047076225, 0.11587397009134293, 0.023817723616957664, 0.010283643379807472, 0.17126168310642242, 0.01003993395715952, 0.17591623961925507, 0.2435472160577774, 0.06588439643383026, 0.03395964577794075, 0.0, 0.0, 0.0, 0.0, 0.0, 0.0, 0.0, 0.0, 0.0, 0.0, 0.0, 0.0, 0.0, 0.0, 0.0, 0.0, 0.0, 0.0, 0.0, 0.0, 0.0, 0.0, 0.0, 0.0, 0.0, 0.0], [0.016666321083903313, 0.005413060542196035, 0.009328789077699184, 0.0025188715662807226, 0.11538353562355042, 0.014316096901893616, 0.11768607050180435, 0.02442023530602455, 0.013691739179193974, 0.16289590299129486, 0.013053761795163155, 0.13047154247760773, 0.24206939339637756, 0.0810081958770752, 0.04037110507488251, 0.010705349035561085, 0.0, 0.0, 0.0, 0.0, 0.0, 0.0, 0.0, 0.0, 0.0, 0.0, 0.0, 0.0, 0.0, 0.0, 0.0, 0.0, 0.0, 0.0, 0.0, 0.0, 0.0, 0.0, 0.0, 0.0, 0.0], [0.0072591411881148815, 0.0033448240719735622, 0.0068289837799966335, 0.002218195702880621, 0.1214207261800766, 0.011027551256120205, 0.10619665682315826, 0.025193914771080017, 0.009618262760341167, 0.16759176552295685, 0.009697015397250652, 0.1777217984199524, 0.21321646869182587, 0.0537860132753849, 0.03147389367222786, 0.007909753359854221, 0.045494988560676575, 0.0, 0.0, 0.0, 0.0, 0.0, 0.0, 0.0, 0.0, 0.0, 0.0, 0.0, 0.0, 0.0, 0.0, 0.0, 0.0, 0.0, 0.0, 0.0, 0.0, 0.0, 0.0, 0.0, 0.0], [0.0018901072908192873, 0.0007020229822956026, 0.0022158422507345676, 0.0007195111247710884, 0.10396812111139297, 0.0025697052478790283, 0.09036468714475632, 0.006431026849895716, 0.0027053491212427616, 0.15287527441978455, 0.0028511679265648127, 0.221337229013443, 0.2322661280632019, 0.018243707716464996, 0.00967947207391262, 0.0026816308964043856, 0.01573943719267845, 0.13275961577892303, 0.0, 0.0, 0.0, 0.0, 0.0, 0.0, 0.0, 0.0, 0.0, 0.0, 0.0, 0.0, 0.0, 0.0, 0.0, 0.0, 0.0, 0.0, 0.0, 0.0, 0.0, 0.0, 0.0], [0.009883633814752102, 0.004233886022120714, 0.008302459493279457, 0.002689508954063058, 0.09349212795495987, 0.013717664405703545, 0.08038259297609329, 0.02569228783249855, 0.011267230845987797, 0.12226516753435135, 0.01136077381670475, 0.12447480857372284, 0.16247829794883728, 0.05982748046517372, 0.03300941362977028, 0.009480337612330914, 0.04631395637989044, 0.1366194188594818, 0.04450898990035057, 0.0, 0.0, 0.0, 0.0, 0.0, 0.0, 0.0, 0.0, 0.0, 0.0, 0.0, 0.0, 0.0, 0.0, 0.0, 0.0, 0.0, 0.0, 0.0, 0.0, 0.0, 0.0], [0.01671827957034111, 0.006264005787670612, 0.010360538959503174, 0.00283390493132174, 0.08877773582935333, 0.01703719235956669, 0.08790747821331024, 0.025402525439858437, 0.014301999472081661, 0.11407089978456497, 0.013464370742440224, 0.08095868676900864, 0.160476952791214, 0.07771112024784088, 0.03859120234847069, 0.011186438612639904, 0.05240701884031296, 0.1266632229089737, 0.05154479295015335, 0.003321722149848938, 0.0, 0.0, 0.0, 0.0, 0.0, 0.0, 0.0, 0.0, 0.0, 0.0, 0.0, 0.0, 0.0, 0.0, 0.0, 0.0, 0.0, 0.0, 0.0, 0.0, 0.0], [0.0020513946656137705, 0.0007547530112788081, 0.0023252430837601423, 0.0008391769370064139, 0.0830872505903244, 0.002457116497680545, 0.070658840239048, 0.00546969985589385, 0.002645597094669938, 0.11730199307203293, 0.0029481472447514534, 0.18097609281539917, 0.18054825067520142, 0.01554181706160307, 0.009139865636825562, 0.0028575200121849775, 0.014142279513180256, 0.10698660463094711, 0.012333736754953861, 0.0009375377558171749, 0.18599700927734375, 0.0, 0.0, 0.0, 0.0, 0.0, 0.0, 0.0, 0.0, 0.0, 0.0, 0.0, 0.0, 0.0, 0.0, 0.0, 0.0, 0.0, 0.0, 0.0, 0.0], [0.012798233889043331, 0.006059161853045225, 0.011073404923081398, 0.003066940465942025, 0.07510348409414291, 0.020029217004776, 0.06792175769805908, 0.026940371841192245, 0.013597480952739716, 0.08687272667884827, 0.012749374844133854, 0.06456334888935089, 0.11927730590105057, 0.06690075248479843, 0.03639274835586548, 0.011295340955257416, 0.05006706714630127, 0.09817296266555786, 0.04043494910001755, 0.003218377009034157, 0.13301444053649902, 0.04045062139630318, 0.0, 0.0, 0.0, 0.0, 0.0, 0.0, 0.0, 0.0, 0.0, 0.0, 0.0, 0.0, 0.0, 0.0, 0.0, 0.0, 0.0, 0.0, 0.0], [0.00012668587442021817, 3.8129666791064665e-05, 0.00014885910786688328, 5.000424789614044e-05, 0.039589978754520416, 0.00013148684229236096, 0.03069598414003849, 0.0008292905986309052, 0.00020986505842301995, 0.07756008207798004, 0.00024340477830264717, 0.17191800475120544, 0.1148749515414238, 0.0017436470370739698, 0.0008120110142044723, 0.00017311325063928962, 0.0020617640111595392, 0.052145447582006454, 0.003188476664945483, 6.118497549323365e-05, 0.16882270574569702, 0.001122636953368783, 0.3334523141384125, 0.0, 0.0, 0.0, 0.0, 0.0, 0.0, 0.0, 0.0, 0.0, 0.0, 0.0, 0.0, 0.0, 0.0, 0.0, 0.0, 0.0, 0.0], [0.009445704519748688, 0.003866103244945407, 0.007399950176477432, 0.0020575528033077717, 0.06985597312450409, 0.009605440311133862, 0.0681220218539238, 0.018212830647826195, 0.00974248070269823, 0.08001016825437546, 0.008678141981363297, 0.06270747631788254, 0.10039988160133362, 0.04582307115197182, 0.02343788929283619, 0.007147686090320349, 0.03236100450158119, 0.08402582257986069, 0.03394351899623871, 0.0021594951394945383, 0.12556278705596924, 0.03058548830449581, 0.11429642885923386, 0.05055306479334831, 0.0, 0.0, 0.0, 0.0, 0.0, 0.0, 0.0, 0.0, 0.0, 0.0, 0.0, 0.0, 0.0, 0.0, 0.0, 0.0, 0.0], [0.008722121827304363, 0.0040663499385118484, 0.007764547597616911, 0.00255394633859396, 0.05588255077600479, 0.011797240935266018, 0.04831044748425484, 0.020311476662755013, 0.00990805309265852, 0.06771136820316315, 0.00978547427803278, 0.067210353910923, 0.08991457521915436, 0.04521648585796356, 0.025136666372418404, 0.008445510640740395, 0.03448658436536789, 0.07923759520053864, 0.0314205102622509, 0.002842745278030634, 0.10413897782564163, 0.030013784766197205, 0.14900775253772736, 0.04973222315311432, 0.036382630467414856, 0.0, 0.0, 0.0, 0.0, 0.0, 0.0, 0.0, 0.0, 0.0, 0.0, 0.0, 0.0, 0.0, 0.0, 0.0, 0.0], [0.013708095997571945, 0.0054434011690318584, 0.008867746219038963, 0.0024457122199237347, 0.054968468844890594, 0.013649825006723404, 0.05462818965315819, 0.018938183784484863, 0.0116068534553051, 0.06640876829624176, 0.010763145983219147, 0.04592188075184822, 0.09336584061384201, 0.056547489017248154, 0.028084125369787216, 0.009181476198136806, 0.037448491901159286, 0.07604717463254929, 0.03542451560497284, 0.0027874044608324766, 0.11081303656101227, 0.03650370612740517, 0.10091748088598251, 0.060738369822502136, 0.04177217558026314, 0.0030184227507561445, 0.0, 0.0, 0.0, 0.0, 0.0, 0.0, 0.0, 0.0, 0.0, 0.0, 0.0, 0.0, 0.0, 0.0, 0.0], [0.005808805115520954, 0.002623524283990264, 0.005959017667919397, 0.0017173567321151495, 0.06563460826873779, 0.007457483094185591, 0.0578615739941597, 0.013427105732262135, 0.006816646084189415, 0.07434426993131638, 0.006401843391358852, 0.0710628479719162, 0.1013660728931427, 0.03551524132490158, 0.01938062533736229, 0.005903692450374365, 0.02428891323506832, 0.07688326388597488, 0.022616079077124596, 0.0017358777113258839, 0.11327478289604187, 0.022083979099988937, 0.11572728306055069, 0.036808744072914124, 0.026203321292996407, 0.0018691421719267964, 0.0772278681397438, 0.0, 0.0, 0.0, 0.0, 0.0, 0.0, 0.0, 0.0, 0.0, 0.0, 0.0, 0.0, 0.0, 0.0], [0.011892745271325111, 0.005400430411100388, 0.00875880941748619, 0.0024996832944452763, 0.04676974192261696, 0.014182563871145248, 0.04449337348341942, 0.025038406252861023, 0.013383987359702587, 0.05426160246133804, 0.011173373088240623, 0.040278587490320206, 0.06982485204935074, 0.05264899507164955, 0.029794026166200638, 0.009227415546774864, 0.04406322166323662, 0.06507878750562668, 0.03858308121562004, 0.0028219616506248713, 0.08197159320116043, 0.03360326215624809, 0.09048512578010559, 0.06568287312984467, 0.04407943785190582, 0.002976557007059455, 0.0837574377655983, 0.00726804044097662, 0.0, 0.0, 0.0, 0.0, 0.0, 0.0, 0.0, 0.0, 0.0, 0.0, 0.0, 0.0, 0.0], [0.012052108533680439, 0.005937288515269756, 0.008839569985866547, 0.0028301242273300886, 0.05103548616170883, 0.012227506376802921, 0.05005531385540962, 0.020884672179818153, 0.011966129764914513, 0.06344329565763474, 0.010792946442961693, 0.050318557769060135, 0.08274459093809128, 0.04167699068784714, 0.024321885779500008, 0.00880176480859518, 0.03296903520822525, 0.06427954137325287, 0.035186171531677246, 0.0031059705652296543, 0.09764180332422256, 0.030772747471928596, 0.10443085432052612, 0.05305895581841469, 0.03971859812736511, 0.003262311452999711, 0.06517486274242401, 0.007929095067083836, 0.004541821777820587, 0.0, 0.0, 0.0, 0.0, 0.0, 0.0, 0.0, 0.0, 0.0, 0.0, 0.0, 0.0], [0.0156855508685112, 0.006002127658575773, 0.009085962548851967, 0.002656541997566819, 0.04434837028384209, 0.011528963223099709, 0.04561375826597214, 0.017187250778079033, 0.012145590037107468, 0.05370503291487694, 0.010781632736325264, 0.04022170230746269, 0.07924339920282364, 0.05046243965625763, 0.025179002434015274, 0.00913043599575758, 0.032970134168863297, 0.0590355210006237, 0.030058415606617928, 0.0030654137954115868, 0.08775191009044647, 0.034840069711208344, 0.08968960493803024, 0.06968572735786438, 0.03573266416788101, 0.0033504068851470947, 0.10115627199411392, 0.008345960639417171, 0.004635644145309925, 0.00670442683622241, 0.0, 0.0, 0.0, 0.0, 0.0, 0.0, 0.0, 0.0, 0.0, 0.0, 0.0], [0.01136759016662836, 0.004451732151210308, 0.006684707943350077, 0.0025959641207009554, 0.05539365112781525, 0.009562821127474308, 0.04744986444711685, 0.016344476491212845, 0.009522242471575737, 0.06900489330291748, 0.008296644315123558, 0.06140229105949402, 0.09672125428915024, 0.036688029766082764, 0.01882725954055786, 0.006575414910912514, 0.028160812333226204, 0.07003803551197052, 0.027429724112153053, 0.0029266029596328735, 0.10803080350160599, 0.022682348266243935, 0.13412369787693024, 0.034191571176052094, 0.031534988433122635, 0.0031559087801724672, 0.05246295779943466, 0.006099401041865349, 0.0035096751525998116, 0.005209286231547594, 0.009555348195135593, 0.0, 0.0, 0.0, 0.0, 0.0, 0.0, 0.0, 0.0, 0.0, 0.0], [0.0026408983394503593, 0.0011653294786810875, 0.0035279658623039722, 0.0013146534329280257, 0.05905317887663841, 0.00318926596082747, 0.05028420686721802, 0.0060346187092363834, 0.0035372774582356215, 0.07098163664340973, 0.003745676949620247, 0.10491693764925003, 0.1078832671046257, 0.01541229896247387, 0.00923367589712143, 0.003893266897648573, 0.01385848131030798, 0.06846953928470612, 0.010745451785624027, 0.0013417722657322884, 0.10251441597938538, 0.010705486871302128, 0.14738017320632935, 0.017190219834446907, 0.012005754746496677, 0.0014275560388341546, 0.03324879705905914, 0.0019238778622820973, 0.0011180368019267917, 0.002093234797939658, 0.005404238123446703, 0.12375877797603607, 0.0, 0.0, 0.0, 0.0, 0.0, 0.0, 0.0, 0.0, 0.0], [0.010936993174254894, 0.006148010957986116, 0.010353155434131622, 0.0031621248926967382, 0.04525626823306084, 0.018040213733911514, 0.03847973421216011, 0.02305549569427967, 0.011863302439451218, 0.047081734985113144, 0.010743758641183376, 0.035018835216760635, 0.061141446232795715, 0.04769735783338547, 0.02714955434203148, 0.009570020250976086, 0.033807527273893356, 0.053691316395998, 0.028285859152674675, 0.003078492358326912, 0.06712469458580017, 0.030888237059116364, 0.0863163098692894, 0.04451975226402283, 0.032555192708969116, 0.0032998628448694944, 0.0823487788438797, 0.009028497152030468, 0.004975462798029184, 0.006612773053348064, 0.011101298034191132, 0.08100654929876328, 0.015661388635635376, 0.0, 0.0, 0.0, 0.0, 0.0, 0.0, 0.0, 0.0], [0.0009260831284336746, 0.00037803492159582675, 0.0012721446109935641, 0.0004276465915609151, 0.04358665272593498, 0.001015506568364799, 0.039440054446458817, 0.002658406738191843, 0.001340892631560564, 0.06005740538239479, 0.001428042771294713, 0.1020379588007927, 0.0961410403251648, 0.007169458083808422, 0.003986351657658815, 0.0014325438532978296, 0.006226487923413515, 0.0503804013133049, 0.006029840093106031, 0.0004578910011332482, 0.09859155118465424, 0.004904222209006548, 0.1335676610469818, 0.007805472705513239, 0.00684133218601346, 0.0004899236373603344, 0.01612253487110138, 0.0006961629260331392, 0.0003465893678367138, 0.0007634763605892658, 0.001749603427015245, 0.1221456229686737, 0.0021058579441159964, 0.17747719585895538, 0.0, 0.0, 0.0, 0.0, 0.0, 0.0, 0.0], [0.010684613138437271, 0.005853818263858557, 0.010381567291915417, 0.002983542624861002, 0.03686122968792915, 0.016681257635354996, 0.03359260410070419, 0.019731849431991577, 0.011748754419386387, 0.03744186833500862, 0.010497476905584335, 0.026804141700267792, 0.05044449493288994, 0.044181834906339645, 0.024436989799141884, 0.009745409712195396, 0.033145468682050705, 0.0445118211209774, 0.02433566004037857, 0.0029170901980251074, 0.05261550471186638, 0.03011862188577652, 0.06849858164787292, 0.047475311905145645, 0.028215982019901276, 0.003140509594231844, 0.0810171514749527, 0.008229541592299938, 0.0047815521247684956, 0.006764248013496399, 0.011260103434324265, 0.06436162441968918, 0.015500460751354694, 0.08428837358951569, 0.036750927567481995, 0.0, 0.0, 0.0, 0.0, 0.0, 0.0], [0.0017133940709754825, 0.0009083925397135317, 0.002194116823375225, 0.0008534428779967129, 0.046618346124887466, 0.002053568372502923, 0.04357658326625824, 0.005815159063786268, 0.0027433799114078283, 0.061711642891168594, 0.002613823628053069, 0.0890839621424675, 0.0797584056854248, 0.010239193215966225, 0.005793305579572916, 0.0022123053204268217, 0.00966842845082283, 0.051700469106435776, 0.011755049228668213, 0.0008766583632677794, 0.09310878813266754, 0.007605981081724167, 0.13516022264957428, 0.010110524483025074, 0.013178541325032711, 0.0009278473444283009, 0.015249519608914852, 0.0014734938740730286, 0.0007511250441893935, 0.0013982726959511638, 0.002403620630502701, 0.11199560761451721, 0.003608211176469922, 0.13327644765377045, 0.008878051303327084, 0.02898416481912136, 0.0, 0.0, 0.0, 0.0, 0.0], [0.007086364086717367, 0.0033935941755771637, 0.0065847961232066154, 0.0018168080132454634, 0.032889802008867264, 0.007124970201402903, 0.036163996905088425, 0.013261476531624794, 0.008535091765224934, 0.03633986786007881, 0.007363202981650829, 0.03051871247589588, 0.046751923859119415, 0.031917620450258255, 0.01567130722105503, 0.006379317957907915, 0.02273581549525261, 0.04080352932214737, 0.022536596283316612, 0.0019282556604593992, 0.05605604499578476, 0.024610649794340134, 0.060498908162117004, 0.04811330884695053, 0.027240315452218056, 0.0021279454231262207, 0.0631350576877594, 0.0050272392109036446, 0.002701444085687399, 0.004285722970962524, 0.007020296063274145, 0.07364970445632935, 0.012115885503590107, 0.09022164344787598, 0.031750649213790894, 0.06730404496192932, 0.04433808475732803, 0.0, 0.0, 0.0, 0.0], [0.01172326598316431, 0.004638009238988161, 0.007274777162820101, 0.002114558592438698, 0.027963818982243538, 0.009128492325544357, 0.029170308262109756, 0.012256918475031853, 0.009396492503583431, 0.03247861936688423, 0.008407526649534702, 0.02424449659883976, 0.04773323982954025, 0.035752035677433014, 0.018170947209000587, 0.007404646370559931, 0.02398323081433773, 0.037222474813461304, 0.02036762796342373, 0.002387895481660962, 0.05063539370894432, 0.02619612216949463, 0.05315602198243141, 0.05542256683111191, 0.0239810012280941, 0.0025892097037285566, 0.07209543138742447, 0.006352812051773071, 0.00368051091209054, 0.00527600385248661, 0.008270774967968464, 0.06233133003115654, 0.013196025043725967, 0.08443687856197357, 0.03180132061243057, 0.06328817456960678, 0.054656002670526505, 0.010815013200044632, 0.0, 0.0, 0.0], [0.011819080449640751, 0.00583911407738924, 0.008102808147668839, 0.002771990606561303, 0.025278626009821892, 0.01425370667129755, 0.02205401100218296, 0.01857110485434532, 0.010453421622514725, 0.028180547058582306, 0.009956743568181992, 0.020535428076982498, 0.035839177668094635, 0.039924219250679016, 0.021793436259031296, 0.008059022016823292, 0.027673950418829918, 0.037042926996946335, 0.02592100203037262, 0.0031080886255949736, 0.04372192546725273, 0.027295006439089775, 0.053139764815568924, 0.045185573399066925, 0.031052546575665474, 0.0034388971980661154, 0.06720104813575745, 0.008522831834852695, 0.0050302958115935326, 0.0062048351392149925, 0.01184949092566967, 0.05582750588655472, 0.01635921373963356, 0.067151740193367, 0.034433815628290176, 0.05811775475740433, 0.05347302556037903, 0.01226854044944048, 0.02254779078066349, 0.0, 0.0], [0.011074087582528591, 0.004865146242082119, 0.0076472824439406395, 0.002239203779026866, 0.029924914240837097, 0.01092003844678402, 0.029994938522577286, 0.01388681959360838, 0.009714743122458458, 0.033104706555604935, 0.00863112136721611, 0.022619696334004402, 0.04543061926960945, 0.03728746995329857, 0.019145788624882698, 0.007556951139122248, 0.025563610717654228, 0.0390206016600132, 0.022358499467372894, 0.0024240410421043634, 0.05050089582800865, 0.026341404765844345, 0.050845418125391006, 0.04681124910712242, 0.02622447907924652, 0.002623434644192457, 0.06778372079133987, 0.006832043640315533, 0.0038858286570757627, 0.005422710906714201, 0.008841176517307758, 0.06156502291560173, 0.013217421248555183, 0.07809936255216599, 0.031715501099824905, 0.05859281122684479, 0.049253981560468674, 0.010861310176551342, 0.014082161709666252, 0.00308978371322155, 0.0], [0.0001475308381486684, 5.472968041431159e-05, 0.00020234299881849438, 7.499632920371369e-05, 0.02244586870074272, 0.0001523874670965597, 0.01761178858578205, 0.0008207213832065463, 0.00026374938897788525, 0.03711915761232376, 0.00028344185557216406, 0.08059524744749069, 0.05291229486465454, 0.0014131503412500024, 0.0006920730811543763, 0.0002126486215274781, 0.0017725029028952122, 0.02631658874452114, 0.0023715419229120016, 8.302230708068237e-05, 0.06921720504760742, 0.0010852761333808303, 0.16808640956878662, 0.0014281925978139043, 0.0027975351549685, 9.170287376036867e-05, 0.0023778579197824, 0.0001048951962729916, 4.696830364991911e-05, 0.00012361761764623225, 0.00034193432657048106, 0.09513945877552032, 0.00047118309885263443, 0.11928904056549072, 0.0013893607538193464, 0.0072847940027713776, 0.001193795818835497, 0.0003398503758944571, 0.0002344092499697581, 0.00011950526823056862, 0.283291220664978]], [[1.0, 0.0, 0.0, 0.0, 0.0, 0.0, 0.0, 0.0, 0.0, 0.0, 0.0, 0.0, 0.0, 0.0, 0.0, 0.0, 0.0, 0.0, 0.0, 0.0, 0.0, 0.0, 0.0, 0.0, 0.0, 0.0, 0.0, 0.0, 0.0, 0.0, 0.0, 0.0, 0.0, 0.0, 0.0, 0.0, 0.0, 0.0, 0.0, 0.0, 0.0], [0.523201584815979, 0.4767983853816986, 0.0, 0.0, 0.0, 0.0, 0.0, 0.0, 0.0, 0.0, 0.0, 0.0, 0.0, 0.0, 0.0, 0.0, 0.0, 0.0, 0.0, 0.0, 0.0, 0.0, 0.0, 0.0, 0.0, 0.0, 0.0, 0.0, 0.0, 0.0, 0.0, 0.0, 0.0, 0.0, 0.0, 0.0, 0.0, 0.0, 0.0, 0.0, 0.0], [0.48258382081985474, 0.2774021029472351, 0.24001404643058777, 0.0, 0.0, 0.0, 0.0, 0.0, 0.0, 0.0, 0.0, 0.0, 0.0, 0.0, 0.0, 0.0, 0.0, 0.0, 0.0, 0.0, 0.0, 0.0, 0.0, 0.0, 0.0, 0.0, 0.0, 0.0, 0.0, 0.0, 0.0, 0.0, 0.0, 0.0, 0.0, 0.0, 0.0, 0.0, 0.0, 0.0, 0.0], [0.4173296391963959, 0.24597667157649994, 0.20541943609714508, 0.13127414882183075, 0.0, 0.0, 0.0, 0.0, 0.0, 0.0, 0.0, 0.0, 0.0, 0.0, 0.0, 0.0, 0.0, 0.0, 0.0, 0.0, 0.0, 0.0, 0.0, 0.0, 0.0, 0.0, 0.0, 0.0, 0.0, 0.0, 0.0, 0.0, 0.0, 0.0, 0.0, 0.0, 0.0, 0.0, 0.0, 0.0, 0.0], [0.3234421908855438, 0.12368196994066238, 0.1183953732252121, 0.06186801940202713, 0.3726123869419098, 0.0, 0.0, 0.0, 0.0, 0.0, 0.0, 0.0, 0.0, 0.0, 0.0, 0.0, 0.0, 0.0, 0.0, 0.0, 0.0, 0.0, 0.0, 0.0, 0.0, 0.0, 0.0, 0.0, 0.0, 0.0, 0.0, 0.0, 0.0, 0.0, 0.0, 0.0, 0.0, 0.0, 0.0, 0.0, 0.0], [0.23046758770942688, 0.10218995809555054, 0.08874019235372543, 0.05432383716106415, 0.3856348991394043, 0.13864347338676453, 0.0, 0.0, 0.0, 0.0, 0.0, 0.0, 0.0, 0.0, 0.0, 0.0, 0.0, 0.0, 0.0, 0.0, 0.0, 0.0, 0.0, 0.0, 0.0, 0.0, 0.0, 0.0, 0.0, 0.0, 0.0, 0.0, 0.0, 0.0, 0.0, 0.0, 0.0, 0.0, 0.0, 0.0, 0.0], [0.2135772407054901, 0.06858106702566147, 0.0672667995095253, 0.0362890399992466, 0.2749960422515869, 0.06653035432100296, 0.27275946736335754, 0.0, 0.0, 0.0, 0.0, 0.0, 0.0, 0.0, 0.0, 0.0, 0.0, 0.0, 0.0, 0.0, 0.0, 0.0, 0.0, 0.0, 0.0, 0.0, 0.0, 0.0, 0.0, 0.0, 0.0, 0.0, 0.0, 0.0, 0.0, 0.0, 0.0, 0.0, 0.0, 0.0, 0.0], [0.14497774839401245, 0.05688880756497383, 0.05096869170665741, 0.028178369626402855, 0.282715380191803, 0.06886237114667892, 0.28552860021591187, 0.08188001811504364, 0.0, 0.0, 0.0, 0.0, 0.0, 0.0, 0.0, 0.0, 0.0, 0.0, 0.0, 0.0, 0.0, 0.0, 0.0, 0.0, 0.0, 0.0, 0.0, 0.0, 0.0, 0.0, 0.0, 0.0, 0.0, 0.0, 0.0, 0.0, 0.0, 0.0, 0.0, 0.0, 0.0], [0.1250932216644287, 0.05787191540002823, 0.048326525837183, 0.030787747353315353, 0.26138433814048767, 0.07854247093200684, 0.2760767340660095, 0.09582003951072693, 0.026097066700458527, 0.0, 0.0, 0.0, 0.0, 0.0, 0.0, 0.0, 0.0, 0.0, 0.0, 0.0, 0.0, 0.0, 0.0, 0.0, 0.0, 0.0, 0.0, 0.0, 0.0, 0.0, 0.0, 0.0, 0.0, 0.0, 0.0, 0.0, 0.0, 0.0, 0.0, 0.0, 0.0], [0.16867667436599731, 0.04121873900294304, 0.04162639379501343, 0.023401683196425438, 0.17439080774784088, 0.04141821339726448, 0.17514196038246155, 0.05277828499674797, 0.016017679125070572, 0.2653295397758484, 0.0, 0.0, 0.0, 0.0, 0.0, 0.0, 0.0, 0.0, 0.0, 0.0, 0.0, 0.0, 0.0, 0.0, 0.0, 0.0, 0.0, 0.0, 0.0, 0.0, 0.0, 0.0, 0.0, 0.0, 0.0, 0.0, 0.0, 0.0, 0.0, 0.0, 0.0], [0.10127197206020355, 0.04500345513224602, 0.038851991295814514, 0.022448159754276276, 0.19356854259967804, 0.05528789386153221, 0.19113798439502716, 0.06662968546152115, 0.017416086047887802, 0.23911114037036896, 0.0292731374502182, 0.0, 0.0, 0.0, 0.0, 0.0, 0.0, 0.0, 0.0, 0.0, 0.0, 0.0, 0.0, 0.0, 0.0, 0.0, 0.0, 0.0, 0.0, 0.0, 0.0, 0.0, 0.0, 0.0, 0.0, 0.0, 0.0, 0.0, 0.0, 0.0, 0.0], [0.13522282242774963, 0.028361322358250618, 0.028779184445738792, 0.01725812256336212, 0.12055395543575287, 0.03178451955318451, 0.1193409189581871, 0.040091224014759064, 0.012166118249297142, 0.18606866896152496, 0.023245882242918015, 0.2571272552013397, 0.0, 0.0, 0.0, 0.0, 0.0, 0.0, 0.0, 0.0, 0.0, 0.0, 0.0, 0.0, 0.0, 0.0, 0.0, 0.0, 0.0, 0.0, 0.0, 0.0, 0.0, 0.0, 0.0, 0.0, 0.0, 0.0, 0.0, 0.0, 0.0], [0.11498632282018661, 0.0242450088262558, 0.024232253432273865, 0.01432917919009924, 0.09748925268650055, 0.026187224313616753, 0.09611844271421432, 0.03280153498053551, 0.009915142320096493, 0.1501736342906952, 0.019042624160647392, 0.20905233919620514, 0.181427001953125, 0.0, 0.0, 0.0, 0.0, 0.0, 0.0, 0.0, 0.0, 0.0, 0.0, 0.0, 0.0, 0.0, 0.0, 0.0, 0.0, 0.0, 0.0, 0.0, 0.0, 0.0, 0.0, 0.0, 0.0, 0.0, 0.0, 0.0, 0.0], [0.08505909144878387, 0.024020245298743248, 0.022765830159187317, 0.014355537481606007, 0.11434929072856903, 0.031447336077690125, 0.1143801361322403, 0.03885295242071152, 0.011511611752212048, 0.15396490693092346, 0.019038382917642593, 0.17660212516784668, 0.15909868478775024, 0.03455386310815811, 0.0, 0.0, 0.0, 0.0, 0.0, 0.0, 0.0, 0.0, 0.0, 0.0, 0.0, 0.0, 0.0, 0.0, 0.0, 0.0, 0.0, 0.0, 0.0, 0.0, 0.0, 0.0, 0.0, 0.0, 0.0, 0.0, 0.0], [0.07975795120000839, 0.02441527508199215, 0.021593991667032242, 0.012932892888784409, 0.11257880181074142, 0.031357087194919586, 0.11006610095500946, 0.038982316851615906, 0.009880494326353073, 0.14918360114097595, 0.017230462282896042, 0.17241817712783813, 0.15643972158432007, 0.03231891244649887, 0.03084416687488556, 0.0, 0.0, 0.0, 0.0, 0.0, 0.0, 0.0, 0.0, 0.0, 0.0, 0.0, 0.0, 0.0, 0.0, 0.0, 0.0, 0.0, 0.0, 0.0, 0.0, 0.0, 0.0, 0.0, 0.0, 0.0, 0.0], [0.0663154274225235, 0.02612851746380329, 0.02256862446665764, 0.015066317282617092, 0.11472639441490173, 0.039150722324848175, 0.11171746253967285, 0.04665161669254303, 0.012319962494075298, 0.1419733166694641, 0.020002111792564392, 0.15541473031044006, 0.144237220287323, 0.0315263532102108, 0.033392563462257385, 0.018808644264936447, 0.0, 0.0, 0.0, 0.0, 0.0, 0.0, 0.0, 0.0, 0.0, 0.0, 0.0, 0.0, 0.0, 0.0, 0.0, 0.0, 0.0, 0.0, 0.0, 0.0, 0.0, 0.0, 0.0, 0.0, 0.0], [0.08520957827568054, 0.021160760894417763, 0.019489623606204987, 0.013385103084146976, 0.10476819425821304, 0.032974015921354294, 0.09894398599863052, 0.04143326357007027, 0.010919217951595783, 0.13808372616767883, 0.01819906011223793, 0.16427595913410187, 0.149698406457901, 0.03208344057202339, 0.03112545982003212, 0.017843294888734818, 0.020406901836395264, 0.0, 0.0, 0.0, 0.0, 0.0, 0.0, 0.0, 0.0, 0.0, 0.0, 0.0, 0.0, 0.0, 0.0, 0.0, 0.0, 0.0, 0.0, 0.0, 0.0, 0.0, 0.0, 0.0, 0.0], [0.09495042264461517, 0.017580969259142876, 0.017338473349809647, 0.010538296774029732, 0.0810694545507431, 0.022443296387791634, 0.07692917436361313, 0.028601722791790962, 0.007458264473825693, 0.12305011600255966, 0.014352652244269848, 0.16514912247657776, 0.14604996144771576, 0.0315840058028698, 0.027512287721037865, 0.01836809702217579, 0.020033853128552437, 0.09698985517024994, 0.0, 0.0, 0.0, 0.0, 0.0, 0.0, 0.0, 0.0, 0.0, 0.0, 0.0, 0.0, 0.0, 0.0, 0.0, 0.0, 0.0, 0.0, 0.0, 0.0, 0.0, 0.0, 0.0], [0.08284628391265869, 0.018849216401576996, 0.01734749786555767, 0.011188946664333344, 0.0833834856748581, 0.026689661666750908, 0.0774371325969696, 0.03443735092878342, 0.008341431617736816, 0.11860682815313339, 0.015438824892044067, 0.15668976306915283, 0.1402883678674698, 0.030718935653567314, 0.029485389590263367, 0.017171800136566162, 0.01837063767015934, 0.0940265953540802, 0.018681811168789864, 0.0, 0.0, 0.0, 0.0, 0.0, 0.0, 0.0, 0.0, 0.0, 0.0, 0.0, 0.0, 0.0, 0.0, 0.0, 0.0, 0.0, 0.0, 0.0, 0.0, 0.0, 0.0], [0.058998603373765945, 0.0225185789167881, 0.018940379843115807, 0.01359262503683567, 0.09526770561933517, 0.038440071046352386, 0.09117096662521362, 0.046928394585847855, 0.01204103697091341, 0.11639562994241714, 0.01855996623635292, 0.13452057540416718, 0.12567758560180664, 0.02806628681719303, 0.031019868329167366, 0.01584003120660782, 0.01748429797589779, 0.08191194385290146, 0.021602964028716087, 0.011022496968507767, 0.0, 0.0, 0.0, 0.0, 0.0, 0.0, 0.0, 0.0, 0.0, 0.0, 0.0, 0.0, 0.0, 0.0, 0.0, 0.0, 0.0, 0.0, 0.0, 0.0, 0.0], [0.09673943370580673, 0.01727406494319439, 0.017628774046897888, 0.011066999286413193, 0.05886884033679962, 0.020145803689956665, 0.05196293070912361, 0.025933902710676193, 0.007230086717754602, 0.0895368754863739, 0.014373759739100933, 0.13062232732772827, 0.11731919646263123, 0.03210755065083504, 0.0287313312292099, 0.019571706652641296, 0.020377306267619133, 0.08714074641466141, 0.01853034645318985, 0.0130356065928936, 0.12180239707231522, 0.0, 0.0, 0.0, 0.0, 0.0, 0.0, 0.0, 0.0, 0.0, 0.0, 0.0, 0.0, 0.0, 0.0, 0.0, 0.0, 0.0, 0.0, 0.0, 0.0], [0.06745614856481552, 0.020398573949933052, 0.01799282245337963, 0.011562774889171124, 0.07758589088916779, 0.029591169208288193, 0.06930430978536606, 0.03571490943431854, 0.00879131443798542, 0.09858148545026779, 0.015188921242952347, 0.1205366998910904, 0.11172337830066681, 0.02658374421298504, 0.028174949809908867, 0.016193987801671028, 0.016340041533112526, 0.07736539095640182, 0.018175391480326653, 0.010516325011849403, 0.1040775403380394, 0.01814425364136696, 0.0, 0.0, 0.0, 0.0, 0.0, 0.0, 0.0, 0.0, 0.0, 0.0, 0.0, 0.0, 0.0, 0.0, 0.0, 0.0, 0.0, 0.0, 0.0], [0.08237313479185104, 0.013913708738982677, 0.014330714009702206, 0.009751475416123867, 0.05175407603383064, 0.01918836124241352, 0.04769911244511604, 0.02287502959370613, 0.007087384816259146, 0.0782395526766777, 0.013035738840699196, 0.11305081844329834, 0.10005740821361542, 0.028078969568014145, 0.02515014261007309, 0.016387509182095528, 0.017913013696670532, 0.07224824279546738, 0.015866199508309364, 0.011342325247824192, 0.09973739087581635, 0.01679816283285618, 0.12312153726816177, 0.0, 0.0, 0.0, 0.0, 0.0, 0.0, 0.0, 0.0, 0.0, 0.0, 0.0, 0.0, 0.0, 0.0, 0.0, 0.0, 0.0, 0.0], [0.06446387618780136, 0.015044334344565868, 0.013881023973226547, 0.00927601009607315, 0.06700734794139862, 0.02477812021970749, 0.05815614014863968, 0.0292152538895607, 0.007213273551315069, 0.08612734824419022, 0.012317904271185398, 0.10789597779512405, 0.09801022708415985, 0.022421369329094887, 0.023482542484998703, 0.012725431472063065, 0.013463656418025494, 0.06804512441158295, 0.01495160348713398, 0.008562466129660606, 0.09190712869167328, 0.014855596236884594, 0.11682578176259995, 0.01937243714928627, 0.0, 0.0, 0.0, 0.0, 0.0, 0.0, 0.0, 0.0, 0.0, 0.0, 0.0, 0.0, 0.0, 0.0, 0.0, 0.0, 0.0], [0.06578460335731506, 0.01420266181230545, 0.013214420527219772, 0.008958653546869755, 0.05928850173950195, 0.021924860775470734, 0.0525515116751194, 0.027727393433451653, 0.006682799197733402, 0.08244030922651291, 0.01221261452883482, 0.10750754922628403, 0.09792447835206985, 0.02317340113222599, 0.022965889424085617, 0.01299328450113535, 0.01405452098697424, 0.06779810786247253, 0.014902633614838123, 0.008791811764240265, 0.09033128619194031, 0.014663608744740486, 0.12742334604263306, 0.019266536459326744, 0.013215255923569202, 0.0, 0.0, 0.0, 0.0, 0.0, 0.0, 0.0, 0.0, 0.0, 0.0, 0.0, 0.0, 0.0, 0.0, 0.0, 0.0], [0.04708065465092659, 0.017459750175476074, 0.014794427901506424, 0.011018294841051102, 0.07129637151956558, 0.031837839633226395, 0.06619208306074142, 0.03813851252198219, 0.009791228920221329, 0.08549443632364273, 0.014908045530319214, 0.09677433222532272, 0.09163690358400345, 0.021656375378370285, 0.02444600872695446, 0.012276502326130867, 0.01370716281235218, 0.06125880032777786, 0.01734974794089794, 0.00884306337684393, 0.07632536441087723, 0.01621915027499199, 0.1029416099190712, 0.02509988471865654, 0.015246065333485603, 0.008207334205508232, 0.0, 0.0, 0.0, 0.0, 0.0, 0.0, 0.0, 0.0, 0.0, 0.0, 0.0, 0.0, 0.0, 0.0, 0.0], [0.06354840844869614, 0.014504904858767986, 0.01347021758556366, 0.009206973016262054, 0.05676671490073204, 0.02184261754155159, 0.05050539970397949, 0.02724975347518921, 0.007015650160610676, 0.07740382105112076, 0.012334760278463364, 0.10027933865785599, 0.0917138010263443, 0.02295144647359848, 0.022614285349845886, 0.013222891837358475, 0.014165263622999191, 0.064058817923069, 0.014758788049221039, 0.009001918137073517, 0.08401530236005783, 0.014637171290814877, 0.11388605087995529, 0.01884748414158821, 0.01312247198075056, 0.008434373885393143, 0.040441326797008514, 0.0, 0.0, 0.0, 0.0, 0.0, 0.0, 0.0, 0.0, 0.0, 0.0, 0.0, 0.0, 0.0, 0.0], [0.049450621008872986, 0.020260797813534737, 0.017336571589112282, 0.01330078486353159, 0.06811439990997314, 0.038636527955532074, 0.059112560003995895, 0.04194703325629234, 0.01153707318007946, 0.07530559599399567, 0.016781440004706383, 0.08032294362783432, 0.07788411527872086, 0.02177700214087963, 0.026362011209130287, 0.014034715481102467, 0.01468419935554266, 0.05460335686802864, 0.018778875470161438, 0.010398336686193943, 0.06497844308614731, 0.017903083935379982, 0.08402086794376373, 0.028555328026413918, 0.0165643822401762, 0.00967226829379797, 0.03417618200182915, 0.013500492088496685, 0.0, 0.0, 0.0, 0.0, 0.0, 0.0, 0.0, 0.0, 0.0, 0.0, 0.0, 0.0, 0.0], [0.02788609266281128, 0.018769677728414536, 0.01604856178164482, 0.010065660811960697, 0.09190980345010757, 0.030425112694501877, 0.08696027845144272, 0.033464524894952774, 0.008963779546320438, 0.09399149566888809, 0.012615575455129147, 0.08627571165561676, 0.08241661638021469, 0.016119495034217834, 0.01977403834462166, 0.010560684837400913, 0.012006942182779312, 0.05593370646238327, 0.015236638486385345, 0.006895267870277166, 0.08397835493087769, 0.014206323772668839, 0.07610923051834106, 0.018497081473469734, 0.013752991333603859, 0.006474792491644621, 0.030975716188549995, 0.010753843933343887, 0.008931984193623066, 0.0, 0.0, 0.0, 0.0, 0.0, 0.0, 0.0, 0.0, 0.0, 0.0, 0.0, 0.0], [0.05332157388329506, 0.01528286375105381, 0.013460895046591759, 0.010770161636173725, 0.06396033614873886, 0.03178136795759201, 0.05571410432457924, 0.037133026868104935, 0.009200183674693108, 0.07761019468307495, 0.014531029388308525, 0.08742236346006393, 0.0828324556350708, 0.020820103585720062, 0.023684760555624962, 0.011560991406440735, 0.013373242691159248, 0.05790214613080025, 0.016952533274888992, 0.00891092512756586, 0.06978898495435715, 0.015806831419467926, 0.09860637784004211, 0.02554677240550518, 0.014792263507843018, 0.008240807801485062, 0.03198181837797165, 0.010683721862733364, 0.010339049622416496, 0.007988137193024158, 0.0, 0.0, 0.0, 0.0, 0.0, 0.0, 0.0, 0.0, 0.0, 0.0, 0.0], [0.050485920161008835, 0.01643296517431736, 0.014387538656592369, 0.01173108909279108, 0.06728539615869522, 0.03213481232523918, 0.06323395669460297, 0.0380653440952301, 0.010950727388262749, 0.08181585371494293, 0.015800602734088898, 0.08737217634916306, 0.08312764018774033, 0.02113765850663185, 0.02215019427239895, 0.012469533830881119, 0.014636840671300888, 0.05266961455345154, 0.015601670369505882, 0.009227607399225235, 0.06483229249715805, 0.01554741058498621, 0.08367274701595306, 0.02381713315844536, 0.013307507149875164, 0.008398093283176422, 0.02997884713113308, 0.011387147009372711, 0.01087737176567316, 0.00854343082755804, 0.008920879103243351, 0.0, 0.0, 0.0, 0.0, 0.0, 0.0, 0.0, 0.0, 0.0, 0.0], [0.07896910607814789, 0.013199320994317532, 0.013766244985163212, 0.009735316038131714, 0.03998416289687157, 0.018503867089748383, 0.03275000676512718, 0.02249491773545742, 0.006514900363981724, 0.05777013674378395, 0.012329211458563805, 0.07909154891967773, 0.07356530427932739, 0.024358240887522697, 0.02286076918244362, 0.01514129526913166, 0.01636524312198162, 0.058751430362463, 0.015602673403918743, 0.011172747239470482, 0.07349808514118195, 0.015644429251551628, 0.10032778233289719, 0.01846734620630741, 0.014245434664189816, 0.010663003660738468, 0.0421990230679512, 0.011247188784182072, 0.011295867152512074, 0.008445138111710548, 0.007487981580197811, 0.06355229765176773, 0.0, 0.0, 0.0, 0.0, 0.0, 0.0, 0.0, 0.0, 0.0], [0.0483255609869957, 0.017145933583378792, 0.015048312954604626, 0.010383536107838154, 0.05720750615000725, 0.02755512297153473, 0.0484846867620945, 0.0315893292427063, 0.008003463968634605, 0.06675779819488525, 0.013075955212116241, 0.07405892014503479, 0.0721980482339859, 0.01990877278149128, 0.022950204089283943, 0.012571625411510468, 0.012881185859441757, 0.0545978844165802, 0.016164718195796013, 0.008926233276724815, 0.06789407879114151, 0.015527167357504368, 0.08681923896074295, 0.023027466610074043, 0.01458748895674944, 0.008434263989329338, 0.035524699836969376, 0.011681751348078251, 0.010787785053253174, 0.008724136278033257, 0.00807374157011509, 0.060301121324300766, 0.010782254859805107, 0.0, 0.0, 0.0, 0.0, 0.0, 0.0, 0.0, 0.0], [0.07350187748670578, 0.012157410383224487, 0.012612155638635159, 0.009143966250121593, 0.0384470596909523, 0.018196018412709236, 0.031910091638565063, 0.02116798609495163, 0.006337034981697798, 0.05507282167673111, 0.011655023321509361, 0.07341018319129944, 0.06786660850048065, 0.022941438481211662, 0.021494228392839432, 0.013994893990457058, 0.015215948224067688, 0.055018119513988495, 0.014499935321509838, 0.01043199747800827, 0.06859660148620605, 0.014641919173300266, 0.08947442471981049, 0.017651893198490143, 0.013160249218344688, 0.009909423068165779, 0.040187206119298935, 0.010486438870429993, 0.01061917096376419, 0.007903100922703743, 0.007167961448431015, 0.058883000165224075, 0.010479308664798737, 0.055764470249414444, 0.0, 0.0, 0.0, 0.0, 0.0, 0.0, 0.0], [0.05219743773341179, 0.014853260479867458, 0.01334443036466837, 0.009536387398838997, 0.05175476893782616, 0.025557639077305794, 0.043270234018564224, 0.029353035613894463, 0.00744505412876606, 0.06276166439056396, 0.0122869573533535, 0.07262896746397018, 0.0692925751209259, 0.01933603547513485, 0.021417900919914246, 0.011886728927493095, 0.012462330982089043, 0.051137953996658325, 0.014550551772117615, 0.008459501899778843, 0.06242609769105911, 0.0140860415995121, 0.08130345493555069, 0.0204677265137434, 0.012906142510473728, 0.007911917753517628, 0.03371487185359001, 0.01040226686745882, 0.010050940327346325, 0.007797189522534609, 0.007252327632158995, 0.05391165241599083, 0.009698882699012756, 0.05259384214878082, 0.011943219229578972, 0.0, 0.0, 0.0, 0.0, 0.0, 0.0], [0.06585342437028885, 0.012319598346948624, 0.012170637026429176, 0.010064361616969109, 0.0407840833067894, 0.023854216560721397, 0.03234725818037987, 0.028403708711266518, 0.008096848614513874, 0.05230134725570679, 0.013010083697736263, 0.06938891857862473, 0.06577012687921524, 0.020985156297683716, 0.02236688695847988, 0.012048459611833096, 0.013661523349583149, 0.04812760651111603, 0.015678491443395615, 0.00976040679961443, 0.05328524857759476, 0.014769691973924637, 0.08160898089408875, 0.021296437829732895, 0.013946053571999073, 0.009176589548587799, 0.03143375739455223, 0.00963966827839613, 0.010447248816490173, 0.007851073518395424, 0.007874645292758942, 0.046105772256851196, 0.010530301369726658, 0.05063031613826752, 0.012560181319713593, 0.041850894689559937, 0.0, 0.0, 0.0, 0.0, 0.0], [0.05229547619819641, 0.012294690124690533, 0.011079536750912666, 0.008196859620511532, 0.056188587099313736, 0.024098237976431847, 0.04879964143037796, 0.027687011286616325, 0.006921081803739071, 0.0690491646528244, 0.010968108661472797, 0.07586164027452469, 0.07081928104162216, 0.017159627750515938, 0.017922669649124146, 0.009853489696979523, 0.011081508360803127, 0.04818815737962723, 0.011564732529222965, 0.006877540610730648, 0.06164088472723961, 0.011737997643649578, 0.07228823006153107, 0.01681874319911003, 0.009895176626741886, 0.00628387788310647, 0.03051302768290043, 0.008388291113078594, 0.008228862658143044, 0.006087349262088537, 0.006001677829772234, 0.05092069134116173, 0.007650321815162897, 0.047743916511535645, 0.009636372327804565, 0.03584403172135353, 0.013413499109447002, 0.0, 0.0, 0.0, 0.0], [0.04088006168603897, 0.014145443215966225, 0.012581313028931618, 0.009898603893816471, 0.05336634814739227, 0.027347562834620476, 0.046377722173929214, 0.030618425458669662, 0.008321055211126804, 0.06188785657286644, 0.012758426368236542, 0.06374700367450714, 0.061934780329465866, 0.017327720299363136, 0.01973145455121994, 0.010369637981057167, 0.01188410073518753, 0.04670553281903267, 0.014859214425086975, 0.008084106259047985, 0.05681324750185013, 0.014054999686777592, 0.07160681486129761, 0.02192874811589718, 0.013167145662009716, 0.007537313736975193, 0.02734965831041336, 0.009934963658452034, 0.009199336171150208, 0.007360735908150673, 0.007757687475532293, 0.0491613894701004, 0.009677950292825699, 0.04610426351428032, 0.012120915576815605, 0.036961011588573456, 0.01819763332605362, 0.00823977217078209, 0.0, 0.0, 0.0], [0.050683293491601944, 0.014430438168346882, 0.012754235416650772, 0.010177066549658775, 0.04997824504971504, 0.03026270493865013, 0.04035402461886406, 0.03291400149464607, 0.008531800471246243, 0.05520571023225784, 0.012698310427367687, 0.06048888340592384, 0.05983135104179382, 0.01792221888899803, 0.021947089582681656, 0.010784909129142761, 0.011422333307564259, 0.04470547288656235, 0.015122069977223873, 0.008393765427172184, 0.05005742609500885, 0.014106794260442257, 0.06670155376195908, 0.024115080013871193, 0.013285172171890736, 0.007809111848473549, 0.028981151059269905, 0.010028377175331116, 0.010005678050220013, 0.007897068746387959, 0.007584714330732822, 0.04347879812121391, 0.009618982672691345, 0.0440601147711277, 0.012217543087899685, 0.04291021078824997, 0.019486645236611366, 0.00856688804924488, 0.010480759665369987, 0.0, 0.0], [0.03827089071273804, 0.014007722958922386, 0.012015663087368011, 0.00974450446665287, 0.05201060324907303, 0.028704743832349777, 0.046039190143346786, 0.03297244757413864, 0.008850331418216228, 0.05998808145523071, 0.012935715727508068, 0.06481275707483292, 0.0627700611948967, 0.017268726602196693, 0.020158974453806877, 0.009919765405356884, 0.011387879960238934, 0.044831883162260056, 0.01505492627620697, 0.007721201982349157, 0.05158180743455887, 0.013664147816598415, 0.06993032246828079, 0.022537706419825554, 0.013195201754570007, 0.00715489499270916, 0.02568701282143593, 0.009500524960458279, 0.009295073337852955, 0.007346725556999445, 0.00782820675522089, 0.044488053768873215, 0.009407260455191135, 0.0452130027115345, 0.011844154447317123, 0.03936537727713585, 0.018016276881098747, 0.00781401339918375, 0.010046761482954025, 0.006617357488721609, 0.0], [0.06544303148984909, 0.0104133989661932, 0.011026319116353989, 0.008873226121068, 0.03314241021871567, 0.018198423087596893, 0.027904348447918892, 0.02016071230173111, 0.006775908172130585, 0.0466872937977314, 0.011494455859065056, 0.062025826424360275, 0.05723128095269203, 0.021076608449220657, 0.020006930455565453, 0.012503031641244888, 0.01455668080598116, 0.04613533243536949, 0.013839751482009888, 0.010026785545051098, 0.05478156358003616, 0.01389582920819521, 0.06838762015104294, 0.017277739942073822, 0.01247590035200119, 0.00947424303740263, 0.034340571612119675, 0.009457171894609928, 0.009947049431502819, 0.0073164827190339565, 0.007036034483462572, 0.0466991625726223, 0.009966523386538029, 0.04552082344889641, 0.011459429748356342, 0.032823849469423294, 0.015021693892776966, 0.009634962305426598, 0.008796914480626583, 0.007930994965136051, 0.05023369565606117]], [[1.0, 0.0, 0.0, 0.0, 0.0, 0.0, 0.0, 0.0, 0.0, 0.0, 0.0, 0.0, 0.0, 0.0, 0.0, 0.0, 0.0, 0.0, 0.0, 0.0, 0.0, 0.0, 0.0, 0.0, 0.0, 0.0, 0.0, 0.0, 0.0, 0.0, 0.0, 0.0, 0.0, 0.0, 0.0, 0.0, 0.0, 0.0, 0.0, 0.0, 0.0], [0.5606021285057068, 0.4393979012966156, 0.0, 0.0, 0.0, 0.0, 0.0, 0.0, 0.0, 0.0, 0.0, 0.0, 0.0, 0.0, 0.0, 0.0, 0.0, 0.0, 0.0, 0.0, 0.0, 0.0, 0.0, 0.0, 0.0, 0.0, 0.0, 0.0, 0.0, 0.0, 0.0, 0.0, 0.0, 0.0, 0.0, 0.0, 0.0, 0.0, 0.0, 0.0, 0.0], [0.2753978967666626, 0.3466423451900482, 0.3779597878456116, 0.0, 0.0, 0.0, 0.0, 0.0, 0.0, 0.0, 0.0, 0.0, 0.0, 0.0, 0.0, 0.0, 0.0, 0.0, 0.0, 0.0, 0.0, 0.0, 0.0, 0.0, 0.0, 0.0, 0.0, 0.0, 0.0, 0.0, 0.0, 0.0, 0.0, 0.0, 0.0, 0.0, 0.0, 0.0, 0.0, 0.0, 0.0], [0.20733657479286194, 0.3034265339374542, 0.3539275825023651, 0.1353093385696411, 0.0, 0.0, 0.0, 0.0, 0.0, 0.0, 0.0, 0.0, 0.0, 0.0, 0.0, 0.0, 0.0, 0.0, 0.0, 0.0, 0.0, 0.0, 0.0, 0.0, 0.0, 0.0, 0.0, 0.0, 0.0, 0.0, 0.0, 0.0, 0.0, 0.0, 0.0, 0.0, 0.0, 0.0, 0.0, 0.0, 0.0], [0.05754933878779411, 0.05523638054728508, 0.17660750448703766, 0.0890926867723465, 0.621514081954956, 0.0, 0.0, 0.0, 0.0, 0.0, 0.0, 0.0, 0.0, 0.0, 0.0, 0.0, 0.0, 0.0, 0.0, 0.0, 0.0, 0.0, 0.0, 0.0, 0.0, 0.0, 0.0, 0.0, 0.0, 0.0, 0.0, 0.0, 0.0, 0.0, 0.0, 0.0, 0.0, 0.0, 0.0, 0.0, 0.0], [0.11077261716127396, 0.10722159594297409, 0.18886923789978027, 0.1194210946559906, 0.41805317997932434, 0.055662333965301514, 0.0, 0.0, 0.0, 0.0, 0.0, 0.0, 0.0, 0.0, 0.0, 0.0, 0.0, 0.0, 0.0, 0.0, 0.0, 0.0, 0.0, 0.0, 0.0, 0.0, 0.0, 0.0, 0.0, 0.0, 0.0, 0.0, 0.0, 0.0, 0.0, 0.0, 0.0, 0.0, 0.0, 0.0, 0.0], [0.05076601728796959, 0.051835641264915466, 0.13980573415756226, 0.07255339622497559, 0.26967090368270874, 0.04562786966562271, 0.36974042654037476, 0.0, 0.0, 0.0, 0.0, 0.0, 0.0, 0.0, 0.0, 0.0, 0.0, 0.0, 0.0, 0.0, 0.0, 0.0, 0.0, 0.0, 0.0, 0.0, 0.0, 0.0, 0.0, 0.0, 0.0, 0.0, 0.0, 0.0, 0.0, 0.0, 0.0, 0.0, 0.0, 0.0, 0.0], [0.10720327496528625, 0.09269580245018005, 0.1865786463022232, 0.11297624558210373, 0.13610027730464935, 0.016357330605387688, 0.2926361858844757, 0.05545218288898468, 0.0, 0.0, 0.0, 0.0, 0.0, 0.0, 0.0, 0.0, 0.0, 0.0, 0.0, 0.0, 0.0, 0.0, 0.0, 0.0, 0.0, 0.0, 0.0, 0.0, 0.0, 0.0, 0.0, 0.0, 0.0, 0.0, 0.0, 0.0, 0.0, 0.0, 0.0, 0.0, 0.0], [0.08766283839941025, 0.1444632112979889, 0.20241543650627136, 0.07961630076169968, 0.09371498972177505, 0.018459826707839966, 0.27520686388015747, 0.023762157186865807, 0.07469837367534637, 0.0, 0.0, 0.0, 0.0, 0.0, 0.0, 0.0, 0.0, 0.0, 0.0, 0.0, 0.0, 0.0, 0.0, 0.0, 0.0, 0.0, 0.0, 0.0, 0.0, 0.0, 0.0, 0.0, 0.0, 0.0, 0.0, 0.0, 0.0, 0.0, 0.0, 0.0, 0.0], [0.03569382429122925, 0.03074187971651554, 0.08636980503797531, 0.0414242148399353, 0.16943810880184174, 0.027496719732880592, 0.17931140959262848, 0.060505226254463196, 0.060875292867422104, 0.3081434965133667, 0.0, 0.0, 0.0, 0.0, 0.0, 0.0, 0.0, 0.0, 0.0, 0.0, 0.0, 0.0, 0.0, 0.0, 0.0, 0.0, 0.0, 0.0, 0.0, 0.0, 0.0, 0.0, 0.0, 0.0, 0.0, 0.0, 0.0, 0.0, 0.0, 0.0, 0.0], [0.04557683318853378, 0.041755177080631256, 0.06874056160449982, 0.039896201342344284, 0.13935254514217377, 0.013608785346150398, 0.27244672179222107, 0.04228470101952553, 0.05014906823635101, 0.2427768111228943, 0.04341261833906174, 0.0, 0.0, 0.0, 0.0, 0.0, 0.0, 0.0, 0.0, 0.0, 0.0, 0.0, 0.0, 0.0, 0.0, 0.0, 0.0, 0.0, 0.0, 0.0, 0.0, 0.0, 0.0, 0.0, 0.0, 0.0, 0.0, 0.0, 0.0, 0.0, 0.0], [0.04511939361691475, 0.04350050911307335, 0.0838099867105484, 0.03636090084910393, 0.1277461051940918, 0.027211053296923637, 0.1262073516845703, 0.032859917730093, 0.03868497908115387, 0.22536833584308624, 0.040520355105400085, 0.17261111736297607, 0.0, 0.0, 0.0, 0.0, 0.0, 0.0, 0.0, 0.0, 0.0, 0.0, 0.0, 0.0, 0.0, 0.0, 0.0, 0.0, 0.0, 0.0, 0.0, 0.0, 0.0, 0.0, 0.0, 0.0, 0.0, 0.0, 0.0, 0.0, 0.0], [0.03024415858089924, 0.03232816606760025, 0.07671883702278137, 0.034085940569639206, 0.09377103298902512, 0.02408955805003643, 0.10541188716888428, 0.03196750208735466, 0.04139285162091255, 0.17897000908851624, 0.045157596468925476, 0.13330750167369843, 0.1725548952817917, 0.0, 0.0, 0.0, 0.0, 0.0, 0.0, 0.0, 0.0, 0.0, 0.0, 0.0, 0.0, 0.0, 0.0, 0.0, 0.0, 0.0, 0.0, 0.0, 0.0, 0.0, 0.0, 0.0, 0.0, 0.0, 0.0, 0.0, 0.0], [0.024809882044792175, 0.0310197826474905, 0.06296329945325851, 0.020893340930342674, 0.08409715443849564, 0.013013411313295364, 0.12371034175157547, 0.017306620255112648, 0.023277001455426216, 0.17145487666130066, 0.04485270380973816, 0.07990528643131256, 0.1483888477087021, 0.15430748462677002, 0.0, 0.0, 0.0, 0.0, 0.0, 0.0, 0.0, 0.0, 0.0, 0.0, 0.0, 0.0, 0.0, 0.0, 0.0, 0.0, 0.0, 0.0, 0.0, 0.0, 0.0, 0.0, 0.0, 0.0, 0.0, 0.0, 0.0], [0.053368277847766876, 0.0676838681101799, 0.09258665144443512, 0.04486367851495743, 0.057454437017440796, 0.010073569603264332, 0.12886428833007812, 0.01562638022005558, 0.04461706429719925, 0.1182461827993393, 0.05276090279221535, 0.09337572753429413, 0.13446703553199768, 0.06537594646215439, 0.020635992288589478, 0.0, 0.0, 0.0, 0.0, 0.0, 0.0, 0.0, 0.0, 0.0, 0.0, 0.0, 0.0, 0.0, 0.0, 0.0, 0.0, 0.0, 0.0, 0.0, 0.0, 0.0, 0.0, 0.0, 0.0, 0.0, 0.0], [0.045030102133750916, 0.07236731052398682, 0.07144048064947128, 0.031270455569028854, 0.06029288470745087, 0.010708634741604328, 0.15519608557224274, 0.012197914533317089, 0.029667261987924576, 0.11610930413007736, 0.042013730853796005, 0.07486942410469055, 0.10898464918136597, 0.08401650190353394, 0.013694699853658676, 0.07214058190584183, 0.0, 0.0, 0.0, 0.0, 0.0, 0.0, 0.0, 0.0, 0.0, 0.0, 0.0, 0.0, 0.0, 0.0, 0.0, 0.0, 0.0, 0.0, 0.0, 0.0, 0.0, 0.0, 0.0, 0.0, 0.0], [0.03540764003992081, 0.03632389381527901, 0.05075545981526375, 0.022581003606319427, 0.07626114785671234, 0.00678684888407588, 0.13100875914096832, 0.013829230330884457, 0.024510424584150314, 0.1426302045583725, 0.03553951531648636, 0.10049892216920853, 0.13770371675491333, 0.059751760214567184, 0.014669233001768589, 0.055895235389471054, 0.055846985429525375, 0.0, 0.0, 0.0, 0.0, 0.0, 0.0, 0.0, 0.0, 0.0, 0.0, 0.0, 0.0, 0.0, 0.0, 0.0, 0.0, 0.0, 0.0, 0.0, 0.0, 0.0, 0.0, 0.0, 0.0], [0.012760520912706852, 0.01461504865437746, 0.03660305216908455, 0.01448651310056448, 0.06373801827430725, 0.011112733744084835, 0.0753636285662651, 0.019675815477967262, 0.02019595541059971, 0.12275674194097519, 0.02686036005616188, 0.08236689120531082, 0.11985944956541061, 0.07324329018592834, 0.016403041779994965, 0.049914415925741196, 0.09030117839574814, 0.14974333345890045, 0.0, 0.0, 0.0, 0.0, 0.0, 0.0, 0.0, 0.0, 0.0, 0.0, 0.0, 0.0, 0.0, 0.0, 0.0, 0.0, 0.0, 0.0, 0.0, 0.0, 0.0, 0.0, 0.0], [0.021925121545791626, 0.0214871596544981, 0.04096496105194092, 0.015987936407327652, 0.05266387388110161, 0.006845278665423393, 0.07069194316864014, 0.010440418496727943, 0.01845591515302658, 0.10388109087944031, 0.026441019028425217, 0.07016141712665558, 0.10995500534772873, 0.06430697441101074, 0.009153816848993301, 0.05012357234954834, 0.06983354687690735, 0.1059146448969841, 0.13076624274253845, 0.0, 0.0, 0.0, 0.0, 0.0, 0.0, 0.0, 0.0, 0.0, 0.0, 0.0, 0.0, 0.0, 0.0, 0.0, 0.0, 0.0, 0.0, 0.0, 0.0, 0.0, 0.0], [0.02367679588496685, 0.04034436121582985, 0.03965851664543152, 0.01375428307801485, 0.05795048549771309, 0.004636315628886223, 0.15125885605812073, 0.01003191340714693, 0.015441613271832466, 0.1214384064078331, 0.02848728932440281, 0.07516313344240189, 0.12050739675760269, 0.04744330793619156, 0.012602745555341244, 0.044023141264915466, 0.04853232204914093, 0.07014399766921997, 0.05983579903841019, 0.0150693254545331, 0.0, 0.0, 0.0, 0.0, 0.0, 0.0, 0.0, 0.0, 0.0, 0.0, 0.0, 0.0, 0.0, 0.0, 0.0, 0.0, 0.0, 0.0, 0.0, 0.0, 0.0], [0.012747084721922874, 0.011862367391586304, 0.028636174276471138, 0.013167721219360828, 0.0473872534930706, 0.009307565167546272, 0.04811781644821167, 0.01671021431684494, 0.017308903858065605, 0.0891675353050232, 0.018205294385552406, 0.062478020787239075, 0.07926197350025177, 0.05492608621716499, 0.013944856822490692, 0.03657396137714386, 0.06753184646368027, 0.11268932372331619, 0.12189855426549911, 0.016758626326918602, 0.12131885439157486, 0.0, 0.0, 0.0, 0.0, 0.0, 0.0, 0.0, 0.0, 0.0, 0.0, 0.0, 0.0, 0.0, 0.0, 0.0, 0.0, 0.0, 0.0, 0.0, 0.0], [0.0236846674233675, 0.025960462167859077, 0.0371423177421093, 0.02022949792444706, 0.051619917154312134, 0.00949826743453741, 0.0971984937787056, 0.017592700198292732, 0.022612478584051132, 0.0909593403339386, 0.020855499431490898, 0.07120826840400696, 0.08176679909229279, 0.04358243569731712, 0.020287595689296722, 0.036009132862091064, 0.04870201274752617, 0.06757241487503052, 0.057641420513391495, 0.02048111893236637, 0.10767818987369537, 0.02771701104938984, 0.0, 0.0, 0.0, 0.0, 0.0, 0.0, 0.0, 0.0, 0.0, 0.0, 0.0, 0.0, 0.0, 0.0, 0.0, 0.0, 0.0, 0.0, 0.0], [0.015446104109287262, 0.014222956262528896, 0.03639679774641991, 0.017523903399705887, 0.03181079775094986, 0.012754613533616066, 0.03990611061453819, 0.01620374619960785, 0.020985128358006477, 0.0645754337310791, 0.0192409697920084, 0.03955758363008499, 0.05581407994031906, 0.06997537612915039, 0.013120266608893871, 0.04741765931248665, 0.08031714707612991, 0.0877615213394165, 0.12965215742588043, 0.022221814841032028, 0.0826810970902443, 0.025470159947872162, 0.056944604963064194, 0.0, 0.0, 0.0, 0.0, 0.0, 0.0, 0.0, 0.0, 0.0, 0.0, 0.0, 0.0, 0.0, 0.0, 0.0, 0.0, 0.0, 0.0], [0.011457465589046478, 0.01618504896759987, 0.02451206184923649, 0.010305279865860939, 0.049308158457279205, 0.00543201481923461, 0.10988324880599976, 0.00989767536520958, 0.014404457062482834, 0.09701597690582275, 0.01845449209213257, 0.060331135988235474, 0.07935100793838501, 0.046801865100860596, 0.009928460232913494, 0.026109755039215088, 0.036634668707847595, 0.07338576763868332, 0.06189079210162163, 0.010854423977434635, 0.12179987877607346, 0.024936232715845108, 0.06324714422225952, 0.017872996628284454, 0.0, 0.0, 0.0, 0.0, 0.0, 0.0, 0.0, 0.0, 0.0, 0.0, 0.0, 0.0, 0.0, 0.0, 0.0, 0.0, 0.0], [0.016710899770259857, 0.01624254696071148, 0.028960051015019417, 0.01116463914513588, 0.033839259296655655, 0.004719228018075228, 0.046483978629112244, 0.006507937330752611, 0.012183884158730507, 0.06692047417163849, 0.017825253307819366, 0.0425775982439518, 0.0685669407248497, 0.047827523201704025, 0.0054556881077587605, 0.03480139002203941, 0.04736032336950302, 0.07005591690540314, 0.0928800106048584, 0.013538449071347713, 0.09195642173290253, 0.02387368120253086, 0.07142451405525208, 0.02001422643661499, 0.10810917615890503, 0.0, 0.0, 0.0, 0.0, 0.0, 0.0, 0.0, 0.0, 0.0, 0.0, 0.0, 0.0, 0.0, 0.0, 0.0, 0.0], [0.01792474277317524, 0.030528511852025986, 0.028605611994862556, 0.009717587381601334, 0.04144001007080078, 0.0033406626898795366, 0.10971864312887192, 0.006803044117987156, 0.01063617318868637, 0.08667837083339691, 0.02018854022026062, 0.051173362880945206, 0.08348759263753891, 0.03663500025868416, 0.008214780129492283, 0.031332891434431076, 0.03440943360328674, 0.05113791674375534, 0.044919952750205994, 0.010456640273332596, 0.11295950412750244, 0.02918170392513275, 0.06497148424386978, 0.01496181357651949, 0.04917427524924278, 0.011401723138988018, 0.0, 0.0, 0.0, 0.0, 0.0, 0.0, 0.0, 0.0, 0.0, 0.0, 0.0, 0.0, 0.0, 0.0, 0.0], [0.017610570415854454, 0.025471707805991173, 0.03247606381773949, 0.011989085003733635, 0.034680768847465515, 0.009790190495550632, 0.04785230755805969, 0.007564688567072153, 0.01240077055990696, 0.060798391699790955, 0.019338222220540047, 0.034205466508865356, 0.05556581914424896, 0.06369262933731079, 0.005558437667787075, 0.034198179841041565, 0.056966494768857956, 0.06550457328557968, 0.08805502206087112, 0.012326985597610474, 0.07145587354898453, 0.02135504223406315, 0.06400047987699509, 0.01725096069276333, 0.10032906383275986, 0.013325112871825695, 0.01623702049255371, 0.0, 0.0, 0.0, 0.0, 0.0, 0.0, 0.0, 0.0, 0.0, 0.0, 0.0, 0.0, 0.0, 0.0], [0.019708026200532913, 0.02325489930808544, 0.022638089954853058, 0.010750516317784786, 0.049272194504737854, 0.0026080599054694176, 0.12630189955234528, 0.005499124526977539, 0.012048041447997093, 0.08773902803659439, 0.016892557963728905, 0.07044043391942978, 0.08813759684562683, 0.027222780510783195, 0.008237302303314209, 0.022823834791779518, 0.020184364169836044, 0.043781232088804245, 0.02496011182665825, 0.010914054699242115, 0.10976044833660126, 0.0264405757188797, 0.06222967803478241, 0.015653206035494804, 0.026476092636585236, 0.011696070432662964, 0.03109193593263626, 0.02323788031935692, 0.0, 0.0, 0.0, 0.0, 0.0, 0.0, 0.0, 0.0, 0.0, 0.0, 0.0, 0.0, 0.0], [0.03422676771879196, 0.043207790702581406, 0.03679245337843895, 0.02296604961156845, 0.030323222279548645, 0.003537288634106517, 0.10362721234560013, 0.007146541494876146, 0.022544067353010178, 0.05546082928776741, 0.02714359760284424, 0.051030077040195465, 0.06071968004107475, 0.023250794038176537, 0.012783633545041084, 0.038082558661699295, 0.021305352449417114, 0.02204885520040989, 0.01715049333870411, 0.024276576936244965, 0.06592754274606705, 0.03811042010784149, 0.03664989769458771, 0.018831314519047737, 0.017984647303819656, 0.0260870810598135, 0.0473056323826313, 0.050496138632297516, 0.04098350182175636, 0.0, 0.0, 0.0, 0.0, 0.0, 0.0, 0.0, 0.0, 0.0, 0.0, 0.0, 0.0], [0.024370521306991577, 0.04118781164288521, 0.036320723593235016, 0.01456113439053297, 0.03354455530643463, 0.004123529884964228, 0.09528584778308868, 0.005079036112874746, 0.014001935720443726, 0.06636886298656464, 0.02319837175309658, 0.038690872490406036, 0.059681426733732224, 0.04502030462026596, 0.0054575796239078045, 0.03603321313858032, 0.03231682628393173, 0.036000654101371765, 0.03924384340643883, 0.013909694738686085, 0.07547710835933685, 0.026729872450232506, 0.04698128253221512, 0.011107110418379307, 0.04292751103639603, 0.015062686055898666, 0.02376667410135269, 0.0376848541200161, 0.042170360684394836, 0.013695698231458664, 0.0, 0.0, 0.0, 0.0, 0.0, 0.0, 0.0, 0.0, 0.0, 0.0, 0.0], [0.019149966537952423, 0.020661862567067146, 0.019895903766155243, 0.007606902625411749, 0.05167220160365105, 0.003966581076383591, 0.07663524150848389, 0.004647925961762667, 0.006291409023106098, 0.08060410618782043, 0.011776690371334553, 0.04116492345929146, 0.05830942094326019, 0.04870281368494034, 0.003353021340444684, 0.016835892572999, 0.024595078080892563, 0.07160326838493347, 0.06779872626066208, 0.006322559900581837, 0.08717659115791321, 0.016430972144007683, 0.0540127195417881, 0.013597969897091389, 0.07318279892206192, 0.006778623443096876, 0.010727516375482082, 0.010763424448668957, 0.017860712483525276, 0.004975535441190004, 0.06289862841367722, 0.0, 0.0, 0.0, 0.0, 0.0, 0.0, 0.0, 0.0, 0.0, 0.0], [0.010278131812810898, 0.009055926464498043, 0.019362788647413254, 0.008842562325298786, 0.02884356677532196, 0.006484619807451963, 0.03042072430253029, 0.009592294692993164, 0.010591271333396435, 0.05255649611353874, 0.011396975256502628, 0.032849084585905075, 0.04253346472978592, 0.04165032505989075, 0.007254747673869133, 0.023600509390234947, 0.04157916083931923, 0.06960055977106094, 0.08264930546283722, 0.010554064996540546, 0.06646396219730377, 0.015672573819756508, 0.04580460861325264, 0.015120895579457283, 0.09360211342573166, 0.0116328289732337, 0.016994448378682137, 0.015519002452492714, 0.011280463077127934, 0.01135476678609848, 0.059704236686229706, 0.08715348690748215, 0.0, 0.0, 0.0, 0.0, 0.0, 0.0, 0.0, 0.0, 0.0], [0.018212145194411278, 0.016765668988227844, 0.022236293181777, 0.012556559406220913, 0.03714814409613609, 0.0043996660970151424, 0.07627978175878525, 0.010407587513327599, 0.013498630374670029, 0.06435975432395935, 0.012560353614389896, 0.049576546996831894, 0.05712544918060303, 0.02618102915585041, 0.01217899564653635, 0.021139515563845634, 0.02373351715505123, 0.04442956671118736, 0.03542224317789078, 0.012395336292684078, 0.07565128803253174, 0.01923508197069168, 0.04349443316459656, 0.016634732484817505, 0.03749292716383934, 0.013290573842823505, 0.03656929358839989, 0.019856566563248634, 0.015386022627353668, 0.013967350125312805, 0.030771879479289055, 0.09147822111845016, 0.01556485053151846, 0.0, 0.0, 0.0, 0.0, 0.0, 0.0, 0.0, 0.0], [0.011726141907274723, 0.012272195890545845, 0.023059694096446037, 0.009860526770353317, 0.022314058616757393, 0.00744413398206234, 0.026133909821510315, 0.006835427600890398, 0.009973329491913319, 0.04178237542510033, 0.011734073981642723, 0.024710582569241524, 0.0343591533601284, 0.044764187186956406, 0.0047973706386983395, 0.026131873950362206, 0.045579832047224045, 0.05468956008553505, 0.078011155128479, 0.011012088507413864, 0.04952342435717583, 0.014485969208180904, 0.0399000309407711, 0.014612792059779167, 0.08941630274057388, 0.012121383100748062, 0.012560931034386158, 0.01697152853012085, 0.014256725087761879, 0.010599053464829922, 0.08027458935976028, 0.06547222286462784, 0.016570216044783592, 0.056043174117803574, 0.0, 0.0, 0.0, 0.0, 0.0, 0.0, 0.0], [0.01771685853600502, 0.01850549504160881, 0.02409018576145172, 0.012873359955847263, 0.030993923544883728, 0.006112479604780674, 0.06214224547147751, 0.009598943404853344, 0.01330447569489479, 0.05356936156749725, 0.012501226738095284, 0.0376107357442379, 0.04465159773826599, 0.03167208284139633, 0.010238759219646454, 0.022394347935914993, 0.028963858261704445, 0.04092414304614067, 0.037572361528873444, 0.012257781811058521, 0.059476565569639206, 0.016384737566113472, 0.03921898454427719, 0.013507254421710968, 0.04017403721809387, 0.013113966211676598, 0.030392112210392952, 0.02106211706995964, 0.01710602082312107, 0.012228419072926044, 0.04134838283061981, 0.0721624419093132, 0.01521492563188076, 0.06146172806620598, 0.019454047083854675, 0.0, 0.0, 0.0, 0.0, 0.0, 0.0], [0.011292376555502415, 0.014784099534153938, 0.01965044066309929, 0.007620845455676317, 0.026944467797875404, 0.006204694509506226, 0.048059090971946716, 0.005602128803730011, 0.008536423556506634, 0.05107463151216507, 0.011062267236411572, 0.025287652388215065, 0.03860735520720482, 0.05489489808678627, 0.004184427205473185, 0.01932143233716488, 0.033386971801519394, 0.0524245984852314, 0.0653340294957161, 0.00727375503629446, 0.05663274601101875, 0.013281261548399925, 0.036062050610780716, 0.010293401777744293, 0.07302307337522507, 0.007859533652663231, 0.014002343639731407, 0.01500298734754324, 0.015189198777079582, 0.006780234165489674, 0.07663217931985855, 0.07022421061992645, 0.013832984492182732, 0.05556618049740791, 0.016372354701161385, 0.007698738016188145, 0.0, 0.0, 0.0, 0.0, 0.0], [0.021199572831392288, 0.025540193542838097, 0.026573602110147476, 0.012443751096725464, 0.025559810921549797, 0.0039040669798851013, 0.06634455174207687, 0.0052590034902095795, 0.013579626567661762, 0.04907792806625366, 0.01454751193523407, 0.035123854875564575, 0.04408185929059982, 0.027491748332977295, 0.006641814485192299, 0.025033848360180855, 0.024295154958963394, 0.027877578511834145, 0.023889826610684395, 0.011918380856513977, 0.05552712827920914, 0.016561264172196388, 0.038892827928066254, 0.009148713201284409, 0.026584085077047348, 0.013092518784105778, 0.024683741852641106, 0.028405381366610527, 0.02383951097726822, 0.012843184173107147, 0.05300302058458328, 0.07164037972688675, 0.01920587569475174, 0.06678321212530136, 0.020788172259926796, 0.017503125593066216, 0.01111411489546299, 0.0, 0.0, 0.0, 0.0], [0.02335110679268837, 0.03627019375562668, 0.030130701139569283, 0.012783782556653023, 0.022392617538571358, 0.004560899920761585, 0.06124443933367729, 0.004013679455965757, 0.010645012371242046, 0.04186912998557091, 0.015972891822457314, 0.022660154849290848, 0.03478842228651047, 0.04275462403893471, 0.003886163467541337, 0.028451459482312202, 0.029119830578565598, 0.027010630816221237, 0.032829493284225464, 0.011722060851752758, 0.04423278570175171, 0.01799090951681137, 0.02870088256895542, 0.008197616785764694, 0.03569349646568298, 0.012619486078619957, 0.01600532792508602, 0.027251752093434334, 0.03546267747879028, 0.009855254553258419, 0.07097262889146805, 0.05344774201512337, 0.019314978271722794, 0.0468452163040638, 0.021462416276335716, 0.008911903947591782, 0.0093447370454669, 0.03723292425274849, 0.0, 0.0, 0.0], [0.013933748938143253, 0.01415475644171238, 0.019324468448758125, 0.010838204063475132, 0.02768229879438877, 0.0028842813335359097, 0.0787665992975235, 0.0064337714575231075, 0.012581189163029194, 0.051263950765132904, 0.012020653113722801, 0.04101208969950676, 0.055729929357767105, 0.022818172350525856, 0.008973058313131332, 0.02070555090904236, 0.017390409484505653, 0.02835707552731037, 0.021609099581837654, 0.011470425873994827, 0.06217509135603905, 0.019360244274139404, 0.03484996408224106, 0.012327712029218674, 0.023145463317632675, 0.012417721562087536, 0.03391009569168091, 0.023905238136649132, 0.0142893735319376, 0.014375437051057816, 0.022568082436919212, 0.07529935240745544, 0.015287949703633785, 0.08062255382537842, 0.022440865635871887, 0.01220181118696928, 0.012210951186716557, 0.02723787911236286, 0.0034244779963046312, 0.0, 0.0], [0.013624378480017185, 0.022148868069052696, 0.019340919330716133, 0.006562002468854189, 0.02646886743605137, 0.002266530180349946, 0.07288600504398346, 0.004045478533953428, 0.006671116687357426, 0.05353472754359245, 0.012692209333181381, 0.029215801507234573, 0.048611149191856384, 0.026182446628808975, 0.004611369222402573, 0.02024860493838787, 0.02124648354947567, 0.031919606029987335, 0.02927066572010517, 0.006618286017328501, 0.06557263433933258, 0.01800503581762314, 0.03686065226793289, 0.009091419167816639, 0.0320802740752697, 0.007240504492074251, 0.019666757434606552, 0.01980709098279476, 0.024161797016859055, 0.008290546014904976, 0.04458272084593773, 0.08344209939241409, 0.017292844131588936, 0.07510510832071304, 0.022053325548768044, 0.008273352868855, 0.01084776408970356, 0.028409700840711594, 0.002243118127807975, 0.008807716891169548, 0.0], [0.010995021089911461, 0.009277375414967537, 0.020649725571274757, 0.009718392975628376, 0.017305202782154083, 0.007228826638311148, 0.02306721918284893, 0.007272561080753803, 0.010258273221552372, 0.033267781138420105, 0.009597277268767357, 0.017541490495204926, 0.025222182273864746, 0.04540044069290161, 0.005227252840995789, 0.024581311270594597, 0.039032988250255585, 0.046217404305934906, 0.0720490962266922, 0.010904607363045216, 0.03803172707557678, 0.012322697788476944, 0.024897292256355286, 0.012266473844647408, 0.08260389417409897, 0.012113584205508232, 0.01394468080252409, 0.016957107931375504, 0.011572730727493763, 0.010585957206785679, 0.07309896498918533, 0.051231157034635544, 0.013510804623365402, 0.041407790035009384, 0.01638489030301571, 0.005670721177011728, 0.01274816319346428, 0.03783826529979706, 0.013022290542721748, 0.01575239934027195, 0.03922402858734131]], [[1.0, 0.0, 0.0, 0.0, 0.0, 0.0, 0.0, 0.0, 0.0, 0.0, 0.0, 0.0, 0.0, 0.0, 0.0, 0.0, 0.0, 0.0, 0.0, 0.0, 0.0, 0.0, 0.0, 0.0, 0.0, 0.0, 0.0, 0.0, 0.0, 0.0, 0.0, 0.0, 0.0, 0.0, 0.0, 0.0, 0.0, 0.0, 0.0, 0.0, 0.0], [0.9372665882110596, 0.06273341923952103, 0.0, 0.0, 0.0, 0.0, 0.0, 0.0, 0.0, 0.0, 0.0, 0.0, 0.0, 0.0, 0.0, 0.0, 0.0, 0.0, 0.0, 0.0, 0.0, 0.0, 0.0, 0.0, 0.0, 0.0, 0.0, 0.0, 0.0, 0.0, 0.0, 0.0, 0.0, 0.0, 0.0, 0.0, 0.0, 0.0, 0.0, 0.0, 0.0], [0.6353017091751099, 0.21143773198127747, 0.15326054394245148, 0.0, 0.0, 0.0, 0.0, 0.0, 0.0, 0.0, 0.0, 0.0, 0.0, 0.0, 0.0, 0.0, 0.0, 0.0, 0.0, 0.0, 0.0, 0.0, 0.0, 0.0, 0.0, 0.0, 0.0, 0.0, 0.0, 0.0, 0.0, 0.0, 0.0, 0.0, 0.0, 0.0, 0.0, 0.0, 0.0, 0.0, 0.0], [0.4100940227508545, 0.22434015572071075, 0.08042348176240921, 0.2851422429084778, 0.0, 0.0, 0.0, 0.0, 0.0, 0.0, 0.0, 0.0, 0.0, 0.0, 0.0, 0.0, 0.0, 0.0, 0.0, 0.0, 0.0, 0.0, 0.0, 0.0, 0.0, 0.0, 0.0, 0.0, 0.0, 0.0, 0.0, 0.0, 0.0, 0.0, 0.0, 0.0, 0.0, 0.0, 0.0, 0.0, 0.0], [0.33383339643478394, 0.22265419363975525, 0.20116931200027466, 0.1494983285665512, 0.09284473955631256, 0.0, 0.0, 0.0, 0.0, 0.0, 0.0, 0.0, 0.0, 0.0, 0.0, 0.0, 0.0, 0.0, 0.0, 0.0, 0.0, 0.0, 0.0, 0.0, 0.0, 0.0, 0.0, 0.0, 0.0, 0.0, 0.0, 0.0, 0.0, 0.0, 0.0, 0.0, 0.0, 0.0, 0.0, 0.0, 0.0], [0.35110294818878174, 0.130405992269516, 0.09817202389240265, 0.16838346421718597, 0.19795621931552887, 0.0539792962372303, 0.0, 0.0, 0.0, 0.0, 0.0, 0.0, 0.0, 0.0, 0.0, 0.0, 0.0, 0.0, 0.0, 0.0, 0.0, 0.0, 0.0, 0.0, 0.0, 0.0, 0.0, 0.0, 0.0, 0.0, 0.0, 0.0, 0.0, 0.0, 0.0, 0.0, 0.0, 0.0, 0.0, 0.0, 0.0], [0.29731473326683044, 0.165045365691185, 0.16366778314113617, 0.1197267398238182, 0.053914427757263184, 0.15600228309631348, 0.044328682124614716, 0.0, 0.0, 0.0, 0.0, 0.0, 0.0, 0.0, 0.0, 0.0, 0.0, 0.0, 0.0, 0.0, 0.0, 0.0, 0.0, 0.0, 0.0, 0.0, 0.0, 0.0, 0.0, 0.0, 0.0, 0.0, 0.0, 0.0, 0.0, 0.0, 0.0, 0.0, 0.0, 0.0, 0.0], [0.3770965337753296, 0.14035870134830475, 0.10427957773208618, 0.1137692779302597, 0.03491518646478653, 0.14357465505599976, 0.03419734537601471, 0.051808662712574005, 0.0, 0.0, 0.0, 0.0, 0.0, 0.0, 0.0, 0.0, 0.0, 0.0, 0.0, 0.0, 0.0, 0.0, 0.0, 0.0, 0.0, 0.0, 0.0, 0.0, 0.0, 0.0, 0.0, 0.0, 0.0, 0.0, 0.0, 0.0, 0.0, 0.0, 0.0, 0.0, 0.0], [0.3617733120918274, 0.12433552742004395, 0.14395616948604584, 0.16592583060264587, 0.011651282198727131, 0.08697590231895447, 0.014485713094472885, 0.016488300636410713, 0.07440793514251709, 0.0, 0.0, 0.0, 0.0, 0.0, 0.0, 0.0, 0.0, 0.0, 0.0, 0.0, 0.0, 0.0, 0.0, 0.0, 0.0, 0.0, 0.0, 0.0, 0.0, 0.0, 0.0, 0.0, 0.0, 0.0, 0.0, 0.0, 0.0, 0.0, 0.0, 0.0, 0.0], [0.16695056855678558, 0.11031483113765717, 0.10573060810565948, 0.10846883803606033, 0.04681181162595749, 0.17596769332885742, 0.038180164992809296, 0.0891684889793396, 0.12466652691364288, 0.033740438520908356, 0.0, 0.0, 0.0, 0.0, 0.0, 0.0, 0.0, 0.0, 0.0, 0.0, 0.0, 0.0, 0.0, 0.0, 0.0, 0.0, 0.0, 0.0, 0.0, 0.0, 0.0, 0.0, 0.0, 0.0, 0.0, 0.0, 0.0, 0.0, 0.0, 0.0, 0.0], [0.3390711545944214, 0.08035510033369064, 0.07795915007591248, 0.13790768384933472, 0.05120669677853584, 0.047062624245882034, 0.059776876121759415, 0.03032403066754341, 0.06983540952205658, 0.04813136160373688, 0.058369919657707214, 0.0, 0.0, 0.0, 0.0, 0.0, 0.0, 0.0, 0.0, 0.0, 0.0, 0.0, 0.0, 0.0, 0.0, 0.0, 0.0, 0.0, 0.0, 0.0, 0.0, 0.0, 0.0, 0.0, 0.0, 0.0, 0.0, 0.0, 0.0, 0.0, 0.0], [0.20130333304405212, 0.09339264035224915, 0.06241132318973541, 0.06104861944913864, 0.02097409777343273, 0.09613989293575287, 0.01741434633731842, 0.0809485986828804, 0.07333038747310638, 0.016178105026483536, 0.08087342232465744, 0.19598522782325745, 0.0, 0.0, 0.0, 0.0, 0.0, 0.0, 0.0, 0.0, 0.0, 0.0, 0.0, 0.0, 0.0, 0.0, 0.0, 0.0, 0.0, 0.0, 0.0, 0.0, 0.0, 0.0, 0.0, 0.0, 0.0, 0.0, 0.0, 0.0, 0.0], [0.13142436742782593, 0.08774372190237045, 0.10332401841878891, 0.08828037232160568, 0.015257670544087887, 0.10181622952222824, 0.014686554670333862, 0.06876786798238754, 0.11130113154649734, 0.014626873657107353, 0.09677479416131973, 0.14220580458641052, 0.02379058115184307, 0.0, 0.0, 0.0, 0.0, 0.0, 0.0, 0.0, 0.0, 0.0, 0.0, 0.0, 0.0, 0.0, 0.0, 0.0, 0.0, 0.0, 0.0, 0.0, 0.0, 0.0, 0.0, 0.0, 0.0, 0.0, 0.0, 0.0, 0.0], [0.1575823724269867, 0.09874413162469864, 0.06672629714012146, 0.11467346549034119, 0.02310383878648281, 0.07525971531867981, 0.023977601900696754, 0.03231233358383179, 0.10560338944196701, 0.021578138694167137, 0.10973961651325226, 0.11115922778844833, 0.03991515189409256, 0.01962469518184662, 0.0, 0.0, 0.0, 0.0, 0.0, 0.0, 0.0, 0.0, 0.0, 0.0, 0.0, 0.0, 0.0, 0.0, 0.0, 0.0, 0.0, 0.0, 0.0, 0.0, 0.0, 0.0, 0.0, 0.0, 0.0, 0.0, 0.0], [0.2961992025375366, 0.11499420553445816, 0.07382111996412277, 0.11202063411474228, 0.010327670723199844, 0.10421391576528549, 0.0120321623980999, 0.036647435277700424, 0.07641806453466415, 0.011283047497272491, 0.08972103893756866, 0.023635538294911385, 0.010684954933822155, 0.012217038311064243, 0.015783987939357758, 0.0, 0.0, 0.0, 0.0, 0.0, 0.0, 0.0, 0.0, 0.0, 0.0, 0.0, 0.0, 0.0, 0.0, 0.0, 0.0, 0.0, 0.0, 0.0, 0.0, 0.0, 0.0, 0.0, 0.0, 0.0, 0.0], [0.23148752748966217, 0.11037302017211914, 0.12376085668802261, 0.20324307680130005, 0.007302536629140377, 0.043624307960271835, 0.008885005488991737, 0.012853594496846199, 0.07912339270114899, 0.007849866524338722, 0.051150910556316376, 0.006119816098362207, 0.0072356825694441795, 0.007522104308009148, 0.0065049282275140285, 0.09296341985464096, 0.0, 0.0, 0.0, 0.0, 0.0, 0.0, 0.0, 0.0, 0.0, 0.0, 0.0, 0.0, 0.0, 0.0, 0.0, 0.0, 0.0, 0.0, 0.0, 0.0, 0.0, 0.0, 0.0, 0.0, 0.0], [0.14881856739521027, 0.0655328780412674, 0.08105213195085526, 0.15072885155677795, 0.03266594931483269, 0.051531169563531876, 0.03972221538424492, 0.01987161487340927, 0.07798463851213455, 0.029733479022979736, 0.08632347732782364, 0.042458370327949524, 0.04029935970902443, 0.01888876035809517, 0.0206889845430851, 0.06951512396335602, 0.02418447658419609, 0.0, 0.0, 0.0, 0.0, 0.0, 0.0, 0.0, 0.0, 0.0, 0.0, 0.0, 0.0, 0.0, 0.0, 0.0, 0.0, 0.0, 0.0, 0.0, 0.0, 0.0, 0.0, 0.0, 0.0], [0.08595168590545654, 0.06071903929114342, 0.0497373603284359, 0.05701000243425369, 0.02390187978744507, 0.08084910362958908, 0.02404528670012951, 0.05023079738020897, 0.07766110450029373, 0.024316171184182167, 0.07057401537895203, 0.15425725281238556, 0.042564406991004944, 0.032387979328632355, 0.032042812556028366, 0.06182428076863289, 0.04814391955733299, 0.023782940581440926, 0.0, 0.0, 0.0, 0.0, 0.0, 0.0, 0.0, 0.0, 0.0, 0.0, 0.0, 0.0, 0.0, 0.0, 0.0, 0.0, 0.0, 0.0, 0.0, 0.0, 0.0, 0.0, 0.0], [0.1381065547466278, 0.05552256479859352, 0.05085644870996475, 0.052048005163669586, 0.03249349445104599, 0.0659201517701149, 0.03771049529314041, 0.02398025617003441, 0.07479985058307648, 0.03967226296663284, 0.06144368276000023, 0.10158514231443405, 0.05673861503601074, 0.027770472690463066, 0.021078379824757576, 0.056912004947662354, 0.04262561723589897, 0.03179801255464554, 0.028937965631484985, 0.0, 0.0, 0.0, 0.0, 0.0, 0.0, 0.0, 0.0, 0.0, 0.0, 0.0, 0.0, 0.0, 0.0, 0.0, 0.0, 0.0, 0.0, 0.0, 0.0, 0.0, 0.0], [0.16068895161151886, 0.1029028370976448, 0.044071368873119354, 0.23728904128074646, 0.005884963553398848, 0.05838312208652496, 0.006674062926322222, 0.027746137231588364, 0.033640872687101364, 0.0064289201982319355, 0.021860366687178612, 0.00504133990034461, 0.0028776845429092646, 0.008596869185566902, 0.011065053753554821, 0.026762261986732483, 0.015151533298194408, 0.0029756128787994385, 0.012984327971935272, 0.20897459983825684, 0.0, 0.0, 0.0, 0.0, 0.0, 0.0, 0.0, 0.0, 0.0, 0.0, 0.0, 0.0, 0.0, 0.0, 0.0, 0.0, 0.0, 0.0, 0.0, 0.0, 0.0], [0.06802939623594284, 0.04857584089040756, 0.04785946011543274, 0.05634396895766258, 0.019122302532196045, 0.06963176280260086, 0.017760256305336952, 0.04282151162624359, 0.07132243365049362, 0.018596656620502472, 0.06776411831378937, 0.1073869839310646, 0.033459730446338654, 0.031216595321893692, 0.03085855208337307, 0.06154532730579376, 0.05242527276277542, 0.023101653903722763, 0.033325545489788055, 0.0770045816898346, 0.021848030388355255, 0.0, 0.0, 0.0, 0.0, 0.0, 0.0, 0.0, 0.0, 0.0, 0.0, 0.0, 0.0, 0.0, 0.0, 0.0, 0.0, 0.0, 0.0, 0.0, 0.0], [0.20277176797389984, 0.07983963936567307, 0.05502648651599884, 0.10269133001565933, 0.013974625617265701, 0.0385812446475029, 0.022185299545526505, 0.017130371183156967, 0.0542529858648777, 0.01638665422797203, 0.04711287468671799, 0.03202790766954422, 0.021570982411503792, 0.01209118403494358, 0.016430510208010674, 0.052147358655929565, 0.017506182193756104, 0.011402172967791557, 0.011312974616885185, 0.1157042607665062, 0.01686200499534607, 0.04299111291766167, 0.0, 0.0, 0.0, 0.0, 0.0, 0.0, 0.0, 0.0, 0.0, 0.0, 0.0, 0.0, 0.0, 0.0, 0.0, 0.0, 0.0, 0.0, 0.0], [0.1272251456975937, 0.05861135572195053, 0.03770086541771889, 0.03861668333411217, 0.013256995007395744, 0.045811183750629425, 0.013100202195346355, 0.04148454591631889, 0.0452391542494297, 0.014675457961857319, 0.06359083950519562, 0.06839605420827866, 0.020528772845864296, 0.020091544836759567, 0.027783067896962166, 0.04902932047843933, 0.043293487280607224, 0.016872355714440346, 0.027315888553857803, 0.0547432117164135, 0.018403997644782066, 0.07632391899824142, 0.07790594547986984, 0.0, 0.0, 0.0, 0.0, 0.0, 0.0, 0.0, 0.0, 0.0, 0.0, 0.0, 0.0, 0.0, 0.0, 0.0, 0.0, 0.0, 0.0], [0.11551545560359955, 0.056300874799489975, 0.039716027677059174, 0.10003964602947235, 0.019884685054421425, 0.037581104785203934, 0.026958197355270386, 0.020732218399643898, 0.04099195823073387, 0.0251168180257082, 0.06078927963972092, 0.03269227221608162, 0.02717200666666031, 0.01030812133103609, 0.013885335065424442, 0.037829551845788956, 0.01768694445490837, 0.01604342646896839, 0.01444459892809391, 0.11874780058860779, 0.02708977647125721, 0.04235225170850754, 0.07778451591730118, 0.02033711038529873, 0.0, 0.0, 0.0, 0.0, 0.0, 0.0, 0.0, 0.0, 0.0, 0.0, 0.0, 0.0, 0.0, 0.0, 0.0, 0.0, 0.0], [0.09917277842760086, 0.03767213225364685, 0.03433312475681305, 0.036194562911987305, 0.022631006315350533, 0.04384267330169678, 0.02706509456038475, 0.01673547923564911, 0.0523989275097847, 0.029563821852207184, 0.04261571541428566, 0.07690460979938507, 0.043372709304094315, 0.019481614232063293, 0.014320061542093754, 0.041195474565029144, 0.029964962974190712, 0.02344677224755287, 0.02022872492671013, 0.04623916372656822, 0.03374642878770828, 0.043681368231773376, 0.11949202418327332, 0.023402657359838486, 0.022298108786344528, 0.0, 0.0, 0.0, 0.0, 0.0, 0.0, 0.0, 0.0, 0.0, 0.0, 0.0, 0.0, 0.0, 0.0, 0.0, 0.0], [0.12760160863399506, 0.07877997308969498, 0.03353102132678032, 0.18348422646522522, 0.004515851382166147, 0.043012071400880814, 0.0052526299841701984, 0.021614564582705498, 0.02664741314947605, 0.005174762569367886, 0.017002934589982033, 0.00420244550332427, 0.002365758642554283, 0.006608213763684034, 0.008393194526433945, 0.02144327573478222, 0.011621183715760708, 0.002358356723561883, 0.009914187714457512, 0.16803647577762604, 0.003379540052264929, 0.011432000435888767, 0.007947640493512154, 0.009946588426828384, 0.010287168435752392, 0.17544689774513245, 0.0, 0.0, 0.0, 0.0, 0.0, 0.0, 0.0, 0.0, 0.0, 0.0, 0.0, 0.0, 0.0, 0.0, 0.0], [0.08312313258647919, 0.04857688769698143, 0.04210878163576126, 0.06968005001544952, 0.014814508147537708, 0.05046647787094116, 0.01522446796298027, 0.015157680958509445, 0.06295499205589294, 0.014662572182714939, 0.060058120638132095, 0.036389969289302826, 0.023051368072628975, 0.012113181874155998, 0.011143754236400127, 0.04534197598695755, 0.020946476608514786, 0.013773106038570404, 0.014221030287444592, 0.08453920483589172, 0.01611320860683918, 0.04012790322303772, 0.07010525465011597, 0.015710771083831787, 0.01587163284420967, 0.09334845095872879, 0.010375027544796467, 0.0, 0.0, 0.0, 0.0, 0.0, 0.0, 0.0, 0.0, 0.0, 0.0, 0.0, 0.0, 0.0, 0.0], [0.21912743151187897, 0.039500389248132706, 0.035945598036050797, 0.09636729955673218, 0.010204753838479519, 0.01481498870998621, 0.014099747873842716, 0.008279209956526756, 0.022988608106970787, 0.010495150461792946, 0.027073077857494354, 0.013217747211456299, 0.013900489546358585, 0.0056404187344014645, 0.008332913741469383, 0.029482489451766014, 0.008852019906044006, 0.00609960313886404, 0.004152641631662846, 0.10310379415750504, 0.010135388001799583, 0.022043010219931602, 0.03990861028432846, 0.010019775480031967, 0.004495143424719572, 0.11250729858875275, 0.004541317466646433, 0.10467103868722916, 0.0, 0.0, 0.0, 0.0, 0.0, 0.0, 0.0, 0.0, 0.0, 0.0, 0.0, 0.0, 0.0], [0.19375109672546387, 0.03733966872096062, 0.03816760331392288, 0.0502830408513546, 0.015309224836528301, 0.012640422210097313, 0.01922602578997612, 0.01652664877474308, 0.014712530188262463, 0.023810651153326035, 0.0173216350376606, 0.019050488248467445, 0.018072806298732758, 0.008164753206074238, 0.013294564560055733, 0.03332245722413063, 0.0163760744035244, 0.010599197819828987, 0.009615624323487282, 0.05357695743441582, 0.02405509725213051, 0.02075604721903801, 0.054120905697345734, 0.01256859302520752, 0.010357612743973732, 0.05854499712586403, 0.005498012527823448, 0.1621866524219513, 0.03075057826936245, 0.0, 0.0, 0.0, 0.0, 0.0, 0.0, 0.0, 0.0, 0.0, 0.0, 0.0, 0.0], [0.1661672443151474, 0.049956467002630234, 0.09450212121009827, 0.10232020914554596, 0.0033639371395111084, 0.017840230837464333, 0.005123525857925415, 0.005341567099094391, 0.04136281460523605, 0.004058134742081165, 0.023789625614881516, 0.0031797285191714764, 0.004483197815716267, 0.003076437395066023, 0.00331201683729887, 0.07834771275520325, 0.012369531206786633, 0.0021658833138644695, 0.002563272835686803, 0.09531461447477341, 0.0033420585095882416, 0.008758689276874065, 0.007921569049358368, 0.004481864161789417, 0.0026252642273902893, 0.10347957164049149, 0.001429479569196701, 0.06219359114766121, 0.03905745595693588, 0.04807214438915253, 0.0, 0.0, 0.0, 0.0, 0.0, 0.0, 0.0, 0.0, 0.0, 0.0, 0.0], [0.06863082945346832, 0.019728800281882286, 0.024418925866484642, 0.048940084874629974, 0.031955234706401825, 0.015525326132774353, 0.032096654176712036, 0.005291687324643135, 0.021612785756587982, 0.03227929770946503, 0.017673637717962265, 0.06382431834936142, 0.054916009306907654, 0.01080408226698637, 0.006855550222098827, 0.025644760578870773, 0.009802683256566525, 0.017388630658388138, 0.00791140366345644, 0.05567393824458122, 0.033451665192842484, 0.0206130463629961, 0.17969539761543274, 0.008939363993704319, 0.008252463303506374, 0.059554487466812134, 0.009855362586677074, 0.03237492963671684, 0.019564233720302582, 0.032916873693466187, 0.023807547986507416, 0.0, 0.0, 0.0, 0.0, 0.0, 0.0, 0.0, 0.0, 0.0, 0.0], [0.04174051433801651, 0.025993816554546356, 0.024787835776805878, 0.03146534040570259, 0.011278173886239529, 0.03729143738746643, 0.010969719849526882, 0.025752736255526543, 0.03980601206421852, 0.011921576224267483, 0.03735319525003433, 0.06813745200634003, 0.020656663924455643, 0.01758381351828575, 0.01602896861732006, 0.035456884652376175, 0.028627514839172363, 0.013856151141226292, 0.018878215923905373, 0.04578714817762375, 0.013495384715497494, 0.03738486394286156, 0.052692919969558716, 0.02213265188038349, 0.021562011912465096, 0.050707876682281494, 0.015124186873435974, 0.0530809722840786, 0.04233584925532341, 0.05910734459757805, 0.05050162225961685, 0.018501095473766327, 0.0, 0.0, 0.0, 0.0, 0.0, 0.0, 0.0, 0.0, 0.0], [0.12322700023651123, 0.02493336610496044, 0.024746455252170563, 0.05285002663731575, 0.01767713949084282, 0.012885638512670994, 0.023715680465102196, 0.010464990511536598, 0.02753022126853466, 0.021688545122742653, 0.02032897248864174, 0.02598375640809536, 0.026681948453187943, 0.008598391897976398, 0.01053786464035511, 0.025820184499025345, 0.012231098487973213, 0.013200346380472183, 0.008837934583425522, 0.0641656443476677, 0.02302120439708233, 0.02232472039759159, 0.07097302377223969, 0.013148806989192963, 0.009509310126304626, 0.06956590712070465, 0.0077486708760261536, 0.0805194303393364, 0.02648184448480606, 0.03033870831131935, 0.033770691603422165, 0.029546987265348434, 0.026945577934384346, 0.0, 0.0, 0.0, 0.0, 0.0, 0.0, 0.0, 0.0], [0.046000901609659195, 0.025809481739997864, 0.030797209590673447, 0.030826948583126068, 0.00515894778072834, 0.02776649035513401, 0.0056686378084123135, 0.02339303493499756, 0.04037673771381378, 0.006313239224255085, 0.033118002116680145, 0.07576362788677216, 0.012360742315649986, 0.010844875127077103, 0.011982914060354233, 0.04652555659413338, 0.0215167123824358, 0.006584649905562401, 0.011416002176702023, 0.04609256982803345, 0.00709938071668148, 0.031837817281484604, 0.03614187613129616, 0.01710839942097664, 0.013291277922689915, 0.05215873569250107, 0.007750124670565128, 0.07567489892244339, 0.04454232007265091, 0.07524015009403229, 0.033650245517492294, 0.010050861164927483, 0.054206352680921555, 0.022930247709155083, 0.0, 0.0, 0.0, 0.0, 0.0, 0.0, 0.0], [0.12219198793172836, 0.040392618626356125, 0.026579685509204865, 0.05305580794811249, 0.007874799892306328, 0.018642114475369453, 0.012925236485898495, 0.009080588817596436, 0.02815498225390911, 0.009757530875504017, 0.024198994040489197, 0.018235649913549423, 0.01247202605009079, 0.00623480137437582, 0.008054825477302074, 0.027338862419128418, 0.008761423639953136, 0.006402798928320408, 0.005783598404377699, 0.06259569525718689, 0.009770677424967289, 0.02226453274488449, 0.04370862618088722, 0.01107677910476923, 0.00636267801746726, 0.06930139660835266, 0.0052066463977098465, 0.11570537090301514, 0.045699648559093475, 0.03523789718747139, 0.030547240749001503, 0.013039959594607353, 0.033930763602256775, 0.01965823397040367, 0.02975556068122387, 0.0, 0.0, 0.0, 0.0, 0.0, 0.0], [0.07269089668989182, 0.0285577941685915, 0.026991162449121475, 0.025300489738583565, 0.0073075625114142895, 0.016440872102975845, 0.008456693962216377, 0.009405038319528103, 0.025822557508945465, 0.008587619289755821, 0.027105165645480156, 0.046746689826250076, 0.018422989174723625, 0.0060890475288033485, 0.00837415549904108, 0.03508003428578377, 0.012862016446888447, 0.007273958995938301, 0.005483353976160288, 0.03475784510374069, 0.01012422889471054, 0.025980742648243904, 0.06715494394302368, 0.009488272480666637, 0.0063585625030100346, 0.039449919015169144, 0.006283725146204233, 0.1085541620850563, 0.04402224346995354, 0.0526098869740963, 0.041241779923439026, 0.014578459784388542, 0.04593619331717491, 0.03636494278907776, 0.036813247948884964, 0.023282703012228012, 0.0, 0.0, 0.0, 0.0, 0.0], [0.1898825615644455, 0.04403247684240341, 0.02607082389295101, 0.04515376314520836, 0.0026502234395593405, 0.024437211453914642, 0.004106795880943537, 0.010748060420155525, 0.016923578456044197, 0.0036567794159054756, 0.025152863934636116, 0.004683924373239279, 0.0027581823524087667, 0.0028553898446261883, 0.005012874025851488, 0.026724735274910927, 0.007192536257207394, 0.002188322367146611, 0.004155728500336409, 0.054529592394828796, 0.0035987296141684055, 0.018273357301950455, 0.012630702927708626, 0.00863426923751831, 0.004708034452050924, 0.06089809909462929, 0.0017769652185961604, 0.1831151396036148, 0.05455408990383148, 0.03550095483660698, 0.020032601431012154, 0.00501364516094327, 0.03854464367032051, 0.004529907833784819, 0.025471176952123642, 0.006375051103532314, 0.013426167890429497, 0.0, 0.0, 0.0, 0.0], [0.1209920346736908, 0.04742896929383278, 0.05327731743454933, 0.09855929017066956, 0.0035693340469151735, 0.017356526106595993, 0.004628846421837807, 0.005816069897264242, 0.03714139014482498, 0.00430600019171834, 0.022970149293541908, 0.0033641268964856863, 0.004125622101128101, 0.003372170962393284, 0.0026001636870205402, 0.04623820632696152, 0.010746181011199951, 0.0023609260097146034, 0.003783246036618948, 0.09633433073759079, 0.003381824353709817, 0.00760444812476635, 0.008226318284869194, 0.004302333574742079, 0.0038897166959941387, 0.10403590649366379, 0.0012767239240929484, 0.04497959837317467, 0.038912683725357056, 0.04877924174070358, 0.031193504109978676, 0.004052526783198118, 0.02571788989007473, 0.004987507127225399, 0.00944202858954668, 0.00283246417529881, 0.004465524572879076, 0.06294894963502884, 0.0, 0.0, 0.0], [0.08286324143409729, 0.021449999883770943, 0.025525273755192757, 0.058254633098840714, 0.02691337652504444, 0.005528348032385111, 0.03671230748295784, 0.006577445659786463, 0.021176407113671303, 0.02687571756541729, 0.017995325848460197, 0.022337613627314568, 0.036868683993816376, 0.0086083197966218, 0.009660526178777218, 0.02067122794687748, 0.008272922597825527, 0.01451244205236435, 0.006394997239112854, 0.05484277009963989, 0.02325870655477047, 0.02022000402212143, 0.06889226287603378, 0.009736318141222, 0.006421233527362347, 0.05782874673604965, 0.00928349606692791, 0.04394231364130974, 0.014499500393867493, 0.022853704169392586, 0.031849510967731476, 0.028158199042081833, 0.01978275179862976, 0.04559297114610672, 0.024022355675697327, 0.012036396190524101, 0.017854196950793266, 0.026363776996731758, 0.0053619323298335075, 0.0, 0.0], [0.09654615819454193, 0.05210705101490021, 0.021663442254066467, 0.1268487125635147, 0.0033592984545975924, 0.02814473956823349, 0.003915001638233662, 0.014608731493353844, 0.017125578597187996, 0.003843932645395398, 0.011051854118704796, 0.002832094207406044, 0.0016598459333181381, 0.0043953703716397285, 0.0053253741934895515, 0.01410375814884901, 0.00739819323644042, 0.0016471631824970245, 0.006495874375104904, 0.11504384875297546, 0.002417466137558222, 0.007391707040369511, 0.005986974574625492, 0.006535065360367298, 0.006740300450474024, 0.12054784595966339, 0.0021911223884671926, 0.02299683913588524, 0.029416555538773537, 0.023016080260276794, 0.007924833334982395, 0.0029997313395142555, 0.010891045443713665, 0.0016959032509475946, 0.008976445533335209, 0.003819600911810994, 0.008348509669303894, 0.01829008385539055, 0.018792634829878807, 0.1529051959514618, 0.0], [0.06131049990653992, 0.021636826917529106, 0.013287547044456005, 0.015697631984949112, 0.005818950943648815, 0.01672978326678276, 0.005833349656313658, 0.016241952776908875, 0.016421420499682426, 0.006535483989864588, 0.023532431572675705, 0.027027059346437454, 0.008297331631183624, 0.007326843682676554, 0.009323176927864552, 0.01827574148774147, 0.015065082348883152, 0.006733686663210392, 0.009979874826967716, 0.02247397042810917, 0.007680491078644991, 0.027906132861971855, 0.03707023337483406, 0.01448280643671751, 0.011772941797971725, 0.025459500029683113, 0.00643028412014246, 0.08142952620983124, 0.0354650616645813, 0.03370090574026108, 0.0405137836933136, 0.011450693942606449, 0.041199732571840286, 0.016370246186852455, 0.04077078029513359, 0.024332132190465927, 0.03488730266690254, 0.03204294666647911, 0.04247847944498062, 0.03649156913161278, 0.07051582634449005]], [[1.0, 0.0, 0.0, 0.0, 0.0, 0.0, 0.0, 0.0, 0.0, 0.0, 0.0, 0.0, 0.0, 0.0, 0.0, 0.0, 0.0, 0.0, 0.0, 0.0, 0.0, 0.0, 0.0, 0.0, 0.0, 0.0, 0.0, 0.0, 0.0, 0.0, 0.0, 0.0, 0.0, 0.0, 0.0, 0.0, 0.0, 0.0, 0.0, 0.0, 0.0], [0.8204252123832703, 0.17957477271556854, 0.0, 0.0, 0.0, 0.0, 0.0, 0.0, 0.0, 0.0, 0.0, 0.0, 0.0, 0.0, 0.0, 0.0, 0.0, 0.0, 0.0, 0.0, 0.0, 0.0, 0.0, 0.0, 0.0, 0.0, 0.0, 0.0, 0.0, 0.0, 0.0, 0.0, 0.0, 0.0, 0.0, 0.0, 0.0, 0.0, 0.0, 0.0, 0.0], [0.5765661001205444, 0.1636134684085846, 0.25982046127319336, 0.0, 0.0, 0.0, 0.0, 0.0, 0.0, 0.0, 0.0, 0.0, 0.0, 0.0, 0.0, 0.0, 0.0, 0.0, 0.0, 0.0, 0.0, 0.0, 0.0, 0.0, 0.0, 0.0, 0.0, 0.0, 0.0, 0.0, 0.0, 0.0, 0.0, 0.0, 0.0, 0.0, 0.0, 0.0, 0.0, 0.0, 0.0], [0.4864504933357239, 0.11456705629825592, 0.16447430849075317, 0.23450812697410583, 0.0, 0.0, 0.0, 0.0, 0.0, 0.0, 0.0, 0.0, 0.0, 0.0, 0.0, 0.0, 0.0, 0.0, 0.0, 0.0, 0.0, 0.0, 0.0, 0.0, 0.0, 0.0, 0.0, 0.0, 0.0, 0.0, 0.0, 0.0, 0.0, 0.0, 0.0, 0.0, 0.0, 0.0, 0.0, 0.0, 0.0], [0.3952537477016449, 0.30375635623931885, 0.12453420460224152, 0.1752263754606247, 0.0012293672189116478, 0.0, 0.0, 0.0, 0.0, 0.0, 0.0, 0.0, 0.0, 0.0, 0.0, 0.0, 0.0, 0.0, 0.0, 0.0, 0.0, 0.0, 0.0, 0.0, 0.0, 0.0, 0.0, 0.0, 0.0, 0.0, 0.0, 0.0, 0.0, 0.0, 0.0, 0.0, 0.0, 0.0, 0.0, 0.0, 0.0], [0.29914364218711853, 0.12377454340457916, 0.156953826546669, 0.2247081845998764, 0.14628751575946808, 0.04913228005170822, 0.0, 0.0, 0.0, 0.0, 0.0, 0.0, 0.0, 0.0, 0.0, 0.0, 0.0, 0.0, 0.0, 0.0, 0.0, 0.0, 0.0, 0.0, 0.0, 0.0, 0.0, 0.0, 0.0, 0.0, 0.0, 0.0, 0.0, 0.0, 0.0, 0.0, 0.0, 0.0, 0.0, 0.0, 0.0], [0.38039660453796387, 0.2829379141330719, 0.10617130249738693, 0.14944523572921753, 0.001637894194573164, 0.07218610495328903, 0.007225004956126213, 0.0, 0.0, 0.0, 0.0, 0.0, 0.0, 0.0, 0.0, 0.0, 0.0, 0.0, 0.0, 0.0, 0.0, 0.0, 0.0, 0.0, 0.0, 0.0, 0.0, 0.0, 0.0, 0.0, 0.0, 0.0, 0.0, 0.0, 0.0, 0.0, 0.0, 0.0, 0.0, 0.0, 0.0], [0.376935213804245, 0.20170901715755463, 0.10738052427768707, 0.18461710214614868, 0.012602238915860653, 0.06427188962697983, 0.03392810374498367, 0.018555864691734314, 0.0, 0.0, 0.0, 0.0, 0.0, 0.0, 0.0, 0.0, 0.0, 0.0, 0.0, 0.0, 0.0, 0.0, 0.0, 0.0, 0.0, 0.0, 0.0, 0.0, 0.0, 0.0, 0.0, 0.0, 0.0, 0.0, 0.0, 0.0, 0.0, 0.0, 0.0, 0.0, 0.0], [0.2086978554725647, 0.06206294149160385, 0.10186421871185303, 0.15619221329689026, 0.1796516329050064, 0.03435428813099861, 0.15582682192325592, 0.03982049599289894, 0.0615294985473156, 0.0, 0.0, 0.0, 0.0, 0.0, 0.0, 0.0, 0.0, 0.0, 0.0, 0.0, 0.0, 0.0, 0.0, 0.0, 0.0, 0.0, 0.0, 0.0, 0.0, 0.0, 0.0, 0.0, 0.0, 0.0, 0.0, 0.0, 0.0, 0.0, 0.0, 0.0, 0.0], [0.33115774393081665, 0.2500452995300293, 0.10723020136356354, 0.14222082495689392, 0.0011331822024658322, 0.06462275981903076, 0.004903589375317097, 0.008006981573998928, 0.08945483714342117, 0.00122458569239825, 0.0, 0.0, 0.0, 0.0, 0.0, 0.0, 0.0, 0.0, 0.0, 0.0, 0.0, 0.0, 0.0, 0.0, 0.0, 0.0, 0.0, 0.0, 0.0, 0.0, 0.0, 0.0, 0.0, 0.0, 0.0, 0.0, 0.0, 0.0, 0.0, 0.0, 0.0], [0.14362496137619019, 0.05252019688487053, 0.06165903061628342, 0.08184310793876648, 0.1466878056526184, 0.027691233903169632, 0.17113526165485382, 0.02332618460059166, 0.03681949898600578, 0.19135598838329315, 0.06333675980567932, 0.0, 0.0, 0.0, 0.0, 0.0, 0.0, 0.0, 0.0, 0.0, 0.0, 0.0, 0.0, 0.0, 0.0, 0.0, 0.0, 0.0, 0.0, 0.0, 0.0, 0.0, 0.0, 0.0, 0.0, 0.0, 0.0, 0.0, 0.0, 0.0, 0.0], [0.4320766031742096, 0.19835005700588226, 0.05854681506752968, 0.07952144742012024, 0.000667629181407392, 0.03441504016518593, 0.0032591468188911676, 0.0034433500841259956, 0.03641723468899727, 0.000775954918935895, 0.15139605104923248, 0.0011306541273370385, 0.0, 0.0, 0.0, 0.0, 0.0, 0.0, 0.0, 0.0, 0.0, 0.0, 0.0, 0.0, 0.0, 0.0, 0.0, 0.0, 0.0, 0.0, 0.0, 0.0, 0.0, 0.0, 0.0, 0.0, 0.0, 0.0, 0.0, 0.0, 0.0], [0.25545722246170044, 0.21357564628124237, 0.06299547851085663, 0.09930946677923203, 0.00040320484549738467, 0.05514040216803551, 0.0018992250552400947, 0.006746918894350529, 0.062480628490448, 0.00041444989619776607, 0.23995395004749298, 0.0004093232855666429, 0.0012140449834987521, 0.0, 0.0, 0.0, 0.0, 0.0, 0.0, 0.0, 0.0, 0.0, 0.0, 0.0, 0.0, 0.0, 0.0, 0.0, 0.0, 0.0, 0.0, 0.0, 0.0, 0.0, 0.0, 0.0, 0.0, 0.0, 0.0, 0.0, 0.0], [0.22716569900512695, 0.1290263831615448, 0.07359391450881958, 0.13214969635009766, 0.014703987166285515, 0.058192186057567596, 0.02647259272634983, 0.028966672718524933, 0.043139275163412094, 0.0171063132584095, 0.16708910465240479, 0.035193707793951035, 0.028312554582953453, 0.018887901678681374, 0.0, 0.0, 0.0, 0.0, 0.0, 0.0, 0.0, 0.0, 0.0, 0.0, 0.0, 0.0, 0.0, 0.0, 0.0, 0.0, 0.0, 0.0, 0.0, 0.0, 0.0, 0.0, 0.0, 0.0, 0.0, 0.0, 0.0], [0.23518820106983185, 0.09852774441242218, 0.055549100041389465, 0.08478245884180069, 0.025495920330286026, 0.039416417479515076, 0.04775282368063927, 0.020211700350046158, 0.030231742188334465, 0.03273560851812363, 0.1124652624130249, 0.08041320741176605, 0.08362118154764175, 0.01619116961956024, 0.03741747513413429, 0.0, 0.0, 0.0, 0.0, 0.0, 0.0, 0.0, 0.0, 0.0, 0.0, 0.0, 0.0, 0.0, 0.0, 0.0, 0.0, 0.0, 0.0, 0.0, 0.0, 0.0, 0.0, 0.0, 0.0, 0.0, 0.0], [0.04279047250747681, 0.012107834219932556, 0.022896716371178627, 0.03342001140117645, 0.13711754977703094, 0.007784045301377773, 0.09205301105976105, 0.013705692254006863, 0.012747402302920818, 0.18197272717952728, 0.01846504583954811, 0.25252318382263184, 0.12179432064294815, 0.013658073730766773, 0.013980699703097343, 0.022983217611908913, 0.0, 0.0, 0.0, 0.0, 0.0, 0.0, 0.0, 0.0, 0.0, 0.0, 0.0, 0.0, 0.0, 0.0, 0.0, 0.0, 0.0, 0.0, 0.0, 0.0, 0.0, 0.0, 0.0, 0.0, 0.0], [0.1584073305130005, 0.060010652989149094, 0.0626186951994896, 0.0899592787027359, 0.045925866812467575, 0.02670752815902233, 0.06381866335868835, 0.017841966822743416, 0.03497537970542908, 0.059607841074466705, 0.08018344640731812, 0.06835637241601944, 0.06852427870035172, 0.023222211748361588, 0.029728775843977928, 0.0764111876487732, 0.03370055928826332, 0.0, 0.0, 0.0, 0.0, 0.0, 0.0, 0.0, 0.0, 0.0, 0.0, 0.0, 0.0, 0.0, 0.0, 0.0, 0.0, 0.0, 0.0, 0.0, 0.0, 0.0, 0.0, 0.0, 0.0], [0.22535191476345062, 0.15955163538455963, 0.06331118196249008, 0.09451679140329361, 0.002157239941880107, 0.04679280146956444, 0.007813623175024986, 0.007855689153075218, 0.043048299849033356, 0.0026225890032947063, 0.17159022390842438, 0.0036895815283060074, 0.008059966377913952, 0.013568547554314137, 0.02658654935657978, 0.09669222682714462, 0.020500442013144493, 0.006290686782449484, 0.0, 0.0, 0.0, 0.0, 0.0, 0.0, 0.0, 0.0, 0.0, 0.0, 0.0, 0.0, 0.0, 0.0, 0.0, 0.0, 0.0, 0.0, 0.0, 0.0, 0.0, 0.0, 0.0], [0.18811851739883423, 0.09477280080318451, 0.0582633838057518, 0.09757562726736069, 0.01940787397325039, 0.04066447541117668, 0.03608444705605507, 0.018834374845027924, 0.03838739171624184, 0.02328074909746647, 0.12305647134780884, 0.0344286784529686, 0.0385027751326561, 0.01964351162314415, 0.030935095623135567, 0.07479467242956161, 0.029366355389356613, 0.026510844007134438, 0.007371963933110237, 0.0, 0.0, 0.0, 0.0, 0.0, 0.0, 0.0, 0.0, 0.0, 0.0, 0.0, 0.0, 0.0, 0.0, 0.0, 0.0, 0.0, 0.0, 0.0, 0.0, 0.0, 0.0], [0.023033736273646355, 0.005013281479477882, 0.007859908975660801, 0.010968350805342197, 0.10289598256349564, 0.0025392435491085052, 0.08457915484905243, 0.003965890966355801, 0.002657543634995818, 0.15486393868923187, 0.0062978253699839115, 0.36839911341667175, 0.1546790599822998, 0.0033518001437187195, 0.004183669574558735, 0.0055292388424277306, 0.004803373012691736, 0.04183075204491615, 0.002667069900780916, 0.009881113655865192, 0.0, 0.0, 0.0, 0.0, 0.0, 0.0, 0.0, 0.0, 0.0, 0.0, 0.0, 0.0, 0.0, 0.0, 0.0, 0.0, 0.0, 0.0, 0.0, 0.0, 0.0], [0.20776675641536713, 0.15384617447853088, 0.06195233762264252, 0.07739145308732986, 0.0008936315425671637, 0.03768279775977135, 0.00412614643573761, 0.0038561741821467876, 0.03946714103221893, 0.0010547508718445897, 0.12863041460514069, 0.0010462962090969086, 0.0034697509836405516, 0.0117926811799407, 0.019401174038648605, 0.09490300714969635, 0.015622592531144619, 0.0033571897074580193, 0.0016432286938652396, 0.130799800157547, 0.0012965159257873893, 0.0, 0.0, 0.0, 0.0, 0.0, 0.0, 0.0, 0.0, 0.0, 0.0, 0.0, 0.0, 0.0, 0.0, 0.0, 0.0, 0.0, 0.0, 0.0, 0.0], [0.10596055537462234, 0.042889852076768875, 0.04818278178572655, 0.07023466378450394, 0.04529716819524765, 0.01944546215236187, 0.060797180980443954, 0.011030775494873524, 0.02497449889779091, 0.055001698434352875, 0.0488448403775692, 0.0711619034409523, 0.05672141909599304, 0.017141899093985558, 0.019927971065044403, 0.048868171870708466, 0.02285994589328766, 0.03975251689553261, 0.00910059455782175, 0.08168911933898926, 0.06349045783281326, 0.036626458168029785, 0.0, 0.0, 0.0, 0.0, 0.0, 0.0, 0.0, 0.0, 0.0, 0.0, 0.0, 0.0, 0.0, 0.0, 0.0, 0.0, 0.0, 0.0, 0.0], [0.3761383891105652, 0.14908170700073242, 0.0495457798242569, 0.05164092779159546, 0.0008105445886030793, 0.02183852344751358, 0.005106070078909397, 0.0012486045015975833, 0.016604088246822357, 0.0011191448429599404, 0.08152715861797333, 0.002189904684200883, 0.006815176922827959, 0.005043377634137869, 0.013250431045889854, 0.04911248758435249, 0.005895811133086681, 0.003166523529216647, 0.0004362213658168912, 0.06322693824768066, 0.0012736452044919133, 0.07409970462322235, 0.020828839391469955, 0.0, 0.0, 0.0, 0.0, 0.0, 0.0, 0.0, 0.0, 0.0, 0.0, 0.0, 0.0, 0.0, 0.0, 0.0, 0.0, 0.0, 0.0], [0.07695076614618301, 0.04358099028468132, 0.03093862533569336, 0.051727890968322754, 0.027292581275105476, 0.022708268836140633, 0.0434311218559742, 0.01691022887825966, 0.016909366473555565, 0.032591771334409714, 0.05589930713176727, 0.06221052259206772, 0.044920071959495544, 0.010763156227767467, 0.018324431031942368, 0.028060052543878555, 0.017527176067233086, 0.023179849609732628, 0.009469482116401196, 0.05815781280398369, 0.03648072108626366, 0.0559900738298893, 0.13919410109519958, 0.07678163051605225, 0.0, 0.0, 0.0, 0.0, 0.0, 0.0, 0.0, 0.0, 0.0, 0.0, 0.0, 0.0, 0.0, 0.0, 0.0, 0.0, 0.0], [0.10695371776819229, 0.052396953105926514, 0.03183000534772873, 0.05209718644618988, 0.01237831637263298, 0.022182688117027283, 0.02296856977045536, 0.00989182386547327, 0.019075985997915268, 0.015121824108064175, 0.06320207566022873, 0.024332955479621887, 0.02706245705485344, 0.0106348292902112, 0.01592840813100338, 0.03753567487001419, 0.015332721173763275, 0.01629198156297207, 0.0037919473834335804, 0.07393406331539154, 0.019835107028484344, 0.075009785592556, 0.1399001032114029, 0.1280263513326645, 0.004284463357180357, 0.0, 0.0, 0.0, 0.0, 0.0, 0.0, 0.0, 0.0, 0.0, 0.0, 0.0, 0.0, 0.0, 0.0, 0.0, 0.0], [0.010482010431587696, 0.0022311171051114798, 0.0034787978511303663, 0.004751267842948437, 0.05234062299132347, 0.0011184961767867208, 0.04268767312169075, 0.001713131321594119, 0.001097656087949872, 0.0797489807009697, 0.0026413495652377605, 0.20151552557945251, 0.08453888446092606, 0.0014851918676868081, 0.0017725471407175064, 0.002286564791575074, 0.0020684043411165476, 0.02053344063460827, 0.0011349392589181662, 0.0040436373092234135, 0.09256616234779358, 0.002413745503872633, 0.37684881687164307, 0.0011720627080649137, 0.0011415663175284863, 0.004187446553260088, 0.0, 0.0, 0.0, 0.0, 0.0, 0.0, 0.0, 0.0, 0.0, 0.0, 0.0, 0.0, 0.0, 0.0, 0.0], [0.08700752258300781, 0.04120175912976265, 0.026811877265572548, 0.041921477764844894, 0.014659088104963303, 0.02255595102906227, 0.022248009219765663, 0.01585039310157299, 0.017211774364113808, 0.018043817952275276, 0.05277448147535324, 0.0470302477478981, 0.03488603234291077, 0.009644472040235996, 0.02330164797604084, 0.028497319668531418, 0.014853938482701778, 0.017091985791921616, 0.006345923524349928, 0.05312473699450493, 0.021937834098935127, 0.06083328649401665, 0.14176633954048157, 0.10354385524988174, 0.007199059706181288, 0.05732687562704086, 0.012330298312008381, 0.0, 0.0, 0.0, 0.0, 0.0, 0.0, 0.0, 0.0, 0.0, 0.0, 0.0, 0.0, 0.0, 0.0], [0.011784822680056095, 0.0038374329451471567, 0.005683348514139652, 0.007333885412663221, 0.049263253808021545, 0.0017184967873618007, 0.05381176248192787, 0.0016188900917768478, 0.0019090102287009358, 0.080929234623909, 0.004978485871106386, 0.1525356024503708, 0.10941149294376373, 0.0024241749197244644, 0.0021946635097265244, 0.00420229509472847, 0.0032971168402582407, 0.025851868093013763, 0.0013283699518069625, 0.00662547443062067, 0.0940808430314064, 0.004537991248071194, 0.3520597517490387, 0.002900262363255024, 0.001324386685155332, 0.006791992578655481, 0.0018366014119237661, 0.005728563293814659, 0.0, 0.0, 0.0, 0.0, 0.0, 0.0, 0.0, 0.0, 0.0, 0.0, 0.0, 0.0, 0.0], [0.004934393800795078, 0.0013087291736155748, 0.002114448230713606, 0.002729251980781555, 0.04195564612746239, 0.0008316539460793138, 0.03205110505223274, 0.0013260041596367955, 0.0008556600078009069, 0.06886661797761917, 0.0018192678689956665, 0.2015828639268875, 0.09485886245965958, 0.001283451565541327, 0.0014557981630787253, 0.001553958747535944, 0.0016683494905009866, 0.018647372722625732, 0.0008994389791041613, 0.002450887579470873, 0.08422213792800903, 0.0019097664626315236, 0.42256733775138855, 0.001054044347256422, 0.000907688110601157, 0.002551082754507661, 0.0007279934943653643, 0.002139514312148094, 0.0007267057080753148, 0.0, 0.0, 0.0, 0.0, 0.0, 0.0, 0.0, 0.0, 0.0, 0.0, 0.0, 0.0], [0.030808383598923683, 0.006914569064974785, 0.013091867789626122, 0.019042570143938065, 0.06511722505092621, 0.0033785628620535135, 0.04865523427724838, 0.004115688614547253, 0.0048491377383470535, 0.08646327257156372, 0.008479234762489796, 0.12290477007627487, 0.06759634613990784, 0.005081712733954191, 0.004749443847686052, 0.01095744501799345, 0.007720346562564373, 0.031071648001670837, 0.0031164386309683323, 0.018852639943361282, 0.09574426710605621, 0.006280328147113323, 0.2831346094608307, 0.0025398170109838247, 0.0030716401524841785, 0.01943400502204895, 0.0025728929322212934, 0.012531147338449955, 0.004288950469344854, 0.007435886655002832, 0.0, 0.0, 0.0, 0.0, 0.0, 0.0, 0.0, 0.0, 0.0, 0.0, 0.0], [0.001633307314477861, 0.0005138552514836192, 0.00042903333087451756, 0.0004638834507204592, 0.015106460079550743, 0.00031951197888702154, 0.017942139878869057, 0.00027761931414715946, 0.00014025470591150224, 0.02951599285006523, 0.0005020750686526299, 0.1189674586057663, 0.12095305323600769, 0.00040534805157221854, 0.00029073204495944083, 0.00021804310381412506, 0.00034587192931212485, 0.009189452975988388, 0.00014288956299424171, 0.00031506462255492806, 0.03506140038371086, 0.0007742535672150552, 0.6434913873672485, 0.0010810332605615258, 0.00014834858302492648, 0.0003313937340863049, 0.00015876881661824882, 0.0003868213971145451, 0.00023002273519523442, 0.0001477021723985672, 0.0005168491043150425, 0.0, 0.0, 0.0, 0.0, 0.0, 0.0, 0.0, 0.0, 0.0, 0.0], [0.09589603543281555, 0.06805278360843658, 0.027268746867775917, 0.03232962265610695, 0.0005012208712287247, 0.016178127378225327, 0.00229072873480618, 0.0015101316384971142, 0.014583082869648933, 0.0005974005325697362, 0.04864073544740677, 0.0006652495358139277, 0.00222674454562366, 0.0049910396337509155, 0.007333576679229736, 0.03550996258854866, 0.006155513692647219, 0.0017196129774674773, 0.0006145995575934649, 0.04720497503876686, 0.0006832972285337746, 0.04981683939695358, 0.00639110105112195, 0.2110995650291443, 0.0007406370132230222, 0.0531470961868763, 0.015943901613354683, 0.08587553352117538, 0.10352778434753418, 0.035470422357320786, 0.022058695554733276, 0.0009752058540470898, 0.0, 0.0, 0.0, 0.0, 0.0, 0.0, 0.0, 0.0, 0.0], [0.025014862418174744, 0.008414553478360176, 0.009907168336212635, 0.012044716626405716, 0.048318978399038315, 0.004389766603708267, 0.05404726788401604, 0.0033576800487935543, 0.004255126230418682, 0.06757544726133347, 0.00792106706649065, 0.1110403910279274, 0.08669210225343704, 0.0056635974906384945, 0.004760114476084709, 0.007294499780982733, 0.005740946624428034, 0.032151058316230774, 0.002974447561427951, 0.010736767202615738, 0.07601986825466156, 0.0070473384112119675, 0.25661876797676086, 0.005015272181481123, 0.00300588202662766, 0.011189998127520084, 0.00365294492803514, 0.009745747782289982, 0.0051329308189451694, 0.005465593189001083, 0.010466144420206547, 0.08595900982618332, 0.008379914797842503, 0.0, 0.0, 0.0, 0.0, 0.0, 0.0, 0.0, 0.0], [0.06072141230106354, 0.04836907237768173, 0.013270929455757141, 0.019147275015711784, 0.00013624927669297904, 0.01173514686524868, 0.0006579828332178295, 0.001149188494309783, 0.009310804307460785, 0.00014678642037324607, 0.040383290499448776, 0.00019110008724965155, 0.0005958316032774746, 0.002353280782699585, 0.004948772490024567, 0.02022182196378708, 0.0033600127790123224, 0.0005763314547948539, 0.0003263865364715457, 0.03322354704141617, 0.00018450462084729224, 0.048630889505147934, 0.002411418128758669, 0.317592978477478, 0.0004139225056860596, 0.03802981972694397, 0.010347043164074421, 0.07423397898674011, 0.09960649162530899, 0.024684814736247063, 0.016713572666049004, 0.0002789332647807896, 0.09468627721071243, 0.0013601337559521198, 0.0, 0.0, 0.0, 0.0, 0.0, 0.0, 0.0], [0.058122668415308, 0.022385790944099426, 0.025172123685479164, 0.0352194644510746, 0.03090028651058674, 0.009955493733286858, 0.04041225463151932, 0.0053345803171396255, 0.011235945858061314, 0.03773536533117294, 0.02234051190316677, 0.05398084595799446, 0.04271267354488373, 0.008751348592340946, 0.00924068782478571, 0.022083252668380737, 0.010913067497313023, 0.024618519470095634, 0.004234796389937401, 0.03588717058300972, 0.04092477262020111, 0.016505850479006767, 0.1329336166381836, 0.013128437101840973, 0.004354814998805523, 0.0375872403383255, 0.007976902648806572, 0.03359071910381317, 0.016770457848906517, 0.017114456743001938, 0.025587836280465126, 0.04652908071875572, 0.02554420381784439, 0.052268847823143005, 0.01794593594968319, 0.0, 0.0, 0.0, 0.0, 0.0, 0.0], [0.13466274738311768, 0.050879694521427155, 0.022178808227181435, 0.030266128480434418, 0.00389654072932899, 0.012241828255355358, 0.010803385637700558, 0.002472885884344578, 0.006215296220034361, 0.005186648108065128, 0.03264486789703369, 0.01980489306151867, 0.023685455322265625, 0.002988784108310938, 0.008021711371839046, 0.014895404689013958, 0.00432868767529726, 0.006184879224747419, 0.0006935233250260353, 0.02723182737827301, 0.005202349741011858, 0.031453780829906464, 0.10737457871437073, 0.09553403407335281, 0.0008163370075635612, 0.029954787343740463, 0.004162600263953209, 0.05017642676830292, 0.03525148332118988, 0.010864020325243473, 0.02499961666762829, 0.0071209450252354145, 0.04821957275271416, 0.04132199287414551, 0.042334042489528656, 0.04592936113476753, 0.0, 0.0, 0.0, 0.0, 0.0], [0.0695667415857315, 0.0261960681527853, 0.016828499734401703, 0.030385244637727737, 0.011895955540239811, 0.009595463052392006, 0.019726769998669624, 0.005788469687104225, 0.007166829891502857, 0.01391809806227684, 0.02922787144780159, 0.03517503663897514, 0.024912483990192413, 0.0037270609755069017, 0.007920542731881142, 0.014258414506912231, 0.006637734826654196, 0.009900647215545177, 0.0019663795828819275, 0.03290441632270813, 0.01532952580600977, 0.029086017981171608, 0.13292285799980164, 0.04419223219156265, 0.002174816792830825, 0.03502889350056648, 0.00407771160826087, 0.04713171347975731, 0.02176138013601303, 0.012031888589262962, 0.02528386563062668, 0.019365165382623672, 0.03981867432594299, 0.0375855416059494, 0.03527098149061203, 0.02883329801261425, 0.09240671992301941, 0.0, 0.0, 0.0, 0.0], [0.012902755290269852, 0.003466599388048053, 0.0065242452546954155, 0.00891341082751751, 0.05878245458006859, 0.002172908978536725, 0.03865357115864754, 0.0034149643033742905, 0.0028654267080128193, 0.07937125861644745, 0.004309939220547676, 0.12994565069675446, 0.06316216289997101, 0.003787445602938533, 0.003270123852416873, 0.005213119555264711, 0.005051549524068832, 0.0266012754291296, 0.002984789665788412, 0.008296135812997818, 0.08746536821126938, 0.0034835143014788628, 0.22249028086662292, 0.0013853681739419699, 0.0029311312828212976, 0.008539705537259579, 0.0017032455652952194, 0.005860853940248489, 0.0020715217106044292, 0.003953877836465836, 0.007069831248372793, 0.0945860743522644, 0.00416902219876647, 0.0703326091170311, 0.0034981523640453815, 0.00327542657032609, 0.0021524850744754076, 0.005341687705367804, 0.0, 0.0, 0.0], [0.01859591342508793, 0.0058495295234024525, 0.010294551029801369, 0.012512833811342716, 0.05551353096961975, 0.002325324574485421, 0.06615076959133148, 0.0016043935902416706, 0.0030925909522920847, 0.07899902760982513, 0.005256650038063526, 0.09448825567960739, 0.08356111496686935, 0.00403413362801075, 0.0024229027330875397, 0.007100509945303202, 0.004231622908264399, 0.02627427689731121, 0.0016690118936821818, 0.010071802884340286, 0.07820122689008713, 0.003816105891019106, 0.19578023254871368, 0.001698401989415288, 0.0015920954756438732, 0.010230333544313908, 0.0020381330978125334, 0.007440903689712286, 0.0028986972756683826, 0.004276162479072809, 0.006282494403421879, 0.08325217664241791, 0.004711918067187071, 0.08579154312610626, 0.0037829589564353228, 0.0031753259245306253, 0.002175969770178199, 0.007064091973006725, 0.001742472406476736, 0.0, 0.0], [0.007795189507305622, 0.0016499601770192385, 0.002599088242277503, 0.0034508341923356056, 0.04252857714891434, 0.0008128958870656788, 0.034439265727996826, 0.0011390687432140112, 0.0007400689646601677, 0.06380604207515717, 0.0017718891613185406, 0.1664077639579773, 0.07085566222667694, 0.0010528230341151357, 0.0011659280862659216, 0.0015567464288324118, 0.0013977274065837264, 0.015649020671844482, 0.0007356246351264417, 0.0026641630101948977, 0.06997211277484894, 0.001564380363561213, 0.3176763653755188, 0.000761876639444381, 0.0007364549674093723, 0.002758500399067998, 0.0004720356082543731, 0.002143996534869075, 0.0007449410622939467, 0.0008991345530375838, 0.003088397206738591, 0.07949221879243851, 0.0017116668168455362, 0.08534105122089386, 0.0016269503394141793, 0.0020384860690683126, 0.0014639906585216522, 0.0016687687020748854, 0.0006558785680681467, 0.002964510815218091, 0.0], [0.13940292596817017, 0.0530422069132328, 0.017518991604447365, 0.017179906368255615, 0.000342048704624176, 0.007361358031630516, 0.0021485022734850645, 0.00035967244184575975, 0.004726901184767485, 0.0004620384715963155, 0.02360805869102478, 0.0010101341176778078, 0.0031944336369633675, 0.0015878808917477727, 0.003754518460482359, 0.014262452721595764, 0.0017011853633448482, 0.001181477913632989, 0.00011497805826365948, 0.01733636111021042, 0.00047257583355531096, 0.02047835849225521, 0.01001149881631136, 0.11872802674770355, 0.00014345924137160182, 0.019988596439361572, 0.005576026625931263, 0.03873084485530853, 0.04781552404165268, 0.010229370556771755, 0.01294610183686018, 0.0007292176014743745, 0.04511222988367081, 0.006892898585647345, 0.03174707666039467, 0.05174189805984497, 0.19057297706604004, 0.025141747668385506, 0.004857758525758982, 0.0288730189204216, 0.01891474612057209]], [[1.0, 0.0, 0.0, 0.0, 0.0, 0.0, 0.0, 0.0, 0.0, 0.0, 0.0, 0.0, 0.0, 0.0, 0.0, 0.0, 0.0, 0.0, 0.0, 0.0, 0.0, 0.0, 0.0, 0.0, 0.0, 0.0, 0.0, 0.0, 0.0, 0.0, 0.0, 0.0, 0.0, 0.0, 0.0, 0.0, 0.0, 0.0, 0.0, 0.0, 0.0], [0.7538754940032959, 0.2461244910955429, 0.0, 0.0, 0.0, 0.0, 0.0, 0.0, 0.0, 0.0, 0.0, 0.0, 0.0, 0.0, 0.0, 0.0, 0.0, 0.0, 0.0, 0.0, 0.0, 0.0, 0.0, 0.0, 0.0, 0.0, 0.0, 0.0, 0.0, 0.0, 0.0, 0.0, 0.0, 0.0, 0.0, 0.0, 0.0, 0.0, 0.0, 0.0, 0.0], [0.6044082045555115, 0.20470181107521057, 0.19088996946811676, 0.0, 0.0, 0.0, 0.0, 0.0, 0.0, 0.0, 0.0, 0.0, 0.0, 0.0, 0.0, 0.0, 0.0, 0.0, 0.0, 0.0, 0.0, 0.0, 0.0, 0.0, 0.0, 0.0, 0.0, 0.0, 0.0, 0.0, 0.0, 0.0, 0.0, 0.0, 0.0, 0.0, 0.0, 0.0, 0.0, 0.0, 0.0], [0.4397313892841339, 0.21011625230312347, 0.1951465904712677, 0.1550058126449585, 0.0, 0.0, 0.0, 0.0, 0.0, 0.0, 0.0, 0.0, 0.0, 0.0, 0.0, 0.0, 0.0, 0.0, 0.0, 0.0, 0.0, 0.0, 0.0, 0.0, 0.0, 0.0, 0.0, 0.0, 0.0, 0.0, 0.0, 0.0, 0.0, 0.0, 0.0, 0.0, 0.0, 0.0, 0.0, 0.0, 0.0], [0.5795427560806274, 0.0870351493358612, 0.08072047680616379, 0.07260999083518982, 0.18009166419506073, 0.0, 0.0, 0.0, 0.0, 0.0, 0.0, 0.0, 0.0, 0.0, 0.0, 0.0, 0.0, 0.0, 0.0, 0.0, 0.0, 0.0, 0.0, 0.0, 0.0, 0.0, 0.0, 0.0, 0.0, 0.0, 0.0, 0.0, 0.0, 0.0, 0.0, 0.0, 0.0, 0.0, 0.0, 0.0, 0.0], [0.3688412606716156, 0.11955713480710983, 0.10492515563964844, 0.08634483814239502, 0.20016877353191376, 0.12016281485557556, 0.0, 0.0, 0.0, 0.0, 0.0, 0.0, 0.0, 0.0, 0.0, 0.0, 0.0, 0.0, 0.0, 0.0, 0.0, 0.0, 0.0, 0.0, 0.0, 0.0, 0.0, 0.0, 0.0, 0.0, 0.0, 0.0, 0.0, 0.0, 0.0, 0.0, 0.0, 0.0, 0.0, 0.0, 0.0], [0.43409544229507446, 0.07231297343969345, 0.06486830115318298, 0.05667051300406456, 0.13441812992095947, 0.07146747410297394, 0.16616718471050262, 0.0, 0.0, 0.0, 0.0, 0.0, 0.0, 0.0, 0.0, 0.0, 0.0, 0.0, 0.0, 0.0, 0.0, 0.0, 0.0, 0.0, 0.0, 0.0, 0.0, 0.0, 0.0, 0.0, 0.0, 0.0, 0.0, 0.0, 0.0, 0.0, 0.0, 0.0, 0.0, 0.0, 0.0], [0.30878329277038574, 0.08073720335960388, 0.07049752026796341, 0.05621182173490524, 0.14678047597408295, 0.08217327296733856, 0.15745896100997925, 0.09735742956399918, 0.0, 0.0, 0.0, 0.0, 0.0, 0.0, 0.0, 0.0, 0.0, 0.0, 0.0, 0.0, 0.0, 0.0, 0.0, 0.0, 0.0, 0.0, 0.0, 0.0, 0.0, 0.0, 0.0, 0.0, 0.0, 0.0, 0.0, 0.0, 0.0, 0.0, 0.0, 0.0, 0.0], [0.1568097472190857, 0.10316813737154007, 0.0939243733882904, 0.06822846829891205, 0.17800290882587433, 0.09190244227647781, 0.1563870757818222, 0.09632275998592377, 0.05525404214859009, 0.0, 0.0, 0.0, 0.0, 0.0, 0.0, 0.0, 0.0, 0.0, 0.0, 0.0, 0.0, 0.0, 0.0, 0.0, 0.0, 0.0, 0.0, 0.0, 0.0, 0.0, 0.0, 0.0, 0.0, 0.0, 0.0, 0.0, 0.0, 0.0, 0.0, 0.0, 0.0], [0.34224599599838257, 0.05760885402560234, 0.05301407352089882, 0.04705112427473068, 0.0880780965089798, 0.05676001310348511, 0.11508394032716751, 0.07242656499147415, 0.04989814758300781, 0.117833212018013, 0.0, 0.0, 0.0, 0.0, 0.0, 0.0, 0.0, 0.0, 0.0, 0.0, 0.0, 0.0, 0.0, 0.0, 0.0, 0.0, 0.0, 0.0, 0.0, 0.0, 0.0, 0.0, 0.0, 0.0, 0.0, 0.0, 0.0, 0.0, 0.0, 0.0, 0.0], [0.2575243413448334, 0.06313950568437576, 0.053656380623579025, 0.04357517883181572, 0.10536197572946548, 0.06586378812789917, 0.10990839451551437, 0.07722378522157669, 0.043316494673490524, 0.11501719057559967, 0.0654129683971405, 0.0, 0.0, 0.0, 0.0, 0.0, 0.0, 0.0, 0.0, 0.0, 0.0, 0.0, 0.0, 0.0, 0.0, 0.0, 0.0, 0.0, 0.0, 0.0, 0.0, 0.0, 0.0, 0.0, 0.0, 0.0, 0.0, 0.0, 0.0, 0.0, 0.0], [0.2462891936302185, 0.05174219235777855, 0.048563312739133835, 0.042441412806510925, 0.07488889992237091, 0.04828091338276863, 0.09239383041858673, 0.05971144884824753, 0.04070160537958145, 0.09117519110441208, 0.05817485228180885, 0.14563719928264618, 0.0, 0.0, 0.0, 0.0, 0.0, 0.0, 0.0, 0.0, 0.0, 0.0, 0.0, 0.0, 0.0, 0.0, 0.0, 0.0, 0.0, 0.0, 0.0, 0.0, 0.0, 0.0, 0.0, 0.0, 0.0, 0.0, 0.0, 0.0, 0.0], [0.24846303462982178, 0.03636860474944115, 0.03360108658671379, 0.030344516038894653, 0.05851292610168457, 0.036080606281757355, 0.07563672959804535, 0.048600681126117706, 0.0328352227807045, 0.08387420326471329, 0.05084192752838135, 0.1424568146467209, 0.12238360941410065, 0.0, 0.0, 0.0, 0.0, 0.0, 0.0, 0.0, 0.0, 0.0, 0.0, 0.0, 0.0, 0.0, 0.0, 0.0, 0.0, 0.0, 0.0, 0.0, 0.0, 0.0, 0.0, 0.0, 0.0, 0.0, 0.0, 0.0, 0.0], [0.148318350315094, 0.04968875274062157, 0.045842837542295456, 0.03855803981423378, 0.07332801818847656, 0.050602253526449203, 0.08213990926742554, 0.05639663711190224, 0.0399480015039444, 0.07881110161542892, 0.050494518131017685, 0.10181077569723129, 0.09442974627017975, 0.0896311029791832, 0.0, 0.0, 0.0, 0.0, 0.0, 0.0, 0.0, 0.0, 0.0, 0.0, 0.0, 0.0, 0.0, 0.0, 0.0, 0.0, 0.0, 0.0, 0.0, 0.0, 0.0, 0.0, 0.0, 0.0, 0.0, 0.0, 0.0], [0.1444573700428009, 0.048322077840566635, 0.04399237409234047, 0.0357842743396759, 0.0722125768661499, 0.047323767095804214, 0.07569921016693115, 0.052929848432540894, 0.03324902057647705, 0.0714462548494339, 0.04452730342745781, 0.09380529075860977, 0.08884841948747635, 0.08374758809804916, 0.06365460902452469, 0.0, 0.0, 0.0, 0.0, 0.0, 0.0, 0.0, 0.0, 0.0, 0.0, 0.0, 0.0, 0.0, 0.0, 0.0, 0.0, 0.0, 0.0, 0.0, 0.0, 0.0, 0.0, 0.0, 0.0, 0.0, 0.0], [0.10629067569971085, 0.041197117418050766, 0.038506414741277695, 0.03059964068233967, 0.08547180145978928, 0.04473411291837692, 0.08526983112096786, 0.05076481029391289, 0.031899094581604004, 0.08497229963541031, 0.039542410522699356, 0.09962016344070435, 0.09630633145570755, 0.07043495774269104, 0.05469757691025734, 0.03969276696443558, 0.0, 0.0, 0.0, 0.0, 0.0, 0.0, 0.0, 0.0, 0.0, 0.0, 0.0, 0.0, 0.0, 0.0, 0.0, 0.0, 0.0, 0.0, 0.0, 0.0, 0.0, 0.0, 0.0, 0.0, 0.0], [0.15684470534324646, 0.04355839267373085, 0.03852522373199463, 0.0311407670378685, 0.06093398109078407, 0.044357314705848694, 0.06837736815214157, 0.047284938395023346, 0.029621846973896027, 0.06161649897694588, 0.03954429179430008, 0.07424439489841461, 0.0726102963089943, 0.07269326597452164, 0.05622422695159912, 0.04623986408114433, 0.05618266388773918, 0.0, 0.0, 0.0, 0.0, 0.0, 0.0, 0.0, 0.0, 0.0, 0.0, 0.0, 0.0, 0.0, 0.0, 0.0, 0.0, 0.0, 0.0, 0.0, 0.0, 0.0, 0.0, 0.0, 0.0], [0.16069123148918152, 0.03130810707807541, 0.02929501235485077, 0.024959497153759003, 0.04450710862874985, 0.03208508715033531, 0.056759752333164215, 0.03697839006781578, 0.02562519907951355, 0.053541187196969986, 0.03529798239469528, 0.07972333580255508, 0.06942065060138702, 0.07620127499103546, 0.058620817959308624, 0.05033202841877937, 0.053588006645441055, 0.0810653418302536, 0.0, 0.0, 0.0, 0.0, 0.0, 0.0, 0.0, 0.0, 0.0, 0.0, 0.0, 0.0, 0.0, 0.0, 0.0, 0.0, 0.0, 0.0, 0.0, 0.0, 0.0, 0.0, 0.0], [0.1200156882405281, 0.038425981998443604, 0.03532988578081131, 0.02757157012820244, 0.05935046821832657, 0.036310531198978424, 0.06327786296606064, 0.04082421585917473, 0.024776596575975418, 0.056218601763248444, 0.032671812921762466, 0.07540565729141235, 0.06809765100479126, 0.06541335582733154, 0.048167724162340164, 0.0410536490380764, 0.045189596712589264, 0.07257980853319168, 0.04931941628456116, 0.0, 0.0, 0.0, 0.0, 0.0, 0.0, 0.0, 0.0, 0.0, 0.0, 0.0, 0.0, 0.0, 0.0, 0.0, 0.0, 0.0, 0.0, 0.0, 0.0, 0.0, 0.0], [0.06737682223320007, 0.047200702130794525, 0.0452122762799263, 0.03472939878702164, 0.08021913468837738, 0.04728902131319046, 0.06844079494476318, 0.04781158268451691, 0.027814190834760666, 0.060609087347984314, 0.03317560628056526, 0.06532669067382812, 0.06542021036148071, 0.0515352226793766, 0.040590640157461166, 0.03373124450445175, 0.042594827711582184, 0.0637059360742569, 0.046304140239953995, 0.03091246448457241, 0.0, 0.0, 0.0, 0.0, 0.0, 0.0, 0.0, 0.0, 0.0, 0.0, 0.0, 0.0, 0.0, 0.0, 0.0, 0.0, 0.0, 0.0, 0.0, 0.0, 0.0], [0.11521463841199875, 0.031966522336006165, 0.03200662508606911, 0.02706879936158657, 0.04106647148728371, 0.03176646679639816, 0.05214535444974899, 0.03339197114109993, 0.025179484859108925, 0.04320989549160004, 0.030475279316306114, 0.061006780713796616, 0.0515577606856823, 0.06103381887078285, 0.04641403630375862, 0.04550036042928696, 0.043269652873277664, 0.05846013128757477, 0.04414713382720947, 0.0422636903822422, 0.082855224609375, 0.0, 0.0, 0.0, 0.0, 0.0, 0.0, 0.0, 0.0, 0.0, 0.0, 0.0, 0.0, 0.0, 0.0, 0.0, 0.0, 0.0, 0.0, 0.0, 0.0], [0.08874671906232834, 0.04191335663199425, 0.03833705186843872, 0.02868640422821045, 0.06058318540453911, 0.04176056757569313, 0.05998580902814865, 0.03962712734937668, 0.02382773719727993, 0.04844693839550018, 0.029257746413350105, 0.055896662175655365, 0.0529119037091732, 0.04975762218236923, 0.037611667066812515, 0.03340288624167442, 0.03906601667404175, 0.05270000547170639, 0.03672640398144722, 0.029093977063894272, 0.06861968338489532, 0.04304054379463196, 0.0, 0.0, 0.0, 0.0, 0.0, 0.0, 0.0, 0.0, 0.0, 0.0, 0.0, 0.0, 0.0, 0.0, 0.0, 0.0, 0.0, 0.0, 0.0], [0.08328794687986374, 0.0345202200114727, 0.03473775461316109, 0.028518373146653175, 0.04020456597208977, 0.03350210189819336, 0.04724212363362312, 0.032212402671575546, 0.02467038854956627, 0.036841150373220444, 0.02797742933034897, 0.04891226068139076, 0.04138399288058281, 0.04936114326119423, 0.0385269820690155, 0.04032926633954048, 0.03721462935209274, 0.04503718391060829, 0.036012712866067886, 0.036414727568626404, 0.05917692556977272, 0.04665982350707054, 0.09725587069988251, 0.0, 0.0, 0.0, 0.0, 0.0, 0.0, 0.0, 0.0, 0.0, 0.0, 0.0, 0.0, 0.0, 0.0, 0.0, 0.0, 0.0, 0.0], [0.07716651260852814, 0.034459132701158524, 0.032113343477249146, 0.02437719516456127, 0.050799403339624405, 0.03475863113999367, 0.05324855074286461, 0.03359932452440262, 0.0218820683658123, 0.04311763495206833, 0.02557869628071785, 0.05046885833144188, 0.04601835831999779, 0.04327849671244621, 0.03361721709370613, 0.02907741814851761, 0.03379856050014496, 0.04487365111708641, 0.030742881819605827, 0.025015227496623993, 0.058654334396123886, 0.03701421990990639, 0.09353195875883102, 0.042808279395103455, 0.0, 0.0, 0.0, 0.0, 0.0, 0.0, 0.0, 0.0, 0.0, 0.0, 0.0, 0.0, 0.0, 0.0, 0.0, 0.0, 0.0], [0.07218614965677261, 0.03219534084200859, 0.030769987031817436, 0.023185214027762413, 0.047193493694067, 0.030261658132076263, 0.04996458441019058, 0.030626900494098663, 0.019883856177330017, 0.03901408612728119, 0.02292407676577568, 0.04784426838159561, 0.04244014993309975, 0.04193125665187836, 0.03045720048248768, 0.028047602623701096, 0.02943495288491249, 0.041991181671619415, 0.02876202203333378, 0.024093961343169212, 0.056023817509412766, 0.03538379445672035, 0.10819520801305771, 0.045542772859334946, 0.041646476835012436, 0.0, 0.0, 0.0, 0.0, 0.0, 0.0, 0.0, 0.0, 0.0, 0.0, 0.0, 0.0, 0.0, 0.0, 0.0, 0.0], [0.04429091140627861, 0.04115192964673042, 0.04063912481069565, 0.030270293354988098, 0.06667810678482056, 0.04084950312972069, 0.05649366229772568, 0.037839747965335846, 0.023282499983906746, 0.04484977945685387, 0.024822339415550232, 0.044916220009326935, 0.04427763819694519, 0.035744860768318176, 0.02777879126369953, 0.02470223419368267, 0.02983669750392437, 0.04044778272509575, 0.02955637127161026, 0.021653270348906517, 0.04778354614973068, 0.02973518893122673, 0.06655090302228928, 0.0420435294508934, 0.03718646243214607, 0.026618633419275284, 0.0, 0.0, 0.0, 0.0, 0.0, 0.0, 0.0, 0.0, 0.0, 0.0, 0.0, 0.0, 0.0, 0.0, 0.0], [0.06867806613445282, 0.02936675399541855, 0.028280729427933693, 0.022612478584051132, 0.03893180936574936, 0.02776089496910572, 0.04485814645886421, 0.028061993420124054, 0.020733419805765152, 0.03511117771267891, 0.02266775257885456, 0.041308119893074036, 0.037579189985990524, 0.0388612225651741, 0.02911868318915367, 0.027855098247528076, 0.028046660125255585, 0.03622150048613548, 0.02557598054409027, 0.024288656190037727, 0.047208257019519806, 0.03329574689269066, 0.08403955399990082, 0.04099075496196747, 0.03493979200720787, 0.031795695424079895, 0.07181183248758316, 0.0, 0.0, 0.0, 0.0, 0.0, 0.0, 0.0, 0.0, 0.0, 0.0, 0.0, 0.0, 0.0, 0.0], [0.041525259613990784, 0.03520647808909416, 0.035382844507694244, 0.027002686634659767, 0.059724967926740646, 0.041251685470342636, 0.05264941602945328, 0.03593270853161812, 0.024252481758594513, 0.04339107871055603, 0.024752438068389893, 0.041608814150094986, 0.04210299998521805, 0.03445420041680336, 0.0268706101924181, 0.02299436740577221, 0.030277887359261513, 0.03752926364541054, 0.02834147959947586, 0.019664499908685684, 0.04309166222810745, 0.027891000732779503, 0.053899649530649185, 0.03763033077120781, 0.03305136412382126, 0.02265855111181736, 0.04844440519809723, 0.028416844084858894, 0.0, 0.0, 0.0, 0.0, 0.0, 0.0, 0.0, 0.0, 0.0, 0.0, 0.0, 0.0, 0.0], [0.04309326782822609, 0.022293290123343468, 0.02113700471818447, 0.015834107995033264, 0.05973323807120323, 0.02818445675075054, 0.05406157672405243, 0.029234223067760468, 0.01746399700641632, 0.05362134799361229, 0.020083053037524223, 0.05453047901391983, 0.0546487420797348, 0.03279181569814682, 0.025498732924461365, 0.016451025381684303, 0.026901569217443466, 0.046501725912094116, 0.026584098115563393, 0.013919037766754627, 0.06312870234251022, 0.026164989918470383, 0.07629343867301941, 0.035049133002758026, 0.030800241976976395, 0.01586909219622612, 0.04664776101708412, 0.021722912788391113, 0.021756941452622414, 0.0, 0.0, 0.0, 0.0, 0.0, 0.0, 0.0, 0.0, 0.0, 0.0, 0.0, 0.0], [0.038337238132953644, 0.044075947254896164, 0.04455970972776413, 0.03117314539849758, 0.06985948234796524, 0.044477980583906174, 0.06290703266859055, 0.036566462367773056, 0.026077846065163612, 0.04269557073712349, 0.02295997366309166, 0.03883852809667587, 0.03693842142820358, 0.0310505498200655, 0.022508714348077774, 0.021580493077635765, 0.02446093037724495, 0.02889999933540821, 0.019625680521130562, 0.016618194058537483, 0.03226508945226669, 0.022348854690790176, 0.04984449967741966, 0.033095840364694595, 0.022381393238902092, 0.018901726230978966, 0.041065383702516556, 0.023415181785821915, 0.02798202820122242, 0.02448814921081066, 0.0, 0.0, 0.0, 0.0, 0.0, 0.0, 0.0, 0.0, 0.0, 0.0, 0.0], [0.03245388716459274, 0.05352556332945824, 0.05471469834446907, 0.03732537105679512, 0.0705341175198555, 0.04910390451550484, 0.06043993681669235, 0.037306029349565506, 0.027834704145789146, 0.03728773444890976, 0.023148635402321815, 0.034016504883766174, 0.03192593529820442, 0.02929844707250595, 0.020646218210458755, 0.02321966551244259, 0.022453362122178078, 0.024247050285339355, 0.017586594447493553, 0.017257986590266228, 0.025240015238523483, 0.02028428390622139, 0.040934327989816666, 0.03129782900214195, 0.02006109617650509, 0.01964179426431656, 0.036864832043647766, 0.02303970232605934, 0.029996834695339203, 0.02564912475645542, 0.022663820534944534, 0.0, 0.0, 0.0, 0.0, 0.0, 0.0, 0.0, 0.0, 0.0, 0.0], [0.049064867198467255, 0.031908560544252396, 0.0345165953040123, 0.026531627401709557, 0.03431474044919014, 0.030052809044718742, 0.042444415390491486, 0.02438826858997345, 0.021692363545298576, 0.025339046493172646, 0.018970968201756477, 0.02903624065220356, 0.023445863276720047, 0.03026089444756508, 0.021963458508253098, 0.02678060159087181, 0.021813422441482544, 0.02189505845308304, 0.016820747405290604, 0.021649973466992378, 0.026210196316242218, 0.02457708865404129, 0.05180925130844116, 0.028972623869776726, 0.02334657683968544, 0.02890779636800289, 0.05739426612854004, 0.035156626254320145, 0.03973168134689331, 0.04017329588532448, 0.02700820565223694, 0.06382191926240921, 0.0, 0.0, 0.0, 0.0, 0.0, 0.0, 0.0, 0.0, 0.0], [0.04657643660902977, 0.035740237683057785, 0.03432101756334305, 0.024644626304507256, 0.045513685792684555, 0.035590168088674545, 0.04481855034828186, 0.02893381379544735, 0.01980258710682392, 0.03026646003127098, 0.019711075350642204, 0.0295354425907135, 0.02801661752164364, 0.028506934642791748, 0.02111697383224964, 0.020984765142202377, 0.023081272840499878, 0.02508724108338356, 0.01845710165798664, 0.01700502261519432, 0.02902751788496971, 0.02277253195643425, 0.045913081616163254, 0.03097590245306492, 0.023314977064728737, 0.020969385281205177, 0.04635230079293251, 0.027062205597758293, 0.031117327511310577, 0.0281552504748106, 0.025607401505112648, 0.056275375187397, 0.034746672958135605, 0.0, 0.0, 0.0, 0.0, 0.0, 0.0, 0.0, 0.0], [0.04136871546506882, 0.0256967693567276, 0.027678515762090683, 0.02134828455746174, 0.030715808272361755, 0.023609992116689682, 0.037418898195028305, 0.02039402350783348, 0.017873374745249748, 0.02377503365278244, 0.016099074855446815, 0.028653830289840698, 0.022814461961388588, 0.026584474369883537, 0.019717952236533165, 0.02296053059399128, 0.01880178600549698, 0.020915385335683823, 0.014998394064605236, 0.018591735512018204, 0.026205427944660187, 0.02154245786368847, 0.04892318323254585, 0.024123581126332283, 0.020861342549324036, 0.024831930175423622, 0.051093921065330505, 0.030513707548379898, 0.033989306539297104, 0.0345265157520771, 0.023350603878498077, 0.06349527090787888, 0.03767264261841774, 0.07885311543941498, 0.0, 0.0, 0.0, 0.0, 0.0, 0.0, 0.0], [0.03869102522730827, 0.04003754258155823, 0.03905882686376572, 0.026674069464206696, 0.049508094787597656, 0.03755651041865349, 0.04728041589260101, 0.028339117765426636, 0.019444670528173447, 0.028389042243361473, 0.017923228442668915, 0.027165034785866737, 0.024723749607801437, 0.02487761713564396, 0.01798469014465809, 0.01941249705851078, 0.019770730286836624, 0.02060157060623169, 0.014489488676190376, 0.014911587350070477, 0.023049643263220787, 0.01848633401095867, 0.03825289011001587, 0.02518138475716114, 0.018086036667227745, 0.01828271709382534, 0.03927682340145111, 0.02329910360276699, 0.02857561595737934, 0.025023499503731728, 0.02124778926372528, 0.045158643275499344, 0.02873031049966812, 0.055970449000597, 0.03453924134373665, 0.0, 0.0, 0.0, 0.0, 0.0, 0.0], [0.03283305466175079, 0.03959987685084343, 0.04140279069542885, 0.029193811118602753, 0.04616347327828407, 0.0364505834877491, 0.047270022332668304, 0.027202250435948372, 0.022331472486257553, 0.0268660057336092, 0.017967859283089638, 0.025783885270357132, 0.02225250005722046, 0.02393004484474659, 0.017447056248784065, 0.02033545821905136, 0.0184964407235384, 0.01784486137330532, 0.013069718144834042, 0.015347513370215893, 0.01928810402750969, 0.017405452206730843, 0.03270769119262695, 0.023026395589113235, 0.01570974849164486, 0.018270650878548622, 0.035230789333581924, 0.021960673853754997, 0.027143806219100952, 0.02449674904346466, 0.01941222883760929, 0.03516780212521553, 0.025003861635923386, 0.043036580085754395, 0.030746927484869957, 0.06960383802652359, 0.0, 0.0, 0.0, 0.0, 0.0], [0.034285806119441986, 0.03459876775741577, 0.034283459186553955, 0.02391498163342476, 0.04251818731427193, 0.031814105808734894, 0.04249152913689613, 0.024749424308538437, 0.018517615273594856, 0.02581033855676651, 0.016362493857741356, 0.02531646005809307, 0.02254078909754753, 0.022684134542942047, 0.016585052013397217, 0.01817619614303112, 0.017530307173728943, 0.01825276017189026, 0.012666051276028156, 0.013802877627313137, 0.020565422251820564, 0.016635406762361526, 0.03405559062957764, 0.02167639322578907, 0.015448958612978458, 0.016591783612966537, 0.03402981534600258, 0.02071722224354744, 0.02544083073735237, 0.0224026907235384, 0.018767189234495163, 0.0381162129342556, 0.024628300219774246, 0.04689934104681015, 0.02960529364645481, 0.06975418329238892, 0.04776396602392197, 0.0, 0.0, 0.0, 0.0], [0.026787182316184044, 0.03551764786243439, 0.03705074265599251, 0.025659816339612007, 0.058328986167907715, 0.03524373471736908, 0.05457753688097, 0.028090087696909904, 0.021535683423280716, 0.03446105867624283, 0.017143845558166504, 0.03031139448285103, 0.027580251917243004, 0.022333409637212753, 0.01627550832927227, 0.01599111407995224, 0.01739952526986599, 0.020086025819182396, 0.012753336690366268, 0.011906975880265236, 0.022262195125222206, 0.01536674052476883, 0.03479888290166855, 0.022010451182723045, 0.013981779105961323, 0.013150492683053017, 0.02790251187980175, 0.016084549948573112, 0.019465206190943718, 0.016903681680560112, 0.016434060409665108, 0.03307401016354561, 0.01829860918223858, 0.03856613487005234, 0.022683948278427124, 0.05651203915476799, 0.03794652968645096, 0.02552429772913456, 0.0, 0.0, 0.0], [0.0264979787170887, 0.051936838775873184, 0.052715592086315155, 0.035365182906389236, 0.05152415111660957, 0.045351043343544006, 0.04464397579431534, 0.029932135716080666, 0.021934794262051582, 0.023077212274074554, 0.017171230167150497, 0.018464379012584686, 0.018010389059782028, 0.019637158140540123, 0.014094328507781029, 0.018135614693164825, 0.016829879954457283, 0.013873664662241936, 0.011142210103571415, 0.013633687980473042, 0.013447866775095463, 0.01391284167766571, 0.02011679671704769, 0.02158132754266262, 0.012842176482081413, 0.015740444883704185, 0.02625279128551483, 0.018624581396579742, 0.024635111913084984, 0.020568551495671272, 0.01623043790459633, 0.022915085777640343, 0.01988328993320465, 0.02882160060107708, 0.023532003164291382, 0.051125723868608475, 0.0423903726041317, 0.03406098484992981, 0.029346516355872154, 0.0, 0.0], [0.021327555179595947, 0.039171624928712845, 0.040700607001781464, 0.028169726952910423, 0.05563013628125191, 0.0364752933382988, 0.045279402285814285, 0.028180768713355064, 0.01934422180056572, 0.028294438496232033, 0.016273250803351402, 0.024352744221687317, 0.02325340360403061, 0.019648905843496323, 0.01475075539201498, 0.015463322401046753, 0.01652797870337963, 0.01820775307714939, 0.013392078690230846, 0.012222515419125557, 0.018883487209677696, 0.01434415765106678, 0.02732432819902897, 0.021758761256933212, 0.015244067646563053, 0.013942759484052658, 0.026734711602330208, 0.01642097719013691, 0.02027198299765587, 0.01777099445462227, 0.0161004438996315, 0.030499210581183434, 0.019179655238986015, 0.036736346781253815, 0.02272944338619709, 0.05195236578583717, 0.04002344608306885, 0.027156244963407516, 0.024778999388217926, 0.021481111645698547, 0.0], [0.024103041738271713, 0.03607894107699394, 0.04007900878787041, 0.02854335494339466, 0.032918840646743774, 0.03109363466501236, 0.036011703312397, 0.021106068044900894, 0.019806645810604095, 0.017706630751490593, 0.014324602670967579, 0.017642945051193237, 0.013982245698571205, 0.01819772459566593, 0.013289191760122776, 0.019001243636012077, 0.013919603079557419, 0.011392246000468731, 0.009171806275844574, 0.014100308530032635, 0.011751066893339157, 0.01346671860665083, 0.020816616714000702, 0.017025845125317574, 0.011446434073150158, 0.017323344945907593, 0.02802109345793724, 0.019595718011260033, 0.025080878287553787, 0.023610977455973625, 0.014952652156352997, 0.023749034851789474, 0.02101711928844452, 0.02988777868449688, 0.026330461725592613, 0.05347253754734993, 0.04230501130223274, 0.04407209903001785, 0.028635529801249504, 0.03204682469367981, 0.06292248517274857]], [[1.0, 0.0, 0.0, 0.0, 0.0, 0.0, 0.0, 0.0, 0.0, 0.0, 0.0, 0.0, 0.0, 0.0, 0.0, 0.0, 0.0, 0.0, 0.0, 0.0, 0.0, 0.0, 0.0, 0.0, 0.0, 0.0, 0.0, 0.0, 0.0, 0.0, 0.0, 0.0, 0.0, 0.0, 0.0, 0.0, 0.0, 0.0, 0.0, 0.0, 0.0], [0.4930998980998993, 0.5069001317024231, 0.0, 0.0, 0.0, 0.0, 0.0, 0.0, 0.0, 0.0, 0.0, 0.0, 0.0, 0.0, 0.0, 0.0, 0.0, 0.0, 0.0, 0.0, 0.0, 0.0, 0.0, 0.0, 0.0, 0.0, 0.0, 0.0, 0.0, 0.0, 0.0, 0.0, 0.0, 0.0, 0.0, 0.0, 0.0, 0.0, 0.0, 0.0, 0.0], [0.2630980312824249, 0.22453922033309937, 0.5123627781867981, 0.0, 0.0, 0.0, 0.0, 0.0, 0.0, 0.0, 0.0, 0.0, 0.0, 0.0, 0.0, 0.0, 0.0, 0.0, 0.0, 0.0, 0.0, 0.0, 0.0, 0.0, 0.0, 0.0, 0.0, 0.0, 0.0, 0.0, 0.0, 0.0, 0.0, 0.0, 0.0, 0.0, 0.0, 0.0, 0.0, 0.0, 0.0], [0.18527363240718842, 0.1371692717075348, 0.34249407052993774, 0.33506298065185547, 0.0, 0.0, 0.0, 0.0, 0.0, 0.0, 0.0, 0.0, 0.0, 0.0, 0.0, 0.0, 0.0, 0.0, 0.0, 0.0, 0.0, 0.0, 0.0, 0.0, 0.0, 0.0, 0.0, 0.0, 0.0, 0.0, 0.0, 0.0, 0.0, 0.0, 0.0, 0.0, 0.0, 0.0, 0.0, 0.0, 0.0], [0.13315953314304352, 0.09043634682893753, 0.19365903735160828, 0.10119348764419556, 0.4815516173839569, 0.0, 0.0, 0.0, 0.0, 0.0, 0.0, 0.0, 0.0, 0.0, 0.0, 0.0, 0.0, 0.0, 0.0, 0.0, 0.0, 0.0, 0.0, 0.0, 0.0, 0.0, 0.0, 0.0, 0.0, 0.0, 0.0, 0.0, 0.0, 0.0, 0.0, 0.0, 0.0, 0.0, 0.0, 0.0, 0.0], [0.06466875970363617, 0.058056898415088654, 0.0814860463142395, 0.05971063673496246, 0.6154319047927856, 0.12064570933580399, 0.0, 0.0, 0.0, 0.0, 0.0, 0.0, 0.0, 0.0, 0.0, 0.0, 0.0, 0.0, 0.0, 0.0, 0.0, 0.0, 0.0, 0.0, 0.0, 0.0, 0.0, 0.0, 0.0, 0.0, 0.0, 0.0, 0.0, 0.0, 0.0, 0.0, 0.0, 0.0, 0.0, 0.0, 0.0], [0.07932612299919128, 0.05943644046783447, 0.08451201766729355, 0.05585527792572975, 0.336402028799057, 0.05099523812532425, 0.3334728181362152, 0.0, 0.0, 0.0, 0.0, 0.0, 0.0, 0.0, 0.0, 0.0, 0.0, 0.0, 0.0, 0.0, 0.0, 0.0, 0.0, 0.0, 0.0, 0.0, 0.0, 0.0, 0.0, 0.0, 0.0, 0.0, 0.0, 0.0, 0.0, 0.0, 0.0, 0.0, 0.0, 0.0, 0.0], [0.06715039163827896, 0.06653695553541183, 0.10557004064321518, 0.057553730905056, 0.24353863298892975, 0.09542528539896011, 0.25653982162475586, 0.10768512636423111, 0.0, 0.0, 0.0, 0.0, 0.0, 0.0, 0.0, 0.0, 0.0, 0.0, 0.0, 0.0, 0.0, 0.0, 0.0, 0.0, 0.0, 0.0, 0.0, 0.0, 0.0, 0.0, 0.0, 0.0, 0.0, 0.0, 0.0, 0.0, 0.0, 0.0, 0.0, 0.0, 0.0], [0.06567186117172241, 0.04561333358287811, 0.09573540091514587, 0.057264965027570724, 0.21219079196453094, 0.06838566809892654, 0.25976231694221497, 0.08383962512016296, 0.11153604835271835, 0.0, 0.0, 0.0, 0.0, 0.0, 0.0, 0.0, 0.0, 0.0, 0.0, 0.0, 0.0, 0.0, 0.0, 0.0, 0.0, 0.0, 0.0, 0.0, 0.0, 0.0, 0.0, 0.0, 0.0, 0.0, 0.0, 0.0, 0.0, 0.0, 0.0, 0.0, 0.0], [0.06349672377109528, 0.04150266945362091, 0.07214797288179398, 0.04467025026679039, 0.17263667285442352, 0.032576583325862885, 0.1971607357263565, 0.0746033787727356, 0.06241125613451004, 0.23879382014274597, 0.0, 0.0, 0.0, 0.0, 0.0, 0.0, 0.0, 0.0, 0.0, 0.0, 0.0, 0.0, 0.0, 0.0, 0.0, 0.0, 0.0, 0.0, 0.0, 0.0, 0.0, 0.0, 0.0, 0.0, 0.0, 0.0, 0.0, 0.0, 0.0, 0.0, 0.0], [0.0321701318025589, 0.025407521054148674, 0.05185370892286301, 0.05129898339509964, 0.17612224817276, 0.04291785508394241, 0.17503705620765686, 0.05294092372059822, 0.02944083698093891, 0.20486414432525635, 0.1579466164112091, 0.0, 0.0, 0.0, 0.0, 0.0, 0.0, 0.0, 0.0, 0.0, 0.0, 0.0, 0.0, 0.0, 0.0, 0.0, 0.0, 0.0, 0.0, 0.0, 0.0, 0.0, 0.0, 0.0, 0.0, 0.0, 0.0, 0.0, 0.0, 0.0, 0.0], [0.04781234636902809, 0.029887188225984573, 0.05339685454964638, 0.03862004727125168, 0.12203294783830643, 0.02616969496011734, 0.12916114926338196, 0.05790753290057182, 0.04535998776555061, 0.16090595722198486, 0.06441213190555573, 0.22433418035507202, 0.0, 0.0, 0.0, 0.0, 0.0, 0.0, 0.0, 0.0, 0.0, 0.0, 0.0, 0.0, 0.0, 0.0, 0.0, 0.0, 0.0, 0.0, 0.0, 0.0, 0.0, 0.0, 0.0, 0.0, 0.0, 0.0, 0.0, 0.0, 0.0], [0.05156564339995384, 0.027395259588956833, 0.050484925508499146, 0.03295870125293732, 0.10099189728498459, 0.021270154044032097, 0.11125519871711731, 0.054895833134651184, 0.039229318499565125, 0.1302710324525833, 0.050409406423568726, 0.20301932096481323, 0.12625329196453094, 0.0, 0.0, 0.0, 0.0, 0.0, 0.0, 0.0, 0.0, 0.0, 0.0, 0.0, 0.0, 0.0, 0.0, 0.0, 0.0, 0.0, 0.0, 0.0, 0.0, 0.0, 0.0, 0.0, 0.0, 0.0, 0.0, 0.0, 0.0], [0.04547452926635742, 0.029427409172058105, 0.05284333974123001, 0.04228609427809715, 0.07427099347114563, 0.04289564490318298, 0.09537069499492645, 0.05050667002797127, 0.059534069150686264, 0.10037484765052795, 0.06426192075014114, 0.12784218788146973, 0.1177065446972847, 0.09720507264137268, 0.0, 0.0, 0.0, 0.0, 0.0, 0.0, 0.0, 0.0, 0.0, 0.0, 0.0, 0.0, 0.0, 0.0, 0.0, 0.0, 0.0, 0.0, 0.0, 0.0, 0.0, 0.0, 0.0, 0.0, 0.0, 0.0, 0.0], [0.03092006966471672, 0.027823902666568756, 0.04379700496792793, 0.025392664596438408, 0.09496395289897919, 0.031824640929698944, 0.104410320520401, 0.035054534673690796, 0.05301620438694954, 0.12416710704565048, 0.05616835504770279, 0.10622043162584305, 0.13662710785865784, 0.07995983213186264, 0.04965391010046005, 0.0, 0.0, 0.0, 0.0, 0.0, 0.0, 0.0, 0.0, 0.0, 0.0, 0.0, 0.0, 0.0, 0.0, 0.0, 0.0, 0.0, 0.0, 0.0, 0.0, 0.0, 0.0, 0.0, 0.0, 0.0, 0.0], [0.03226339444518089, 0.019885996356606483, 0.050030793994665146, 0.034080784767866135, 0.08245515823364258, 0.035447098314762115, 0.09265698492527008, 0.05272713303565979, 0.04045138508081436, 0.10380115360021591, 0.05570684373378754, 0.09393250942230225, 0.1281476765871048, 0.06995490938425064, 0.04778079316020012, 0.060677483677864075, 0.0, 0.0, 0.0, 0.0, 0.0, 0.0, 0.0, 0.0, 0.0, 0.0, 0.0, 0.0, 0.0, 0.0, 0.0, 0.0, 0.0, 0.0, 0.0, 0.0, 0.0, 0.0, 0.0, 0.0, 0.0], [0.029469190165400505, 0.01909712143242359, 0.0456567257642746, 0.0356871522963047, 0.08210057020187378, 0.018488068133592606, 0.09797082841396332, 0.05139414221048355, 0.034120891243219376, 0.10364792495965958, 0.0504644550383091, 0.09694380313158035, 0.11927971243858337, 0.057439807802438736, 0.0464988648891449, 0.05538910627365112, 0.05635158717632294, 0.0, 0.0, 0.0, 0.0, 0.0, 0.0, 0.0, 0.0, 0.0, 0.0, 0.0, 0.0, 0.0, 0.0, 0.0, 0.0, 0.0, 0.0, 0.0, 0.0, 0.0, 0.0, 0.0, 0.0], [0.04245845973491669, 0.022598838433623314, 0.038770999759435654, 0.029124364256858826, 0.05595554783940315, 0.028269436210393906, 0.06591980904340744, 0.061066627502441406, 0.038097187876701355, 0.07485707849264145, 0.048275820910930634, 0.11977464705705643, 0.08438155800104141, 0.0687091276049614, 0.05291669815778732, 0.04655648395419121, 0.04689671844244003, 0.07537055760622025, 0.0, 0.0, 0.0, 0.0, 0.0, 0.0, 0.0, 0.0, 0.0, 0.0, 0.0, 0.0, 0.0, 0.0, 0.0, 0.0, 0.0, 0.0, 0.0, 0.0, 0.0, 0.0, 0.0], [0.033962395042181015, 0.020127838477492332, 0.03550737723708153, 0.030067376792430878, 0.05189882591366768, 0.030715856701135635, 0.0691249817609787, 0.0562579482793808, 0.040087368339300156, 0.07328224182128906, 0.045878805220127106, 0.07170332968235016, 0.08027775585651398, 0.07021182030439377, 0.05579635873436928, 0.04304748773574829, 0.05286442115902901, 0.07104858011007309, 0.0681392177939415, 0.0, 0.0, 0.0, 0.0, 0.0, 0.0, 0.0, 0.0, 0.0, 0.0, 0.0, 0.0, 0.0, 0.0, 0.0, 0.0, 0.0, 0.0, 0.0, 0.0, 0.0, 0.0], [0.019831223413348198, 0.010877549648284912, 0.028458982706069946, 0.035613253712654114, 0.06589750945568085, 0.029127271845936775, 0.07894730567932129, 0.050992246717214584, 0.0209248885512352, 0.0791112557053566, 0.04846002161502838, 0.09685487300157547, 0.10945142060518265, 0.054488711059093475, 0.03389371931552887, 0.027316542342305183, 0.040085434913635254, 0.07913413643836975, 0.05602532625198364, 0.0345083624124527, 0.0, 0.0, 0.0, 0.0, 0.0, 0.0, 0.0, 0.0, 0.0, 0.0, 0.0, 0.0, 0.0, 0.0, 0.0, 0.0, 0.0, 0.0, 0.0, 0.0, 0.0], [0.0364362895488739, 0.019123844802379608, 0.03309755399823189, 0.0229797400534153, 0.05556980520486832, 0.0128709701821208, 0.06765151768922806, 0.031766753643751144, 0.030216136947274208, 0.07595174759626389, 0.03682725131511688, 0.10309172421693802, 0.06823112070560455, 0.04335002601146698, 0.038428593426942825, 0.04387238994240761, 0.02924233116209507, 0.059456370770931244, 0.042517080903053284, 0.031693726778030396, 0.11762500554323196, 0.0, 0.0, 0.0, 0.0, 0.0, 0.0, 0.0, 0.0, 0.0, 0.0, 0.0, 0.0, 0.0, 0.0, 0.0, 0.0, 0.0, 0.0, 0.0, 0.0], [0.027154814451932907, 0.01702134869992733, 0.024828992784023285, 0.02442343905568123, 0.05761466920375824, 0.026700088754296303, 0.05667661130428314, 0.03588451072573662, 0.0237534511834383, 0.0632774606347084, 0.06830624490976334, 0.05778418853878975, 0.07180073857307434, 0.055932361632585526, 0.04242337495088577, 0.029806360602378845, 0.029852718114852905, 0.06761973351240158, 0.04351533576846123, 0.02926979772746563, 0.07846138626337051, 0.06789238005876541, 0.0, 0.0, 0.0, 0.0, 0.0, 0.0, 0.0, 0.0, 0.0, 0.0, 0.0, 0.0, 0.0, 0.0, 0.0, 0.0, 0.0, 0.0, 0.0], [0.030083343386650085, 0.017207128927111626, 0.03187679871916771, 0.026954369619488716, 0.043805740773677826, 0.0207167137414217, 0.046299465000629425, 0.028921036049723625, 0.022719070315361023, 0.0510883629322052, 0.047248464077711105, 0.08857110887765884, 0.0592939592897892, 0.04666224122047424, 0.03239426016807556, 0.03802786394953728, 0.02929474040865898, 0.04910396412014961, 0.04817129299044609, 0.03358934447169304, 0.06745050847530365, 0.05338146910071373, 0.08713875710964203, 0.0, 0.0, 0.0, 0.0, 0.0, 0.0, 0.0, 0.0, 0.0, 0.0, 0.0, 0.0, 0.0, 0.0, 0.0, 0.0, 0.0, 0.0], [0.015036556869745255, 0.009860441088676453, 0.023355286568403244, 0.020825760439038277, 0.04745233803987503, 0.022122951224446297, 0.05613283812999725, 0.0306044090539217, 0.030112946406006813, 0.0695810467004776, 0.022824082523584366, 0.06938258558511734, 0.07512102276086807, 0.047371167689561844, 0.02910173311829567, 0.028127525001764297, 0.032032523304224014, 0.06433209776878357, 0.046396173536777496, 0.02422444149851799, 0.08346917480230331, 0.032496389001607895, 0.07318869978189468, 0.04684779793024063, 0.0, 0.0, 0.0, 0.0, 0.0, 0.0, 0.0, 0.0, 0.0, 0.0, 0.0, 0.0, 0.0, 0.0, 0.0, 0.0, 0.0], [0.026272064074873924, 0.014966937713325024, 0.02585054561495781, 0.022484833374619484, 0.03392186015844345, 0.02161228097975254, 0.04629850015044212, 0.03900916129350662, 0.029572727158665657, 0.04716682806611061, 0.03418311849236488, 0.04673163965344429, 0.05151704326272011, 0.050361521542072296, 0.03899610415101051, 0.031776051968336105, 0.03734193742275238, 0.04648560285568237, 0.04728826880455017, 0.027308719232678413, 0.059796273708343506, 0.04590028524398804, 0.07032733410596848, 0.05400467664003372, 0.05082565173506737, 0.0, 0.0, 0.0, 0.0, 0.0, 0.0, 0.0, 0.0, 0.0, 0.0, 0.0, 0.0, 0.0, 0.0, 0.0, 0.0], [0.01540626771748066, 0.008191676810383797, 0.02124834805727005, 0.027199221774935722, 0.045319706201553345, 0.02135086990892887, 0.05521538481116295, 0.03757971152663231, 0.015783395618200302, 0.05372452363371849, 0.03661438822746277, 0.06624555587768555, 0.0745437741279602, 0.040262673050165176, 0.024701129645109177, 0.02059975638985634, 0.029759855940937996, 0.054855313152074814, 0.04116109013557434, 0.026760706678032875, 0.05582931637763977, 0.036056071519851685, 0.07040718197822571, 0.052524566650390625, 0.04170380160212517, 0.02695571258664131, 0.0, 0.0, 0.0, 0.0, 0.0, 0.0, 0.0, 0.0, 0.0, 0.0, 0.0, 0.0, 0.0, 0.0, 0.0], [0.022840198129415512, 0.01731889136135578, 0.026361331343650818, 0.021357407793402672, 0.03738511726260185, 0.017799587920308113, 0.04705217480659485, 0.023219240829348564, 0.03160955756902695, 0.04979098215699196, 0.04024434834718704, 0.049225687980651855, 0.05215249955654144, 0.046365585178136826, 0.028144152835011482, 0.02993905171751976, 0.026277394965291023, 0.04501334950327873, 0.03203625604510307, 0.024254726245999336, 0.061766114085912704, 0.04751996323466301, 0.06221447512507439, 0.03398209437727928, 0.03433862328529358, 0.025665251538157463, 0.06612591445446014, 0.0, 0.0, 0.0, 0.0, 0.0, 0.0, 0.0, 0.0, 0.0, 0.0, 0.0, 0.0, 0.0, 0.0], [0.02731742523610592, 0.018727652728557587, 0.021892696619033813, 0.0164699275046587, 0.045582644641399384, 0.030933421105146408, 0.04823115095496178, 0.042452242225408554, 0.026300309225916862, 0.05097055062651634, 0.03631412610411644, 0.03286593779921532, 0.05519160255789757, 0.05140639469027519, 0.04078870639204979, 0.02287578396499157, 0.03160340338945389, 0.04653894156217575, 0.0437496118247509, 0.01688532531261444, 0.056511033326387405, 0.043424952775239944, 0.03066217713057995, 0.03728441521525383, 0.04532141238451004, 0.017218101769685745, 0.03924310579895973, 0.023236865177750587, 0.0, 0.0, 0.0, 0.0, 0.0, 0.0, 0.0, 0.0, 0.0, 0.0, 0.0, 0.0, 0.0], [0.030856138095259666, 0.019327985122799873, 0.023259079083800316, 0.02013593167066574, 0.031914662569761276, 0.04647376015782356, 0.03163405880331993, 0.042801883071660995, 0.02991248480975628, 0.033196672797203064, 0.038818955421447754, 0.02649504318833351, 0.03837566822767258, 0.05169341713190079, 0.03477243706583977, 0.02591918781399727, 0.04024370014667511, 0.0398569330573082, 0.05970636382699013, 0.021543648093938828, 0.03466355428099632, 0.0442662350833416, 0.02821892499923706, 0.04681475833058357, 0.060333557426929474, 0.02157183736562729, 0.03088957816362381, 0.02648460492491722, 0.01981903426349163, 0.0, 0.0, 0.0, 0.0, 0.0, 0.0, 0.0, 0.0, 0.0, 0.0, 0.0, 0.0], [0.01863471232354641, 0.009620976634323597, 0.024622928351163864, 0.017312299460172653, 0.03718666732311249, 0.019635889679193497, 0.047289203852415085, 0.026024524122476578, 0.020615004003047943, 0.04732741788029671, 0.034334421157836914, 0.045008815824985504, 0.06431607902050018, 0.04328464716672897, 0.02412530779838562, 0.030073735862970352, 0.03369982913136482, 0.05075528472661972, 0.04249311238527298, 0.019949059933423996, 0.05669516697525978, 0.04395182430744171, 0.058208126574754715, 0.04301724582910538, 0.04476981237530708, 0.02061080001294613, 0.02386232651770115, 0.013142495416104794, 0.009521681815385818, 0.029910575598478317, 0.0, 0.0, 0.0, 0.0, 0.0, 0.0, 0.0, 0.0, 0.0, 0.0, 0.0], [0.030884187668561935, 0.01971731334924698, 0.020377634093165398, 0.021577104926109314, 0.03152948617935181, 0.03346148505806923, 0.03567163273692131, 0.04722113907337189, 0.02225218340754509, 0.03455645591020584, 0.03733522444963455, 0.035194091498851776, 0.03741773962974548, 0.04856695234775543, 0.03501878306269646, 0.019165143370628357, 0.03026501089334488, 0.03554031625390053, 0.03980652615427971, 0.020581398159265518, 0.03471624478697777, 0.03679921105504036, 0.046882085502147675, 0.05987107381224632, 0.04125477746129036, 0.021246252581477165, 0.028408661484718323, 0.026711037382483482, 0.016970543190836906, 0.0209891926497221, 0.030011126771569252, 0.0, 0.0, 0.0, 0.0, 0.0, 0.0, 0.0, 0.0, 0.0, 0.0], [0.025632530450820923, 0.012594056315720081, 0.020698117092251778, 0.01487151812762022, 0.030562790110707283, 0.007697619032114744, 0.03865094110369682, 0.01938301883637905, 0.019349833950400352, 0.040331803262233734, 0.023447325453162193, 0.05520687624812126, 0.03587907925248146, 0.026573805138468742, 0.02323315665125847, 0.027805447578430176, 0.017579276114702225, 0.03217322379350662, 0.025017831474542618, 0.021088769659399986, 0.06416907161474228, 0.03294937685132027, 0.0733734667301178, 0.01875438541173935, 0.029343802481889725, 0.02411038428544998, 0.04824666678905487, 0.016413195058703423, 0.017052389681339264, 0.03724967688322067, 0.032144397497177124, 0.08841623365879059, 0.0, 0.0, 0.0, 0.0, 0.0, 0.0, 0.0, 0.0, 0.0], [0.013536933809518814, 0.008822758682072163, 0.01726982742547989, 0.01950579695403576, 0.04147575795650482, 0.012873904779553413, 0.04403167963027954, 0.016363397240638733, 0.010203473269939423, 0.04580468311905861, 0.060032278299331665, 0.045456305146217346, 0.05551508441567421, 0.0320303812623024, 0.022479820996522903, 0.019890179857611656, 0.017463503405451775, 0.047224100679159164, 0.021396484225988388, 0.02285800874233246, 0.05629698932170868, 0.048210509121418, 0.04009837657213211, 0.01951778493821621, 0.023005587980151176, 0.023991422727704048, 0.0150135587900877, 0.0096828518435359, 0.008432296104729176, 0.02670844830572605, 0.01631326414644718, 0.06269313395023346, 0.07580140978097916, 0.0, 0.0, 0.0, 0.0, 0.0, 0.0, 0.0, 0.0], [0.026752931997179985, 0.01149116363376379, 0.0195939801633358, 0.014299784786999226, 0.026348870247602463, 0.007308767642825842, 0.03145274147391319, 0.020123997703194618, 0.016245979815721512, 0.03188430517911911, 0.021198997274041176, 0.05356842651963234, 0.030245337635278702, 0.022096281871199608, 0.02153623290359974, 0.026978878304362297, 0.017983444035053253, 0.028644418343901634, 0.025837838649749756, 0.02095378004014492, 0.05109817907214165, 0.02899204008281231, 0.07718844711780548, 0.01847156137228012, 0.030587323009967804, 0.024157503619790077, 0.03069135546684265, 0.014990798197686672, 0.015775125473737717, 0.0338948555290699, 0.028854336589574814, 0.07209337502717972, 0.038245730102062225, 0.06041323393583298, 0.0, 0.0, 0.0, 0.0, 0.0, 0.0, 0.0], [0.019088560715317726, 0.011426025070250034, 0.015701044350862503, 0.016007734462618828, 0.032448749989271164, 0.01640257053077221, 0.03284073248505592, 0.022099517285823822, 0.015415511094033718, 0.03431808948516846, 0.044150132685899734, 0.03088151477277279, 0.03833119571208954, 0.034828927367925644, 0.026001323014497757, 0.01896541565656662, 0.01813732273876667, 0.03706429898738861, 0.0257127583026886, 0.019528739154338837, 0.04325060546398163, 0.04317875951528549, 0.03310876712203026, 0.01940484344959259, 0.028016995638608932, 0.020687410607933998, 0.019266704097390175, 0.014317587949335575, 0.012974144890904427, 0.02265189029276371, 0.021946653723716736, 0.05024295300245285, 0.05921200290322304, 0.05310005322098732, 0.04929054155945778, 0.0, 0.0, 0.0, 0.0, 0.0, 0.0], [0.01807669922709465, 0.010645637288689613, 0.019624508917331696, 0.019028587266802788, 0.02373039536178112, 0.014644722454249859, 0.030436474829912186, 0.01898781955242157, 0.019297780469059944, 0.029386011883616447, 0.02612028643488884, 0.04428202286362648, 0.036415357142686844, 0.03187042847275734, 0.018484050408005714, 0.023090116679668427, 0.02056438848376274, 0.03041081316769123, 0.026586458086967468, 0.022647008299827576, 0.036021243780851364, 0.030826106667518616, 0.0710861086845398, 0.03407300263643265, 0.029046617448329926, 0.024346137419342995, 0.022672278806567192, 0.014203458093106747, 0.011376426555216312, 0.025119975209236145, 0.020460890606045723, 0.04332568496465683, 0.034879010170698166, 0.052170831710100174, 0.03583595156669617, 0.030226722359657288, 0.0, 0.0, 0.0, 0.0, 0.0], [0.01870928704738617, 0.015341825783252716, 0.020777514204382896, 0.014705512672662735, 0.027385510504245758, 0.018333906307816505, 0.031946755945682526, 0.015445820055902004, 0.02878858521580696, 0.03248821943998337, 0.025619130581617355, 0.02816186286509037, 0.035585079342126846, 0.0376669280230999, 0.021962059661746025, 0.025617090985178947, 0.022923598065972328, 0.031725313514471054, 0.0240183062851429, 0.017221422865986824, 0.038780465722084045, 0.03068584017455578, 0.03795488923788071, 0.020403781905770302, 0.025396548211574554, 0.017944978550076485, 0.045682214200496674, 0.016679640859365463, 0.01723391003906727, 0.020009111613035202, 0.01963878609240055, 0.04368474334478378, 0.03190186992287636, 0.0463373176753521, 0.03390566632151604, 0.031509075313806534, 0.027827370911836624, 0.0, 0.0, 0.0, 0.0], [0.01583038456737995, 0.008797930553555489, 0.020736917853355408, 0.0150082902982831, 0.027317142114043236, 0.013882022351026535, 0.03234197944402695, 0.021269062533974648, 0.01739787496626377, 0.03270690515637398, 0.023793760687112808, 0.03003602847456932, 0.039992887526750565, 0.028256982564926147, 0.018710004165768623, 0.02563423290848732, 0.027790240943431854, 0.035631947219371796, 0.031543582677841187, 0.017693761736154556, 0.03931785374879837, 0.029509689658880234, 0.03772815689444542, 0.03357874974608421, 0.03331442549824715, 0.018431222066283226, 0.020650332793593407, 0.011286879889667034, 0.0090679582208395, 0.02495933324098587, 0.012769790366292, 0.04406845569610596, 0.028911348432302475, 0.0510149709880352, 0.03223378211259842, 0.02661672793328762, 0.03253408148884773, 0.02963436394929886, 0.0, 0.0, 0.0], [0.01479247398674488, 0.009815742261707783, 0.012113673612475395, 0.012657529674470425, 0.04027815908193588, 0.016562944278120995, 0.035603780299425125, 0.028865190222859383, 0.00694255530834198, 0.038148827850818634, 0.036587197333574295, 0.035285986959934235, 0.05055985227227211, 0.02682403475046158, 0.024373605847358704, 0.012013222090899944, 0.015779292210936546, 0.04368907958269119, 0.022760799154639244, 0.012821808457374573, 0.040777768939733505, 0.03294174745678902, 0.026350760832428932, 0.02747008576989174, 0.02399474009871483, 0.013147030025720596, 0.006670597940683365, 0.01544935256242752, 0.008811825886368752, 0.013676936738193035, 0.02089783549308777, 0.04523522034287453, 0.04098482429981232, 0.05964319407939911, 0.036325957626104355, 0.02121797762811184, 0.03750329464673996, 0.013121643103659153, 0.019303368404507637, 0.0, 0.0], [0.012275820598006248, 0.006355345249176025, 0.015616950578987598, 0.020505812019109726, 0.030601520091295242, 0.01540790032595396, 0.03818855807185173, 0.027072710916399956, 0.011780064553022385, 0.03498905897140503, 0.026780366897583008, 0.04260966181755066, 0.04779515042901039, 0.028936177492141724, 0.017591027542948723, 0.01500367745757103, 0.020992422476410866, 0.03561210632324219, 0.028110841289162636, 0.0201202891767025, 0.03639662265777588, 0.02600153535604477, 0.0480622760951519, 0.03823499009013176, 0.02892441116273403, 0.020563749596476555, 0.01092993188649416, 0.0072453818283975124, 0.00481656938791275, 0.015083339996635914, 0.008782914839684963, 0.03889421746134758, 0.028171397745609283, 0.05309448391199112, 0.027576802298426628, 0.023505421355366707, 0.03562559187412262, 0.01598130725324154, 0.013651000335812569, 0.02211262285709381, 0.0], [0.019318928942084312, 0.01041544321924448, 0.017617326229810715, 0.0154460733756423, 0.020140184089541435, 0.010987915098667145, 0.022275976836681366, 0.015293681994080544, 0.013017206452786922, 0.02202717773616314, 0.025991754606366158, 0.037590689957141876, 0.025123348459601402, 0.02484882064163685, 0.016712168231606483, 0.020829565823078156, 0.015132555738091469, 0.021337216719985008, 0.023754509165883064, 0.019329851493239403, 0.02933487296104431, 0.028862109407782555, 0.04161188378930092, 0.02172216959297657, 0.027147764340043068, 0.021558230742812157, 0.022209344431757927, 0.014343353919684887, 0.011784765869379044, 0.024604273959994316, 0.019251879304647446, 0.03863893821835518, 0.040521182119846344, 0.042207323014736176, 0.03620905056595802, 0.02239140495657921, 0.024455616250634193, 0.029892241582274437, 0.021327469497919083, 0.02565274015069008, 0.05908304452896118]], [[1.0, 0.0, 0.0, 0.0, 0.0, 0.0, 0.0, 0.0, 0.0, 0.0, 0.0, 0.0, 0.0, 0.0, 0.0, 0.0, 0.0, 0.0, 0.0, 0.0, 0.0, 0.0, 0.0, 0.0, 0.0, 0.0, 0.0, 0.0, 0.0, 0.0, 0.0, 0.0, 0.0, 0.0, 0.0, 0.0, 0.0, 0.0, 0.0, 0.0, 0.0], [0.7765933275222778, 0.22340665757656097, 0.0, 0.0, 0.0, 0.0, 0.0, 0.0, 0.0, 0.0, 0.0, 0.0, 0.0, 0.0, 0.0, 0.0, 0.0, 0.0, 0.0, 0.0, 0.0, 0.0, 0.0, 0.0, 0.0, 0.0, 0.0, 0.0, 0.0, 0.0, 0.0, 0.0, 0.0, 0.0, 0.0, 0.0, 0.0, 0.0, 0.0, 0.0, 0.0], [0.5309812426567078, 0.3181420564651489, 0.1508767008781433, 0.0, 0.0, 0.0, 0.0, 0.0, 0.0, 0.0, 0.0, 0.0, 0.0, 0.0, 0.0, 0.0, 0.0, 0.0, 0.0, 0.0, 0.0, 0.0, 0.0, 0.0, 0.0, 0.0, 0.0, 0.0, 0.0, 0.0, 0.0, 0.0, 0.0, 0.0, 0.0, 0.0, 0.0, 0.0, 0.0, 0.0, 0.0], [0.3141511380672455, 0.2209935188293457, 0.31682315468788147, 0.14803212881088257, 0.0, 0.0, 0.0, 0.0, 0.0, 0.0, 0.0, 0.0, 0.0, 0.0, 0.0, 0.0, 0.0, 0.0, 0.0, 0.0, 0.0, 0.0, 0.0, 0.0, 0.0, 0.0, 0.0, 0.0, 0.0, 0.0, 0.0, 0.0, 0.0, 0.0, 0.0, 0.0, 0.0, 0.0, 0.0, 0.0, 0.0], [0.17626233398914337, 0.1450362354516983, 0.2080611139535904, 0.17863306403160095, 0.29200729727745056, 0.0, 0.0, 0.0, 0.0, 0.0, 0.0, 0.0, 0.0, 0.0, 0.0, 0.0, 0.0, 0.0, 0.0, 0.0, 0.0, 0.0, 0.0, 0.0, 0.0, 0.0, 0.0, 0.0, 0.0, 0.0, 0.0, 0.0, 0.0, 0.0, 0.0, 0.0, 0.0, 0.0, 0.0, 0.0, 0.0], [0.17604832351207733, 0.10275284200906754, 0.14346104860305786, 0.2761251926422119, 0.09830079972743988, 0.2033117711544037, 0.0, 0.0, 0.0, 0.0, 0.0, 0.0, 0.0, 0.0, 0.0, 0.0, 0.0, 0.0, 0.0, 0.0, 0.0, 0.0, 0.0, 0.0, 0.0, 0.0, 0.0, 0.0, 0.0, 0.0, 0.0, 0.0, 0.0, 0.0, 0.0, 0.0, 0.0, 0.0, 0.0, 0.0, 0.0], [0.14676958322525024, 0.13087822496891022, 0.14142897725105286, 0.15577180683612823, 0.2029435783624649, 0.0572490394115448, 0.16495884954929352, 0.0, 0.0, 0.0, 0.0, 0.0, 0.0, 0.0, 0.0, 0.0, 0.0, 0.0, 0.0, 0.0, 0.0, 0.0, 0.0, 0.0, 0.0, 0.0, 0.0, 0.0, 0.0, 0.0, 0.0, 0.0, 0.0, 0.0, 0.0, 0.0, 0.0, 0.0, 0.0, 0.0, 0.0], [0.19605949521064758, 0.18800552189350128, 0.1426420360803604, 0.0854148268699646, 0.05080331116914749, 0.025558054447174072, 0.06601917743682861, 0.24549756944179535, 0.0, 0.0, 0.0, 0.0, 0.0, 0.0, 0.0, 0.0, 0.0, 0.0, 0.0, 0.0, 0.0, 0.0, 0.0, 0.0, 0.0, 0.0, 0.0, 0.0, 0.0, 0.0, 0.0, 0.0, 0.0, 0.0, 0.0, 0.0, 0.0, 0.0, 0.0, 0.0, 0.0], [0.15991345047950745, 0.10792051255702972, 0.15359556674957275, 0.16041871905326843, 0.014315444976091385, 0.018417730927467346, 0.01671541854739189, 0.22423821687698364, 0.14446493983268738, 0.0, 0.0, 0.0, 0.0, 0.0, 0.0, 0.0, 0.0, 0.0, 0.0, 0.0, 0.0, 0.0, 0.0, 0.0, 0.0, 0.0, 0.0, 0.0, 0.0, 0.0, 0.0, 0.0, 0.0, 0.0, 0.0, 0.0, 0.0, 0.0, 0.0, 0.0, 0.0], [0.09455498307943344, 0.06285915523767471, 0.11838530749082565, 0.1215139776468277, 0.10648615658283234, 0.04556524008512497, 0.08517304807901382, 0.1200985535979271, 0.1554223895072937, 0.08994113653898239, 0.0, 0.0, 0.0, 0.0, 0.0, 0.0, 0.0, 0.0, 0.0, 0.0, 0.0, 0.0, 0.0, 0.0, 0.0, 0.0, 0.0, 0.0, 0.0, 0.0, 0.0, 0.0, 0.0, 0.0, 0.0, 0.0, 0.0, 0.0, 0.0, 0.0, 0.0], [0.14805665612220764, 0.09063095599412918, 0.12011536955833435, 0.11791153252124786, 0.028871502727270126, 0.07755860686302185, 0.030780110508203506, 0.1262885481119156, 0.09245005995035172, 0.026113515719771385, 0.14122319221496582, 0.0, 0.0, 0.0, 0.0, 0.0, 0.0, 0.0, 0.0, 0.0, 0.0, 0.0, 0.0, 0.0, 0.0, 0.0, 0.0, 0.0, 0.0, 0.0, 0.0, 0.0, 0.0, 0.0, 0.0, 0.0, 0.0, 0.0, 0.0, 0.0, 0.0], [0.09067315608263016, 0.047346435487270355, 0.0604279562830925, 0.06678575277328491, 0.09040401875972748, 0.04608219489455223, 0.0654771700501442, 0.10699741542339325, 0.08192358911037445, 0.07667890191078186, 0.14165295660495758, 0.12555044889450073, 0.0, 0.0, 0.0, 0.0, 0.0, 0.0, 0.0, 0.0, 0.0, 0.0, 0.0, 0.0, 0.0, 0.0, 0.0, 0.0, 0.0, 0.0, 0.0, 0.0, 0.0, 0.0, 0.0, 0.0, 0.0, 0.0, 0.0, 0.0, 0.0], [0.07393837720155716, 0.043641697615385056, 0.07557482272386551, 0.06134986877441406, 0.06718143075704575, 0.029901448637247086, 0.05372964218258858, 0.10470184683799744, 0.1092551201581955, 0.0638473629951477, 0.09652416408061981, 0.11112195253372192, 0.10923224687576294, 0.0, 0.0, 0.0, 0.0, 0.0, 0.0, 0.0, 0.0, 0.0, 0.0, 0.0, 0.0, 0.0, 0.0, 0.0, 0.0, 0.0, 0.0, 0.0, 0.0, 0.0, 0.0, 0.0, 0.0, 0.0, 0.0, 0.0, 0.0], [0.07740670442581177, 0.05669534206390381, 0.082550048828125, 0.06456796079874039, 0.03891872614622116, 0.0363769456744194, 0.05286937952041626, 0.09551887214183807, 0.10227787494659424, 0.04048619419336319, 0.14102256298065186, 0.06375200301408768, 0.06611163169145584, 0.08144573867321014, 0.0, 0.0, 0.0, 0.0, 0.0, 0.0, 0.0, 0.0, 0.0, 0.0, 0.0, 0.0, 0.0, 0.0, 0.0, 0.0, 0.0, 0.0, 0.0, 0.0, 0.0, 0.0, 0.0, 0.0, 0.0, 0.0, 0.0], [0.15158508718013763, 0.10514212399721146, 0.07022295892238617, 0.05102371424436569, 0.012947904877364635, 0.015575974248349667, 0.01748301088809967, 0.20839017629623413, 0.06666351109743118, 0.012186313979327679, 0.0546896867454052, 0.016789905726909637, 0.015943096950650215, 0.02677493542432785, 0.17458167672157288, 0.0, 0.0, 0.0, 0.0, 0.0, 0.0, 0.0, 0.0, 0.0, 0.0, 0.0, 0.0, 0.0, 0.0, 0.0, 0.0, 0.0, 0.0, 0.0, 0.0, 0.0, 0.0, 0.0, 0.0, 0.0, 0.0], [0.1463560312986374, 0.06754840910434723, 0.05306969955563545, 0.2529538869857788, 0.006289543118327856, 0.016343483701348305, 0.007280643098056316, 0.08265668153762817, 0.13864055275917053, 0.004190234467387199, 0.06411291658878326, 0.0037645776756107807, 0.005629998631775379, 0.02033849246799946, 0.07935340702533722, 0.05147143453359604, 0.0, 0.0, 0.0, 0.0, 0.0, 0.0, 0.0, 0.0, 0.0, 0.0, 0.0, 0.0, 0.0, 0.0, 0.0, 0.0, 0.0, 0.0, 0.0, 0.0, 0.0, 0.0, 0.0, 0.0, 0.0], [0.0672624483704567, 0.04349612817168236, 0.07619863003492355, 0.07493704557418823, 0.022319501265883446, 0.04771541431546211, 0.026870010420680046, 0.09342413395643234, 0.08667779713869095, 0.025614188984036446, 0.07024241238832474, 0.0318010114133358, 0.029630770906805992, 0.04682241007685661, 0.0875374898314476, 0.10988349467515945, 0.059567131102085114, 0.0, 0.0, 0.0, 0.0, 0.0, 0.0, 0.0, 0.0, 0.0, 0.0, 0.0, 0.0, 0.0, 0.0, 0.0, 0.0, 0.0, 0.0, 0.0, 0.0, 0.0, 0.0, 0.0, 0.0], [0.047526150941848755, 0.031095586717128754, 0.04362333565950394, 0.04497259482741356, 0.03508066013455391, 0.02225540205836296, 0.03529181331396103, 0.061589114367961884, 0.06121357902884483, 0.03467128798365593, 0.0702698677778244, 0.06238891929388046, 0.06859009712934494, 0.0709603801369667, 0.09879946708679199, 0.08154695481061935, 0.07225637882947922, 0.057868361473083496, 0.0, 0.0, 0.0, 0.0, 0.0, 0.0, 0.0, 0.0, 0.0, 0.0, 0.0, 0.0, 0.0, 0.0, 0.0, 0.0, 0.0, 0.0, 0.0, 0.0, 0.0, 0.0, 0.0], [0.051609285175800323, 0.03593524545431137, 0.055510398000478745, 0.05024075508117676, 0.032936941832304, 0.02463434636592865, 0.03373534604907036, 0.07148215919733047, 0.05868420749902725, 0.04040369391441345, 0.06092771887779236, 0.05630622059106827, 0.046304453164339066, 0.04996868968009949, 0.09508329629898071, 0.07568366080522537, 0.055295467376708984, 0.04523301124572754, 0.060025084763765335, 0.0, 0.0, 0.0, 0.0, 0.0, 0.0, 0.0, 0.0, 0.0, 0.0, 0.0, 0.0, 0.0, 0.0, 0.0, 0.0, 0.0, 0.0, 0.0, 0.0, 0.0, 0.0], [0.1122199147939682, 0.057458002120256424, 0.11817411333322525, 0.05516672879457474, 0.0026629543863236904, 0.013445829972624779, 0.0036568704526871443, 0.13235245645046234, 0.12431704998016357, 0.002313179662451148, 0.06647662818431854, 0.0014750551199540496, 0.0022748426999896765, 0.007813864387571812, 0.09061426669359207, 0.12352727353572845, 0.01619606651365757, 0.0013395665446296334, 0.009381181560456753, 0.05913417413830757, 0.0, 0.0, 0.0, 0.0, 0.0, 0.0, 0.0, 0.0, 0.0, 0.0, 0.0, 0.0, 0.0, 0.0, 0.0, 0.0, 0.0, 0.0, 0.0, 0.0, 0.0], [0.041035719215869904, 0.02179550565779209, 0.04104720428586006, 0.0389157198369503, 0.02555590309202671, 0.015573566779494286, 0.02226223051548004, 0.0348924919962883, 0.05538984760642052, 0.02555236965417862, 0.042519666254520416, 0.048418037593364716, 0.05359438434243202, 0.054070986807346344, 0.06565690040588379, 0.08890506625175476, 0.06318473070859909, 0.053335681557655334, 0.06346400827169418, 0.09324367344379425, 0.0515863299369812, 0.0, 0.0, 0.0, 0.0, 0.0, 0.0, 0.0, 0.0, 0.0, 0.0, 0.0, 0.0, 0.0, 0.0, 0.0, 0.0, 0.0, 0.0, 0.0, 0.0], [0.11527406424283981, 0.06355439126491547, 0.054734524339437485, 0.05977063626050949, 0.012305529788136482, 0.03074715845286846, 0.016821980476379395, 0.06774165481328964, 0.06097027659416199, 0.013403956778347492, 0.08860639482736588, 0.017608799040317535, 0.015306319110095501, 0.02624986693263054, 0.06885095685720444, 0.05808955430984497, 0.03308314457535744, 0.012692990712821484, 0.03342842683196068, 0.07615494728088379, 0.016570597887039185, 0.05803390592336655, 0.0, 0.0, 0.0, 0.0, 0.0, 0.0, 0.0, 0.0, 0.0, 0.0, 0.0, 0.0, 0.0, 0.0, 0.0, 0.0, 0.0, 0.0, 0.0], [0.06553143262863159, 0.016744576394557953, 0.01977771706879139, 0.024959547445178032, 0.01616722159087658, 0.023770753294229507, 0.012575637549161911, 0.026932183653116226, 0.030839722603559494, 0.013894019648432732, 0.05323302373290062, 0.02923787198960781, 0.0503852553665638, 0.050242066383361816, 0.04387971758842468, 0.047163404524326324, 0.05054771155118942, 0.039115060120821, 0.0435667410492897, 0.0683373212814331, 0.032699376344680786, 0.12411584705114365, 0.1162838563323021, 0.0, 0.0, 0.0, 0.0, 0.0, 0.0, 0.0, 0.0, 0.0, 0.0, 0.0, 0.0, 0.0, 0.0, 0.0, 0.0, 0.0, 0.0], [0.06311220675706863, 0.03768441826105118, 0.03667662665247917, 0.04331006854772568, 0.02067149057984352, 0.009659623727202415, 0.02301177941262722, 0.048108939081430435, 0.04777327924966812, 0.022950144484639168, 0.04811429604887962, 0.03015831857919693, 0.02809976600110531, 0.038037046790122986, 0.0738988071680069, 0.049437813460826874, 0.03025016188621521, 0.026889370754361153, 0.03301486000418663, 0.06733539700508118, 0.03416536748409271, 0.056943174451589584, 0.05422397330403328, 0.07647310942411423, 0.0, 0.0, 0.0, 0.0, 0.0, 0.0, 0.0, 0.0, 0.0, 0.0, 0.0, 0.0, 0.0, 0.0, 0.0, 0.0, 0.0], [0.039578236639499664, 0.025526730343699455, 0.039698775857686996, 0.0348321832716465, 0.02207656390964985, 0.017328361049294472, 0.023219024762511253, 0.04651520773768425, 0.039193831384181976, 0.027168359607458115, 0.04025945067405701, 0.0378546342253685, 0.03148096054792404, 0.03444213420152664, 0.06269588321447372, 0.05554893612861633, 0.03813672810792923, 0.03136099502444267, 0.03969913721084595, 0.056308869272470474, 0.0419817678630352, 0.05060024559497833, 0.06621178984642029, 0.046232499182224274, 0.05204864963889122, 0.0, 0.0, 0.0, 0.0, 0.0, 0.0, 0.0, 0.0, 0.0, 0.0, 0.0, 0.0, 0.0, 0.0, 0.0, 0.0], [0.1065795049071312, 0.0518895760178566, 0.10344226658344269, 0.04725750535726547, 0.00222918763756752, 0.011979276314377785, 0.0031526521779596806, 0.11278719455003738, 0.1072910726070404, 0.001946437289007008, 0.05705014988780022, 0.0012265241239219904, 0.0018982861656695604, 0.006768002640455961, 0.07714731246232986, 0.10990319401025772, 0.013805476017296314, 0.0011383744422346354, 0.007779878564178944, 0.05160398781299591, 0.0018144461791962385, 0.03220759704709053, 0.003101400099694729, 0.016866540536284447, 0.009252873249351978, 0.05988116189837456, 0.0, 0.0, 0.0, 0.0, 0.0, 0.0, 0.0, 0.0, 0.0, 0.0, 0.0, 0.0, 0.0, 0.0, 0.0], [0.04594380035996437, 0.022425061091780663, 0.03224024176597595, 0.029120750725269318, 0.01725337840616703, 0.0066443923860788345, 0.020850619301199913, 0.02819713205099106, 0.0434923954308033, 0.016997626051306725, 0.034669194370508194, 0.029236285015940666, 0.02733856625854969, 0.032871805131435394, 0.07039707154035568, 0.0508829802274704, 0.024764008820056915, 0.02503577060997486, 0.029497794806957245, 0.04998278245329857, 0.027470529079437256, 0.04899592697620392, 0.05155036598443985, 0.05799219757318497, 0.038613028824329376, 0.061135780066251755, 0.07640048116445541, 0.0, 0.0, 0.0, 0.0, 0.0, 0.0, 0.0, 0.0, 0.0, 0.0, 0.0, 0.0, 0.0, 0.0], [0.15818355977535248, 0.1112789586186409, 0.04828524589538574, 0.045479148626327515, 0.008232674561440945, 0.006287999451160431, 0.013029154390096664, 0.045983411371707916, 0.05983816832304001, 0.010332020930945873, 0.023029504343867302, 0.009509224444627762, 0.009493188001215458, 0.016187358647584915, 0.04617621377110481, 0.04393032193183899, 0.013560748659074306, 0.007860422134399414, 0.0168437696993351, 0.051421429961919785, 0.011629976332187653, 0.02470371499657631, 0.015083443373441696, 0.03103998489677906, 0.020121315494179726, 0.059461504220962524, 0.02089652605354786, 0.0721210464835167, 0.0, 0.0, 0.0, 0.0, 0.0, 0.0, 0.0, 0.0, 0.0, 0.0, 0.0, 0.0, 0.0], [0.18061022460460663, 0.06363921612501144, 0.04070257395505905, 0.04138055443763733, 0.005460158456116915, 0.005348959006369114, 0.006867119111120701, 0.042475681751966476, 0.03223695605993271, 0.005270452704280615, 0.030045952647924423, 0.004083016887307167, 0.00525281485170126, 0.013389102183282375, 0.03595166653394699, 0.03230471536517143, 0.016524124890565872, 0.0042022899724543095, 0.014995702542364597, 0.04237851873040199, 0.0055868057534098625, 0.0324951708316803, 0.008049131371080875, 0.028327826410531998, 0.018615148961544037, 0.050225816667079926, 0.018831992521882057, 0.156294047832489, 0.058454208076000214, 0.0, 0.0, 0.0, 0.0, 0.0, 0.0, 0.0, 0.0, 0.0, 0.0, 0.0, 0.0], [0.1023857593536377, 0.03374427184462547, 0.05782085657119751, 0.10330065339803696, 0.003615652909502387, 0.008204900659620762, 0.004038162529468536, 0.03361424058675766, 0.0736352950334549, 0.0025089283008128405, 0.02806752547621727, 0.0021159853786230087, 0.0028476640582084656, 0.009138546884059906, 0.03039621189236641, 0.054643359035253525, 0.013286382891237736, 0.002063591731712222, 0.00647973595187068, 0.11639402061700821, 0.0023034776095300913, 0.01620401255786419, 0.00426458427682519, 0.010404183529317379, 0.0073158699087798595, 0.13113798201084137, 0.008863192051649094, 0.03929915279150009, 0.03229066729545593, 0.05961506441235542, 0.0, 0.0, 0.0, 0.0, 0.0, 0.0, 0.0, 0.0, 0.0, 0.0, 0.0], [0.06172290816903114, 0.03877224773168564, 0.022384168580174446, 0.024944772943854332, 0.011637426912784576, 0.0090249702334404, 0.013783036731183529, 0.046164534986019135, 0.03596389666199684, 0.010961350053548813, 0.02652677334845066, 0.012794295325875282, 0.01578669250011444, 0.027368508279323578, 0.04536130279302597, 0.027116572484374046, 0.023694660514593124, 0.01245840173214674, 0.027621014043688774, 0.03249243274331093, 0.013749157078564167, 0.032693348824977875, 0.019932853057980537, 0.053940679877996445, 0.033761195838451385, 0.03762555867433548, 0.054556313902139664, 0.06290022283792496, 0.056365545839071274, 0.06763382256031036, 0.040261343121528625, 0.0, 0.0, 0.0, 0.0, 0.0, 0.0, 0.0, 0.0, 0.0, 0.0], [0.023272361606359482, 0.010790362022817135, 0.01877594366669655, 0.01761445589363575, 0.011465861462056637, 0.0076454016380012035, 0.01055535115301609, 0.01420878991484642, 0.02266131341457367, 0.011230631731450558, 0.01774636097252369, 0.020547576248645782, 0.022628135979175568, 0.024600422009825706, 0.02615455538034439, 0.04181204363703728, 0.02723865769803524, 0.023424610495567322, 0.024176815524697304, 0.04238208010792732, 0.02121681161224842, 0.03280153125524521, 0.05205335095524788, 0.03529870882630348, 0.03484434634447098, 0.055715177208185196, 0.05162398889660835, 0.027135338634252548, 0.027633627876639366, 0.10041254013776779, 0.0975685864686966, 0.0447642058134079, 0.0, 0.0, 0.0, 0.0, 0.0, 0.0, 0.0, 0.0, 0.0], [0.07032642513513565, 0.03247539699077606, 0.04087602347135544, 0.037178538739681244, 0.0069212531670928, 0.027738874778151512, 0.008204623125493526, 0.03304506093263626, 0.026925574988126755, 0.0068181524984538555, 0.039863597601652145, 0.00833970308303833, 0.00648995628580451, 0.013224480673670769, 0.03693566843867302, 0.04519052803516388, 0.021130306646227837, 0.006596799474209547, 0.01541946828365326, 0.04859953373670578, 0.00844431109726429, 0.04382536932826042, 0.017847958952188492, 0.023573921993374825, 0.019461065530776978, 0.058393288403749466, 0.01761716790497303, 0.03162067010998726, 0.036639224737882614, 0.06964720040559769, 0.04039324074983597, 0.014566808007657528, 0.08566983789205551, 0.0, 0.0, 0.0, 0.0, 0.0, 0.0, 0.0, 0.0], [0.02247142232954502, 0.009797381237149239, 0.015218347311019897, 0.012080884538590908, 0.01141408272087574, 0.006734116934239864, 0.010026486590504646, 0.016363289207220078, 0.01938682422041893, 0.01132789347320795, 0.016605297103524208, 0.020331943407654762, 0.020812291651964188, 0.02240677922964096, 0.02723291888833046, 0.03229604661464691, 0.02439047023653984, 0.02238747850060463, 0.019732343032956123, 0.027901647612452507, 0.02158723585307598, 0.031012574210762978, 0.055914200842380524, 0.030744794756174088, 0.028435135260224342, 0.03624971583485603, 0.04384343698620796, 0.028538640588521957, 0.023456817492842674, 0.07741992920637131, 0.06499090790748596, 0.04582821577787399, 0.053754471242427826, 0.08930593729019165, 0.0, 0.0, 0.0, 0.0, 0.0, 0.0, 0.0], [0.0754794254899025, 0.03634803742170334, 0.029826518148183823, 0.03289114311337471, 0.006436043884605169, 0.017484242096543312, 0.009129157289862633, 0.031387586146593094, 0.029249882325530052, 0.006877518258988857, 0.04335003346204758, 0.008551646023988724, 0.007353344466537237, 0.013731790706515312, 0.030624741688370705, 0.03181973099708557, 0.01629905216395855, 0.006292715668678284, 0.014823571778833866, 0.04094751551747322, 0.007796308025717735, 0.028440503403544426, 0.01563185453414917, 0.03192530572414398, 0.018244488164782524, 0.0478554293513298, 0.02097463048994541, 0.047553278505802155, 0.04227790981531143, 0.04839937388896942, 0.03724714368581772, 0.013131925836205482, 0.08642134070396423, 0.016889451071619987, 0.0483073852956295, 0.0, 0.0, 0.0, 0.0, 0.0, 0.0], [0.029405444860458374, 0.01097878161817789, 0.009622354991734028, 0.009351002052426338, 0.007661677431315184, 0.005287881009280682, 0.008951135911047459, 0.013106711208820343, 0.014680241234600544, 0.00755307637155056, 0.022574711591005325, 0.011707557365298271, 0.01621170900762081, 0.017888037487864494, 0.024830084294080734, 0.015330196358263493, 0.011626411229372025, 0.015181471593677998, 0.01801007241010666, 0.017349746078252792, 0.01318394672125578, 0.03728329390287399, 0.02927579917013645, 0.05388139188289642, 0.025124531239271164, 0.021902382373809814, 0.04790784791111946, 0.028658583760261536, 0.020794371142983437, 0.03627942129969597, 0.07095982879400253, 0.026606744155287743, 0.06745952367782593, 0.06109863892197609, 0.07292017340660095, 0.0993553027510643, 0.0, 0.0, 0.0, 0.0, 0.0], [0.08520662784576416, 0.04160815849900246, 0.03052990883588791, 0.02243245393037796, 0.006215385627001524, 0.0071424394845962524, 0.009286987595260143, 0.05334725230932236, 0.0210189837962389, 0.006394717842340469, 0.02006303146481514, 0.0073933787643909454, 0.006425929721444845, 0.009469781070947647, 0.046323511749506, 0.03553514555096626, 0.013674751855432987, 0.0057139028795063496, 0.007169279735535383, 0.027330180630087852, 0.006514799315482378, 0.01644289121031761, 0.014569027349352837, 0.02276003174483776, 0.008594978600740433, 0.031634073704481125, 0.013299924321472645, 0.06804846227169037, 0.050856199115514755, 0.04301152005791664, 0.026942644268274307, 0.01057392731308937, 0.034775182604789734, 0.01332700252532959, 0.026747457683086395, 0.03312874212861061, 0.11649129539728165, 0.0, 0.0, 0.0, 0.0], [0.073287732899189, 0.02764921821653843, 0.019633250311017036, 0.09516186267137527, 0.002133831614628434, 0.006383087486028671, 0.0026669760700315237, 0.02510005049407482, 0.04552774131298065, 0.001410795608535409, 0.02033621072769165, 0.001200575614348054, 0.0018094833940267563, 0.007271434646099806, 0.023745520040392876, 0.01948174089193344, 0.009724128060042858, 0.0010760792065411806, 0.003545620944350958, 0.12045300751924515, 0.0013288692571222782, 0.012705518864095211, 0.0026347851380705833, 0.009522577747702599, 0.004108141642063856, 0.1385580152273178, 0.006456385366618633, 0.036049485206604004, 0.028329476714134216, 0.05482836440205574, 0.044722676277160645, 0.0018998420564457774, 0.03254060447216034, 0.0031188868451863527, 0.018879327923059464, 0.008671336807310581, 0.053186897188425064, 0.03486047312617302, 0.0, 0.0, 0.0], [0.026176126673817635, 0.010080236941576004, 0.018832314759492874, 0.03719248250126839, 0.004103783518075943, 0.055023469030857086, 0.005679134279489517, 0.02925218641757965, 0.022830411791801453, 0.006626165937632322, 0.04104951024055481, 0.005873965099453926, 0.005594914313405752, 0.008883396163582802, 0.02126627042889595, 0.01900359056890011, 0.013141077011823654, 0.0041375975124537945, 0.013432005420327187, 0.04624081403017044, 0.007207002490758896, 0.023203587159514427, 0.009743687696754932, 0.01410265825688839, 0.01640339381992817, 0.055145978927612305, 0.012998918071389198, 0.013176550157368183, 0.009966079145669937, 0.02532033436000347, 0.048578787595033646, 0.012163533829152584, 0.07888159155845642, 0.012529050931334496, 0.03953830525279045, 0.020563937723636627, 0.05203964188694954, 0.04170281067490578, 0.11231474578380585, 0.0, 0.0], [0.0639662817120552, 0.02833065204322338, 0.05438917130231857, 0.025539886206388474, 0.0011953584617003798, 0.00654689222574234, 0.0017150109633803368, 0.05212004482746124, 0.04978989064693451, 0.0010027989046648145, 0.02735220454633236, 0.0005893526249565184, 0.0009041721932590008, 0.0033878348767757416, 0.03358302637934685, 0.05558399483561516, 0.006499655544757843, 0.0005492319469340146, 0.00337179284542799, 0.025921300053596497, 0.000847178278490901, 0.01489635556936264, 0.0014696704456582665, 0.008079004473984241, 0.003980193752795458, 0.030065663158893585, 0.005889729131013155, 0.03708876669406891, 0.023610981181263924, 0.11318473517894745, 0.018423084169626236, 0.00122273329179734, 0.04256216436624527, 0.0014795503811910748, 0.022341297939419746, 0.008694269694387913, 0.06508044898509979, 0.10108966380357742, 0.013648489490151405, 0.04400749132037163, 0.0], [0.020975828170776367, 0.004399164579808712, 0.004829809069633484, 0.006261100992560387, 0.003994944505393505, 0.0061841667629778385, 0.003195554483681917, 0.005254375748336315, 0.0061745839193463326, 0.0031811038497835398, 0.011046688072383404, 0.00598072400316596, 0.010151914320886135, 0.011346115730702877, 0.007965306751430035, 0.010865548625588417, 0.010279178619384766, 0.008142518810927868, 0.007496577221900225, 0.015315361320972443, 0.006320573389530182, 0.024676881730556488, 0.02387242205440998, 0.03219085559248924, 0.01149266492575407, 0.020942816510796547, 0.02145792730152607, 0.02936161682009697, 0.013164415024220943, 0.028154730796813965, 0.05201055109500885, 0.015807367861270905, 0.044703662395477295, 0.05658639967441559, 0.05844768136739731, 0.08546462655067444, 0.08311884105205536, 0.0414404422044754, 0.041987013071775436, 0.04573879763484001, 0.10001913458108902]], [[1.0, 0.0, 0.0, 0.0, 0.0, 0.0, 0.0, 0.0, 0.0, 0.0, 0.0, 0.0, 0.0, 0.0, 0.0, 0.0, 0.0, 0.0, 0.0, 0.0, 0.0, 0.0, 0.0, 0.0, 0.0, 0.0, 0.0, 0.0, 0.0, 0.0, 0.0, 0.0, 0.0, 0.0, 0.0, 0.0, 0.0, 0.0, 0.0, 0.0, 0.0], [0.8506657481193542, 0.14933426678180695, 0.0, 0.0, 0.0, 0.0, 0.0, 0.0, 0.0, 0.0, 0.0, 0.0, 0.0, 0.0, 0.0, 0.0, 0.0, 0.0, 0.0, 0.0, 0.0, 0.0, 0.0, 0.0, 0.0, 0.0, 0.0, 0.0, 0.0, 0.0, 0.0, 0.0, 0.0, 0.0, 0.0, 0.0, 0.0, 0.0, 0.0, 0.0, 0.0], [0.609221339225769, 0.33291953802108765, 0.05785910412669182, 0.0, 0.0, 0.0, 0.0, 0.0, 0.0, 0.0, 0.0, 0.0, 0.0, 0.0, 0.0, 0.0, 0.0, 0.0, 0.0, 0.0, 0.0, 0.0, 0.0, 0.0, 0.0, 0.0, 0.0, 0.0, 0.0, 0.0, 0.0, 0.0, 0.0, 0.0, 0.0, 0.0, 0.0, 0.0, 0.0, 0.0, 0.0], [0.5084550380706787, 0.26887795329093933, 0.11034846305847168, 0.11231855303049088, 0.0, 0.0, 0.0, 0.0, 0.0, 0.0, 0.0, 0.0, 0.0, 0.0, 0.0, 0.0, 0.0, 0.0, 0.0, 0.0, 0.0, 0.0, 0.0, 0.0, 0.0, 0.0, 0.0, 0.0, 0.0, 0.0, 0.0, 0.0, 0.0, 0.0, 0.0, 0.0, 0.0, 0.0, 0.0, 0.0, 0.0], [0.4273826777935028, 0.20798924565315247, 0.1304314285516739, 0.18634925782680511, 0.047847405076026917, 0.0, 0.0, 0.0, 0.0, 0.0, 0.0, 0.0, 0.0, 0.0, 0.0, 0.0, 0.0, 0.0, 0.0, 0.0, 0.0, 0.0, 0.0, 0.0, 0.0, 0.0, 0.0, 0.0, 0.0, 0.0, 0.0, 0.0, 0.0, 0.0, 0.0, 0.0, 0.0, 0.0, 0.0, 0.0, 0.0], [0.44249117374420166, 0.1419203281402588, 0.13107460737228394, 0.1453734189271927, 0.06060757488012314, 0.07853294909000397, 0.0, 0.0, 0.0, 0.0, 0.0, 0.0, 0.0, 0.0, 0.0, 0.0, 0.0, 0.0, 0.0, 0.0, 0.0, 0.0, 0.0, 0.0, 0.0, 0.0, 0.0, 0.0, 0.0, 0.0, 0.0, 0.0, 0.0, 0.0, 0.0, 0.0, 0.0, 0.0, 0.0, 0.0, 0.0], [0.3911701440811157, 0.15272106230258942, 0.08986923098564148, 0.1690334528684616, 0.01912717893719673, 0.15358109772205353, 0.0244978666305542, 0.0, 0.0, 0.0, 0.0, 0.0, 0.0, 0.0, 0.0, 0.0, 0.0, 0.0, 0.0, 0.0, 0.0, 0.0, 0.0, 0.0, 0.0, 0.0, 0.0, 0.0, 0.0, 0.0, 0.0, 0.0, 0.0, 0.0, 0.0, 0.0, 0.0, 0.0, 0.0, 0.0, 0.0], [0.41877099871635437, 0.18180738389492035, 0.08217275142669678, 0.16131986677646637, 0.01964796520769596, 0.10001789033412933, 0.027545714750885963, 0.008717451244592667, 0.0, 0.0, 0.0, 0.0, 0.0, 0.0, 0.0, 0.0, 0.0, 0.0, 0.0, 0.0, 0.0, 0.0, 0.0, 0.0, 0.0, 0.0, 0.0, 0.0, 0.0, 0.0, 0.0, 0.0, 0.0, 0.0, 0.0, 0.0, 0.0, 0.0, 0.0, 0.0, 0.0], [0.4505443274974823, 0.19661952555179596, 0.0787121057510376, 0.1338459551334381, 0.0066233109682798386, 0.048864930868148804, 0.007101795636117458, 0.024561665952205658, 0.05312637239694595, 0.0, 0.0, 0.0, 0.0, 0.0, 0.0, 0.0, 0.0, 0.0, 0.0, 0.0, 0.0, 0.0, 0.0, 0.0, 0.0, 0.0, 0.0, 0.0, 0.0, 0.0, 0.0, 0.0, 0.0, 0.0, 0.0, 0.0, 0.0, 0.0, 0.0, 0.0, 0.0], [0.3195497989654541, 0.11107737571001053, 0.0765385702252388, 0.15660373866558075, 0.009481700137257576, 0.16155530512332916, 0.015112003311514854, 0.024307699874043465, 0.11915401369333267, 0.0066198380663990974, 0.0, 0.0, 0.0, 0.0, 0.0, 0.0, 0.0, 0.0, 0.0, 0.0, 0.0, 0.0, 0.0, 0.0, 0.0, 0.0, 0.0, 0.0, 0.0, 0.0, 0.0, 0.0, 0.0, 0.0, 0.0, 0.0, 0.0, 0.0, 0.0, 0.0, 0.0], [0.3587574362754822, 0.14813020825386047, 0.10988853126764297, 0.1041240394115448, 0.009700870141386986, 0.0538039430975914, 0.013223322108387947, 0.05851539224386215, 0.08820966631174088, 0.006486470811069012, 0.04916013032197952, 0.0, 0.0, 0.0, 0.0, 0.0, 0.0, 0.0, 0.0, 0.0, 0.0, 0.0, 0.0, 0.0, 0.0, 0.0, 0.0, 0.0, 0.0, 0.0, 0.0, 0.0, 0.0, 0.0, 0.0, 0.0, 0.0, 0.0, 0.0, 0.0, 0.0], [0.3843890130519867, 0.12318713963031769, 0.06324046850204468, 0.10715492069721222, 0.0039564939215779305, 0.12064436823129654, 0.006144639104604721, 0.02359175868332386, 0.10096842795610428, 0.0028398153372108936, 0.059385720640420914, 0.004497261252254248, 0.0, 0.0, 0.0, 0.0, 0.0, 0.0, 0.0, 0.0, 0.0, 0.0, 0.0, 0.0, 0.0, 0.0, 0.0, 0.0, 0.0, 0.0, 0.0, 0.0, 0.0, 0.0, 0.0, 0.0, 0.0, 0.0, 0.0, 0.0, 0.0], [0.31233522295951843, 0.1199454516172409, 0.06742236018180847, 0.1342024803161621, 0.006697751581668854, 0.13920004665851593, 0.009639621712267399, 0.016223784536123276, 0.10572937875986099, 0.005183457862585783, 0.07126149535179138, 0.006672348361462355, 0.005486564710736275, 0.0, 0.0, 0.0, 0.0, 0.0, 0.0, 0.0, 0.0, 0.0, 0.0, 0.0, 0.0, 0.0, 0.0, 0.0, 0.0, 0.0, 0.0, 0.0, 0.0, 0.0, 0.0, 0.0, 0.0, 0.0, 0.0, 0.0, 0.0], [0.3047980070114136, 0.1162974014878273, 0.07556632906198502, 0.15577813982963562, 0.004656132310628891, 0.10978007316589355, 0.004593174904584885, 0.027526555582880974, 0.10133910179138184, 0.0033013203646987677, 0.06289893388748169, 0.004638486076146364, 0.0032063876278698444, 0.025619978085160255, 0.0, 0.0, 0.0, 0.0, 0.0, 0.0, 0.0, 0.0, 0.0, 0.0, 0.0, 0.0, 0.0, 0.0, 0.0, 0.0, 0.0, 0.0, 0.0, 0.0, 0.0, 0.0, 0.0, 0.0, 0.0, 0.0, 0.0], [0.3930991291999817, 0.1377570480108261, 0.06468936055898666, 0.13948145508766174, 0.005315661896020174, 0.07872068881988525, 0.006437940523028374, 0.007370108738541603, 0.06000737100839615, 0.0046178908087313175, 0.05483178794384003, 0.006339005660265684, 0.004932775627821684, 0.019547531381249428, 0.01685231551527977, 0.0, 0.0, 0.0, 0.0, 0.0, 0.0, 0.0, 0.0, 0.0, 0.0, 0.0, 0.0, 0.0, 0.0, 0.0, 0.0, 0.0, 0.0, 0.0, 0.0, 0.0, 0.0, 0.0, 0.0, 0.0, 0.0], [0.2640362083911896, 0.171952486038208, 0.04957074299454689, 0.1801755279302597, 0.0053209965117275715, 0.036751098930835724, 0.0048577007837593555, 0.029754016548395157, 0.08770577609539032, 0.0036681261844933033, 0.06145915016531944, 0.00428671995177865, 0.003199176862835884, 0.016664661467075348, 0.04111156985163689, 0.039486054331064224, 0.0, 0.0, 0.0, 0.0, 0.0, 0.0, 0.0, 0.0, 0.0, 0.0, 0.0, 0.0, 0.0, 0.0, 0.0, 0.0, 0.0, 0.0, 0.0, 0.0, 0.0, 0.0, 0.0, 0.0, 0.0], [0.1263362169265747, 0.07838959991931915, 0.08584665507078171, 0.14503876864910126, 0.011907643638551235, 0.07931813597679138, 0.01326228491961956, 0.045225467532873154, 0.08356457203626633, 0.0088161900639534, 0.05496827885508537, 0.012158823199570179, 0.008805631659924984, 0.025844665244221687, 0.09028217941522598, 0.09620269387960434, 0.034032192081213, 0.0, 0.0, 0.0, 0.0, 0.0, 0.0, 0.0, 0.0, 0.0, 0.0, 0.0, 0.0, 0.0, 0.0, 0.0, 0.0, 0.0, 0.0, 0.0, 0.0, 0.0, 0.0, 0.0, 0.0], [0.1909947693347931, 0.07381010800600052, 0.05817441642284393, 0.11837037652730942, 0.006959442514926195, 0.1273389756679535, 0.009320707991719246, 0.012364900670945644, 0.07644494622945786, 0.005615592002868652, 0.06424276530742645, 0.007106732577085495, 0.005141453817486763, 0.04543512687087059, 0.039390839636325836, 0.09485273063182831, 0.05226261913776398, 0.012173588387668133, 0.0, 0.0, 0.0, 0.0, 0.0, 0.0, 0.0, 0.0, 0.0, 0.0, 0.0, 0.0, 0.0, 0.0, 0.0, 0.0, 0.0, 0.0, 0.0, 0.0, 0.0, 0.0, 0.0], [0.2537723183631897, 0.08030541986227036, 0.05798334628343582, 0.1023465245962143, 0.006843969225883484, 0.09328246116638184, 0.006335752084851265, 0.006883763708174229, 0.08180039376020432, 0.005603241268545389, 0.04702381789684296, 0.0065297516994178295, 0.005567999090999365, 0.033518236130476, 0.0186657402664423, 0.07048289477825165, 0.03577728942036629, 0.010688618756830692, 0.0765884593129158, 0.0, 0.0, 0.0, 0.0, 0.0, 0.0, 0.0, 0.0, 0.0, 0.0, 0.0, 0.0, 0.0, 0.0, 0.0, 0.0, 0.0, 0.0, 0.0, 0.0, 0.0, 0.0], [0.23583288490772247, 0.12512315809726715, 0.08132127672433853, 0.08941364288330078, 0.00508952047675848, 0.02546478994190693, 0.005998547654598951, 0.05642866715788841, 0.03914634883403778, 0.003528665518388152, 0.04108704626560211, 0.005842628423124552, 0.0030946109909564257, 0.00786665640771389, 0.07671048492193222, 0.07086651027202606, 0.015170812606811523, 0.0033277547918260098, 0.010982383042573929, 0.09770356863737106, 0.0, 0.0, 0.0, 0.0, 0.0, 0.0, 0.0, 0.0, 0.0, 0.0, 0.0, 0.0, 0.0, 0.0, 0.0, 0.0, 0.0, 0.0, 0.0, 0.0, 0.0], [0.1450255811214447, 0.04807190224528313, 0.04093381389975548, 0.08315294981002808, 0.0021785299759358168, 0.08926837146282196, 0.003431913675740361, 0.008086112327873707, 0.06423457711935043, 0.0018569122767075896, 0.04123701527714729, 0.0031092034187167883, 0.002500479342415929, 0.031468432396650314, 0.02881443314254284, 0.09269420802593231, 0.04175938665866852, 0.005584945436567068, 0.05033750832080841, 0.21294398605823517, 0.0033096633851528168, 0.0, 0.0, 0.0, 0.0, 0.0, 0.0, 0.0, 0.0, 0.0, 0.0, 0.0, 0.0, 0.0, 0.0, 0.0, 0.0, 0.0, 0.0, 0.0, 0.0], [0.2329898625612259, 0.12166400998830795, 0.059561409056186676, 0.08500485122203827, 0.003720618784427643, 0.03617279604077339, 0.004877302795648575, 0.01921406015753746, 0.06553370505571365, 0.0029021839145570993, 0.04967822507023811, 0.00738415215164423, 0.004833514802157879, 0.012848288752138615, 0.029748277738690376, 0.0680093914270401, 0.01636360026896, 0.004298708401620388, 0.010164199396967888, 0.11204554885625839, 0.003119826316833496, 0.049865543842315674, 0.0, 0.0, 0.0, 0.0, 0.0, 0.0, 0.0, 0.0, 0.0, 0.0, 0.0, 0.0, 0.0, 0.0, 0.0, 0.0, 0.0, 0.0, 0.0], [0.24949322640895844, 0.06794685125350952, 0.043388474732637405, 0.07765217125415802, 0.0012583326315507293, 0.07052397727966309, 0.0017178786220028996, 0.008705618791282177, 0.05730580538511276, 0.0009459431166760623, 0.03733927756547928, 0.0011982145952060819, 0.0008674553828313947, 0.017132269218564034, 0.02337653748691082, 0.0732254907488823, 0.02884170599281788, 0.0021990020759403706, 0.025283044204115868, 0.15982361137866974, 0.0014736258890479803, 0.04824727773666382, 0.002054214710369706, 0.0, 0.0, 0.0, 0.0, 0.0, 0.0, 0.0, 0.0, 0.0, 0.0, 0.0, 0.0, 0.0, 0.0, 0.0, 0.0, 0.0, 0.0], [0.26513054966926575, 0.07284299284219742, 0.05641629174351692, 0.07454951852560043, 0.006226992700248957, 0.047260768711566925, 0.006917072460055351, 0.028133902698755264, 0.04902777448296547, 0.004921826533973217, 0.037637971341609955, 0.008311165496706963, 0.004968726076185703, 0.011069918982684612, 0.03162397816777229, 0.049145691096782684, 0.020879555493593216, 0.005858136806637049, 0.036948613822460175, 0.08433748781681061, 0.0056687514297664165, 0.036791834980249405, 0.014270219951868057, 0.041060272604227066, 0.0, 0.0, 0.0, 0.0, 0.0, 0.0, 0.0, 0.0, 0.0, 0.0, 0.0, 0.0, 0.0, 0.0, 0.0, 0.0, 0.0], [0.19570311903953552, 0.06022442877292633, 0.04404788091778755, 0.0791926383972168, 0.0042406548745930195, 0.06885915249586105, 0.003849462838843465, 0.00461415434256196, 0.06105901673436165, 0.003576665883883834, 0.03539273142814636, 0.004193598870187998, 0.0034390147775411606, 0.022136183455586433, 0.011935416609048843, 0.05286913737654686, 0.025708813220262527, 0.006640166509896517, 0.05065733194351196, 0.11737990379333496, 0.004643251188099384, 0.024528037756681442, 0.00936061143875122, 0.04268158599734306, 0.06306707113981247, 0.0, 0.0, 0.0, 0.0, 0.0, 0.0, 0.0, 0.0, 0.0, 0.0, 0.0, 0.0, 0.0, 0.0, 0.0, 0.0], [0.20574845373630524, 0.10729775577783585, 0.06980618834495544, 0.07717740535736084, 0.003980701789259911, 0.021321004256606102, 0.004584752954542637, 0.04521021246910095, 0.03268036991357803, 0.002835859078913927, 0.034931208938360214, 0.004487401340156794, 0.002321135951206088, 0.006117148790508509, 0.05835486203432083, 0.059384651482105255, 0.012487348169088364, 0.0025474291760474443, 0.008680187165737152, 0.08220221847295761, 0.002816323423758149, 0.026504702866077423, 0.008228560909628868, 0.016434796154499054, 0.01001514308154583, 0.09384424239397049, 0.0, 0.0, 0.0, 0.0, 0.0, 0.0, 0.0, 0.0, 0.0, 0.0, 0.0, 0.0, 0.0, 0.0, 0.0], [0.13432705402374268, 0.050394777208566666, 0.03835899382829666, 0.07440360635519028, 0.0017977501265704632, 0.054146140813827515, 0.0017442188691347837, 0.01643349416553974, 0.05013936385512352, 0.001478215679526329, 0.037925295531749725, 0.0019153949106112123, 0.00135333021171391, 0.014064529910683632, 0.02057826705276966, 0.050588496029376984, 0.021659458056092262, 0.0027744141407310963, 0.04094112291932106, 0.11434724181890488, 0.0017491504549980164, 0.027994243428111076, 0.003254205919802189, 0.03202890604734421, 0.05111064016819, 0.13993524014949799, 0.014556423760950565, 0.0, 0.0, 0.0, 0.0, 0.0, 0.0, 0.0, 0.0, 0.0, 0.0, 0.0, 0.0, 0.0, 0.0], [0.3156895339488983, 0.14331072568893433, 0.03944127634167671, 0.054696470499038696, 0.005614299792796373, 0.017062751576304436, 0.006078688427805901, 0.0232526957988739, 0.02746346965432167, 0.0044851284474134445, 0.022536130622029305, 0.006815706379711628, 0.005577556323260069, 0.00562354875728488, 0.022366607561707497, 0.026608262211084366, 0.007904178462922573, 0.004080993589013815, 0.005532751325517893, 0.0479806512594223, 0.003889857791364193, 0.025208130478858948, 0.011928031221032143, 0.014793399721384048, 0.005840762052685022, 0.05195401981472969, 0.005042437929660082, 0.08922203630208969, 0.0, 0.0, 0.0, 0.0, 0.0, 0.0, 0.0, 0.0, 0.0, 0.0, 0.0, 0.0, 0.0], [0.2584274709224701, 0.08294854313135147, 0.021143771708011627, 0.03892375901341438, 0.004549223463982344, 0.009412726387381554, 0.007086732890456915, 0.006494920235127211, 0.015454472042620182, 0.004695840645581484, 0.014703094027936459, 0.007252545095980167, 0.005287021864205599, 0.004424072336405516, 0.010412555187940598, 0.019334040582180023, 0.009085964411497116, 0.004053622949868441, 0.004335047211498022, 0.04473105072975159, 0.004948917310684919, 0.024547995999455452, 0.01850028894841671, 0.015362827107310295, 0.00482740206643939, 0.051044270396232605, 0.007128418423235416, 0.20493821799755096, 0.09594520181417465, 0.0, 0.0, 0.0, 0.0, 0.0, 0.0, 0.0, 0.0, 0.0, 0.0, 0.0, 0.0], [0.1338774561882019, 0.08157768845558167, 0.03288073465228081, 0.09982641041278839, 0.0019642130937427282, 0.01937354914844036, 0.0016420609317719936, 0.011022365652024746, 0.042707521468400955, 0.001395035651512444, 0.03096548654139042, 0.0017917687073349953, 0.0013793552061542869, 0.0059233661741018295, 0.014812665991485119, 0.028291603550314903, 0.009788744151592255, 0.0016457992605865002, 0.007970929145812988, 0.11038590222597122, 0.001270228996872902, 0.016992034390568733, 0.0038185513112694025, 0.007798027712851763, 0.009068607352674007, 0.12659604847431183, 0.004836686886847019, 0.06979183852672577, 0.09237015247344971, 0.028235167264938354, 0.0, 0.0, 0.0, 0.0, 0.0, 0.0, 0.0, 0.0, 0.0, 0.0, 0.0], [0.1806851327419281, 0.03804141283035278, 0.028392665088176727, 0.04120009392499924, 0.004600756801664829, 0.019848082214593887, 0.003977338317781687, 0.00495587382465601, 0.028461428359150887, 0.004665800835937262, 0.020573502406477928, 0.006167180370539427, 0.0025748710613697767, 0.00884587224572897, 0.005801064427942038, 0.02796122431755066, 0.02309449575841427, 0.003923806361854076, 0.03334803879261017, 0.04785733297467232, 0.004981610458344221, 0.012785975821316242, 0.015078501775860786, 0.017569754272699356, 0.03765244409441948, 0.05521943047642708, 0.009237093850970268, 0.05754099041223526, 0.04103761911392212, 0.023423127830028534, 0.190497487783432, 0.0, 0.0, 0.0, 0.0, 0.0, 0.0, 0.0, 0.0, 0.0, 0.0], [0.06710555404424667, 0.020853830501437187, 0.01771409437060356, 0.03790009394288063, 0.0007944783428683877, 0.03785909339785576, 0.0012022911105304956, 0.0028206727001816034, 0.02726304717361927, 0.0007112182793207467, 0.01814354956150055, 0.0011460863752290606, 0.0008549400954507291, 0.011338382959365845, 0.009001234546303749, 0.038260117173194885, 0.01654781401157379, 0.0019376432755962014, 0.017424214631319046, 0.09041276574134827, 0.0011292287381365895, 0.02467927150428295, 0.002312484895810485, 0.03849733620882034, 0.023251626640558243, 0.1199529618024826, 0.024168675765395164, 0.07628290355205536, 0.05906204506754875, 0.049956485629081726, 0.1595200151205063, 0.0018958161817863584, 0.0, 0.0, 0.0, 0.0, 0.0, 0.0, 0.0, 0.0, 0.0], [0.1359041929244995, 0.05197244510054588, 0.04430220276117325, 0.04234401509165764, 0.001991806784644723, 0.0200637374073267, 0.002558342879638076, 0.014497919008135796, 0.033613912761211395, 0.0015643453225493431, 0.019370146095752716, 0.005286434665322304, 0.0024041866417974234, 0.006041252985596657, 0.01998785138130188, 0.056160278618335724, 0.010418320074677467, 0.001995207043364644, 0.006036823149770498, 0.05741821601986885, 0.0017180874710902572, 0.029192069545388222, 0.011633280664682388, 0.019015032798051834, 0.007039641495794058, 0.06930112093687057, 0.00673753721639514, 0.08792188763618469, 0.07915220409631729, 0.06709133833646774, 0.05132720619440079, 0.0024912578519433737, 0.03344769403338432, 0.0, 0.0, 0.0, 0.0, 0.0, 0.0, 0.0, 0.0], [0.08103349804878235, 0.028634097427129745, 0.0173347070813179, 0.036595456302165985, 0.0009283556137233973, 0.03474327176809311, 0.0012342216214165092, 0.002521030604839325, 0.02620324306190014, 0.0008369646966457367, 0.018952226266264915, 0.0010127907153218985, 0.0007310342625714839, 0.010063732974231243, 0.008133589290082455, 0.0295876394957304, 0.013055603951215744, 0.0019904363434761763, 0.015257202088832855, 0.0724659413099289, 0.0011978702386841178, 0.02012641169130802, 0.0020222633611410856, 0.028708718717098236, 0.019968383014202118, 0.09304919093847275, 0.019488530233502388, 0.06355808675289154, 0.06257015466690063, 0.04046949744224548, 0.1986984759569168, 0.0019308730261400342, 0.04507674649357796, 0.0018197923200204968, 0.0, 0.0, 0.0, 0.0, 0.0, 0.0, 0.0], [0.12921203672885895, 0.06360679119825363, 0.031565915793180466, 0.04605061560869217, 0.0017562949797138572, 0.01841365359723568, 0.002200308023020625, 0.008734392002224922, 0.03402213752269745, 0.0014268094673752785, 0.02647884003818035, 0.003517084987834096, 0.0021307209972292185, 0.0057522691786289215, 0.011855660937726498, 0.034081440418958664, 0.007952295243740082, 0.0018832521745935082, 0.004439315292984247, 0.05582471936941147, 0.0013640932738780975, 0.022482164204120636, 0.00657518208026886, 0.015257565304636955, 0.005171322729438543, 0.06556722521781921, 0.005883235950022936, 0.1168626919388771, 0.08886383473873138, 0.03732307627797127, 0.06449321657419205, 0.001937388675287366, 0.04196874424815178, 0.0035989168100059032, 0.031746767461299896, 0.0, 0.0, 0.0, 0.0, 0.0, 0.0], [0.14862604439258575, 0.039491914212703705, 0.025706753134727478, 0.03832708299160004, 0.000889291986823082, 0.030015282332897186, 0.0009435940301045775, 0.00516490638256073, 0.025833606719970703, 0.00078107655281201, 0.019693676382303238, 0.0008342128130607307, 0.0004516103072091937, 0.0052497838623821735, 0.006112487055361271, 0.030212724581360817, 0.01229088008403778, 0.0010732794180512428, 0.018423106521368027, 0.05318892374634743, 0.0008747478714212775, 0.018877211958169937, 0.0012601879425346851, 0.02055794559419155, 0.022992663085460663, 0.06571274995803833, 0.006728792563080788, 0.09159578382968903, 0.05642783269286156, 0.030100412666797638, 0.14226247370243073, 0.0013386724749580026, 0.03913060575723648, 0.0009142039343714714, 0.029879292473196983, 0.008036153391003609, 0.0, 0.0, 0.0, 0.0, 0.0], [0.2227994054555893, 0.07118538022041321, 0.024730363860726357, 0.05589719116687775, 0.0008889681193977594, 0.017393359914422035, 0.0009148819372057915, 0.003743373556062579, 0.018561337143182755, 0.0006813555955886841, 0.017642902210354805, 0.0008430659072473645, 0.0005486863083206117, 0.0025178673677146435, 0.004815899766981602, 0.0214229803532362, 0.003939889837056398, 0.0006993699353188276, 0.0026581871788948774, 0.06142474710941315, 0.0006232028244994581, 0.012664569541811943, 0.0013899455079808831, 0.009447219781577587, 0.0032187143806368113, 0.07399570196866989, 0.0033885615412145853, 0.11777368932962418, 0.08601204305887222, 0.016780728474259377, 0.06882278621196747, 0.0009428955381736159, 0.02976848930120468, 0.0009936799760907888, 0.019320491701364517, 0.00647279666736722, 0.01507528591901064, 0.0, 0.0, 0.0, 0.0], [0.11848664283752441, 0.0728590115904808, 0.021336404606699944, 0.08279296010732651, 0.0016794853145256639, 0.014761983416974545, 0.001424764166586101, 0.009245222434401512, 0.036434393376111984, 0.0012535102432593703, 0.02716817893087864, 0.0013785695191472769, 0.000930377806071192, 0.005362577736377716, 0.01080930233001709, 0.01579521968960762, 0.007349833846092224, 0.0014528690371662378, 0.0078081972897052765, 0.08309430629014969, 0.0010507259285077453, 0.01193024218082428, 0.002736344700679183, 0.006300607230514288, 0.008803809061646461, 0.09383030235767365, 0.0035984294954687357, 0.044631361961364746, 0.06924236565828323, 0.02244233340024948, 0.10980309545993805, 0.001351177808828652, 0.0373731404542923, 0.001265530358068645, 0.015696117654442787, 0.0074588279239833355, 0.01719917729496956, 0.02386253885924816, 0.0, 0.0, 0.0], [0.06819233298301697, 0.019312702119350433, 0.03592143952846527, 0.037043217569589615, 0.004177349153906107, 0.014267061837017536, 0.00554840499535203, 0.010195362381637096, 0.020343510434031487, 0.005021371878683567, 0.021676210686564445, 0.013300072401762009, 0.004913949873298407, 0.008916709572076797, 0.009421683847904205, 0.0512472428381443, 0.0315457358956337, 0.0038655265234410763, 0.007123664487153292, 0.05403546616435051, 0.005761077627539635, 0.02042458951473236, 0.03090929426252842, 0.023299971595406532, 0.008083701133728027, 0.06304546445608139, 0.005854341201484203, 0.05148467794060707, 0.028326693922281265, 0.04909916967153549, 0.03582625836133957, 0.008195636793971062, 0.03556716442108154, 0.008893231861293316, 0.027839237824082375, 0.023016780614852905, 0.028170496225357056, 0.08530592918395996, 0.03482719883322716, 0.0, 0.0], [0.1275162696838379, 0.06348661333322525, 0.040979817509651184, 0.0471668504178524, 0.002280841115862131, 0.012000123970210552, 0.002527029952034354, 0.023080306127667427, 0.018727216869592667, 0.0016557162161916494, 0.0208694189786911, 0.002550993813201785, 0.0012449253117665648, 0.003165031084790826, 0.026769516989588737, 0.032685454934835434, 0.006830313708633184, 0.0013278183760121465, 0.004303969908505678, 0.04582201689481735, 0.0014764339430257678, 0.013664837926626205, 0.004430549219250679, 0.008212127722799778, 0.004888817667961121, 0.0517270527780056, 0.0031406013295054436, 0.05315496027469635, 0.05998491868376732, 0.037083644419908524, 0.03362959995865822, 0.0019786718767136335, 0.0298091359436512, 0.0018771170871332288, 0.01829318143427372, 0.008701328188180923, 0.04006631672382355, 0.05322223901748657, 0.019235139712691307, 0.07043304294347763, 0.0], [0.0920470803976059, 0.023507891222834587, 0.014531958848237991, 0.02773839794099331, 0.0003950271930079907, 0.022269191220402718, 0.0005010171444155276, 0.0021732982713729143, 0.0184007715433836, 0.000309091730741784, 0.012877367436885834, 0.0003639209608081728, 0.00023840609355829656, 0.004559932742267847, 0.004900255240499973, 0.021731069311499596, 0.008256404660642147, 0.0005853708717040718, 0.006033238023519516, 0.04829313978552818, 0.00039490326889790595, 0.012639903463423252, 0.000554419937543571, 0.014652200974524021, 0.007992679253220558, 0.06266270577907562, 0.00693649984896183, 0.056374888867139816, 0.04511993005871773, 0.027073727920651436, 0.10553890466690063, 0.0006775488145649433, 0.031245728954672813, 0.0006112049450166523, 0.022113148123025894, 0.008338138461112976, 0.01651116833090782, 0.05215270817279816, 0.11669006943702698, 0.10072752088308334, 0.0012791450135409832]], [[1.0, 0.0, 0.0, 0.0, 0.0, 0.0, 0.0, 0.0, 0.0, 0.0, 0.0, 0.0, 0.0, 0.0, 0.0, 0.0, 0.0, 0.0, 0.0, 0.0, 0.0, 0.0, 0.0, 0.0, 0.0, 0.0, 0.0, 0.0, 0.0, 0.0, 0.0, 0.0, 0.0, 0.0, 0.0, 0.0, 0.0, 0.0, 0.0, 0.0, 0.0], [0.5357739925384521, 0.46422603726387024, 0.0, 0.0, 0.0, 0.0, 0.0, 0.0, 0.0, 0.0, 0.0, 0.0, 0.0, 0.0, 0.0, 0.0, 0.0, 0.0, 0.0, 0.0, 0.0, 0.0, 0.0, 0.0, 0.0, 0.0, 0.0, 0.0, 0.0, 0.0, 0.0, 0.0, 0.0, 0.0, 0.0, 0.0, 0.0, 0.0, 0.0, 0.0, 0.0], [0.2760705053806305, 0.29769712686538696, 0.42623233795166016, 0.0, 0.0, 0.0, 0.0, 0.0, 0.0, 0.0, 0.0, 0.0, 0.0, 0.0, 0.0, 0.0, 0.0, 0.0, 0.0, 0.0, 0.0, 0.0, 0.0, 0.0, 0.0, 0.0, 0.0, 0.0, 0.0, 0.0, 0.0, 0.0, 0.0, 0.0, 0.0, 0.0, 0.0, 0.0, 0.0, 0.0, 0.0], [0.19454489648342133, 0.21940460801124573, 0.30735599994659424, 0.2786945104598999, 0.0, 0.0, 0.0, 0.0, 0.0, 0.0, 0.0, 0.0, 0.0, 0.0, 0.0, 0.0, 0.0, 0.0, 0.0, 0.0, 0.0, 0.0, 0.0, 0.0, 0.0, 0.0, 0.0, 0.0, 0.0, 0.0, 0.0, 0.0, 0.0, 0.0, 0.0, 0.0, 0.0, 0.0, 0.0, 0.0, 0.0], [0.1594616323709488, 0.11440319567918777, 0.19068007171154022, 0.17591524124145508, 0.3595398962497711, 0.0, 0.0, 0.0, 0.0, 0.0, 0.0, 0.0, 0.0, 0.0, 0.0, 0.0, 0.0, 0.0, 0.0, 0.0, 0.0, 0.0, 0.0, 0.0, 0.0, 0.0, 0.0, 0.0, 0.0, 0.0, 0.0, 0.0, 0.0, 0.0, 0.0, 0.0, 0.0, 0.0, 0.0, 0.0, 0.0], [0.09500385075807571, 0.12151750922203064, 0.1632070243358612, 0.16405583918094635, 0.31652864813804626, 0.13968713581562042, 0.0, 0.0, 0.0, 0.0, 0.0, 0.0, 0.0, 0.0, 0.0, 0.0, 0.0, 0.0, 0.0, 0.0, 0.0, 0.0, 0.0, 0.0, 0.0, 0.0, 0.0, 0.0, 0.0, 0.0, 0.0, 0.0, 0.0, 0.0, 0.0, 0.0, 0.0, 0.0, 0.0, 0.0, 0.0], [0.14501988887786865, 0.08119850605726242, 0.13221538066864014, 0.12934955954551697, 0.20683228969573975, 0.11419656872749329, 0.19118785858154297, 0.0, 0.0, 0.0, 0.0, 0.0, 0.0, 0.0, 0.0, 0.0, 0.0, 0.0, 0.0, 0.0, 0.0, 0.0, 0.0, 0.0, 0.0, 0.0, 0.0, 0.0, 0.0, 0.0, 0.0, 0.0, 0.0, 0.0, 0.0, 0.0, 0.0, 0.0, 0.0, 0.0, 0.0], [0.05330362543463707, 0.07396791130304337, 0.113780677318573, 0.0992148295044899, 0.2210806906223297, 0.0709766298532486, 0.2158215045928955, 0.15185414254665375, 0.0, 0.0, 0.0, 0.0, 0.0, 0.0, 0.0, 0.0, 0.0, 0.0, 0.0, 0.0, 0.0, 0.0, 0.0, 0.0, 0.0, 0.0, 0.0, 0.0, 0.0, 0.0, 0.0, 0.0, 0.0, 0.0, 0.0, 0.0, 0.0, 0.0, 0.0, 0.0, 0.0], [0.07021769881248474, 0.07269337028265, 0.10548638552427292, 0.09599283337593079, 0.18954095244407654, 0.0660109668970108, 0.21391381323337555, 0.09217469394207001, 0.09396921098232269, 0.0, 0.0, 0.0, 0.0, 0.0, 0.0, 0.0, 0.0, 0.0, 0.0, 0.0, 0.0, 0.0, 0.0, 0.0, 0.0, 0.0, 0.0, 0.0, 0.0, 0.0, 0.0, 0.0, 0.0, 0.0, 0.0, 0.0, 0.0, 0.0, 0.0, 0.0, 0.0], [0.0807807669043541, 0.037192799150943756, 0.057574592530727386, 0.05867582559585571, 0.08443325012922287, 0.0665266215801239, 0.07063227891921997, 0.3770919144153595, 0.07886813580989838, 0.08822379261255264, 0.0, 0.0, 0.0, 0.0, 0.0, 0.0, 0.0, 0.0, 0.0, 0.0, 0.0, 0.0, 0.0, 0.0, 0.0, 0.0, 0.0, 0.0, 0.0, 0.0, 0.0, 0.0, 0.0, 0.0, 0.0, 0.0, 0.0, 0.0, 0.0, 0.0, 0.0], [0.06892075389623642, 0.06221706420183182, 0.08596526831388474, 0.08092637360095978, 0.126830592751503, 0.06723202019929886, 0.14327958226203918, 0.051313839852809906, 0.07278931140899658, 0.15899595618247986, 0.08152927458286285, 0.0, 0.0, 0.0, 0.0, 0.0, 0.0, 0.0, 0.0, 0.0, 0.0, 0.0, 0.0, 0.0, 0.0, 0.0, 0.0, 0.0, 0.0, 0.0, 0.0, 0.0, 0.0, 0.0, 0.0, 0.0, 0.0, 0.0, 0.0, 0.0, 0.0], [0.07370656728744507, 0.037235911935567856, 0.05581941828131676, 0.04832295700907707, 0.07183445990085602, 0.07118026167154312, 0.06590151786804199, 0.1685992032289505, 0.0586661659181118, 0.07576688379049301, 0.051355257630348206, 0.22161148488521576, 0.0, 0.0, 0.0, 0.0, 0.0, 0.0, 0.0, 0.0, 0.0, 0.0, 0.0, 0.0, 0.0, 0.0, 0.0, 0.0, 0.0, 0.0, 0.0, 0.0, 0.0, 0.0, 0.0, 0.0, 0.0, 0.0, 0.0, 0.0, 0.0], [0.060195982456207275, 0.028158333152532578, 0.04282863810658455, 0.04009462893009186, 0.06525404751300812, 0.048643339425325394, 0.05789029970765114, 0.24415385723114014, 0.055395349860191345, 0.06773940473794937, 0.04158428683876991, 0.1742689460515976, 0.07379287481307983, 0.0, 0.0, 0.0, 0.0, 0.0, 0.0, 0.0, 0.0, 0.0, 0.0, 0.0, 0.0, 0.0, 0.0, 0.0, 0.0, 0.0, 0.0, 0.0, 0.0, 0.0, 0.0, 0.0, 0.0, 0.0, 0.0, 0.0, 0.0], [0.04524819552898407, 0.04409629851579666, 0.05771606042981148, 0.050956275314092636, 0.08464472740888596, 0.04287334904074669, 0.08387485891580582, 0.05387222766876221, 0.05303247272968292, 0.1001024842262268, 0.05952170118689537, 0.1299881786108017, 0.1183820366859436, 0.0756910964846611, 0.0, 0.0, 0.0, 0.0, 0.0, 0.0, 0.0, 0.0, 0.0, 0.0, 0.0, 0.0, 0.0, 0.0, 0.0, 0.0, 0.0, 0.0, 0.0, 0.0, 0.0, 0.0, 0.0, 0.0, 0.0, 0.0, 0.0], [0.03371855244040489, 0.04142189770936966, 0.05538124218583107, 0.04781762510538101, 0.08192799985408783, 0.038798362016677856, 0.08420518785715103, 0.060777515172958374, 0.04994036629796028, 0.09883749485015869, 0.05184617266058922, 0.12332125753164291, 0.10674581676721573, 0.06472837179899216, 0.060532063245773315, 0.0, 0.0, 0.0, 0.0, 0.0, 0.0, 0.0, 0.0, 0.0, 0.0, 0.0, 0.0, 0.0, 0.0, 0.0, 0.0, 0.0, 0.0, 0.0, 0.0, 0.0, 0.0, 0.0, 0.0, 0.0, 0.0], [0.03205855190753937, 0.03672114759683609, 0.048043400049209595, 0.041327714920043945, 0.08080887794494629, 0.027867671102285385, 0.09543713182210922, 0.0384080670773983, 0.041216928511857986, 0.10763103514909744, 0.04601617157459259, 0.11649323254823685, 0.12177494168281555, 0.06400825083255768, 0.04863132908940315, 0.05355554074048996, 0.0, 0.0, 0.0, 0.0, 0.0, 0.0, 0.0, 0.0, 0.0, 0.0, 0.0, 0.0, 0.0, 0.0, 0.0, 0.0, 0.0, 0.0, 0.0, 0.0, 0.0, 0.0, 0.0, 0.0, 0.0], [0.03664979711174965, 0.03276658430695534, 0.043890517204999924, 0.04056048393249512, 0.07429063320159912, 0.03616619110107422, 0.08501643687486649, 0.04917241260409355, 0.04139244183897972, 0.09307695925235748, 0.04573717713356018, 0.10541002452373505, 0.10242661088705063, 0.06354480981826782, 0.054649025201797485, 0.04898670315742493, 0.046263180673122406, 0.0, 0.0, 0.0, 0.0, 0.0, 0.0, 0.0, 0.0, 0.0, 0.0, 0.0, 0.0, 0.0, 0.0, 0.0, 0.0, 0.0, 0.0, 0.0, 0.0, 0.0, 0.0, 0.0, 0.0], [0.03891744837164879, 0.023116862401366234, 0.03284602612257004, 0.03289872035384178, 0.0503266379237175, 0.036105528473854065, 0.04244091734290123, 0.15969642996788025, 0.04353530704975128, 0.051357451826334, 0.03459715470671654, 0.10687384754419327, 0.05584336072206497, 0.04908420145511627, 0.08136679977178574, 0.035455163568258286, 0.06232992932200432, 0.06320822238922119, 0.0, 0.0, 0.0, 0.0, 0.0, 0.0, 0.0, 0.0, 0.0, 0.0, 0.0, 0.0, 0.0, 0.0, 0.0, 0.0, 0.0, 0.0, 0.0, 0.0, 0.0, 0.0, 0.0], [0.023812133818864822, 0.02323007956147194, 0.03482882305979729, 0.02911442145705223, 0.0646958202123642, 0.02229813113808632, 0.06623038649559021, 0.04406290128827095, 0.032753828912973404, 0.08413329720497131, 0.03737196698784828, 0.11272427439689636, 0.10241801291704178, 0.05247725918889046, 0.049134623259305954, 0.03908572345972061, 0.03380953148007393, 0.08881597965955734, 0.05900280922651291, 0.0, 0.0, 0.0, 0.0, 0.0, 0.0, 0.0, 0.0, 0.0, 0.0, 0.0, 0.0, 0.0, 0.0, 0.0, 0.0, 0.0, 0.0, 0.0, 0.0, 0.0, 0.0], [0.030403470620512962, 0.03414434939622879, 0.04229274019598961, 0.03679632768034935, 0.06301809847354889, 0.02634294331073761, 0.07362774759531021, 0.0264852587133646, 0.034751445055007935, 0.08105632662773132, 0.03980150818824768, 0.0823323056101799, 0.0930464044213295, 0.052914611995220184, 0.03719961643218994, 0.047288209199905396, 0.034849852323532104, 0.07637160271406174, 0.04691505432128906, 0.040362078696489334, 0.0, 0.0, 0.0, 0.0, 0.0, 0.0, 0.0, 0.0, 0.0, 0.0, 0.0, 0.0, 0.0, 0.0, 0.0, 0.0, 0.0, 0.0, 0.0, 0.0, 0.0], [0.043027184903621674, 0.018039535731077194, 0.025340761989355087, 0.02584417536854744, 0.030050167813897133, 0.031778108328580856, 0.026497218757867813, 0.17747507989406586, 0.03694336861371994, 0.031467825174331665, 0.026425398886203766, 0.08210806548595428, 0.03416287153959274, 0.0382796972990036, 0.06956996768712997, 0.027506889775395393, 0.062365125864744186, 0.041829489171504974, 0.10695519298315048, 0.029381776228547096, 0.034952081739902496, 0.0, 0.0, 0.0, 0.0, 0.0, 0.0, 0.0, 0.0, 0.0, 0.0, 0.0, 0.0, 0.0, 0.0, 0.0, 0.0, 0.0, 0.0, 0.0, 0.0], [0.03422334045171738, 0.03152569755911827, 0.040012914687395096, 0.03370319679379463, 0.050445955246686935, 0.030170472338795662, 0.06236349046230316, 0.021199289709329605, 0.033775877207517624, 0.06459177285432816, 0.03691551089286804, 0.08355193585157394, 0.07324177771806717, 0.04688245803117752, 0.03432558849453926, 0.04637077823281288, 0.03674659878015518, 0.05432669073343277, 0.03258434683084488, 0.03830668702721596, 0.07685661315917969, 0.037878990173339844, 0.0, 0.0, 0.0, 0.0, 0.0, 0.0, 0.0, 0.0, 0.0, 0.0, 0.0, 0.0, 0.0, 0.0, 0.0, 0.0, 0.0, 0.0, 0.0], [0.0539073646068573, 0.030480077490210533, 0.0369766503572464, 0.027596518397331238, 0.024373047053813934, 0.03315439820289612, 0.02506302297115326, 0.040419042110443115, 0.030832476913928986, 0.025678958743810654, 0.02882072515785694, 0.05847819894552231, 0.028382811695337296, 0.02511812373995781, 0.03270431607961655, 0.03849993273615837, 0.0337398499250412, 0.023977676406502724, 0.02087213657796383, 0.0291811041533947, 0.027492541819810867, 0.028537563979625702, 0.2957134544849396, 0.0, 0.0, 0.0, 0.0, 0.0, 0.0, 0.0, 0.0, 0.0, 0.0, 0.0, 0.0, 0.0, 0.0, 0.0, 0.0, 0.0, 0.0], [0.015377030707895756, 0.021587694063782692, 0.028999021276831627, 0.02102522924542427, 0.05572964996099472, 0.017878063023090363, 0.059259627014398575, 0.01027278508991003, 0.01987404003739357, 0.06984592974185944, 0.02823420986533165, 0.09418297559022903, 0.09360076487064362, 0.03139869123697281, 0.026126191020011902, 0.03312775120139122, 0.017425280064344406, 0.057024188339710236, 0.01433237362653017, 0.022481709718704224, 0.0819111317396164, 0.028109991922974586, 0.11136191338300705, 0.04083374887704849, 0.0, 0.0, 0.0, 0.0, 0.0, 0.0, 0.0, 0.0, 0.0, 0.0, 0.0, 0.0, 0.0, 0.0, 0.0, 0.0, 0.0], [0.018194835633039474, 0.017594918608665466, 0.025263022631406784, 0.02096579410135746, 0.043220508843660355, 0.016584675759077072, 0.045259326696395874, 0.030863184481859207, 0.023984462022781372, 0.0566600002348423, 0.027327850461006165, 0.0757933109998703, 0.06915709376335144, 0.03770611062645912, 0.034410975873470306, 0.028517363592982292, 0.024880416691303253, 0.06081456318497658, 0.042124610394239426, 0.023586522787809372, 0.06850828230381012, 0.03231986239552498, 0.09285104274749756, 0.04060343652963638, 0.042807839810848236, 0.0, 0.0, 0.0, 0.0, 0.0, 0.0, 0.0, 0.0, 0.0, 0.0, 0.0, 0.0, 0.0, 0.0, 0.0, 0.0], [0.023741234093904495, 0.026023676618933678, 0.031130241230130196, 0.02702426165342331, 0.04281570017337799, 0.019728200510144234, 0.050961680710315704, 0.01908373273909092, 0.02580704353749752, 0.0554310567677021, 0.029418375343084335, 0.056396327912807465, 0.06371890008449554, 0.038603127002716064, 0.02657458931207657, 0.03492063656449318, 0.026060106232762337, 0.05314820259809494, 0.03426401689648628, 0.029886139556765556, 0.06594661623239517, 0.03168357163667679, 0.05328969284892082, 0.0691889077425003, 0.03504675254225731, 0.030107202008366585, 0.0, 0.0, 0.0, 0.0, 0.0, 0.0, 0.0, 0.0, 0.0, 0.0, 0.0, 0.0, 0.0, 0.0, 0.0], [0.023602742701768875, 0.020845960825681686, 0.025843270123004913, 0.025458496063947678, 0.030183501541614532, 0.024486472830176353, 0.03003486804664135, 0.028282225131988525, 0.026876183226704597, 0.03851545229554176, 0.030377410352230072, 0.05774824693799019, 0.04942968115210533, 0.03925327584147453, 0.03681299462914467, 0.029583973810076714, 0.032653383910655975, 0.047369956970214844, 0.04302854463458061, 0.029430605471134186, 0.044544633477926254, 0.033841751515865326, 0.08397556841373444, 0.05991293862462044, 0.044112429022789, 0.029928194358944893, 0.033867210149765015, 0.0, 0.0, 0.0, 0.0, 0.0, 0.0, 0.0, 0.0, 0.0, 0.0, 0.0, 0.0, 0.0, 0.0], [0.031808994710445404, 0.030864963307976723, 0.03573155030608177, 0.03716832026839256, 0.03076060861349106, 0.027416445314884186, 0.03518379107117653, 0.022921128198504448, 0.034506481140851974, 0.03779582306742668, 0.0301593616604805, 0.03992842137813568, 0.03508289158344269, 0.04115615040063858, 0.026898173615336418, 0.04068343713879585, 0.039576590061187744, 0.03369192034006119, 0.04038236290216446, 0.042819567024707794, 0.04322611168026924, 0.029209556058049202, 0.032638587057590485, 0.04929182305932045, 0.041468095034360886, 0.042906031012535095, 0.04836145043373108, 0.018361324444413185, 0.0, 0.0, 0.0, 0.0, 0.0, 0.0, 0.0, 0.0, 0.0, 0.0, 0.0, 0.0, 0.0], [0.030897095799446106, 0.027666432783007622, 0.03164967522025108, 0.031064705923199654, 0.04064013436436653, 0.021318957209587097, 0.049807239323854446, 0.02595372125506401, 0.028737563639879227, 0.04809168353676796, 0.028790753334760666, 0.04584774374961853, 0.049268756061792374, 0.03694835677742958, 0.02761848084628582, 0.034387871623039246, 0.02771267108619213, 0.04170889034867287, 0.0350164994597435, 0.0337839275598526, 0.05479681119322777, 0.030292049050331116, 0.035322945564985275, 0.044716790318489075, 0.035622600466012955, 0.033838946372270584, 0.026821807026863098, 0.014197086915373802, 0.02747972682118416, 0.0, 0.0, 0.0, 0.0, 0.0, 0.0, 0.0, 0.0, 0.0, 0.0, 0.0, 0.0], [0.02193613164126873, 0.025280455127358437, 0.028213290497660637, 0.022363554686307907, 0.03684522956609726, 0.015209600329399109, 0.048964425921440125, 0.014171017333865166, 0.023403003811836243, 0.05093250423669815, 0.026758968830108643, 0.05355445668101311, 0.059720829129219055, 0.03548641875386238, 0.022123241797089577, 0.0325690433382988, 0.021702684462070465, 0.046771399676799774, 0.026896072551608086, 0.02526438795030117, 0.06337132304906845, 0.028888605535030365, 0.05741630122065544, 0.06338571757078171, 0.027891112491488457, 0.02576332911849022, 0.033243972808122635, 0.011638089083135128, 0.02660812996327877, 0.023626750335097313, 0.0, 0.0, 0.0, 0.0, 0.0, 0.0, 0.0, 0.0, 0.0, 0.0, 0.0], [0.03759564831852913, 0.029799098148941994, 0.03290872648358345, 0.03372800350189209, 0.02471500262618065, 0.023860210552811623, 0.02410520426928997, 0.031153172254562378, 0.033916324377059937, 0.026241691783070564, 0.028505466878414154, 0.03308838605880737, 0.02689765766263008, 0.03480055555701256, 0.02921779826283455, 0.037541620433330536, 0.035070255398750305, 0.02933325432240963, 0.04245869815349579, 0.038920097053050995, 0.029524825513362885, 0.029363056644797325, 0.04810917377471924, 0.03322217985987663, 0.04418528825044632, 0.039739467203617096, 0.031632568687200546, 0.019931256771087646, 0.0318787656724453, 0.03476418927311897, 0.02379234880208969, 0.0, 0.0, 0.0, 0.0, 0.0, 0.0, 0.0, 0.0, 0.0, 0.0], [0.030880505219101906, 0.012106042355298996, 0.01559122558683157, 0.015679001808166504, 0.01538929808884859, 0.020588379353284836, 0.01420475821942091, 0.10689088702201843, 0.023415425792336464, 0.0163008701056242, 0.016392530873417854, 0.043209172785282135, 0.017647316679358482, 0.023243365809321404, 0.04031664505600929, 0.01707553304731846, 0.04056639224290848, 0.022635195404291153, 0.06584193557500839, 0.01819748431444168, 0.018252072855830193, 0.02033892273902893, 0.14553382992744446, 0.010005504824221134, 0.06736667454242706, 0.018542688339948654, 0.02408001571893692, 0.03221144527196884, 0.013089959509670734, 0.025965426117181778, 0.02934115193784237, 0.019100336357951164, 0.0, 0.0, 0.0, 0.0, 0.0, 0.0, 0.0, 0.0, 0.0], [0.026815105229616165, 0.022522835060954094, 0.026848522946238518, 0.024909522384405136, 0.029146190732717514, 0.022649720311164856, 0.03597840294241905, 0.014277991838753223, 0.023674065247178078, 0.03719603270292282, 0.02610347419977188, 0.0455641895532608, 0.04285699129104614, 0.03285529091954231, 0.02261871099472046, 0.031211530789732933, 0.027347899973392487, 0.034659069031476974, 0.02495049126446247, 0.029017234221100807, 0.043872300535440445, 0.027135537937283516, 0.04572402685880661, 0.0479426234960556, 0.025875622406601906, 0.02957967482507229, 0.036494020372629166, 0.016221648082137108, 0.023760510608553886, 0.025299986824393272, 0.019585777074098587, 0.04703063890337944, 0.03027438558638096, 0.0, 0.0, 0.0, 0.0, 0.0, 0.0, 0.0, 0.0], [0.02975369617342949, 0.012114015407860279, 0.01558625791221857, 0.014305844902992249, 0.01663174480199814, 0.019816290587186813, 0.016132822260260582, 0.08705151826143265, 0.021532198414206505, 0.01742839440703392, 0.015517288818955421, 0.04708024114370346, 0.01917482167482376, 0.02163584902882576, 0.03539370372891426, 0.016996510326862335, 0.03615845739841461, 0.022196605801582336, 0.05099179968237877, 0.016268452629446983, 0.019569996744394302, 0.019267525523900986, 0.17084649205207825, 0.009027340449392796, 0.05226174369454384, 0.016628466546535492, 0.025722410529851913, 0.02933000959455967, 0.013306308537721634, 0.024452775716781616, 0.028464874252676964, 0.020673353224992752, 0.016965968534350395, 0.02171621471643448, 0.0, 0.0, 0.0, 0.0, 0.0, 0.0, 0.0], [0.02414354309439659, 0.021246982738375664, 0.02508293092250824, 0.020891936495900154, 0.027037685737013817, 0.01968616247177124, 0.03466913849115372, 0.012784207239747047, 0.021655980497598648, 0.03501225635409355, 0.023316383361816406, 0.04539201036095619, 0.03951048105955124, 0.029119838029146194, 0.020286066457629204, 0.02928411401808262, 0.0239847581833601, 0.03054306097328663, 0.020338494330644608, 0.02416141889989376, 0.04191550612449646, 0.02403941936790943, 0.054282110184431076, 0.03647570312023163, 0.021141579374670982, 0.024718530476093292, 0.041300199925899506, 0.015028557740151882, 0.023040814325213432, 0.02313450537621975, 0.019769305363297462, 0.045396216213703156, 0.027455756440758705, 0.048560768365859985, 0.025593550875782967, 0.0, 0.0, 0.0, 0.0, 0.0, 0.0], [0.03646109253168106, 0.022009121254086494, 0.024255655705928802, 0.022560270503163338, 0.017132723703980446, 0.028978580608963966, 0.01768811047077179, 0.023548556491732597, 0.0236809104681015, 0.019359536468982697, 0.023268818855285645, 0.03936278447508812, 0.02280914969742298, 0.025175578892230988, 0.026474038138985634, 0.02638445794582367, 0.03343183174729347, 0.021110253408551216, 0.02429683320224285, 0.025065861642360687, 0.02120288647711277, 0.022857818752527237, 0.10102005302906036, 0.02877897210419178, 0.025227416306734085, 0.02589508891105652, 0.02811559848487377, 0.026680191978812218, 0.022996261715888977, 0.027853311970829964, 0.027422025799751282, 0.022940943017601967, 0.026335658505558968, 0.02671399526298046, 0.02445795387029648, 0.038447726517915726, 0.0, 0.0, 0.0, 0.0, 0.0], [0.015487484633922577, 0.021583234891295433, 0.023689264431595802, 0.01708230748772621, 0.029313966631889343, 0.016671083867549896, 0.0328361950814724, 0.00905657559633255, 0.017128806561231613, 0.03595295920968056, 0.02300301194190979, 0.04645940288901329, 0.046002548187971115, 0.023124605417251587, 0.017663223668932915, 0.026342567056417465, 0.01476876437664032, 0.03235338255763054, 0.011385587975382805, 0.01818208582699299, 0.04131804779171944, 0.02277066558599472, 0.08378715813159943, 0.03042774647474289, 0.01170104369521141, 0.018652502447366714, 0.028485409915447235, 0.012225974351167679, 0.021707553416490555, 0.02230500988662243, 0.019932786002755165, 0.04442116990685463, 0.02623574808239937, 0.05578208714723587, 0.024152647703886032, 0.031926900148391724, 0.026080500334501266, 0.0, 0.0, 0.0, 0.0], [0.016684330999851227, 0.01800127886235714, 0.02093447931110859, 0.01764843612909317, 0.027498770505189896, 0.012775509618222713, 0.03466636687517166, 0.015637753531336784, 0.01853811740875244, 0.037092771381139755, 0.020217183977365494, 0.039986420422792435, 0.04169316217303276, 0.02705324813723564, 0.018999245017766953, 0.023594772443175316, 0.018230628222227097, 0.03565429896116257, 0.025083420798182487, 0.019755413755774498, 0.044648755341768265, 0.02250254899263382, 0.044452257454395294, 0.040467519313097, 0.025927407667040825, 0.020113345235586166, 0.02313917689025402, 0.010390907526016235, 0.018072236329317093, 0.01960514858365059, 0.014941955916583538, 0.04777766764163971, 0.02337135188281536, 0.05054729804396629, 0.023513352498412132, 0.025608446449041367, 0.029136667028069496, 0.026038385927677155, 0.0, 0.0, 0.0], [0.02074315771460533, 0.019575772807002068, 0.02024978958070278, 0.021997909992933273, 0.023628560826182365, 0.021188003942370415, 0.02513783797621727, 0.014093145728111267, 0.0206319447606802, 0.027785619720816612, 0.026429278776049614, 0.02549164928495884, 0.033646274358034134, 0.030118852853775024, 0.022969834506511688, 0.022904304787516594, 0.021107874810695648, 0.032317064702510834, 0.02699240669608116, 0.025130946189165115, 0.031555745750665665, 0.027631433680653572, 0.0172082781791687, 0.05281927064061165, 0.027815815061330795, 0.025591591373085976, 0.018177680671215057, 0.013959878124296665, 0.019726553931832314, 0.022386901080608368, 0.016199560835957527, 0.033450283110141754, 0.030222127214074135, 0.03922872245311737, 0.028916731476783752, 0.022240575402975082, 0.04024689644575119, 0.024625979363918304, 0.02585580199956894, 0.0, 0.0], [0.01769012026488781, 0.018963297829031944, 0.0215147677809, 0.018377263098955154, 0.026627082377672195, 0.013994259759783745, 0.03250642865896225, 0.012824279256165028, 0.018043434247374535, 0.03445716202259064, 0.02026504836976528, 0.03491686284542084, 0.039152175188064575, 0.026276899501681328, 0.017374424263834953, 0.024177374318242073, 0.018297411501407623, 0.03368159011006355, 0.0232552420347929, 0.020434414967894554, 0.041033785790205, 0.021891584619879723, 0.036151304841041565, 0.04803691431879997, 0.024045366793870926, 0.020789900794625282, 0.01936575025320053, 0.009769873693585396, 0.01917620562016964, 0.01892973855137825, 0.013748763129115105, 0.043381333351135254, 0.023166947066783905, 0.04668585956096649, 0.02270093373954296, 0.022078102454543114, 0.030172161757946014, 0.026272254064679146, 0.018271736800670624, 0.021501902490854263, 0.0], [0.034127868711948395, 0.01798073761165142, 0.019607236608862877, 0.014291761443018913, 0.01004518661648035, 0.018541395664215088, 0.010891472920775414, 0.019973162561655045, 0.01672658510506153, 0.010646245442330837, 0.015196222811937332, 0.02428559772670269, 0.011547906324267387, 0.01280071958899498, 0.015395797789096832, 0.020471548661589622, 0.018556661903858185, 0.010390561074018478, 0.010565396398305893, 0.015349002555012703, 0.011423781514167786, 0.015077353455126286, 0.149500772356987, 0.006373710930347443, 0.011065698228776455, 0.016168849542737007, 0.01843242160975933, 0.020836221054196358, 0.018307730555534363, 0.025709418579936028, 0.024453148245811462, 0.012930022552609444, 0.017846714705228806, 0.014247763901948929, 0.016864312812685966, 0.0270038191229105, 0.012253686785697937, 0.024790054187178612, 0.020755542442202568, 0.01798001304268837, 0.19058789312839508]], [[1.0, 0.0, 0.0, 0.0, 0.0, 0.0, 0.0, 0.0, 0.0, 0.0, 0.0, 0.0, 0.0, 0.0, 0.0, 0.0, 0.0, 0.0, 0.0, 0.0, 0.0, 0.0, 0.0, 0.0, 0.0, 0.0, 0.0, 0.0, 0.0, 0.0, 0.0, 0.0, 0.0, 0.0, 0.0, 0.0, 0.0, 0.0, 0.0, 0.0, 0.0], [0.7345787286758423, 0.2654212713241577, 0.0, 0.0, 0.0, 0.0, 0.0, 0.0, 0.0, 0.0, 0.0, 0.0, 0.0, 0.0, 0.0, 0.0, 0.0, 0.0, 0.0, 0.0, 0.0, 0.0, 0.0, 0.0, 0.0, 0.0, 0.0, 0.0, 0.0, 0.0, 0.0, 0.0, 0.0, 0.0, 0.0, 0.0, 0.0, 0.0, 0.0, 0.0, 0.0], [0.4159279465675354, 0.2588779926300049, 0.32519397139549255, 0.0, 0.0, 0.0, 0.0, 0.0, 0.0, 0.0, 0.0, 0.0, 0.0, 0.0, 0.0, 0.0, 0.0, 0.0, 0.0, 0.0, 0.0, 0.0, 0.0, 0.0, 0.0, 0.0, 0.0, 0.0, 0.0, 0.0, 0.0, 0.0, 0.0, 0.0, 0.0, 0.0, 0.0, 0.0, 0.0, 0.0, 0.0], [0.30834436416625977, 0.18428076803684235, 0.2340623438358307, 0.2733125686645508, 0.0, 0.0, 0.0, 0.0, 0.0, 0.0, 0.0, 0.0, 0.0, 0.0, 0.0, 0.0, 0.0, 0.0, 0.0, 0.0, 0.0, 0.0, 0.0, 0.0, 0.0, 0.0, 0.0, 0.0, 0.0, 0.0, 0.0, 0.0, 0.0, 0.0, 0.0, 0.0, 0.0, 0.0, 0.0, 0.0, 0.0], [0.324924498796463, 0.1833817958831787, 0.18228717148303986, 0.13820767402648926, 0.17119888961315155, 0.0, 0.0, 0.0, 0.0, 0.0, 0.0, 0.0, 0.0, 0.0, 0.0, 0.0, 0.0, 0.0, 0.0, 0.0, 0.0, 0.0, 0.0, 0.0, 0.0, 0.0, 0.0, 0.0, 0.0, 0.0, 0.0, 0.0, 0.0, 0.0, 0.0, 0.0, 0.0, 0.0, 0.0, 0.0, 0.0], [0.13771137595176697, 0.09765145182609558, 0.10021413117647171, 0.10773733258247375, 0.5255754590034485, 0.03111032210290432, 0.0, 0.0, 0.0, 0.0, 0.0, 0.0, 0.0, 0.0, 0.0, 0.0, 0.0, 0.0, 0.0, 0.0, 0.0, 0.0, 0.0, 0.0, 0.0, 0.0, 0.0, 0.0, 0.0, 0.0, 0.0, 0.0, 0.0, 0.0, 0.0, 0.0, 0.0, 0.0, 0.0, 0.0, 0.0], [0.26118287444114685, 0.17272134125232697, 0.19837667047977448, 0.1323091685771942, 0.14074762165546417, 0.014734684489667416, 0.07992762327194214, 0.0, 0.0, 0.0, 0.0, 0.0, 0.0, 0.0, 0.0, 0.0, 0.0, 0.0, 0.0, 0.0, 0.0, 0.0, 0.0, 0.0, 0.0, 0.0, 0.0, 0.0, 0.0, 0.0, 0.0, 0.0, 0.0, 0.0, 0.0, 0.0, 0.0, 0.0, 0.0, 0.0, 0.0], [0.11619256436824799, 0.07165861874818802, 0.09934896975755692, 0.0661320760846138, 0.20606787502765656, 0.009600766003131866, 0.14653034508228302, 0.28446874022483826, 0.0, 0.0, 0.0, 0.0, 0.0, 0.0, 0.0, 0.0, 0.0, 0.0, 0.0, 0.0, 0.0, 0.0, 0.0, 0.0, 0.0, 0.0, 0.0, 0.0, 0.0, 0.0, 0.0, 0.0, 0.0, 0.0, 0.0, 0.0, 0.0, 0.0, 0.0, 0.0, 0.0], [0.07897994667291641, 0.03681096434593201, 0.05388278514146805, 0.029126156121492386, 0.06461918354034424, 0.0026786401867866516, 0.038148775696754456, 0.2532639503479004, 0.4424895942211151, 0.0, 0.0, 0.0, 0.0, 0.0, 0.0, 0.0, 0.0, 0.0, 0.0, 0.0, 0.0, 0.0, 0.0, 0.0, 0.0, 0.0, 0.0, 0.0, 0.0, 0.0, 0.0, 0.0, 0.0, 0.0, 0.0, 0.0, 0.0, 0.0, 0.0, 0.0, 0.0], [0.11636698991060257, 0.06694657355546951, 0.07286909222602844, 0.04524896666407585, 0.06028372421860695, 0.007583250757306814, 0.0324852354824543, 0.21975907683372498, 0.32403087615966797, 0.05442623794078827, 0.0, 0.0, 0.0, 0.0, 0.0, 0.0, 0.0, 0.0, 0.0, 0.0, 0.0, 0.0, 0.0, 0.0, 0.0, 0.0, 0.0, 0.0, 0.0, 0.0, 0.0, 0.0, 0.0, 0.0, 0.0, 0.0, 0.0, 0.0, 0.0, 0.0, 0.0], [0.08398747444152832, 0.04457303509116173, 0.05729611590504646, 0.05023669824004173, 0.09037060290575027, 0.009343852289021015, 0.10080687701702118, 0.17299450933933258, 0.23278044164180756, 0.08793345093727112, 0.06967687606811523, 0.0, 0.0, 0.0, 0.0, 0.0, 0.0, 0.0, 0.0, 0.0, 0.0, 0.0, 0.0, 0.0, 0.0, 0.0, 0.0, 0.0, 0.0, 0.0, 0.0, 0.0, 0.0, 0.0, 0.0, 0.0, 0.0, 0.0, 0.0, 0.0, 0.0], [0.1324632614850998, 0.07254108041524887, 0.07389495521783829, 0.03954542055726051, 0.036574069410562515, 0.005779081955552101, 0.01434443797916174, 0.18733806908130646, 0.3069649934768677, 0.033594004809856415, 0.07821603864431381, 0.018744628876447678, 0.0, 0.0, 0.0, 0.0, 0.0, 0.0, 0.0, 0.0, 0.0, 0.0, 0.0, 0.0, 0.0, 0.0, 0.0, 0.0, 0.0, 0.0, 0.0, 0.0, 0.0, 0.0, 0.0, 0.0, 0.0, 0.0, 0.0, 0.0, 0.0], [0.10537882894277573, 0.05394097790122032, 0.05992088094353676, 0.03338570147752762, 0.04170990735292435, 0.005397082772105932, 0.01580016501247883, 0.2104177325963974, 0.3123876452445984, 0.034823570400476456, 0.054650451987981796, 0.019538918510079384, 0.05264812335371971, 0.0, 0.0, 0.0, 0.0, 0.0, 0.0, 0.0, 0.0, 0.0, 0.0, 0.0, 0.0, 0.0, 0.0, 0.0, 0.0, 0.0, 0.0, 0.0, 0.0, 0.0, 0.0, 0.0, 0.0, 0.0, 0.0, 0.0, 0.0], [0.12690627574920654, 0.06208295002579689, 0.08998454362154007, 0.037899427115917206, 0.018921224400401115, 0.0036073436494916677, 0.008966278284788132, 0.10444615036249161, 0.3666638433933258, 0.010175616480410099, 0.027431190013885498, 0.010712843388319016, 0.013436319306492805, 0.11876599490642548, 0.0, 0.0, 0.0, 0.0, 0.0, 0.0, 0.0, 0.0, 0.0, 0.0, 0.0, 0.0, 0.0, 0.0, 0.0, 0.0, 0.0, 0.0, 0.0, 0.0, 0.0, 0.0, 0.0, 0.0, 0.0, 0.0, 0.0], [0.07267168909311295, 0.037537358701229095, 0.04929521307349205, 0.026712855324149132, 0.05554664507508278, 0.004319922067224979, 0.030638694763183594, 0.14338737726211548, 0.20927630364894867, 0.03390497714281082, 0.027472851797938347, 0.03608037158846855, 0.04374424368143082, 0.06838753819465637, 0.16102398931980133, 0.0, 0.0, 0.0, 0.0, 0.0, 0.0, 0.0, 0.0, 0.0, 0.0, 0.0, 0.0, 0.0, 0.0, 0.0, 0.0, 0.0, 0.0, 0.0, 0.0, 0.0, 0.0, 0.0, 0.0, 0.0, 0.0], [0.03608354553580284, 0.02684488333761692, 0.04786822572350502, 0.031283050775527954, 0.026331568136811256, 0.0019182701362296939, 0.02716680057346821, 0.09621021151542664, 0.3377112150192261, 0.01613193191587925, 0.019421467557549477, 0.027212854474782944, 0.026446666568517685, 0.05342893674969673, 0.16574276983737946, 0.06019763648509979, 0.0, 0.0, 0.0, 0.0, 0.0, 0.0, 0.0, 0.0, 0.0, 0.0, 0.0, 0.0, 0.0, 0.0, 0.0, 0.0, 0.0, 0.0, 0.0, 0.0, 0.0, 0.0, 0.0, 0.0, 0.0], [0.04402885213494301, 0.033183082938194275, 0.06192987784743309, 0.031489335000514984, 0.028465406969189644, 0.005483557935804129, 0.034742970019578934, 0.07320820540189743, 0.2480224072933197, 0.022440675646066666, 0.02576376684010029, 0.04165632277727127, 0.02849697135388851, 0.05862552672624588, 0.15817825496196747, 0.07223861664533615, 0.03204617649316788, 0.0, 0.0, 0.0, 0.0, 0.0, 0.0, 0.0, 0.0, 0.0, 0.0, 0.0, 0.0, 0.0, 0.0, 0.0, 0.0, 0.0, 0.0, 0.0, 0.0, 0.0, 0.0, 0.0, 0.0], [0.080292247235775, 0.044690001755952835, 0.05965966731309891, 0.028835441917181015, 0.01244315318763256, 0.0032519889064133167, 0.00887593999505043, 0.07690472155809402, 0.22753989696502686, 0.009523218497633934, 0.028751369565725327, 0.013692999258637428, 0.014792726375162601, 0.0830242857336998, 0.19129396975040436, 0.07638999819755554, 0.021690567955374718, 0.018347764387726784, 0.0, 0.0, 0.0, 0.0, 0.0, 0.0, 0.0, 0.0, 0.0, 0.0, 0.0, 0.0, 0.0, 0.0, 0.0, 0.0, 0.0, 0.0, 0.0, 0.0, 0.0, 0.0, 0.0], [0.06887566298246384, 0.03243299946188927, 0.04820770025253296, 0.022943846881389618, 0.021662121638655663, 0.003444300964474678, 0.01811649464070797, 0.0891457200050354, 0.2349867820739746, 0.01314611453562975, 0.01750928908586502, 0.0244330745190382, 0.01482966635376215, 0.048658356070518494, 0.13397759199142456, 0.047756727784872055, 0.022176643833518028, 0.022277766838669777, 0.11541914939880371, 0.0, 0.0, 0.0, 0.0, 0.0, 0.0, 0.0, 0.0, 0.0, 0.0, 0.0, 0.0, 0.0, 0.0, 0.0, 0.0, 0.0, 0.0, 0.0, 0.0, 0.0, 0.0], [0.03983626142144203, 0.02578888274729252, 0.04168160632252693, 0.04007096216082573, 0.018163813278079033, 0.0012776866788044572, 0.0288237277418375, 0.07468385249376297, 0.3038099408149719, 0.010682545602321625, 0.01699460670351982, 0.02865930274128914, 0.022004807367920876, 0.03205925226211548, 0.12336890399456024, 0.05633276328444481, 0.01178838312625885, 0.015515705570578575, 0.04949316009879112, 0.0589638389647007, 0.0, 0.0, 0.0, 0.0, 0.0, 0.0, 0.0, 0.0, 0.0, 0.0, 0.0, 0.0, 0.0, 0.0, 0.0, 0.0, 0.0, 0.0, 0.0, 0.0, 0.0], [0.055413868278265, 0.033306002616882324, 0.03966335579752922, 0.020995814353227615, 0.018561722710728645, 0.004157384391874075, 0.01034635305404663, 0.07722645998001099, 0.1504444032907486, 0.017421714961528778, 0.031255073845386505, 0.015397140756249428, 0.025305433198809624, 0.08294831216335297, 0.1377592384815216, 0.052697014063596725, 0.026054630056023598, 0.03309794142842293, 0.11311350017786026, 0.030093884095549583, 0.024740727618336678, 0.0, 0.0, 0.0, 0.0, 0.0, 0.0, 0.0, 0.0, 0.0, 0.0, 0.0, 0.0, 0.0, 0.0, 0.0, 0.0, 0.0, 0.0, 0.0, 0.0], [0.042997460812330246, 0.02467782236635685, 0.0328972227871418, 0.02323594130575657, 0.03434502333402634, 0.005517774727195501, 0.030630014836788177, 0.07426093518733978, 0.11800726503133774, 0.03281092643737793, 0.030326643958687782, 0.02855001762509346, 0.04342138022184372, 0.06298481673002243, 0.0964934453368187, 0.033186137676239014, 0.026162954047322273, 0.04246661439538002, 0.0950014665722847, 0.026144471019506454, 0.04108855500817299, 0.05479314178228378, 0.0, 0.0, 0.0, 0.0, 0.0, 0.0, 0.0, 0.0, 0.0, 0.0, 0.0, 0.0, 0.0, 0.0, 0.0, 0.0, 0.0, 0.0, 0.0], [0.06283344328403473, 0.033198654651641846, 0.039076849818229675, 0.01881990022957325, 0.008785393089056015, 0.0032551907934248447, 0.0032716444693505764, 0.06792355328798294, 0.14316251873970032, 0.00858236849308014, 0.031115854158997536, 0.003952395170927048, 0.013819178566336632, 0.10291259735822678, 0.13654664158821106, 0.04964754357933998, 0.021580742672085762, 0.01808912679553032, 0.11576477438211441, 0.025561507791280746, 0.01157490536570549, 0.07462437450885773, 0.005900826305150986, 0.0, 0.0, 0.0, 0.0, 0.0, 0.0, 0.0, 0.0, 0.0, 0.0, 0.0, 0.0, 0.0, 0.0, 0.0, 0.0, 0.0, 0.0], [0.055581655353307724, 0.0277862586081028, 0.04234687611460686, 0.029123330488801003, 0.021189969033002853, 0.002729233121499419, 0.02781602554023266, 0.04494079202413559, 0.1375582367181778, 0.01688314974308014, 0.021966436877846718, 0.020838290452957153, 0.026856588199734688, 0.05212615057826042, 0.07882315665483475, 0.036197368055582047, 0.013900444842875004, 0.01928032748401165, 0.040518611669540405, 0.028740476816892624, 0.018772460520267487, 0.034570176154375076, 0.04974368214607239, 0.1517103612422943, 0.0, 0.0, 0.0, 0.0, 0.0, 0.0, 0.0, 0.0, 0.0, 0.0, 0.0, 0.0, 0.0, 0.0, 0.0, 0.0, 0.0], [0.04806769639253616, 0.021751901134848595, 0.03259482607245445, 0.015298581682145596, 0.013509877026081085, 0.002390987239778042, 0.011320710182189941, 0.05428697168827057, 0.1523643434047699, 0.008024013601243496, 0.010476420633494854, 0.015040664933621883, 0.008669168688356876, 0.030730828642845154, 0.08345799893140793, 0.03155696392059326, 0.014017445966601372, 0.0135193457826972, 0.07308756560087204, 0.01610213704407215, 0.009282760322093964, 0.020993543788790703, 0.06662584096193314, 0.1596924215555191, 0.08713699877262115, 0.0, 0.0, 0.0, 0.0, 0.0, 0.0, 0.0, 0.0, 0.0, 0.0, 0.0, 0.0, 0.0, 0.0, 0.0, 0.0], [0.028157906606793404, 0.017741721123456955, 0.02882046066224575, 0.027585476636886597, 0.011599370278418064, 0.0008985332679003477, 0.018762655556201935, 0.04782366007566452, 0.20366637408733368, 0.006664872635155916, 0.010651042684912682, 0.018365638330578804, 0.013319162651896477, 0.020592959597706795, 0.0795920118689537, 0.03843330219388008, 0.007708128076046705, 0.009588484652340412, 0.03191094473004341, 0.03991211950778961, 0.009016667492687702, 0.01599940098822117, 0.10813280194997787, 0.12103862315416336, 0.038165055215358734, 0.045852649956941605, 0.0, 0.0, 0.0, 0.0, 0.0, 0.0, 0.0, 0.0, 0.0, 0.0, 0.0, 0.0, 0.0, 0.0, 0.0], [0.062255166471004486, 0.03050723858177662, 0.04909919947385788, 0.01883532665669918, 0.0041863759979605675, 0.0016193880001083016, 0.004434425383806229, 0.033603206276893616, 0.19242486357688904, 0.00229538232088089, 0.010626040399074554, 0.005836583208292723, 0.003234897507354617, 0.02589351125061512, 0.10204330086708069, 0.05148432031273842, 0.008925936184823513, 0.003733033547177911, 0.02660352550446987, 0.020288309082388878, 0.002589653478935361, 0.02075321041047573, 0.03608531504869461, 0.1024245172739029, 0.032134413719177246, 0.02390490658581257, 0.1241779550909996, 0.0, 0.0, 0.0, 0.0, 0.0, 0.0, 0.0, 0.0, 0.0, 0.0, 0.0, 0.0, 0.0, 0.0], [0.027851637452840805, 0.014703922905027866, 0.017749037593603134, 0.02109629102051258, 0.041103020310401917, 0.003722304245457053, 0.05830530449748039, 0.03142976760864258, 0.06021668389439583, 0.039310090243816376, 0.015920475125312805, 0.0471268929541111, 0.060200415551662445, 0.02795291878283024, 0.03409538418054581, 0.01768277958035469, 0.014400981366634369, 0.04171319678425789, 0.03369414061307907, 0.02496977150440216, 0.050068456679582596, 0.0210794135928154, 0.06732495129108429, 0.09464022517204285, 0.038176678121089935, 0.027262402698397636, 0.05365774780511856, 0.014545099809765816, 0.0, 0.0, 0.0, 0.0, 0.0, 0.0, 0.0, 0.0, 0.0, 0.0, 0.0, 0.0, 0.0], [0.021145012229681015, 0.01186229195445776, 0.01316806860268116, 0.014756719581782818, 0.044723864644765854, 0.0029249638319015503, 0.04285665974020958, 0.05024515837430954, 0.06900981068611145, 0.03594237193465233, 0.012128601782023907, 0.037155259400606155, 0.051015518605709076, 0.02379559352993965, 0.034245532006025314, 0.013373165391385555, 0.015043685212731361, 0.04597967490553856, 0.06189339607954025, 0.017360389232635498, 0.045643482357263565, 0.019498437643051147, 0.05273978039622307, 0.10750022530555725, 0.07044759392738342, 0.0188746377825737, 0.045417606830596924, 0.010481900535523891, 0.010770576074719429, 0.0, 0.0, 0.0, 0.0, 0.0, 0.0, 0.0, 0.0, 0.0, 0.0, 0.0, 0.0], [0.0194021537899971, 0.01188703253865242, 0.018685253337025642, 0.014268763363361359, 0.0182831771671772, 0.0013714255765080452, 0.016214987263083458, 0.04502062126994133, 0.1368173062801361, 0.011643840000033379, 0.008666133508086205, 0.014172633178532124, 0.016353534534573555, 0.027583476155996323, 0.06106000766158104, 0.022166980430483818, 0.010000517591834068, 0.018263593316078186, 0.060660600662231445, 0.018041908740997314, 0.014758510515093803, 0.017308879643678665, 0.041974641382694244, 0.14533266425132751, 0.07212414592504501, 0.02048605866730213, 0.09012102335691452, 0.011525565758347511, 0.01267126016318798, 0.02313324622809887, 0.0, 0.0, 0.0, 0.0, 0.0, 0.0, 0.0, 0.0, 0.0, 0.0, 0.0], [0.03770490363240242, 0.01753046177327633, 0.02492145262658596, 0.017645196989178658, 0.016308359801769257, 0.002385984407737851, 0.014602648094296455, 0.030547671020030975, 0.09439829736948013, 0.009073439054191113, 0.007681695278733969, 0.015729572623968124, 0.011062229052186012, 0.026325536891818047, 0.0437927283346653, 0.024257514625787735, 0.009961201809346676, 0.013936030678451061, 0.04343940690159798, 0.018214993178844452, 0.010148138739168644, 0.012258647009730339, 0.06673564016819, 0.13772404193878174, 0.049961548298597336, 0.020647147670388222, 0.07973024249076843, 0.012648404575884342, 0.015626059845089912, 0.025951994583010674, 0.0890488550066948, 0.0, 0.0, 0.0, 0.0, 0.0, 0.0, 0.0, 0.0, 0.0, 0.0], [0.03146536275744438, 0.017425011843442917, 0.020974623039364815, 0.011137142777442932, 0.009687905199825764, 0.0024767194408923388, 0.0052641709335148335, 0.03672466427087784, 0.07461390644311905, 0.008472045883536339, 0.013774502091109753, 0.007249769754707813, 0.011168120428919792, 0.040519893169403076, 0.06356498599052429, 0.02618785947561264, 0.012523188255727291, 0.015617637895047665, 0.0552591010928154, 0.014759453013539314, 0.01098226010799408, 0.027112070471048355, 0.01638799160718918, 0.09418295323848724, 0.06803212314844131, 0.01719457469880581, 0.08475856482982635, 0.026294022798538208, 0.02022588439285755, 0.03126668557524681, 0.10780436545610428, 0.01689247600734234, 0.0, 0.0, 0.0, 0.0, 0.0, 0.0, 0.0, 0.0, 0.0], [0.02811392769217491, 0.014164051972329617, 0.019757576286792755, 0.016042722389101982, 0.021606093272566795, 0.0036205602809786797, 0.025651592761278152, 0.0403476357460022, 0.06872034817934036, 0.02030796930193901, 0.015683799982070923, 0.025305578485131264, 0.025673994794487953, 0.02726571261882782, 0.04696277156472206, 0.019738391041755676, 0.01575568877160549, 0.02426358498632908, 0.04893174394965172, 0.01784350909292698, 0.024544579908251762, 0.02518118917942047, 0.04426619037985802, 0.08866894245147705, 0.057284705340862274, 0.019940825179219246, 0.060902535915374756, 0.013405942358076572, 0.013175031170248985, 0.021355386823415756, 0.04807804152369499, 0.03345104679465294, 0.02398836985230446, 0.0, 0.0, 0.0, 0.0, 0.0, 0.0, 0.0, 0.0], [0.03293795883655548, 0.015368015505373478, 0.018179429695010185, 0.009497608989477158, 0.009849979542195797, 0.0019485221710056067, 0.00363373477011919, 0.04554944857954979, 0.08062613010406494, 0.007650523912161589, 0.010665635578334332, 0.004192502237856388, 0.009624560363590717, 0.04161975905299187, 0.06422320008277893, 0.019676025956869125, 0.01069401390850544, 0.015535200014710426, 0.0738697350025177, 0.011129945516586304, 0.008990474976599216, 0.022488947957754135, 0.008294844068586826, 0.091907799243927, 0.09012369066476822, 0.01280231773853302, 0.059475526213645935, 0.02111985720694065, 0.014951218850910664, 0.01766190305352211, 0.11643200367689133, 0.013539424166083336, 0.01750786602497101, 0.018232230097055435, 0.0, 0.0, 0.0, 0.0, 0.0, 0.0, 0.0], [0.02717582881450653, 0.014332067221403122, 0.019152015447616577, 0.013789745047688484, 0.01953881047666073, 0.0034580740612000227, 0.017417633906006813, 0.03960711881518364, 0.06560631841421127, 0.017447933554649353, 0.015199130401015282, 0.015003284439444542, 0.021553071215748787, 0.033817701041698456, 0.04914725199341774, 0.018197134137153625, 0.013850481249392033, 0.021821681410074234, 0.05060720071196556, 0.0143850427120924, 0.020036520436406136, 0.026676476001739502, 0.020407268777489662, 0.0872836783528328, 0.05949866399168968, 0.016066908836364746, 0.05991269275546074, 0.014147011563181877, 0.012724610045552254, 0.01727045141160488, 0.05124209076166153, 0.027890266850590706, 0.022782830521464348, 0.03674151375889778, 0.03621148318052292, 0.0, 0.0, 0.0, 0.0, 0.0, 0.0], [0.06009211018681526, 0.02554566226899624, 0.03239094093441963, 0.014605297707021236, 0.002792324870824814, 0.001267382875084877, 0.0016795011470094323, 0.01870419830083847, 0.07327984273433685, 0.0016464365180581808, 0.008060083724558353, 0.0018887992482632399, 0.0024519814178347588, 0.02989344857633114, 0.05318674445152283, 0.029345009475946426, 0.004420898389071226, 0.0027809725143015385, 0.01961541175842285, 0.014522622339427471, 0.001701965695247054, 0.014863812364637852, 0.008193730376660824, 0.11298728734254837, 0.0235437024384737, 0.017030976712703705, 0.0625775083899498, 0.026301655918359756, 0.02272735722362995, 0.026989905163645744, 0.12268178910017014, 0.0025084891822189093, 0.012983143329620361, 0.0044635869562625885, 0.021455083042383194, 0.12082034349441528, 0.0, 0.0, 0.0, 0.0, 0.0], [0.02232876420021057, 0.01153576374053955, 0.017103707417845726, 0.012567237950861454, 0.017846649512648582, 0.001660553622059524, 0.013753121718764305, 0.03646312281489372, 0.07397504150867462, 0.012330190278589725, 0.00981416180729866, 0.009213311597704887, 0.017255505546927452, 0.02927222102880478, 0.04827776551246643, 0.014505981467664242, 0.0071281869895756245, 0.01571476086974144, 0.03424214944243431, 0.011950504966080189, 0.013268145732581615, 0.017352169379591942, 0.014042769558727741, 0.07856690883636475, 0.04050203412771225, 0.013423508033156395, 0.05602193623781204, 0.010509125888347626, 0.008996347896754742, 0.011730514466762543, 0.04278314486145973, 0.018840910866856575, 0.014282449148595333, 0.029423503205180168, 0.02406184747815132, 0.10660863667726517, 0.08264728635549545, 0.0, 0.0, 0.0, 0.0], [0.014349560253322124, 0.009770920500159264, 0.018158413469791412, 0.011681005358695984, 0.008731741458177567, 0.0008129985653795302, 0.009123623371124268, 0.029299184679985046, 0.11554407328367233, 0.004845480900257826, 0.005363100674003363, 0.008393954485654831, 0.006955870892852545, 0.016774024814367294, 0.05042130872607231, 0.02112661674618721, 0.005754281301051378, 0.007343531586229801, 0.02978486754000187, 0.013726158067584038, 0.005558435805141926, 0.010404223576188087, 0.0416516475379467, 0.07795202732086182, 0.034943465143442154, 0.015586226247251034, 0.06632765382528305, 0.007528115529567003, 0.010203284211456776, 0.020824264734983444, 0.05277969315648079, 0.0074533093720674515, 0.008051587268710136, 0.01143921259790659, 0.013562764041125774, 0.11112011224031448, 0.08236221969127655, 0.0342910960316658, 0.0, 0.0, 0.0], [0.006635194178670645, 0.004720523487776518, 0.006151287816464901, 0.006292136386036873, 0.024004003033041954, 0.0027238677721470594, 0.017473118379712105, 0.03358518332242966, 0.03434370085597038, 0.024873558431863785, 0.00926005095243454, 0.014899788424372673, 0.0272350050508976, 0.021268723532557487, 0.024137498810887337, 0.008023049682378769, 0.013778148218989372, 0.03829968720674515, 0.08185962587594986, 0.008617029525339603, 0.03380627557635307, 0.01791938953101635, 0.014560415409505367, 0.06857739388942719, 0.09625931084156036, 0.00945258978754282, 0.03867807611823082, 0.006384286563843489, 0.005608114879578352, 0.008176853880286217, 0.023395292460918427, 0.04518198221921921, 0.014131912961602211, 0.045795246958732605, 0.022763989865779877, 0.045045021921396255, 0.07972029596567154, 0.01197801437228918, 0.00438431091606617, 0.0, 0.0], [0.016565991565585136, 0.009821570478379726, 0.016113881021738052, 0.015978503972291946, 0.006619932129979134, 0.0005325720994733274, 0.010594572871923447, 0.02518538199365139, 0.1097792237997055, 0.0035299586597830057, 0.005354395601898432, 0.009590269066393375, 0.006718091666698456, 0.010693381540477276, 0.03929014503955841, 0.02023060992360115, 0.003969134297221899, 0.004889813717454672, 0.016198020428419113, 0.021326180547475815, 0.00441321823745966, 0.007738820277154446, 0.05715133249759674, 0.06261980533599854, 0.019256992265582085, 0.024516629055142403, 0.06919404119253159, 0.009801555424928665, 0.011809861287474632, 0.02608543448150158, 0.04449152201414108, 0.006036151200532913, 0.008899920620024204, 0.012263840064406395, 0.010439962148666382, 0.13806027173995972, 0.06628038734197617, 0.03497161716222763, 0.0009513193508610129, 0.03203565999865532, 0.0], [0.025499368086457253, 0.011909687891602516, 0.01420885231345892, 0.007204261142760515, 0.003105461597442627, 0.0012961751781404018, 0.001130131771788001, 0.021344440057873726, 0.04816557839512825, 0.002634098520502448, 0.008865258656442165, 0.0011883408296853304, 0.0038428842090070248, 0.032140228897333145, 0.038805972784757614, 0.016161765903234482, 0.006525680888444185, 0.00521865114569664, 0.034695371985435486, 0.008464635349810123, 0.003054054919630289, 0.019876815378665924, 0.001877459930256009, 0.07730001211166382, 0.04303647577762604, 0.009867215529084206, 0.03776514530181885, 0.022079942747950554, 0.013115668669342995, 0.013398434966802597, 0.09090185165405273, 0.004744826350361109, 0.015463362447917461, 0.007694318890571594, 0.02960505709052086, 0.06053963676095009, 0.20790092647075653, 0.030479764565825462, 0.0013406627112999558, 0.013927062973380089, 0.003624486969783902]], [[1.0, 0.0, 0.0, 0.0, 0.0, 0.0, 0.0, 0.0, 0.0, 0.0, 0.0, 0.0, 0.0, 0.0, 0.0, 0.0, 0.0, 0.0, 0.0, 0.0, 0.0, 0.0, 0.0, 0.0, 0.0, 0.0, 0.0, 0.0, 0.0, 0.0, 0.0, 0.0, 0.0, 0.0, 0.0, 0.0, 0.0, 0.0, 0.0, 0.0, 0.0], [0.7505239844322205, 0.24947606027126312, 0.0, 0.0, 0.0, 0.0, 0.0, 0.0, 0.0, 0.0, 0.0, 0.0, 0.0, 0.0, 0.0, 0.0, 0.0, 0.0, 0.0, 0.0, 0.0, 0.0, 0.0, 0.0, 0.0, 0.0, 0.0, 0.0, 0.0, 0.0, 0.0, 0.0, 0.0, 0.0, 0.0, 0.0, 0.0, 0.0, 0.0, 0.0, 0.0], [0.5437725782394409, 0.2204309105873108, 0.23579652607440948, 0.0, 0.0, 0.0, 0.0, 0.0, 0.0, 0.0, 0.0, 0.0, 0.0, 0.0, 0.0, 0.0, 0.0, 0.0, 0.0, 0.0, 0.0, 0.0, 0.0, 0.0, 0.0, 0.0, 0.0, 0.0, 0.0, 0.0, 0.0, 0.0, 0.0, 0.0, 0.0, 0.0, 0.0, 0.0, 0.0, 0.0, 0.0], [0.44820770621299744, 0.21048037707805634, 0.2117130011320114, 0.129598930478096, 0.0, 0.0, 0.0, 0.0, 0.0, 0.0, 0.0, 0.0, 0.0, 0.0, 0.0, 0.0, 0.0, 0.0, 0.0, 0.0, 0.0, 0.0, 0.0, 0.0, 0.0, 0.0, 0.0, 0.0, 0.0, 0.0, 0.0, 0.0, 0.0, 0.0, 0.0, 0.0, 0.0, 0.0, 0.0, 0.0, 0.0], [0.49392053484916687, 0.12132862210273743, 0.12349247932434082, 0.07342740148305893, 0.18783098459243774, 0.0, 0.0, 0.0, 0.0, 0.0, 0.0, 0.0, 0.0, 0.0, 0.0, 0.0, 0.0, 0.0, 0.0, 0.0, 0.0, 0.0, 0.0, 0.0, 0.0, 0.0, 0.0, 0.0, 0.0, 0.0, 0.0, 0.0, 0.0, 0.0, 0.0, 0.0, 0.0, 0.0, 0.0, 0.0, 0.0], [0.33682793378829956, 0.1269797384738922, 0.12875570356845856, 0.07920743525028229, 0.1741664856672287, 0.1540626436471939, 0.0, 0.0, 0.0, 0.0, 0.0, 0.0, 0.0, 0.0, 0.0, 0.0, 0.0, 0.0, 0.0, 0.0, 0.0, 0.0, 0.0, 0.0, 0.0, 0.0, 0.0, 0.0, 0.0, 0.0, 0.0, 0.0, 0.0, 0.0, 0.0, 0.0, 0.0, 0.0, 0.0, 0.0, 0.0], [0.4037688970565796, 0.0840814858675003, 0.0849469006061554, 0.05011245235800743, 0.12960369884967804, 0.08310887962579727, 0.16437774896621704, 0.0, 0.0, 0.0, 0.0, 0.0, 0.0, 0.0, 0.0, 0.0, 0.0, 0.0, 0.0, 0.0, 0.0, 0.0, 0.0, 0.0, 0.0, 0.0, 0.0, 0.0, 0.0, 0.0, 0.0, 0.0, 0.0, 0.0, 0.0, 0.0, 0.0, 0.0, 0.0, 0.0, 0.0], [0.2077481597661972, 0.09074731171131134, 0.09824345260858536, 0.06020396575331688, 0.15607839822769165, 0.09918464720249176, 0.17569611966609955, 0.11209794878959656, 0.0, 0.0, 0.0, 0.0, 0.0, 0.0, 0.0, 0.0, 0.0, 0.0, 0.0, 0.0, 0.0, 0.0, 0.0, 0.0, 0.0, 0.0, 0.0, 0.0, 0.0, 0.0, 0.0, 0.0, 0.0, 0.0, 0.0, 0.0, 0.0, 0.0, 0.0, 0.0, 0.0], [0.18066683411598206, 0.08720818907022476, 0.09247313439846039, 0.057514991611242294, 0.15516775846481323, 0.09687720984220505, 0.16279764473438263, 0.10799260437488556, 0.05930163338780403, 0.0, 0.0, 0.0, 0.0, 0.0, 0.0, 0.0, 0.0, 0.0, 0.0, 0.0, 0.0, 0.0, 0.0, 0.0, 0.0, 0.0, 0.0, 0.0, 0.0, 0.0, 0.0, 0.0, 0.0, 0.0, 0.0, 0.0, 0.0, 0.0, 0.0, 0.0, 0.0], [0.3812004625797272, 0.05445972830057144, 0.056758079677820206, 0.03166504576802254, 0.06733296811580658, 0.04970801621675491, 0.09138218313455582, 0.062249112874269485, 0.04701528325676918, 0.15822918713092804, 0.0, 0.0, 0.0, 0.0, 0.0, 0.0, 0.0, 0.0, 0.0, 0.0, 0.0, 0.0, 0.0, 0.0, 0.0, 0.0, 0.0, 0.0, 0.0, 0.0, 0.0, 0.0, 0.0, 0.0, 0.0, 0.0, 0.0, 0.0, 0.0, 0.0, 0.0], [0.20573864877223969, 0.06428287923336029, 0.07228133827447891, 0.04168908670544624, 0.09903843700885773, 0.06803403049707413, 0.10564010590314865, 0.06899555027484894, 0.041556358337402344, 0.14524857699871063, 0.08749492466449738, 0.0, 0.0, 0.0, 0.0, 0.0, 0.0, 0.0, 0.0, 0.0, 0.0, 0.0, 0.0, 0.0, 0.0, 0.0, 0.0, 0.0, 0.0, 0.0, 0.0, 0.0, 0.0, 0.0, 0.0, 0.0, 0.0, 0.0, 0.0, 0.0, 0.0], [0.2972961962223053, 0.04205620661377907, 0.04692099988460541, 0.025035982951521873, 0.05144170671701431, 0.03623294085264206, 0.06581055372953415, 0.0436970591545105, 0.031149767339229584, 0.10338945686817169, 0.06928536295890808, 0.1876838058233261, 0.0, 0.0, 0.0, 0.0, 0.0, 0.0, 0.0, 0.0, 0.0, 0.0, 0.0, 0.0, 0.0, 0.0, 0.0, 0.0, 0.0, 0.0, 0.0, 0.0, 0.0, 0.0, 0.0, 0.0, 0.0, 0.0, 0.0, 0.0, 0.0], [0.24936604499816895, 0.03641786798834801, 0.04132773354649544, 0.02175034210085869, 0.044500887393951416, 0.0321301631629467, 0.05726471170783043, 0.03674102574586868, 0.026423830538988113, 0.08499201387166977, 0.05754125863313675, 0.15225835144519806, 0.15928584337234497, 0.0, 0.0, 0.0, 0.0, 0.0, 0.0, 0.0, 0.0, 0.0, 0.0, 0.0, 0.0, 0.0, 0.0, 0.0, 0.0, 0.0, 0.0, 0.0, 0.0, 0.0, 0.0, 0.0, 0.0, 0.0, 0.0, 0.0, 0.0], [0.16624760627746582, 0.04440787807106972, 0.056176044046878815, 0.031039899215102196, 0.07174988090991974, 0.04421147331595421, 0.07340008020401001, 0.042876921594142914, 0.025730930268764496, 0.08263462036848068, 0.04810719937086105, 0.11135662347078323, 0.10714814066886902, 0.09491275250911713, 0.0, 0.0, 0.0, 0.0, 0.0, 0.0, 0.0, 0.0, 0.0, 0.0, 0.0, 0.0, 0.0, 0.0, 0.0, 0.0, 0.0, 0.0, 0.0, 0.0, 0.0, 0.0, 0.0, 0.0, 0.0, 0.0, 0.0], [0.14165422320365906, 0.04038078710436821, 0.04910841956734657, 0.02760731801390648, 0.057108521461486816, 0.039454393088817596, 0.0625641867518425, 0.03955893591046333, 0.025193510577082634, 0.07524757087230682, 0.04797356575727463, 0.1085340678691864, 0.10588949918746948, 0.09804262220859528, 0.08168234676122665, 0.0, 0.0, 0.0, 0.0, 0.0, 0.0, 0.0, 0.0, 0.0, 0.0, 0.0, 0.0, 0.0, 0.0, 0.0, 0.0, 0.0, 0.0, 0.0, 0.0, 0.0, 0.0, 0.0, 0.0, 0.0, 0.0], [0.12415122240781784, 0.04254980757832527, 0.0491873100399971, 0.028320079669356346, 0.06662646681070328, 0.0426548607647419, 0.06232095882296562, 0.04065444692969322, 0.022523269057273865, 0.07425198704004288, 0.045882996171712875, 0.09755521267652512, 0.09612005203962326, 0.07936689257621765, 0.06637705117464066, 0.061457399278879166, 0.0, 0.0, 0.0, 0.0, 0.0, 0.0, 0.0, 0.0, 0.0, 0.0, 0.0, 0.0, 0.0, 0.0, 0.0, 0.0, 0.0, 0.0, 0.0, 0.0, 0.0, 0.0, 0.0, 0.0, 0.0], [0.11575321853160858, 0.04461847245693207, 0.05267329141497612, 0.03229087218642235, 0.058939527720212936, 0.045165956020355225, 0.058821629732847214, 0.04124007374048233, 0.025397541001439095, 0.06304951012134552, 0.04479392245411873, 0.07803766429424286, 0.07692187279462814, 0.07101164013147354, 0.06202748045325279, 0.05935877934098244, 0.06989859789609909, 0.0, 0.0, 0.0, 0.0, 0.0, 0.0, 0.0, 0.0, 0.0, 0.0, 0.0, 0.0, 0.0, 0.0, 0.0, 0.0, 0.0, 0.0, 0.0, 0.0, 0.0, 0.0, 0.0, 0.0], [0.1900533139705658, 0.03245602175593376, 0.04164278879761696, 0.02227635495364666, 0.039271771907806396, 0.026578882709145546, 0.04273110628128052, 0.026126336306333542, 0.01793448068201542, 0.04594990983605385, 0.03253381326794624, 0.06392980366945267, 0.06225258484482765, 0.07118762284517288, 0.055866487324237823, 0.05625120922923088, 0.06740434467792511, 0.10555322468280792, 0.0, 0.0, 0.0, 0.0, 0.0, 0.0, 0.0, 0.0, 0.0, 0.0, 0.0, 0.0, 0.0, 0.0, 0.0, 0.0, 0.0, 0.0, 0.0, 0.0, 0.0, 0.0, 0.0], [0.146466925740242, 0.04058657959103584, 0.05297393724322319, 0.029475592076778412, 0.052321795374155045, 0.03535892441868782, 0.05133063718676567, 0.03165341913700104, 0.019450144842267036, 0.049731168895959854, 0.034516479820013046, 0.061223067343235016, 0.05743424966931343, 0.05925801768898964, 0.04932538792490959, 0.04847035929560661, 0.05748838558793068, 0.0833049863576889, 0.03962990641593933, 0.0, 0.0, 0.0, 0.0, 0.0, 0.0, 0.0, 0.0, 0.0, 0.0, 0.0, 0.0, 0.0, 0.0, 0.0, 0.0, 0.0, 0.0, 0.0, 0.0, 0.0, 0.0], [0.0842224732041359, 0.03398781642317772, 0.038862403482198715, 0.02279721386730671, 0.048160046339035034, 0.03393236920237541, 0.04585772007703781, 0.031586650758981705, 0.01781035214662552, 0.05465767905116081, 0.036362096667289734, 0.0713806226849556, 0.0710897445678711, 0.060126401484012604, 0.05124509334564209, 0.04858405888080597, 0.05436936020851135, 0.10376903414726257, 0.0525517463684082, 0.03864710405468941, 0.0, 0.0, 0.0, 0.0, 0.0, 0.0, 0.0, 0.0, 0.0, 0.0, 0.0, 0.0, 0.0, 0.0, 0.0, 0.0, 0.0, 0.0, 0.0, 0.0, 0.0], [0.18308976292610168, 0.029690999537706375, 0.03840653970837593, 0.021272899582982063, 0.03104664385318756, 0.022628426551818848, 0.03391725569963455, 0.022209061309695244, 0.01622302271425724, 0.033992744982242584, 0.02715771459043026, 0.04549268260598183, 0.044166047126054764, 0.05477960407733917, 0.04338061437010765, 0.04539543017745018, 0.05450887978076935, 0.07146575301885605, 0.03573449328541756, 0.03926737979054451, 0.1061740294098854, 0.0, 0.0, 0.0, 0.0, 0.0, 0.0, 0.0, 0.0, 0.0, 0.0, 0.0, 0.0, 0.0, 0.0, 0.0, 0.0, 0.0, 0.0, 0.0, 0.0], [0.11165553331375122, 0.041943490505218506, 0.05577990785241127, 0.032851338386535645, 0.053342580795288086, 0.03867793083190918, 0.04846722260117531, 0.03238634765148163, 0.01923852413892746, 0.042203910648822784, 0.030229054391384125, 0.04549552500247955, 0.04215430095791817, 0.04297858104109764, 0.03810887411236763, 0.03709963336586952, 0.044333260506391525, 0.05467469245195389, 0.02894330769777298, 0.031855057924985886, 0.0725548192858696, 0.0550261065363884, 0.0, 0.0, 0.0, 0.0, 0.0, 0.0, 0.0, 0.0, 0.0, 0.0, 0.0, 0.0, 0.0, 0.0, 0.0, 0.0, 0.0, 0.0, 0.0], [0.16083258390426636, 0.03030301071703434, 0.03933704271912575, 0.02183678187429905, 0.029214052483439445, 0.022506143897771835, 0.029630430042743683, 0.020949315279722214, 0.014906198717653751, 0.027883758768439293, 0.02339763566851616, 0.0342564657330513, 0.03351235389709473, 0.043761394917964935, 0.03572278469800949, 0.037203747779130936, 0.04392854496836662, 0.051233112812042236, 0.02737780660390854, 0.03238196671009064, 0.07194604724645615, 0.05748356878757477, 0.11039527505636215, 0.0, 0.0, 0.0, 0.0, 0.0, 0.0, 0.0, 0.0, 0.0, 0.0, 0.0, 0.0, 0.0, 0.0, 0.0, 0.0, 0.0, 0.0], [0.09444216638803482, 0.0430733747780323, 0.058312833309173584, 0.03495997563004494, 0.055376797914505005, 0.039268430322408676, 0.0467338003218174, 0.03130081295967102, 0.018376382067799568, 0.03759195655584335, 0.026802409440279007, 0.03763270378112793, 0.03364992141723633, 0.03389561176300049, 0.03102702833712101, 0.03021375648677349, 0.035040851682424545, 0.040134090930223465, 0.021718228235840797, 0.026111679151654243, 0.05144002288579941, 0.04156700149178505, 0.06896872073411942, 0.0623614601790905, 0.0, 0.0, 0.0, 0.0, 0.0, 0.0, 0.0, 0.0, 0.0, 0.0, 0.0, 0.0, 0.0, 0.0, 0.0, 0.0, 0.0], [0.12037235498428345, 0.03987397253513336, 0.055119745433330536, 0.03255853429436684, 0.04857512190937996, 0.03312491998076439, 0.04254012554883957, 0.0277490746229887, 0.016786139458417892, 0.03335171937942505, 0.024851933121681213, 0.03423542529344559, 0.030721791088581085, 0.03281214088201523, 0.028889328241348267, 0.028373749926686287, 0.03420882299542427, 0.03724153712391853, 0.019114650785923004, 0.025392668321728706, 0.04817190021276474, 0.04032643139362335, 0.07329603284597397, 0.0632552057504654, 0.029056672006845474, 0.0, 0.0, 0.0, 0.0, 0.0, 0.0, 0.0, 0.0, 0.0, 0.0, 0.0, 0.0, 0.0, 0.0, 0.0, 0.0], [0.06401405483484268, 0.02921421267092228, 0.03476563096046448, 0.021420136094093323, 0.03948177397251129, 0.028228124603629112, 0.03455348312854767, 0.025068720802664757, 0.014018385671079159, 0.035200659185647964, 0.02486090548336506, 0.04011791944503784, 0.038724396377801895, 0.03362271189689636, 0.02994994819164276, 0.028395876288414, 0.032271385192871094, 0.04946901649236679, 0.02679317444562912, 0.024008266627788544, 0.06446505337953568, 0.04469716548919678, 0.09223487973213196, 0.07400255650281906, 0.03865869715809822, 0.03176286071538925, 0.0, 0.0, 0.0, 0.0, 0.0, 0.0, 0.0, 0.0, 0.0, 0.0, 0.0, 0.0, 0.0, 0.0, 0.0], [0.1075117290019989, 0.03501645848155022, 0.04775552824139595, 0.028520191088318825, 0.04341985657811165, 0.0291532464325428, 0.037284817546606064, 0.025796828791499138, 0.015454181469976902, 0.030641447752714157, 0.02231239154934883, 0.031699225306510925, 0.028654536232352257, 0.02987011894583702, 0.02646801434457302, 0.025711439549922943, 0.03099428117275238, 0.0347374863922596, 0.018403997644782066, 0.023037046194076538, 0.04492375627160072, 0.03641565889120102, 0.06737029552459717, 0.05768260359764099, 0.027845598757267, 0.03196681663393974, 0.06135249137878418, 0.0, 0.0, 0.0, 0.0, 0.0, 0.0, 0.0, 0.0, 0.0, 0.0, 0.0, 0.0, 0.0, 0.0], [0.06139344349503517, 0.030543621629476547, 0.03601964935660362, 0.021793261170387268, 0.034712325781583786, 0.02908160537481308, 0.03017718531191349, 0.02356642112135887, 0.013821233995258808, 0.028596259653568268, 0.02338598482310772, 0.03140977397561073, 0.03019101917743683, 0.029995352029800415, 0.026864295825362206, 0.02755023166537285, 0.030209459364414215, 0.040161214768886566, 0.02423761785030365, 0.023113712668418884, 0.05115477368235588, 0.04157770052552223, 0.06919194757938385, 0.06756837666034698, 0.035427823662757874, 0.03091568313539028, 0.0638461485505104, 0.04349392652511597, 0.0, 0.0, 0.0, 0.0, 0.0, 0.0, 0.0, 0.0, 0.0, 0.0, 0.0, 0.0, 0.0], [0.05424802377820015, 0.027597425505518913, 0.03467348963022232, 0.02057502605021, 0.04580363631248474, 0.028078900650143623, 0.03701036795973778, 0.023727916181087494, 0.012112987227737904, 0.03508279100060463, 0.021263547241687775, 0.03736768290400505, 0.034742169082164764, 0.027554238215088844, 0.02471267059445381, 0.02265118807554245, 0.025723999366164207, 0.04326304420828819, 0.021604124456644058, 0.01863376423716545, 0.057544320821762085, 0.03669414669275284, 0.07620633393526077, 0.058132003992795944, 0.030956923961639404, 0.024591540917754173, 0.055825021117925644, 0.036119990050792694, 0.027502747252583504, 0.0, 0.0, 0.0, 0.0, 0.0, 0.0, 0.0, 0.0, 0.0, 0.0, 0.0, 0.0], [0.07712863385677338, 0.042184192687273026, 0.051413800567388535, 0.03405454754829407, 0.05105076730251312, 0.038224946707487106, 0.03865527734160423, 0.03139401972293854, 0.01713363081216812, 0.03167733550071716, 0.02538437582552433, 0.02978597953915596, 0.02745860628783703, 0.025144724175333977, 0.023631669580936432, 0.022695142775774002, 0.025780947878956795, 0.029112113639712334, 0.017637189477682114, 0.020973579958081245, 0.03320654481649399, 0.030329475179314613, 0.049095313996076584, 0.04836743697524071, 0.02308695577085018, 0.02608039602637291, 0.04153764247894287, 0.029424332082271576, 0.025480931624770164, 0.03286945819854736, 0.0, 0.0, 0.0, 0.0, 0.0, 0.0, 0.0, 0.0, 0.0, 0.0, 0.0], [0.06362298130989075, 0.04092906787991524, 0.050953131169080734, 0.03469701483845711, 0.05673829838633537, 0.03924216702580452, 0.04265616461634636, 0.033134955912828445, 0.017677107825875282, 0.0349547304213047, 0.025059774518013, 0.03222042694687843, 0.029399404302239418, 0.024475544691085815, 0.023707905784249306, 0.021430207416415215, 0.024904705584049225, 0.029584525153040886, 0.017641646787524223, 0.019774917513132095, 0.033323243260383606, 0.028366612270474434, 0.046009473502635956, 0.042676813900470734, 0.022080356255173683, 0.0237637460231781, 0.03754867613315582, 0.0261089988052845, 0.022863393649458885, 0.02893267199397087, 0.025521300733089447, 0.0, 0.0, 0.0, 0.0, 0.0, 0.0, 0.0, 0.0, 0.0, 0.0], [0.1509411334991455, 0.03340677171945572, 0.04648710787296295, 0.029799282550811768, 0.030197400599718094, 0.023632237687706947, 0.026996757835149765, 0.021112196147441864, 0.015294724144041538, 0.01888401433825493, 0.01799059472978115, 0.018322983756661415, 0.016591643914580345, 0.021778468042612076, 0.019373763352632523, 0.02024874836206436, 0.025309687480330467, 0.019194794818758965, 0.011752118356525898, 0.020625922828912735, 0.02288619428873062, 0.02551516517996788, 0.03852362185716629, 0.040969569236040115, 0.018137017264962196, 0.0293563399463892, 0.04504615440964699, 0.0283199455589056, 0.025273675099015236, 0.04063285142183304, 0.03932889550924301, 0.05807024613022804, 0.0, 0.0, 0.0, 0.0, 0.0, 0.0, 0.0, 0.0, 0.0], [0.08871753513813019, 0.04283847659826279, 0.058866292238235474, 0.03915374353528023, 0.05203493312001228, 0.03784932568669319, 0.03957558050751686, 0.02994643710553646, 0.017429709434509277, 0.02735942415893078, 0.021487155929207802, 0.022973226383328438, 0.020579207688570023, 0.021147947758436203, 0.020266668871045113, 0.019306855276226997, 0.023316482082009315, 0.020799530670046806, 0.012733228504657745, 0.018606187775731087, 0.023508666083216667, 0.02359798178076744, 0.03221562132239342, 0.03438496217131615, 0.016717785969376564, 0.023357849568128586, 0.03397752717137337, 0.022821826860308647, 0.021520353853702545, 0.02891298569738865, 0.02471611090004444, 0.04433343932032585, 0.034946903586387634, 0.0, 0.0, 0.0, 0.0, 0.0, 0.0, 0.0, 0.0], [0.1307198703289032, 0.034694381058216095, 0.04876447096467018, 0.03184901922941208, 0.03321516141295433, 0.02534542605280876, 0.028441976755857468, 0.022569915279746056, 0.015559802763164043, 0.019220802932977676, 0.017401013523340225, 0.017675714567303658, 0.0157882459461689, 0.019930392503738403, 0.018345151096582413, 0.018221821635961533, 0.023128822445869446, 0.017059559002518654, 0.010634186677634716, 0.018572304397821426, 0.019574131816625595, 0.021868253126740456, 0.0311021376401186, 0.03399542346596718, 0.015560050494968891, 0.025418229401111603, 0.03728411719202995, 0.023184550926089287, 0.0215434692800045, 0.03335033729672432, 0.03194781392812729, 0.04568545147776604, 0.038975462317466736, 0.053372543305158615, 0.0, 0.0, 0.0, 0.0, 0.0, 0.0, 0.0], [0.08598233759403229, 0.04384208470582962, 0.06088413670659065, 0.04124389588832855, 0.04863979294896126, 0.03806323930621147, 0.03738568350672722, 0.029767736792564392, 0.01763146184384823, 0.02454337663948536, 0.020658103749155998, 0.020306475460529327, 0.01784181036055088, 0.018911996856331825, 0.01855822466313839, 0.018003374338150024, 0.02208731882274151, 0.017257828265428543, 0.011025529354810715, 0.017787452787160873, 0.018814312294125557, 0.020797936245799065, 0.026647938415408134, 0.029782535508275032, 0.014219043776392937, 0.02206936851143837, 0.029406415298581123, 0.019524438306689262, 0.01947014592587948, 0.026097329333424568, 0.022214287891983986, 0.034749340265989304, 0.030833303928375244, 0.037709761410951614, 0.03724200278520584, 0.0, 0.0, 0.0, 0.0, 0.0, 0.0], [0.08366728574037552, 0.03588377684354782, 0.0481424406170845, 0.0316002257168293, 0.03650886192917824, 0.027783647179603577, 0.028790846467018127, 0.02378183789551258, 0.0145241254940629, 0.020938554778695107, 0.01819109544157982, 0.01917588897049427, 0.01704856939613819, 0.018586594611406326, 0.01755177602171898, 0.017428018152713776, 0.02049114927649498, 0.017227331176400185, 0.01055898517370224, 0.016853276640176773, 0.01932956650853157, 0.020566217601299286, 0.029858320951461792, 0.03229794278740883, 0.014229069463908672, 0.02157728001475334, 0.030457835644483566, 0.01994524709880352, 0.019325466826558113, 0.02665230631828308, 0.023379351943731308, 0.037823889404535294, 0.03218409791588783, 0.04278839752078056, 0.038332268595695496, 0.06651844829320908, 0.0, 0.0, 0.0, 0.0, 0.0], [0.0800214633345604, 0.039717309176921844, 0.05634501948952675, 0.03836900740861893, 0.04377312585711479, 0.034824203699827194, 0.03382918983697891, 0.027368735522031784, 0.016707370057702065, 0.021560626104474068, 0.018244031816720963, 0.017889417707920074, 0.01536101009696722, 0.016038667410612106, 0.016219494864344597, 0.0159434974193573, 0.019914288073778152, 0.014700809493660927, 0.00972977839410305, 0.016021085903048515, 0.016105474904179573, 0.018339483067393303, 0.02308322675526142, 0.026175377890467644, 0.012706073932349682, 0.02009231224656105, 0.02604706399142742, 0.017597772181034088, 0.01737496256828308, 0.024021822959184647, 0.02089310996234417, 0.030897360295057297, 0.027862798422574997, 0.033924974501132965, 0.034124985337257385, 0.05327548831701279, 0.04489956423640251, 0.0, 0.0, 0.0, 0.0], [0.06496105343103409, 0.03848130255937576, 0.04887799918651581, 0.034835439175367355, 0.0496172271668911, 0.034587085247039795, 0.03495456278324127, 0.028838839381933212, 0.015680985525250435, 0.025432705879211426, 0.019901763647794724, 0.0212576724588871, 0.019005561247467995, 0.016676582396030426, 0.01638183742761612, 0.015073557384312153, 0.017758673056960106, 0.017438067123293877, 0.01102611143141985, 0.014912187121808529, 0.018533486872911453, 0.018450437113642693, 0.027251223102211952, 0.02754513919353485, 0.01339145377278328, 0.01764734275639057, 0.023527907207608223, 0.017206212505698204, 0.015709973871707916, 0.01986023411154747, 0.018662741407752037, 0.03036644496023655, 0.02565016783773899, 0.03325948491692543, 0.029590824618935585, 0.05051831528544426, 0.038457468152046204, 0.028671925887465477, 0.0, 0.0, 0.0], [0.061739273369312286, 0.044182710349559784, 0.05733717605471611, 0.04125925898551941, 0.04184166342020035, 0.0406746044754982, 0.03166555240750313, 0.029935380443930626, 0.017735637724399567, 0.020864736288785934, 0.020216079428792, 0.016537532210350037, 0.01488970685750246, 0.016163894906640053, 0.016744917258620262, 0.016697902232408524, 0.019989587366580963, 0.013926024548709393, 0.010515091940760612, 0.01679457351565361, 0.014093817211687565, 0.01795259490609169, 0.01896662451326847, 0.025796905159950256, 0.012631007470190525, 0.019700825214385986, 0.022980622947216034, 0.016605498269200325, 0.01736525632441044, 0.02159479446709156, 0.01751038432121277, 0.022661007940769196, 0.024611696600914, 0.024338822811841965, 0.02863546833395958, 0.04137903079390526, 0.03699663281440735, 0.031221183016896248, 0.03524649888277054, 0.0, 0.0], [0.04376845806837082, 0.027750574052333832, 0.032785166054964066, 0.023205243051052094, 0.033630918711423874, 0.025885319337248802, 0.026120716705918312, 0.022503012791275978, 0.012631495483219624, 0.022670120000839233, 0.018219826743006706, 0.021631978452205658, 0.02026093751192093, 0.017564451321959496, 0.016970369964838028, 0.015848778188228607, 0.018058666959404945, 0.020372336730360985, 0.013031894341111183, 0.014880197122693062, 0.02248670719563961, 0.020338810980319977, 0.0325804129242897, 0.031453706324100494, 0.016066797077655792, 0.017637556418776512, 0.025882821530103683, 0.018760617822408676, 0.016533782705664635, 0.02081824466586113, 0.018883176147937775, 0.035464316606521606, 0.02730218879878521, 0.03874925896525383, 0.030719084665179253, 0.05285220965743065, 0.039829179644584656, 0.02867966704070568, 0.03257745876908302, 0.024593625217676163, 0.0], [0.10092664510011673, 0.03358974680304527, 0.0442521758377552, 0.03146377205848694, 0.02614201419055462, 0.023084623739123344, 0.0209920983761549, 0.020223714411258698, 0.014488277956843376, 0.013923087157309055, 0.015007476322352886, 0.011940199881792068, 0.010938622988760471, 0.014574641361832619, 0.013904557563364506, 0.014207820408046246, 0.01709429733455181, 0.010623397305607796, 0.007735643535852432, 0.015199210494756699, 0.010922830551862717, 0.014899279922246933, 0.017268601804971695, 0.023926574736833572, 0.010314577259123325, 0.01943514309823513, 0.022556476294994354, 0.015667539089918137, 0.015790488570928574, 0.022506896406412125, 0.021704217419028282, 0.02174823172390461, 0.02487652190029621, 0.026191776618361473, 0.028870129957795143, 0.04614848271012306, 0.04029982164502144, 0.03600938245654106, 0.03233008086681366, 0.03484756499528885, 0.05337333306670189]], [[1.0, 0.0, 0.0, 0.0, 0.0, 0.0, 0.0, 0.0, 0.0, 0.0, 0.0, 0.0, 0.0, 0.0, 0.0, 0.0, 0.0, 0.0, 0.0, 0.0, 0.0, 0.0, 0.0, 0.0, 0.0, 0.0, 0.0, 0.0, 0.0, 0.0, 0.0, 0.0, 0.0, 0.0, 0.0, 0.0, 0.0, 0.0, 0.0, 0.0, 0.0], [0.7511736154556274, 0.24882641434669495, 0.0, 0.0, 0.0, 0.0, 0.0, 0.0, 0.0, 0.0, 0.0, 0.0, 0.0, 0.0, 0.0, 0.0, 0.0, 0.0, 0.0, 0.0, 0.0, 0.0, 0.0, 0.0, 0.0, 0.0, 0.0, 0.0, 0.0, 0.0, 0.0, 0.0, 0.0, 0.0, 0.0, 0.0, 0.0, 0.0, 0.0, 0.0, 0.0], [0.45693686604499817, 0.21837091445922852, 0.3246922194957733, 0.0, 0.0, 0.0, 0.0, 0.0, 0.0, 0.0, 0.0, 0.0, 0.0, 0.0, 0.0, 0.0, 0.0, 0.0, 0.0, 0.0, 0.0, 0.0, 0.0, 0.0, 0.0, 0.0, 0.0, 0.0, 0.0, 0.0, 0.0, 0.0, 0.0, 0.0, 0.0, 0.0, 0.0, 0.0, 0.0, 0.0, 0.0], [0.32636216282844543, 0.1438748985528946, 0.17907240986824036, 0.3506905734539032, 0.0, 0.0, 0.0, 0.0, 0.0, 0.0, 0.0, 0.0, 0.0, 0.0, 0.0, 0.0, 0.0, 0.0, 0.0, 0.0, 0.0, 0.0, 0.0, 0.0, 0.0, 0.0, 0.0, 0.0, 0.0, 0.0, 0.0, 0.0, 0.0, 0.0, 0.0, 0.0, 0.0, 0.0, 0.0, 0.0, 0.0], [0.2750096023082733, 0.1506025344133377, 0.20912517607212067, 0.27062079310417175, 0.09464187175035477, 0.0, 0.0, 0.0, 0.0, 0.0, 0.0, 0.0, 0.0, 0.0, 0.0, 0.0, 0.0, 0.0, 0.0, 0.0, 0.0, 0.0, 0.0, 0.0, 0.0, 0.0, 0.0, 0.0, 0.0, 0.0, 0.0, 0.0, 0.0, 0.0, 0.0, 0.0, 0.0, 0.0, 0.0, 0.0, 0.0], [0.24651430547237396, 0.10079231858253479, 0.14379076659679413, 0.3046056628227234, 0.03936551883816719, 0.16493141651153564, 0.0, 0.0, 0.0, 0.0, 0.0, 0.0, 0.0, 0.0, 0.0, 0.0, 0.0, 0.0, 0.0, 0.0, 0.0, 0.0, 0.0, 0.0, 0.0, 0.0, 0.0, 0.0, 0.0, 0.0, 0.0, 0.0, 0.0, 0.0, 0.0, 0.0, 0.0, 0.0, 0.0, 0.0, 0.0], [0.17653174698352814, 0.099727101624012, 0.13064943253993988, 0.23450994491577148, 0.08523804694414139, 0.2369583696126938, 0.03638535737991333, 0.0, 0.0, 0.0, 0.0, 0.0, 0.0, 0.0, 0.0, 0.0, 0.0, 0.0, 0.0, 0.0, 0.0, 0.0, 0.0, 0.0, 0.0, 0.0, 0.0, 0.0, 0.0, 0.0, 0.0, 0.0, 0.0, 0.0, 0.0, 0.0, 0.0, 0.0, 0.0, 0.0, 0.0], [0.21241439878940582, 0.07179778814315796, 0.09371881932020187, 0.3609107434749603, 0.01735837757587433, 0.21449445188045502, 0.009664379991590977, 0.019641060382127762, 0.0, 0.0, 0.0, 0.0, 0.0, 0.0, 0.0, 0.0, 0.0, 0.0, 0.0, 0.0, 0.0, 0.0, 0.0, 0.0, 0.0, 0.0, 0.0, 0.0, 0.0, 0.0, 0.0, 0.0, 0.0, 0.0, 0.0, 0.0, 0.0, 0.0, 0.0, 0.0, 0.0], [0.16217997670173645, 0.07754363119602203, 0.0960511788725853, 0.32528427243232727, 0.031300440430641174, 0.20577189326286316, 0.025426900014281273, 0.025656789541244507, 0.05078493803739548, 0.0, 0.0, 0.0, 0.0, 0.0, 0.0, 0.0, 0.0, 0.0, 0.0, 0.0, 0.0, 0.0, 0.0, 0.0, 0.0, 0.0, 0.0, 0.0, 0.0, 0.0, 0.0, 0.0, 0.0, 0.0, 0.0, 0.0, 0.0, 0.0, 0.0, 0.0, 0.0], [0.17954421043395996, 0.09396006166934967, 0.1078696921467781, 0.19871607422828674, 0.05302343890070915, 0.21138067543506622, 0.023170817643404007, 0.025195496156811714, 0.04881977662444115, 0.058319807052612305, 0.0, 0.0, 0.0, 0.0, 0.0, 0.0, 0.0, 0.0, 0.0, 0.0, 0.0, 0.0, 0.0, 0.0, 0.0, 0.0, 0.0, 0.0, 0.0, 0.0, 0.0, 0.0, 0.0, 0.0, 0.0, 0.0, 0.0, 0.0, 0.0, 0.0, 0.0], [0.1589791476726532, 0.06013160198926926, 0.0787864625453949, 0.19123874604701996, 0.05849199369549751, 0.17368078231811523, 0.03207622468471527, 0.03284834325313568, 0.0387321375310421, 0.05048351362347603, 0.12455105036497116, 0.0, 0.0, 0.0, 0.0, 0.0, 0.0, 0.0, 0.0, 0.0, 0.0, 0.0, 0.0, 0.0, 0.0, 0.0, 0.0, 0.0, 0.0, 0.0, 0.0, 0.0, 0.0, 0.0, 0.0, 0.0, 0.0, 0.0, 0.0, 0.0, 0.0], [0.18196476995944977, 0.06865759938955307, 0.06348979473114014, 0.21565330028533936, 0.01707529090344906, 0.19167356193065643, 0.007964248768985271, 0.016115043312311172, 0.03007284551858902, 0.016785044223070145, 0.18037129938602448, 0.010177260264754295, 0.0, 0.0, 0.0, 0.0, 0.0, 0.0, 0.0, 0.0, 0.0, 0.0, 0.0, 0.0, 0.0, 0.0, 0.0, 0.0, 0.0, 0.0, 0.0, 0.0, 0.0, 0.0, 0.0, 0.0, 0.0, 0.0, 0.0, 0.0, 0.0], [0.16827866435050964, 0.06739985197782516, 0.07567135989665985, 0.15721161663532257, 0.02562747523188591, 0.1548835188150406, 0.013352449052035809, 0.012874457985162735, 0.03137695789337158, 0.02862938866019249, 0.20388349890708923, 0.028799040243029594, 0.03201170638203621, 0.0, 0.0, 0.0, 0.0, 0.0, 0.0, 0.0, 0.0, 0.0, 0.0, 0.0, 0.0, 0.0, 0.0, 0.0, 0.0, 0.0, 0.0, 0.0, 0.0, 0.0, 0.0, 0.0, 0.0, 0.0, 0.0, 0.0, 0.0], [0.17205804586410522, 0.06608345359563828, 0.059864889830350876, 0.22208885848522186, 0.01558100339025259, 0.1602391004562378, 0.010996080935001373, 0.017957966774702072, 0.034180670976638794, 0.013790874741971493, 0.175827756524086, 0.009814513847231865, 0.016290538012981415, 0.025226259604096413, 0.0, 0.0, 0.0, 0.0, 0.0, 0.0, 0.0, 0.0, 0.0, 0.0, 0.0, 0.0, 0.0, 0.0, 0.0, 0.0, 0.0, 0.0, 0.0, 0.0, 0.0, 0.0, 0.0, 0.0, 0.0, 0.0, 0.0], [0.1794048249721527, 0.05007307603955269, 0.05204407870769501, 0.2713273763656616, 0.007814689539372921, 0.15476274490356445, 0.006798580288887024, 0.0127969766035676, 0.02839788608253002, 0.006771170999854803, 0.19321195781230927, 0.005505712702870369, 0.009386899881064892, 0.014820195734500885, 0.006883804686367512, 0.0, 0.0, 0.0, 0.0, 0.0, 0.0, 0.0, 0.0, 0.0, 0.0, 0.0, 0.0, 0.0, 0.0, 0.0, 0.0, 0.0, 0.0, 0.0, 0.0, 0.0, 0.0, 0.0, 0.0, 0.0, 0.0], [0.11702543497085571, 0.050638314336538315, 0.06251908093690872, 0.20941857993602753, 0.023771435022354126, 0.13744062185287476, 0.018799813464283943, 0.0169112179428339, 0.03471151366829872, 0.021252421662211418, 0.17547988891601562, 0.01588999666273594, 0.015804005786776543, 0.020496249198913574, 0.011576044373214245, 0.06826537847518921, 0.0, 0.0, 0.0, 0.0, 0.0, 0.0, 0.0, 0.0, 0.0, 0.0, 0.0, 0.0, 0.0, 0.0, 0.0, 0.0, 0.0, 0.0, 0.0, 0.0, 0.0, 0.0, 0.0, 0.0, 0.0], [0.13668560981750488, 0.05402984097599983, 0.054879289120435715, 0.1925748884677887, 0.015060540288686752, 0.12743522226810455, 0.011849597096443176, 0.010716091841459274, 0.030411453917622566, 0.013387209735810757, 0.1934615969657898, 0.018128901720046997, 0.020841706544160843, 0.016730766743421555, 0.008716997690498829, 0.05749395489692688, 0.037596382200717926, 0.0, 0.0, 0.0, 0.0, 0.0, 0.0, 0.0, 0.0, 0.0, 0.0, 0.0, 0.0, 0.0, 0.0, 0.0, 0.0, 0.0, 0.0, 0.0, 0.0, 0.0, 0.0, 0.0, 0.0], [0.16139596700668335, 0.06247607618570328, 0.056998006999492645, 0.17569315433502197, 0.014461681246757507, 0.11409495770931244, 0.01036426518112421, 0.008621348068118095, 0.02701178938150406, 0.015292285941541195, 0.1642613559961319, 0.020104525610804558, 0.025576960295438766, 0.02232375368475914, 0.009894832968711853, 0.06449156999588013, 0.03208588436245918, 0.014851579442620277, 0.0, 0.0, 0.0, 0.0, 0.0, 0.0, 0.0, 0.0, 0.0, 0.0, 0.0, 0.0, 0.0, 0.0, 0.0, 0.0, 0.0, 0.0, 0.0, 0.0, 0.0, 0.0, 0.0], [0.1651299148797989, 0.05605502426624298, 0.046586159616708755, 0.22770805656909943, 0.010392818599939346, 0.1207951009273529, 0.0116945905610919, 0.009334858506917953, 0.025592371821403503, 0.009963953867554665, 0.1465795487165451, 0.009407886303961277, 0.013947072438895702, 0.018905039876699448, 0.0077080572955310345, 0.051695749163627625, 0.036260686814785004, 0.011040333658456802, 0.02120269276201725, 0.0, 0.0, 0.0, 0.0, 0.0, 0.0, 0.0, 0.0, 0.0, 0.0, 0.0, 0.0, 0.0, 0.0, 0.0, 0.0, 0.0, 0.0, 0.0, 0.0, 0.0, 0.0], [0.12378986179828644, 0.046822816133499146, 0.04569091275334358, 0.12763316929340363, 0.0232703797519207, 0.0995846688747406, 0.01772528886795044, 0.013481988571584225, 0.027239883318543434, 0.020871054381132126, 0.16243763267993927, 0.017010966315865517, 0.016801631078124046, 0.013106651604175568, 0.007468549069017172, 0.037523139268159866, 0.03537311777472496, 0.016058042645454407, 0.02156861685216427, 0.1265415996313095, 0.0, 0.0, 0.0, 0.0, 0.0, 0.0, 0.0, 0.0, 0.0, 0.0, 0.0, 0.0, 0.0, 0.0, 0.0, 0.0, 0.0, 0.0, 0.0, 0.0, 0.0], [0.114048071205616, 0.05203917250037193, 0.04841531068086624, 0.11114673316478729, 0.018441898748278618, 0.09836982935667038, 0.01177264004945755, 0.011029811576008797, 0.024901224300265312, 0.021775394678115845, 0.1081417053937912, 0.016822492703795433, 0.02078433893620968, 0.022684335708618164, 0.011359810829162598, 0.054614413529634476, 0.033673614263534546, 0.01913173869252205, 0.02804945595562458, 0.14744722843170166, 0.025350825861096382, 0.0, 0.0, 0.0, 0.0, 0.0, 0.0, 0.0, 0.0, 0.0, 0.0, 0.0, 0.0, 0.0, 0.0, 0.0, 0.0, 0.0, 0.0, 0.0, 0.0], [0.11139890551567078, 0.041215937584638596, 0.04296962171792984, 0.14675679802894592, 0.012155364267528057, 0.0892484188079834, 0.008988981135189533, 0.01430182158946991, 0.026895778253674507, 0.011067934334278107, 0.07786088436841965, 0.00522715225815773, 0.007607362698763609, 0.014393470250070095, 0.008289665915071964, 0.045895520597696304, 0.0361986942589283, 0.010536490008234978, 0.02756153792142868, 0.1890799105167389, 0.011667124927043915, 0.06068269535899162, 0.0, 0.0, 0.0, 0.0, 0.0, 0.0, 0.0, 0.0, 0.0, 0.0, 0.0, 0.0, 0.0, 0.0, 0.0, 0.0, 0.0, 0.0, 0.0], [0.19358371198177338, 0.054285746067762375, 0.037523794919252396, 0.11699628084897995, 0.007576065603643656, 0.08407526463270187, 0.005204441957175732, 0.008331738412380219, 0.019015954807400703, 0.007637765258550644, 0.104145348072052, 0.006734990514814854, 0.01354694738984108, 0.014479941688477993, 0.006068004760891199, 0.03537911921739578, 0.020914917811751366, 0.008723471313714981, 0.024084771052002907, 0.1390015333890915, 0.00806217361241579, 0.07303040474653244, 0.011597600765526295, 0.0, 0.0, 0.0, 0.0, 0.0, 0.0, 0.0, 0.0, 0.0, 0.0, 0.0, 0.0, 0.0, 0.0, 0.0, 0.0, 0.0, 0.0], [0.11888892948627472, 0.03743690997362137, 0.040806982666254044, 0.14096789062023163, 0.010104880668222904, 0.06558281183242798, 0.010609318502247334, 0.007975917309522629, 0.023846346884965897, 0.008445357903838158, 0.11824982613325119, 0.010827071033418179, 0.01984165795147419, 0.011694125831127167, 0.005054716020822525, 0.03901243209838867, 0.020501568913459778, 0.009323743171989918, 0.014887365512549877, 0.16309107840061188, 0.008485346101224422, 0.07449118047952652, 0.01798291876912117, 0.02189154550433159, 0.0, 0.0, 0.0, 0.0, 0.0, 0.0, 0.0, 0.0, 0.0, 0.0, 0.0, 0.0, 0.0, 0.0, 0.0, 0.0, 0.0], [0.12002664804458618, 0.038712501525878906, 0.02989158220589161, 0.15522678196430206, 0.006268830969929695, 0.07656862586736679, 0.008138091303408146, 0.005847220309078693, 0.017157170921564102, 0.00610482320189476, 0.09534794837236404, 0.006069414783269167, 0.009616979397833347, 0.012354835867881775, 0.004781318362802267, 0.031484205275774, 0.022166447713971138, 0.007050286512821913, 0.013208109885454178, 0.21239949762821198, 0.006854195147752762, 0.061324797570705414, 0.010061020031571388, 0.028933793306350708, 0.014404861256480217, 0.0, 0.0, 0.0, 0.0, 0.0, 0.0, 0.0, 0.0, 0.0, 0.0, 0.0, 0.0, 0.0, 0.0, 0.0, 0.0], [0.1003308892250061, 0.036926157772541046, 0.03416508063673973, 0.10060566663742065, 0.016666289418935776, 0.07354127615690231, 0.014106216840445995, 0.009976456873118877, 0.02110207825899124, 0.015054316259920597, 0.12257985025644302, 0.012614689767360687, 0.013071270659565926, 0.009951559826731682, 0.005416395608335733, 0.02694103494286537, 0.02572641521692276, 0.012008360587060452, 0.01584918238222599, 0.09746812283992767, 0.013707405887544155, 0.058581601828336716, 0.019219106063246727, 0.02684890292584896, 0.016552759334445, 0.10098887234926224, 0.0, 0.0, 0.0, 0.0, 0.0, 0.0, 0.0, 0.0, 0.0, 0.0, 0.0, 0.0, 0.0, 0.0, 0.0], [0.08408094942569733, 0.029538370668888092, 0.02990579418838024, 0.09304837137460709, 0.007326999679207802, 0.07381362468004227, 0.007065165787935257, 0.0043682013638317585, 0.013427319005131721, 0.007352124433964491, 0.1230311170220375, 0.012490726076066494, 0.017123950645327568, 0.009757799096405506, 0.004466300830245018, 0.03225855901837349, 0.01661764085292816, 0.007797712925821543, 0.011227917857468128, 0.12307258695363998, 0.008572299033403397, 0.08874078840017319, 0.019711392000317574, 0.023106196895241737, 0.012313011102378368, 0.13120147585868835, 0.008583568967878819, 0.0, 0.0, 0.0, 0.0, 0.0, 0.0, 0.0, 0.0, 0.0, 0.0, 0.0, 0.0, 0.0, 0.0], [0.09506385028362274, 0.03323100879788399, 0.025066429749131203, 0.15309204161167145, 0.005505586974322796, 0.04654419794678688, 0.006849735509604216, 0.008777361363172531, 0.019370555877685547, 0.004384426400065422, 0.062219951301813126, 0.003507875371724367, 0.004978996701538563, 0.007862020283937454, 0.004223709926009178, 0.022967131808400154, 0.018320521339774132, 0.00455833226442337, 0.009971984662115574, 0.1807505488395691, 0.004197296686470509, 0.030178211629390717, 0.005960693117231131, 0.013401824049651623, 0.010435146279633045, 0.1869020313024521, 0.004077315330505371, 0.02760123461484909, 0.0, 0.0, 0.0, 0.0, 0.0, 0.0, 0.0, 0.0, 0.0, 0.0, 0.0, 0.0, 0.0], [0.07760991901159286, 0.029388459399342537, 0.030321182683110237, 0.13516147434711456, 0.009174857288599014, 0.03994309529662132, 0.009902330115437508, 0.006664492655545473, 0.02029823139309883, 0.007676720153540373, 0.09191245585680008, 0.00933715421706438, 0.011479892767965794, 0.006902892142534256, 0.00415263045579195, 0.02752387709915638, 0.016082946211099625, 0.006354217883199453, 0.007851069793105125, 0.15198305249214172, 0.007345923688262701, 0.04570183530449867, 0.016461960971355438, 0.011773732490837574, 0.00810636393725872, 0.15774627029895782, 0.005982507020235062, 0.023403309285640717, 0.023757141083478928, 0.0, 0.0, 0.0, 0.0, 0.0, 0.0, 0.0, 0.0, 0.0, 0.0, 0.0, 0.0], [0.0765295922756195, 0.03008350543677807, 0.03247363865375519, 0.1086934432387352, 0.006357884965837002, 0.05004468560218811, 0.0053257206454873085, 0.006729381158947945, 0.019864942878484726, 0.005397316534072161, 0.08235293626785278, 0.005370336584746838, 0.006764446385204792, 0.00751291261985898, 0.004632594529539347, 0.03338460251688957, 0.01765652559697628, 0.004601112101227045, 0.010660967789590359, 0.13445048034191132, 0.005500682629644871, 0.0510135143995285, 0.011365460231900215, 0.018940497189760208, 0.011276446282863617, 0.14200246334075928, 0.007658781483769417, 0.028919635340571404, 0.027931252494454384, 0.0465041883289814, 0.0, 0.0, 0.0, 0.0, 0.0, 0.0, 0.0, 0.0, 0.0, 0.0, 0.0], [0.08561383187770844, 0.03202712908387184, 0.019020717591047287, 0.13742832839488983, 0.009841409511864185, 0.039852891117334366, 0.02645866759121418, 0.004102550912648439, 0.013233015313744545, 0.009811341762542725, 0.05894016847014427, 0.011970767751336098, 0.015970155596733093, 0.013196724466979504, 0.003420800669118762, 0.014778785407543182, 0.012920328415930271, 0.011023566126823425, 0.007754641119390726, 0.14870727062225342, 0.009865700267255306, 0.02589859440922737, 0.011693584732711315, 0.015693238005042076, 0.008274503983557224, 0.15521489083766937, 0.004138857591897249, 0.021018486469984055, 0.02559191733598709, 0.015941757708787918, 0.03059539943933487, 0.0, 0.0, 0.0, 0.0, 0.0, 0.0, 0.0, 0.0, 0.0, 0.0], [0.08430925011634827, 0.03589736297726631, 0.02899111434817314, 0.07434066385030746, 0.009991031140089035, 0.05760757252573967, 0.00822535902261734, 0.006665454246103764, 0.016495129093527794, 0.012084085494279861, 0.06496138125658035, 0.00965571403503418, 0.013558636419475079, 0.014451893046498299, 0.006459769792854786, 0.029521150514483452, 0.019117116928100586, 0.011473638005554676, 0.016699906438589096, 0.09238492697477341, 0.013492980971932411, 0.0471666119992733, 0.016681654378771782, 0.028401974588632584, 0.017921995371580124, 0.0964619442820549, 0.009491531178355217, 0.038213085383176804, 0.03493383526802063, 0.03244106471538544, 0.03657758608460426, 0.015324588865041733, 0.0, 0.0, 0.0, 0.0, 0.0, 0.0, 0.0, 0.0, 0.0], [0.08561936765909195, 0.027150223031640053, 0.02764536254107952, 0.08490121364593506, 0.016065998002886772, 0.060061145573854446, 0.014304365031421185, 0.011751336045563221, 0.016032924875617027, 0.014623639173805714, 0.04458820819854736, 0.005809731315821409, 0.0072357794269919395, 0.01145460456609726, 0.007237805053591728, 0.023923492059111595, 0.025893641635775566, 0.012348697520792484, 0.019975077360868454, 0.09131963551044464, 0.014596875756978989, 0.035851143300533295, 0.011860137805342674, 0.03652242198586464, 0.021383630111813545, 0.0962323322892189, 0.005440443754196167, 0.028922870755195618, 0.02201135829091072, 0.02489710971713066, 0.024895131587982178, 0.01656453311443329, 0.05287973955273628, 0.0, 0.0, 0.0, 0.0, 0.0, 0.0, 0.0, 0.0], [0.09203917533159256, 0.03069845214486122, 0.025534778833389282, 0.06957502663135529, 0.006410452537238598, 0.04970182850956917, 0.005796435289084911, 0.003991745412349701, 0.012752816081047058, 0.0076455227099359035, 0.07222314178943634, 0.009139172732830048, 0.013508277013897896, 0.009132210165262222, 0.0041290875524282455, 0.02401011809706688, 0.011476038955152035, 0.007109354250133038, 0.010008973069489002, 0.08299775421619415, 0.008545464836061, 0.048767752945423126, 0.015138823539018631, 0.017614657059311867, 0.010960529558360577, 0.08794715255498886, 0.007445557042956352, 0.038970910012722015, 0.028135791420936584, 0.029467206448316574, 0.027904588729143143, 0.009958653710782528, 0.1025162935256958, 0.018746253103017807, 0.0, 0.0, 0.0, 0.0, 0.0, 0.0, 0.0], [0.07980131357908249, 0.02729928120970726, 0.02529917098581791, 0.09569798409938812, 0.006443317048251629, 0.05073871091008186, 0.005878815893083811, 0.00846069771796465, 0.017322473227977753, 0.0059552122838795185, 0.04556779935956001, 0.0028770698700100183, 0.004707226529717445, 0.008726226165890694, 0.004604145884513855, 0.024558627977967262, 0.020046371966600418, 0.0060083139687776566, 0.01596013456583023, 0.11590507626533508, 0.0060228006914258, 0.03251587226986885, 0.006391548551619053, 0.023434296250343323, 0.017337007448077202, 0.12290166318416595, 0.00399010581895709, 0.0329999141395092, 0.025611745193600655, 0.028769955039024353, 0.019494304433465004, 0.006948993541300297, 0.058729883283376694, 0.005815959069877863, 0.037177957594394684, 0.0, 0.0, 0.0, 0.0, 0.0, 0.0], [0.10431898385286331, 0.02986598014831543, 0.02439797669649124, 0.09357402473688126, 0.0033827677834779024, 0.03156709671020508, 0.00371805508621037, 0.003912834450602531, 0.013971212320029736, 0.002860491396859288, 0.06508339941501617, 0.0037589496932923794, 0.010206895880401134, 0.006365377921611071, 0.0022804695181548595, 0.020707400515675545, 0.009201223962008953, 0.004021235276013613, 0.008377687074244022, 0.10345765948295593, 0.002842840738594532, 0.03457309678196907, 0.0059246341697871685, 0.009512766264379025, 0.009141367860138416, 0.1108027920126915, 0.002536276588216424, 0.032253045588731766, 0.02579844929277897, 0.025855591520667076, 0.020860930904746056, 0.003308814251795411, 0.09045593440532684, 0.014064816758036613, 0.04045340046286583, 0.026585528627038002, 0.0, 0.0, 0.0, 0.0, 0.0], [0.08559002727270126, 0.019663987681269646, 0.016968147829174995, 0.10688882321119308, 0.0015500820009037852, 0.03756607323884964, 0.0016999790677800775, 0.0039826869033277035, 0.011466766707599163, 0.0012024493189528584, 0.06375028938055038, 0.0012615640880540013, 0.002755978377535939, 0.0037738170940428972, 0.001700821565464139, 0.01729835383594036, 0.010608937591314316, 0.0015081324381753802, 0.006677612196654081, 0.14063259959220886, 0.001188183086924255, 0.034481022506952286, 0.0025959445629268885, 0.009277243167161942, 0.007346076890826225, 0.15108396112918854, 0.0015759794041514397, 0.03626338765025139, 0.019680539146065712, 0.029039934277534485, 0.009969901293516159, 0.0013605501735582948, 0.08970839530229568, 0.0035506088752299547, 0.03966187313199043, 0.019467586651444435, 0.007201594300568104, 0.0, 0.0, 0.0, 0.0], [0.05714581161737442, 0.022262586280703545, 0.0225460734218359, 0.08967263251543045, 0.007188527844846249, 0.047321997582912445, 0.008202395401895046, 0.00606594979763031, 0.014379449188709259, 0.006636642385274172, 0.06339170038700104, 0.005235226824879646, 0.006283609662204981, 0.007902166806161404, 0.0038211510982364416, 0.021283552050590515, 0.015174712054431438, 0.0054581849835813046, 0.010294380597770214, 0.10480071604251862, 0.006567184813320637, 0.0361802764236927, 0.009242194704711437, 0.016926176846027374, 0.010924761183559895, 0.1101001501083374, 0.004759234841912985, 0.021094635128974915, 0.018716752529144287, 0.027454448863863945, 0.016345584765076637, 0.007236503064632416, 0.07689567655324936, 0.007236028555780649, 0.03955485299229622, 0.03013582155108452, 0.01084514707326889, 0.024717161431908607, 0.0, 0.0, 0.0], [0.07936297357082367, 0.02544363960623741, 0.025756657123565674, 0.08754443377256393, 0.008253098465502262, 0.03598477691411972, 0.006003564223647118, 0.005928569007664919, 0.01743599772453308, 0.006850095931440592, 0.04545612260699272, 0.005704506766051054, 0.006243497598916292, 0.005678050220012665, 0.004746727645397186, 0.021008342504501343, 0.01386253535747528, 0.004755687899887562, 0.008777208626270294, 0.09245910495519638, 0.006760736461728811, 0.03375435248017311, 0.014239910989999771, 0.01830373704433441, 0.009262092411518097, 0.09797690063714981, 0.008894507773220539, 0.022642621770501137, 0.019400643184781075, 0.030923113226890564, 0.011158816516399384, 0.007806117180734873, 0.05646458640694618, 0.0075891693122684956, 0.038101740181446075, 0.024510635063052177, 0.016263369470834732, 0.025663046166300774, 0.04302835837006569, 0.0, 0.0], [0.07162048667669296, 0.025088686496019363, 0.021209413185715675, 0.06598671525716782, 0.009557316079735756, 0.04338627681136131, 0.009333089925348759, 0.006166884209960699, 0.013933604583144188, 0.00870516337454319, 0.07429904490709305, 0.007372056599706411, 0.00831269659101963, 0.006226890254765749, 0.0032002474181354046, 0.015423364005982876, 0.014939853921532631, 0.007138208951801062, 0.009534002281725407, 0.060258686542510986, 0.007613199297338724, 0.033014047890901566, 0.01076242234557867, 0.015893837437033653, 0.009990436024963856, 0.06256411969661713, 0.003495696699246764, 0.015440637245774269, 0.016835132613778114, 0.01444764994084835, 0.01309232972562313, 0.008366039954125881, 0.08355706930160522, 0.008945813402533531, 0.0366448238492012, 0.033576205372810364, 0.00932227075099945, 0.01759924925863743, 0.04579481855034828, 0.07135146856307983, 0.0], [0.11445187032222748, 0.02906876802444458, 0.01676039770245552, 0.059989262372255325, 0.0028794873505830765, 0.035164378583431244, 0.002724277786910534, 0.003639521077275276, 0.009555471129715443, 0.002977560507133603, 0.04649018496274948, 0.002782605355605483, 0.006590032018721104, 0.006689700298011303, 0.0024353554472327232, 0.013522990047931671, 0.008197425864636898, 0.0036270602140575647, 0.010041831061244011, 0.0639105886220932, 0.0029151022899895906, 0.027840079739689827, 0.0042864433489739895, 0.013748249039053917, 0.011137420311570168, 0.06803437322378159, 0.0021442282013595104, 0.04314474016427994, 0.02411012351512909, 0.01574508473277092, 0.02606205642223358, 0.003391025587916374, 0.06335596740245819, 0.00874975137412548, 0.03292187675833702, 0.03826291859149933, 0.010686538182199001, 0.017291806638240814, 0.05751316249370575, 0.08168209344148636, 0.00547821493819356]], [[1.0, 0.0, 0.0, 0.0, 0.0, 0.0, 0.0, 0.0, 0.0, 0.0, 0.0, 0.0, 0.0, 0.0, 0.0, 0.0, 0.0, 0.0, 0.0, 0.0, 0.0, 0.0, 0.0, 0.0, 0.0, 0.0, 0.0, 0.0, 0.0, 0.0, 0.0, 0.0, 0.0, 0.0, 0.0, 0.0, 0.0, 0.0, 0.0, 0.0, 0.0], [0.5581468343734741, 0.4418531060218811, 0.0, 0.0, 0.0, 0.0, 0.0, 0.0, 0.0, 0.0, 0.0, 0.0, 0.0, 0.0, 0.0, 0.0, 0.0, 0.0, 0.0, 0.0, 0.0, 0.0, 0.0, 0.0, 0.0, 0.0, 0.0, 0.0, 0.0, 0.0, 0.0, 0.0, 0.0, 0.0, 0.0, 0.0, 0.0, 0.0, 0.0, 0.0, 0.0], [0.39765283465385437, 0.32494914531707764, 0.277398020029068, 0.0, 0.0, 0.0, 0.0, 0.0, 0.0, 0.0, 0.0, 0.0, 0.0, 0.0, 0.0, 0.0, 0.0, 0.0, 0.0, 0.0, 0.0, 0.0, 0.0, 0.0, 0.0, 0.0, 0.0, 0.0, 0.0, 0.0, 0.0, 0.0, 0.0, 0.0, 0.0, 0.0, 0.0, 0.0, 0.0, 0.0, 0.0], [0.31024685502052307, 0.2778926193714142, 0.231331005692482, 0.18052949011325836, 0.0, 0.0, 0.0, 0.0, 0.0, 0.0, 0.0, 0.0, 0.0, 0.0, 0.0, 0.0, 0.0, 0.0, 0.0, 0.0, 0.0, 0.0, 0.0, 0.0, 0.0, 0.0, 0.0, 0.0, 0.0, 0.0, 0.0, 0.0, 0.0, 0.0, 0.0, 0.0, 0.0, 0.0, 0.0, 0.0, 0.0], [0.24811100959777832, 0.15412859618663788, 0.15427325665950775, 0.121816486120224, 0.32167068123817444, 0.0, 0.0, 0.0, 0.0, 0.0, 0.0, 0.0, 0.0, 0.0, 0.0, 0.0, 0.0, 0.0, 0.0, 0.0, 0.0, 0.0, 0.0, 0.0, 0.0, 0.0, 0.0, 0.0, 0.0, 0.0, 0.0, 0.0, 0.0, 0.0, 0.0, 0.0, 0.0, 0.0, 0.0, 0.0, 0.0], [0.2142065167427063, 0.14571231603622437, 0.12954875826835632, 0.10842946171760559, 0.1876995861530304, 0.21440339088439941, 0.0, 0.0, 0.0, 0.0, 0.0, 0.0, 0.0, 0.0, 0.0, 0.0, 0.0, 0.0, 0.0, 0.0, 0.0, 0.0, 0.0, 0.0, 0.0, 0.0, 0.0, 0.0, 0.0, 0.0, 0.0, 0.0, 0.0, 0.0, 0.0, 0.0, 0.0, 0.0, 0.0, 0.0, 0.0], [0.1708589494228363, 0.10096295922994614, 0.09516657888889313, 0.07578633725643158, 0.21920475363731384, 0.15800847113132477, 0.18001201748847961, 0.0, 0.0, 0.0, 0.0, 0.0, 0.0, 0.0, 0.0, 0.0, 0.0, 0.0, 0.0, 0.0, 0.0, 0.0, 0.0, 0.0, 0.0, 0.0, 0.0, 0.0, 0.0, 0.0, 0.0, 0.0, 0.0, 0.0, 0.0, 0.0, 0.0, 0.0, 0.0, 0.0, 0.0], [0.13643085956573486, 0.0918029248714447, 0.07992903888225555, 0.06409862637519836, 0.2018704116344452, 0.14205724000930786, 0.15741375088691711, 0.12639710307121277, 0.0, 0.0, 0.0, 0.0, 0.0, 0.0, 0.0, 0.0, 0.0, 0.0, 0.0, 0.0, 0.0, 0.0, 0.0, 0.0, 0.0, 0.0, 0.0, 0.0, 0.0, 0.0, 0.0, 0.0, 0.0, 0.0, 0.0, 0.0, 0.0, 0.0, 0.0, 0.0, 0.0], [0.13365034759044647, 0.09849865734577179, 0.07600502669811249, 0.06257599592208862, 0.18431374430656433, 0.13558344542980194, 0.13695284724235535, 0.12044042348861694, 0.051979586482048035, 0.0, 0.0, 0.0, 0.0, 0.0, 0.0, 0.0, 0.0, 0.0, 0.0, 0.0, 0.0, 0.0, 0.0, 0.0, 0.0, 0.0, 0.0, 0.0, 0.0, 0.0, 0.0, 0.0, 0.0, 0.0, 0.0, 0.0, 0.0, 0.0, 0.0, 0.0, 0.0], [0.11533202230930328, 0.07658916711807251, 0.07577107101678848, 0.05850405618548393, 0.1470651775598526, 0.11199528723955154, 0.12017151713371277, 0.11993023753166199, 0.050936199724674225, 0.12370524555444717, 0.0, 0.0, 0.0, 0.0, 0.0, 0.0, 0.0, 0.0, 0.0, 0.0, 0.0, 0.0, 0.0, 0.0, 0.0, 0.0, 0.0, 0.0, 0.0, 0.0, 0.0, 0.0, 0.0, 0.0, 0.0, 0.0, 0.0, 0.0, 0.0, 0.0, 0.0], [0.12746499478816986, 0.08030301332473755, 0.06373219192028046, 0.051342613995075226, 0.12563550472259521, 0.12213167548179626, 0.10172963887453079, 0.10686402022838593, 0.044002603739500046, 0.10717113316059113, 0.06962260603904724, 0.0, 0.0, 0.0, 0.0, 0.0, 0.0, 0.0, 0.0, 0.0, 0.0, 0.0, 0.0, 0.0, 0.0, 0.0, 0.0, 0.0, 0.0, 0.0, 0.0, 0.0, 0.0, 0.0, 0.0, 0.0, 0.0, 0.0, 0.0, 0.0, 0.0], [0.10713686794042587, 0.0722094476222992, 0.07024881988763809, 0.055952589958906174, 0.10738952457904816, 0.09774066507816315, 0.08935029804706573, 0.11360973119735718, 0.04491037130355835, 0.08304586261510849, 0.05130544304847717, 0.10710044205188751, 0.0, 0.0, 0.0, 0.0, 0.0, 0.0, 0.0, 0.0, 0.0, 0.0, 0.0, 0.0, 0.0, 0.0, 0.0, 0.0, 0.0, 0.0, 0.0, 0.0, 0.0, 0.0, 0.0, 0.0, 0.0, 0.0, 0.0, 0.0, 0.0], [0.10678508877754211, 0.07132640480995178, 0.06512577086687088, 0.05255484580993652, 0.09254633635282516, 0.08969751000404358, 0.07585973292589188, 0.1065070703625679, 0.04138859361410141, 0.07110019773244858, 0.049162931740283966, 0.09498897194862366, 0.08295644074678421, 0.0, 0.0, 0.0, 0.0, 0.0, 0.0, 0.0, 0.0, 0.0, 0.0, 0.0, 0.0, 0.0, 0.0, 0.0, 0.0, 0.0, 0.0, 0.0, 0.0, 0.0, 0.0, 0.0, 0.0, 0.0, 0.0, 0.0, 0.0], [0.08066651225090027, 0.06458576023578644, 0.05353381112217903, 0.041511986404657364, 0.10311000049114227, 0.0797070786356926, 0.08176285773515701, 0.08202585577964783, 0.032918114215135574, 0.08267749100923538, 0.04586278274655342, 0.10886907577514648, 0.09531746804714203, 0.047451239079236984, 0.0, 0.0, 0.0, 0.0, 0.0, 0.0, 0.0, 0.0, 0.0, 0.0, 0.0, 0.0, 0.0, 0.0, 0.0, 0.0, 0.0, 0.0, 0.0, 0.0, 0.0, 0.0, 0.0, 0.0, 0.0, 0.0, 0.0], [0.09136120229959488, 0.07324546575546265, 0.057702578604221344, 0.04823511466383934, 0.08442303538322449, 0.08452878892421722, 0.06363236159086227, 0.08795047551393509, 0.0363372303545475, 0.06274247914552689, 0.050007570534944534, 0.07813024520874023, 0.07057374715805054, 0.047556322067976, 0.06357337534427643, 0.0, 0.0, 0.0, 0.0, 0.0, 0.0, 0.0, 0.0, 0.0, 0.0, 0.0, 0.0, 0.0, 0.0, 0.0, 0.0, 0.0, 0.0, 0.0, 0.0, 0.0, 0.0, 0.0, 0.0, 0.0, 0.0], [0.0936073586344719, 0.06897535920143127, 0.049635205417871475, 0.043553076684474945, 0.08313503116369247, 0.07934697717428207, 0.06069277226924896, 0.08425209671258926, 0.032609302550554276, 0.06287316977977753, 0.050802428275346756, 0.08186589926481247, 0.07344987243413925, 0.04465080797672272, 0.056429654359817505, 0.034120988100767136, 0.0, 0.0, 0.0, 0.0, 0.0, 0.0, 0.0, 0.0, 0.0, 0.0, 0.0, 0.0, 0.0, 0.0, 0.0, 0.0, 0.0, 0.0, 0.0, 0.0, 0.0, 0.0, 0.0, 0.0, 0.0], [0.09715548157691956, 0.06789012998342514, 0.05502575635910034, 0.04907948523759842, 0.06987874954938889, 0.08278443664312363, 0.05204064026474953, 0.09234102070331573, 0.03844103589653969, 0.0500967912375927, 0.05041484534740448, 0.05890269950032234, 0.054414425045251846, 0.04278966784477234, 0.062412817031145096, 0.03621017187833786, 0.04012177884578705, 0.0, 0.0, 0.0, 0.0, 0.0, 0.0, 0.0, 0.0, 0.0, 0.0, 0.0, 0.0, 0.0, 0.0, 0.0, 0.0, 0.0, 0.0, 0.0, 0.0, 0.0, 0.0, 0.0, 0.0], [0.0941435769200325, 0.06530283391475677, 0.05683430656790733, 0.047515593469142914, 0.06700564175844193, 0.07635997235774994, 0.052830565720796585, 0.09891056269407272, 0.0355936735868454, 0.046576328575611115, 0.041661377996206284, 0.05929965153336525, 0.05270189046859741, 0.03780108317732811, 0.06226707249879837, 0.032710812985897064, 0.03621085733175278, 0.03627416864037514, 0.0, 0.0, 0.0, 0.0, 0.0, 0.0, 0.0, 0.0, 0.0, 0.0, 0.0, 0.0, 0.0, 0.0, 0.0, 0.0, 0.0, 0.0, 0.0, 0.0, 0.0, 0.0, 0.0], [0.10192397981882095, 0.06687402725219727, 0.05399954319000244, 0.04813046008348465, 0.060171786695718765, 0.07645450532436371, 0.04366728290915489, 0.0967431291937828, 0.035847246646881104, 0.03959096595644951, 0.04611597955226898, 0.048214200884103775, 0.04365589842200279, 0.03669578954577446, 0.0577821247279644, 0.03147733584046364, 0.0352792888879776, 0.032877903431653976, 0.0444984994828701, 0.0, 0.0, 0.0, 0.0, 0.0, 0.0, 0.0, 0.0, 0.0, 0.0, 0.0, 0.0, 0.0, 0.0, 0.0, 0.0, 0.0, 0.0, 0.0, 0.0, 0.0, 0.0], [0.06775093823671341, 0.06067274883389473, 0.04455007612705231, 0.036903686821460724, 0.08078256249427795, 0.07579080015420914, 0.05820523574948311, 0.06696007400751114, 0.026180380955338478, 0.0576755627989769, 0.04044803977012634, 0.0704822763800621, 0.06337130814790726, 0.036571480333805084, 0.04402800649404526, 0.028553057461977005, 0.030619198456406593, 0.04891619086265564, 0.035741183906793594, 0.025797216221690178, 0.0, 0.0, 0.0, 0.0, 0.0, 0.0, 0.0, 0.0, 0.0, 0.0, 0.0, 0.0, 0.0, 0.0, 0.0, 0.0, 0.0, 0.0, 0.0, 0.0, 0.0], [0.08888126164674759, 0.0599067285656929, 0.05569634214043617, 0.046124204993247986, 0.061575163155794144, 0.07169131934642792, 0.04819300025701523, 0.09624846279621124, 0.033668939024209976, 0.040216099470853806, 0.037006594240665436, 0.051116373389959335, 0.04465925693511963, 0.0318978913128376, 0.05443081259727478, 0.028018690645694733, 0.031384214758872986, 0.029378218576312065, 0.0381888821721077, 0.024793686345219612, 0.026923827826976776, 0.0, 0.0, 0.0, 0.0, 0.0, 0.0, 0.0, 0.0, 0.0, 0.0, 0.0, 0.0, 0.0, 0.0, 0.0, 0.0, 0.0, 0.0, 0.0, 0.0], [0.09298323094844818, 0.059038326144218445, 0.04595391824841499, 0.04011673852801323, 0.05416245013475418, 0.07814749330282211, 0.04167530685663223, 0.08315303176641464, 0.030308762565255165, 0.0371163934469223, 0.04214156046509743, 0.043593332171440125, 0.04122045263648033, 0.03333939239382744, 0.0530536025762558, 0.02884417586028576, 0.03320279344916344, 0.031865499913692474, 0.04024234414100647, 0.02684427984058857, 0.029126640409231186, 0.033870257437229156, 0.0, 0.0, 0.0, 0.0, 0.0, 0.0, 0.0, 0.0, 0.0, 0.0, 0.0, 0.0, 0.0, 0.0, 0.0, 0.0, 0.0, 0.0, 0.0], [0.07973995804786682, 0.060883939266204834, 0.05566245689988136, 0.04755428433418274, 0.0519956573843956, 0.07369016110897064, 0.04220541566610336, 0.08834651857614517, 0.0322352834045887, 0.03341430798172951, 0.035133857280015945, 0.039335947483778, 0.036212027072906494, 0.030608627945184708, 0.053007133305072784, 0.028305964544415474, 0.02974832057952881, 0.02522471733391285, 0.03758692368865013, 0.02591916359961033, 0.022476110607385635, 0.02533920668065548, 0.04537399858236313, 0.0, 0.0, 0.0, 0.0, 0.0, 0.0, 0.0, 0.0, 0.0, 0.0, 0.0, 0.0, 0.0, 0.0, 0.0, 0.0, 0.0, 0.0], [0.09855889528989792, 0.06173698231577873, 0.04783308506011963, 0.04439912363886833, 0.039679933339357376, 0.07390900701284409, 0.031327374279499054, 0.08835585415363312, 0.03191579878330231, 0.02481224574148655, 0.03998171165585518, 0.028771523386240005, 0.027430273592472076, 0.028508100658655167, 0.05146119371056557, 0.02773139253258705, 0.03074842132627964, 0.021631568670272827, 0.04024941101670265, 0.02808835357427597, 0.018507419154047966, 0.030937369912862778, 0.044352661818265915, 0.039072323590517044, 0.0, 0.0, 0.0, 0.0, 0.0, 0.0, 0.0, 0.0, 0.0, 0.0, 0.0, 0.0, 0.0, 0.0, 0.0, 0.0, 0.0], [0.08734709769487381, 0.05702102929353714, 0.04631616920232773, 0.043098706752061844, 0.045400697737932205, 0.06411972641944885, 0.03145528584718704, 0.08777228742837906, 0.03092903085052967, 0.027234159409999847, 0.0379415862262249, 0.03209323808550835, 0.028947800397872925, 0.027640415355563164, 0.04707486554980278, 0.024532034993171692, 0.027753127738833427, 0.021975107491016388, 0.03723865747451782, 0.024682704359292984, 0.01877531409263611, 0.026777900755405426, 0.05175154656171799, 0.03629859909415245, 0.035822879523038864, 0.0, 0.0, 0.0, 0.0, 0.0, 0.0, 0.0, 0.0, 0.0, 0.0, 0.0, 0.0, 0.0, 0.0, 0.0, 0.0], [0.0546533428132534, 0.049123864620923996, 0.036291904747486115, 0.03105328045785427, 0.06149984896183014, 0.061172790825366974, 0.04231379181146622, 0.05723172798752785, 0.021451961249113083, 0.04093530401587486, 0.032039009034633636, 0.04864021763205528, 0.04348336160182953, 0.0272506270557642, 0.03474730998277664, 0.02162862941622734, 0.023450259119272232, 0.03373177349567413, 0.028643174096941948, 0.0203156229108572, 0.0342998281121254, 0.0287063866853714, 0.0806603878736496, 0.035245880484580994, 0.030251462012529373, 0.02117827534675598, 0.0, 0.0, 0.0, 0.0, 0.0, 0.0, 0.0, 0.0, 0.0, 0.0, 0.0, 0.0, 0.0, 0.0, 0.0], [0.08465338498353958, 0.05435030907392502, 0.043395597487688065, 0.040125772356987, 0.043940480798482895, 0.06007513031363487, 0.031247330829501152, 0.08394041657447815, 0.028393788263201714, 0.026738613843917847, 0.03562673553824425, 0.0324845165014267, 0.029181117191910744, 0.026179049164056778, 0.04494738578796387, 0.022931644693017006, 0.025914940983057022, 0.021469825878739357, 0.03504408895969391, 0.02306722290813923, 0.01871192455291748, 0.025530904531478882, 0.05412168428301811, 0.03491147607564926, 0.033943984657526016, 0.022638143971562386, 0.016434555873274803, 0.0, 0.0, 0.0, 0.0, 0.0, 0.0, 0.0, 0.0, 0.0, 0.0, 0.0, 0.0, 0.0, 0.0], [0.053226590156555176, 0.04787237197160721, 0.033991772681474686, 0.02826140820980072, 0.05084414780139923, 0.05720991641283035, 0.03856587037444115, 0.0495806448161602, 0.01925046183168888, 0.03563941642642021, 0.029398895800113678, 0.04506586119532585, 0.0413903072476387, 0.026199789717793465, 0.03226463124155998, 0.022138407453894615, 0.022781971842050552, 0.032166991382837296, 0.026912186294794083, 0.02041364088654518, 0.032750170677900314, 0.028033243492245674, 0.07452002167701721, 0.03132008761167526, 0.029477765783667564, 0.02184685692191124, 0.02701941877603531, 0.04185710474848747, 0.0, 0.0, 0.0, 0.0, 0.0, 0.0, 0.0, 0.0, 0.0, 0.0, 0.0, 0.0, 0.0], [0.05958503112196922, 0.04728822037577629, 0.0322745144367218, 0.02876928634941578, 0.0478430911898613, 0.05508316680788994, 0.03421897441148758, 0.05695080757141113, 0.019536029547452927, 0.031283944845199585, 0.03062656708061695, 0.03908102586865425, 0.03519320860505104, 0.023452632129192352, 0.03167383745312691, 0.019149646162986755, 0.021610302850604057, 0.027341952547430992, 0.02859109453856945, 0.019482634961605072, 0.0276402048766613, 0.02900414541363716, 0.07120027393102646, 0.034916676580905914, 0.03162655979394913, 0.021095646545290947, 0.02351175993680954, 0.04027119278907776, 0.03169757500290871, 0.0, 0.0, 0.0, 0.0, 0.0, 0.0, 0.0, 0.0, 0.0, 0.0, 0.0, 0.0], [0.05997767671942711, 0.04869462922215462, 0.03545805811882019, 0.033656422048807144, 0.045571308583021164, 0.05402766913175583, 0.02970823086798191, 0.06382803618907928, 0.023006143048405647, 0.02829175442457199, 0.03228402137756348, 0.033021535724401474, 0.029755350202322006, 0.024677427485585213, 0.03593404218554497, 0.020486271008849144, 0.022584065794944763, 0.023773012682795525, 0.030560733750462532, 0.021284708753228188, 0.021994711831212044, 0.02604023925960064, 0.05718862637877464, 0.035007476806640625, 0.0311337448656559, 0.021590620279312134, 0.01923290267586708, 0.03951064124703407, 0.029620029032230377, 0.022099927067756653, 0.0, 0.0, 0.0, 0.0, 0.0, 0.0, 0.0, 0.0, 0.0, 0.0, 0.0], [0.0677223950624466, 0.05214685574173927, 0.03499557450413704, 0.03729312866926193, 0.03459694981575012, 0.053443070501089096, 0.021967383101582527, 0.07291534543037415, 0.024746360257267952, 0.0204558614641428, 0.034744810312986374, 0.02268999069929123, 0.021162353456020355, 0.023831840604543686, 0.039533231407403946, 0.020831285044550896, 0.023566870018839836, 0.01822665147483349, 0.035987675189971924, 0.024436980485916138, 0.01578434742987156, 0.027223877608776093, 0.039769940078258514, 0.0386279858648777, 0.03653385117650032, 0.024598779156804085, 0.01685761846601963, 0.04347978159785271, 0.032709117978811264, 0.0222768671810627, 0.016843225806951523, 0.0, 0.0, 0.0, 0.0, 0.0, 0.0, 0.0, 0.0, 0.0, 0.0], [0.06969672441482544, 0.04784022644162178, 0.04589363560080528, 0.041033610701560974, 0.047645580023527145, 0.059109631925821304, 0.03271414339542389, 0.09002389013767242, 0.028768131509423256, 0.02672720141708851, 0.02917424775660038, 0.03137483075261116, 0.026807166635990143, 0.022196348756551743, 0.043202150613069534, 0.019724253565073013, 0.02303752861917019, 0.017783716320991516, 0.03057023696601391, 0.018835799768567085, 0.015393728390336037, 0.01828042045235634, 0.03782092034816742, 0.024211019277572632, 0.02798660472035408, 0.01786273717880249, 0.011328129097819328, 0.02990914322435856, 0.020929373800754547, 0.016147419810295105, 0.012812312692403793, 0.015159164555370808, 0.0, 0.0, 0.0, 0.0, 0.0, 0.0, 0.0, 0.0, 0.0], [0.06535553187131882, 0.0419238917529583, 0.03251447528600693, 0.029484404250979424, 0.042602408677339554, 0.05812704935669899, 0.029845070093870163, 0.06509348750114441, 0.021875858306884766, 0.027142060920596123, 0.030769716948270798, 0.03056875802576542, 0.028413137421011925, 0.02267121709883213, 0.03724399209022522, 0.01872764155268669, 0.022871490567922592, 0.022089427337050438, 0.02965080551803112, 0.0182944405823946, 0.0202433280646801, 0.024428868666291237, 0.04638141393661499, 0.030429912731051445, 0.028993958607316017, 0.017974063754081726, 0.016674017533659935, 0.034547705203294754, 0.02434239350259304, 0.018888048827648163, 0.013813338242471218, 0.02113402634859085, 0.026884058490395546, 0.0, 0.0, 0.0, 0.0, 0.0, 0.0, 0.0, 0.0], [0.07213764637708664, 0.04793059080839157, 0.044498737901449203, 0.04215603694319725, 0.04113955795764923, 0.05690009891986847, 0.02780151553452015, 0.09198789298534393, 0.0289935152977705, 0.02252895012497902, 0.029015526175498962, 0.026667417958378792, 0.022865813225507736, 0.02114804834127426, 0.04389774054288864, 0.01932164840400219, 0.02248779870569706, 0.015422677621245384, 0.031228093430399895, 0.019559089094400406, 0.012841872870922089, 0.017888976261019707, 0.03167092055082321, 0.023928100243210793, 0.02852931059896946, 0.018508467823266983, 0.0103285051882267, 0.029598457738757133, 0.02119484916329384, 0.015567611902952194, 0.01262719091027975, 0.012507711537182331, 0.020281463861465454, 0.016838110983371735, 0.0, 0.0, 0.0, 0.0, 0.0, 0.0, 0.0], [0.0659148097038269, 0.04253474622964859, 0.03424126282334328, 0.031985312700271606, 0.03927476704120636, 0.058764055371284485, 0.026896649971604347, 0.06861308962106705, 0.02360827662050724, 0.023879626765847206, 0.030698208138346672, 0.02598216012120247, 0.024107860401272774, 0.021997107192873955, 0.03892894461750984, 0.019082892686128616, 0.022759219631552696, 0.018847398459911346, 0.029244406148791313, 0.018820324912667274, 0.016390543431043625, 0.022324591875076294, 0.03676971420645714, 0.028257789090275764, 0.027482612058520317, 0.017938638105988503, 0.014350279234349728, 0.03334584832191467, 0.023261509835720062, 0.018033171072602272, 0.013792767189443111, 0.0158684179186821, 0.024006200954318047, 0.01931212656199932, 0.022684641182422638, 0.0, 0.0, 0.0, 0.0, 0.0, 0.0], [0.058815523982048035, 0.04477502778172493, 0.03859040513634682, 0.036036066710948944, 0.03976155444979668, 0.05365142971277237, 0.027517175301909447, 0.07070047408342361, 0.02463003806769848, 0.022560564801096916, 0.02760385349392891, 0.025230493396520615, 0.022345980629324913, 0.02029002085328102, 0.03649285063147545, 0.018418876454234123, 0.0203409306704998, 0.016400674358010292, 0.027318915352225304, 0.018558574840426445, 0.014386930502951145, 0.01928829215466976, 0.03429001569747925, 0.026422545313835144, 0.026236847043037415, 0.01815003901720047, 0.012853290885686874, 0.030934253707528114, 0.022470518946647644, 0.01733703725039959, 0.013117113150656223, 0.015097277238965034, 0.022119762375950813, 0.01932699605822563, 0.021192006766796112, 0.036737676709890366, 0.0, 0.0, 0.0, 0.0, 0.0], [0.052704840898513794, 0.040698591619729996, 0.031275175511837006, 0.029732199385762215, 0.03712259978055954, 0.05041058734059334, 0.024757741019129753, 0.05930767208337784, 0.0213686004281044, 0.023025907576084137, 0.027316590771079063, 0.025430211797356606, 0.02329386956989765, 0.021218933165073395, 0.03608015179634094, 0.018668608739972115, 0.020526552572846413, 0.018531745299696922, 0.02638685330748558, 0.01851891539990902, 0.01648779958486557, 0.02031387761235237, 0.03506620228290558, 0.025126518681645393, 0.02499108389019966, 0.017654631286859512, 0.014358602464199066, 0.0323738195002079, 0.02371533215045929, 0.017553770914673805, 0.014461596496403217, 0.015814032405614853, 0.021686922758817673, 0.01888318918645382, 0.020411578938364983, 0.035628095269203186, 0.03909657150506973, 0.0, 0.0, 0.0, 0.0], [0.047730281949043274, 0.03616271913051605, 0.027095846831798553, 0.02652793377637863, 0.039851292967796326, 0.042637333273887634, 0.02460394985973835, 0.053513508290052414, 0.01879204250872135, 0.02460421435534954, 0.02618815191090107, 0.028604162856936455, 0.025061994791030884, 0.0193364005535841, 0.029033809900283813, 0.015206972137093544, 0.01800820790231228, 0.019599130377173424, 0.024455726146697998, 0.01611698791384697, 0.018233653157949448, 0.020484792068600655, 0.047579970210790634, 0.027344923466444016, 0.024232476949691772, 0.01603415049612522, 0.014261753298342228, 0.028000053018331528, 0.020595872774720192, 0.015812931582331657, 0.013485937379300594, 0.01948115974664688, 0.023382704704999924, 0.024189045652747154, 0.022579660639166832, 0.043173011392354965, 0.041308458894491196, 0.016688775271177292, 0.0, 0.0, 0.0], [0.05825769528746605, 0.043523650616407394, 0.03476545959711075, 0.03414272889494896, 0.02993874065577984, 0.05156012997031212, 0.020127570256590843, 0.06568622589111328, 0.023700758814811707, 0.01640685461461544, 0.0283567626029253, 0.01606586202979088, 0.015409588813781738, 0.018563836812973022, 0.03369729220867157, 0.01777554862201214, 0.019187189638614655, 0.012769228778779507, 0.026338357478380203, 0.018739689141511917, 0.010629142634570599, 0.02014518901705742, 0.02358321100473404, 0.028639495372772217, 0.025178976356983185, 0.018140500411391258, 0.012007201090455055, 0.03257778286933899, 0.023055486381053925, 0.018054740503430367, 0.012897234410047531, 0.01076198648661375, 0.02276751771569252, 0.012865284457802773, 0.021534845232963562, 0.02992098592221737, 0.04596739262342453, 0.018446890637278557, 0.027812976390123367, 0.0, 0.0], [0.035577256232500076, 0.03260880336165428, 0.025020018219947815, 0.02244364656507969, 0.04498289152979851, 0.04296914115548134, 0.02842717245221138, 0.04202849045395851, 0.015673425048589706, 0.02840529754757881, 0.022453095763921738, 0.03162417933344841, 0.02782381884753704, 0.018297091126441956, 0.02468731813132763, 0.014231218956410885, 0.015896232798695564, 0.021821822971105576, 0.019639046862721443, 0.013677425682544708, 0.02165236510336399, 0.018637463450431824, 0.04847174510359764, 0.023596899583935738, 0.019786495715379715, 0.013741840608417988, 0.01591622084379196, 0.025047941133379936, 0.01897374540567398, 0.015448548831045628, 0.012968954630196095, 0.0240111593157053, 0.020739512518048286, 0.028475727885961533, 0.021118896082043648, 0.04715419188141823, 0.03522244095802307, 0.016181064769625664, 0.027876364067196846, 0.016690995544195175, 0.0], [0.04981263354420662, 0.03982507437467575, 0.03893294557929039, 0.03681609407067299, 0.03800712153315544, 0.05277303233742714, 0.025834981352090836, 0.07040882855653763, 0.024869931861758232, 0.021287279203534126, 0.024626292288303375, 0.021945742890238762, 0.01963864266872406, 0.01924845762550831, 0.03800295665860176, 0.01746070384979248, 0.019300516694784164, 0.014043925330042839, 0.025612758472561836, 0.017041727900505066, 0.01173323206603527, 0.015166864730417728, 0.021923067048192024, 0.022004587575793266, 0.022739196196198463, 0.0156759824603796, 0.009666169993579388, 0.02432502992451191, 0.01771790347993374, 0.013810794800519943, 0.01154283806681633, 0.010643319226801395, 0.015787426382303238, 0.012920130975544453, 0.014906586147844791, 0.022722791880369186, 0.04204496368765831, 0.01566402241587639, 0.019840529188513756, 0.018107717856764793, 0.025567181408405304]]]}\n",
              "    )\n",
              "    </script>"
            ]
          },
          "metadata": {},
          "execution_count": 132
        }
      ],
      "source": [
        "print(\"Layer 0 Head Attention Patterns:\")\n",
        "cv.attention.attention_patterns(tokens=gpt2_str_tokens, attention=attention_pattern)"
      ]
    },
    {
      "cell_type": "markdown",
      "metadata": {
        "id": "hjuMra9sOYkq"
      },
      "source": [
        "In this case, we only wanted the layer 0 attention patterns, but we are storing the internal activations from all locations in the model. It's convenient to have access to all activations, but this can be prohibitively expensive for memory use with larger models, batch sizes, or sequence lengths. In addition, we don't need to do the full forward pass through the model to collect layer 0 attention patterns. The following cell will collect only the layer 0 attention patterns and stop the forward pass at layer 1, requiring far less memory and compute."
      ]
    },
    {
      "cell_type": "code",
      "execution_count": 133,
      "metadata": {
        "id": "LN_vevZoOYkq"
      },
      "outputs": [],
      "source": [
        "attn_hook_name = \"blocks.0.attn.hook_pattern\"\n",
        "attn_layer = 0\n",
        "_, gpt2_attn_cache = model.run_with_cache(gpt2_tokens, remove_batch_dim=True, stop_at_layer=attn_layer + 1, names_filter=[attn_hook_name])\n",
        "gpt2_attn = gpt2_attn_cache[attn_hook_name]\n",
        "assert torch.equal(gpt2_attn, attention_pattern)"
      ]
    },
    {
      "cell_type": "markdown",
      "metadata": {
        "id": "xxJgXsnoOYkq"
      },
      "source": [
        "## Hooks: Intervening on Activations"
      ]
    },
    {
      "cell_type": "markdown",
      "metadata": {
        "id": "WNFB3hYbOYkq"
      },
      "source": [
        "One of the great things about interpreting neural networks is that we have *full control* over our system. From a computational perspective, we know exactly what operations are going on inside (even if we don't know what they mean!). And we can make precise, surgical edits and see how the model's behaviour and other internals change. This is an extremely powerful tool, because it can let us eg set up careful counterfactuals and causal intervention to easily understand model behaviour.\n",
        "\n",
        "Accordingly, being able to do this is a pretty core operation, and this is one of the main things TransformerLens supports! The key feature here is **hook points**. Every activation inside the transformer is surrounded by a hook point, which allows us to edit or intervene on it.\n",
        "\n",
        "We do this by adding a **hook function** to that activation. The hook function maps `current_activation_value, hook_point` to `new_activation_value`. As the model is run, it computes that activation as normal, and then the hook function is applied to compute a replacement, and that is substituted in for the activation. The hook function can be an arbitrary Python function, so long as it returns a tensor of the correct shape.\n",
        "\n",
        "<details><summary>Relationship to PyTorch hooks</summary>\n",
        "\n",
        "[PyTorch hooks](https://blog.paperspace.com/pytorch-hooks-gradient-clipping-debugging/) are a great and underrated, yet incredibly janky, feature. They can act on a layer, and edit the input or output of that layer, or the gradient when applying autodiff. The key difference is that **Hook points** act on *activations* not layers. This means that you can intervene within a layer on each activation, and don't need to care about the precise layer structure of the transformer. And it's immediately clear exactly how the hook's effect is applied. This adjustment was shamelessly inspired by [Garcon's use of ProbePoints](https://transformer-circuits.pub/2021/garcon/index.html).\n",
        "\n",
        "They also come with a range of other quality of life improvements, like the model having a `model.reset_hooks()` method to remove all hooks, or helper methods to temporarily add hooks for a single forward pass - it is *incredibly* easy to shoot yourself in the foot with standard PyTorch hooks!\n",
        "</details>"
      ]
    },
    {
      "cell_type": "markdown",
      "metadata": {
        "id": "73kFfd0yOYkq"
      },
      "source": [
        "As a basic example, let's [ablate](https://dynalist.io/d/n2ZWtnoYHrU1s4vnFSAQ519J#z=fh-HJyz1CgUVrXuoiban6bYx) head 7 in layer 0 on the text above.\n",
        "\n",
        "We define a `head_ablation_hook` function. This takes the value tensor for attention layer 0, and sets the component with `head_index==7` to zero and returns it (Note - we return by convention, but since we're editing the activation in-place, we don't strictly *need* to).\n",
        "\n",
        "We then use the `run_with_hooks` helper function to run the model and *temporarily* add in the hook for just this run. We enter in the hook as a tuple of the activation name (also the hook point name - found with `utils.get_act_name`) and the hook function."
      ]
    },
    {
      "cell_type": "code",
      "execution_count": 171,
      "metadata": {
        "id": "OJzjGoStOYkq",
        "outputId": "7374a968-7595-4dc4-e39a-c77af206d317",
        "colab": {
          "base_uri": "https://localhost:8080/",
          "height": 426
        }
      },
      "outputs": [
        {
          "output_type": "stream",
          "name": "stdout",
          "text": [
            "Finding loss at position :  37\n",
            "torch.Size([1, 50257])\n",
            "torch.Size([])\n"
          ]
        },
        {
          "output_type": "error",
          "ename": "RuntimeError",
          "evalue": "only batches of spatial targets supported (3D tensors) but got targets of size: : [1]",
          "traceback": [
            "\u001b[0;31m---------------------------------------------------------------------------\u001b[0m",
            "\u001b[0;31mRuntimeError\u001b[0m                              Traceback (most recent call last)",
            "\u001b[0;32m/tmp/ipython-input-1919881586.py\u001b[0m in \u001b[0;36m<cell line: 0>\u001b[0;34m()\u001b[0m\n\u001b[1;32m     23\u001b[0m \u001b[0;34m\u001b[0m\u001b[0m\n\u001b[1;32m     24\u001b[0m \u001b[0mclean_logits\u001b[0m \u001b[0;34m=\u001b[0m \u001b[0mmodel\u001b[0m\u001b[0;34m(\u001b[0m\u001b[0mgpt2_tokens\u001b[0m\u001b[0;34m,\u001b[0m \u001b[0mreturn_type\u001b[0m\u001b[0;34m=\u001b[0m\u001b[0;34m\"logits\"\u001b[0m\u001b[0;34m)\u001b[0m\u001b[0;34m\u001b[0m\u001b[0;34m\u001b[0m\u001b[0m\n\u001b[0;32m---> 25\u001b[0;31m \u001b[0moriginal_loss\u001b[0m \u001b[0;34m=\u001b[0m\u001b[0mfind_loss_at_pos\u001b[0m\u001b[0;34m(\u001b[0m\u001b[0mpos\u001b[0m\u001b[0;34m,\u001b[0m\u001b[0mclean_logits\u001b[0m\u001b[0;34m[\u001b[0m\u001b[0;34m:\u001b[0m\u001b[0;34m,\u001b[0m\u001b[0mpos\u001b[0m\u001b[0;34m,\u001b[0m\u001b[0;34m:\u001b[0m\u001b[0;34m]\u001b[0m\u001b[0;34m,\u001b[0m \u001b[0mgpt2_tokens\u001b[0m\u001b[0;34m[\u001b[0m\u001b[0;36m0\u001b[0m\u001b[0;34m,\u001b[0m\u001b[0mindex_72\u001b[0m\u001b[0;34m]\u001b[0m\u001b[0;34m)\u001b[0m\u001b[0;34m\u001b[0m\u001b[0;34m\u001b[0m\u001b[0m\n\u001b[0m\u001b[1;32m     26\u001b[0m \u001b[0;31m# ablated_loss = model.run_with_hooks(\u001b[0m\u001b[0;34m\u001b[0m\u001b[0;34m\u001b[0m\u001b[0m\n\u001b[1;32m     27\u001b[0m \u001b[0;31m#     gpt2_tokens,\u001b[0m\u001b[0;34m\u001b[0m\u001b[0;34m\u001b[0m\u001b[0m\n",
            "\u001b[0;32m/tmp/ipython-input-1159202509.py\u001b[0m in \u001b[0;36mfind_loss_at_pos\u001b[0;34m(pos, logits, target_token_id)\u001b[0m\n\u001b[1;32m     12\u001b[0m   \u001b[0mprint\u001b[0m\u001b[0;34m(\u001b[0m\u001b[0mlogits\u001b[0m\u001b[0;34m.\u001b[0m\u001b[0mshape\u001b[0m\u001b[0;34m)\u001b[0m\u001b[0;34m\u001b[0m\u001b[0;34m\u001b[0m\u001b[0m\n\u001b[1;32m     13\u001b[0m   \u001b[0mprint\u001b[0m\u001b[0;34m(\u001b[0m\u001b[0mtarget_token_id\u001b[0m\u001b[0;34m.\u001b[0m\u001b[0mshape\u001b[0m\u001b[0;34m)\u001b[0m\u001b[0;34m\u001b[0m\u001b[0;34m\u001b[0m\u001b[0m\n\u001b[0;32m---> 14\u001b[0;31m   \u001b[0mloss\u001b[0m\u001b[0;34m=\u001b[0m\u001b[0mF\u001b[0m\u001b[0;34m.\u001b[0m\u001b[0mcross_entropy\u001b[0m\u001b[0;34m(\u001b[0m\u001b[0mlogits\u001b[0m\u001b[0;34m.\u001b[0m\u001b[0munsqueeze\u001b[0m\u001b[0;34m(\u001b[0m\u001b[0;36m0\u001b[0m\u001b[0;34m)\u001b[0m\u001b[0;34m.\u001b[0m\u001b[0munsqueeze\u001b[0m\u001b[0;34m(\u001b[0m\u001b[0;36m0\u001b[0m\u001b[0;34m)\u001b[0m\u001b[0;34m,\u001b[0m\u001b[0mtarget_token_id\u001b[0m\u001b[0;34m.\u001b[0m\u001b[0munsqueeze\u001b[0m\u001b[0;34m(\u001b[0m\u001b[0;36m0\u001b[0m\u001b[0;34m)\u001b[0m\u001b[0;34m)\u001b[0m\u001b[0;34m\u001b[0m\u001b[0;34m\u001b[0m\u001b[0m\n\u001b[0m\u001b[1;32m     15\u001b[0m   \u001b[0;32mreturn\u001b[0m \u001b[0mloss\u001b[0m\u001b[0;34m.\u001b[0m\u001b[0mitem\u001b[0m\u001b[0;34m(\u001b[0m\u001b[0;34m)\u001b[0m\u001b[0;34m\u001b[0m\u001b[0;34m\u001b[0m\u001b[0m\n",
            "\u001b[0;32m/usr/local/lib/python3.11/dist-packages/torch/nn/functional.py\u001b[0m in \u001b[0;36mcross_entropy\u001b[0;34m(input, target, weight, size_average, ignore_index, reduce, reduction, label_smoothing)\u001b[0m\n\u001b[1;32m   3492\u001b[0m     \u001b[0;32mif\u001b[0m \u001b[0msize_average\u001b[0m \u001b[0;32mis\u001b[0m \u001b[0;32mnot\u001b[0m \u001b[0;32mNone\u001b[0m \u001b[0;32mor\u001b[0m \u001b[0mreduce\u001b[0m \u001b[0;32mis\u001b[0m \u001b[0;32mnot\u001b[0m \u001b[0;32mNone\u001b[0m\u001b[0;34m:\u001b[0m\u001b[0;34m\u001b[0m\u001b[0;34m\u001b[0m\u001b[0m\n\u001b[1;32m   3493\u001b[0m         \u001b[0mreduction\u001b[0m \u001b[0;34m=\u001b[0m \u001b[0m_Reduction\u001b[0m\u001b[0;34m.\u001b[0m\u001b[0mlegacy_get_string\u001b[0m\u001b[0;34m(\u001b[0m\u001b[0msize_average\u001b[0m\u001b[0;34m,\u001b[0m \u001b[0mreduce\u001b[0m\u001b[0;34m)\u001b[0m\u001b[0;34m\u001b[0m\u001b[0;34m\u001b[0m\u001b[0m\n\u001b[0;32m-> 3494\u001b[0;31m     return torch._C._nn.cross_entropy_loss(\n\u001b[0m\u001b[1;32m   3495\u001b[0m         \u001b[0minput\u001b[0m\u001b[0;34m,\u001b[0m\u001b[0;34m\u001b[0m\u001b[0;34m\u001b[0m\u001b[0m\n\u001b[1;32m   3496\u001b[0m         \u001b[0mtarget\u001b[0m\u001b[0;34m,\u001b[0m\u001b[0;34m\u001b[0m\u001b[0;34m\u001b[0m\u001b[0m\n",
            "\u001b[0;31mRuntimeError\u001b[0m: only batches of spatial targets supported (3D tensors) but got targets of size: : [1]"
          ]
        }
      ],
      "source": [
        "layer_to_ablate = 0\n",
        "head_index_to_ablate = 14\n",
        "\n",
        "# We define a head ablation hook\n",
        "# The type annotations are NOT necessary, they're just a useful guide to the reader\n",
        "#\n",
        "def head_ablation_hook(\n",
        "    value: Float[torch.Tensor, \"batch pos head_index d_head\"],\n",
        "    hook: HookPoint\n",
        ") -> Float[torch.Tensor, \"batch pos head_index d_head\"]:\n",
        "    print(f\"Shape of the value tensor: {value.shape}\")\n",
        "    value[:, :, head_index_to_ablate, :] = 0.\n",
        "    return value\n",
        "\n",
        "#we need index of 72 and find loss at 1 position behind it\n",
        "index_72=model.to_str_tokens(gpt2_tokens).index(\" 72\")  #don't forget the space before 72\n",
        "pos=index_72-1\n",
        "print(\"Finding loss at position : \",pos)\n",
        "\n",
        "# print(model.to_tokens(\"72\"))\n",
        "# print(model.to_tokens(\" 72\"))\n",
        "# print(gpt2_tokens)\n",
        "\n",
        "clean_logits = model(gpt2_tokens, return_type=\"logits\")\n",
        "original_loss =find_loss_at_pos(pos,clean_logits[:,pos,:], gpt2_tokens[0,index_72])\n",
        "# ablated_loss = model.run_with_hooks(\n",
        "#     gpt2_tokens,\n",
        "#     return_type=\"logits\",\n",
        "#     fwd_hooks=[(\n",
        "#         utils.get_act_name(\"v\", layer_to_ablate),\n",
        "#         head_ablation_hook\n",
        "#         )]\n",
        "#     )\n",
        "# print(f\"Original Loss: {original_loss.item():.3f}\")\n",
        "# print(f\"Ablated Loss: {ablated_loss.item():.3f}\")"
      ]
    },
    {
      "cell_type": "markdown",
      "metadata": {
        "id": "ayXmo9ZPOYkr"
      },
      "source": [
        "**Gotcha:** Hooks are global state - they're added in as part of the model, and stay there until removed. `run_with_hooks` tries to create an abstraction where these are local state, by removing all hooks at the end of the function. But you can easily shoot yourself in the foot if there's, eg, an error in one of your hooks so the function never finishes. If you start getting bugs, try `model.reset_hooks()` to clean things up. Further, if you *do* add hooks of your own that you want to keep, which you can do with `add_perma_hook` on the relevant HookPoint"
      ]
    },
    {
      "cell_type": "markdown",
      "metadata": {
        "id": "CbZI57c1OYkr"
      },
      "source": [
        "### Activation Patching on the Indirect Object Identification Task"
      ]
    },
    {
      "cell_type": "markdown",
      "metadata": {
        "id": "g_TJT_bZOYkr"
      },
      "source": [
        "For a somewhat more involved example, let's use hooks to apply **[activation patching](https://dynalist.io/d/n2ZWtnoYHrU1s4vnFSAQ519J#z=qeWBvs-R-taFfcCq-S_hgMqx)** on the **[Indirect Object Identification](https://dynalist.io/d/n2ZWtnoYHrU1s4vnFSAQ519J#z=iWsV3s5Kdd2ca3zNgXr5UPHa)** (IOI) task.\n",
        "\n",
        "The IOI task is the task of identifying that a sentence like \"After John and Mary went to the store, Mary gave a bottle of milk to\" continues with \" John\" rather than \" Mary\" (ie, finding the indirect object), and Redwood Research have [an excellent paper studying the underlying circuit in GPT-2 Small](https://arxiv.org/abs/2211.00593).\n",
        "\n",
        "**[Activation patching](https://dynalist.io/d/n2ZWtnoYHrU1s4vnFSAQ519J#z=qeWBvs-R-taFfcCq-S_hgMqx)** is a technique from [Kevin Meng and David Bau's excellent ROME paper](https://rome.baulab.info/). The goal is to identify which model activations are important for completing a task. We do this by setting up a **clean prompt** and a **corrupted prompt** and a **metric** for performance on the task. We then pick a specific model activation, run the model on the corrupted prompt, but then *intervene* on that activation and patch in its value when run on the clean prompt. We then apply the metric, and see how much this patch has recovered the clean performance.\n",
        "(See [a more detailed demonstration of activation patching here](https://colab.research.google.com/github/TransformerLensOrg/TransformerLens/blob/main/demos/Exploratory_Analysis_Demo.ipynb))"
      ]
    },
    {
      "cell_type": "markdown",
      "metadata": {
        "id": "cZwsuJ6POYkr"
      },
      "source": [
        "Here, our clean prompt is \"After John and Mary went to the store, **Mary** gave a bottle of milk to\", our corrupted prompt is \"After John and Mary went to the store, **John** gave a bottle of milk to\", and our metric is the difference between the correct logit ( John) and the incorrect logit ( Mary) on the final token.\n",
        "\n",
        "We see that the logit difference is significantly positive on the clean prompt, and significantly negative on the corrupted prompt, showing that the model is capable of doing the task!"
      ]
    },
    {
      "cell_type": "code",
      "execution_count": 55,
      "metadata": {
        "id": "Ghnp0wNTOYkr",
        "outputId": "17ed548a-d2ee-490b-efce-44e8ddef6a8b",
        "colab": {
          "base_uri": "https://localhost:8080/"
        }
      },
      "outputs": [
        {
          "output_type": "stream",
          "name": "stdout",
          "text": [
            "Clean logit difference: 4.276\n",
            "Corrupted logit difference: 1.316\n"
          ]
        }
      ],
      "source": [
        "clean_prompt = \"After John and Mary went to the store, Mary gave a bottle of milk to\"\n",
        "corrupted_prompt = \"After John and Mary went in of the store, Dog gave a bottle of milk to\"\n",
        "\n",
        "clean_tokens = model.to_tokens(clean_prompt)\n",
        "corrupted_tokens = model.to_tokens(corrupted_prompt)\n",
        "\n",
        "def logits_to_logit_diff(logits, correct_answer=\" John\", incorrect_answer=\" Mary\"):\n",
        "    # model.to_single_token maps a string value of a single token to the token index for that token\n",
        "    # If the string is not a single token, it raises an error.\n",
        "    correct_index = model.to_single_token(correct_answer)\n",
        "    incorrect_index = model.to_single_token(incorrect_answer)\n",
        "    return logits[0, -1, correct_index] - logits[0, -1, incorrect_index]\n",
        "\n",
        "# We run on the clean prompt with the cache so we store activations to patch in later.\n",
        "clean_logits, clean_cache = model.run_with_cache(clean_tokens)\n",
        "clean_logit_diff = logits_to_logit_diff(clean_logits)\n",
        "print(f\"Clean logit difference: {clean_logit_diff.item():.3f}\")\n",
        "\n",
        "# We don't need to cache on the corrupted prompt.\n",
        "corrupted_logits = model(corrupted_tokens)\n",
        "corrupted_logit_diff = logits_to_logit_diff(corrupted_logits)\n",
        "print(f\"Corrupted logit difference: {corrupted_logit_diff.item():.3f}\")"
      ]
    },
    {
      "cell_type": "markdown",
      "metadata": {
        "id": "_5MSFVRROYks"
      },
      "source": [
        "We now setup the hook function to do activation patching. Here, we'll patch in the [residual stream](https://dynalist.io/d/n2ZWtnoYHrU1s4vnFSAQ519J#z=DHp9vZ0h9lA9OCrzG2Y3rrzH) at the start of a specific layer and at a specific position. This will let us see how much the model is using the residual stream at that layer and position to represent the key information for the task.\n",
        "\n",
        "We want to iterate over all layers and positions, so we write the hook to take in an position parameter. Hook functions must have the input signature (activation, hook), but we can use `functools.partial` to set the position parameter before passing it to `run_with_hooks`"
      ]
    },
    {
      "cell_type": "code",
      "execution_count": 56,
      "metadata": {
        "id": "j3iCDyOyOYks",
        "outputId": "0b698e17-9890-4a0b-c3a4-db7866c5e5ce",
        "colab": {
          "base_uri": "https://localhost:8080/",
          "height": 49,
          "referenced_widgets": [
            "82ecb003d5124dd5b0948f85815df925",
            "268879aba8fb4097b749030379a953e1",
            "41a2e5e2f0934271ac37e0a9a9faed8f",
            "3f720965cf314954809827e9f72b01e9",
            "fcda87784d614de0870baed4451ef675",
            "779976ce2e384aaa987783adfc06645f",
            "193b7a3190fb40db9c891a5aee7e76e4",
            "8beb4ef10adb4697a5ac0ebd928daa42",
            "dd0205451b7144cb94a00e15694ac7fb",
            "1b81c4197b734612bfbd84ee79c2e66a",
            "a720c8ac8aa54bbd948e061172db7b5c"
          ]
        }
      },
      "outputs": [
        {
          "output_type": "display_data",
          "data": {
            "text/plain": [
              "  0%|          | 0/12 [00:00<?, ?it/s]"
            ],
            "application/vnd.jupyter.widget-view+json": {
              "version_major": 2,
              "version_minor": 0,
              "model_id": "82ecb003d5124dd5b0948f85815df925"
            }
          },
          "metadata": {}
        }
      ],
      "source": [
        "# We define a residual stream patching hook\n",
        "# We choose to act on the residual stream at the start of the layer, so we call it resid_pre\n",
        "# The type annotations are a guide to the reader and are not necessary\n",
        "def residual_stream_patching_hook(\n",
        "    resid_pre: Float[torch.Tensor, \"batch pos d_model\"],\n",
        "    hook: HookPoint,\n",
        "    position: int\n",
        ") -> Float[torch.Tensor, \"batch pos d_model\"]:\n",
        "    # Each HookPoint has a name attribute giving the name of the hook.\n",
        "    clean_resid_pre = clean_cache[hook.name]\n",
        "    resid_pre[:, position, :] = clean_resid_pre[:, position, :]\n",
        "    return resid_pre\n",
        "\n",
        "# We make a tensor to store the results for each patching run. We put it on the model's device to avoid needing to move things between the GPU and CPU, which can be slow.\n",
        "num_positions = len(clean_tokens[0])\n",
        "ioi_patching_result = torch.zeros((model.cfg.n_layers, num_positions), device=model.cfg.device)\n",
        "\n",
        "for layer in tqdm.tqdm(range(model.cfg.n_layers)):\n",
        "    for position in range(num_positions):\n",
        "        # Use functools.partial to create a temporary hook function with the position fixed\n",
        "        temp_hook_fn = partial(residual_stream_patching_hook, position=position)\n",
        "        # Run the model with the patching hook\n",
        "        patched_logits = model.run_with_hooks(corrupted_tokens, fwd_hooks=[\n",
        "            (utils.get_act_name(\"resid_pre\", layer), temp_hook_fn)\n",
        "        ])\n",
        "        # Calculate the logit difference\n",
        "        patched_logit_diff = logits_to_logit_diff(patched_logits).detach()\n",
        "        # Store the result, normalizing by the clean and corrupted logit difference so it's between 0 and 1 (ish)\n",
        "        ioi_patching_result[layer, position] = (patched_logit_diff - corrupted_logit_diff)/(clean_logit_diff - corrupted_logit_diff)"
      ]
    },
    {
      "cell_type": "markdown",
      "metadata": {
        "id": "xkN_x2yGOYks"
      },
      "source": [
        "We can now visualize the results, and see that this computation is extremely localised within the model. Initially, the second subject (Mary) token is all that matters (naturally, as it's the only different token), and all relevant information remains here until heads in layer 7 and 8 move this to the final token where it's used to predict the indirect object.\n",
        "(Note - the heads are in layer 7 and 8, not 8 and 9, because we patched in the residual stream at the *start* of each layer)"
      ]
    },
    {
      "cell_type": "code",
      "execution_count": 57,
      "metadata": {
        "id": "Fa8-uO-KOYks",
        "outputId": "d42d25ea-7b1f-4861-a331-57440db4cb84",
        "colab": {
          "base_uri": "https://localhost:8080/",
          "height": 542
        }
      },
      "outputs": [
        {
          "output_type": "display_data",
          "data": {
            "text/html": [
              "<html>\n",
              "<head><meta charset=\"utf-8\" /></head>\n",
              "<body>\n",
              "    <div>            <script src=\"https://cdnjs.cloudflare.com/ajax/libs/mathjax/2.7.5/MathJax.js?config=TeX-AMS-MML_SVG\"></script><script type=\"text/javascript\">if (window.MathJax && window.MathJax.Hub && window.MathJax.Hub.Config) {window.MathJax.Hub.Config({SVG: {font: \"STIX-Web\"}});}</script>                <script type=\"text/javascript\">window.PlotlyConfig = {MathJaxConfig: 'local'};</script>\n",
              "        <script charset=\"utf-8\" src=\"https://cdn.plot.ly/plotly-2.35.2.min.js\"></script>                <div id=\"bcafd857-b37a-4259-ac4c-56568f4ec34f\" class=\"plotly-graph-div\" style=\"height:525px; width:100%;\"></div>            <script type=\"text/javascript\">                                    window.PLOTLYENV=window.PLOTLYENV || {};                                    if (document.getElementById(\"bcafd857-b37a-4259-ac4c-56568f4ec34f\")) {                    Plotly.newPlot(                        \"bcafd857-b37a-4259-ac4c-56568f4ec34f\",                        [{\"coloraxis\":\"coloraxis\",\"name\":\"0\",\"x\":[\"\\u003c|endoftext|\\u003e_0\",\"After_1\",\" John_2\",\" and_3\",\" Mary_4\",\" went_5\",\" to_6\",\" the_7\",\" store_8\",\",_9\",\" Mary_10\",\" gave_11\",\" a_12\",\" bottle_13\",\" of_14\",\" milk_15\",\" to_16\"],\"z\":[[0.0,0.0,0.0,0.0,0.0,0.0,0.012307305,0.015707122,-0.032323867,-0.18639822,0.69059896,-0.14503609,-0.4096098,0.06658487,-0.10273019,-0.12653439,-0.30522302],[0.0,0.0,0.0,0.0,0.0,0.0,0.008347347,0.014781392,-0.022561513,-0.21103925,0.69558674,-0.13031945,-0.41374564,0.07986461,-0.11112586,-0.16127887,-0.23743477],[0.0,0.0,0.0,0.0,0.0,0.0,0.014459931,0.015066777,0.00003897469,-0.21767879,0.725528,-0.12527302,-0.45803505,0.043511856,-0.09722671,-0.13030365,-0.20791885],[0.0,0.0,0.0,0.0,0.0,0.0,0.03050913,0.016653143,0.030903064,-0.13033071,0.8290815,-0.09758779,-0.3495173,-0.011315222,-0.024412006,-0.09558011,0.13107543],[0.0,0.0,0.0,0.0,0.0,0.0,0.034712274,0.021752708,0.029979588,-0.13203464,0.9456493,-0.07294902,-0.22082253,0.01449182,0.011784528,-0.100765355,0.03735869],[0.0,0.0,0.0,0.0,0.0,0.0,0.029293505,0.0059325276,0.03543218,-0.10307356,0.9500029,-0.011752318,-0.10959135,0.0030026615,0.05294631,-0.09356309,0.023671165],[0.0,0.0,0.0,0.0,0.0,0.0,0.025801565,0.0068543917,0.036473867,-0.09971787,0.9543465,-0.015560886,-0.040574905,-0.015418516,0.011044332,-0.05746544,0.0032584127],[0.0,0.0,0.0,0.0,0.0,0.0,0.02810236,0.0015499686,0.0140943425,-0.06663061,0.9421661,0.0315637,-0.018631835,-0.021233797,0.004351637,-0.03683978,0.0206466],[0.0,0.0,0.0,0.0,0.0,0.0,0.020764813,-0.0022701952,0.0077485545,-0.059637714,0.6888815,-0.023988437,0.05992439,-0.010480648,0.0054841572,-0.01932758,0.04403399],[0.0,0.0,0.0,0.0,0.0,0.0,0.010154678,0.002232831,0.00020421449,-0.04157601,0.2965613,0.0066579077,0.014440605,-0.00496879,0.0074747656,-0.014195161,0.067866206],[0.0,0.0,0.0,0.0,0.0,0.0,0.004316205,-0.00094376726,-0.0076654516,-0.026402935,0.14441572,0.0851845,0.012996287,0.007298252,-0.0014169393,-0.0070302607,0.04703826],[0.0,0.0,0.0,0.0,0.0,0.0,0.00069606863,0.002503399,0.002210928,-0.026673503,0.08177212,0.0635107,0.0057647107,0.0077820537,-0.00460771,-0.005998881,0.030315865]],\"type\":\"heatmap\",\"xaxis\":\"x\",\"yaxis\":\"y\",\"hovertemplate\":\"Position: %{x}\\u003cbr\\u003eLayer: %{y}\\u003cbr\\u003ecolor: %{z}\\u003cextra\\u003e\\u003c\\u002fextra\\u003e\"}],                        {\"template\":{\"data\":{\"histogram2dcontour\":[{\"type\":\"histogram2dcontour\",\"colorbar\":{\"outlinewidth\":0,\"ticks\":\"\"},\"colorscale\":[[0.0,\"#0d0887\"],[0.1111111111111111,\"#46039f\"],[0.2222222222222222,\"#7201a8\"],[0.3333333333333333,\"#9c179e\"],[0.4444444444444444,\"#bd3786\"],[0.5555555555555556,\"#d8576b\"],[0.6666666666666666,\"#ed7953\"],[0.7777777777777778,\"#fb9f3a\"],[0.8888888888888888,\"#fdca26\"],[1.0,\"#f0f921\"]]}],\"choropleth\":[{\"type\":\"choropleth\",\"colorbar\":{\"outlinewidth\":0,\"ticks\":\"\"}}],\"histogram2d\":[{\"type\":\"histogram2d\",\"colorbar\":{\"outlinewidth\":0,\"ticks\":\"\"},\"colorscale\":[[0.0,\"#0d0887\"],[0.1111111111111111,\"#46039f\"],[0.2222222222222222,\"#7201a8\"],[0.3333333333333333,\"#9c179e\"],[0.4444444444444444,\"#bd3786\"],[0.5555555555555556,\"#d8576b\"],[0.6666666666666666,\"#ed7953\"],[0.7777777777777778,\"#fb9f3a\"],[0.8888888888888888,\"#fdca26\"],[1.0,\"#f0f921\"]]}],\"heatmap\":[{\"type\":\"heatmap\",\"colorbar\":{\"outlinewidth\":0,\"ticks\":\"\"},\"colorscale\":[[0.0,\"#0d0887\"],[0.1111111111111111,\"#46039f\"],[0.2222222222222222,\"#7201a8\"],[0.3333333333333333,\"#9c179e\"],[0.4444444444444444,\"#bd3786\"],[0.5555555555555556,\"#d8576b\"],[0.6666666666666666,\"#ed7953\"],[0.7777777777777778,\"#fb9f3a\"],[0.8888888888888888,\"#fdca26\"],[1.0,\"#f0f921\"]]}],\"heatmapgl\":[{\"type\":\"heatmapgl\",\"colorbar\":{\"outlinewidth\":0,\"ticks\":\"\"},\"colorscale\":[[0.0,\"#0d0887\"],[0.1111111111111111,\"#46039f\"],[0.2222222222222222,\"#7201a8\"],[0.3333333333333333,\"#9c179e\"],[0.4444444444444444,\"#bd3786\"],[0.5555555555555556,\"#d8576b\"],[0.6666666666666666,\"#ed7953\"],[0.7777777777777778,\"#fb9f3a\"],[0.8888888888888888,\"#fdca26\"],[1.0,\"#f0f921\"]]}],\"contourcarpet\":[{\"type\":\"contourcarpet\",\"colorbar\":{\"outlinewidth\":0,\"ticks\":\"\"}}],\"contour\":[{\"type\":\"contour\",\"colorbar\":{\"outlinewidth\":0,\"ticks\":\"\"},\"colorscale\":[[0.0,\"#0d0887\"],[0.1111111111111111,\"#46039f\"],[0.2222222222222222,\"#7201a8\"],[0.3333333333333333,\"#9c179e\"],[0.4444444444444444,\"#bd3786\"],[0.5555555555555556,\"#d8576b\"],[0.6666666666666666,\"#ed7953\"],[0.7777777777777778,\"#fb9f3a\"],[0.8888888888888888,\"#fdca26\"],[1.0,\"#f0f921\"]]}],\"surface\":[{\"type\":\"surface\",\"colorbar\":{\"outlinewidth\":0,\"ticks\":\"\"},\"colorscale\":[[0.0,\"#0d0887\"],[0.1111111111111111,\"#46039f\"],[0.2222222222222222,\"#7201a8\"],[0.3333333333333333,\"#9c179e\"],[0.4444444444444444,\"#bd3786\"],[0.5555555555555556,\"#d8576b\"],[0.6666666666666666,\"#ed7953\"],[0.7777777777777778,\"#fb9f3a\"],[0.8888888888888888,\"#fdca26\"],[1.0,\"#f0f921\"]]}],\"mesh3d\":[{\"type\":\"mesh3d\",\"colorbar\":{\"outlinewidth\":0,\"ticks\":\"\"}}],\"scatter\":[{\"fillpattern\":{\"fillmode\":\"overlay\",\"size\":10,\"solidity\":0.2},\"type\":\"scatter\"}],\"parcoords\":[{\"type\":\"parcoords\",\"line\":{\"colorbar\":{\"outlinewidth\":0,\"ticks\":\"\"}}}],\"scatterpolargl\":[{\"type\":\"scatterpolargl\",\"marker\":{\"colorbar\":{\"outlinewidth\":0,\"ticks\":\"\"}}}],\"bar\":[{\"error_x\":{\"color\":\"#2a3f5f\"},\"error_y\":{\"color\":\"#2a3f5f\"},\"marker\":{\"line\":{\"color\":\"#E5ECF6\",\"width\":0.5},\"pattern\":{\"fillmode\":\"overlay\",\"size\":10,\"solidity\":0.2}},\"type\":\"bar\"}],\"scattergeo\":[{\"type\":\"scattergeo\",\"marker\":{\"colorbar\":{\"outlinewidth\":0,\"ticks\":\"\"}}}],\"scatterpolar\":[{\"type\":\"scatterpolar\",\"marker\":{\"colorbar\":{\"outlinewidth\":0,\"ticks\":\"\"}}}],\"histogram\":[{\"marker\":{\"pattern\":{\"fillmode\":\"overlay\",\"size\":10,\"solidity\":0.2}},\"type\":\"histogram\"}],\"scattergl\":[{\"type\":\"scattergl\",\"marker\":{\"colorbar\":{\"outlinewidth\":0,\"ticks\":\"\"}}}],\"scatter3d\":[{\"type\":\"scatter3d\",\"line\":{\"colorbar\":{\"outlinewidth\":0,\"ticks\":\"\"}},\"marker\":{\"colorbar\":{\"outlinewidth\":0,\"ticks\":\"\"}}}],\"scattermapbox\":[{\"type\":\"scattermapbox\",\"marker\":{\"colorbar\":{\"outlinewidth\":0,\"ticks\":\"\"}}}],\"scatterternary\":[{\"type\":\"scatterternary\",\"marker\":{\"colorbar\":{\"outlinewidth\":0,\"ticks\":\"\"}}}],\"scattercarpet\":[{\"type\":\"scattercarpet\",\"marker\":{\"colorbar\":{\"outlinewidth\":0,\"ticks\":\"\"}}}],\"carpet\":[{\"aaxis\":{\"endlinecolor\":\"#2a3f5f\",\"gridcolor\":\"white\",\"linecolor\":\"white\",\"minorgridcolor\":\"white\",\"startlinecolor\":\"#2a3f5f\"},\"baxis\":{\"endlinecolor\":\"#2a3f5f\",\"gridcolor\":\"white\",\"linecolor\":\"white\",\"minorgridcolor\":\"white\",\"startlinecolor\":\"#2a3f5f\"},\"type\":\"carpet\"}],\"table\":[{\"cells\":{\"fill\":{\"color\":\"#EBF0F8\"},\"line\":{\"color\":\"white\"}},\"header\":{\"fill\":{\"color\":\"#C8D4E3\"},\"line\":{\"color\":\"white\"}},\"type\":\"table\"}],\"barpolar\":[{\"marker\":{\"line\":{\"color\":\"#E5ECF6\",\"width\":0.5},\"pattern\":{\"fillmode\":\"overlay\",\"size\":10,\"solidity\":0.2}},\"type\":\"barpolar\"}],\"pie\":[{\"automargin\":true,\"type\":\"pie\"}]},\"layout\":{\"autotypenumbers\":\"strict\",\"colorway\":[\"#636efa\",\"#EF553B\",\"#00cc96\",\"#ab63fa\",\"#FFA15A\",\"#19d3f3\",\"#FF6692\",\"#B6E880\",\"#FF97FF\",\"#FECB52\"],\"font\":{\"color\":\"#2a3f5f\"},\"hovermode\":\"closest\",\"hoverlabel\":{\"align\":\"left\"},\"paper_bgcolor\":\"white\",\"plot_bgcolor\":\"#E5ECF6\",\"polar\":{\"bgcolor\":\"#E5ECF6\",\"angularaxis\":{\"gridcolor\":\"white\",\"linecolor\":\"white\",\"ticks\":\"\"},\"radialaxis\":{\"gridcolor\":\"white\",\"linecolor\":\"white\",\"ticks\":\"\"}},\"ternary\":{\"bgcolor\":\"#E5ECF6\",\"aaxis\":{\"gridcolor\":\"white\",\"linecolor\":\"white\",\"ticks\":\"\"},\"baxis\":{\"gridcolor\":\"white\",\"linecolor\":\"white\",\"ticks\":\"\"},\"caxis\":{\"gridcolor\":\"white\",\"linecolor\":\"white\",\"ticks\":\"\"}},\"coloraxis\":{\"colorbar\":{\"outlinewidth\":0,\"ticks\":\"\"}},\"colorscale\":{\"sequential\":[[0.0,\"#0d0887\"],[0.1111111111111111,\"#46039f\"],[0.2222222222222222,\"#7201a8\"],[0.3333333333333333,\"#9c179e\"],[0.4444444444444444,\"#bd3786\"],[0.5555555555555556,\"#d8576b\"],[0.6666666666666666,\"#ed7953\"],[0.7777777777777778,\"#fb9f3a\"],[0.8888888888888888,\"#fdca26\"],[1.0,\"#f0f921\"]],\"sequentialminus\":[[0.0,\"#0d0887\"],[0.1111111111111111,\"#46039f\"],[0.2222222222222222,\"#7201a8\"],[0.3333333333333333,\"#9c179e\"],[0.4444444444444444,\"#bd3786\"],[0.5555555555555556,\"#d8576b\"],[0.6666666666666666,\"#ed7953\"],[0.7777777777777778,\"#fb9f3a\"],[0.8888888888888888,\"#fdca26\"],[1.0,\"#f0f921\"]],\"diverging\":[[0,\"#8e0152\"],[0.1,\"#c51b7d\"],[0.2,\"#de77ae\"],[0.3,\"#f1b6da\"],[0.4,\"#fde0ef\"],[0.5,\"#f7f7f7\"],[0.6,\"#e6f5d0\"],[0.7,\"#b8e186\"],[0.8,\"#7fbc41\"],[0.9,\"#4d9221\"],[1,\"#276419\"]]},\"xaxis\":{\"gridcolor\":\"white\",\"linecolor\":\"white\",\"ticks\":\"\",\"title\":{\"standoff\":15},\"zerolinecolor\":\"white\",\"automargin\":true,\"zerolinewidth\":2},\"yaxis\":{\"gridcolor\":\"white\",\"linecolor\":\"white\",\"ticks\":\"\",\"title\":{\"standoff\":15},\"zerolinecolor\":\"white\",\"automargin\":true,\"zerolinewidth\":2},\"scene\":{\"xaxis\":{\"backgroundcolor\":\"#E5ECF6\",\"gridcolor\":\"white\",\"linecolor\":\"white\",\"showbackground\":true,\"ticks\":\"\",\"zerolinecolor\":\"white\",\"gridwidth\":2},\"yaxis\":{\"backgroundcolor\":\"#E5ECF6\",\"gridcolor\":\"white\",\"linecolor\":\"white\",\"showbackground\":true,\"ticks\":\"\",\"zerolinecolor\":\"white\",\"gridwidth\":2},\"zaxis\":{\"backgroundcolor\":\"#E5ECF6\",\"gridcolor\":\"white\",\"linecolor\":\"white\",\"showbackground\":true,\"ticks\":\"\",\"zerolinecolor\":\"white\",\"gridwidth\":2}},\"shapedefaults\":{\"line\":{\"color\":\"#2a3f5f\"}},\"annotationdefaults\":{\"arrowcolor\":\"#2a3f5f\",\"arrowhead\":0,\"arrowwidth\":1},\"geo\":{\"bgcolor\":\"white\",\"landcolor\":\"#E5ECF6\",\"subunitcolor\":\"white\",\"showland\":true,\"showlakes\":true,\"lakecolor\":\"white\"},\"title\":{\"x\":0.05},\"mapbox\":{\"style\":\"light\"}}},\"xaxis\":{\"anchor\":\"y\",\"domain\":[0.0,1.0],\"scaleanchor\":\"y\",\"constrain\":\"domain\",\"title\":{\"text\":\"Position\"}},\"yaxis\":{\"anchor\":\"x\",\"domain\":[0.0,1.0],\"autorange\":\"reversed\",\"constrain\":\"domain\",\"title\":{\"text\":\"Layer\"}},\"coloraxis\":{\"colorscale\":[[0.0,\"rgb(103,0,31)\"],[0.1,\"rgb(178,24,43)\"],[0.2,\"rgb(214,96,77)\"],[0.3,\"rgb(244,165,130)\"],[0.4,\"rgb(253,219,199)\"],[0.5,\"rgb(247,247,247)\"],[0.6,\"rgb(209,229,240)\"],[0.7,\"rgb(146,197,222)\"],[0.8,\"rgb(67,147,195)\"],[0.9,\"rgb(33,102,172)\"],[1.0,\"rgb(5,48,97)\"]],\"cmid\":0.0},\"title\":{\"text\":\"Normalized Logit Difference After Patching Residual Stream on the IOI Task\"}},                        {\"responsive\": true}                    ).then(function(){\n",
              "                            \n",
              "var gd = document.getElementById('bcafd857-b37a-4259-ac4c-56568f4ec34f');\n",
              "var x = new MutationObserver(function (mutations, observer) {{\n",
              "        var display = window.getComputedStyle(gd).display;\n",
              "        if (!display || display === 'none') {{\n",
              "            console.log([gd, 'removed!']);\n",
              "            Plotly.purge(gd);\n",
              "            observer.disconnect();\n",
              "        }}\n",
              "}});\n",
              "\n",
              "// Listen for the removal of the full notebook cells\n",
              "var notebookContainer = gd.closest('#notebook-container');\n",
              "if (notebookContainer) {{\n",
              "    x.observe(notebookContainer, {childList: true});\n",
              "}}\n",
              "\n",
              "// Listen for the clearing of the current output cell\n",
              "var outputEl = gd.closest('.output');\n",
              "if (outputEl) {{\n",
              "    x.observe(outputEl, {childList: true});\n",
              "}}\n",
              "\n",
              "                        })                };                            </script>        </div>\n",
              "</body>\n",
              "</html>"
            ]
          },
          "metadata": {}
        }
      ],
      "source": [
        "# Add the index to the end of the label, because plotly doesn't like duplicate labels\n",
        "token_labels = [f\"{token}_{index}\" for index, token in enumerate(model.to_str_tokens(clean_tokens))]\n",
        "imshow(ioi_patching_result, x=token_labels, xaxis=\"Position\", yaxis=\"Layer\", title=\"Normalized Logit Difference After Patching Residual Stream on the IOI Task\")"
      ]
    },
    {
      "cell_type": "markdown",
      "metadata": {
        "id": "ryacPjtOOYkt"
      },
      "source": [
        "## Hooks: Accessing Activations"
      ]
    },
    {
      "cell_type": "markdown",
      "metadata": {
        "id": "iC0TLcijOYkt"
      },
      "source": [
        "Hooks can also be used to just **access** an activation - to run some function using that activation value, *without* changing the activation value. This can be achieved by just having the hook return nothing, and not editing the activation in place.\n",
        "\n",
        "This is useful for eg extracting activations for a specific task, or for doing some long-running calculation across many inputs, eg finding the text that most activates a specific neuron. (Note - everything this can do *could* be done with `run_with_cache` and post-processing, but this workflow can be more intuitive and memory efficient.)"
      ]
    },
    {
      "cell_type": "markdown",
      "metadata": {
        "id": "E2dc9UXhOYkt"
      },
      "source": [
        "To demonstrate this, let's look for **[induction heads](https://transformer-circuits.pub/2022/in-context-learning-and-induction-heads/index.html)** in GPT-2 Small.\n",
        "\n",
        "Induction circuits are a very important circuit in generative language models, which are used to detect and continue repeated subsequences. They consist of two heads in separate layers that compose together, a **previous token head** which always attends to the previous token, and an **induction head** which attends to the token *after* an earlier copy of the current token.\n",
        "\n",
        "To see why this is important, let's say that the model is trying to predict the next token in a news article about Michael Jordan. The token \" Michael\", in general, could be followed by many surnames. But an induction head will look from that occurrence of \" Michael\" to the token after previous occurrences of \" Michael\", ie \" Jordan\" and can confidently predict that that will come next."
      ]
    },
    {
      "cell_type": "markdown",
      "metadata": {
        "id": "18w9ZBRgOYkt"
      },
      "source": [
        "An interesting fact about induction heads is that they generalise to arbitrary sequences of repeated tokens. We can see this by generating sequences of 50 random tokens, repeated twice, and plotting the average loss at predicting the next token, by position. We see that the model goes from terrible to very good at the halfway point."
      ]
    },
    {
      "cell_type": "code",
      "execution_count": null,
      "metadata": {
        "id": "lBzjDNbOOYkt",
        "outputId": "a32f15cf-7018-4d62-b054-c97b2d98a430"
      },
      "outputs": [
        {
          "data": {
            "text/html": [
              "<html>\n",
              "<head><meta charset=\"utf-8\" /></head>\n",
              "<body>\n",
              "    <div>            <script src=\"https://cdnjs.cloudflare.com/ajax/libs/mathjax/2.7.5/MathJax.js?config=TeX-AMS-MML_SVG\"></script><script type=\"text/javascript\">if (window.MathJax && window.MathJax.Hub && window.MathJax.Hub.Config) {window.MathJax.Hub.Config({SVG: {font: \"STIX-Web\"}});}</script>                <script type=\"text/javascript\">window.PlotlyConfig = {MathJaxConfig: 'local'};</script>\n",
              "        <script charset=\"utf-8\" src=\"https://cdn.plot.ly/plotly-2.26.0.min.js\"></script>                <div id=\"d3e84661-e12c-4a84-8655-2f33ba1284da\" class=\"plotly-graph-div\" style=\"height:525px; width:100%;\"></div>            <script type=\"text/javascript\">                                    window.PLOTLYENV=window.PLOTLYENV || {};                                    if (document.getElementById(\"d3e84661-e12c-4a84-8655-2f33ba1284da\")) {                    Plotly.newPlot(                        \"d3e84661-e12c-4a84-8655-2f33ba1284da\",                        [{\"hovertemplate\":\"variable=0\\u003cbr\\u003eindex=%{x}\\u003cbr\\u003evalue=%{y}\\u003cextra\\u003e\\u003c\\u002fextra\\u003e\",\"legendgroup\":\"0\",\"line\":{\"color\":\"#636efa\",\"dash\":\"solid\"},\"marker\":{\"symbol\":\"circle\"},\"mode\":\"lines\",\"name\":\"0\",\"orientation\":\"v\",\"showlegend\":true,\"x\":[0,1,2,3,4,5,6,7,8,9,10,11,12,13,14,15,16,17,18,19,20,21,22,23,24,25,26,27,28,29,30,31,32,33,34,35,36,37,38,39,40,41,42,43,44,45,46,47,48,49,50,51,52,53,54,55,56,57,58,59,60,61,62,63,64,65,66,67,68,69,70,71,72,73,74,75,76,77,78,79,80,81,82,83,84,85,86,87,88,89,90,91,92,93,94,95,96,97,98],\"xaxis\":\"x\",\"y\":[10.872052192687988,12.263540267944336,14.253204345703125,13.246556282043457,13.005993843078613,13.460993766784668,12.97065258026123,13.064518928527832,11.797075271606445,12.513029098510742,12.812576293945312,12.767385482788086,12.285192489624023,13.085138320922852,12.94897747039795,12.297746658325195,12.90766716003418,11.799567222595215,12.414271354675293,12.327254295349121,10.539899826049805,12.742929458618164,11.173940658569336,11.951539993286133,12.244311332702637,13.201930046081543,11.1293363571167,11.558095932006836,11.154999732971191,10.811470031738281,11.701059341430664,11.395160675048828,12.566507339477539,11.18510627746582,10.747629165649414,11.653327941894531,12.03685188293457,11.461939811706543,12.074749946594238,9.762995719909668,11.312043190002441,12.081087112426758,11.683740615844727,11.636404991149902,13.009252548217773,11.74526596069336,11.57121753692627,11.874940872192383,11.46745777130127,10.957990646362305,1.9599711894989014,0.8824893236160278,0.8781511187553406,0.3232020437717438,0.4251673221588135,0.25897061824798584,0.4066997468471527,0.21202726662158966,0.16516722738742828,0.11655920743942261,0.2388218641281128,0.04333684220910072,0.14030048251152039,0.1186639666557312,0.18781667947769165,0.05167889595031738,0.07741443812847137,0.08716835081577301,0.07370562106370926,0.04441319778561592,0.06953944265842438,0.030275847762823105,0.03782800957560539,0.04936334118247032,0.07152687013149261,0.11301679909229279,0.03093745745718479,0.05099482089281082,0.034429892897605896,0.010404873639345169,0.10524864494800568,0.14771051704883575,0.013218658044934273,0.1266184151172638,0.0512910857796669,0.007522976957261562,0.11803790181875229,0.1785733997821808,0.13207308948040009,0.32432517409324646,0.19658631086349487,0.07713610678911209,0.03152012079954147,0.05610422044992447,0.029515912756323814,0.02569529041647911,0.0804244875907898,0.0179621372371912,0.07805689424276352],\"yaxis\":\"y\",\"type\":\"scatter\"}],                        {\"template\":{\"data\":{\"histogram2dcontour\":[{\"type\":\"histogram2dcontour\",\"colorbar\":{\"outlinewidth\":0,\"ticks\":\"\"},\"colorscale\":[[0.0,\"#0d0887\"],[0.1111111111111111,\"#46039f\"],[0.2222222222222222,\"#7201a8\"],[0.3333333333333333,\"#9c179e\"],[0.4444444444444444,\"#bd3786\"],[0.5555555555555556,\"#d8576b\"],[0.6666666666666666,\"#ed7953\"],[0.7777777777777778,\"#fb9f3a\"],[0.8888888888888888,\"#fdca26\"],[1.0,\"#f0f921\"]]}],\"choropleth\":[{\"type\":\"choropleth\",\"colorbar\":{\"outlinewidth\":0,\"ticks\":\"\"}}],\"histogram2d\":[{\"type\":\"histogram2d\",\"colorbar\":{\"outlinewidth\":0,\"ticks\":\"\"},\"colorscale\":[[0.0,\"#0d0887\"],[0.1111111111111111,\"#46039f\"],[0.2222222222222222,\"#7201a8\"],[0.3333333333333333,\"#9c179e\"],[0.4444444444444444,\"#bd3786\"],[0.5555555555555556,\"#d8576b\"],[0.6666666666666666,\"#ed7953\"],[0.7777777777777778,\"#fb9f3a\"],[0.8888888888888888,\"#fdca26\"],[1.0,\"#f0f921\"]]}],\"heatmap\":[{\"type\":\"heatmap\",\"colorbar\":{\"outlinewidth\":0,\"ticks\":\"\"},\"colorscale\":[[0.0,\"#0d0887\"],[0.1111111111111111,\"#46039f\"],[0.2222222222222222,\"#7201a8\"],[0.3333333333333333,\"#9c179e\"],[0.4444444444444444,\"#bd3786\"],[0.5555555555555556,\"#d8576b\"],[0.6666666666666666,\"#ed7953\"],[0.7777777777777778,\"#fb9f3a\"],[0.8888888888888888,\"#fdca26\"],[1.0,\"#f0f921\"]]}],\"heatmapgl\":[{\"type\":\"heatmapgl\",\"colorbar\":{\"outlinewidth\":0,\"ticks\":\"\"},\"colorscale\":[[0.0,\"#0d0887\"],[0.1111111111111111,\"#46039f\"],[0.2222222222222222,\"#7201a8\"],[0.3333333333333333,\"#9c179e\"],[0.4444444444444444,\"#bd3786\"],[0.5555555555555556,\"#d8576b\"],[0.6666666666666666,\"#ed7953\"],[0.7777777777777778,\"#fb9f3a\"],[0.8888888888888888,\"#fdca26\"],[1.0,\"#f0f921\"]]}],\"contourcarpet\":[{\"type\":\"contourcarpet\",\"colorbar\":{\"outlinewidth\":0,\"ticks\":\"\"}}],\"contour\":[{\"type\":\"contour\",\"colorbar\":{\"outlinewidth\":0,\"ticks\":\"\"},\"colorscale\":[[0.0,\"#0d0887\"],[0.1111111111111111,\"#46039f\"],[0.2222222222222222,\"#7201a8\"],[0.3333333333333333,\"#9c179e\"],[0.4444444444444444,\"#bd3786\"],[0.5555555555555556,\"#d8576b\"],[0.6666666666666666,\"#ed7953\"],[0.7777777777777778,\"#fb9f3a\"],[0.8888888888888888,\"#fdca26\"],[1.0,\"#f0f921\"]]}],\"surface\":[{\"type\":\"surface\",\"colorbar\":{\"outlinewidth\":0,\"ticks\":\"\"},\"colorscale\":[[0.0,\"#0d0887\"],[0.1111111111111111,\"#46039f\"],[0.2222222222222222,\"#7201a8\"],[0.3333333333333333,\"#9c179e\"],[0.4444444444444444,\"#bd3786\"],[0.5555555555555556,\"#d8576b\"],[0.6666666666666666,\"#ed7953\"],[0.7777777777777778,\"#fb9f3a\"],[0.8888888888888888,\"#fdca26\"],[1.0,\"#f0f921\"]]}],\"mesh3d\":[{\"type\":\"mesh3d\",\"colorbar\":{\"outlinewidth\":0,\"ticks\":\"\"}}],\"scatter\":[{\"fillpattern\":{\"fillmode\":\"overlay\",\"size\":10,\"solidity\":0.2},\"type\":\"scatter\"}],\"parcoords\":[{\"type\":\"parcoords\",\"line\":{\"colorbar\":{\"outlinewidth\":0,\"ticks\":\"\"}}}],\"scatterpolargl\":[{\"type\":\"scatterpolargl\",\"marker\":{\"colorbar\":{\"outlinewidth\":0,\"ticks\":\"\"}}}],\"bar\":[{\"error_x\":{\"color\":\"#2a3f5f\"},\"error_y\":{\"color\":\"#2a3f5f\"},\"marker\":{\"line\":{\"color\":\"#E5ECF6\",\"width\":0.5},\"pattern\":{\"fillmode\":\"overlay\",\"size\":10,\"solidity\":0.2}},\"type\":\"bar\"}],\"scattergeo\":[{\"type\":\"scattergeo\",\"marker\":{\"colorbar\":{\"outlinewidth\":0,\"ticks\":\"\"}}}],\"scatterpolar\":[{\"type\":\"scatterpolar\",\"marker\":{\"colorbar\":{\"outlinewidth\":0,\"ticks\":\"\"}}}],\"histogram\":[{\"marker\":{\"pattern\":{\"fillmode\":\"overlay\",\"size\":10,\"solidity\":0.2}},\"type\":\"histogram\"}],\"scattergl\":[{\"type\":\"scattergl\",\"marker\":{\"colorbar\":{\"outlinewidth\":0,\"ticks\":\"\"}}}],\"scatter3d\":[{\"type\":\"scatter3d\",\"line\":{\"colorbar\":{\"outlinewidth\":0,\"ticks\":\"\"}},\"marker\":{\"colorbar\":{\"outlinewidth\":0,\"ticks\":\"\"}}}],\"scattermapbox\":[{\"type\":\"scattermapbox\",\"marker\":{\"colorbar\":{\"outlinewidth\":0,\"ticks\":\"\"}}}],\"scatterternary\":[{\"type\":\"scatterternary\",\"marker\":{\"colorbar\":{\"outlinewidth\":0,\"ticks\":\"\"}}}],\"scattercarpet\":[{\"type\":\"scattercarpet\",\"marker\":{\"colorbar\":{\"outlinewidth\":0,\"ticks\":\"\"}}}],\"carpet\":[{\"aaxis\":{\"endlinecolor\":\"#2a3f5f\",\"gridcolor\":\"white\",\"linecolor\":\"white\",\"minorgridcolor\":\"white\",\"startlinecolor\":\"#2a3f5f\"},\"baxis\":{\"endlinecolor\":\"#2a3f5f\",\"gridcolor\":\"white\",\"linecolor\":\"white\",\"minorgridcolor\":\"white\",\"startlinecolor\":\"#2a3f5f\"},\"type\":\"carpet\"}],\"table\":[{\"cells\":{\"fill\":{\"color\":\"#EBF0F8\"},\"line\":{\"color\":\"white\"}},\"header\":{\"fill\":{\"color\":\"#C8D4E3\"},\"line\":{\"color\":\"white\"}},\"type\":\"table\"}],\"barpolar\":[{\"marker\":{\"line\":{\"color\":\"#E5ECF6\",\"width\":0.5},\"pattern\":{\"fillmode\":\"overlay\",\"size\":10,\"solidity\":0.2}},\"type\":\"barpolar\"}],\"pie\":[{\"automargin\":true,\"type\":\"pie\"}]},\"layout\":{\"autotypenumbers\":\"strict\",\"colorway\":[\"#636efa\",\"#EF553B\",\"#00cc96\",\"#ab63fa\",\"#FFA15A\",\"#19d3f3\",\"#FF6692\",\"#B6E880\",\"#FF97FF\",\"#FECB52\"],\"font\":{\"color\":\"#2a3f5f\"},\"hovermode\":\"closest\",\"hoverlabel\":{\"align\":\"left\"},\"paper_bgcolor\":\"white\",\"plot_bgcolor\":\"#E5ECF6\",\"polar\":{\"bgcolor\":\"#E5ECF6\",\"angularaxis\":{\"gridcolor\":\"white\",\"linecolor\":\"white\",\"ticks\":\"\"},\"radialaxis\":{\"gridcolor\":\"white\",\"linecolor\":\"white\",\"ticks\":\"\"}},\"ternary\":{\"bgcolor\":\"#E5ECF6\",\"aaxis\":{\"gridcolor\":\"white\",\"linecolor\":\"white\",\"ticks\":\"\"},\"baxis\":{\"gridcolor\":\"white\",\"linecolor\":\"white\",\"ticks\":\"\"},\"caxis\":{\"gridcolor\":\"white\",\"linecolor\":\"white\",\"ticks\":\"\"}},\"coloraxis\":{\"colorbar\":{\"outlinewidth\":0,\"ticks\":\"\"}},\"colorscale\":{\"sequential\":[[0.0,\"#0d0887\"],[0.1111111111111111,\"#46039f\"],[0.2222222222222222,\"#7201a8\"],[0.3333333333333333,\"#9c179e\"],[0.4444444444444444,\"#bd3786\"],[0.5555555555555556,\"#d8576b\"],[0.6666666666666666,\"#ed7953\"],[0.7777777777777778,\"#fb9f3a\"],[0.8888888888888888,\"#fdca26\"],[1.0,\"#f0f921\"]],\"sequentialminus\":[[0.0,\"#0d0887\"],[0.1111111111111111,\"#46039f\"],[0.2222222222222222,\"#7201a8\"],[0.3333333333333333,\"#9c179e\"],[0.4444444444444444,\"#bd3786\"],[0.5555555555555556,\"#d8576b\"],[0.6666666666666666,\"#ed7953\"],[0.7777777777777778,\"#fb9f3a\"],[0.8888888888888888,\"#fdca26\"],[1.0,\"#f0f921\"]],\"diverging\":[[0,\"#8e0152\"],[0.1,\"#c51b7d\"],[0.2,\"#de77ae\"],[0.3,\"#f1b6da\"],[0.4,\"#fde0ef\"],[0.5,\"#f7f7f7\"],[0.6,\"#e6f5d0\"],[0.7,\"#b8e186\"],[0.8,\"#7fbc41\"],[0.9,\"#4d9221\"],[1,\"#276419\"]]},\"xaxis\":{\"gridcolor\":\"white\",\"linecolor\":\"white\",\"ticks\":\"\",\"title\":{\"standoff\":15},\"zerolinecolor\":\"white\",\"automargin\":true,\"zerolinewidth\":2},\"yaxis\":{\"gridcolor\":\"white\",\"linecolor\":\"white\",\"ticks\":\"\",\"title\":{\"standoff\":15},\"zerolinecolor\":\"white\",\"automargin\":true,\"zerolinewidth\":2},\"scene\":{\"xaxis\":{\"backgroundcolor\":\"#E5ECF6\",\"gridcolor\":\"white\",\"linecolor\":\"white\",\"showbackground\":true,\"ticks\":\"\",\"zerolinecolor\":\"white\",\"gridwidth\":2},\"yaxis\":{\"backgroundcolor\":\"#E5ECF6\",\"gridcolor\":\"white\",\"linecolor\":\"white\",\"showbackground\":true,\"ticks\":\"\",\"zerolinecolor\":\"white\",\"gridwidth\":2},\"zaxis\":{\"backgroundcolor\":\"#E5ECF6\",\"gridcolor\":\"white\",\"linecolor\":\"white\",\"showbackground\":true,\"ticks\":\"\",\"zerolinecolor\":\"white\",\"gridwidth\":2}},\"shapedefaults\":{\"line\":{\"color\":\"#2a3f5f\"}},\"annotationdefaults\":{\"arrowcolor\":\"#2a3f5f\",\"arrowhead\":0,\"arrowwidth\":1},\"geo\":{\"bgcolor\":\"white\",\"landcolor\":\"#E5ECF6\",\"subunitcolor\":\"white\",\"showland\":true,\"showlakes\":true,\"lakecolor\":\"white\"},\"title\":{\"x\":0.05},\"mapbox\":{\"style\":\"light\"}}},\"xaxis\":{\"anchor\":\"y\",\"domain\":[0.0,1.0],\"title\":{\"text\":\"index\"}},\"yaxis\":{\"anchor\":\"x\",\"domain\":[0.0,1.0],\"title\":{\"text\":\"value\"}},\"legend\":{\"title\":{\"text\":\"variable\"},\"tracegroupgap\":0},\"title\":{\"text\":\"Loss by position on random repeated tokens\"}},                        {\"responsive\": true}                    ).then(function(){\n",
              "                            \n",
              "var gd = document.getElementById('d3e84661-e12c-4a84-8655-2f33ba1284da');\n",
              "var x = new MutationObserver(function (mutations, observer) {{\n",
              "        var display = window.getComputedStyle(gd).display;\n",
              "        if (!display || display === 'none') {{\n",
              "            console.log([gd, 'removed!']);\n",
              "            Plotly.purge(gd);\n",
              "            observer.disconnect();\n",
              "        }}\n",
              "}});\n",
              "\n",
              "// Listen for the removal of the full notebook cells\n",
              "var notebookContainer = gd.closest('#notebook-container');\n",
              "if (notebookContainer) {{\n",
              "    x.observe(notebookContainer, {childList: true});\n",
              "}}\n",
              "\n",
              "// Listen for the clearing of the current output cell\n",
              "var outputEl = gd.closest('.output');\n",
              "if (outputEl) {{\n",
              "    x.observe(outputEl, {childList: true});\n",
              "}}\n",
              "\n",
              "                        })                };                            </script>        </div>\n",
              "</body>\n",
              "</html>"
            ]
          },
          "metadata": {},
          "output_type": "display_data"
        }
      ],
      "source": [
        "batch_size = 10\n",
        "seq_len = 50\n",
        "size = (batch_size, seq_len)\n",
        "input_tensor = torch.randint(1000, 10000, size)\n",
        "\n",
        "random_tokens = input_tensor.to(model.cfg.device)\n",
        "repeated_tokens = einops.repeat(random_tokens, \"batch seq_len -> batch (2 seq_len)\")\n",
        "repeated_logits = model(repeated_tokens)\n",
        "correct_log_probs = model.loss_fn(repeated_logits, repeated_tokens, per_token=True)\n",
        "loss_by_position = einops.reduce(correct_log_probs, \"batch position -> position\", \"mean\")\n",
        "line(loss_by_position, xaxis=\"Position\", yaxis=\"Loss\", title=\"Loss by position on random repeated tokens\")"
      ]
    },
    {
      "cell_type": "markdown",
      "metadata": {
        "id": "moPXEfGHOYkt"
      },
      "source": [
        "The induction heads will be attending from the second occurrence of each token to the token *after* its first occurrence, ie the token `50-1==49` places back. So by looking at the average attention paid 49 tokens back, we can identify induction heads! Let's define a hook to do this!\n",
        "\n",
        "<details><summary>Technical details</summary>\n",
        "\n",
        "* We attach the hook to the attention pattern activation. There's one big pattern activation per layer, stacked across all heads, so we need to do some tensor manipulation to get a per-head score.\n",
        "* Hook functions can access global state, so we make a big tensor to store the induction head score for each head, and then we just add the score for each head to the appropriate position in the tensor.\n",
        "* To get a single hook function that works for each layer, we use the `hook.layer()` method to get the layer index (internally this is just inferred from the hook names).\n",
        "* As we want to add this to *every* activation pattern hook point, rather than giving the string for an activation name, this time we give a **name filter**. This is a Boolean function on hook point names, and it adds the hook function to every hook point where the function evaluates as true.\n",
        "    * `run_with_hooks` allows us to enter a list of (act_name, hook_function) pairs to all be added at once, so we could also have done this by inputting a list with a hook for each layer.\n",
        "</details>"
      ]
    },
    {
      "cell_type": "code",
      "execution_count": null,
      "metadata": {
        "id": "2WQudz23OYkt",
        "outputId": "7abf3b7a-a885-4fe4-95d8-1b120d114334"
      },
      "outputs": [
        {
          "data": {
            "text/html": [
              "<html>\n",
              "<head><meta charset=\"utf-8\" /></head>\n",
              "<body>\n",
              "    <div>            <script src=\"https://cdnjs.cloudflare.com/ajax/libs/mathjax/2.7.5/MathJax.js?config=TeX-AMS-MML_SVG\"></script><script type=\"text/javascript\">if (window.MathJax && window.MathJax.Hub && window.MathJax.Hub.Config) {window.MathJax.Hub.Config({SVG: {font: \"STIX-Web\"}});}</script>                <script type=\"text/javascript\">window.PlotlyConfig = {MathJaxConfig: 'local'};</script>\n",
              "        <script charset=\"utf-8\" src=\"https://cdn.plot.ly/plotly-2.26.0.min.js\"></script>                <div id=\"190ab42e-4456-4833-a298-6f585a1583e4\" class=\"plotly-graph-div\" style=\"height:525px; width:100%;\"></div>            <script type=\"text/javascript\">                                    window.PLOTLYENV=window.PLOTLYENV || {};                                    if (document.getElementById(\"190ab42e-4456-4833-a298-6f585a1583e4\")) {                    Plotly.newPlot(                        \"190ab42e-4456-4833-a298-6f585a1583e4\",                        [{\"coloraxis\":\"coloraxis\",\"name\":\"0\",\"z\":[[0.009955878369510174,9.966958168661222e-05,0.010546973906457424,4.0583410054750857e-07,0.00022813043324276805,0.00019768899073824286,0.00977946724742651,0.0006674872129224241,0.00908320676535368,0.00915559846907854,0.006828702986240387,0.015242615714669228],[0.0011627675266936421,0.00045248764217831194,0.0021361575927585363,0.01417490839958191,0.004926139954477549,0.010640118271112442,0.015927109867334366,0.013070465996861458,0.012896527536213398,0.016126573085784912,0.006526595447212458,0.000517632404807955],[0.0044746194034814835,0.01877586357295513,0.003041735850274563,0.0019074507290497422,0.012237360700964928,0.002584304893389344,0.0039876471273601055,0.008248553611338139,0.004771647043526173,0.0017633740790188313,0.0006906316848471761,0.010382029227912426],[0.015542104840278625,0.007110548205673695,0.002217961009591818,0.012544052675366402,0.021509619429707527,0.011987114325165749,0.00174334819894284,0.0009274697513319552,0.005935505498200655,0.01233423687517643,0.009232483804225922,0.006464063189923763],[0.01664578728377819,0.014668889343738556,0.013992691412568092,0.008478098548948765,0.01899615488946438,0.012697082944214344,0.008333329111337662,0.0017152393702417612,0.01665916107594967,0.014090241864323616,0.018890956416726112,8.906972381872436e-11],[0.451614111661911,0.9170698523521423,0.01424565352499485,0.0065706996247172356,0.011130396276712418,0.9321417212486267,0.008963020518422127,0.018100803717970848,0.02871188521385193,0.029120853170752525,0.02137076109647751,0.01733485981822014],[0.008789685554802418,0.017398007214069366,0.01834423653781414,0.015153961256146431,0.02248268947005272,0.011032403446733952,0.03012258931994438,0.01068038959056139,0.009857730939984322,0.9169892072677612,0.036462243646383286,0.01406988874077797],[0.01107383705675602,0.17768746614456177,0.8614926934242249,0.019131189212203026,0.018100876361131668,0.016298996284604073,0.04784739762544632,0.08873092383146286,0.01723749376833439,0.019047973677515984,0.9243332743644714,0.06009266525506973],[0.015750497579574585,0.40704065561294556,0.014495478942990303,0.050178349018096924,0.017805716022849083,0.012079598382115364,0.15166832506656647,0.013180013746023178,0.032852329313755035,0.03178909420967102,0.06760691851377487,0.022921957075595856],[0.25689446926116943,0.19054049253463745,0.10555234551429749,0.012684683315455914,0.0927107185125351,0.026271803304553032,0.4618716239929199,0.029983991757035255,0.05182349309325218,0.4789004623889923,0.016641730442643166,0.03995012864470482],[0.339070200920105,0.5105082392692566,0.038450296968221664,0.14799615740776062,0.05797654390335083,0.01543364953249693,0.3008923828601837,0.47816023230552673,0.05431150645017624,0.015494456514716148,0.16141793131828308,0.2569926977157593],[0.017057929188013077,0.053864460438489914,0.03378748893737793,0.009234139695763588,0.03453892469406128,0.1011928990483284,0.04960957169532776,0.07048070430755615,0.009171898476779461,0.30352190136909485,0.40838193893432617,0.022866230458021164]],\"type\":\"heatmap\",\"xaxis\":\"x\",\"yaxis\":\"y\",\"hovertemplate\":\"Head: %{x}\\u003cbr\\u003eLayer: %{y}\\u003cbr\\u003ecolor: %{z}\\u003cextra\\u003e\\u003c\\u002fextra\\u003e\"}],                        {\"template\":{\"data\":{\"histogram2dcontour\":[{\"type\":\"histogram2dcontour\",\"colorbar\":{\"outlinewidth\":0,\"ticks\":\"\"},\"colorscale\":[[0.0,\"#0d0887\"],[0.1111111111111111,\"#46039f\"],[0.2222222222222222,\"#7201a8\"],[0.3333333333333333,\"#9c179e\"],[0.4444444444444444,\"#bd3786\"],[0.5555555555555556,\"#d8576b\"],[0.6666666666666666,\"#ed7953\"],[0.7777777777777778,\"#fb9f3a\"],[0.8888888888888888,\"#fdca26\"],[1.0,\"#f0f921\"]]}],\"choropleth\":[{\"type\":\"choropleth\",\"colorbar\":{\"outlinewidth\":0,\"ticks\":\"\"}}],\"histogram2d\":[{\"type\":\"histogram2d\",\"colorbar\":{\"outlinewidth\":0,\"ticks\":\"\"},\"colorscale\":[[0.0,\"#0d0887\"],[0.1111111111111111,\"#46039f\"],[0.2222222222222222,\"#7201a8\"],[0.3333333333333333,\"#9c179e\"],[0.4444444444444444,\"#bd3786\"],[0.5555555555555556,\"#d8576b\"],[0.6666666666666666,\"#ed7953\"],[0.7777777777777778,\"#fb9f3a\"],[0.8888888888888888,\"#fdca26\"],[1.0,\"#f0f921\"]]}],\"heatmap\":[{\"type\":\"heatmap\",\"colorbar\":{\"outlinewidth\":0,\"ticks\":\"\"},\"colorscale\":[[0.0,\"#0d0887\"],[0.1111111111111111,\"#46039f\"],[0.2222222222222222,\"#7201a8\"],[0.3333333333333333,\"#9c179e\"],[0.4444444444444444,\"#bd3786\"],[0.5555555555555556,\"#d8576b\"],[0.6666666666666666,\"#ed7953\"],[0.7777777777777778,\"#fb9f3a\"],[0.8888888888888888,\"#fdca26\"],[1.0,\"#f0f921\"]]}],\"heatmapgl\":[{\"type\":\"heatmapgl\",\"colorbar\":{\"outlinewidth\":0,\"ticks\":\"\"},\"colorscale\":[[0.0,\"#0d0887\"],[0.1111111111111111,\"#46039f\"],[0.2222222222222222,\"#7201a8\"],[0.3333333333333333,\"#9c179e\"],[0.4444444444444444,\"#bd3786\"],[0.5555555555555556,\"#d8576b\"],[0.6666666666666666,\"#ed7953\"],[0.7777777777777778,\"#fb9f3a\"],[0.8888888888888888,\"#fdca26\"],[1.0,\"#f0f921\"]]}],\"contourcarpet\":[{\"type\":\"contourcarpet\",\"colorbar\":{\"outlinewidth\":0,\"ticks\":\"\"}}],\"contour\":[{\"type\":\"contour\",\"colorbar\":{\"outlinewidth\":0,\"ticks\":\"\"},\"colorscale\":[[0.0,\"#0d0887\"],[0.1111111111111111,\"#46039f\"],[0.2222222222222222,\"#7201a8\"],[0.3333333333333333,\"#9c179e\"],[0.4444444444444444,\"#bd3786\"],[0.5555555555555556,\"#d8576b\"],[0.6666666666666666,\"#ed7953\"],[0.7777777777777778,\"#fb9f3a\"],[0.8888888888888888,\"#fdca26\"],[1.0,\"#f0f921\"]]}],\"surface\":[{\"type\":\"surface\",\"colorbar\":{\"outlinewidth\":0,\"ticks\":\"\"},\"colorscale\":[[0.0,\"#0d0887\"],[0.1111111111111111,\"#46039f\"],[0.2222222222222222,\"#7201a8\"],[0.3333333333333333,\"#9c179e\"],[0.4444444444444444,\"#bd3786\"],[0.5555555555555556,\"#d8576b\"],[0.6666666666666666,\"#ed7953\"],[0.7777777777777778,\"#fb9f3a\"],[0.8888888888888888,\"#fdca26\"],[1.0,\"#f0f921\"]]}],\"mesh3d\":[{\"type\":\"mesh3d\",\"colorbar\":{\"outlinewidth\":0,\"ticks\":\"\"}}],\"scatter\":[{\"fillpattern\":{\"fillmode\":\"overlay\",\"size\":10,\"solidity\":0.2},\"type\":\"scatter\"}],\"parcoords\":[{\"type\":\"parcoords\",\"line\":{\"colorbar\":{\"outlinewidth\":0,\"ticks\":\"\"}}}],\"scatterpolargl\":[{\"type\":\"scatterpolargl\",\"marker\":{\"colorbar\":{\"outlinewidth\":0,\"ticks\":\"\"}}}],\"bar\":[{\"error_x\":{\"color\":\"#2a3f5f\"},\"error_y\":{\"color\":\"#2a3f5f\"},\"marker\":{\"line\":{\"color\":\"#E5ECF6\",\"width\":0.5},\"pattern\":{\"fillmode\":\"overlay\",\"size\":10,\"solidity\":0.2}},\"type\":\"bar\"}],\"scattergeo\":[{\"type\":\"scattergeo\",\"marker\":{\"colorbar\":{\"outlinewidth\":0,\"ticks\":\"\"}}}],\"scatterpolar\":[{\"type\":\"scatterpolar\",\"marker\":{\"colorbar\":{\"outlinewidth\":0,\"ticks\":\"\"}}}],\"histogram\":[{\"marker\":{\"pattern\":{\"fillmode\":\"overlay\",\"size\":10,\"solidity\":0.2}},\"type\":\"histogram\"}],\"scattergl\":[{\"type\":\"scattergl\",\"marker\":{\"colorbar\":{\"outlinewidth\":0,\"ticks\":\"\"}}}],\"scatter3d\":[{\"type\":\"scatter3d\",\"line\":{\"colorbar\":{\"outlinewidth\":0,\"ticks\":\"\"}},\"marker\":{\"colorbar\":{\"outlinewidth\":0,\"ticks\":\"\"}}}],\"scattermapbox\":[{\"type\":\"scattermapbox\",\"marker\":{\"colorbar\":{\"outlinewidth\":0,\"ticks\":\"\"}}}],\"scatterternary\":[{\"type\":\"scatterternary\",\"marker\":{\"colorbar\":{\"outlinewidth\":0,\"ticks\":\"\"}}}],\"scattercarpet\":[{\"type\":\"scattercarpet\",\"marker\":{\"colorbar\":{\"outlinewidth\":0,\"ticks\":\"\"}}}],\"carpet\":[{\"aaxis\":{\"endlinecolor\":\"#2a3f5f\",\"gridcolor\":\"white\",\"linecolor\":\"white\",\"minorgridcolor\":\"white\",\"startlinecolor\":\"#2a3f5f\"},\"baxis\":{\"endlinecolor\":\"#2a3f5f\",\"gridcolor\":\"white\",\"linecolor\":\"white\",\"minorgridcolor\":\"white\",\"startlinecolor\":\"#2a3f5f\"},\"type\":\"carpet\"}],\"table\":[{\"cells\":{\"fill\":{\"color\":\"#EBF0F8\"},\"line\":{\"color\":\"white\"}},\"header\":{\"fill\":{\"color\":\"#C8D4E3\"},\"line\":{\"color\":\"white\"}},\"type\":\"table\"}],\"barpolar\":[{\"marker\":{\"line\":{\"color\":\"#E5ECF6\",\"width\":0.5},\"pattern\":{\"fillmode\":\"overlay\",\"size\":10,\"solidity\":0.2}},\"type\":\"barpolar\"}],\"pie\":[{\"automargin\":true,\"type\":\"pie\"}]},\"layout\":{\"autotypenumbers\":\"strict\",\"colorway\":[\"#636efa\",\"#EF553B\",\"#00cc96\",\"#ab63fa\",\"#FFA15A\",\"#19d3f3\",\"#FF6692\",\"#B6E880\",\"#FF97FF\",\"#FECB52\"],\"font\":{\"color\":\"#2a3f5f\"},\"hovermode\":\"closest\",\"hoverlabel\":{\"align\":\"left\"},\"paper_bgcolor\":\"white\",\"plot_bgcolor\":\"#E5ECF6\",\"polar\":{\"bgcolor\":\"#E5ECF6\",\"angularaxis\":{\"gridcolor\":\"white\",\"linecolor\":\"white\",\"ticks\":\"\"},\"radialaxis\":{\"gridcolor\":\"white\",\"linecolor\":\"white\",\"ticks\":\"\"}},\"ternary\":{\"bgcolor\":\"#E5ECF6\",\"aaxis\":{\"gridcolor\":\"white\",\"linecolor\":\"white\",\"ticks\":\"\"},\"baxis\":{\"gridcolor\":\"white\",\"linecolor\":\"white\",\"ticks\":\"\"},\"caxis\":{\"gridcolor\":\"white\",\"linecolor\":\"white\",\"ticks\":\"\"}},\"coloraxis\":{\"colorbar\":{\"outlinewidth\":0,\"ticks\":\"\"}},\"colorscale\":{\"sequential\":[[0.0,\"#0d0887\"],[0.1111111111111111,\"#46039f\"],[0.2222222222222222,\"#7201a8\"],[0.3333333333333333,\"#9c179e\"],[0.4444444444444444,\"#bd3786\"],[0.5555555555555556,\"#d8576b\"],[0.6666666666666666,\"#ed7953\"],[0.7777777777777778,\"#fb9f3a\"],[0.8888888888888888,\"#fdca26\"],[1.0,\"#f0f921\"]],\"sequentialminus\":[[0.0,\"#0d0887\"],[0.1111111111111111,\"#46039f\"],[0.2222222222222222,\"#7201a8\"],[0.3333333333333333,\"#9c179e\"],[0.4444444444444444,\"#bd3786\"],[0.5555555555555556,\"#d8576b\"],[0.6666666666666666,\"#ed7953\"],[0.7777777777777778,\"#fb9f3a\"],[0.8888888888888888,\"#fdca26\"],[1.0,\"#f0f921\"]],\"diverging\":[[0,\"#8e0152\"],[0.1,\"#c51b7d\"],[0.2,\"#de77ae\"],[0.3,\"#f1b6da\"],[0.4,\"#fde0ef\"],[0.5,\"#f7f7f7\"],[0.6,\"#e6f5d0\"],[0.7,\"#b8e186\"],[0.8,\"#7fbc41\"],[0.9,\"#4d9221\"],[1,\"#276419\"]]},\"xaxis\":{\"gridcolor\":\"white\",\"linecolor\":\"white\",\"ticks\":\"\",\"title\":{\"standoff\":15},\"zerolinecolor\":\"white\",\"automargin\":true,\"zerolinewidth\":2},\"yaxis\":{\"gridcolor\":\"white\",\"linecolor\":\"white\",\"ticks\":\"\",\"title\":{\"standoff\":15},\"zerolinecolor\":\"white\",\"automargin\":true,\"zerolinewidth\":2},\"scene\":{\"xaxis\":{\"backgroundcolor\":\"#E5ECF6\",\"gridcolor\":\"white\",\"linecolor\":\"white\",\"showbackground\":true,\"ticks\":\"\",\"zerolinecolor\":\"white\",\"gridwidth\":2},\"yaxis\":{\"backgroundcolor\":\"#E5ECF6\",\"gridcolor\":\"white\",\"linecolor\":\"white\",\"showbackground\":true,\"ticks\":\"\",\"zerolinecolor\":\"white\",\"gridwidth\":2},\"zaxis\":{\"backgroundcolor\":\"#E5ECF6\",\"gridcolor\":\"white\",\"linecolor\":\"white\",\"showbackground\":true,\"ticks\":\"\",\"zerolinecolor\":\"white\",\"gridwidth\":2}},\"shapedefaults\":{\"line\":{\"color\":\"#2a3f5f\"}},\"annotationdefaults\":{\"arrowcolor\":\"#2a3f5f\",\"arrowhead\":0,\"arrowwidth\":1},\"geo\":{\"bgcolor\":\"white\",\"landcolor\":\"#E5ECF6\",\"subunitcolor\":\"white\",\"showland\":true,\"showlakes\":true,\"lakecolor\":\"white\"},\"title\":{\"x\":0.05},\"mapbox\":{\"style\":\"light\"}}},\"xaxis\":{\"anchor\":\"y\",\"domain\":[0.0,1.0],\"scaleanchor\":\"y\",\"constrain\":\"domain\",\"title\":{\"text\":\"Head\"}},\"yaxis\":{\"anchor\":\"x\",\"domain\":[0.0,1.0],\"autorange\":\"reversed\",\"constrain\":\"domain\",\"title\":{\"text\":\"Layer\"}},\"coloraxis\":{\"colorscale\":[[0.0,\"rgb(103,0,31)\"],[0.1,\"rgb(178,24,43)\"],[0.2,\"rgb(214,96,77)\"],[0.3,\"rgb(244,165,130)\"],[0.4,\"rgb(253,219,199)\"],[0.5,\"rgb(247,247,247)\"],[0.6,\"rgb(209,229,240)\"],[0.7,\"rgb(146,197,222)\"],[0.8,\"rgb(67,147,195)\"],[0.9,\"rgb(33,102,172)\"],[1.0,\"rgb(5,48,97)\"]],\"cmid\":0.0},\"title\":{\"text\":\"Induction Score by Head\"}},                        {\"responsive\": true}                    ).then(function(){\n",
              "                            \n",
              "var gd = document.getElementById('190ab42e-4456-4833-a298-6f585a1583e4');\n",
              "var x = new MutationObserver(function (mutations, observer) {{\n",
              "        var display = window.getComputedStyle(gd).display;\n",
              "        if (!display || display === 'none') {{\n",
              "            console.log([gd, 'removed!']);\n",
              "            Plotly.purge(gd);\n",
              "            observer.disconnect();\n",
              "        }}\n",
              "}});\n",
              "\n",
              "// Listen for the removal of the full notebook cells\n",
              "var notebookContainer = gd.closest('#notebook-container');\n",
              "if (notebookContainer) {{\n",
              "    x.observe(notebookContainer, {childList: true});\n",
              "}}\n",
              "\n",
              "// Listen for the clearing of the current output cell\n",
              "var outputEl = gd.closest('.output');\n",
              "if (outputEl) {{\n",
              "    x.observe(outputEl, {childList: true});\n",
              "}}\n",
              "\n",
              "                        })                };                            </script>        </div>\n",
              "</body>\n",
              "</html>"
            ]
          },
          "metadata": {},
          "output_type": "display_data"
        }
      ],
      "source": [
        "# We make a tensor to store the induction score for each head. We put it on the model's device to avoid needing to move things between the GPU and CPU, which can be slow.\n",
        "induction_score_store = torch.zeros((model.cfg.n_layers, model.cfg.n_heads), device=model.cfg.device)\n",
        "def induction_score_hook(\n",
        "    pattern: Float[torch.Tensor, \"batch head_index dest_pos source_pos\"],\n",
        "    hook: HookPoint,\n",
        "):\n",
        "    # We take the diagonal of attention paid from each destination position to source positions seq_len-1 tokens back\n",
        "    # (This only has entries for tokens with index>=seq_len)\n",
        "    induction_stripe = pattern.diagonal(dim1=-2, dim2=-1, offset=1-seq_len)\n",
        "    # Get an average score per head\n",
        "    induction_score = einops.reduce(induction_stripe, \"batch head_index position -> head_index\", \"mean\")\n",
        "    # Store the result.\n",
        "    induction_score_store[hook.layer(), :] = induction_score\n",
        "\n",
        "# We make a boolean filter on activation names, that's true only on attention pattern names.\n",
        "pattern_hook_names_filter = lambda name: name.endswith(\"pattern\")\n",
        "\n",
        "model.run_with_hooks(\n",
        "    repeated_tokens,\n",
        "    return_type=None, # For efficiency, we don't need to calculate the logits\n",
        "    fwd_hooks=[(\n",
        "        pattern_hook_names_filter,\n",
        "        induction_score_hook\n",
        "    )]\n",
        ")\n",
        "\n",
        "imshow(induction_score_store, xaxis=\"Head\", yaxis=\"Layer\", title=\"Induction Score by Head\")"
      ]
    },
    {
      "cell_type": "markdown",
      "metadata": {
        "id": "ULrCJMpEOYku"
      },
      "source": [
        "Head 5 in Layer 5 scores extremely highly on this score, and we can feed in a shorter repeated random sequence, visualize the attention pattern for it and see this directly - including the \"induction stripe\" at `seq_len-1` tokens back.\n",
        "\n",
        "This time we put in a hook on the attention pattern activation to visualize the pattern of the relevant head."
      ]
    },
    {
      "cell_type": "code",
      "execution_count": null,
      "metadata": {
        "id": "59GhaDqLOYku",
        "outputId": "08161187-9271-4175-fba1-86601fc4c718"
      },
      "outputs": [
        {
          "data": {
            "text/html": [
              "<div id=\"circuits-vis-fcf89ad6-45d6\" style=\"margin: 15px 0;\"/>\n",
              "    <script crossorigin type=\"module\">\n",
              "    import { render, AttentionPatterns } from \"https://unpkg.com/circuitsvis@1.43.0/dist/cdn/esm.js\";\n",
              "    render(\n",
              "      \"circuits-vis-fcf89ad6-45d6\",\n",
              "      AttentionPatterns,\n",
              "      {\"tokens\": [\"use\", \" advice\", \" Social\", \"\\u00f6\", \"\\u00b7\", \" fought\", \" Le\", \" allegedly\", \" NO\", \"alth\", \"car\", \" prepared\", \"new\", \"rant\", \"roll\", \" hours\", \" published\", \"66\", \"ension\", \" 44\", \"use\", \" advice\", \" Social\", \"\\u00f6\", \"\\u00b7\", \" fought\", \" Le\", \" allegedly\", \" NO\", \"alth\", \"car\", \" prepared\", \"new\", \"rant\", \"roll\", \" hours\", \" published\", \"66\", \"ension\", \" 44\"], \"attention\": [[[1.0, 0.0, 0.0, 0.0, 0.0, 0.0, 0.0, 0.0, 0.0, 0.0, 0.0, 0.0, 0.0, 0.0, 0.0, 0.0, 0.0, 0.0, 0.0, 0.0, 0.0, 0.0, 0.0, 0.0, 0.0, 0.0, 0.0, 0.0, 0.0, 0.0, 0.0, 0.0, 0.0, 0.0, 0.0, 0.0, 0.0, 0.0, 0.0, 0.0], [0.9737270474433899, 0.0262729711830616, 0.0, 0.0, 0.0, 0.0, 0.0, 0.0, 0.0, 0.0, 0.0, 0.0, 0.0, 0.0, 0.0, 0.0, 0.0, 0.0, 0.0, 0.0, 0.0, 0.0, 0.0, 0.0, 0.0, 0.0, 0.0, 0.0, 0.0, 0.0, 0.0, 0.0, 0.0, 0.0, 0.0, 0.0, 0.0, 0.0, 0.0, 0.0], [0.9820428490638733, 0.017020266503095627, 0.0009368456667289138, 0.0, 0.0, 0.0, 0.0, 0.0, 0.0, 0.0, 0.0, 0.0, 0.0, 0.0, 0.0, 0.0, 0.0, 0.0, 0.0, 0.0, 0.0, 0.0, 0.0, 0.0, 0.0, 0.0, 0.0, 0.0, 0.0, 0.0, 0.0, 0.0, 0.0, 0.0, 0.0, 0.0, 0.0, 0.0, 0.0, 0.0], [0.9895542860031128, 0.00866580568253994, 0.0004119748482480645, 0.0013679902767762542, 0.0, 0.0, 0.0, 0.0, 0.0, 0.0, 0.0, 0.0, 0.0, 0.0, 0.0, 0.0, 0.0, 0.0, 0.0, 0.0, 0.0, 0.0, 0.0, 0.0, 0.0, 0.0, 0.0, 0.0, 0.0, 0.0, 0.0, 0.0, 0.0, 0.0, 0.0, 0.0, 0.0, 0.0, 0.0, 0.0], [0.8543053865432739, 0.0780181884765625, 0.0008415378979407251, 0.00013599172234535217, 0.06669897586107254, 0.0, 0.0, 0.0, 0.0, 0.0, 0.0, 0.0, 0.0, 0.0, 0.0, 0.0, 0.0, 0.0, 0.0, 0.0, 0.0, 0.0, 0.0, 0.0, 0.0, 0.0, 0.0, 0.0, 0.0, 0.0, 0.0, 0.0, 0.0, 0.0, 0.0, 0.0, 0.0, 0.0, 0.0, 0.0], [0.9374335408210754, 0.033002182841300964, 0.0015577428275719285, 2.5352785542054335e-06, 0.0010925536043941975, 0.026911530643701553, 0.0, 0.0, 0.0, 0.0, 0.0, 0.0, 0.0, 0.0, 0.0, 0.0, 0.0, 0.0, 0.0, 0.0, 0.0, 0.0, 0.0, 0.0, 0.0, 0.0, 0.0, 0.0, 0.0, 0.0, 0.0, 0.0, 0.0, 0.0, 0.0, 0.0, 0.0, 0.0, 0.0, 0.0], [0.976921021938324, 0.0038436956238001585, 2.234029489045497e-05, 3.521895996527746e-05, 0.005183499306440353, 0.01217629387974739, 0.0018179028993472457, 0.0, 0.0, 0.0, 0.0, 0.0, 0.0, 0.0, 0.0, 0.0, 0.0, 0.0, 0.0, 0.0, 0.0, 0.0, 0.0, 0.0, 0.0, 0.0, 0.0, 0.0, 0.0, 0.0, 0.0, 0.0, 0.0, 0.0, 0.0, 0.0, 0.0, 0.0, 0.0, 0.0], [0.9473506212234497, 0.013174930587410927, 0.0013492131838575006, 1.180242543341592e-05, 0.0009449435747228563, 0.011318957433104515, 0.018021011725068092, 0.007828536443412304, 0.0, 0.0, 0.0, 0.0, 0.0, 0.0, 0.0, 0.0, 0.0, 0.0, 0.0, 0.0, 0.0, 0.0, 0.0, 0.0, 0.0, 0.0, 0.0, 0.0, 0.0, 0.0, 0.0, 0.0, 0.0, 0.0, 0.0, 0.0, 0.0, 0.0, 0.0, 0.0], [0.9847127199172974, 0.0010781448800116777, 0.002173440996557474, 5.48224352314719e-06, 0.0004914223100058734, 0.0013570792507380247, 0.0001018581388052553, 0.00028538500191643834, 0.009794448502361774, 0.0, 0.0, 0.0, 0.0, 0.0, 0.0, 0.0, 0.0, 0.0, 0.0, 0.0, 0.0, 0.0, 0.0, 0.0, 0.0, 0.0, 0.0, 0.0, 0.0, 0.0, 0.0, 0.0, 0.0, 0.0, 0.0, 0.0, 0.0, 0.0, 0.0, 0.0], [0.9915198683738708, 0.0044833519496023655, 0.00012727153080049902, 0.0001670209167059511, 0.0016301727155223489, 0.0011521612759679556, 0.0003231288574170321, 0.00012646260438486934, 0.00039313812158070505, 7.735053804935887e-05, 0.0, 0.0, 0.0, 0.0, 0.0, 0.0, 0.0, 0.0, 0.0, 0.0, 0.0, 0.0, 0.0, 0.0, 0.0, 0.0, 0.0, 0.0, 0.0, 0.0, 0.0, 0.0, 0.0, 0.0, 0.0, 0.0, 0.0, 0.0, 0.0, 0.0], [0.8908807635307312, 0.024311939254403114, 1.7341229977319017e-05, 4.1577197407605127e-05, 0.0008967601461336017, 0.07334909588098526, 0.0009482800960540771, 0.004280842375010252, 0.005168660078197718, 7.830293725419324e-06, 9.693214815342799e-05, 0.0, 0.0, 0.0, 0.0, 0.0, 0.0, 0.0, 0.0, 0.0, 0.0, 0.0, 0.0, 0.0, 0.0, 0.0, 0.0, 0.0, 0.0, 0.0, 0.0, 0.0, 0.0, 0.0, 0.0, 0.0, 0.0, 0.0, 0.0, 0.0], [0.817081093788147, 0.13517087697982788, 0.011989914812147617, 1.1421690032875631e-05, 0.0003511958639137447, 0.00945067685097456, 0.01946328766644001, 0.0006557486485689878, 0.0005761014763265848, 2.9927012292318977e-05, 1.658979817875661e-05, 0.005203105043619871, 0.0, 0.0, 0.0, 0.0, 0.0, 0.0, 0.0, 0.0, 0.0, 0.0, 0.0, 0.0, 0.0, 0.0, 0.0, 0.0, 0.0, 0.0, 0.0, 0.0, 0.0, 0.0, 0.0, 0.0, 0.0, 0.0, 0.0, 0.0], [0.9082697033882141, 0.006068143527954817, 0.013871830888092518, 0.0008237074362114072, 0.011908311396837234, 0.01554207131266594, 0.008354817517101765, 0.0020781648345291615, 0.0013173273764550686, 0.0021398114040493965, 0.003944162279367447, 0.0012376609956845641, 0.02444424293935299, 0.0, 0.0, 0.0, 0.0, 0.0, 0.0, 0.0, 0.0, 0.0, 0.0, 0.0, 0.0, 0.0, 0.0, 0.0, 0.0, 0.0, 0.0, 0.0, 0.0, 0.0, 0.0, 0.0, 0.0, 0.0, 0.0, 0.0], [0.9479592442512512, 0.0021026760805398226, 0.01193847507238388, 0.00012338522356003523, 3.537495786076761e-06, 0.00014498857490252703, 0.0005875465576536953, 2.5534713131492026e-05, 0.0013609088491648436, 0.0003395720850676298, 0.01007620245218277, 0.0157905463129282, 0.006346344482153654, 0.003201034851372242, 0.0, 0.0, 0.0, 0.0, 0.0, 0.0, 0.0, 0.0, 0.0, 0.0, 0.0, 0.0, 0.0, 0.0, 0.0, 0.0, 0.0, 0.0, 0.0, 0.0, 0.0, 0.0, 0.0, 0.0, 0.0, 0.0], [0.9393549561500549, 0.006392289884388447, 0.0018427352188155055, 6.116198164818343e-06, 0.0003358719404786825, 0.0020515176001936197, 0.003801520448178053, 0.0012357976520434022, 0.0002194812404923141, 0.0003869338543154299, 5.012214751332067e-05, 0.008153197355568409, 0.026924636214971542, 0.002938011661171913, 0.0063067772425711155, 0.0, 0.0, 0.0, 0.0, 0.0, 0.0, 0.0, 0.0, 0.0, 0.0, 0.0, 0.0, 0.0, 0.0, 0.0, 0.0, 0.0, 0.0, 0.0, 0.0, 0.0, 0.0, 0.0, 0.0, 0.0], [0.9339620471000671, 0.0017828113632276654, 0.005864645820111036, 0.000199502072064206, 7.227147580124438e-05, 0.001453535514883697, 0.0025924306828528643, 0.0004859396431129426, 0.002229833509773016, 0.00015120525495149195, 0.012292936444282532, 0.005057854112237692, 0.012368598021566868, 0.003944497089833021, 0.0062751127406954765, 0.011266660876572132, 0.0, 0.0, 0.0, 0.0, 0.0, 0.0, 0.0, 0.0, 0.0, 0.0, 0.0, 0.0, 0.0, 0.0, 0.0, 0.0, 0.0, 0.0, 0.0, 0.0, 0.0, 0.0, 0.0, 0.0], [0.8931334614753723, 0.0015468199271708727, 0.013001665472984314, 7.96635686128866e-06, 5.864337435923517e-05, 0.0008863371913321316, 0.0032020823564380407, 3.214758908143267e-05, 0.00018022512085735798, 1.1455734238552395e-05, 7.600105163874105e-05, 0.0004202726122457534, 0.001612616004422307, 0.028539085760712624, 0.010535502806305885, 0.025432026013731956, 0.021323613822460175, 0.0, 0.0, 0.0, 0.0, 0.0, 0.0, 0.0, 0.0, 0.0, 0.0, 0.0, 0.0, 0.0, 0.0, 0.0, 0.0, 0.0, 0.0, 0.0, 0.0, 0.0, 0.0, 0.0], [0.9847024083137512, 0.00045824647531844676, 0.0001722048327792436, 6.160975090097054e-07, 4.7827966227487195e-06, 0.0005806126864627004, 0.00044618724496103823, 0.00041201553540304303, 0.0013038743054494262, 0.00031760730780661106, 6.99415395502001e-05, 0.0013941085198894143, 5.5830587371019647e-05, 0.0009110421524383128, 0.0001955802144948393, 0.000396028597606346, 0.0011691706022247672, 0.007409737445414066, 0.0, 0.0, 0.0, 0.0, 0.0, 0.0, 0.0, 0.0, 0.0, 0.0, 0.0, 0.0, 0.0, 0.0, 0.0, 0.0, 0.0, 0.0, 0.0, 0.0, 0.0, 0.0], [0.8922598958015442, 0.010283716022968292, 0.007569305133074522, 0.015225780196487904, 0.000603529391810298, 0.0014377714833244681, 0.018397411331534386, 0.000181866911589168, 0.0021135706920176744, 3.8036650948924944e-05, 0.009962501004338264, 0.003998196218162775, 0.0012666822876781225, 0.002186268102377653, 0.003267065854743123, 0.0015871906653046608, 0.019133716821670532, 0.008779392577707767, 0.0017080693505704403, 0.0, 0.0, 0.0, 0.0, 0.0, 0.0, 0.0, 0.0, 0.0, 0.0, 0.0, 0.0, 0.0, 0.0, 0.0, 0.0, 0.0, 0.0, 0.0, 0.0, 0.0], [0.5637850761413574, 2.2041742340661585e-05, 0.00038083098479546607, 1.3938017673353897e-07, 4.306914647145277e-08, 0.0001288325438508764, 5.202714601182379e-05, 4.098215413250728e-06, 0.00043821678264066577, 1.0102498890773859e-05, 2.0490140741458163e-05, 0.00021747533173765987, 2.5249997634091415e-05, 2.1293963072821498e-05, 0.002207203535363078, 5.8927667851094157e-05, 0.002418374177068472, 0.0032775455620139837, 0.4260479211807251, 0.0008841017843224108, 0.0, 0.0, 0.0, 0.0, 0.0, 0.0, 0.0, 0.0, 0.0, 0.0, 0.0, 0.0, 0.0, 0.0, 0.0, 0.0, 0.0, 0.0, 0.0, 0.0], [0.14634987711906433, 0.4510916769504547, 0.027205228805541992, 0.003008269937708974, 0.0007913715671747923, 0.08009303361177444, 0.005927639082074165, 0.0006846353644505143, 0.0021268511191010475, 0.0027747598942369223, 0.00023907265858724713, 0.002550537697970867, 0.005493414122611284, 0.015832215547561646, 0.0003449993673712015, 0.0005726668750867248, 0.0021751606836915016, 0.03904319554567337, 0.1698266863822937, 0.041207652539014816, 0.0026610144414007664, 0.0, 0.0, 0.0, 0.0, 0.0, 0.0, 0.0, 0.0, 0.0, 0.0, 0.0, 0.0, 0.0, 0.0, 0.0, 0.0, 0.0, 0.0, 0.0], [0.1588301807641983, 0.09413877129554749, 0.6926900744438171, 4.7764006012585014e-05, 8.085336048679892e-06, 0.009355566464364529, 0.0008445510757155716, 2.443790663164691e-06, 0.0001377410371787846, 1.1189789574928e-06, 4.677354354498675e-06, 0.0003472109674476087, 0.0026314801070839167, 0.0004504164680838585, 0.006463209632784128, 0.0005723321228288114, 0.001266839331947267, 0.006402328610420227, 0.0018093092367053032, 0.006555440369993448, 0.0003791518392972648, 0.01706133596599102, 0.0, 0.0, 0.0, 0.0, 0.0, 0.0, 0.0, 0.0, 0.0, 0.0, 0.0, 0.0, 0.0, 0.0, 0.0, 0.0, 0.0, 0.0], [0.0507238395512104, 0.004356134217232466, 0.00013167195720598102, 0.93964684009552, 0.0005500880652107298, 0.002771187573671341, 1.4556246242136694e-05, 5.017395324102836e-06, 1.5498708307859488e-05, 7.02077898040443e-08, 8.694883035786916e-06, 3.654152897070162e-05, 3.6079711662750924e-06, 2.594179386505857e-05, 7.59087424739846e-06, 7.100912853275076e-07, 4.6297875087475404e-05, 7.143527909647673e-05, 0.00012089155643479899, 0.000561000662855804, 1.3380984455579892e-05, 0.0007342093158513308, 0.00015471279039047658, 0.0, 0.0, 0.0, 0.0, 0.0, 0.0, 0.0, 0.0, 0.0, 0.0, 0.0, 0.0, 0.0, 0.0, 0.0, 0.0, 0.0], [0.04466324299573898, 0.0028326697647571564, 7.648682367289439e-05, 0.00015513764810748398, 0.7502217888832092, 0.1919575184583664, 9.640491043683141e-05, 0.00016210104513447732, 0.00012769455497618765, 1.1226586138946004e-05, 8.733231879887171e-06, 0.0002813311293721199, 5.207761569181457e-05, 0.008386502042412758, 4.340233772381907e-06, 6.482672324636951e-05, 3.802950232056901e-05, 7.603670383105054e-05, 0.00012636416067834944, 9.22799008549191e-05, 4.0301836179423844e-07, 0.00011281618208158761, 2.522413069527829e-06, 0.00044938692008145154, 0.0, 0.0, 0.0, 0.0, 0.0, 0.0, 0.0, 0.0, 0.0, 0.0, 0.0, 0.0, 0.0, 0.0, 0.0, 0.0], [0.0136062391102314, 0.006971819791942835, 3.188595292158425e-05, 1.8455398276273627e-06, 0.0023010680451989174, 0.9711790680885315, 0.0003632439475040883, 8.45976173877716e-05, 0.00010611514881020412, 4.505663468989951e-07, 2.987568166190613e-07, 0.0008592635276727378, 8.84485270944424e-05, 0.0003481197636574507, 9.285117812396493e-07, 3.160546111757867e-05, 1.2802072888007388e-05, 5.803379099234007e-05, 0.00010517534974496812, 6.438309355871752e-05, 1.8867468725147774e-06, 0.0009238768252544105, 4.681064638134558e-06, 8.993229130282998e-06, 0.002845223993062973, 0.0, 0.0, 0.0, 0.0, 0.0, 0.0, 0.0, 0.0, 0.0, 0.0, 0.0, 0.0, 0.0, 0.0, 0.0], [0.019611306488513947, 0.004386154469102621, 6.198722985573113e-05, 4.885768589701911e-08, 4.2524367017904297e-05, 0.0036122521851211786, 0.9598399996757507, 0.005622244905680418, 0.002344567561522126, 5.173993713469827e-07, 1.962153874046635e-06, 0.0016548263374716043, 0.0005915339570492506, 0.001169586437754333, 5.784231689176522e-06, 8.118995174299926e-05, 4.500300929066725e-05, 0.0001849783438956365, 5.086977398605086e-05, 0.000111328401544597, 6.848466000519693e-06, 3.85396160709206e-05, 4.853071914112661e-06, 1.2763491952227923e-07, 3.953082341467962e-06, 0.0005269552930258214, 0.0, 0.0, 0.0, 0.0, 0.0, 0.0, 0.0, 0.0, 0.0, 0.0, 0.0, 0.0, 0.0, 0.0], [0.008729123510420322, 0.00017810783174354583, 2.8806312002416234e-07, 4.138274221077154e-07, 6.864992610644549e-05, 0.0009331199107691646, 0.0001488830748712644, 0.9844523668289185, 0.004786375444382429, 0.0001132896650233306, 7.25545532986871e-07, 7.424702926073223e-05, 1.4996358004282229e-05, 0.00019790712394751608, 2.995068371092202e-07, 4.872013960266486e-06, 5.296111794450553e-06, 4.536831511359196e-06, 0.00011268968228250742, 3.4171025617979467e-06, 8.272540071629919e-06, 1.237986271007685e-05, 3.665547154696469e-08, 9.025117719829723e-07, 1.6053079889388755e-05, 0.00011404424003558233, 1.8653661754797213e-05, 0.0, 0.0, 0.0, 0.0, 0.0, 0.0, 0.0, 0.0, 0.0, 0.0, 0.0, 0.0, 0.0], [0.04082169756293297, 0.003618433838710189, 4.8210502427536994e-05, 1.9615818303009291e-07, 5.380281072575599e-05, 0.0021802405826747417, 0.003327243495732546, 0.0018782124388962984, 0.9307870268821716, 0.004815405700355768, 1.4430276678467635e-05, 0.0028288080357015133, 0.0001046408069669269, 0.0029309175442904234, 0.0009514765115454793, 6.522196053992957e-05, 0.0002954130177386105, 0.00012317558866925538, 0.001551239751279354, 0.0005327718099579215, 0.00022083611111156642, 0.0004432721179910004, 1.939156027219724e-05, 5.825709763485065e-07, 1.663282819208689e-05, 0.0004773263353854418, 0.0011258200975134969, 0.000767689838539809, 0.0, 0.0, 0.0, 0.0, 0.0, 0.0, 0.0, 0.0, 0.0, 0.0, 0.0, 0.0], [0.13800935447216034, 0.0003385838062968105, 0.00015972652181517333, 3.422568184419106e-08, 1.2696329577011056e-05, 0.00024196661252062768, 3.8219157431740314e-05, 3.751519398065284e-05, 0.004743278957903385, 0.8406777381896973, 0.0001887540565803647, 0.00015232608711812645, 1.2507432074926328e-05, 0.0002236285072285682, 0.00013282443978823721, 6.470834341598675e-05, 0.00013950421998742968, 9.763532580109313e-05, 0.0004387960070744157, 4.4860902562504634e-05, 6.358889368129894e-05, 0.00034255790524184704, 5.2226645493647084e-05, 5.293432536745968e-07, 4.435891696630279e-06, 6.54347168165259e-05, 2.914482593041612e-06, 3.872663910442498e-06, 0.013709748163819313, 0.0, 0.0, 0.0, 0.0, 0.0, 0.0, 0.0, 0.0, 0.0, 0.0, 0.0], [0.007798762992024422, 0.00022834629635326564, 4.6384946017496986e-07, 6.367677087837365e-07, 1.5816745872143656e-05, 4.7439083573408425e-05, 5.239070105744759e-06, 7.306558018171927e-06, 1.2522126780822873e-05, 3.3302333690699015e-07, 0.9909055233001709, 0.00045220478205010295, 5.365327069739578e-06, 7.535887561971322e-05, 8.799969691608567e-06, 7.89504611020675e-06, 0.00023918120132293552, 2.256896095786942e-06, 7.641861884621903e-05, 5.5141779739642516e-05, 4.378313406050438e-06, 2.181060699513182e-05, 4.4351477157533736e-08, 1.258427687389485e-06, 2.069825995931751e-06, 1.2951696589880157e-05, 3.9528120510112785e-07, 1.1202276937183342e-06, 7.9817673395155e-06, 2.9978505153849255e-06, 0.0, 0.0, 0.0, 0.0, 0.0, 0.0, 0.0, 0.0, 0.0, 0.0], [0.042284343391656876, 0.011305336840450764, 7.640699664079875e-07, 2.2586050363315735e-06, 9.786370355868712e-05, 0.038269199430942535, 0.00023640785366296768, 0.0014555181842297316, 0.0029497782234102488, 1.2863498568549403e-06, 2.827169737429358e-05, 0.8946184515953064, 0.000523496069945395, 0.001179973711259663, 0.0009106355137191713, 0.00036046106833964586, 0.00020461619715206325, 2.910214607254602e-05, 0.0013425356009975076, 0.0003398243279661983, 0.00033255034941248596, 8.43034649733454e-05, 7.937682511283128e-08, 5.809831236547325e-06, 4.910861207463313e-06, 0.0023872887250036, 2.6967012672685087e-05, 0.00020931517065037042, 0.0007688838522881269, 5.801371116831433e-06, 3.4147673432016745e-05, 0.0, 0.0, 0.0, 0.0, 0.0, 0.0, 0.0, 0.0, 0.0], [0.006102928426116705, 0.016550440341234207, 4.6485070924973115e-05, 8.233602954987873e-08, 7.398419256787747e-06, 0.0005482262931764126, 0.000593138684052974, 1.573847112013027e-05, 3.5032899177167565e-05, 3.3504232987979776e-07, 1.8657554790024733e-07, 0.000460667914012447, 0.8416212201118469, 0.12311417609453201, 0.00635922746732831, 0.002699504140764475, 0.00016676213999744505, 0.0012130774557590485, 0.00013198891247157007, 8.468204759992659e-05, 4.615942543750862e-06, 6.99491283739917e-05, 4.916110356134595e-06, 3.4761166034513735e-07, 3.71195625348264e-07, 6.107363878982142e-05, 6.7285327531863e-05, 2.275831548104179e-06, 2.060149927274324e-05, 7.198155458354449e-07, 2.7881066344548344e-08, 1.652937862672843e-05, 0.0, 0.0, 0.0, 0.0, 0.0, 0.0, 0.0, 0.0], [0.0404171422123909, 0.0013464416842907667, 0.0002881725085899234, 4.343583896115888e-06, 0.0006837462424300611, 0.0021492778323590755, 0.0012713986216112971, 0.00021145936625543982, 0.00014913539052940905, 2.368190689594485e-05, 9.255170880351216e-05, 7.46091318433173e-05, 0.0030381649266928434, 0.9153454899787903, 0.0020634918473660946, 0.002670771675184369, 0.0006971447728574276, 0.022915314882993698, 0.0016386568313464522, 0.00029437849298119545, 8.30199132906273e-06, 0.00011940939293708652, 3.610887142713182e-05, 1.2593977771757636e-05, 0.000383078760933131, 0.0011952179484069347, 0.00018445361638441682, 7.125888805603608e-05, 0.00012850709026679397, 6.062284592189826e-05, 4.517687557381578e-05, 6.895808724038943e-07, 0.0023790940176695585, 0.0, 0.0, 0.0, 0.0, 0.0, 0.0, 0.0], [0.03775651007890701, 0.0016132266027852893, 0.0003177846665494144, 8.171087984010228e-07, 4.6314994506246876e-07, 7.222019485197961e-05, 0.00012490902736317366, 4.997585165256169e-06, 0.0003066718054469675, 5.749355295847636e-06, 0.0002466128207743168, 0.003777747042477131, 0.0013358069118112326, 0.002113186754286289, 0.8997160792350769, 0.04417850449681282, 0.00033094992977567017, 0.001384939532727003, 0.0003935607383027673, 0.002321055391803384, 0.0004642207932192832, 0.00019271507335361093, 0.0005703868810087442, 5.92765218243585e-06, 2.4687210498086642e-08, 3.108325699940906e-06, 7.16592330718413e-06, 2.9240155186016636e-07, 7.98414257587865e-05, 1.2546398465929087e-05, 0.0001265132159460336, 0.00023837975459173322, 0.0008907333249226213, 0.0014062307309359312, 0.0, 0.0, 0.0, 0.0, 0.0, 0.0], [0.08771783858537674, 0.007821416482329369, 5.662468174705282e-05, 1.4731131869893943e-08, 1.0490747627045494e-05, 0.0011058712843805552, 0.0004291172663215548, 5.523042636923492e-05, 3.919887603842653e-05, 2.7502044304128503e-06, 2.546168616390787e-06, 0.002755208173766732, 0.005722646601498127, 0.0011191918747499585, 0.0015876393299549818, 0.8757357597351074, 0.0010800447780638933, 0.003532156115397811, 0.0015019910642877221, 0.0006949505768716335, 4.3340980482753366e-05, 0.00023435073671862483, 6.934305019967724e-06, 2.7577918615406816e-08, 9.912458835970028e-07, 0.00019156669441144913, 2.9515418646042235e-05, 5.4682345762557816e-06, 2.4805774501146516e-06, 1.4659882481282693e-06, 7.256012395373546e-07, 8.567833720007911e-05, 0.004263886250555515, 0.0007048699189908803, 0.0034579611383378506, 0.0, 0.0, 0.0, 0.0, 0.0], [0.018741462379693985, 0.00013177553773857653, 0.0001151907054008916, 8.336372729900177e-07, 3.8734546592422703e-07, 4.034390804008581e-05, 8.927338058128953e-05, 6.5760018514993135e-06, 6.646589463343844e-05, 2.0145337487065262e-07, 0.00012498503201641142, 0.00022737719700671732, 0.0003596782626118511, 4.087373235961422e-05, 8.65406691445969e-05, 0.00017062197730410844, 0.9720672369003296, 0.004511029925197363, 0.0017741514602676034, 0.00033421185798943043, 0.0006673701573163271, 8.272354534710757e-06, 8.590857760282233e-05, 4.4451999769989925e-07, 1.5395192676237457e-08, 3.916235073120333e-06, 1.856171184044797e-05, 1.744039764162153e-06, 2.306476017110981e-05, 6.561277245964448e-07, 5.5365380831062794e-05, 1.002774115477223e-05, 0.0001100561858038418, 2.098819095408544e-05, 6.0086229495937005e-05, 4.435600567376241e-05, 0.0, 0.0, 0.0, 0.0], [0.021614333614706993, 6.699936784571037e-05, 0.00023382958897855133, 1.946084609016907e-07, 1.0567928256932646e-06, 2.5699444449855946e-05, 0.0002104660088662058, 1.7352494978695177e-06, 6.270136509556323e-06, 8.374804139066327e-08, 2.3547661385237006e-06, 1.8064512914861552e-05, 0.00023376515309792012, 0.001895317924208939, 0.00020409416174516082, 0.0004746883932966739, 0.0029953729826956987, 0.9625540971755981, 0.00691427756100893, 0.00019762477313634008, 0.00011761223140638322, 1.78101454366697e-05, 8.19376073195599e-05, 8.319892685904051e-08, 6.341040403867737e-08, 1.503461476204393e-06, 1.595173125679139e-05, 1.2851933206547983e-07, 7.935282724247372e-07, 1.268652596309039e-07, 5.140130951986066e-07, 3.882859900272706e-08, 5.8853103837464005e-05, 0.0011026777792721987, 9.716644126456231e-05, 8.231291576521471e-05, 0.0007721150759607553, 0.0, 0.0, 0.0], [0.036683231592178345, 5.292119567457121e-06, 1.6796273030195152e-06, 3.2259253601729654e-10, 1.7678923214248243e-08, 9.71175995800877e-06, 6.970066351641435e-06, 3.922034920833539e-06, 1.5272406017174944e-05, 6.423094873753143e-07, 3.0026106401237485e-07, 2.1527788703679107e-05, 8.620285143479123e-07, 2.371107621002011e-05, 1.1333961538184667e-06, 4.370046099211322e-06, 2.1794727217638865e-05, 0.0007244806620292366, 0.9565503597259521, 7.606112922076136e-05, 0.005361164920032024, 3.4096636227332056e-05, 1.4788588487135712e-06, 1.9675812090724776e-09, 6.515209260982147e-09, 7.016106451374071e-07, 1.9081969071521598e-07, 3.605064478051645e-07, 3.97335998059134e-06, 1.5304269709304208e-06, 1.0370927583380762e-07, 7.635036922692962e-07, 1.8985110727953725e-07, 6.1644395827897824e-06, 2.6138322937185876e-06, 1.3529084981200867e-06, 1.0274129635945428e-05, 0.00042383253457956016, 0.0, 0.0], [0.039370130747556686, 0.0003585830272641033, 7.41930998628959e-05, 4.9509686505189165e-05, 4.653078576666303e-06, 4.69761471322272e-05, 0.0002299233601661399, 1.250448349310318e-06, 3.7233094190014526e-05, 8.911907656283802e-08, 7.931947038741782e-05, 0.00013509126438293606, 1.8374801584286615e-05, 0.0001029744089464657, 8.208496728911996e-05, 2.753642911557108e-05, 0.0005808327696286142, 0.001175031648017466, 0.00090598821407184, 0.9545682072639465, 7.417640154017136e-05, 0.0005086685996502638, 0.0001944841060321778, 8.633135439595208e-05, 8.952758889790857e-07, 1.429008443665225e-05, 3.4452030376996845e-05, 2.1258705373838893e-07, 1.695069659035653e-05, 4.816184286937641e-07, 3.1853684049565345e-05, 1.3589491572929546e-05, 2.5087774702114984e-05, 5.98193691985216e-05, 0.00011690238170558587, 1.1342107427481096e-05, 0.0002713192661758512, 0.0002638357982505113, 0.00042731984285637736, 0.0], [0.02540118619799614, 7.441657317031058e-07, 1.083011466107564e-05, 2.249714858848506e-09, 9.22188214680375e-10, 8.20854529592907e-06, 2.5448052838328294e-06, 1.0004332295920904e-07, 3.16087098326534e-05, 2.427833578622085e-07, 5.28918860709382e-07, 1.4262905096984468e-05, 1.5345697192969965e-06, 1.87780551641481e-06, 0.0002028696471825242, 2.141229060725891e-06, 0.00010114459291798994, 0.0009309824672527611, 0.10166086256504059, 5.5514923587907106e-05, 0.8627561926841736, 2.250216311949771e-06, 3.0665501981275156e-05, 5.196882923996782e-09, 3.199170095502524e-11, 8.736409284892943e-08, 1.2241630997777975e-07, 1.2374229418909977e-09, 1.2507468454714399e-05, 4.6357610017366824e-07, 1.629777557354828e-07, 2.719423264352372e-07, 1.1941983757424168e-07, 1.4462457897934655e-07, 5.527898247237317e-05, 3.5639260431707953e-07, 4.93334409839008e-05, 0.00016947872063610703, 0.008456651121377945, 3.8713624235242605e-05]]]}\n",
              "    )\n",
              "    </script>"
            ],
            "text/plain": [
              "<circuitsvis.utils.render.RenderedHTML at 0xffff425c9fd0>"
            ]
          },
          "metadata": {
            "text/html": {
              "Content-Type": "text/html"
            }
          },
          "output_type": "display_data"
        }
      ],
      "source": [
        "if IN_GITHUB:\n",
        "    torch.manual_seed(50)\n",
        "\n",
        "induction_head_layer = 5\n",
        "induction_head_index = 5\n",
        "size = (1, 20)\n",
        "input_tensor = torch.randint(1000, 10000, size)\n",
        "\n",
        "single_random_sequence = input_tensor.to(model.cfg.device)\n",
        "repeated_random_sequence = einops.repeat(single_random_sequence, \"batch seq_len -> batch (2 seq_len)\")\n",
        "def visualize_pattern_hook(\n",
        "    pattern: Float[torch.Tensor, \"batch head_index dest_pos source_pos\"],\n",
        "    hook: HookPoint,\n",
        "):\n",
        "    display(\n",
        "        cv.attention.attention_patterns(\n",
        "            tokens=model.to_str_tokens(repeated_random_sequence),\n",
        "            attention=pattern[0, induction_head_index, :, :][None, :, :] # Add a dummy axis, as CircuitsVis expects 3D patterns.\n",
        "        )\n",
        "    )\n",
        "\n",
        "model.run_with_hooks(\n",
        "    repeated_random_sequence,\n",
        "    return_type=None,\n",
        "    fwd_hooks=[(\n",
        "        utils.get_act_name(\"pattern\", induction_head_layer),\n",
        "        visualize_pattern_hook\n",
        "    )]\n",
        ")"
      ]
    },
    {
      "cell_type": "markdown",
      "metadata": {
        "id": "YyBVBB_gOYku"
      },
      "source": [
        "## Available Models"
      ]
    },
    {
      "cell_type": "markdown",
      "metadata": {
        "id": "QjMn0ISLOYku"
      },
      "source": [
        "TransformerLens comes with over 40 open source models available, all of which can be loaded into a consistent(-ish) architecture by just changing the name in `from_pretrained`. The open source models available are [documented here](https://dynalist.io/d/n2ZWtnoYHrU1s4vnFSAQ519J#z=jHj79Pj58cgJKdq4t-ygK-4h), and a set of interpretability friendly models I've trained are [documented here](https://dynalist.io/d/n2ZWtnoYHrU1s4vnFSAQ519J#z=NCJ6zH_Okw_mUYAwGnMKsj2m), including a set of toy language models (tiny one to four layer models) and a set of [SoLU models](https://dynalist.io/d/n2ZWtnoYHrU1s4vnFSAQ519J#z=FZ5W6GGcy6OitPEaO733JLqf) up to GPT-2 Medium size (300M parameters). You can see [a table of the official alias and hyper-parameters of available models here](https://github.com/TransformerLensOrg/TransformerLens/blob/main/transformer_lens/model_properties_table.md).\n",
        "\n",
        "**Note:** TransformerLens does not currently support multi-GPU models (which you want for models above eg 7B parameters), but this feature is coming soon!"
      ]
    },
    {
      "cell_type": "markdown",
      "metadata": {
        "id": "2iiv_L-4OYkw"
      },
      "source": [
        "\n",
        "Notably, this means that analysis can be near immediately re-run on a different model by just changing the name - to see this, let's load in DistilGPT-2 (a distilled version of GPT-2, with half as many layers) and copy the code from above to see the induction heads in that model."
      ]
    },
    {
      "cell_type": "code",
      "execution_count": null,
      "metadata": {
        "id": "6d1bsldrOYkw",
        "outputId": "1df58447-ccff-40ae-f8fd-4909cbaf32cf"
      },
      "outputs": [
        {
          "name": "stderr",
          "output_type": "stream",
          "text": [
            "Using pad_token, but it is not set yet.\n"
          ]
        },
        {
          "name": "stdout",
          "output_type": "stream",
          "text": [
            "Loaded pretrained model distilgpt2 into HookedTransformer\n"
          ]
        }
      ],
      "source": [
        "# NBVAL_IGNORE_OUTPUT\n",
        "distilgpt2 = HookedTransformer.from_pretrained(\"distilgpt2\", device=device)"
      ]
    },
    {
      "cell_type": "code",
      "execution_count": null,
      "metadata": {
        "id": "QTpKRm2NOYkw",
        "outputId": "6d65b8df-7f0e-4519-f0e7-ecb4aa27ade5"
      },
      "outputs": [
        {
          "data": {
            "text/html": [
              "<html>\n",
              "<head><meta charset=\"utf-8\" /></head>\n",
              "<body>\n",
              "    <div>            <script src=\"https://cdnjs.cloudflare.com/ajax/libs/mathjax/2.7.5/MathJax.js?config=TeX-AMS-MML_SVG\"></script><script type=\"text/javascript\">if (window.MathJax && window.MathJax.Hub && window.MathJax.Hub.Config) {window.MathJax.Hub.Config({SVG: {font: \"STIX-Web\"}});}</script>                <script type=\"text/javascript\">window.PlotlyConfig = {MathJaxConfig: 'local'};</script>\n",
              "        <script charset=\"utf-8\" src=\"https://cdn.plot.ly/plotly-2.26.0.min.js\"></script>                <div id=\"378fa384-2cc7-4a1c-b871-c643c0e527e8\" class=\"plotly-graph-div\" style=\"height:525px; width:100%;\"></div>            <script type=\"text/javascript\">                                    window.PLOTLYENV=window.PLOTLYENV || {};                                    if (document.getElementById(\"378fa384-2cc7-4a1c-b871-c643c0e527e8\")) {                    Plotly.newPlot(                        \"378fa384-2cc7-4a1c-b871-c643c0e527e8\",                        [{\"coloraxis\":\"coloraxis\",\"name\":\"0\",\"z\":[[0.009922467172145844,0.00014764934894628823,0.011443736031651497,3.4372510526736733e-06,0.0006867930642329156,5.491139290825231e-06,0.008899171836674213,0.0014873683685436845,0.008349093608558178,0.00954477023333311,0.009120927192270756,0.01596890762448311],[0.003026863094419241,0.018020611256361008,0.003568781539797783,0.0006068727816455066,0.013361244462430477,0.002166191814467311,0.005081023555248976,0.01559095922857523,0.0044562919065356255,8.614760008640587e-05,0.003938235342502594,0.014764327555894852],[0.010219043120741844,0.00780068663880229,0.011151125654578209,0.0025892923586070538,0.019908905029296875,0.005215638317167759,0.00943383015692234,0.0015526963397860527,0.017547965049743652,0.011387993581593037,0.021231677383184433,1.451456820402222e-13],[0.007366393692791462,0.22952795028686523,0.8673726916313171,0.016448020935058594,0.01666181907057762,0.011658817529678345,0.01942884363234043,0.20720870792865753,0.014285862445831299,0.016440654173493385,0.9371501803398132,0.49821725487709045],[0.27513042092323303,0.23388457298278809,0.08511187136173248,0.010210886597633362,0.08357562869787216,0.02389742061495781,0.6404961943626404,0.025386787950992584,0.06823859363794327,0.651100218296051,0.015778401866555214,0.06186722218990326],[0.021418118849396706,0.07837661355733871,0.05457017943263054,0.01195995882153511,0.03577948361635208,0.17681372165679932,0.07745278626680374,0.10316655784845352,0.0073539442382752895,0.4502670466899872,0.19098441302776337,0.029486285522580147]],\"type\":\"heatmap\",\"xaxis\":\"x\",\"yaxis\":\"y\",\"hovertemplate\":\"Head: %{x}\\u003cbr\\u003eLayer: %{y}\\u003cbr\\u003ecolor: %{z}\\u003cextra\\u003e\\u003c\\u002fextra\\u003e\"}],                        {\"template\":{\"data\":{\"histogram2dcontour\":[{\"type\":\"histogram2dcontour\",\"colorbar\":{\"outlinewidth\":0,\"ticks\":\"\"},\"colorscale\":[[0.0,\"#0d0887\"],[0.1111111111111111,\"#46039f\"],[0.2222222222222222,\"#7201a8\"],[0.3333333333333333,\"#9c179e\"],[0.4444444444444444,\"#bd3786\"],[0.5555555555555556,\"#d8576b\"],[0.6666666666666666,\"#ed7953\"],[0.7777777777777778,\"#fb9f3a\"],[0.8888888888888888,\"#fdca26\"],[1.0,\"#f0f921\"]]}],\"choropleth\":[{\"type\":\"choropleth\",\"colorbar\":{\"outlinewidth\":0,\"ticks\":\"\"}}],\"histogram2d\":[{\"type\":\"histogram2d\",\"colorbar\":{\"outlinewidth\":0,\"ticks\":\"\"},\"colorscale\":[[0.0,\"#0d0887\"],[0.1111111111111111,\"#46039f\"],[0.2222222222222222,\"#7201a8\"],[0.3333333333333333,\"#9c179e\"],[0.4444444444444444,\"#bd3786\"],[0.5555555555555556,\"#d8576b\"],[0.6666666666666666,\"#ed7953\"],[0.7777777777777778,\"#fb9f3a\"],[0.8888888888888888,\"#fdca26\"],[1.0,\"#f0f921\"]]}],\"heatmap\":[{\"type\":\"heatmap\",\"colorbar\":{\"outlinewidth\":0,\"ticks\":\"\"},\"colorscale\":[[0.0,\"#0d0887\"],[0.1111111111111111,\"#46039f\"],[0.2222222222222222,\"#7201a8\"],[0.3333333333333333,\"#9c179e\"],[0.4444444444444444,\"#bd3786\"],[0.5555555555555556,\"#d8576b\"],[0.6666666666666666,\"#ed7953\"],[0.7777777777777778,\"#fb9f3a\"],[0.8888888888888888,\"#fdca26\"],[1.0,\"#f0f921\"]]}],\"heatmapgl\":[{\"type\":\"heatmapgl\",\"colorbar\":{\"outlinewidth\":0,\"ticks\":\"\"},\"colorscale\":[[0.0,\"#0d0887\"],[0.1111111111111111,\"#46039f\"],[0.2222222222222222,\"#7201a8\"],[0.3333333333333333,\"#9c179e\"],[0.4444444444444444,\"#bd3786\"],[0.5555555555555556,\"#d8576b\"],[0.6666666666666666,\"#ed7953\"],[0.7777777777777778,\"#fb9f3a\"],[0.8888888888888888,\"#fdca26\"],[1.0,\"#f0f921\"]]}],\"contourcarpet\":[{\"type\":\"contourcarpet\",\"colorbar\":{\"outlinewidth\":0,\"ticks\":\"\"}}],\"contour\":[{\"type\":\"contour\",\"colorbar\":{\"outlinewidth\":0,\"ticks\":\"\"},\"colorscale\":[[0.0,\"#0d0887\"],[0.1111111111111111,\"#46039f\"],[0.2222222222222222,\"#7201a8\"],[0.3333333333333333,\"#9c179e\"],[0.4444444444444444,\"#bd3786\"],[0.5555555555555556,\"#d8576b\"],[0.6666666666666666,\"#ed7953\"],[0.7777777777777778,\"#fb9f3a\"],[0.8888888888888888,\"#fdca26\"],[1.0,\"#f0f921\"]]}],\"surface\":[{\"type\":\"surface\",\"colorbar\":{\"outlinewidth\":0,\"ticks\":\"\"},\"colorscale\":[[0.0,\"#0d0887\"],[0.1111111111111111,\"#46039f\"],[0.2222222222222222,\"#7201a8\"],[0.3333333333333333,\"#9c179e\"],[0.4444444444444444,\"#bd3786\"],[0.5555555555555556,\"#d8576b\"],[0.6666666666666666,\"#ed7953\"],[0.7777777777777778,\"#fb9f3a\"],[0.8888888888888888,\"#fdca26\"],[1.0,\"#f0f921\"]]}],\"mesh3d\":[{\"type\":\"mesh3d\",\"colorbar\":{\"outlinewidth\":0,\"ticks\":\"\"}}],\"scatter\":[{\"fillpattern\":{\"fillmode\":\"overlay\",\"size\":10,\"solidity\":0.2},\"type\":\"scatter\"}],\"parcoords\":[{\"type\":\"parcoords\",\"line\":{\"colorbar\":{\"outlinewidth\":0,\"ticks\":\"\"}}}],\"scatterpolargl\":[{\"type\":\"scatterpolargl\",\"marker\":{\"colorbar\":{\"outlinewidth\":0,\"ticks\":\"\"}}}],\"bar\":[{\"error_x\":{\"color\":\"#2a3f5f\"},\"error_y\":{\"color\":\"#2a3f5f\"},\"marker\":{\"line\":{\"color\":\"#E5ECF6\",\"width\":0.5},\"pattern\":{\"fillmode\":\"overlay\",\"size\":10,\"solidity\":0.2}},\"type\":\"bar\"}],\"scattergeo\":[{\"type\":\"scattergeo\",\"marker\":{\"colorbar\":{\"outlinewidth\":0,\"ticks\":\"\"}}}],\"scatterpolar\":[{\"type\":\"scatterpolar\",\"marker\":{\"colorbar\":{\"outlinewidth\":0,\"ticks\":\"\"}}}],\"histogram\":[{\"marker\":{\"pattern\":{\"fillmode\":\"overlay\",\"size\":10,\"solidity\":0.2}},\"type\":\"histogram\"}],\"scattergl\":[{\"type\":\"scattergl\",\"marker\":{\"colorbar\":{\"outlinewidth\":0,\"ticks\":\"\"}}}],\"scatter3d\":[{\"type\":\"scatter3d\",\"line\":{\"colorbar\":{\"outlinewidth\":0,\"ticks\":\"\"}},\"marker\":{\"colorbar\":{\"outlinewidth\":0,\"ticks\":\"\"}}}],\"scattermapbox\":[{\"type\":\"scattermapbox\",\"marker\":{\"colorbar\":{\"outlinewidth\":0,\"ticks\":\"\"}}}],\"scatterternary\":[{\"type\":\"scatterternary\",\"marker\":{\"colorbar\":{\"outlinewidth\":0,\"ticks\":\"\"}}}],\"scattercarpet\":[{\"type\":\"scattercarpet\",\"marker\":{\"colorbar\":{\"outlinewidth\":0,\"ticks\":\"\"}}}],\"carpet\":[{\"aaxis\":{\"endlinecolor\":\"#2a3f5f\",\"gridcolor\":\"white\",\"linecolor\":\"white\",\"minorgridcolor\":\"white\",\"startlinecolor\":\"#2a3f5f\"},\"baxis\":{\"endlinecolor\":\"#2a3f5f\",\"gridcolor\":\"white\",\"linecolor\":\"white\",\"minorgridcolor\":\"white\",\"startlinecolor\":\"#2a3f5f\"},\"type\":\"carpet\"}],\"table\":[{\"cells\":{\"fill\":{\"color\":\"#EBF0F8\"},\"line\":{\"color\":\"white\"}},\"header\":{\"fill\":{\"color\":\"#C8D4E3\"},\"line\":{\"color\":\"white\"}},\"type\":\"table\"}],\"barpolar\":[{\"marker\":{\"line\":{\"color\":\"#E5ECF6\",\"width\":0.5},\"pattern\":{\"fillmode\":\"overlay\",\"size\":10,\"solidity\":0.2}},\"type\":\"barpolar\"}],\"pie\":[{\"automargin\":true,\"type\":\"pie\"}]},\"layout\":{\"autotypenumbers\":\"strict\",\"colorway\":[\"#636efa\",\"#EF553B\",\"#00cc96\",\"#ab63fa\",\"#FFA15A\",\"#19d3f3\",\"#FF6692\",\"#B6E880\",\"#FF97FF\",\"#FECB52\"],\"font\":{\"color\":\"#2a3f5f\"},\"hovermode\":\"closest\",\"hoverlabel\":{\"align\":\"left\"},\"paper_bgcolor\":\"white\",\"plot_bgcolor\":\"#E5ECF6\",\"polar\":{\"bgcolor\":\"#E5ECF6\",\"angularaxis\":{\"gridcolor\":\"white\",\"linecolor\":\"white\",\"ticks\":\"\"},\"radialaxis\":{\"gridcolor\":\"white\",\"linecolor\":\"white\",\"ticks\":\"\"}},\"ternary\":{\"bgcolor\":\"#E5ECF6\",\"aaxis\":{\"gridcolor\":\"white\",\"linecolor\":\"white\",\"ticks\":\"\"},\"baxis\":{\"gridcolor\":\"white\",\"linecolor\":\"white\",\"ticks\":\"\"},\"caxis\":{\"gridcolor\":\"white\",\"linecolor\":\"white\",\"ticks\":\"\"}},\"coloraxis\":{\"colorbar\":{\"outlinewidth\":0,\"ticks\":\"\"}},\"colorscale\":{\"sequential\":[[0.0,\"#0d0887\"],[0.1111111111111111,\"#46039f\"],[0.2222222222222222,\"#7201a8\"],[0.3333333333333333,\"#9c179e\"],[0.4444444444444444,\"#bd3786\"],[0.5555555555555556,\"#d8576b\"],[0.6666666666666666,\"#ed7953\"],[0.7777777777777778,\"#fb9f3a\"],[0.8888888888888888,\"#fdca26\"],[1.0,\"#f0f921\"]],\"sequentialminus\":[[0.0,\"#0d0887\"],[0.1111111111111111,\"#46039f\"],[0.2222222222222222,\"#7201a8\"],[0.3333333333333333,\"#9c179e\"],[0.4444444444444444,\"#bd3786\"],[0.5555555555555556,\"#d8576b\"],[0.6666666666666666,\"#ed7953\"],[0.7777777777777778,\"#fb9f3a\"],[0.8888888888888888,\"#fdca26\"],[1.0,\"#f0f921\"]],\"diverging\":[[0,\"#8e0152\"],[0.1,\"#c51b7d\"],[0.2,\"#de77ae\"],[0.3,\"#f1b6da\"],[0.4,\"#fde0ef\"],[0.5,\"#f7f7f7\"],[0.6,\"#e6f5d0\"],[0.7,\"#b8e186\"],[0.8,\"#7fbc41\"],[0.9,\"#4d9221\"],[1,\"#276419\"]]},\"xaxis\":{\"gridcolor\":\"white\",\"linecolor\":\"white\",\"ticks\":\"\",\"title\":{\"standoff\":15},\"zerolinecolor\":\"white\",\"automargin\":true,\"zerolinewidth\":2},\"yaxis\":{\"gridcolor\":\"white\",\"linecolor\":\"white\",\"ticks\":\"\",\"title\":{\"standoff\":15},\"zerolinecolor\":\"white\",\"automargin\":true,\"zerolinewidth\":2},\"scene\":{\"xaxis\":{\"backgroundcolor\":\"#E5ECF6\",\"gridcolor\":\"white\",\"linecolor\":\"white\",\"showbackground\":true,\"ticks\":\"\",\"zerolinecolor\":\"white\",\"gridwidth\":2},\"yaxis\":{\"backgroundcolor\":\"#E5ECF6\",\"gridcolor\":\"white\",\"linecolor\":\"white\",\"showbackground\":true,\"ticks\":\"\",\"zerolinecolor\":\"white\",\"gridwidth\":2},\"zaxis\":{\"backgroundcolor\":\"#E5ECF6\",\"gridcolor\":\"white\",\"linecolor\":\"white\",\"showbackground\":true,\"ticks\":\"\",\"zerolinecolor\":\"white\",\"gridwidth\":2}},\"shapedefaults\":{\"line\":{\"color\":\"#2a3f5f\"}},\"annotationdefaults\":{\"arrowcolor\":\"#2a3f5f\",\"arrowhead\":0,\"arrowwidth\":1},\"geo\":{\"bgcolor\":\"white\",\"landcolor\":\"#E5ECF6\",\"subunitcolor\":\"white\",\"showland\":true,\"showlakes\":true,\"lakecolor\":\"white\"},\"title\":{\"x\":0.05},\"mapbox\":{\"style\":\"light\"}}},\"xaxis\":{\"anchor\":\"y\",\"domain\":[0.0,1.0],\"scaleanchor\":\"y\",\"constrain\":\"domain\",\"title\":{\"text\":\"Head\"}},\"yaxis\":{\"anchor\":\"x\",\"domain\":[0.0,1.0],\"autorange\":\"reversed\",\"constrain\":\"domain\",\"title\":{\"text\":\"Layer\"}},\"coloraxis\":{\"colorscale\":[[0.0,\"rgb(103,0,31)\"],[0.1,\"rgb(178,24,43)\"],[0.2,\"rgb(214,96,77)\"],[0.3,\"rgb(244,165,130)\"],[0.4,\"rgb(253,219,199)\"],[0.5,\"rgb(247,247,247)\"],[0.6,\"rgb(209,229,240)\"],[0.7,\"rgb(146,197,222)\"],[0.8,\"rgb(67,147,195)\"],[0.9,\"rgb(33,102,172)\"],[1.0,\"rgb(5,48,97)\"]],\"cmid\":0.0},\"title\":{\"text\":\"Induction Score by Head in Distil GPT-2\"}},                        {\"responsive\": true}                    ).then(function(){\n",
              "                            \n",
              "var gd = document.getElementById('378fa384-2cc7-4a1c-b871-c643c0e527e8');\n",
              "var x = new MutationObserver(function (mutations, observer) {{\n",
              "        var display = window.getComputedStyle(gd).display;\n",
              "        if (!display || display === 'none') {{\n",
              "            console.log([gd, 'removed!']);\n",
              "            Plotly.purge(gd);\n",
              "            observer.disconnect();\n",
              "        }}\n",
              "}});\n",
              "\n",
              "// Listen for the removal of the full notebook cells\n",
              "var notebookContainer = gd.closest('#notebook-container');\n",
              "if (notebookContainer) {{\n",
              "    x.observe(notebookContainer, {childList: true});\n",
              "}}\n",
              "\n",
              "// Listen for the clearing of the current output cell\n",
              "var outputEl = gd.closest('.output');\n",
              "if (outputEl) {{\n",
              "    x.observe(outputEl, {childList: true});\n",
              "}}\n",
              "\n",
              "                        })                };                            </script>        </div>\n",
              "</body>\n",
              "</html>"
            ]
          },
          "metadata": {},
          "output_type": "display_data"
        }
      ],
      "source": [
        "\n",
        "# We make a tensor to store the induction score for each head. We put it on the model's device to avoid needing to move things between the GPU and CPU, which can be slow.\n",
        "distilgpt2_induction_score_store = torch.zeros((distilgpt2.cfg.n_layers, distilgpt2.cfg.n_heads), device=distilgpt2.cfg.device)\n",
        "def induction_score_hook(\n",
        "    pattern: Float[torch.Tensor, \"batch head_index dest_pos source_pos\"],\n",
        "    hook: HookPoint,\n",
        "):\n",
        "    # We take the diagonal of attention paid from each destination position to source positions seq_len-1 tokens back\n",
        "    # (This only has entries for tokens with index>=seq_len)\n",
        "    induction_stripe = pattern.diagonal(dim1=-2, dim2=-1, offset=1-seq_len)\n",
        "    # Get an average score per head\n",
        "    induction_score = einops.reduce(induction_stripe, \"batch head_index position -> head_index\", \"mean\")\n",
        "    # Store the result.\n",
        "    distilgpt2_induction_score_store[hook.layer(), :] = induction_score\n",
        "\n",
        "# We make a boolean filter on activation names, that's true only on attention pattern names.\n",
        "pattern_hook_names_filter = lambda name: name.endswith(\"pattern\")\n",
        "\n",
        "distilgpt2.run_with_hooks(\n",
        "    repeated_tokens,\n",
        "    return_type=None, # For efficiency, we don't need to calculate the logits\n",
        "    fwd_hooks=[(\n",
        "        pattern_hook_names_filter,\n",
        "        induction_score_hook\n",
        "    )]\n",
        ")\n",
        "\n",
        "imshow(distilgpt2_induction_score_store, xaxis=\"Head\", yaxis=\"Layer\", title=\"Induction Score by Head in Distil GPT-2\")"
      ]
    },
    {
      "cell_type": "markdown",
      "metadata": {
        "id": "Bq-2igOgOYkw"
      },
      "source": [
        "\n",
        "### An overview of the important open source models in the library\n",
        "\n",
        "* **GPT-2** - the classic generative pre-trained models from OpenAI\n",
        "    * Sizes Small (85M), Medium (300M), Large (700M) and XL (1.5B).\n",
        "    * Trained on ~22B tokens of internet text. ([Open source replication](https://huggingface.co/datasets/openwebtext))\n",
        "* **GPT-Neo** - Eleuther's replication of GPT-2\n",
        "    * Sizes 125M, 1.3B, 2.7B\n",
        "    * Trained on 300B(ish?) tokens of [the Pile](https://pile.eleuther.ai/) a large and diverse dataset including a bunch of code (and weird stuff)\n",
        "* **[OPT](https://ai.facebook.com/blog/democratizing-access-to-large-scale-language-models-with-opt-175b/)** - Meta AI's series of open source models\n",
        "    * Trained on 180B tokens of diverse text.\n",
        "    * 125M, 1.3B, 2.7B, 6.7B, 13B, 30B, 66B\n",
        "* **GPT-J** - Eleuther's 6B parameter model, trained on the Pile\n",
        "* **GPT-NeoX** - Eleuther's 20B parameter model, trained on the Pile\n",
        "* **StableLM** - Stability AI's 3B and 7B models, with and without chat and instruction fine-tuning\n",
        "* **Stanford CRFM models** - a replication of GPT-2 Small and GPT-2 Medium, trained on 5 different random seeds.\n",
        "    * Notably, 600 checkpoints were taken during training per model, and these are available in the library with eg `HookedTransformer.from_pretrained(\"stanford-gpt2-small-a\", checkpoint_index=265)`.\n",
        "- **BERT** - Google's bidirectional encoder-only transformer.\n",
        "    - Size Base (108M), trained on English Wikipedia and BooksCorpus.\n",
        "\n",
        "</details>"
      ]
    },
    {
      "cell_type": "markdown",
      "metadata": {
        "id": "-LOXxluhOYkw"
      },
      "source": [
        "\n",
        "### An overview of some interpretability-friendly models I've trained and included\n",
        "\n",
        "(Feel free to [reach out](mailto:neelnanda27@gmail.com) if you want more details on any of these models)\n",
        "\n",
        "Each of these models has about ~200 checkpoints taken during training that can also be loaded from TransformerLens, with the `checkpoint_index` argument to `from_pretrained`.\n",
        "\n",
        "Note that all models are trained with a Beginning of Sequence token, and will likely break if given inputs without that!\n",
        "\n",
        "* **Toy Models**: Inspired by [A Mathematical Framework](https://transformer-circuits.pub/2021/framework/index.html), I've trained 12 tiny language models, of 1-4L and each of width 512. I think that interpreting these is likely to be far more tractable than larger models, and both serve as good practice and will likely contain motifs and circuits that generalise to far larger models (like induction heads):\n",
        "    * Attention-Only models (ie without MLPs): attn-only-1l, attn-only-2l, attn-only-3l, attn-only-4l\n",
        "    * GELU models (ie with MLP, and the standard GELU activations): gelu-1l, gelu-2l, gelu-3l, gelu-4l\n",
        "    * SoLU models (ie with MLP, and [Anthropic's SoLU activation](https://transformer-circuits.pub/2022/solu/index.html), designed to make MLP neurons more interpretable): solu-1l, solu-2l, solu-3l, solu-4l\n",
        "    * All models are trained on 22B tokens of data, 80% from C4 (web text) and 20% from Python Code\n",
        "    * Models of the same layer size were trained with the same weight initialization and data shuffle, to more directly compare the effect of different activation functions.\n",
        "* **SoLU** models: A larger scan of models trained with [Anthropic's SoLU activation](https://transformer-circuits.pub/2022/solu/index.html), in the hopes that it makes the MLP neuron interpretability easier.\n",
        "    * A scan up to GPT-2 Medium size, trained on 30B tokens of the same data as toy models, 80% from C4 and 20% from Python code.\n",
        "        * solu-6l (40M), solu-8l (100M), solu-10l (200M), solu-12l (340M)\n",
        "    * An older scan up to GPT-2 Medium size, trained on 15B tokens of [the Pile](https://pile.eleuther.ai/)\n",
        "        * solu-1l-pile (13M), solu-2l-pile (13M), solu-4l-pile (13M), solu-6l-pile (40M), solu-8l-pile (100M), solu-10l-pile (200M), solu-12l-pile (340M)"
      ]
    },
    {
      "cell_type": "markdown",
      "metadata": {
        "id": "tws8-PsiOYkx"
      },
      "source": [
        "## Other Resources:\n",
        "\n",
        "* [Concrete Steps to Get Started in Mechanistic Interpretability](https://neelnanda.io/getting-started): A guide I wrote for how to get involved in mechanistic interpretability, and how to learn the basic skills\n",
        "* [A Comprehensive Mechanistic Interpretability Explainer](https://neelnanda.io/glossary): An overview of concepts in the field and surrounding ideas in ML and transformers, with long digressions to give context and build intuitions.\n",
        "* [Concrete Open Problems in Mechanistic Interpretability](https://neelnanda.io/concrete-open-problems), a doc I wrote giving a long list of open problems in mechanistic interpretability, and thoughts on how to get started on trying to work on them.\n",
        "    * There's a lot of low-hanging fruit in the field, and I expect that many people reading this could use TransformerLens to usefully make progress on some of these!\n",
        "* Other demos:\n",
        "    * **[Exploratory Analysis Demo](https://neelnanda.io/exploratory-analysis-demo)**, a demonstration of my standard toolkit for how to use TransformerLens to explore a mysterious behaviour in a language model.\n",
        "    * [Interpretability in the Wild](https://github.com/redwoodresearch/Easy-Transformer) a codebase from Arthur Conmy and Alex Variengien at Redwood research using this library to do a detailed and rigorous reverse engineering of the Indirect Object Identification circuit, to accompany their paper\n",
        "        * Note - this was based on an earlier version of this library, called EasyTransformer. It's pretty similar, but several breaking changes have been made since.\n",
        "    * A [recorded walkthrough](https://www.youtube.com/watch?v=yo4QvDn-vsU) of me doing research with TransformerLens on whether a tiny model can re-derive positional information, with [an accompanying Colab](https://colab.research.google.com/github/TransformerLensOrg/TransformerLens/blob/main/No_Position_Experiment.ipynb)\n",
        "* [Neuroscope](https://neuroscope.io), a website showing the text in the dataset that most activates each neuron in some selected models. Good to explore to get a sense for what kind of features the model tends to represent, and as a \"wiki\" to get some info\n",
        "    * A tutorial on how to make an [Interactive Neuroscope](https://github.com/TransformerLensOrg/TransformerLens/blob/main/Hacky-Interactive-Lexoscope.ipynb), where you type in text and see the neuron activations over the text update live."
      ]
    },
    {
      "cell_type": "markdown",
      "metadata": {
        "id": "d-d9POXiOYkx"
      },
      "source": [
        "## Transformer architecture\n",
        "\n",
        "HookedTransformer is a somewhat adapted GPT-2 architecture, but is computationally identical. The most significant changes are to the internal structure of the attention heads:\n",
        "* The weights (W_K, W_Q, W_V) mapping the residual stream to queries, keys and values are 3 separate matrices, rather than big concatenated one.\n",
        "* The weight matrices (W_K, W_Q, W_V, W_O) and activations (keys, queries, values, z (values mixed by attention pattern)) have separate head_index and d_head axes, rather than flattening them into one big axis.\n",
        "    * The activations all have shape `[batch, position, head_index, d_head]`\n",
        "    * W_K, W_Q, W_V have shape `[head_index, d_model, d_head]` and W_O has shape `[head_index, d_head, d_model]`\n",
        "\n",
        "The actual code is a bit of a mess, as there's a variety of Boolean flags to make it consistent with the various different model families in TransformerLens - to understand it and the internal structure, I instead recommend reading the code in [CleanTransformerDemo](https://colab.research.google.com/github/TransformerLensOrg/TransformerLens/blob/clean-transformer-demo/Clean_Transformer_Demo.ipynb)"
      ]
    },
    {
      "cell_type": "markdown",
      "metadata": {
        "id": "x6pwbDu0OYkx"
      },
      "source": [
        "### Parameter Names\n",
        "\n",
        "Here is a list of the parameters and shapes in the model. By convention, all weight matrices multiply on the right (ie `new_activation = old_activation @ weights + bias`).\n",
        "\n",
        "Reminder of the key hyper-params:\n",
        "* `n_layers`: 12. The number of transformer blocks in the model (a block contains an attention layer and an MLP layer)\n",
        "* `n_heads`: 12. The number of attention heads per attention layer\n",
        "* `d_model`: 768. The residual stream width.\n",
        "* `d_head`: 64. The internal dimension of an attention head activation.\n",
        "* `d_mlp`: 3072. The internal dimension of the MLP layers (ie the number of neurons).\n",
        "* `d_vocab`: 50267. The number of tokens in the vocabulary.\n",
        "* `n_ctx`: 1024. The maximum number of tokens in an input prompt.\n"
      ]
    },
    {
      "cell_type": "markdown",
      "metadata": {
        "id": "f-j_DbAQOYkx"
      },
      "source": [
        "**Transformer Block parameters:**\n",
        "Replace 0 with the relevant layer index."
      ]
    },
    {
      "cell_type": "code",
      "execution_count": null,
      "metadata": {
        "id": "dIks3x3jOYkx",
        "outputId": "9e95a18c-9391-40dd-d652-18ffad023689"
      },
      "outputs": [
        {
          "name": "stdout",
          "output_type": "stream",
          "text": [
            "blocks.0.attn.W_Q torch.Size([12, 768, 64])\n",
            "blocks.0.attn.W_O torch.Size([12, 64, 768])\n",
            "blocks.0.attn.b_Q torch.Size([12, 64])\n",
            "blocks.0.attn.b_O torch.Size([768])\n",
            "blocks.0.attn.W_K torch.Size([12, 768, 64])\n",
            "blocks.0.attn.W_V torch.Size([12, 768, 64])\n",
            "blocks.0.attn.b_K torch.Size([12, 64])\n",
            "blocks.0.attn.b_V torch.Size([12, 64])\n",
            "blocks.0.mlp.W_in torch.Size([768, 3072])\n",
            "blocks.0.mlp.b_in torch.Size([3072])\n",
            "blocks.0.mlp.W_out torch.Size([3072, 768])\n",
            "blocks.0.mlp.b_out torch.Size([768])\n"
          ]
        }
      ],
      "source": [
        "for name, param in model.named_parameters():\n",
        "    if name.startswith(\"blocks.0.\"):\n",
        "        print(name, param.shape)"
      ]
    },
    {
      "cell_type": "markdown",
      "metadata": {
        "id": "oVpyVbsbOYkx"
      },
      "source": [
        "**Embedding & Unembedding parameters:**"
      ]
    },
    {
      "cell_type": "code",
      "execution_count": null,
      "metadata": {
        "id": "e8wSps1rOYky",
        "outputId": "ac4a279f-c0c3-4382-e966-fc049aad6212"
      },
      "outputs": [
        {
          "name": "stdout",
          "output_type": "stream",
          "text": [
            "embed.W_E torch.Size([50257, 768])\n",
            "pos_embed.W_pos torch.Size([1024, 768])\n",
            "unembed.W_U torch.Size([768, 50257])\n",
            "unembed.b_U torch.Size([50257])\n"
          ]
        }
      ],
      "source": [
        "for name, param in model.named_parameters():\n",
        "    if not name.startswith(\"blocks\"):\n",
        "        print(name, param.shape)"
      ]
    },
    {
      "cell_type": "markdown",
      "metadata": {
        "id": "BIW2N7QxOYky"
      },
      "source": [
        "### Activation + Hook Names\n",
        "\n",
        "Lets get out a list of the activation/hook names in the model and their shapes. In practice, I recommend using the `utils.get_act_name` function to get the names, but this is a useful fallback, and necessary to eg write a name filter function.\n",
        "\n",
        "Let's do this by entering in a short, 10 token prompt, and add a hook function to each activations to print its name and shape. To avoid spam, let's just add this to activations in the first block or not in a block.\n",
        "\n",
        "Note 1: Each LayerNorm has a hook for the scale factor (ie the standard deviation of the input activations for each token position & batch element) and for the normalized output (ie the input activation with mean 0 and standard deviation 1, but *before* applying scaling or translating with learned weights). LayerNorm is applied every time a layer reads from the residual stream: `ln1` is the LayerNorm before the attention layer in a block, `ln2` the one before the MLP layer, and `ln_final` is the LayerNorm before the unembed.\n",
        "\n",
        "Note 2: *Every* activation apart from the attention pattern and attention scores has shape beginning with `[batch, position]`. The attention pattern and scores have shape `[batch, head_index, dest_position, source_position]` (the numbers are the same, unless we're using caching)."
      ]
    },
    {
      "cell_type": "code",
      "execution_count": null,
      "metadata": {
        "id": "51ilNCcvOYky",
        "outputId": "3acd019d-eac0-4cd7-c26d-8b69e2f3cb4a"
      },
      "outputs": [
        {
          "name": "stdout",
          "output_type": "stream",
          "text": [
            "Num tokens: 10\n",
            "hook_embed torch.Size([1, 10, 768])\n",
            "hook_pos_embed torch.Size([1, 10, 768])\n",
            "blocks.0.hook_resid_pre torch.Size([1, 10, 768])\n",
            "blocks.0.ln1.hook_scale torch.Size([1, 10, 1])\n",
            "blocks.0.ln1.hook_normalized torch.Size([1, 10, 768])\n",
            "blocks.0.ln1.hook_scale torch.Size([1, 10, 1])\n",
            "blocks.0.ln1.hook_normalized torch.Size([1, 10, 768])\n",
            "blocks.0.ln1.hook_scale torch.Size([1, 10, 1])\n",
            "blocks.0.ln1.hook_normalized torch.Size([1, 10, 768])\n",
            "blocks.0.attn.hook_q torch.Size([1, 10, 12, 64])\n",
            "blocks.0.attn.hook_k torch.Size([1, 10, 12, 64])\n",
            "blocks.0.attn.hook_v torch.Size([1, 10, 12, 64])\n",
            "blocks.0.attn.hook_attn_scores torch.Size([1, 12, 10, 10])\n",
            "blocks.0.attn.hook_pattern torch.Size([1, 12, 10, 10])\n",
            "blocks.0.attn.hook_z torch.Size([1, 10, 12, 64])\n",
            "blocks.0.hook_attn_out torch.Size([1, 10, 768])\n",
            "blocks.0.hook_resid_mid torch.Size([1, 10, 768])\n",
            "blocks.0.ln2.hook_scale torch.Size([1, 10, 1])\n",
            "blocks.0.ln2.hook_normalized torch.Size([1, 10, 768])\n",
            "blocks.0.mlp.hook_pre torch.Size([1, 10, 3072])\n",
            "blocks.0.mlp.hook_post torch.Size([1, 10, 3072])\n",
            "blocks.0.hook_mlp_out torch.Size([1, 10, 768])\n",
            "blocks.0.hook_resid_post torch.Size([1, 10, 768])\n",
            "ln_final.hook_scale torch.Size([1, 10, 1])\n",
            "ln_final.hook_normalized torch.Size([1, 10, 768])\n"
          ]
        }
      ],
      "source": [
        "test_prompt = \"The quick brown fox jumped over the lazy dog\"\n",
        "print(\"Num tokens:\", len(model.to_tokens(test_prompt)[0]))\n",
        "\n",
        "def print_name_shape_hook_function(activation, hook):\n",
        "    print(hook.name, activation.shape)\n",
        "\n",
        "not_in_late_block_filter = lambda name: name.startswith(\"blocks.0.\") or not name.startswith(\"blocks\")\n",
        "\n",
        "model.run_with_hooks(\n",
        "    test_prompt,\n",
        "    return_type=None,\n",
        "    fwd_hooks=[(not_in_late_block_filter, print_name_shape_hook_function)],\n",
        ")"
      ]
    },
    {
      "cell_type": "markdown",
      "metadata": {
        "id": "nZKVecReOYky"
      },
      "source": [
        "### Folding LayerNorm (For the Curious)"
      ]
    },
    {
      "cell_type": "markdown",
      "metadata": {
        "id": "OzqsKxFoOYky"
      },
      "source": [
        "(For the curious - this is an important technical detail that's worth understanding, especially if you have preconceptions about how transformers work, but not necessary to use TransformerLens)\n",
        "\n",
        "LayerNorm is a normalization technique used by transformers, analogous to BatchNorm but more friendly to massive parallelisation. No one *really* knows why it works, but it seems to improve model numerical stability. Unlike BatchNorm, LayerNorm actually changes the functional form of the model, which makes it a massive pain for interpretability!\n",
        "\n",
        "Folding LayerNorm is a technique to make it lower overhead to deal with, and the flags `center_writing_weights` and `fold_ln` in `HookedTransformer.from_pretrained` apply this automatically (they default to True). These simplify the internal structure without changing the weights.\n",
        "\n",
        "Intuitively, LayerNorm acts on each residual stream vector (ie for each batch element and token position) independently, sets their mean to 0 (centering) and standard deviation to 1 (normalizing) (*across* the residual stream dimension - very weird!), and then applies a learned elementwise scaling and translation to each vector.\n",
        "\n",
        "Mathematically, centering is a linear map, normalizing is *not* a linear map, and scaling and translation are linear maps.\n",
        "* **Centering:** LayerNorm is applied every time a layer reads from the residual stream, so the mean of any residual stream vector can never matter - `center_writing_weights` set every weight matrix writing to the residual to have zero mean.\n",
        "* **Normalizing:** Normalizing is not a linear map, and cannot be factored out. The `hook_scale` hook point lets you access and control for this.\n",
        "* **Scaling and Translation:** Scaling and translation are linear maps, and are always followed by another linear map. The composition of two linear maps is another linear map, so we can *fold* the scaling and translation weights into the weights of the subsequent layer, and simplify things without changing the underlying computation.\n",
        "\n",
        "[See the docs for more details](https://github.com/TransformerLensOrg/TransformerLens/blob/main/further_comments.md#what-is-layernorm-folding-fold_ln)"
      ]
    },
    {
      "cell_type": "markdown",
      "metadata": {
        "id": "c40LjctlOYky"
      },
      "source": [
        "A fun consequence of LayerNorm folding is that it creates a bias across the unembed, a `d_vocab` length vector that is added to the output logits - GPT-2 is not trained with this, but it *is* trained with a final LayerNorm that contains a bias.\n",
        "\n",
        "Turns out, this LayerNorm bias learns structure of the data that we can only see after folding! In particular, it essentially learns **unigram statistics** - rare tokens get suppressed, common tokens get boosted, by pretty dramatic degrees! Let's list the top and bottom 20 - at the top we see common punctuation and words like \" the\" and \" and\", at the bottom we see weird-ass tokens like \" RandomRedditor\":"
      ]
    },
    {
      "cell_type": "code",
      "execution_count": null,
      "metadata": {
        "id": "kUQv0elhOYky"
      },
      "outputs": [],
      "source": [
        "unembed_bias = model.unembed.b_U\n",
        "bias_values, bias_indices = unembed_bias.sort(descending=True)"
      ]
    },
    {
      "cell_type": "code",
      "execution_count": null,
      "metadata": {
        "id": "G5XYdIWYOYkz",
        "outputId": "d0d096c5-5d0b-462e-e893-0ce02daf62fb"
      },
      "outputs": [
        {
          "name": "stdout",
          "output_type": "stream",
          "text": [
            "Top 20 values\n",
            "7.03 ','\n",
            "6.98 ' the'\n",
            "6.68 ' and'\n",
            "6.49 '.'\n",
            "6.48 '\\n'\n",
            "6.47 ' a'\n",
            "6.41 ' in'\n",
            "6.25 ' to'\n",
            "6.16 ' of'\n",
            "6.04 '-'\n",
            "6.03 ' ('\n",
            "5.88 ' \"'\n",
            "5.80 ' for'\n",
            "5.72 ' that'\n",
            "5.64 ' on'\n",
            "5.59 ' is'\n",
            "5.52 ' as'\n",
            "5.49 ' at'\n",
            "5.45 ' with'\n",
            "5.44 ' or'\n",
            "...\n",
            "Bottom 20 values\n",
            "-3.82 ' サーティ'\n",
            "-3.83 '\\x18'\n",
            "-3.83 '\\x14'\n",
            "-3.83 ' RandomRedditor'\n",
            "-3.83 '龍�'\n",
            "-3.83 '�'\n",
            "-3.83 '\\x1b'\n",
            "-3.83 '�'\n",
            "-3.83 '\\x05'\n",
            "-3.83 '\\x00'\n",
            "-3.83 '\\x06'\n",
            "-3.83 '\\x07'\n",
            "-3.83 '\\x0c'\n",
            "-3.83 '\\x02'\n",
            "-3.83 'oreAndOnline'\n",
            "-3.84 '\\x11'\n",
            "-3.84 '�'\n",
            "-3.84 '\\x10'\n",
            "-3.84 '�'\n",
            "-3.84 '�'\n"
          ]
        }
      ],
      "source": [
        "top_k = 20\n",
        "print(f\"Top {top_k} values\")\n",
        "for i in range(top_k):\n",
        "    print(f\"{bias_values[i].item():.2f} {repr(model.to_string(bias_indices[i]))}\")\n",
        "\n",
        "print(\"...\")\n",
        "print(f\"Bottom {top_k} values\")\n",
        "for i in range(top_k, 0, -1):\n",
        "    print(f\"{bias_values[-i].item():.2f} {repr(model.to_string(bias_indices[-i]))}\")"
      ]
    },
    {
      "cell_type": "markdown",
      "metadata": {
        "id": "KEkCOcdjOYkz"
      },
      "source": [
        "This can have real consequences for interpretability - for example, this bias favours \" John\" over \" Mary\" by about 1.2, about 1/3 of the effect size of the Indirect Object Identification Circuit! All other things being the same, this makes the John token 3.6x times more likely than the Mary token."
      ]
    },
    {
      "cell_type": "code",
      "execution_count": null,
      "metadata": {
        "id": "KU8lZOLdOYkz",
        "outputId": "f19d6111-cbd4-4e4a-a9da-7873352d18fa"
      },
      "outputs": [
        {
          "name": "stdout",
          "output_type": "stream",
          "text": [
            "John bias: 2.8995\n",
            "Mary bias: 1.6034\n",
            "Prob ratio bias: 3.6550x\n"
          ]
        }
      ],
      "source": [
        "john_bias = model.unembed.b_U[model.to_single_token(' John')]\n",
        "mary_bias = model.unembed.b_U[model.to_single_token(' Mary')]\n",
        "\n",
        "print(f\"John bias: {john_bias.item():.4f}\")\n",
        "print(f\"Mary bias: {mary_bias.item():.4f}\")\n",
        "print(f\"Prob ratio bias: {torch.exp(john_bias - mary_bias).item():.4f}x\")"
      ]
    },
    {
      "cell_type": "markdown",
      "metadata": {
        "id": "WEH4R-rdOYkz"
      },
      "source": [
        "# Features\n",
        "\n",
        "An overview of some other important features of the library. I recommend checking out the [Exploratory Analysis Demo](https://colab.research.google.com/github/TransformerLensOrg/Easy-Transformer/blob/main/Exploratory_Analysis_Demo.ipynb) for some other important features not mentioned here, and for a demo of what using the library in practice looks like."
      ]
    },
    {
      "cell_type": "markdown",
      "metadata": {
        "id": "-8MVeALzOYkz"
      },
      "source": [
        "## Dealing with tokens\n",
        "\n",
        "**Tokenization** is one of the most annoying features of studying language models. We want language models to be able to take in arbitrary text as input, but the transformer architecture needs the inputs to be elements of a fixed, finite vocabulary. The solution to this is **tokens**, a fixed vocabulary of \"sub-words\", that any natural language can be broken down into with a **tokenizer**. This is invertible, and we can recover the original text, called **de-tokenization**.\n",
        "\n",
        "TransformerLens comes with a range of utility functions to deal with tokenization. Different models can have different tokenizers, so these are all methods on the model.\n",
        "\n",
        "get_token_position, to_tokens, to_string, to_str_tokens, prepend_bos, to_single_token"
      ]
    },
    {
      "cell_type": "markdown",
      "metadata": {
        "id": "g1kCgHq1OYk0"
      },
      "source": [
        "The first thing you need to figure out is *how* things are tokenized. `model.to_str_tokens` splits a string into the tokens *as a list of substrings*, and so lets you explore what the text looks like. To demonstrate this, let's use it on this paragraph.\n",
        "\n",
        "Some observations - there are a lot of arbitrary-ish details in here!\n",
        "* The tokenizer splits on spaces, so no token contains two words.\n",
        "* Tokens include the preceding space, and whether the first token is a capital letter. `how` and ` how` are different tokens!\n",
        "* Common words are single tokens, even if fairly long (` paragraph`) while uncommon words are split into multiple tokens (` token|ized`).\n",
        "* Tokens *mostly* split on punctuation characters (eg `*` and `.`), but eg `'s` is a single token."
      ]
    },
    {
      "cell_type": "code",
      "execution_count": null,
      "metadata": {
        "id": "Fl3H1Av4OYk0",
        "outputId": "d39dbe1c-336b-43ff-c905-33968659d534"
      },
      "outputs": [
        {
          "name": "stdout",
          "output_type": "stream",
          "text": [
            "['<|endoftext|>', 'The', ' first', ' thing', ' you', ' need', ' to', ' figure', ' out', ' is', ' *', 'how', '*', ' things', ' are', ' token', 'ized', '.', ' `', 'model', '.', 'to', '_', 'str', '_', 't', 'ok', 'ens', '`', ' splits', ' a', ' string', ' into', ' the', ' tokens', ' *', 'as', ' a', ' list', ' of', ' sub', 'strings', '*,', ' and', ' so', ' lets', ' you', ' explore', ' what', ' the', ' text', ' looks', ' like', '.', ' To', ' demonstrate', ' this', ',', ' let', \"'s\", ' use', ' it', ' on', ' this', ' paragraph', '.']\n"
          ]
        }
      ],
      "source": [
        "example_text = \"The first thing you need to figure out is *how* things are tokenized. `model.to_str_tokens` splits a string into the tokens *as a list of substrings*, and so lets you explore what the text looks like. To demonstrate this, let's use it on this paragraph.\"\n",
        "example_text_str_tokens = model.to_str_tokens(example_text)\n",
        "print(example_text_str_tokens)"
      ]
    },
    {
      "cell_type": "markdown",
      "metadata": {
        "id": "d6w_TBzhOYk0"
      },
      "source": [
        "The transformer needs to take in a sequence of integers, not strings, so we need to convert these tokens into integers. `model.to_tokens` does this, and returns a tensor of integers on the model's device (shape `[batch, position]`). It maps a string to a batch of size 1."
      ]
    },
    {
      "cell_type": "code",
      "execution_count": null,
      "metadata": {
        "id": "2oxFTQS4OYk0",
        "outputId": "7485ad3d-4b45-468c-88ec-b237c2b1f6fd"
      },
      "outputs": [
        {
          "name": "stdout",
          "output_type": "stream",
          "text": [
            "tensor([[50256,   464,   717,  1517,   345,   761,   284,  3785,   503,   318,\n",
            "          1635,  4919,     9,  1243,   389, 11241,  1143,    13,  4600, 19849,\n",
            "            13,  1462,    62,  2536,    62,    83,   482,   641,    63, 30778,\n",
            "           257,  4731,   656,   262, 16326,  1635,   292,   257,  1351,   286,\n",
            "           850, 37336, 25666,   290,   523,  8781,   345,  7301,   644,   262,\n",
            "          2420,  3073,   588,    13,  1675, 10176,   428,    11,  1309,   338,\n",
            "           779,   340,   319,   428,  7322,    13]])\n"
          ]
        }
      ],
      "source": [
        "example_text_tokens = model.to_tokens(example_text)\n",
        "print(example_text_tokens)"
      ]
    },
    {
      "cell_type": "markdown",
      "metadata": {
        "id": "JxWTLVrkOYk1"
      },
      "source": [
        "`to_tokens` can also take in a list of strings, and return a batch of size `len(strings)`. If the strings are different numbers of tokens, it adds a PAD token to the end of the shorter strings to make them the same length.\n",
        "\n",
        "(Note: In GPT-2, 50256 signifies both the beginning of sequence, end of sequence and padding token - see the `prepend_bos` section for details)"
      ]
    },
    {
      "cell_type": "code",
      "execution_count": null,
      "metadata": {
        "id": "sscUGVLXOYk1",
        "outputId": "18ad0338-4bc2-4a74-e86f-57e8313610ab"
      },
      "outputs": [
        {
          "name": "stdout",
          "output_type": "stream",
          "text": [
            "tensor([[50256,   464,  3797,  3332,   319,   262,  2603,    13, 50256, 50256],\n",
            "        [50256,   464,  3797,  3332,   319,   262,  2603,  1107,  1327,    13]])\n"
          ]
        }
      ],
      "source": [
        "example_multi_text = [\"The cat sat on the mat.\", \"The cat sat on the mat really hard.\"]\n",
        "example_multi_text_tokens = model.to_tokens(example_multi_text)\n",
        "print(example_multi_text_tokens)"
      ]
    },
    {
      "cell_type": "markdown",
      "metadata": {
        "id": "2-0nFvnAOYk1"
      },
      "source": [
        "`model.to_single_token` is a convenience function that takes in a string corresponding to a *single* token and returns the corresponding integer. This is useful for eg looking up the logit corresponding to a single token.\n",
        "\n",
        "For example, let's input `The cat sat on the mat.` to GPT-2, and look at the log prob predicting that the next token is ` The`.\n",
        "\n",
        "<details><summary>Technical notes</summary>\n",
        "\n",
        "Note that if we input a string to the model, it's implicitly converted to a string with `to_tokens`.\n",
        "\n",
        "Note further that the log probs have shape `[batch, position, d_vocab]==[1, 8, 50257]`, with a vector of log probs predicting the next token for *every* token position. GPT-2 uses causal attention which means heads can only look backwards (equivalently, information can only move forwards in the model.), so the log probs at position k are only a function of the first k tokens, and it can't just cheat and look at the k+1 th token. This structure lets it generate text more efficiently, and lets it treat every *token* as a training example, rather than every *sequence*.\n",
        "</details>"
      ]
    },
    {
      "cell_type": "code",
      "execution_count": null,
      "metadata": {
        "id": "YjfyOxh5OYk1",
        "outputId": "0f9ffc65-e161-401f-9b10-c6d1e58aacf6"
      },
      "outputs": [
        {
          "name": "stdout",
          "output_type": "stream",
          "text": [
            "Probability tensor shape [batch, position, d_vocab] == torch.Size([1, 8, 50257])\n",
            "| The| probability: 11.98%\n"
          ]
        }
      ],
      "source": [
        "cat_text = \"The cat sat on the mat.\"\n",
        "cat_logits = model(cat_text)\n",
        "cat_probs = cat_logits.softmax(dim=-1)\n",
        "print(f\"Probability tensor shape [batch, position, d_vocab] == {cat_probs.shape}\")\n",
        "\n",
        "capital_the_token_index = model.to_single_token(\" The\")\n",
        "print(f\"| The| probability: {cat_probs[0, -1, capital_the_token_index].item():.2%}\")"
      ]
    },
    {
      "cell_type": "markdown",
      "metadata": {
        "id": "vZ9afrHjOYk1"
      },
      "source": [
        "`model.to_string` is the inverse of `to_tokens` and maps a tensor of integers to a string or list of strings. It also works on integers and lists of integers.\n",
        "\n",
        "For example, let's look up token 256 (due to technical details of tokenization, this will be the most common pair of ASCII characters!), and also verify that our tokens above map back to a string."
      ]
    },
    {
      "cell_type": "code",
      "execution_count": null,
      "metadata": {
        "id": "RR5x2qhuOYk1",
        "outputId": "d0d42d86-c48c-46e8-b687-32bb5971b107"
      },
      "outputs": [
        {
          "name": "stdout",
          "output_type": "stream",
          "text": [
            "Token 256 - the most common pair of ASCII characters: | t|\n",
            "De-Tokenizing the example tokens: <|endoftext|>The first thing you need to figure out is *how* things are tokenized. `model.to_str_tokens` splits a string into the tokens *as a list of substrings*, and so lets you explore what the text looks like. To demonstrate this, let's use it on this paragraph.\n"
          ]
        }
      ],
      "source": [
        "print(f\"Token 256 - the most common pair of ASCII characters: |{model.to_string(256)}|\")\n",
        "# Squeeze means to remove dimensions of length 1.\n",
        "# Here, that removes the dummy batch dimension so it's a rank 1 tensor and returns a string\n",
        "# Rank 2 tensors map to a list of strings\n",
        "print(f\"De-Tokenizing the example tokens: {model.to_string(example_text_tokens.squeeze())}\")"
      ]
    },
    {
      "cell_type": "markdown",
      "metadata": {
        "id": "P5nWHHk0OYk2"
      },
      "source": [
        "A related annoyance of tokenization is that it's hard to figure out how many tokens a string will break into. `model.get_token_position(single_token, tokens)` returns the position of `single_token` in `tokens`. `tokens` can be either a string or a tensor of tokens.\n",
        "\n",
        "Note that position is zero-indexed, it's two (ie third) because there's a beginning of sequence token automatically prepended (see the next section for details)"
      ]
    },
    {
      "cell_type": "code",
      "execution_count": null,
      "metadata": {
        "id": "eqCClIwgOYk2",
        "outputId": "3c986c8c-44ff-476f-9055-a5fba78e6851"
      },
      "outputs": [
        {
          "name": "stdout",
          "output_type": "stream",
          "text": [
            "With BOS: 2\n",
            "Without BOS: 1\n"
          ]
        }
      ],
      "source": [
        "print(\"With BOS:\", model.get_token_position(\" cat\", \"The cat sat on the mat\"))\n",
        "print(\"Without BOS:\", model.get_token_position(\" cat\", \"The cat sat on the mat\", prepend_bos=False))"
      ]
    },
    {
      "cell_type": "markdown",
      "metadata": {
        "id": "TqDRIHNsOYk2"
      },
      "source": [
        "If there are multiple copies of the token, we can set `mode=\"first\"` to find the first occurrence's position and `mode=\"last\"` to find the last"
      ]
    },
    {
      "cell_type": "code",
      "execution_count": null,
      "metadata": {
        "id": "FqL-tRycOYk2",
        "outputId": "d9f441b8-7125-4919-b62d-4dc780071101"
      },
      "outputs": [
        {
          "name": "stdout",
          "output_type": "stream",
          "text": [
            "First occurrence 2\n",
            "Final occurrence 13\n"
          ]
        }
      ],
      "source": [
        "print(\"First occurrence\", model.get_token_position(\n",
        "    \" cat\",\n",
        "    \"The cat sat on the mat. The mat sat on the cat.\",\n",
        "    mode=\"first\"))\n",
        "print(\"Final occurrence\", model.get_token_position(\n",
        "    \" cat\",\n",
        "    \"The cat sat on the mat. The mat sat on the cat.\",\n",
        "    mode=\"last\"))"
      ]
    },
    {
      "cell_type": "markdown",
      "metadata": {
        "id": "JPOwMmLiOYk2"
      },
      "source": [
        "In general, tokenization is a pain, and full of gotchas. I highly recommend just playing around with different inputs and their tokenization and getting a feel for it. As another \"fun\" example, let's look at the tokenization of arithmetic expressions - tokens do *not* contain consistent numbers of digits. (This makes it even more impressive that GPT-3 can do arithmetic!)"
      ]
    },
    {
      "cell_type": "code",
      "execution_count": null,
      "metadata": {
        "id": "KSeifLH5OYk2",
        "outputId": "f1d9863e-ed4c-49a8-c949-ae6e2dbfbb5f"
      },
      "outputs": [
        {
          "name": "stdout",
          "output_type": "stream",
          "text": [
            "['<|endoftext|>', '23', '42', '+', '2017', '=', '214', '45']\n",
            "['<|endoftext|>', '1000', '+', '1', '000000', '=', '9999', '99']\n"
          ]
        }
      ],
      "source": [
        "print(model.to_str_tokens(\"2342+2017=21445\"))\n",
        "print(model.to_str_tokens(\"1000+1000000=999999\"))"
      ]
    },
    {
      "cell_type": "markdown",
      "metadata": {
        "id": "fJpD3wUfOYk2"
      },
      "source": [
        "I also *highly* recommend investigating prompts with easy tokenization when starting out - ideally key words should form a single token, be in the same position in different prompts, have the same total length, etc. Eg study Indirect Object Identification with common English names like ` Tim` rather than ` Ne|el`. Transformers need to spend some parameters in early layers converting multi-token words to a single feature, and then de-converting this in the late layers, and unless this is what you're explicitly investigating, this will make the behaviour you're investigating be messier."
      ]
    },
    {
      "cell_type": "markdown",
      "metadata": {
        "id": "bcJklKABOYk2"
      },
      "source": [
        "### Gotcha: `prepend_bos`\n",
        "\n",
        "Key Takeaway: **If you get weird off-by-one errors, check whether there's an unexpected `prepend_bos`!**"
      ]
    },
    {
      "cell_type": "markdown",
      "metadata": {
        "id": "DhRfjtDSOYk2"
      },
      "source": [
        "A weirdness you may have noticed in the above is that `to_tokens` and `to_str_tokens` added a weird `<|endoftext|>` to the start of each prompt. TransformerLens does this by default, and it can easily trip up new users. Notably, **this includes `model.forward`** (which is what's implicitly used when you do eg `model(\"Hello World\")`). This is called a **Beginning of Sequence (BOS)** token, and it's a special token used to mark the beginning of the sequence. Confusingly, in GPT-2, the End of Sequence (EOS), Beginning of Sequence (BOS) and Padding (PAD) tokens are all the same, `<|endoftext|>` with index `50256`.\n",
        "\n",
        "**Gotcha:** You only want to prepend a BOS token at the *start* of a prompt. If you, eg, want to input a question followed by an answer, and want to tokenize these separately, you do *not* want to prepend_bos on the answer."
      ]
    },
    {
      "cell_type": "code",
      "execution_count": null,
      "metadata": {
        "id": "qDtAXGZkOYk3",
        "outputId": "f2ac2449-264c-481b-c215-0126ee8eda3b"
      },
      "outputs": [
        {
          "name": "stdout",
          "output_type": "stream",
          "text": [
            "Logits shape by default (with BOS) torch.Size([1, 3, 50257])\n",
            "Logits shape with BOS torch.Size([1, 3, 50257])\n",
            "Logits shape without BOS - only 2 positions! torch.Size([1, 2, 50257])\n"
          ]
        }
      ],
      "source": [
        "print(\"Logits shape by default (with BOS)\", model(\"Hello World\").shape)\n",
        "print(\"Logits shape with BOS\", model(\"Hello World\", prepend_bos=True).shape)\n",
        "print(\"Logits shape without BOS - only 2 positions!\", model(\"Hello World\", prepend_bos=False).shape)"
      ]
    },
    {
      "cell_type": "markdown",
      "metadata": {
        "id": "OPsyfZ9UOYk3"
      },
      "source": [
        "`prepend_bos` is a bit of a hack, and I've gone back and forth on what the correct default here is. The reason I do this is that transformers tend to treat the first token weirdly - this doesn't really matter in training (where all inputs are >1000 tokens), but this can be a big issue when investigating short prompts! The reason for this is that attention patterns are a probability distribution and so need to add up to one, so to simulate being \"off\" they normally look at the first token. Giving them a BOS token lets the heads rest by looking at that, preserving the information in the first \"real\" token.\n",
        "\n",
        "Further, *some* models are trained to need a BOS token (OPT and my interpretability-friendly models are, GPT-2 and GPT-Neo are not). But despite GPT-2 not being trained with this, empirically it seems to make interpretability easier.\n",
        "\n",
        "(However, if you want to change the default behaviour to *not* prepending a BOS token, pass `default_prepend_bos=False` when you instantiate the model, e.g., `model = HookedTransformer.from_pretrained('gpt2', default_prepend_bos=False)`.)\n",
        "\n",
        "For example, the model can get much worse at Indirect Object Identification without a BOS (and with a name as the first token):"
      ]
    },
    {
      "cell_type": "code",
      "execution_count": null,
      "metadata": {
        "id": "5zCi5EqeOYk3",
        "outputId": "351fae2e-d63c-4697-cf13-28dfd8350ab1"
      },
      "outputs": [
        {
          "name": "stdout",
          "output_type": "stream",
          "text": [
            "Logit difference with BOS: 6.754\n",
            "Logit difference without BOS: 2.782\n"
          ]
        }
      ],
      "source": [
        "ioi_logits_with_bos = model(\"Claire and Mary went to the shops, then Mary gave a bottle of milk to\", prepend_bos=True)\n",
        "mary_logit_with_bos = ioi_logits_with_bos[0, -1, model.to_single_token(\" Mary\")].item()\n",
        "claire_logit_with_bos = ioi_logits_with_bos[0, -1, model.to_single_token(\" Claire\")].item()\n",
        "print(f\"Logit difference with BOS: {(claire_logit_with_bos - mary_logit_with_bos):.3f}\")\n",
        "\n",
        "ioi_logits_without_bos = model(\"Claire and Mary went to the shops, then Mary gave a bottle of milk to\", prepend_bos=False)\n",
        "mary_logit_without_bos = ioi_logits_without_bos[0, -1, model.to_single_token(\" Mary\")].item()\n",
        "claire_logit_without_bos = ioi_logits_without_bos[0, -1, model.to_single_token(\" Claire\")].item()\n",
        "print(f\"Logit difference without BOS: {(claire_logit_without_bos - mary_logit_without_bos):.3f}\")"
      ]
    },
    {
      "cell_type": "markdown",
      "metadata": {
        "id": "ScEZtxwCOYk3"
      },
      "source": [
        "Though, note that this also illustrates another gotcha - when `Claire` is at the start of a sentence (no preceding space), it's actually *two* tokens, not one, which probably confuses the relevant circuit. (Note - in this test we put `prepend_bos=False`, because we want to analyse the tokenization of a specific string, not to give an input to the model!)"
      ]
    },
    {
      "cell_type": "code",
      "execution_count": null,
      "metadata": {
        "id": "phJx1xXhOYk3",
        "outputId": "a9d022f2-83ed-45ef-d969-0cddacae49f6"
      },
      "outputs": [
        {
          "name": "stdout",
          "output_type": "stream",
          "text": [
            "| Claire| -> [' Claire']\n",
            "|Claire| -> ['Cl', 'aire']\n"
          ]
        }
      ],
      "source": [
        "print(f\"| Claire| -> {model.to_str_tokens(' Claire', prepend_bos=False)}\")\n",
        "print(f\"|Claire| -> {model.to_str_tokens('Claire', prepend_bos=False)}\")"
      ]
    },
    {
      "cell_type": "markdown",
      "metadata": {
        "id": "AqvFbSzFOYk4"
      },
      "source": [
        "## Factored Matrix Class\n",
        "\n",
        "In transformer interpretability, we often need to analyse low rank factorized matrices - a matrix $M = AB$, where M is `[large, large]`, but A is `[large, small]` and B is `[small, large]`. This is a common structure in transformers, and the `FactoredMatrix` class is a convenient way to work with these. It implements efficient algorithms for various operations on these, such as computing the trace, eigenvalues, Frobenius norm, singular value decomposition, and products with other matrices. It can (approximately) act as a drop-in replacement for the original matrix, and supports leading batch dimensions to the factored matrix.\n",
        "\n",
        "<details><summary>Why are low-rank factorized matrices useful for transformer interpretability?</summary>\n",
        "\n",
        "As argued in [A Mathematical Framework](https://transformer-circuits.pub/2021/framework/index.html), an unexpected fact about transformer attention heads is that rather than being best understood as keys, queries and values (and the requisite weight matrices), they're actually best understood as two low rank factorized matrices.\n",
        "* **Where to move information from:** $W_QK = W_Q W_K^T$, used for determining the attention pattern - what source positions to move information from and what destination positions to move them to.\n",
        "    * Intuitively, residual stream -> query and residual stream -> key are linear maps, *and* `attention_score = query @ key.T` is a linear map, so the whole thing can be factored into one big bilinear form `residual @ W_QK @ residual.T`\n",
        "* **What information to move:** $W_OV = W_V W_O$, used to determine what information to copy from the source position to the destination position (weighted by the attention pattern weight from that destination to that source).\n",
        "    * Intuitively, the residual stream is a `[position, d_model]` tensor (ignoring batch). The attention pattern acts on the *position* dimension (where to move information from and to) and the value and output weights act on the *d_model* dimension - ie *what* information is contained at that source position. So we can factor it all into `attention_pattern @ residual @ W_V @ W_O`, and so only need to care about `W_OV = W_V @ W_O`\n",
        "* Note - the internal head dimension is smaller than the residual stream dimension, so the factorization is low rank. (here, `d_model=768` and `d_head=64`)\n",
        "</details>"
      ]
    },
    {
      "cell_type": "markdown",
      "metadata": {
        "id": "E_2LctChOYk5"
      },
      "source": [
        "### Basic Examples"
      ]
    },
    {
      "cell_type": "markdown",
      "metadata": {
        "id": "0eIUn-LgOYk5"
      },
      "source": [
        "We can use the basic class directly - let's make a factored matrix directly and look at the basic operations:"
      ]
    },
    {
      "cell_type": "code",
      "execution_count": null,
      "metadata": {
        "id": "kPLX-8TaOYk5",
        "outputId": "8f185653-db42-47c1-894d-54dbf6726993"
      },
      "outputs": [
        {
          "name": "stdout",
          "output_type": "stream",
          "text": [
            "Norms:\n",
            "tensor(9.9105)\n",
            "tensor(9.9105)\n",
            "Right dimension: 5, Left dimension: 5, Hidden dimension: 2\n"
          ]
        }
      ],
      "source": [
        "if IN_GITHUB:\n",
        "    torch.manual_seed(50)\n",
        "A = torch.randn(5, 2)\n",
        "B = torch.randn(2, 5)\n",
        "\n",
        "AB = A @ B\n",
        "AB_factor = FactoredMatrix(A, B)\n",
        "print(\"Norms:\")\n",
        "print(AB.norm())\n",
        "print(AB_factor.norm())\n",
        "\n",
        "print(f\"Right dimension: {AB_factor.rdim}, Left dimension: {AB_factor.ldim}, Hidden dimension: {AB_factor.mdim}\")"
      ]
    },
    {
      "cell_type": "markdown",
      "metadata": {
        "id": "BOqb2LL_OYk6"
      },
      "source": [
        "We can also look at the eigenvalues and singular values of the matrix. Note that, because the matrix is rank 2 but 5 by 5, the final 3 eigenvalues and singular values are zero - the factored class omits the zeros."
      ]
    },
    {
      "cell_type": "code",
      "execution_count": null,
      "metadata": {
        "id": "o1KiGZVEOYk6",
        "outputId": "82c5aab9-f25d-43d6-e070-408db752699e"
      },
      "outputs": [
        {
          "name": "stdout",
          "output_type": "stream",
          "text": [
            "Eigenvalues:\n",
            "tensor([-6.2877e+00+0.j,  1.9337e-07+0.j,  2.3121e+00+0.j, -5.9987e-07+0.j,\n",
            "        -1.1409e-07+0.j])\n",
            "tensor([-6.2877+0.j,  2.3121+0.j])\n",
            "\n",
            "Singular Values:\n",
            "tensor([8.3126e+00, 5.3963e+00, 1.4519e-07, 7.4293e-08, 2.1726e-09])\n",
            "tensor([8.3126, 5.3963])\n"
          ]
        }
      ],
      "source": [
        "# NBVAL_IGNORE_OUTPUT\n",
        "print(\"Eigenvalues:\")\n",
        "print(torch.linalg.eig(AB).eigenvalues)\n",
        "print(AB_factor.eigenvalues)\n",
        "print()\n",
        "print(\"Singular Values:\")\n",
        "print(torch.linalg.svd(AB).S)\n",
        "print(AB_factor.S)"
      ]
    },
    {
      "cell_type": "markdown",
      "metadata": {
        "id": "e_KRwROsOYk6"
      },
      "source": [
        "We can multiply with other matrices - it automatically chooses the smallest possible dimension to factor along (here it's 2, rather than 5)"
      ]
    },
    {
      "cell_type": "code",
      "execution_count": null,
      "metadata": {
        "id": "IC9Pk9Z4OYk6",
        "outputId": "23dce889-7e89-43e1-bc02-af04ad10aaef"
      },
      "outputs": [
        {
          "name": "stdout",
          "output_type": "stream",
          "text": [
            "Unfactored: torch.Size([5, 300]) tensor(160.0830)\n",
            "Factored: torch.Size([5, 300]) tensor(160.0830)\n",
            "Right dimension: 300, Left dimension: 5, Hidden dimension: 2\n"
          ]
        }
      ],
      "source": [
        "if IN_GITHUB:\n",
        "    torch.manual_seed(50)\n",
        "\n",
        "C = torch.randn(5, 300)\n",
        "\n",
        "ABC = AB @ C\n",
        "ABC_factor = AB_factor @ C\n",
        "print(\"Unfactored:\", ABC.shape, ABC.norm().round(decimals=3))\n",
        "print(\"Factored:\", ABC_factor.shape, ABC_factor.norm().round(decimals=3))\n",
        "print(f\"Right dimension: {ABC_factor.rdim}, Left dimension: {ABC_factor.ldim}, Hidden dimension: {ABC_factor.mdim}\")"
      ]
    },
    {
      "cell_type": "markdown",
      "metadata": {
        "id": "-f11HLPMOYk6"
      },
      "source": [
        "If we want to collapse this back to an unfactored matrix, we can use the AB property to get the product:"
      ]
    },
    {
      "cell_type": "code",
      "execution_count": null,
      "metadata": {
        "id": "iHnrcaGKOYk6",
        "outputId": "1f528cb9-bcba-458c-d52a-9555a1305a8f"
      },
      "outputs": [
        {
          "name": "stdout",
          "output_type": "stream",
          "text": [
            "tensor(True)\n"
          ]
        }
      ],
      "source": [
        "AB_unfactored = AB_factor.AB\n",
        "print(torch.isclose(AB_unfactored, AB).all())"
      ]
    },
    {
      "cell_type": "markdown",
      "metadata": {
        "id": "rjbzTQzyOYk7"
      },
      "source": [
        "### Medium Example: Eigenvalue Copying Scores\n",
        "\n",
        "(This is a more involved example of how to use the factored matrix class, skip it if you aren't following)\n",
        "\n",
        "For a more involved example, let's look at the eigenvalue copying score from [A Mathematical Framework](https://transformer-circuits.pub/2021/framework/index.html) of the OV circuit for various heads. The OV Circuit for a head (the factorised matrix $W_OV = W_V W_O$) is a linear map that determines what information is moved from the source position to the destination position. Because this is low rank, it can be thought of as *reading in* some low rank subspace of the source residual stream and *writing to* some low rank subspace of the destination residual stream (with maybe some processing happening in the middle).\n",
        "\n",
        "A common operation for this will just be to *copy*, ie to have the same reading and writing subspace, and to do minimal processing in the middle. Empirically, this tends to coincide with the OV Circuit having (approximately) positive real eigenvalues. I mostly assert this as an empirical fact, but intuitively, operations that involve mapping eigenvectors to different directions (eg rotations) tend to have complex eigenvalues. And operations that preserve eigenvector direction but negate it tend to have negative real eigenvalues. And \"what happens to the eigenvectors\" is a decent proxy for what happens to an arbitrary vector.\n",
        "\n",
        "We can get a score for \"how positive real the OV circuit eigenvalues are\" with $\\frac{\\sum \\lambda_i}{\\sum |\\lambda_i|}$, where $\\lambda_i$ are the eigenvalues of the OV circuit. This is a bit of a hack, but it seems to work well in practice."
      ]
    },
    {
      "cell_type": "markdown",
      "metadata": {
        "id": "JCKLaJn_OYk7"
      },
      "source": [
        "Let's use FactoredMatrix to compute this for every head in the model! We use the helper `model.OV` to get the concatenated OV circuits for all heads across all layers in the model. This has the shape `[n_layers, n_heads, d_model, d_model]`, where `n_layers` and `n_heads` are batch dimensions and the final two dimensions are factorised as `[n_layers, n_heads, d_model, d_head]` and `[n_layers, n_heads, d_head, d_model]` matrices.\n",
        "\n",
        "We can then get the eigenvalues for this, where there are separate eigenvalues for each element of the batch (a `[n_layers, n_heads, d_head]` tensor of complex numbers), and calculate the copying score."
      ]
    },
    {
      "cell_type": "code",
      "execution_count": null,
      "metadata": {
        "id": "zSnK0d2gOYk7",
        "outputId": "daca11a4-50f4-4ed9-f50b-d33dda66aa6a"
      },
      "outputs": [
        {
          "name": "stdout",
          "output_type": "stream",
          "text": [
            "FactoredMatrix: Shape(torch.Size([12, 12, 768, 768])), Hidden Dim(64)\n"
          ]
        }
      ],
      "source": [
        "OV_circuit_all_heads = model.OV\n",
        "print(OV_circuit_all_heads)"
      ]
    },
    {
      "cell_type": "code",
      "execution_count": null,
      "metadata": {
        "id": "DQTGK0P7OYk7",
        "outputId": "1c105e81-04c2-4615-b407-1f616adc252b"
      },
      "outputs": [
        {
          "name": "stdout",
          "output_type": "stream",
          "text": [
            "torch.Size([12, 12, 64])\n",
            "torch.complex64\n"
          ]
        }
      ],
      "source": [
        "OV_circuit_all_heads_eigenvalues = OV_circuit_all_heads.eigenvalues\n",
        "print(OV_circuit_all_heads_eigenvalues.shape)\n",
        "print(OV_circuit_all_heads_eigenvalues.dtype)"
      ]
    },
    {
      "cell_type": "code",
      "execution_count": null,
      "metadata": {
        "id": "KaQJLL_AOYk7",
        "outputId": "c591dbd0-5f6a-4ee0-efad-fb947684ef78"
      },
      "outputs": [
        {
          "data": {
            "text/html": [
              "<html>\n",
              "<head><meta charset=\"utf-8\" /></head>\n",
              "<body>\n",
              "    <div>            <script src=\"https://cdnjs.cloudflare.com/ajax/libs/mathjax/2.7.5/MathJax.js?config=TeX-AMS-MML_SVG\"></script><script type=\"text/javascript\">if (window.MathJax && window.MathJax.Hub && window.MathJax.Hub.Config) {window.MathJax.Hub.Config({SVG: {font: \"STIX-Web\"}});}</script>                <script type=\"text/javascript\">window.PlotlyConfig = {MathJaxConfig: 'local'};</script>\n",
              "        <script charset=\"utf-8\" src=\"https://cdn.plot.ly/plotly-2.26.0.min.js\"></script>                <div id=\"a09834af-1357-479f-b958-ca36d205cbf8\" class=\"plotly-graph-div\" style=\"height:525px; width:100%;\"></div>            <script type=\"text/javascript\">                                    window.PLOTLYENV=window.PLOTLYENV || {};                                    if (document.getElementById(\"a09834af-1357-479f-b958-ca36d205cbf8\")) {                    Plotly.newPlot(                        \"a09834af-1357-479f-b958-ca36d205cbf8\",                        [{\"coloraxis\":\"coloraxis\",\"name\":\"0\",\"z\":[[0.7775010466575623,0.3527269959449768,0.25961846113204956,0.6670257449150085,0.8384260535240173,0.5584430694580078,0.8444744944572449,0.4137910008430481,0.24488940834999084,0.028157662600278854,0.3584098219871521,0.16288265585899353],[-0.45419126749038696,-0.6529328227043152,-0.5484569072723389,-0.7990369200706482,-0.7736425995826721,-0.8522581458091736,0.9774324893951416,0.6626249551773071,-0.7303224205970764,-0.7007019519805908,-0.6946625709533691,-0.9996722340583801],[-0.7837163805961609,0.8967759013175964,0.4750954806804657,-0.667197585105896,0.7881461977958679,-0.8547751307487488,-0.9054184556007385,-0.5749384760856628,-0.32175111770629883,-0.028594352304935455,-0.9247617721557617,-0.9699268341064453],[0.5864037275314331,-0.7614347338676453,0.5971695780754089,0.7854393720626831,-0.8788883686065674,0.3908745050430298,0.044738516211509705,0.11028008162975311,-0.8169988989830017,0.22129566967487335,-0.9939578771591187,0.5774399042129517],[0.525479257106781,0.3049013912677765,-0.10729152709245682,0.9433151483535767,-0.9314428567886353,0.5273632407188416,-0.4264712631702423,-0.9984429478645325,0.5296756029129028,0.8604294061660767,-0.8895052075386047,0.9556970596313477],[0.6629186868667603,0.42956963181495667,0.9736858010292053,0.6555483937263489,0.12201889604330063,0.7442770004272461,0.5037952661514282,0.9525359272956848,-0.6507164239883423,-0.9316279292106628,0.9791510105133057,-0.9972584843635559],[0.9613031148910522,0.7501779794692993,-0.3806658685207367,0.6429786682128906,0.9557769298553467,-0.9428839683532715,-0.9948079586029053,0.785298764705658,0.9657301306724548,0.707301676273346,0.3687230050563812,0.8128011226654053],[0.9659481644630432,0.9730121493339539,0.31900617480278015,-0.30290520191192627,0.9790953397750854,0.9357923269271851,-0.5550313591957092,-0.005466493312269449,0.9867776036262512,0.8249565958976746,0.566429615020752,0.1000526174902916],[-0.9464486837387085,-0.25471997261047363,0.6522327661514282,0.1415255218744278,0.9884140491485596,0.9860583543777466,0.6949270367622375,0.9901810884475708,0.9791202545166016,-0.2359553426504135,-0.9820711612701416,0.6506689190864563],[0.9895943999290466,-0.29178157448768616,0.9714024662971497,0.9951602220535278,0.18783769011497498,-0.9460937976837158,0.47801902890205383,-0.2489192932844162,0.9437097907066345,0.11866245418787003,0.9941242933273315,-0.38088178634643555],[0.9564487934112549,0.5542725920677185,0.42118048667907715,0.6628789901733398,0.8659590482711792,0.9937117695808411,0.9069075584411621,0.39811065793037415,-0.4134220480918884,0.9971913695335388,0.34596705436706543,0.9938657283782959],[0.5891268849372864,0.9313740134239197,0.9268401861190796,0.9993564486503601,0.6227539777755737,0.8463947772979736,0.6584346294403076,0.8423126339912415,0.2978496253490448,0.8728679418563843,0.9963144659996033,0.986752450466156]],\"type\":\"heatmap\",\"xaxis\":\"x\",\"yaxis\":\"y\",\"hovertemplate\":\"Head: %{x}\\u003cbr\\u003eLayer: %{y}\\u003cbr\\u003ecolor: %{z}\\u003cextra\\u003e\\u003c\\u002fextra\\u003e\"}],                        {\"template\":{\"data\":{\"histogram2dcontour\":[{\"type\":\"histogram2dcontour\",\"colorbar\":{\"outlinewidth\":0,\"ticks\":\"\"},\"colorscale\":[[0.0,\"#0d0887\"],[0.1111111111111111,\"#46039f\"],[0.2222222222222222,\"#7201a8\"],[0.3333333333333333,\"#9c179e\"],[0.4444444444444444,\"#bd3786\"],[0.5555555555555556,\"#d8576b\"],[0.6666666666666666,\"#ed7953\"],[0.7777777777777778,\"#fb9f3a\"],[0.8888888888888888,\"#fdca26\"],[1.0,\"#f0f921\"]]}],\"choropleth\":[{\"type\":\"choropleth\",\"colorbar\":{\"outlinewidth\":0,\"ticks\":\"\"}}],\"histogram2d\":[{\"type\":\"histogram2d\",\"colorbar\":{\"outlinewidth\":0,\"ticks\":\"\"},\"colorscale\":[[0.0,\"#0d0887\"],[0.1111111111111111,\"#46039f\"],[0.2222222222222222,\"#7201a8\"],[0.3333333333333333,\"#9c179e\"],[0.4444444444444444,\"#bd3786\"],[0.5555555555555556,\"#d8576b\"],[0.6666666666666666,\"#ed7953\"],[0.7777777777777778,\"#fb9f3a\"],[0.8888888888888888,\"#fdca26\"],[1.0,\"#f0f921\"]]}],\"heatmap\":[{\"type\":\"heatmap\",\"colorbar\":{\"outlinewidth\":0,\"ticks\":\"\"},\"colorscale\":[[0.0,\"#0d0887\"],[0.1111111111111111,\"#46039f\"],[0.2222222222222222,\"#7201a8\"],[0.3333333333333333,\"#9c179e\"],[0.4444444444444444,\"#bd3786\"],[0.5555555555555556,\"#d8576b\"],[0.6666666666666666,\"#ed7953\"],[0.7777777777777778,\"#fb9f3a\"],[0.8888888888888888,\"#fdca26\"],[1.0,\"#f0f921\"]]}],\"heatmapgl\":[{\"type\":\"heatmapgl\",\"colorbar\":{\"outlinewidth\":0,\"ticks\":\"\"},\"colorscale\":[[0.0,\"#0d0887\"],[0.1111111111111111,\"#46039f\"],[0.2222222222222222,\"#7201a8\"],[0.3333333333333333,\"#9c179e\"],[0.4444444444444444,\"#bd3786\"],[0.5555555555555556,\"#d8576b\"],[0.6666666666666666,\"#ed7953\"],[0.7777777777777778,\"#fb9f3a\"],[0.8888888888888888,\"#fdca26\"],[1.0,\"#f0f921\"]]}],\"contourcarpet\":[{\"type\":\"contourcarpet\",\"colorbar\":{\"outlinewidth\":0,\"ticks\":\"\"}}],\"contour\":[{\"type\":\"contour\",\"colorbar\":{\"outlinewidth\":0,\"ticks\":\"\"},\"colorscale\":[[0.0,\"#0d0887\"],[0.1111111111111111,\"#46039f\"],[0.2222222222222222,\"#7201a8\"],[0.3333333333333333,\"#9c179e\"],[0.4444444444444444,\"#bd3786\"],[0.5555555555555556,\"#d8576b\"],[0.6666666666666666,\"#ed7953\"],[0.7777777777777778,\"#fb9f3a\"],[0.8888888888888888,\"#fdca26\"],[1.0,\"#f0f921\"]]}],\"surface\":[{\"type\":\"surface\",\"colorbar\":{\"outlinewidth\":0,\"ticks\":\"\"},\"colorscale\":[[0.0,\"#0d0887\"],[0.1111111111111111,\"#46039f\"],[0.2222222222222222,\"#7201a8\"],[0.3333333333333333,\"#9c179e\"],[0.4444444444444444,\"#bd3786\"],[0.5555555555555556,\"#d8576b\"],[0.6666666666666666,\"#ed7953\"],[0.7777777777777778,\"#fb9f3a\"],[0.8888888888888888,\"#fdca26\"],[1.0,\"#f0f921\"]]}],\"mesh3d\":[{\"type\":\"mesh3d\",\"colorbar\":{\"outlinewidth\":0,\"ticks\":\"\"}}],\"scatter\":[{\"fillpattern\":{\"fillmode\":\"overlay\",\"size\":10,\"solidity\":0.2},\"type\":\"scatter\"}],\"parcoords\":[{\"type\":\"parcoords\",\"line\":{\"colorbar\":{\"outlinewidth\":0,\"ticks\":\"\"}}}],\"scatterpolargl\":[{\"type\":\"scatterpolargl\",\"marker\":{\"colorbar\":{\"outlinewidth\":0,\"ticks\":\"\"}}}],\"bar\":[{\"error_x\":{\"color\":\"#2a3f5f\"},\"error_y\":{\"color\":\"#2a3f5f\"},\"marker\":{\"line\":{\"color\":\"#E5ECF6\",\"width\":0.5},\"pattern\":{\"fillmode\":\"overlay\",\"size\":10,\"solidity\":0.2}},\"type\":\"bar\"}],\"scattergeo\":[{\"type\":\"scattergeo\",\"marker\":{\"colorbar\":{\"outlinewidth\":0,\"ticks\":\"\"}}}],\"scatterpolar\":[{\"type\":\"scatterpolar\",\"marker\":{\"colorbar\":{\"outlinewidth\":0,\"ticks\":\"\"}}}],\"histogram\":[{\"marker\":{\"pattern\":{\"fillmode\":\"overlay\",\"size\":10,\"solidity\":0.2}},\"type\":\"histogram\"}],\"scattergl\":[{\"type\":\"scattergl\",\"marker\":{\"colorbar\":{\"outlinewidth\":0,\"ticks\":\"\"}}}],\"scatter3d\":[{\"type\":\"scatter3d\",\"line\":{\"colorbar\":{\"outlinewidth\":0,\"ticks\":\"\"}},\"marker\":{\"colorbar\":{\"outlinewidth\":0,\"ticks\":\"\"}}}],\"scattermapbox\":[{\"type\":\"scattermapbox\",\"marker\":{\"colorbar\":{\"outlinewidth\":0,\"ticks\":\"\"}}}],\"scatterternary\":[{\"type\":\"scatterternary\",\"marker\":{\"colorbar\":{\"outlinewidth\":0,\"ticks\":\"\"}}}],\"scattercarpet\":[{\"type\":\"scattercarpet\",\"marker\":{\"colorbar\":{\"outlinewidth\":0,\"ticks\":\"\"}}}],\"carpet\":[{\"aaxis\":{\"endlinecolor\":\"#2a3f5f\",\"gridcolor\":\"white\",\"linecolor\":\"white\",\"minorgridcolor\":\"white\",\"startlinecolor\":\"#2a3f5f\"},\"baxis\":{\"endlinecolor\":\"#2a3f5f\",\"gridcolor\":\"white\",\"linecolor\":\"white\",\"minorgridcolor\":\"white\",\"startlinecolor\":\"#2a3f5f\"},\"type\":\"carpet\"}],\"table\":[{\"cells\":{\"fill\":{\"color\":\"#EBF0F8\"},\"line\":{\"color\":\"white\"}},\"header\":{\"fill\":{\"color\":\"#C8D4E3\"},\"line\":{\"color\":\"white\"}},\"type\":\"table\"}],\"barpolar\":[{\"marker\":{\"line\":{\"color\":\"#E5ECF6\",\"width\":0.5},\"pattern\":{\"fillmode\":\"overlay\",\"size\":10,\"solidity\":0.2}},\"type\":\"barpolar\"}],\"pie\":[{\"automargin\":true,\"type\":\"pie\"}]},\"layout\":{\"autotypenumbers\":\"strict\",\"colorway\":[\"#636efa\",\"#EF553B\",\"#00cc96\",\"#ab63fa\",\"#FFA15A\",\"#19d3f3\",\"#FF6692\",\"#B6E880\",\"#FF97FF\",\"#FECB52\"],\"font\":{\"color\":\"#2a3f5f\"},\"hovermode\":\"closest\",\"hoverlabel\":{\"align\":\"left\"},\"paper_bgcolor\":\"white\",\"plot_bgcolor\":\"#E5ECF6\",\"polar\":{\"bgcolor\":\"#E5ECF6\",\"angularaxis\":{\"gridcolor\":\"white\",\"linecolor\":\"white\",\"ticks\":\"\"},\"radialaxis\":{\"gridcolor\":\"white\",\"linecolor\":\"white\",\"ticks\":\"\"}},\"ternary\":{\"bgcolor\":\"#E5ECF6\",\"aaxis\":{\"gridcolor\":\"white\",\"linecolor\":\"white\",\"ticks\":\"\"},\"baxis\":{\"gridcolor\":\"white\",\"linecolor\":\"white\",\"ticks\":\"\"},\"caxis\":{\"gridcolor\":\"white\",\"linecolor\":\"white\",\"ticks\":\"\"}},\"coloraxis\":{\"colorbar\":{\"outlinewidth\":0,\"ticks\":\"\"}},\"colorscale\":{\"sequential\":[[0.0,\"#0d0887\"],[0.1111111111111111,\"#46039f\"],[0.2222222222222222,\"#7201a8\"],[0.3333333333333333,\"#9c179e\"],[0.4444444444444444,\"#bd3786\"],[0.5555555555555556,\"#d8576b\"],[0.6666666666666666,\"#ed7953\"],[0.7777777777777778,\"#fb9f3a\"],[0.8888888888888888,\"#fdca26\"],[1.0,\"#f0f921\"]],\"sequentialminus\":[[0.0,\"#0d0887\"],[0.1111111111111111,\"#46039f\"],[0.2222222222222222,\"#7201a8\"],[0.3333333333333333,\"#9c179e\"],[0.4444444444444444,\"#bd3786\"],[0.5555555555555556,\"#d8576b\"],[0.6666666666666666,\"#ed7953\"],[0.7777777777777778,\"#fb9f3a\"],[0.8888888888888888,\"#fdca26\"],[1.0,\"#f0f921\"]],\"diverging\":[[0,\"#8e0152\"],[0.1,\"#c51b7d\"],[0.2,\"#de77ae\"],[0.3,\"#f1b6da\"],[0.4,\"#fde0ef\"],[0.5,\"#f7f7f7\"],[0.6,\"#e6f5d0\"],[0.7,\"#b8e186\"],[0.8,\"#7fbc41\"],[0.9,\"#4d9221\"],[1,\"#276419\"]]},\"xaxis\":{\"gridcolor\":\"white\",\"linecolor\":\"white\",\"ticks\":\"\",\"title\":{\"standoff\":15},\"zerolinecolor\":\"white\",\"automargin\":true,\"zerolinewidth\":2},\"yaxis\":{\"gridcolor\":\"white\",\"linecolor\":\"white\",\"ticks\":\"\",\"title\":{\"standoff\":15},\"zerolinecolor\":\"white\",\"automargin\":true,\"zerolinewidth\":2},\"scene\":{\"xaxis\":{\"backgroundcolor\":\"#E5ECF6\",\"gridcolor\":\"white\",\"linecolor\":\"white\",\"showbackground\":true,\"ticks\":\"\",\"zerolinecolor\":\"white\",\"gridwidth\":2},\"yaxis\":{\"backgroundcolor\":\"#E5ECF6\",\"gridcolor\":\"white\",\"linecolor\":\"white\",\"showbackground\":true,\"ticks\":\"\",\"zerolinecolor\":\"white\",\"gridwidth\":2},\"zaxis\":{\"backgroundcolor\":\"#E5ECF6\",\"gridcolor\":\"white\",\"linecolor\":\"white\",\"showbackground\":true,\"ticks\":\"\",\"zerolinecolor\":\"white\",\"gridwidth\":2}},\"shapedefaults\":{\"line\":{\"color\":\"#2a3f5f\"}},\"annotationdefaults\":{\"arrowcolor\":\"#2a3f5f\",\"arrowhead\":0,\"arrowwidth\":1},\"geo\":{\"bgcolor\":\"white\",\"landcolor\":\"#E5ECF6\",\"subunitcolor\":\"white\",\"showland\":true,\"showlakes\":true,\"lakecolor\":\"white\"},\"title\":{\"x\":0.05},\"mapbox\":{\"style\":\"light\"}}},\"xaxis\":{\"anchor\":\"y\",\"domain\":[0.0,1.0],\"scaleanchor\":\"y\",\"constrain\":\"domain\",\"title\":{\"text\":\"Head\"}},\"yaxis\":{\"anchor\":\"x\",\"domain\":[0.0,1.0],\"autorange\":\"reversed\",\"constrain\":\"domain\",\"title\":{\"text\":\"Layer\"}},\"coloraxis\":{\"colorscale\":[[0.0,\"rgb(103,0,31)\"],[0.1,\"rgb(178,24,43)\"],[0.2,\"rgb(214,96,77)\"],[0.3,\"rgb(244,165,130)\"],[0.4,\"rgb(253,219,199)\"],[0.5,\"rgb(247,247,247)\"],[0.6,\"rgb(209,229,240)\"],[0.7,\"rgb(146,197,222)\"],[0.8,\"rgb(67,147,195)\"],[0.9,\"rgb(33,102,172)\"],[1.0,\"rgb(5,48,97)\"]],\"cmid\":0.0,\"cmin\":-1.0,\"cmax\":1.0},\"title\":{\"text\":\"OV Copying Score for each head in GPT-2 Small\"}},                        {\"responsive\": true}                    ).then(function(){\n",
              "                            \n",
              "var gd = document.getElementById('a09834af-1357-479f-b958-ca36d205cbf8');\n",
              "var x = new MutationObserver(function (mutations, observer) {{\n",
              "        var display = window.getComputedStyle(gd).display;\n",
              "        if (!display || display === 'none') {{\n",
              "            console.log([gd, 'removed!']);\n",
              "            Plotly.purge(gd);\n",
              "            observer.disconnect();\n",
              "        }}\n",
              "}});\n",
              "\n",
              "// Listen for the removal of the full notebook cells\n",
              "var notebookContainer = gd.closest('#notebook-container');\n",
              "if (notebookContainer) {{\n",
              "    x.observe(notebookContainer, {childList: true});\n",
              "}}\n",
              "\n",
              "// Listen for the clearing of the current output cell\n",
              "var outputEl = gd.closest('.output');\n",
              "if (outputEl) {{\n",
              "    x.observe(outputEl, {childList: true});\n",
              "}}\n",
              "\n",
              "                        })                };                            </script>        </div>\n",
              "</body>\n",
              "</html>"
            ]
          },
          "metadata": {},
          "output_type": "display_data"
        }
      ],
      "source": [
        "OV_copying_score = OV_circuit_all_heads_eigenvalues.sum(dim=-1).real / OV_circuit_all_heads_eigenvalues.abs().sum(dim=-1)\n",
        "imshow(utils.to_numpy(OV_copying_score), xaxis=\"Head\", yaxis=\"Layer\", title=\"OV Copying Score for each head in GPT-2 Small\", zmax=1.0, zmin=-1.0)"
      ]
    },
    {
      "cell_type": "markdown",
      "metadata": {
        "id": "DKRyPRg7OYk8"
      },
      "source": [
        "Head 11 in Layer 11 (L11H11) has a high copying score, and if we plot the eigenvalues they look approximately as expected."
      ]
    },
    {
      "cell_type": "code",
      "execution_count": null,
      "metadata": {
        "id": "ZQOxk-VdOYk8",
        "outputId": "da13f281-e177-44c2-8cb9-0b892b4fc956"
      },
      "outputs": [
        {
          "data": {
            "text/html": [
              "<html>\n",
              "<head><meta charset=\"utf-8\" /></head>\n",
              "<body>\n",
              "    <div>            <script src=\"https://cdnjs.cloudflare.com/ajax/libs/mathjax/2.7.5/MathJax.js?config=TeX-AMS-MML_SVG\"></script><script type=\"text/javascript\">if (window.MathJax && window.MathJax.Hub && window.MathJax.Hub.Config) {window.MathJax.Hub.Config({SVG: {font: \"STIX-Web\"}});}</script>                <script type=\"text/javascript\">window.PlotlyConfig = {MathJaxConfig: 'local'};</script>\n",
              "        <script charset=\"utf-8\" src=\"https://cdn.plot.ly/plotly-2.26.0.min.js\"></script>                <div id=\"1e3711f8-c7bc-42a1-aea4-6c909a93f24e\" class=\"plotly-graph-div\" style=\"height:525px; width:100%;\"></div>            <script type=\"text/javascript\">                                    window.PLOTLYENV=window.PLOTLYENV || {};                                    if (document.getElementById(\"1e3711f8-c7bc-42a1-aea4-6c909a93f24e\")) {                    Plotly.newPlot(                        \"1e3711f8-c7bc-42a1-aea4-6c909a93f24e\",                        [{\"hovertemplate\":\"Real=%{x}\\u003cbr\\u003eImaginary=%{y}\\u003cextra\\u003e\\u003c\\u002fextra\\u003e\",\"legendgroup\":\"\",\"marker\":{\"color\":\"#636efa\",\"symbol\":\"circle\"},\"mode\":\"markers\",\"name\":\"\",\"orientation\":\"v\",\"showlegend\":false,\"x\":[-2.1397297382354736,1.4152636528015137,3.444455146789551,4.027669906616211,8.882655143737793,4.866769790649414,4.866769790649414,4.843714714050293,4.843714714050293,8.477535247802734,8.216809272766113,8.216809272766113,5.07860803604126,7.855461120605469,7.855461120605469,5.365756034851074,5.365756034851074,5.563426971435547,5.563426971435547,5.4217329025268555,7.769133567810059,7.769133567810059,7.0422773361206055,7.0422773361206055,5.675145626068115,5.675145626068115,7.678577423095703,7.678577423095703,6.573329925537109,6.573329925537109,7.67294979095459,7.17219877243042,7.17219877243042,7.423620223999023,7.423620223999023,7.470810413360596,6.089095115661621,6.089095115661621,6.306834697723389,6.306834697723389,6.511750221252441,6.511750221252441,5.955246448516846,5.955246448516846,5.858811378479004,5.858811378479004,7.147887229919434,7.147887229919434,7.185712814331055,7.185712814331055,6.670608043670654,6.670608043670654,6.735983848571777,6.735983848571777,6.149757385253906,6.149757385253906,6.288776874542236,6.288776874542236,6.344796657562256,6.625571250915527,6.625571250915527,6.8991899490356445,6.8991899490356445,6.85640811920166],\"xaxis\":\"x\",\"y\":[0.0,0.0,0.0,0.0,0.0,0.4185231328010559,-0.4185231328010559,0.09079001098871231,-0.09079001098871231,0.0,0.40868881344795227,-0.40868881344795227,0.0,0.7007214426994324,-0.7007214426994324,0.46421411633491516,-0.46421411633491516,0.5558239817619324,-0.5558239817619324,0.0,0.4705662131309509,-0.4705662131309509,1.0298681259155273,-1.0298681259155273,0.48253530263900757,-0.48253530263900757,0.3356489837169647,-0.3356489837169647,0.9988697171211243,-0.9988697171211243,0.0,0.7531778812408447,-0.7531778812408447,0.4257569909095764,-0.4257569909095764,0.0,0.643626868724823,-0.643626868724823,0.7701709270477295,-0.7701709270477295,0.7558017373085022,-0.7558017373085022,0.25911131501197815,-0.25911131501197815,0.013043955899775028,-0.013043955899775028,0.40166252851486206,-0.40166252851486206,0.28192126750946045,-0.28192126750946045,0.6146255135536194,-0.6146255135536194,0.5391282439231873,-0.5391282439231873,0.28234055638313293,-0.28234055638313293,0.3528330624103546,-0.3528330624103546,0.0,0.24867765605449677,-0.24867765605449677,0.15545639395713806,-0.15545639395713806,0.0],\"yaxis\":\"y\",\"type\":\"scatter\"}],                        {\"template\":{\"data\":{\"histogram2dcontour\":[{\"type\":\"histogram2dcontour\",\"colorbar\":{\"outlinewidth\":0,\"ticks\":\"\"},\"colorscale\":[[0.0,\"#0d0887\"],[0.1111111111111111,\"#46039f\"],[0.2222222222222222,\"#7201a8\"],[0.3333333333333333,\"#9c179e\"],[0.4444444444444444,\"#bd3786\"],[0.5555555555555556,\"#d8576b\"],[0.6666666666666666,\"#ed7953\"],[0.7777777777777778,\"#fb9f3a\"],[0.8888888888888888,\"#fdca26\"],[1.0,\"#f0f921\"]]}],\"choropleth\":[{\"type\":\"choropleth\",\"colorbar\":{\"outlinewidth\":0,\"ticks\":\"\"}}],\"histogram2d\":[{\"type\":\"histogram2d\",\"colorbar\":{\"outlinewidth\":0,\"ticks\":\"\"},\"colorscale\":[[0.0,\"#0d0887\"],[0.1111111111111111,\"#46039f\"],[0.2222222222222222,\"#7201a8\"],[0.3333333333333333,\"#9c179e\"],[0.4444444444444444,\"#bd3786\"],[0.5555555555555556,\"#d8576b\"],[0.6666666666666666,\"#ed7953\"],[0.7777777777777778,\"#fb9f3a\"],[0.8888888888888888,\"#fdca26\"],[1.0,\"#f0f921\"]]}],\"heatmap\":[{\"type\":\"heatmap\",\"colorbar\":{\"outlinewidth\":0,\"ticks\":\"\"},\"colorscale\":[[0.0,\"#0d0887\"],[0.1111111111111111,\"#46039f\"],[0.2222222222222222,\"#7201a8\"],[0.3333333333333333,\"#9c179e\"],[0.4444444444444444,\"#bd3786\"],[0.5555555555555556,\"#d8576b\"],[0.6666666666666666,\"#ed7953\"],[0.7777777777777778,\"#fb9f3a\"],[0.8888888888888888,\"#fdca26\"],[1.0,\"#f0f921\"]]}],\"heatmapgl\":[{\"type\":\"heatmapgl\",\"colorbar\":{\"outlinewidth\":0,\"ticks\":\"\"},\"colorscale\":[[0.0,\"#0d0887\"],[0.1111111111111111,\"#46039f\"],[0.2222222222222222,\"#7201a8\"],[0.3333333333333333,\"#9c179e\"],[0.4444444444444444,\"#bd3786\"],[0.5555555555555556,\"#d8576b\"],[0.6666666666666666,\"#ed7953\"],[0.7777777777777778,\"#fb9f3a\"],[0.8888888888888888,\"#fdca26\"],[1.0,\"#f0f921\"]]}],\"contourcarpet\":[{\"type\":\"contourcarpet\",\"colorbar\":{\"outlinewidth\":0,\"ticks\":\"\"}}],\"contour\":[{\"type\":\"contour\",\"colorbar\":{\"outlinewidth\":0,\"ticks\":\"\"},\"colorscale\":[[0.0,\"#0d0887\"],[0.1111111111111111,\"#46039f\"],[0.2222222222222222,\"#7201a8\"],[0.3333333333333333,\"#9c179e\"],[0.4444444444444444,\"#bd3786\"],[0.5555555555555556,\"#d8576b\"],[0.6666666666666666,\"#ed7953\"],[0.7777777777777778,\"#fb9f3a\"],[0.8888888888888888,\"#fdca26\"],[1.0,\"#f0f921\"]]}],\"surface\":[{\"type\":\"surface\",\"colorbar\":{\"outlinewidth\":0,\"ticks\":\"\"},\"colorscale\":[[0.0,\"#0d0887\"],[0.1111111111111111,\"#46039f\"],[0.2222222222222222,\"#7201a8\"],[0.3333333333333333,\"#9c179e\"],[0.4444444444444444,\"#bd3786\"],[0.5555555555555556,\"#d8576b\"],[0.6666666666666666,\"#ed7953\"],[0.7777777777777778,\"#fb9f3a\"],[0.8888888888888888,\"#fdca26\"],[1.0,\"#f0f921\"]]}],\"mesh3d\":[{\"type\":\"mesh3d\",\"colorbar\":{\"outlinewidth\":0,\"ticks\":\"\"}}],\"scatter\":[{\"fillpattern\":{\"fillmode\":\"overlay\",\"size\":10,\"solidity\":0.2},\"type\":\"scatter\"}],\"parcoords\":[{\"type\":\"parcoords\",\"line\":{\"colorbar\":{\"outlinewidth\":0,\"ticks\":\"\"}}}],\"scatterpolargl\":[{\"type\":\"scatterpolargl\",\"marker\":{\"colorbar\":{\"outlinewidth\":0,\"ticks\":\"\"}}}],\"bar\":[{\"error_x\":{\"color\":\"#2a3f5f\"},\"error_y\":{\"color\":\"#2a3f5f\"},\"marker\":{\"line\":{\"color\":\"#E5ECF6\",\"width\":0.5},\"pattern\":{\"fillmode\":\"overlay\",\"size\":10,\"solidity\":0.2}},\"type\":\"bar\"}],\"scattergeo\":[{\"type\":\"scattergeo\",\"marker\":{\"colorbar\":{\"outlinewidth\":0,\"ticks\":\"\"}}}],\"scatterpolar\":[{\"type\":\"scatterpolar\",\"marker\":{\"colorbar\":{\"outlinewidth\":0,\"ticks\":\"\"}}}],\"histogram\":[{\"marker\":{\"pattern\":{\"fillmode\":\"overlay\",\"size\":10,\"solidity\":0.2}},\"type\":\"histogram\"}],\"scattergl\":[{\"type\":\"scattergl\",\"marker\":{\"colorbar\":{\"outlinewidth\":0,\"ticks\":\"\"}}}],\"scatter3d\":[{\"type\":\"scatter3d\",\"line\":{\"colorbar\":{\"outlinewidth\":0,\"ticks\":\"\"}},\"marker\":{\"colorbar\":{\"outlinewidth\":0,\"ticks\":\"\"}}}],\"scattermapbox\":[{\"type\":\"scattermapbox\",\"marker\":{\"colorbar\":{\"outlinewidth\":0,\"ticks\":\"\"}}}],\"scatterternary\":[{\"type\":\"scatterternary\",\"marker\":{\"colorbar\":{\"outlinewidth\":0,\"ticks\":\"\"}}}],\"scattercarpet\":[{\"type\":\"scattercarpet\",\"marker\":{\"colorbar\":{\"outlinewidth\":0,\"ticks\":\"\"}}}],\"carpet\":[{\"aaxis\":{\"endlinecolor\":\"#2a3f5f\",\"gridcolor\":\"white\",\"linecolor\":\"white\",\"minorgridcolor\":\"white\",\"startlinecolor\":\"#2a3f5f\"},\"baxis\":{\"endlinecolor\":\"#2a3f5f\",\"gridcolor\":\"white\",\"linecolor\":\"white\",\"minorgridcolor\":\"white\",\"startlinecolor\":\"#2a3f5f\"},\"type\":\"carpet\"}],\"table\":[{\"cells\":{\"fill\":{\"color\":\"#EBF0F8\"},\"line\":{\"color\":\"white\"}},\"header\":{\"fill\":{\"color\":\"#C8D4E3\"},\"line\":{\"color\":\"white\"}},\"type\":\"table\"}],\"barpolar\":[{\"marker\":{\"line\":{\"color\":\"#E5ECF6\",\"width\":0.5},\"pattern\":{\"fillmode\":\"overlay\",\"size\":10,\"solidity\":0.2}},\"type\":\"barpolar\"}],\"pie\":[{\"automargin\":true,\"type\":\"pie\"}]},\"layout\":{\"autotypenumbers\":\"strict\",\"colorway\":[\"#636efa\",\"#EF553B\",\"#00cc96\",\"#ab63fa\",\"#FFA15A\",\"#19d3f3\",\"#FF6692\",\"#B6E880\",\"#FF97FF\",\"#FECB52\"],\"font\":{\"color\":\"#2a3f5f\"},\"hovermode\":\"closest\",\"hoverlabel\":{\"align\":\"left\"},\"paper_bgcolor\":\"white\",\"plot_bgcolor\":\"#E5ECF6\",\"polar\":{\"bgcolor\":\"#E5ECF6\",\"angularaxis\":{\"gridcolor\":\"white\",\"linecolor\":\"white\",\"ticks\":\"\"},\"radialaxis\":{\"gridcolor\":\"white\",\"linecolor\":\"white\",\"ticks\":\"\"}},\"ternary\":{\"bgcolor\":\"#E5ECF6\",\"aaxis\":{\"gridcolor\":\"white\",\"linecolor\":\"white\",\"ticks\":\"\"},\"baxis\":{\"gridcolor\":\"white\",\"linecolor\":\"white\",\"ticks\":\"\"},\"caxis\":{\"gridcolor\":\"white\",\"linecolor\":\"white\",\"ticks\":\"\"}},\"coloraxis\":{\"colorbar\":{\"outlinewidth\":0,\"ticks\":\"\"}},\"colorscale\":{\"sequential\":[[0.0,\"#0d0887\"],[0.1111111111111111,\"#46039f\"],[0.2222222222222222,\"#7201a8\"],[0.3333333333333333,\"#9c179e\"],[0.4444444444444444,\"#bd3786\"],[0.5555555555555556,\"#d8576b\"],[0.6666666666666666,\"#ed7953\"],[0.7777777777777778,\"#fb9f3a\"],[0.8888888888888888,\"#fdca26\"],[1.0,\"#f0f921\"]],\"sequentialminus\":[[0.0,\"#0d0887\"],[0.1111111111111111,\"#46039f\"],[0.2222222222222222,\"#7201a8\"],[0.3333333333333333,\"#9c179e\"],[0.4444444444444444,\"#bd3786\"],[0.5555555555555556,\"#d8576b\"],[0.6666666666666666,\"#ed7953\"],[0.7777777777777778,\"#fb9f3a\"],[0.8888888888888888,\"#fdca26\"],[1.0,\"#f0f921\"]],\"diverging\":[[0,\"#8e0152\"],[0.1,\"#c51b7d\"],[0.2,\"#de77ae\"],[0.3,\"#f1b6da\"],[0.4,\"#fde0ef\"],[0.5,\"#f7f7f7\"],[0.6,\"#e6f5d0\"],[0.7,\"#b8e186\"],[0.8,\"#7fbc41\"],[0.9,\"#4d9221\"],[1,\"#276419\"]]},\"xaxis\":{\"gridcolor\":\"white\",\"linecolor\":\"white\",\"ticks\":\"\",\"title\":{\"standoff\":15},\"zerolinecolor\":\"white\",\"automargin\":true,\"zerolinewidth\":2},\"yaxis\":{\"gridcolor\":\"white\",\"linecolor\":\"white\",\"ticks\":\"\",\"title\":{\"standoff\":15},\"zerolinecolor\":\"white\",\"automargin\":true,\"zerolinewidth\":2},\"scene\":{\"xaxis\":{\"backgroundcolor\":\"#E5ECF6\",\"gridcolor\":\"white\",\"linecolor\":\"white\",\"showbackground\":true,\"ticks\":\"\",\"zerolinecolor\":\"white\",\"gridwidth\":2},\"yaxis\":{\"backgroundcolor\":\"#E5ECF6\",\"gridcolor\":\"white\",\"linecolor\":\"white\",\"showbackground\":true,\"ticks\":\"\",\"zerolinecolor\":\"white\",\"gridwidth\":2},\"zaxis\":{\"backgroundcolor\":\"#E5ECF6\",\"gridcolor\":\"white\",\"linecolor\":\"white\",\"showbackground\":true,\"ticks\":\"\",\"zerolinecolor\":\"white\",\"gridwidth\":2}},\"shapedefaults\":{\"line\":{\"color\":\"#2a3f5f\"}},\"annotationdefaults\":{\"arrowcolor\":\"#2a3f5f\",\"arrowhead\":0,\"arrowwidth\":1},\"geo\":{\"bgcolor\":\"white\",\"landcolor\":\"#E5ECF6\",\"subunitcolor\":\"white\",\"showland\":true,\"showlakes\":true,\"lakecolor\":\"white\"},\"title\":{\"x\":0.05},\"mapbox\":{\"style\":\"light\"}}},\"xaxis\":{\"anchor\":\"y\",\"domain\":[0.0,1.0],\"title\":{\"text\":\"Real\"}},\"yaxis\":{\"anchor\":\"x\",\"domain\":[0.0,1.0],\"title\":{\"text\":\"Imaginary\"}},\"legend\":{\"tracegroupgap\":0},\"title\":{\"text\":\"Eigenvalues of Head L11H11 of GPT-2 Small\"}},                        {\"responsive\": true}                    ).then(function(){\n",
              "                            \n",
              "var gd = document.getElementById('1e3711f8-c7bc-42a1-aea4-6c909a93f24e');\n",
              "var x = new MutationObserver(function (mutations, observer) {{\n",
              "        var display = window.getComputedStyle(gd).display;\n",
              "        if (!display || display === 'none') {{\n",
              "            console.log([gd, 'removed!']);\n",
              "            Plotly.purge(gd);\n",
              "            observer.disconnect();\n",
              "        }}\n",
              "}});\n",
              "\n",
              "// Listen for the removal of the full notebook cells\n",
              "var notebookContainer = gd.closest('#notebook-container');\n",
              "if (notebookContainer) {{\n",
              "    x.observe(notebookContainer, {childList: true});\n",
              "}}\n",
              "\n",
              "// Listen for the clearing of the current output cell\n",
              "var outputEl = gd.closest('.output');\n",
              "if (outputEl) {{\n",
              "    x.observe(outputEl, {childList: true});\n",
              "}}\n",
              "\n",
              "                        })                };                            </script>        </div>\n",
              "</body>\n",
              "</html>"
            ]
          },
          "metadata": {},
          "output_type": "display_data"
        }
      ],
      "source": [
        "scatter(x=OV_circuit_all_heads_eigenvalues[-1, -1, :].real, y=OV_circuit_all_heads_eigenvalues[-1, -1, :].imag, title=\"Eigenvalues of Head L11H11 of GPT-2 Small\", xaxis=\"Real\", yaxis=\"Imaginary\")"
      ]
    },
    {
      "cell_type": "markdown",
      "metadata": {
        "id": "UitV4PHsOYk8"
      },
      "source": [
        "We can even look at the full OV circuit, from the input tokens to output tokens: $W_E W_V W_O W_U$. This is a `[d_vocab, d_vocab]==[50257, 50257]` matrix, so absolutely enormous, even for a single head. But with the FactoredMatrix class, we can compute the full eigenvalue copying score of every head in a few seconds."
      ]
    },
    {
      "cell_type": "code",
      "execution_count": null,
      "metadata": {
        "id": "xfKIXAvpOYk8",
        "outputId": "4b72f0e4-5969-4c3b-cd15-9cd869b70def"
      },
      "outputs": [
        {
          "name": "stdout",
          "output_type": "stream",
          "text": [
            "FactoredMatrix: Shape(torch.Size([12, 12, 50257, 50257])), Hidden Dim(64)\n"
          ]
        }
      ],
      "source": [
        "full_OV_circuit = model.embed.W_E @ OV_circuit_all_heads @ model.unembed.W_U\n",
        "print(full_OV_circuit)"
      ]
    },
    {
      "cell_type": "code",
      "execution_count": null,
      "metadata": {
        "id": "rtPxavyNOYk8",
        "outputId": "622391be-f405-4c12-d56d-2d57191a40ad"
      },
      "outputs": [
        {
          "name": "stdout",
          "output_type": "stream",
          "text": [
            "torch.Size([12, 12, 64])\n",
            "torch.complex64\n"
          ]
        }
      ],
      "source": [
        "full_OV_circuit_eigenvalues = full_OV_circuit.eigenvalues\n",
        "print(full_OV_circuit_eigenvalues.shape)\n",
        "print(full_OV_circuit_eigenvalues.dtype)"
      ]
    },
    {
      "cell_type": "code",
      "execution_count": null,
      "metadata": {
        "id": "gCCqWX0dOYk8",
        "outputId": "34ba9787-aee3-4ad2-f358-01d6a30e8f7e"
      },
      "outputs": [
        {
          "data": {
            "text/html": [
              "<html>\n",
              "<head><meta charset=\"utf-8\" /></head>\n",
              "<body>\n",
              "    <div>            <script src=\"https://cdnjs.cloudflare.com/ajax/libs/mathjax/2.7.5/MathJax.js?config=TeX-AMS-MML_SVG\"></script><script type=\"text/javascript\">if (window.MathJax && window.MathJax.Hub && window.MathJax.Hub.Config) {window.MathJax.Hub.Config({SVG: {font: \"STIX-Web\"}});}</script>                <script type=\"text/javascript\">window.PlotlyConfig = {MathJaxConfig: 'local'};</script>\n",
              "        <script charset=\"utf-8\" src=\"https://cdn.plot.ly/plotly-2.26.0.min.js\"></script>                <div id=\"c709dad6-6ca6-4c75-8231-0ee7b1e7e752\" class=\"plotly-graph-div\" style=\"height:525px; width:100%;\"></div>            <script type=\"text/javascript\">                                    window.PLOTLYENV=window.PLOTLYENV || {};                                    if (document.getElementById(\"c709dad6-6ca6-4c75-8231-0ee7b1e7e752\")) {                    Plotly.newPlot(                        \"c709dad6-6ca6-4c75-8231-0ee7b1e7e752\",                        [{\"coloraxis\":\"coloraxis\",\"name\":\"0\",\"z\":[[0.8356368541717529,0.5853535532951355,0.5105839967727661,0.7843376398086548,0.8644158840179443,0.7026588320732117,0.8969924449920654,0.5868821740150452,0.4248652160167694,-0.16337503492832184,0.4626856744289398,0.2760537266731262],[-0.05292005464434624,-0.3177315592765808,-0.4810580015182495,-0.783806562423706,-0.6360208988189697,-0.7758680582046509,0.9681803584098816,0.8119115233421326,-0.7510465383529663,-0.6878446340560913,-0.6429886221885681,-0.9985855221748352],[-0.6598327159881592,0.9152501821517944,0.5461500883102417,-0.4874398708343506,0.7720565795898438,-0.7541061639785767,-0.8472450971603394,-0.6948987245559692,-0.1557510942220688,0.24442273378372192,-0.9106623530387878,-0.9439151287078857],[0.6486894488334656,-0.5592910647392273,0.5935594439506531,0.7843042016029358,-0.8150346875190735,0.6130048036575317,0.16785870492458344,0.35195884108543396,-0.6837263107299805,0.22237683832645416,-0.9929219484329224,0.6535818576812744],[0.5740951299667358,0.3640132546424866,0.09609055519104004,0.9359623193740845,-0.9228774309158325,0.6191076636314392,-0.33572638034820557,-0.998464822769165,0.6448631286621094,0.8468661308288574,-0.7557657361030579,0.9527971148490906],[0.7326545715332031,0.532416820526123,0.9732668995857239,0.7239248752593994,0.25538960099220276,0.815841555595398,0.6655788421630859,0.9287101030349731,-0.5660438537597656,-0.890874445438385,0.9834234118461609,-0.9981180429458618],[0.9698693156242371,0.7439671158790588,-0.35639339685440063,0.6022988557815552,0.9708116054534912,-0.9278276562690735,-0.996231734752655,0.8345208168029785,0.9714328050613403,0.8158544898033142,0.5902576446533203,0.8199342489242554],[0.9820225834846497,0.9859328269958496,0.5152459144592285,-0.5610516667366028,0.9663665890693665,0.9495159983634949,-0.5204814076423645,0.3104749917984009,0.9859084486961365,0.7797460556030273,0.6738530397415161,0.3919741213321686],[-0.906204104423523,0.11750980466604233,0.8077875375747681,0.4169303774833679,0.9829014539718628,0.9902303218841553,0.7847102880477905,0.994563102722168,0.9868024587631226,-0.26804423332214355,-0.9908866882324219,0.745792806148529],[0.9906191825866699,-0.18231149017810822,0.97578364610672,0.9986749887466431,0.2544330358505249,-0.954406201839447,0.5869243144989014,-0.23537996411323547,0.9550502896308899,0.25511977076530457,0.9929870963096619,0.09052591770887375],[0.9707273244857788,0.6956093311309814,0.6280022263526917,0.7902867794036865,0.9343841075897217,0.989579439163208,0.9436283707618713,-0.10834993422031403,-0.3431112766265869,0.9986708760261536,0.5086739659309387,0.9949507713317871],[0.8283133506774902,0.9432437419891357,0.9491766095161438,0.9995352029800415,0.5712319612503052,0.8055234551429749,0.6781864166259766,0.8272571563720703,0.8314797282218933,0.8778656721115112,0.9944958686828613,0.9973865151405334]],\"type\":\"heatmap\",\"xaxis\":\"x\",\"yaxis\":\"y\",\"hovertemplate\":\"Head: %{x}\\u003cbr\\u003eLayer: %{y}\\u003cbr\\u003ecolor: %{z}\\u003cextra\\u003e\\u003c\\u002fextra\\u003e\"}],                        {\"template\":{\"data\":{\"histogram2dcontour\":[{\"type\":\"histogram2dcontour\",\"colorbar\":{\"outlinewidth\":0,\"ticks\":\"\"},\"colorscale\":[[0.0,\"#0d0887\"],[0.1111111111111111,\"#46039f\"],[0.2222222222222222,\"#7201a8\"],[0.3333333333333333,\"#9c179e\"],[0.4444444444444444,\"#bd3786\"],[0.5555555555555556,\"#d8576b\"],[0.6666666666666666,\"#ed7953\"],[0.7777777777777778,\"#fb9f3a\"],[0.8888888888888888,\"#fdca26\"],[1.0,\"#f0f921\"]]}],\"choropleth\":[{\"type\":\"choropleth\",\"colorbar\":{\"outlinewidth\":0,\"ticks\":\"\"}}],\"histogram2d\":[{\"type\":\"histogram2d\",\"colorbar\":{\"outlinewidth\":0,\"ticks\":\"\"},\"colorscale\":[[0.0,\"#0d0887\"],[0.1111111111111111,\"#46039f\"],[0.2222222222222222,\"#7201a8\"],[0.3333333333333333,\"#9c179e\"],[0.4444444444444444,\"#bd3786\"],[0.5555555555555556,\"#d8576b\"],[0.6666666666666666,\"#ed7953\"],[0.7777777777777778,\"#fb9f3a\"],[0.8888888888888888,\"#fdca26\"],[1.0,\"#f0f921\"]]}],\"heatmap\":[{\"type\":\"heatmap\",\"colorbar\":{\"outlinewidth\":0,\"ticks\":\"\"},\"colorscale\":[[0.0,\"#0d0887\"],[0.1111111111111111,\"#46039f\"],[0.2222222222222222,\"#7201a8\"],[0.3333333333333333,\"#9c179e\"],[0.4444444444444444,\"#bd3786\"],[0.5555555555555556,\"#d8576b\"],[0.6666666666666666,\"#ed7953\"],[0.7777777777777778,\"#fb9f3a\"],[0.8888888888888888,\"#fdca26\"],[1.0,\"#f0f921\"]]}],\"heatmapgl\":[{\"type\":\"heatmapgl\",\"colorbar\":{\"outlinewidth\":0,\"ticks\":\"\"},\"colorscale\":[[0.0,\"#0d0887\"],[0.1111111111111111,\"#46039f\"],[0.2222222222222222,\"#7201a8\"],[0.3333333333333333,\"#9c179e\"],[0.4444444444444444,\"#bd3786\"],[0.5555555555555556,\"#d8576b\"],[0.6666666666666666,\"#ed7953\"],[0.7777777777777778,\"#fb9f3a\"],[0.8888888888888888,\"#fdca26\"],[1.0,\"#f0f921\"]]}],\"contourcarpet\":[{\"type\":\"contourcarpet\",\"colorbar\":{\"outlinewidth\":0,\"ticks\":\"\"}}],\"contour\":[{\"type\":\"contour\",\"colorbar\":{\"outlinewidth\":0,\"ticks\":\"\"},\"colorscale\":[[0.0,\"#0d0887\"],[0.1111111111111111,\"#46039f\"],[0.2222222222222222,\"#7201a8\"],[0.3333333333333333,\"#9c179e\"],[0.4444444444444444,\"#bd3786\"],[0.5555555555555556,\"#d8576b\"],[0.6666666666666666,\"#ed7953\"],[0.7777777777777778,\"#fb9f3a\"],[0.8888888888888888,\"#fdca26\"],[1.0,\"#f0f921\"]]}],\"surface\":[{\"type\":\"surface\",\"colorbar\":{\"outlinewidth\":0,\"ticks\":\"\"},\"colorscale\":[[0.0,\"#0d0887\"],[0.1111111111111111,\"#46039f\"],[0.2222222222222222,\"#7201a8\"],[0.3333333333333333,\"#9c179e\"],[0.4444444444444444,\"#bd3786\"],[0.5555555555555556,\"#d8576b\"],[0.6666666666666666,\"#ed7953\"],[0.7777777777777778,\"#fb9f3a\"],[0.8888888888888888,\"#fdca26\"],[1.0,\"#f0f921\"]]}],\"mesh3d\":[{\"type\":\"mesh3d\",\"colorbar\":{\"outlinewidth\":0,\"ticks\":\"\"}}],\"scatter\":[{\"fillpattern\":{\"fillmode\":\"overlay\",\"size\":10,\"solidity\":0.2},\"type\":\"scatter\"}],\"parcoords\":[{\"type\":\"parcoords\",\"line\":{\"colorbar\":{\"outlinewidth\":0,\"ticks\":\"\"}}}],\"scatterpolargl\":[{\"type\":\"scatterpolargl\",\"marker\":{\"colorbar\":{\"outlinewidth\":0,\"ticks\":\"\"}}}],\"bar\":[{\"error_x\":{\"color\":\"#2a3f5f\"},\"error_y\":{\"color\":\"#2a3f5f\"},\"marker\":{\"line\":{\"color\":\"#E5ECF6\",\"width\":0.5},\"pattern\":{\"fillmode\":\"overlay\",\"size\":10,\"solidity\":0.2}},\"type\":\"bar\"}],\"scattergeo\":[{\"type\":\"scattergeo\",\"marker\":{\"colorbar\":{\"outlinewidth\":0,\"ticks\":\"\"}}}],\"scatterpolar\":[{\"type\":\"scatterpolar\",\"marker\":{\"colorbar\":{\"outlinewidth\":0,\"ticks\":\"\"}}}],\"histogram\":[{\"marker\":{\"pattern\":{\"fillmode\":\"overlay\",\"size\":10,\"solidity\":0.2}},\"type\":\"histogram\"}],\"scattergl\":[{\"type\":\"scattergl\",\"marker\":{\"colorbar\":{\"outlinewidth\":0,\"ticks\":\"\"}}}],\"scatter3d\":[{\"type\":\"scatter3d\",\"line\":{\"colorbar\":{\"outlinewidth\":0,\"ticks\":\"\"}},\"marker\":{\"colorbar\":{\"outlinewidth\":0,\"ticks\":\"\"}}}],\"scattermapbox\":[{\"type\":\"scattermapbox\",\"marker\":{\"colorbar\":{\"outlinewidth\":0,\"ticks\":\"\"}}}],\"scatterternary\":[{\"type\":\"scatterternary\",\"marker\":{\"colorbar\":{\"outlinewidth\":0,\"ticks\":\"\"}}}],\"scattercarpet\":[{\"type\":\"scattercarpet\",\"marker\":{\"colorbar\":{\"outlinewidth\":0,\"ticks\":\"\"}}}],\"carpet\":[{\"aaxis\":{\"endlinecolor\":\"#2a3f5f\",\"gridcolor\":\"white\",\"linecolor\":\"white\",\"minorgridcolor\":\"white\",\"startlinecolor\":\"#2a3f5f\"},\"baxis\":{\"endlinecolor\":\"#2a3f5f\",\"gridcolor\":\"white\",\"linecolor\":\"white\",\"minorgridcolor\":\"white\",\"startlinecolor\":\"#2a3f5f\"},\"type\":\"carpet\"}],\"table\":[{\"cells\":{\"fill\":{\"color\":\"#EBF0F8\"},\"line\":{\"color\":\"white\"}},\"header\":{\"fill\":{\"color\":\"#C8D4E3\"},\"line\":{\"color\":\"white\"}},\"type\":\"table\"}],\"barpolar\":[{\"marker\":{\"line\":{\"color\":\"#E5ECF6\",\"width\":0.5},\"pattern\":{\"fillmode\":\"overlay\",\"size\":10,\"solidity\":0.2}},\"type\":\"barpolar\"}],\"pie\":[{\"automargin\":true,\"type\":\"pie\"}]},\"layout\":{\"autotypenumbers\":\"strict\",\"colorway\":[\"#636efa\",\"#EF553B\",\"#00cc96\",\"#ab63fa\",\"#FFA15A\",\"#19d3f3\",\"#FF6692\",\"#B6E880\",\"#FF97FF\",\"#FECB52\"],\"font\":{\"color\":\"#2a3f5f\"},\"hovermode\":\"closest\",\"hoverlabel\":{\"align\":\"left\"},\"paper_bgcolor\":\"white\",\"plot_bgcolor\":\"#E5ECF6\",\"polar\":{\"bgcolor\":\"#E5ECF6\",\"angularaxis\":{\"gridcolor\":\"white\",\"linecolor\":\"white\",\"ticks\":\"\"},\"radialaxis\":{\"gridcolor\":\"white\",\"linecolor\":\"white\",\"ticks\":\"\"}},\"ternary\":{\"bgcolor\":\"#E5ECF6\",\"aaxis\":{\"gridcolor\":\"white\",\"linecolor\":\"white\",\"ticks\":\"\"},\"baxis\":{\"gridcolor\":\"white\",\"linecolor\":\"white\",\"ticks\":\"\"},\"caxis\":{\"gridcolor\":\"white\",\"linecolor\":\"white\",\"ticks\":\"\"}},\"coloraxis\":{\"colorbar\":{\"outlinewidth\":0,\"ticks\":\"\"}},\"colorscale\":{\"sequential\":[[0.0,\"#0d0887\"],[0.1111111111111111,\"#46039f\"],[0.2222222222222222,\"#7201a8\"],[0.3333333333333333,\"#9c179e\"],[0.4444444444444444,\"#bd3786\"],[0.5555555555555556,\"#d8576b\"],[0.6666666666666666,\"#ed7953\"],[0.7777777777777778,\"#fb9f3a\"],[0.8888888888888888,\"#fdca26\"],[1.0,\"#f0f921\"]],\"sequentialminus\":[[0.0,\"#0d0887\"],[0.1111111111111111,\"#46039f\"],[0.2222222222222222,\"#7201a8\"],[0.3333333333333333,\"#9c179e\"],[0.4444444444444444,\"#bd3786\"],[0.5555555555555556,\"#d8576b\"],[0.6666666666666666,\"#ed7953\"],[0.7777777777777778,\"#fb9f3a\"],[0.8888888888888888,\"#fdca26\"],[1.0,\"#f0f921\"]],\"diverging\":[[0,\"#8e0152\"],[0.1,\"#c51b7d\"],[0.2,\"#de77ae\"],[0.3,\"#f1b6da\"],[0.4,\"#fde0ef\"],[0.5,\"#f7f7f7\"],[0.6,\"#e6f5d0\"],[0.7,\"#b8e186\"],[0.8,\"#7fbc41\"],[0.9,\"#4d9221\"],[1,\"#276419\"]]},\"xaxis\":{\"gridcolor\":\"white\",\"linecolor\":\"white\",\"ticks\":\"\",\"title\":{\"standoff\":15},\"zerolinecolor\":\"white\",\"automargin\":true,\"zerolinewidth\":2},\"yaxis\":{\"gridcolor\":\"white\",\"linecolor\":\"white\",\"ticks\":\"\",\"title\":{\"standoff\":15},\"zerolinecolor\":\"white\",\"automargin\":true,\"zerolinewidth\":2},\"scene\":{\"xaxis\":{\"backgroundcolor\":\"#E5ECF6\",\"gridcolor\":\"white\",\"linecolor\":\"white\",\"showbackground\":true,\"ticks\":\"\",\"zerolinecolor\":\"white\",\"gridwidth\":2},\"yaxis\":{\"backgroundcolor\":\"#E5ECF6\",\"gridcolor\":\"white\",\"linecolor\":\"white\",\"showbackground\":true,\"ticks\":\"\",\"zerolinecolor\":\"white\",\"gridwidth\":2},\"zaxis\":{\"backgroundcolor\":\"#E5ECF6\",\"gridcolor\":\"white\",\"linecolor\":\"white\",\"showbackground\":true,\"ticks\":\"\",\"zerolinecolor\":\"white\",\"gridwidth\":2}},\"shapedefaults\":{\"line\":{\"color\":\"#2a3f5f\"}},\"annotationdefaults\":{\"arrowcolor\":\"#2a3f5f\",\"arrowhead\":0,\"arrowwidth\":1},\"geo\":{\"bgcolor\":\"white\",\"landcolor\":\"#E5ECF6\",\"subunitcolor\":\"white\",\"showland\":true,\"showlakes\":true,\"lakecolor\":\"white\"},\"title\":{\"x\":0.05},\"mapbox\":{\"style\":\"light\"}}},\"xaxis\":{\"anchor\":\"y\",\"domain\":[0.0,1.0],\"scaleanchor\":\"y\",\"constrain\":\"domain\",\"title\":{\"text\":\"Head\"}},\"yaxis\":{\"anchor\":\"x\",\"domain\":[0.0,1.0],\"autorange\":\"reversed\",\"constrain\":\"domain\",\"title\":{\"text\":\"Layer\"}},\"coloraxis\":{\"colorscale\":[[0.0,\"rgb(103,0,31)\"],[0.1,\"rgb(178,24,43)\"],[0.2,\"rgb(214,96,77)\"],[0.3,\"rgb(244,165,130)\"],[0.4,\"rgb(253,219,199)\"],[0.5,\"rgb(247,247,247)\"],[0.6,\"rgb(209,229,240)\"],[0.7,\"rgb(146,197,222)\"],[0.8,\"rgb(67,147,195)\"],[0.9,\"rgb(33,102,172)\"],[1.0,\"rgb(5,48,97)\"]],\"cmid\":0.0,\"cmin\":-1.0,\"cmax\":1.0},\"title\":{\"text\":\"OV Copying Score for each head in GPT-2 Small\"}},                        {\"responsive\": true}                    ).then(function(){\n",
              "                            \n",
              "var gd = document.getElementById('c709dad6-6ca6-4c75-8231-0ee7b1e7e752');\n",
              "var x = new MutationObserver(function (mutations, observer) {{\n",
              "        var display = window.getComputedStyle(gd).display;\n",
              "        if (!display || display === 'none') {{\n",
              "            console.log([gd, 'removed!']);\n",
              "            Plotly.purge(gd);\n",
              "            observer.disconnect();\n",
              "        }}\n",
              "}});\n",
              "\n",
              "// Listen for the removal of the full notebook cells\n",
              "var notebookContainer = gd.closest('#notebook-container');\n",
              "if (notebookContainer) {{\n",
              "    x.observe(notebookContainer, {childList: true});\n",
              "}}\n",
              "\n",
              "// Listen for the clearing of the current output cell\n",
              "var outputEl = gd.closest('.output');\n",
              "if (outputEl) {{\n",
              "    x.observe(outputEl, {childList: true});\n",
              "}}\n",
              "\n",
              "                        })                };                            </script>        </div>\n",
              "</body>\n",
              "</html>"
            ]
          },
          "metadata": {},
          "output_type": "display_data"
        }
      ],
      "source": [
        "full_OV_copying_score = full_OV_circuit_eigenvalues.sum(dim=-1).real / full_OV_circuit_eigenvalues.abs().sum(dim=-1)\n",
        "imshow(utils.to_numpy(full_OV_copying_score), xaxis=\"Head\", yaxis=\"Layer\", title=\"OV Copying Score for each head in GPT-2 Small\", zmax=1.0, zmin=-1.0)"
      ]
    },
    {
      "cell_type": "markdown",
      "metadata": {
        "id": "o3w4THivOYk8"
      },
      "source": [
        "Interestingly, these are highly (but not perfectly!) correlated. I'm not sure what to read from this, or what's up with the weird outlier heads!"
      ]
    },
    {
      "cell_type": "code",
      "execution_count": null,
      "metadata": {
        "id": "mFa66rWfOYk9",
        "outputId": "ebb55f54-2a5a-4d1b-ce44-cc7d8a929f3f"
      },
      "outputs": [
        {
          "data": {
            "text/html": [
              "<html>\n",
              "<head><meta charset=\"utf-8\" /></head>\n",
              "<body>\n",
              "    <div>            <script src=\"https://cdnjs.cloudflare.com/ajax/libs/mathjax/2.7.5/MathJax.js?config=TeX-AMS-MML_SVG\"></script><script type=\"text/javascript\">if (window.MathJax && window.MathJax.Hub && window.MathJax.Hub.Config) {window.MathJax.Hub.Config({SVG: {font: \"STIX-Web\"}});}</script>                <script type=\"text/javascript\">window.PlotlyConfig = {MathJaxConfig: 'local'};</script>\n",
              "        <script charset=\"utf-8\" src=\"https://cdn.plot.ly/plotly-2.26.0.min.js\"></script>                <div id=\"3e59929d-31e9-49b1-ad1a-9d9811d4801d\" class=\"plotly-graph-div\" style=\"height:525px; width:100%;\"></div>            <script type=\"text/javascript\">                                    window.PLOTLYENV=window.PLOTLYENV || {};                                    if (document.getElementById(\"3e59929d-31e9-49b1-ad1a-9d9811d4801d\")) {                    Plotly.newPlot(                        \"3e59929d-31e9-49b1-ad1a-9d9811d4801d\",                        [{\"hovertemplate\":\"\\u003cb\\u003e%{hovertext}\\u003c\\u002fb\\u003e\\u003cbr\\u003e\\u003cbr\\u003eFull OV Copying Score=%{x}\\u003cbr\\u003eOV Copying Score=%{y}\\u003cextra\\u003e\\u003c\\u002fextra\\u003e\",\"hovertext\":[\"L0H0\",\"L0H1\",\"L0H2\",\"L0H3\",\"L0H4\",\"L0H5\",\"L0H6\",\"L0H7\",\"L0H8\",\"L0H9\",\"L0H10\",\"L0H11\",\"L1H0\",\"L1H1\",\"L1H2\",\"L1H3\",\"L1H4\",\"L1H5\",\"L1H6\",\"L1H7\",\"L1H8\",\"L1H9\",\"L1H10\",\"L1H11\",\"L2H0\",\"L2H1\",\"L2H2\",\"L2H3\",\"L2H4\",\"L2H5\",\"L2H6\",\"L2H7\",\"L2H8\",\"L2H9\",\"L2H10\",\"L2H11\",\"L3H0\",\"L3H1\",\"L3H2\",\"L3H3\",\"L3H4\",\"L3H5\",\"L3H6\",\"L3H7\",\"L3H8\",\"L3H9\",\"L3H10\",\"L3H11\",\"L4H0\",\"L4H1\",\"L4H2\",\"L4H3\",\"L4H4\",\"L4H5\",\"L4H6\",\"L4H7\",\"L4H8\",\"L4H9\",\"L4H10\",\"L4H11\",\"L5H0\",\"L5H1\",\"L5H2\",\"L5H3\",\"L5H4\",\"L5H5\",\"L5H6\",\"L5H7\",\"L5H8\",\"L5H9\",\"L5H10\",\"L5H11\",\"L6H0\",\"L6H1\",\"L6H2\",\"L6H3\",\"L6H4\",\"L6H5\",\"L6H6\",\"L6H7\",\"L6H8\",\"L6H9\",\"L6H10\",\"L6H11\",\"L7H0\",\"L7H1\",\"L7H2\",\"L7H3\",\"L7H4\",\"L7H5\",\"L7H6\",\"L7H7\",\"L7H8\",\"L7H9\",\"L7H10\",\"L7H11\",\"L8H0\",\"L8H1\",\"L8H2\",\"L8H3\",\"L8H4\",\"L8H5\",\"L8H6\",\"L8H7\",\"L8H8\",\"L8H9\",\"L8H10\",\"L8H11\",\"L9H0\",\"L9H1\",\"L9H2\",\"L9H3\",\"L9H4\",\"L9H5\",\"L9H6\",\"L9H7\",\"L9H8\",\"L9H9\",\"L9H10\",\"L9H11\",\"L10H0\",\"L10H1\",\"L10H2\",\"L10H3\",\"L10H4\",\"L10H5\",\"L10H6\",\"L10H7\",\"L10H8\",\"L10H9\",\"L10H10\",\"L10H11\",\"L11H0\",\"L11H1\",\"L11H2\",\"L11H3\",\"L11H4\",\"L11H5\",\"L11H6\",\"L11H7\",\"L11H8\",\"L11H9\",\"L11H10\",\"L11H11\"],\"legendgroup\":\"\",\"marker\":{\"color\":\"#636efa\",\"symbol\":\"circle\"},\"mode\":\"markers\",\"name\":\"\",\"orientation\":\"v\",\"showlegend\":false,\"x\":[0.8356368541717529,0.5853535532951355,0.5105839967727661,0.7843376398086548,0.8644158840179443,0.7026588320732117,0.8969924449920654,0.5868821740150452,0.4248652160167694,-0.16337503492832184,0.4626856744289398,0.2760537266731262,-0.05292005464434624,-0.3177315592765808,-0.4810580015182495,-0.783806562423706,-0.6360208988189697,-0.7758680582046509,0.9681803584098816,0.8119115233421326,-0.7510465383529663,-0.6878446340560913,-0.6429886221885681,-0.9985855221748352,-0.6598327159881592,0.9152501821517944,0.5461500883102417,-0.4874398708343506,0.7720565795898438,-0.7541061639785767,-0.8472450971603394,-0.6948987245559692,-0.1557510942220688,0.24442273378372192,-0.9106623530387878,-0.9439151287078857,0.6486894488334656,-0.5592910647392273,0.5935594439506531,0.7843042016029358,-0.8150346875190735,0.6130048036575317,0.16785870492458344,0.35195884108543396,-0.6837263107299805,0.22237683832645416,-0.9929219484329224,0.6535818576812744,0.5740951299667358,0.3640132546424866,0.09609055519104004,0.9359623193740845,-0.9228774309158325,0.6191076636314392,-0.33572638034820557,-0.998464822769165,0.6448631286621094,0.8468661308288574,-0.7557657361030579,0.9527971148490906,0.7326545715332031,0.532416820526123,0.9732668995857239,0.7239248752593994,0.25538960099220276,0.815841555595398,0.6655788421630859,0.9287101030349731,-0.5660438537597656,-0.890874445438385,0.9834234118461609,-0.9981180429458618,0.9698693156242371,0.7439671158790588,-0.35639339685440063,0.6022988557815552,0.9708116054534912,-0.9278276562690735,-0.996231734752655,0.8345208168029785,0.9714328050613403,0.8158544898033142,0.5902576446533203,0.8199342489242554,0.9820225834846497,0.9859328269958496,0.5152459144592285,-0.5610516667366028,0.9663665890693665,0.9495159983634949,-0.5204814076423645,0.3104749917984009,0.9859084486961365,0.7797460556030273,0.6738530397415161,0.3919741213321686,-0.906204104423523,0.11750980466604233,0.8077875375747681,0.4169303774833679,0.9829014539718628,0.9902303218841553,0.7847102880477905,0.994563102722168,0.9868024587631226,-0.26804423332214355,-0.9908866882324219,0.745792806148529,0.9906191825866699,-0.18231149017810822,0.97578364610672,0.9986749887466431,0.2544330358505249,-0.954406201839447,0.5869243144989014,-0.23537996411323547,0.9550502896308899,0.25511977076530457,0.9929870963096619,0.09052591770887375,0.9707273244857788,0.6956093311309814,0.6280022263526917,0.7902867794036865,0.9343841075897217,0.989579439163208,0.9436283707618713,-0.10834993422031403,-0.3431112766265869,0.9986708760261536,0.5086739659309387,0.9949507713317871,0.8283133506774902,0.9432437419891357,0.9491766095161438,0.9995352029800415,0.5712319612503052,0.8055234551429749,0.6781864166259766,0.8272571563720703,0.8314797282218933,0.8778656721115112,0.9944958686828613,0.9973865151405334],\"xaxis\":\"x\",\"y\":[0.7775010466575623,0.3527269959449768,0.25961846113204956,0.6670257449150085,0.8384260535240173,0.5584430694580078,0.8444744944572449,0.4137910008430481,0.24488940834999084,0.028157662600278854,0.3584098219871521,0.16288265585899353,-0.45419126749038696,-0.6529328227043152,-0.5484569072723389,-0.7990369200706482,-0.7736425995826721,-0.8522581458091736,0.9774324893951416,0.6626249551773071,-0.7303224205970764,-0.7007019519805908,-0.6946625709533691,-0.9996722340583801,-0.7837163805961609,0.8967759013175964,0.4750954806804657,-0.667197585105896,0.7881461977958679,-0.8547751307487488,-0.9054184556007385,-0.5749384760856628,-0.32175111770629883,-0.028594352304935455,-0.9247617721557617,-0.9699268341064453,0.5864037275314331,-0.7614347338676453,0.5971695780754089,0.7854393720626831,-0.8788883686065674,0.3908745050430298,0.044738516211509705,0.11028008162975311,-0.8169988989830017,0.22129566967487335,-0.9939578771591187,0.5774399042129517,0.525479257106781,0.3049013912677765,-0.10729152709245682,0.9433151483535767,-0.9314428567886353,0.5273632407188416,-0.4264712631702423,-0.9984429478645325,0.5296756029129028,0.8604294061660767,-0.8895052075386047,0.9556970596313477,0.6629186868667603,0.42956963181495667,0.9736858010292053,0.6555483937263489,0.12201889604330063,0.7442770004272461,0.5037952661514282,0.9525359272956848,-0.6507164239883423,-0.9316279292106628,0.9791510105133057,-0.9972584843635559,0.9613031148910522,0.7501779794692993,-0.3806658685207367,0.6429786682128906,0.9557769298553467,-0.9428839683532715,-0.9948079586029053,0.785298764705658,0.9657301306724548,0.707301676273346,0.3687230050563812,0.8128011226654053,0.9659481644630432,0.9730121493339539,0.31900617480278015,-0.30290520191192627,0.9790953397750854,0.9357923269271851,-0.5550313591957092,-0.005466493312269449,0.9867776036262512,0.8249565958976746,0.566429615020752,0.1000526174902916,-0.9464486837387085,-0.25471997261047363,0.6522327661514282,0.1415255218744278,0.9884140491485596,0.9860583543777466,0.6949270367622375,0.9901810884475708,0.9791202545166016,-0.2359553426504135,-0.9820711612701416,0.6506689190864563,0.9895943999290466,-0.29178157448768616,0.9714024662971497,0.9951602220535278,0.18783769011497498,-0.9460937976837158,0.47801902890205383,-0.2489192932844162,0.9437097907066345,0.11866245418787003,0.9941242933273315,-0.38088178634643555,0.9564487934112549,0.5542725920677185,0.42118048667907715,0.6628789901733398,0.8659590482711792,0.9937117695808411,0.9069075584411621,0.39811065793037415,-0.4134220480918884,0.9971913695335388,0.34596705436706543,0.9938657283782959,0.5891268849372864,0.9313740134239197,0.9268401861190796,0.9993564486503601,0.6227539777755737,0.8463947772979736,0.6584346294403076,0.8423126339912415,0.2978496253490448,0.8728679418563843,0.9963144659996033,0.986752450466156],\"yaxis\":\"y\",\"type\":\"scatter\"}],                        {\"template\":{\"data\":{\"histogram2dcontour\":[{\"type\":\"histogram2dcontour\",\"colorbar\":{\"outlinewidth\":0,\"ticks\":\"\"},\"colorscale\":[[0.0,\"#0d0887\"],[0.1111111111111111,\"#46039f\"],[0.2222222222222222,\"#7201a8\"],[0.3333333333333333,\"#9c179e\"],[0.4444444444444444,\"#bd3786\"],[0.5555555555555556,\"#d8576b\"],[0.6666666666666666,\"#ed7953\"],[0.7777777777777778,\"#fb9f3a\"],[0.8888888888888888,\"#fdca26\"],[1.0,\"#f0f921\"]]}],\"choropleth\":[{\"type\":\"choropleth\",\"colorbar\":{\"outlinewidth\":0,\"ticks\":\"\"}}],\"histogram2d\":[{\"type\":\"histogram2d\",\"colorbar\":{\"outlinewidth\":0,\"ticks\":\"\"},\"colorscale\":[[0.0,\"#0d0887\"],[0.1111111111111111,\"#46039f\"],[0.2222222222222222,\"#7201a8\"],[0.3333333333333333,\"#9c179e\"],[0.4444444444444444,\"#bd3786\"],[0.5555555555555556,\"#d8576b\"],[0.6666666666666666,\"#ed7953\"],[0.7777777777777778,\"#fb9f3a\"],[0.8888888888888888,\"#fdca26\"],[1.0,\"#f0f921\"]]}],\"heatmap\":[{\"type\":\"heatmap\",\"colorbar\":{\"outlinewidth\":0,\"ticks\":\"\"},\"colorscale\":[[0.0,\"#0d0887\"],[0.1111111111111111,\"#46039f\"],[0.2222222222222222,\"#7201a8\"],[0.3333333333333333,\"#9c179e\"],[0.4444444444444444,\"#bd3786\"],[0.5555555555555556,\"#d8576b\"],[0.6666666666666666,\"#ed7953\"],[0.7777777777777778,\"#fb9f3a\"],[0.8888888888888888,\"#fdca26\"],[1.0,\"#f0f921\"]]}],\"heatmapgl\":[{\"type\":\"heatmapgl\",\"colorbar\":{\"outlinewidth\":0,\"ticks\":\"\"},\"colorscale\":[[0.0,\"#0d0887\"],[0.1111111111111111,\"#46039f\"],[0.2222222222222222,\"#7201a8\"],[0.3333333333333333,\"#9c179e\"],[0.4444444444444444,\"#bd3786\"],[0.5555555555555556,\"#d8576b\"],[0.6666666666666666,\"#ed7953\"],[0.7777777777777778,\"#fb9f3a\"],[0.8888888888888888,\"#fdca26\"],[1.0,\"#f0f921\"]]}],\"contourcarpet\":[{\"type\":\"contourcarpet\",\"colorbar\":{\"outlinewidth\":0,\"ticks\":\"\"}}],\"contour\":[{\"type\":\"contour\",\"colorbar\":{\"outlinewidth\":0,\"ticks\":\"\"},\"colorscale\":[[0.0,\"#0d0887\"],[0.1111111111111111,\"#46039f\"],[0.2222222222222222,\"#7201a8\"],[0.3333333333333333,\"#9c179e\"],[0.4444444444444444,\"#bd3786\"],[0.5555555555555556,\"#d8576b\"],[0.6666666666666666,\"#ed7953\"],[0.7777777777777778,\"#fb9f3a\"],[0.8888888888888888,\"#fdca26\"],[1.0,\"#f0f921\"]]}],\"surface\":[{\"type\":\"surface\",\"colorbar\":{\"outlinewidth\":0,\"ticks\":\"\"},\"colorscale\":[[0.0,\"#0d0887\"],[0.1111111111111111,\"#46039f\"],[0.2222222222222222,\"#7201a8\"],[0.3333333333333333,\"#9c179e\"],[0.4444444444444444,\"#bd3786\"],[0.5555555555555556,\"#d8576b\"],[0.6666666666666666,\"#ed7953\"],[0.7777777777777778,\"#fb9f3a\"],[0.8888888888888888,\"#fdca26\"],[1.0,\"#f0f921\"]]}],\"mesh3d\":[{\"type\":\"mesh3d\",\"colorbar\":{\"outlinewidth\":0,\"ticks\":\"\"}}],\"scatter\":[{\"fillpattern\":{\"fillmode\":\"overlay\",\"size\":10,\"solidity\":0.2},\"type\":\"scatter\"}],\"parcoords\":[{\"type\":\"parcoords\",\"line\":{\"colorbar\":{\"outlinewidth\":0,\"ticks\":\"\"}}}],\"scatterpolargl\":[{\"type\":\"scatterpolargl\",\"marker\":{\"colorbar\":{\"outlinewidth\":0,\"ticks\":\"\"}}}],\"bar\":[{\"error_x\":{\"color\":\"#2a3f5f\"},\"error_y\":{\"color\":\"#2a3f5f\"},\"marker\":{\"line\":{\"color\":\"#E5ECF6\",\"width\":0.5},\"pattern\":{\"fillmode\":\"overlay\",\"size\":10,\"solidity\":0.2}},\"type\":\"bar\"}],\"scattergeo\":[{\"type\":\"scattergeo\",\"marker\":{\"colorbar\":{\"outlinewidth\":0,\"ticks\":\"\"}}}],\"scatterpolar\":[{\"type\":\"scatterpolar\",\"marker\":{\"colorbar\":{\"outlinewidth\":0,\"ticks\":\"\"}}}],\"histogram\":[{\"marker\":{\"pattern\":{\"fillmode\":\"overlay\",\"size\":10,\"solidity\":0.2}},\"type\":\"histogram\"}],\"scattergl\":[{\"type\":\"scattergl\",\"marker\":{\"colorbar\":{\"outlinewidth\":0,\"ticks\":\"\"}}}],\"scatter3d\":[{\"type\":\"scatter3d\",\"line\":{\"colorbar\":{\"outlinewidth\":0,\"ticks\":\"\"}},\"marker\":{\"colorbar\":{\"outlinewidth\":0,\"ticks\":\"\"}}}],\"scattermapbox\":[{\"type\":\"scattermapbox\",\"marker\":{\"colorbar\":{\"outlinewidth\":0,\"ticks\":\"\"}}}],\"scatterternary\":[{\"type\":\"scatterternary\",\"marker\":{\"colorbar\":{\"outlinewidth\":0,\"ticks\":\"\"}}}],\"scattercarpet\":[{\"type\":\"scattercarpet\",\"marker\":{\"colorbar\":{\"outlinewidth\":0,\"ticks\":\"\"}}}],\"carpet\":[{\"aaxis\":{\"endlinecolor\":\"#2a3f5f\",\"gridcolor\":\"white\",\"linecolor\":\"white\",\"minorgridcolor\":\"white\",\"startlinecolor\":\"#2a3f5f\"},\"baxis\":{\"endlinecolor\":\"#2a3f5f\",\"gridcolor\":\"white\",\"linecolor\":\"white\",\"minorgridcolor\":\"white\",\"startlinecolor\":\"#2a3f5f\"},\"type\":\"carpet\"}],\"table\":[{\"cells\":{\"fill\":{\"color\":\"#EBF0F8\"},\"line\":{\"color\":\"white\"}},\"header\":{\"fill\":{\"color\":\"#C8D4E3\"},\"line\":{\"color\":\"white\"}},\"type\":\"table\"}],\"barpolar\":[{\"marker\":{\"line\":{\"color\":\"#E5ECF6\",\"width\":0.5},\"pattern\":{\"fillmode\":\"overlay\",\"size\":10,\"solidity\":0.2}},\"type\":\"barpolar\"}],\"pie\":[{\"automargin\":true,\"type\":\"pie\"}]},\"layout\":{\"autotypenumbers\":\"strict\",\"colorway\":[\"#636efa\",\"#EF553B\",\"#00cc96\",\"#ab63fa\",\"#FFA15A\",\"#19d3f3\",\"#FF6692\",\"#B6E880\",\"#FF97FF\",\"#FECB52\"],\"font\":{\"color\":\"#2a3f5f\"},\"hovermode\":\"closest\",\"hoverlabel\":{\"align\":\"left\"},\"paper_bgcolor\":\"white\",\"plot_bgcolor\":\"#E5ECF6\",\"polar\":{\"bgcolor\":\"#E5ECF6\",\"angularaxis\":{\"gridcolor\":\"white\",\"linecolor\":\"white\",\"ticks\":\"\"},\"radialaxis\":{\"gridcolor\":\"white\",\"linecolor\":\"white\",\"ticks\":\"\"}},\"ternary\":{\"bgcolor\":\"#E5ECF6\",\"aaxis\":{\"gridcolor\":\"white\",\"linecolor\":\"white\",\"ticks\":\"\"},\"baxis\":{\"gridcolor\":\"white\",\"linecolor\":\"white\",\"ticks\":\"\"},\"caxis\":{\"gridcolor\":\"white\",\"linecolor\":\"white\",\"ticks\":\"\"}},\"coloraxis\":{\"colorbar\":{\"outlinewidth\":0,\"ticks\":\"\"}},\"colorscale\":{\"sequential\":[[0.0,\"#0d0887\"],[0.1111111111111111,\"#46039f\"],[0.2222222222222222,\"#7201a8\"],[0.3333333333333333,\"#9c179e\"],[0.4444444444444444,\"#bd3786\"],[0.5555555555555556,\"#d8576b\"],[0.6666666666666666,\"#ed7953\"],[0.7777777777777778,\"#fb9f3a\"],[0.8888888888888888,\"#fdca26\"],[1.0,\"#f0f921\"]],\"sequentialminus\":[[0.0,\"#0d0887\"],[0.1111111111111111,\"#46039f\"],[0.2222222222222222,\"#7201a8\"],[0.3333333333333333,\"#9c179e\"],[0.4444444444444444,\"#bd3786\"],[0.5555555555555556,\"#d8576b\"],[0.6666666666666666,\"#ed7953\"],[0.7777777777777778,\"#fb9f3a\"],[0.8888888888888888,\"#fdca26\"],[1.0,\"#f0f921\"]],\"diverging\":[[0,\"#8e0152\"],[0.1,\"#c51b7d\"],[0.2,\"#de77ae\"],[0.3,\"#f1b6da\"],[0.4,\"#fde0ef\"],[0.5,\"#f7f7f7\"],[0.6,\"#e6f5d0\"],[0.7,\"#b8e186\"],[0.8,\"#7fbc41\"],[0.9,\"#4d9221\"],[1,\"#276419\"]]},\"xaxis\":{\"gridcolor\":\"white\",\"linecolor\":\"white\",\"ticks\":\"\",\"title\":{\"standoff\":15},\"zerolinecolor\":\"white\",\"automargin\":true,\"zerolinewidth\":2},\"yaxis\":{\"gridcolor\":\"white\",\"linecolor\":\"white\",\"ticks\":\"\",\"title\":{\"standoff\":15},\"zerolinecolor\":\"white\",\"automargin\":true,\"zerolinewidth\":2},\"scene\":{\"xaxis\":{\"backgroundcolor\":\"#E5ECF6\",\"gridcolor\":\"white\",\"linecolor\":\"white\",\"showbackground\":true,\"ticks\":\"\",\"zerolinecolor\":\"white\",\"gridwidth\":2},\"yaxis\":{\"backgroundcolor\":\"#E5ECF6\",\"gridcolor\":\"white\",\"linecolor\":\"white\",\"showbackground\":true,\"ticks\":\"\",\"zerolinecolor\":\"white\",\"gridwidth\":2},\"zaxis\":{\"backgroundcolor\":\"#E5ECF6\",\"gridcolor\":\"white\",\"linecolor\":\"white\",\"showbackground\":true,\"ticks\":\"\",\"zerolinecolor\":\"white\",\"gridwidth\":2}},\"shapedefaults\":{\"line\":{\"color\":\"#2a3f5f\"}},\"annotationdefaults\":{\"arrowcolor\":\"#2a3f5f\",\"arrowhead\":0,\"arrowwidth\":1},\"geo\":{\"bgcolor\":\"white\",\"landcolor\":\"#E5ECF6\",\"subunitcolor\":\"white\",\"showland\":true,\"showlakes\":true,\"lakecolor\":\"white\"},\"title\":{\"x\":0.05},\"mapbox\":{\"style\":\"light\"}}},\"xaxis\":{\"anchor\":\"y\",\"domain\":[0.0,1.0],\"title\":{\"text\":\"Full OV Copying Score\"}},\"yaxis\":{\"anchor\":\"x\",\"domain\":[0.0,1.0],\"title\":{\"text\":\"OV Copying Score\"}},\"legend\":{\"tracegroupgap\":0},\"title\":{\"text\":\"OV Copying Score for each head in GPT-2 Small\"}},                        {\"responsive\": true}                    ).then(function(){\n",
              "                            \n",
              "var gd = document.getElementById('3e59929d-31e9-49b1-ad1a-9d9811d4801d');\n",
              "var x = new MutationObserver(function (mutations, observer) {{\n",
              "        var display = window.getComputedStyle(gd).display;\n",
              "        if (!display || display === 'none') {{\n",
              "            console.log([gd, 'removed!']);\n",
              "            Plotly.purge(gd);\n",
              "            observer.disconnect();\n",
              "        }}\n",
              "}});\n",
              "\n",
              "// Listen for the removal of the full notebook cells\n",
              "var notebookContainer = gd.closest('#notebook-container');\n",
              "if (notebookContainer) {{\n",
              "    x.observe(notebookContainer, {childList: true});\n",
              "}}\n",
              "\n",
              "// Listen for the clearing of the current output cell\n",
              "var outputEl = gd.closest('.output');\n",
              "if (outputEl) {{\n",
              "    x.observe(outputEl, {childList: true});\n",
              "}}\n",
              "\n",
              "                        })                };                            </script>        </div>\n",
              "</body>\n",
              "</html>"
            ]
          },
          "metadata": {},
          "output_type": "display_data"
        }
      ],
      "source": [
        "scatter(x=full_OV_copying_score.flatten(), y=OV_copying_score.flatten(), hover_name=[f\"L{layer}H{head}\" for layer in range(12) for head in range(12)], title=\"OV Copying Score for each head in GPT-2 Small\", xaxis=\"Full OV Copying Score\", yaxis=\"OV Copying Score\")"
      ]
    },
    {
      "cell_type": "code",
      "execution_count": null,
      "metadata": {
        "id": "QJ93wqm5OYk9",
        "outputId": "62427c83-2abc-4f2b-aab3-6754117fbe51"
      },
      "outputs": [
        {
          "name": "stdout",
          "output_type": "stream",
          "text": [
            "Token 256 - the most common pair of ASCII characters: | t|\n",
            "De-Tokenizing the example tokens: <|endoftext|>The first thing you need to figure out is *how* things are tokenized. `model.to_str_tokens` splits a string into the tokens *as a list of substrings*, and so lets you explore what the text looks like. To demonstrate this, let's use it on this paragraph.\n"
          ]
        }
      ],
      "source": [
        "print(f\"Token 256 - the most common pair of ASCII characters: |{model.to_string(256)}|\")\n",
        "# Squeeze means to remove dimensions of length 1.\n",
        "# Here, that removes the dummy batch dimension so it's a rank 1 tensor and returns a string\n",
        "# Rank 2 tensors map to a list of strings\n",
        "print(f\"De-Tokenizing the example tokens: {model.to_string(example_text_tokens.squeeze())}\")"
      ]
    },
    {
      "cell_type": "markdown",
      "metadata": {
        "id": "a01f_oANOYk9"
      },
      "source": [
        "## Generating Text"
      ]
    },
    {
      "cell_type": "markdown",
      "metadata": {
        "id": "v_Xq7AazOYk9"
      },
      "source": [
        "TransformerLens also has basic text generation functionality, which can be useful for generally exploring what the model is capable of (thanks to Ansh Radhakrishnan for adding this!). This is pretty rough functionality, and where possible I recommend using more established libraries like HuggingFace for this."
      ]
    },
    {
      "cell_type": "code",
      "execution_count": null,
      "metadata": {
        "id": "PPnzzeOBOYk9",
        "outputId": "16e3c8a1-f7d4-4285-c742-bdf06f4678d5",
        "colab": {
          "referenced_widgets": [
            "f16e699caef243e3bd730cd876600c4a"
          ]
        }
      },
      "outputs": [
        {
          "data": {
            "application/vnd.jupyter.widget-view+json": {
              "model_id": "f16e699caef243e3bd730cd876600c4a",
              "version_major": 2,
              "version_minor": 0
            },
            "text/plain": [
              "  0%|          | 0/50 [00:00<?, ?it/s]"
            ]
          },
          "metadata": {},
          "output_type": "display_data"
        },
        {
          "data": {
            "text/plain": [
              "'(CNN) President Barack Obama caught in embarrassing new scandal\\n\\nAmerican voters who backed Hillary Clinton gave President Barack Obama a 9.5-point lead over Republican Mitt Romney in the latest CNN/ORC International poll, his lowest level since the last CNN-ORC poll in 2006.\\n\\nRepublican voters'"
            ]
          },
          "execution_count": 344,
          "metadata": {},
          "output_type": "execute_result"
        }
      ],
      "source": [
        "# NBVAL_IGNORE_OUTPUT\n",
        "model.generate(\"(CNN) President Barack Obama caught in embarrassing new scandal\\n\", max_new_tokens=50, temperature=0.7, prepend_bos=True)"
      ]
    },
    {
      "cell_type": "markdown",
      "metadata": {
        "id": "2cQFvsmPOYk9"
      },
      "source": [
        "## Hook Points\n",
        "\n",
        "The key part of TransformerLens that lets us access and edit intermediate activations are the HookPoints around every model activation. Importantly, this technique will work for *any* model architecture, not just transformers, so long as you're able to edit the model code to add in HookPoints! This is essentially a lightweight library bundled with TransformerLens that should let you take an arbitrary model and make it easier to study."
      ]
    },
    {
      "cell_type": "markdown",
      "metadata": {
        "id": "W_fkKxAJOYk9"
      },
      "source": [
        "This is implemented by having a HookPoint layer. Each transformer component has a HookPoint for every activation, which wraps around that activation. The HookPoint acts as an identity function, but has a variety of helper functions that allows us to put PyTorch hooks in to edit and access the relevant activation.\n",
        "\n",
        "There is also a `HookedRootModule` class - this is a utility class that the root module should inherit from (root module = the model we run) - it has several utility functions for using hooks well, notably `reset_hooks`, `run_with_cache` and `run_with_hooks`.\n",
        "\n",
        "The default interface is the `run_with_hooks` function on the root module, which lets us run a forwards pass on the model, and pass on a list of hooks paired with layer names to run on that pass.\n",
        "\n",
        "The syntax for a hook is `function(activation, hook)` where `activation` is the activation the hook is wrapped around, and `hook` is the `HookPoint` class the function is attached to. If the function returns a new activation or edits the activation in-place, that replaces the old one, if it returns None then the activation remains as is.\n"
      ]
    },
    {
      "cell_type": "markdown",
      "metadata": {
        "id": "H63HB-b0OYk-"
      },
      "source": [
        "### Toy Example"
      ]
    },
    {
      "cell_type": "markdown",
      "metadata": {
        "id": "3rNnR1QAOYk-"
      },
      "source": [
        "\n",
        "Here's a simple example of defining a small network with HookPoints:\n",
        "\n",
        "We define a basic network with two layers that each take a scalar input $x$, square it, and add a constant:\n",
        "$x_0=x$, $x_1=x_0^2+3$, $x_2=x_1^2-4$.\n",
        "\n",
        "We wrap the input, each layer's output, and the intermediate value of each layer (the square) in a hook point.\n",
        "\n"
      ]
    },
    {
      "cell_type": "code",
      "execution_count": null,
      "metadata": {
        "id": "ih2HD177OYk-"
      },
      "outputs": [],
      "source": [
        "\n",
        "from transformer_lens.hook_points import HookedRootModule, HookPoint\n",
        "\n",
        "\n",
        "class SquareThenAdd(nn.Module):\n",
        "    def __init__(self, offset):\n",
        "        super().__init__()\n",
        "        self.offset = nn.Parameter(torch.tensor(offset))\n",
        "        self.hook_square = HookPoint()\n",
        "\n",
        "    def forward(self, x):\n",
        "        # The hook_square doesn't change the value, but lets us access it\n",
        "        square = self.hook_square(x * x)\n",
        "        return self.offset + square\n",
        "\n",
        "\n",
        "class TwoLayerModel(HookedRootModule):\n",
        "    def __init__(self):\n",
        "        super().__init__()\n",
        "        self.layer1 = SquareThenAdd(3.0)\n",
        "        self.layer2 = SquareThenAdd(-4.0)\n",
        "        self.hook_in = HookPoint()\n",
        "        self.hook_mid = HookPoint()\n",
        "        self.hook_out = HookPoint()\n",
        "\n",
        "        # We need to call the setup function of HookedRootModule to build an\n",
        "        # internal dictionary of modules and hooks, and to give each hook a name\n",
        "        super().setup()\n",
        "\n",
        "    def forward(self, x):\n",
        "        # We wrap the input and each layer's output in a hook - they leave the\n",
        "        # value unchanged (unless there's a hook added to explicitly change it),\n",
        "        # but allow us to access it.\n",
        "        x_in = self.hook_in(x)\n",
        "        x_mid = self.hook_mid(self.layer1(x_in))\n",
        "        x_out = self.hook_out(self.layer2(x_mid))\n",
        "        return x_out\n",
        "\n",
        "\n",
        "model = TwoLayerModel()\n"
      ]
    },
    {
      "cell_type": "markdown",
      "metadata": {
        "id": "sEk_zq3KOYk-"
      },
      "source": [
        "\n",
        "We can add a cache, to save the activation at each hook point\n",
        "\n",
        "(There's a custom `run_with_cache` function on the root module as a convenience, which is a wrapper around model.forward that return model_out, cache_object - we could also manually add hooks with `run_with_hooks` that store activations in a global caching dictionary. This is often useful if we only want to store, eg, subsets or functions of some activations.)\n"
      ]
    },
    {
      "cell_type": "code",
      "execution_count": null,
      "metadata": {
        "id": "sl5cu5AROYk-",
        "outputId": "677236be-759f-4d25-dd12-4c685004ded7"
      },
      "outputs": [
        {
          "name": "stdout",
          "output_type": "stream",
          "text": [
            "Model output: 780.0\n",
            "Value cached at hook hook_in 5.0\n",
            "Value cached at hook layer1.hook_square 25.0\n",
            "Value cached at hook hook_mid 28.0\n",
            "Value cached at hook layer2.hook_square 784.0\n",
            "Value cached at hook hook_out 780.0\n"
          ]
        }
      ],
      "source": [
        "\n",
        "out, cache = model.run_with_cache(torch.tensor(5.0))\n",
        "print(\"Model output:\", out.item())\n",
        "for key in cache:\n",
        "    print(f\"Value cached at hook {key}\", cache[key].item())\n",
        "\n"
      ]
    },
    {
      "cell_type": "markdown",
      "metadata": {
        "id": "Va2H-YiZOYk-"
      },
      "source": [
        "\n",
        "We can also use hooks to intervene on activations - eg, we can set the intermediate value in layer 2 to zero to change the output to -5\n"
      ]
    },
    {
      "cell_type": "code",
      "execution_count": null,
      "metadata": {
        "id": "sVvEVarpOYk-",
        "outputId": "9f05bd20-ac12-433f-ee98-2555aeab173b"
      },
      "outputs": [
        {
          "name": "stdout",
          "output_type": "stream",
          "text": [
            "layer2.hook_square\n",
            "Output after intervening on layer2.hook_scaled -4.0\n"
          ]
        }
      ],
      "source": [
        "\n",
        "def set_to_zero_hook(tensor, hook):\n",
        "    print(hook.name)\n",
        "    return torch.tensor(0.0)\n",
        "\n",
        "\n",
        "print(\n",
        "    \"Output after intervening on layer2.hook_scaled\",\n",
        "    model.run_with_hooks(\n",
        "        torch.tensor(5.0), fwd_hooks=[(\"layer2.hook_square\", set_to_zero_hook)]\n",
        "    ).item(),\n",
        ")"
      ]
    },
    {
      "cell_type": "markdown",
      "metadata": {
        "id": "omh6-NEZOYk-"
      },
      "source": [
        "## Loading Pre-Trained Checkpoints\n",
        "\n",
        "There are a lot of interesting questions combining mechanistic interpretability and training dynamics - analysing model capabilities and the underlying circuits that make them possible, and how these change as we train the model.\n",
        "\n",
        "TransformerLens supports these by having several model families with checkpoints throughout training. `HookedTransformer.from_pretrained` can load a checkpoint of a model with the `checkpoint_index` (the label 0 to `num_checkpoints-1`) or `checkpoint_value` (the step or token number, depending on how the checkpoints were labelled)."
      ]
    },
    {
      "cell_type": "markdown",
      "metadata": {
        "id": "NBosYeokOYk_"
      },
      "source": [
        "\n",
        "Available models:\n",
        "* All of my interpretability-friendly models have checkpoints available, including:\n",
        "    * The toy models - `attn-only`, `solu`, `gelu` 1L to 4L\n",
        "        * These have ~200 checkpoints, taken on a piecewise linear schedule (more checkpoints near the start of training), up to 22B tokens. Labelled by number of tokens seen.\n",
        "    * The SoLU models trained on 80% Web Text and 20% Python Code (`solu-6l` to `solu-12l`)\n",
        "        * Same checkpoint schedule as the toy models, this time up to 30B tokens\n",
        "    * The SoLU models trained on the pile (`solu-1l-pile` to `solu-12l-pile`)\n",
        "        * These have ~100 checkpoints, taken on a linear schedule, up to 15B tokens. Labelled by number of steps.\n",
        "        * The 12L training crashed around 11B tokens, so is truncated.\n",
        "* The Stanford Centre for Research of Foundation Models trained 5 GPT-2 Small sized and 5 GPT-2 Medium sized models (`stanford-gpt2-small-a` to `e` and `stanford-gpt2-medium-a` to `e`)\n",
        "    * 600 checkpoints, taken on a piecewise linear schedule, labelled by the number of steps."
      ]
    },
    {
      "cell_type": "markdown",
      "metadata": {
        "id": "y06CI0UcOYk_"
      },
      "source": [
        "The checkpoint structure and labels is somewhat messy and ad-hoc, so I mostly recommend using the `checkpoint_index` syntax (where you can just count from 0 to the number of checkpoints) rather than `checkpoint_value` syntax (where you need to know the checkpoint schedule, and whether it was labelled with the number of tokens or steps). The helper function `get_checkpoint_labels` tells you the checkpoint schedule for a given model - ie what point was each checkpoint taken at, and what type of label was used.\n",
        "\n",
        "Here are graphs of the schedules for several checkpointed models: (note that the first 3 use a log scale, latter 2 use a linear scale)"
      ]
    },
    {
      "cell_type": "code",
      "execution_count": null,
      "metadata": {
        "id": "ZP7hwwQyOYk_",
        "outputId": "b1501481-37cd-4a32-d9a5-8d6e63cd0128"
      },
      "outputs": [
        {
          "data": {
            "text/html": [
              "<html>\n",
              "<head><meta charset=\"utf-8\" /></head>\n",
              "<body>\n",
              "    <div>            <script src=\"https://cdnjs.cloudflare.com/ajax/libs/mathjax/2.7.5/MathJax.js?config=TeX-AMS-MML_SVG\"></script><script type=\"text/javascript\">if (window.MathJax && window.MathJax.Hub && window.MathJax.Hub.Config) {window.MathJax.Hub.Config({SVG: {font: \"STIX-Web\"}});}</script>                <script type=\"text/javascript\">window.PlotlyConfig = {MathJaxConfig: 'local'};</script>\n",
              "        <script charset=\"utf-8\" src=\"https://cdn.plot.ly/plotly-2.26.0.min.js\"></script>                <div id=\"9670aaf8-c497-4268-aefd-f91bf035117f\" class=\"plotly-graph-div\" style=\"height:525px; width:100%;\"></div>            <script type=\"text/javascript\">                                    window.PLOTLYENV=window.PLOTLYENV || {};                                    if (document.getElementById(\"9670aaf8-c497-4268-aefd-f91bf035117f\")) {                    Plotly.newPlot(                        \"9670aaf8-c497-4268-aefd-f91bf035117f\",                        [{\"hovertemplate\":\"variable=0\\u003cbr\\u003eindex=%{x}\\u003cbr\\u003evalue=%{y}\\u003cextra\\u003e\\u003c\\u002fextra\\u003e\",\"legendgroup\":\"0\",\"line\":{\"color\":\"#636efa\",\"dash\":\"solid\"},\"marker\":{\"symbol\":\"circle\"},\"mode\":\"lines+markers\",\"name\":\"0\",\"orientation\":\"v\",\"showlegend\":true,\"x\":[0,1,2,3,4,5,6,7,8,9,10,11,12,13,14,15,16,17,18,19,20,21,22,23,24,25,26,27,28,29,30,31,32,33,34,35,36,37,38,39,40,41,42,43,44,45,46,47,48,49,50,51,52,53,54,55,56,57,58,59,60,61,62,63,64,65,66,67,68,69,70,71,72,73,74,75,76,77,78,79,80,81,82,83,84,85,86,87,88,89,90,91,92,93,94,95,96,97,98,99,100,101,102,103,104,105,106,107,108,109,110,111,112,113,114,115,116,117,118,119,120,121,122,123,124,125,126,127,128,129,130,131,132,133,134,135,136,137,138,139,140,141,142,143,144,145,146,147,148,149,150,151,152,153,154,155,156,157,158,159,160,161,162],\"xaxis\":\"x\",\"y\":[262144,2621440,4718592,7077888,9175040,11272192,13631488,15728640,18087936,20185088,22282240,33292288,44302336,55312384,66322432,77332480,88342528,99352576,110362624,121372672,132382720,143392768,154402816,165412864,176422912,187432960,198443008,209453056,220463104,264503296,308281344,352321536,396361728,440401920,484442112,528482304,572522496,616300544,660340736,704380928,748421120,792461312,836501504,880279552,924319744,968359936,1012400128,1056440320,1100480512,1144520704,1188298752,1232338944,1276379136,1320419328,1364459520,1408499712,1452277760,1496317952,1540358144,1584398336,1628438528,1672478720,1716518912,1760296960,1804337152,1848377344,1892417536,1936457728,1980497920,2024275968,2068316160,2112356352,2156396544,2200436736,2420375552,2640314368,2860515328,3080454144,3300392960,3520331776,3740270592,3960471552,4180410368,4400349184,4620288000,4840488960,5060427776,5280366592,5500305408,5720506368,5940445184,6160384000,6380322816,6600523776,6820462592,7040401408,7260340224,7480279040,7700480000,7920418816,8140357632,8360296448,8580497408,8800436224,9020375040,9240313856,9460514816,9680453632,9900392448,10120331264,10340270080,10560471040,10780409856,11000348672,11220287488,11440488448,11660427264,11880366080,12100304896,12320505856,12540444672,12760383488,12980322304,13200523264,13420462080,13640400896,13860339712,14080278528,14300479488,14520418304,14740357120,14960295936,15180496896,15400435712,15620374528,15840313344,16060514304,16280453120,16500391936,16720330752,16940269568,17160470528,17380409344,17600348160,17820286976,18040487936,18260426752,18480365568,18700304384,18920505344,19140444160,19360382976,19580321792,19800522752,20020461568,20240400384,20460339200,20680278016,20900478976,21120417792,21340356608,21560295424,21780496384],\"yaxis\":\"y\",\"type\":\"scatter\"}],                        {\"template\":{\"data\":{\"histogram2dcontour\":[{\"type\":\"histogram2dcontour\",\"colorbar\":{\"outlinewidth\":0,\"ticks\":\"\"},\"colorscale\":[[0.0,\"#0d0887\"],[0.1111111111111111,\"#46039f\"],[0.2222222222222222,\"#7201a8\"],[0.3333333333333333,\"#9c179e\"],[0.4444444444444444,\"#bd3786\"],[0.5555555555555556,\"#d8576b\"],[0.6666666666666666,\"#ed7953\"],[0.7777777777777778,\"#fb9f3a\"],[0.8888888888888888,\"#fdca26\"],[1.0,\"#f0f921\"]]}],\"choropleth\":[{\"type\":\"choropleth\",\"colorbar\":{\"outlinewidth\":0,\"ticks\":\"\"}}],\"histogram2d\":[{\"type\":\"histogram2d\",\"colorbar\":{\"outlinewidth\":0,\"ticks\":\"\"},\"colorscale\":[[0.0,\"#0d0887\"],[0.1111111111111111,\"#46039f\"],[0.2222222222222222,\"#7201a8\"],[0.3333333333333333,\"#9c179e\"],[0.4444444444444444,\"#bd3786\"],[0.5555555555555556,\"#d8576b\"],[0.6666666666666666,\"#ed7953\"],[0.7777777777777778,\"#fb9f3a\"],[0.8888888888888888,\"#fdca26\"],[1.0,\"#f0f921\"]]}],\"heatmap\":[{\"type\":\"heatmap\",\"colorbar\":{\"outlinewidth\":0,\"ticks\":\"\"},\"colorscale\":[[0.0,\"#0d0887\"],[0.1111111111111111,\"#46039f\"],[0.2222222222222222,\"#7201a8\"],[0.3333333333333333,\"#9c179e\"],[0.4444444444444444,\"#bd3786\"],[0.5555555555555556,\"#d8576b\"],[0.6666666666666666,\"#ed7953\"],[0.7777777777777778,\"#fb9f3a\"],[0.8888888888888888,\"#fdca26\"],[1.0,\"#f0f921\"]]}],\"heatmapgl\":[{\"type\":\"heatmapgl\",\"colorbar\":{\"outlinewidth\":0,\"ticks\":\"\"},\"colorscale\":[[0.0,\"#0d0887\"],[0.1111111111111111,\"#46039f\"],[0.2222222222222222,\"#7201a8\"],[0.3333333333333333,\"#9c179e\"],[0.4444444444444444,\"#bd3786\"],[0.5555555555555556,\"#d8576b\"],[0.6666666666666666,\"#ed7953\"],[0.7777777777777778,\"#fb9f3a\"],[0.8888888888888888,\"#fdca26\"],[1.0,\"#f0f921\"]]}],\"contourcarpet\":[{\"type\":\"contourcarpet\",\"colorbar\":{\"outlinewidth\":0,\"ticks\":\"\"}}],\"contour\":[{\"type\":\"contour\",\"colorbar\":{\"outlinewidth\":0,\"ticks\":\"\"},\"colorscale\":[[0.0,\"#0d0887\"],[0.1111111111111111,\"#46039f\"],[0.2222222222222222,\"#7201a8\"],[0.3333333333333333,\"#9c179e\"],[0.4444444444444444,\"#bd3786\"],[0.5555555555555556,\"#d8576b\"],[0.6666666666666666,\"#ed7953\"],[0.7777777777777778,\"#fb9f3a\"],[0.8888888888888888,\"#fdca26\"],[1.0,\"#f0f921\"]]}],\"surface\":[{\"type\":\"surface\",\"colorbar\":{\"outlinewidth\":0,\"ticks\":\"\"},\"colorscale\":[[0.0,\"#0d0887\"],[0.1111111111111111,\"#46039f\"],[0.2222222222222222,\"#7201a8\"],[0.3333333333333333,\"#9c179e\"],[0.4444444444444444,\"#bd3786\"],[0.5555555555555556,\"#d8576b\"],[0.6666666666666666,\"#ed7953\"],[0.7777777777777778,\"#fb9f3a\"],[0.8888888888888888,\"#fdca26\"],[1.0,\"#f0f921\"]]}],\"mesh3d\":[{\"type\":\"mesh3d\",\"colorbar\":{\"outlinewidth\":0,\"ticks\":\"\"}}],\"scatter\":[{\"fillpattern\":{\"fillmode\":\"overlay\",\"size\":10,\"solidity\":0.2},\"type\":\"scatter\"}],\"parcoords\":[{\"type\":\"parcoords\",\"line\":{\"colorbar\":{\"outlinewidth\":0,\"ticks\":\"\"}}}],\"scatterpolargl\":[{\"type\":\"scatterpolargl\",\"marker\":{\"colorbar\":{\"outlinewidth\":0,\"ticks\":\"\"}}}],\"bar\":[{\"error_x\":{\"color\":\"#2a3f5f\"},\"error_y\":{\"color\":\"#2a3f5f\"},\"marker\":{\"line\":{\"color\":\"#E5ECF6\",\"width\":0.5},\"pattern\":{\"fillmode\":\"overlay\",\"size\":10,\"solidity\":0.2}},\"type\":\"bar\"}],\"scattergeo\":[{\"type\":\"scattergeo\",\"marker\":{\"colorbar\":{\"outlinewidth\":0,\"ticks\":\"\"}}}],\"scatterpolar\":[{\"type\":\"scatterpolar\",\"marker\":{\"colorbar\":{\"outlinewidth\":0,\"ticks\":\"\"}}}],\"histogram\":[{\"marker\":{\"pattern\":{\"fillmode\":\"overlay\",\"size\":10,\"solidity\":0.2}},\"type\":\"histogram\"}],\"scattergl\":[{\"type\":\"scattergl\",\"marker\":{\"colorbar\":{\"outlinewidth\":0,\"ticks\":\"\"}}}],\"scatter3d\":[{\"type\":\"scatter3d\",\"line\":{\"colorbar\":{\"outlinewidth\":0,\"ticks\":\"\"}},\"marker\":{\"colorbar\":{\"outlinewidth\":0,\"ticks\":\"\"}}}],\"scattermapbox\":[{\"type\":\"scattermapbox\",\"marker\":{\"colorbar\":{\"outlinewidth\":0,\"ticks\":\"\"}}}],\"scatterternary\":[{\"type\":\"scatterternary\",\"marker\":{\"colorbar\":{\"outlinewidth\":0,\"ticks\":\"\"}}}],\"scattercarpet\":[{\"type\":\"scattercarpet\",\"marker\":{\"colorbar\":{\"outlinewidth\":0,\"ticks\":\"\"}}}],\"carpet\":[{\"aaxis\":{\"endlinecolor\":\"#2a3f5f\",\"gridcolor\":\"white\",\"linecolor\":\"white\",\"minorgridcolor\":\"white\",\"startlinecolor\":\"#2a3f5f\"},\"baxis\":{\"endlinecolor\":\"#2a3f5f\",\"gridcolor\":\"white\",\"linecolor\":\"white\",\"minorgridcolor\":\"white\",\"startlinecolor\":\"#2a3f5f\"},\"type\":\"carpet\"}],\"table\":[{\"cells\":{\"fill\":{\"color\":\"#EBF0F8\"},\"line\":{\"color\":\"white\"}},\"header\":{\"fill\":{\"color\":\"#C8D4E3\"},\"line\":{\"color\":\"white\"}},\"type\":\"table\"}],\"barpolar\":[{\"marker\":{\"line\":{\"color\":\"#E5ECF6\",\"width\":0.5},\"pattern\":{\"fillmode\":\"overlay\",\"size\":10,\"solidity\":0.2}},\"type\":\"barpolar\"}],\"pie\":[{\"automargin\":true,\"type\":\"pie\"}]},\"layout\":{\"autotypenumbers\":\"strict\",\"colorway\":[\"#636efa\",\"#EF553B\",\"#00cc96\",\"#ab63fa\",\"#FFA15A\",\"#19d3f3\",\"#FF6692\",\"#B6E880\",\"#FF97FF\",\"#FECB52\"],\"font\":{\"color\":\"#2a3f5f\"},\"hovermode\":\"closest\",\"hoverlabel\":{\"align\":\"left\"},\"paper_bgcolor\":\"white\",\"plot_bgcolor\":\"#E5ECF6\",\"polar\":{\"bgcolor\":\"#E5ECF6\",\"angularaxis\":{\"gridcolor\":\"white\",\"linecolor\":\"white\",\"ticks\":\"\"},\"radialaxis\":{\"gridcolor\":\"white\",\"linecolor\":\"white\",\"ticks\":\"\"}},\"ternary\":{\"bgcolor\":\"#E5ECF6\",\"aaxis\":{\"gridcolor\":\"white\",\"linecolor\":\"white\",\"ticks\":\"\"},\"baxis\":{\"gridcolor\":\"white\",\"linecolor\":\"white\",\"ticks\":\"\"},\"caxis\":{\"gridcolor\":\"white\",\"linecolor\":\"white\",\"ticks\":\"\"}},\"coloraxis\":{\"colorbar\":{\"outlinewidth\":0,\"ticks\":\"\"}},\"colorscale\":{\"sequential\":[[0.0,\"#0d0887\"],[0.1111111111111111,\"#46039f\"],[0.2222222222222222,\"#7201a8\"],[0.3333333333333333,\"#9c179e\"],[0.4444444444444444,\"#bd3786\"],[0.5555555555555556,\"#d8576b\"],[0.6666666666666666,\"#ed7953\"],[0.7777777777777778,\"#fb9f3a\"],[0.8888888888888888,\"#fdca26\"],[1.0,\"#f0f921\"]],\"sequentialminus\":[[0.0,\"#0d0887\"],[0.1111111111111111,\"#46039f\"],[0.2222222222222222,\"#7201a8\"],[0.3333333333333333,\"#9c179e\"],[0.4444444444444444,\"#bd3786\"],[0.5555555555555556,\"#d8576b\"],[0.6666666666666666,\"#ed7953\"],[0.7777777777777778,\"#fb9f3a\"],[0.8888888888888888,\"#fdca26\"],[1.0,\"#f0f921\"]],\"diverging\":[[0,\"#8e0152\"],[0.1,\"#c51b7d\"],[0.2,\"#de77ae\"],[0.3,\"#f1b6da\"],[0.4,\"#fde0ef\"],[0.5,\"#f7f7f7\"],[0.6,\"#e6f5d0\"],[0.7,\"#b8e186\"],[0.8,\"#7fbc41\"],[0.9,\"#4d9221\"],[1,\"#276419\"]]},\"xaxis\":{\"gridcolor\":\"white\",\"linecolor\":\"white\",\"ticks\":\"\",\"title\":{\"standoff\":15},\"zerolinecolor\":\"white\",\"automargin\":true,\"zerolinewidth\":2},\"yaxis\":{\"gridcolor\":\"white\",\"linecolor\":\"white\",\"ticks\":\"\",\"title\":{\"standoff\":15},\"zerolinecolor\":\"white\",\"automargin\":true,\"zerolinewidth\":2},\"scene\":{\"xaxis\":{\"backgroundcolor\":\"#E5ECF6\",\"gridcolor\":\"white\",\"linecolor\":\"white\",\"showbackground\":true,\"ticks\":\"\",\"zerolinecolor\":\"white\",\"gridwidth\":2},\"yaxis\":{\"backgroundcolor\":\"#E5ECF6\",\"gridcolor\":\"white\",\"linecolor\":\"white\",\"showbackground\":true,\"ticks\":\"\",\"zerolinecolor\":\"white\",\"gridwidth\":2},\"zaxis\":{\"backgroundcolor\":\"#E5ECF6\",\"gridcolor\":\"white\",\"linecolor\":\"white\",\"showbackground\":true,\"ticks\":\"\",\"zerolinecolor\":\"white\",\"gridwidth\":2}},\"shapedefaults\":{\"line\":{\"color\":\"#2a3f5f\"}},\"annotationdefaults\":{\"arrowcolor\":\"#2a3f5f\",\"arrowhead\":0,\"arrowwidth\":1},\"geo\":{\"bgcolor\":\"white\",\"landcolor\":\"#E5ECF6\",\"subunitcolor\":\"white\",\"showland\":true,\"showlakes\":true,\"lakecolor\":\"white\"},\"title\":{\"x\":0.05},\"mapbox\":{\"style\":\"light\"}}},\"xaxis\":{\"anchor\":\"y\",\"domain\":[0.0,1.0],\"title\":{\"text\":\"index\"}},\"yaxis\":{\"anchor\":\"x\",\"domain\":[0.0,1.0],\"title\":{\"text\":\"value\"},\"type\":\"log\"},\"legend\":{\"title\":{\"text\":\"variable\"},\"tracegroupgap\":0},\"title\":{\"text\":\"Checkpoint Values for attn-only-2l (Log scale)\"}},                        {\"responsive\": true}                    ).then(function(){\n",
              "                            \n",
              "var gd = document.getElementById('9670aaf8-c497-4268-aefd-f91bf035117f');\n",
              "var x = new MutationObserver(function (mutations, observer) {{\n",
              "        var display = window.getComputedStyle(gd).display;\n",
              "        if (!display || display === 'none') {{\n",
              "            console.log([gd, 'removed!']);\n",
              "            Plotly.purge(gd);\n",
              "            observer.disconnect();\n",
              "        }}\n",
              "}});\n",
              "\n",
              "// Listen for the removal of the full notebook cells\n",
              "var notebookContainer = gd.closest('#notebook-container');\n",
              "if (notebookContainer) {{\n",
              "    x.observe(notebookContainer, {childList: true});\n",
              "}}\n",
              "\n",
              "// Listen for the clearing of the current output cell\n",
              "var outputEl = gd.closest('.output');\n",
              "if (outputEl) {{\n",
              "    x.observe(outputEl, {childList: true});\n",
              "}}\n",
              "\n",
              "                        })                };                            </script>        </div>\n",
              "</body>\n",
              "</html>"
            ]
          },
          "metadata": {},
          "output_type": "display_data"
        },
        {
          "data": {
            "text/html": [
              "<html>\n",
              "<head><meta charset=\"utf-8\" /></head>\n",
              "<body>\n",
              "    <div>            <script src=\"https://cdnjs.cloudflare.com/ajax/libs/mathjax/2.7.5/MathJax.js?config=TeX-AMS-MML_SVG\"></script><script type=\"text/javascript\">if (window.MathJax && window.MathJax.Hub && window.MathJax.Hub.Config) {window.MathJax.Hub.Config({SVG: {font: \"STIX-Web\"}});}</script>                <script type=\"text/javascript\">window.PlotlyConfig = {MathJaxConfig: 'local'};</script>\n",
              "        <script charset=\"utf-8\" src=\"https://cdn.plot.ly/plotly-2.26.0.min.js\"></script>                <div id=\"87db2943-c842-478c-8c64-5289a60ba868\" class=\"plotly-graph-div\" style=\"height:525px; width:100%;\"></div>            <script type=\"text/javascript\">                                    window.PLOTLYENV=window.PLOTLYENV || {};                                    if (document.getElementById(\"87db2943-c842-478c-8c64-5289a60ba868\")) {                    Plotly.newPlot(                        \"87db2943-c842-478c-8c64-5289a60ba868\",                        [{\"hovertemplate\":\"variable=0\\u003cbr\\u003eindex=%{x}\\u003cbr\\u003evalue=%{y}\\u003cextra\\u003e\\u003c\\u002fextra\\u003e\",\"legendgroup\":\"0\",\"line\":{\"color\":\"#636efa\",\"dash\":\"solid\"},\"marker\":{\"symbol\":\"circle\"},\"mode\":\"lines+markers\",\"name\":\"0\",\"orientation\":\"v\",\"showlegend\":true,\"x\":[0,1,2,3,4,5,6,7,8,9,10,11,12,13,14,15,16,17,18,19,20,21,22,23,24,25,26,27,28,29,30,31,32,33,34,35,36,37,38,39,40,41,42,43,44,45,46,47,48,49,50,51,52,53,54,55,56,57,58,59,60,61,62,63,64,65,66,67,68,69,70,71,72,73,74,75,76,77,78,79,80,81,82,83,84,85,86,87,88,89,90,91,92,93,94,95,96,97,98,99,100,101,102,103,104,105,106,107,108,109,110,111,112,113,114,115,116,117,118,119,120,121,122,123,124,125,126,127,128,129,130,131,132,133,134,135,136,137,138,139,140,141,142,143,144,145,146,147,148,149,150,151,152,153,154,155,156,157,158,159,160,161,162],\"xaxis\":\"x\",\"y\":[196608,3342336,6291456,9240576,12386304,15335424,18284544,21233664,24379392,27328512,30277632,45219840,60358656,75300864,90243072,105381888,120324096,135266304,150208512,165347328,180289536,195231744,210370560,225312768,240254976,255197184,270336000,285278208,300220416,360382464,420347904,480313344,540278784,600244224,660209664,720371712,780337152,840302592,900268032,960233472,1020198912,1080360960,1140326400,1200291840,1260257280,1320222720,1380384768,1440350208,1500315648,1560281088,1620246528,1680211968,1740374016,1800339456,1860304896,1920270336,1980235776,2040201216,2100363264,2160328704,2220294144,2280259584,2340225024,2400387072,2460352512,2520317952,2580283392,2640248832,2700214272,2760376320,2820341760,2880307200,2940272640,3000238080,3300261888,3600285696,3900309504,4200333312,4500357120,4800380928,5100208128,5400231936,5700255744,6000279552,6300303360,6600327168,6900350976,7200374784,7500201984,7800225792,8100249600,8400273408,8700297216,9000321024,9300344832,9600368640,9900392448,10200219648,10500243456,10800267264,11100291072,11400314880,11700338688,12000362496,12300386304,12600213504,12900237312,13200261120,13500284928,13800308736,14100332544,14400356352,14700380160,15000207360,15300231168,15600254976,15900278784,16200302592,16500326400,16800350208,17100374016,17400201216,17700225024,18000248832,18300272640,18600296448,18900320256,19200344064,19500367872,19800391680,20100218880,20400242688,20700266496,21000290304,21300314112,21600337920,21900361728,22200385536,22500212736,22800236544,23100260352,23400284160,23700307968,24000331776,24300355584,24600379392,24900206592,25200230400,25500254208,25800278016,26100301824,26400325632,26700349440,27000373248,27300200448,27600224256,27900248064,28200271872,28500295680,28800319488,29100343296,29400367104,29700390912],\"yaxis\":\"y\",\"type\":\"scatter\"}],                        {\"template\":{\"data\":{\"histogram2dcontour\":[{\"type\":\"histogram2dcontour\",\"colorbar\":{\"outlinewidth\":0,\"ticks\":\"\"},\"colorscale\":[[0.0,\"#0d0887\"],[0.1111111111111111,\"#46039f\"],[0.2222222222222222,\"#7201a8\"],[0.3333333333333333,\"#9c179e\"],[0.4444444444444444,\"#bd3786\"],[0.5555555555555556,\"#d8576b\"],[0.6666666666666666,\"#ed7953\"],[0.7777777777777778,\"#fb9f3a\"],[0.8888888888888888,\"#fdca26\"],[1.0,\"#f0f921\"]]}],\"choropleth\":[{\"type\":\"choropleth\",\"colorbar\":{\"outlinewidth\":0,\"ticks\":\"\"}}],\"histogram2d\":[{\"type\":\"histogram2d\",\"colorbar\":{\"outlinewidth\":0,\"ticks\":\"\"},\"colorscale\":[[0.0,\"#0d0887\"],[0.1111111111111111,\"#46039f\"],[0.2222222222222222,\"#7201a8\"],[0.3333333333333333,\"#9c179e\"],[0.4444444444444444,\"#bd3786\"],[0.5555555555555556,\"#d8576b\"],[0.6666666666666666,\"#ed7953\"],[0.7777777777777778,\"#fb9f3a\"],[0.8888888888888888,\"#fdca26\"],[1.0,\"#f0f921\"]]}],\"heatmap\":[{\"type\":\"heatmap\",\"colorbar\":{\"outlinewidth\":0,\"ticks\":\"\"},\"colorscale\":[[0.0,\"#0d0887\"],[0.1111111111111111,\"#46039f\"],[0.2222222222222222,\"#7201a8\"],[0.3333333333333333,\"#9c179e\"],[0.4444444444444444,\"#bd3786\"],[0.5555555555555556,\"#d8576b\"],[0.6666666666666666,\"#ed7953\"],[0.7777777777777778,\"#fb9f3a\"],[0.8888888888888888,\"#fdca26\"],[1.0,\"#f0f921\"]]}],\"heatmapgl\":[{\"type\":\"heatmapgl\",\"colorbar\":{\"outlinewidth\":0,\"ticks\":\"\"},\"colorscale\":[[0.0,\"#0d0887\"],[0.1111111111111111,\"#46039f\"],[0.2222222222222222,\"#7201a8\"],[0.3333333333333333,\"#9c179e\"],[0.4444444444444444,\"#bd3786\"],[0.5555555555555556,\"#d8576b\"],[0.6666666666666666,\"#ed7953\"],[0.7777777777777778,\"#fb9f3a\"],[0.8888888888888888,\"#fdca26\"],[1.0,\"#f0f921\"]]}],\"contourcarpet\":[{\"type\":\"contourcarpet\",\"colorbar\":{\"outlinewidth\":0,\"ticks\":\"\"}}],\"contour\":[{\"type\":\"contour\",\"colorbar\":{\"outlinewidth\":0,\"ticks\":\"\"},\"colorscale\":[[0.0,\"#0d0887\"],[0.1111111111111111,\"#46039f\"],[0.2222222222222222,\"#7201a8\"],[0.3333333333333333,\"#9c179e\"],[0.4444444444444444,\"#bd3786\"],[0.5555555555555556,\"#d8576b\"],[0.6666666666666666,\"#ed7953\"],[0.7777777777777778,\"#fb9f3a\"],[0.8888888888888888,\"#fdca26\"],[1.0,\"#f0f921\"]]}],\"surface\":[{\"type\":\"surface\",\"colorbar\":{\"outlinewidth\":0,\"ticks\":\"\"},\"colorscale\":[[0.0,\"#0d0887\"],[0.1111111111111111,\"#46039f\"],[0.2222222222222222,\"#7201a8\"],[0.3333333333333333,\"#9c179e\"],[0.4444444444444444,\"#bd3786\"],[0.5555555555555556,\"#d8576b\"],[0.6666666666666666,\"#ed7953\"],[0.7777777777777778,\"#fb9f3a\"],[0.8888888888888888,\"#fdca26\"],[1.0,\"#f0f921\"]]}],\"mesh3d\":[{\"type\":\"mesh3d\",\"colorbar\":{\"outlinewidth\":0,\"ticks\":\"\"}}],\"scatter\":[{\"fillpattern\":{\"fillmode\":\"overlay\",\"size\":10,\"solidity\":0.2},\"type\":\"scatter\"}],\"parcoords\":[{\"type\":\"parcoords\",\"line\":{\"colorbar\":{\"outlinewidth\":0,\"ticks\":\"\"}}}],\"scatterpolargl\":[{\"type\":\"scatterpolargl\",\"marker\":{\"colorbar\":{\"outlinewidth\":0,\"ticks\":\"\"}}}],\"bar\":[{\"error_x\":{\"color\":\"#2a3f5f\"},\"error_y\":{\"color\":\"#2a3f5f\"},\"marker\":{\"line\":{\"color\":\"#E5ECF6\",\"width\":0.5},\"pattern\":{\"fillmode\":\"overlay\",\"size\":10,\"solidity\":0.2}},\"type\":\"bar\"}],\"scattergeo\":[{\"type\":\"scattergeo\",\"marker\":{\"colorbar\":{\"outlinewidth\":0,\"ticks\":\"\"}}}],\"scatterpolar\":[{\"type\":\"scatterpolar\",\"marker\":{\"colorbar\":{\"outlinewidth\":0,\"ticks\":\"\"}}}],\"histogram\":[{\"marker\":{\"pattern\":{\"fillmode\":\"overlay\",\"size\":10,\"solidity\":0.2}},\"type\":\"histogram\"}],\"scattergl\":[{\"type\":\"scattergl\",\"marker\":{\"colorbar\":{\"outlinewidth\":0,\"ticks\":\"\"}}}],\"scatter3d\":[{\"type\":\"scatter3d\",\"line\":{\"colorbar\":{\"outlinewidth\":0,\"ticks\":\"\"}},\"marker\":{\"colorbar\":{\"outlinewidth\":0,\"ticks\":\"\"}}}],\"scattermapbox\":[{\"type\":\"scattermapbox\",\"marker\":{\"colorbar\":{\"outlinewidth\":0,\"ticks\":\"\"}}}],\"scatterternary\":[{\"type\":\"scatterternary\",\"marker\":{\"colorbar\":{\"outlinewidth\":0,\"ticks\":\"\"}}}],\"scattercarpet\":[{\"type\":\"scattercarpet\",\"marker\":{\"colorbar\":{\"outlinewidth\":0,\"ticks\":\"\"}}}],\"carpet\":[{\"aaxis\":{\"endlinecolor\":\"#2a3f5f\",\"gridcolor\":\"white\",\"linecolor\":\"white\",\"minorgridcolor\":\"white\",\"startlinecolor\":\"#2a3f5f\"},\"baxis\":{\"endlinecolor\":\"#2a3f5f\",\"gridcolor\":\"white\",\"linecolor\":\"white\",\"minorgridcolor\":\"white\",\"startlinecolor\":\"#2a3f5f\"},\"type\":\"carpet\"}],\"table\":[{\"cells\":{\"fill\":{\"color\":\"#EBF0F8\"},\"line\":{\"color\":\"white\"}},\"header\":{\"fill\":{\"color\":\"#C8D4E3\"},\"line\":{\"color\":\"white\"}},\"type\":\"table\"}],\"barpolar\":[{\"marker\":{\"line\":{\"color\":\"#E5ECF6\",\"width\":0.5},\"pattern\":{\"fillmode\":\"overlay\",\"size\":10,\"solidity\":0.2}},\"type\":\"barpolar\"}],\"pie\":[{\"automargin\":true,\"type\":\"pie\"}]},\"layout\":{\"autotypenumbers\":\"strict\",\"colorway\":[\"#636efa\",\"#EF553B\",\"#00cc96\",\"#ab63fa\",\"#FFA15A\",\"#19d3f3\",\"#FF6692\",\"#B6E880\",\"#FF97FF\",\"#FECB52\"],\"font\":{\"color\":\"#2a3f5f\"},\"hovermode\":\"closest\",\"hoverlabel\":{\"align\":\"left\"},\"paper_bgcolor\":\"white\",\"plot_bgcolor\":\"#E5ECF6\",\"polar\":{\"bgcolor\":\"#E5ECF6\",\"angularaxis\":{\"gridcolor\":\"white\",\"linecolor\":\"white\",\"ticks\":\"\"},\"radialaxis\":{\"gridcolor\":\"white\",\"linecolor\":\"white\",\"ticks\":\"\"}},\"ternary\":{\"bgcolor\":\"#E5ECF6\",\"aaxis\":{\"gridcolor\":\"white\",\"linecolor\":\"white\",\"ticks\":\"\"},\"baxis\":{\"gridcolor\":\"white\",\"linecolor\":\"white\",\"ticks\":\"\"},\"caxis\":{\"gridcolor\":\"white\",\"linecolor\":\"white\",\"ticks\":\"\"}},\"coloraxis\":{\"colorbar\":{\"outlinewidth\":0,\"ticks\":\"\"}},\"colorscale\":{\"sequential\":[[0.0,\"#0d0887\"],[0.1111111111111111,\"#46039f\"],[0.2222222222222222,\"#7201a8\"],[0.3333333333333333,\"#9c179e\"],[0.4444444444444444,\"#bd3786\"],[0.5555555555555556,\"#d8576b\"],[0.6666666666666666,\"#ed7953\"],[0.7777777777777778,\"#fb9f3a\"],[0.8888888888888888,\"#fdca26\"],[1.0,\"#f0f921\"]],\"sequentialminus\":[[0.0,\"#0d0887\"],[0.1111111111111111,\"#46039f\"],[0.2222222222222222,\"#7201a8\"],[0.3333333333333333,\"#9c179e\"],[0.4444444444444444,\"#bd3786\"],[0.5555555555555556,\"#d8576b\"],[0.6666666666666666,\"#ed7953\"],[0.7777777777777778,\"#fb9f3a\"],[0.8888888888888888,\"#fdca26\"],[1.0,\"#f0f921\"]],\"diverging\":[[0,\"#8e0152\"],[0.1,\"#c51b7d\"],[0.2,\"#de77ae\"],[0.3,\"#f1b6da\"],[0.4,\"#fde0ef\"],[0.5,\"#f7f7f7\"],[0.6,\"#e6f5d0\"],[0.7,\"#b8e186\"],[0.8,\"#7fbc41\"],[0.9,\"#4d9221\"],[1,\"#276419\"]]},\"xaxis\":{\"gridcolor\":\"white\",\"linecolor\":\"white\",\"ticks\":\"\",\"title\":{\"standoff\":15},\"zerolinecolor\":\"white\",\"automargin\":true,\"zerolinewidth\":2},\"yaxis\":{\"gridcolor\":\"white\",\"linecolor\":\"white\",\"ticks\":\"\",\"title\":{\"standoff\":15},\"zerolinecolor\":\"white\",\"automargin\":true,\"zerolinewidth\":2},\"scene\":{\"xaxis\":{\"backgroundcolor\":\"#E5ECF6\",\"gridcolor\":\"white\",\"linecolor\":\"white\",\"showbackground\":true,\"ticks\":\"\",\"zerolinecolor\":\"white\",\"gridwidth\":2},\"yaxis\":{\"backgroundcolor\":\"#E5ECF6\",\"gridcolor\":\"white\",\"linecolor\":\"white\",\"showbackground\":true,\"ticks\":\"\",\"zerolinecolor\":\"white\",\"gridwidth\":2},\"zaxis\":{\"backgroundcolor\":\"#E5ECF6\",\"gridcolor\":\"white\",\"linecolor\":\"white\",\"showbackground\":true,\"ticks\":\"\",\"zerolinecolor\":\"white\",\"gridwidth\":2}},\"shapedefaults\":{\"line\":{\"color\":\"#2a3f5f\"}},\"annotationdefaults\":{\"arrowcolor\":\"#2a3f5f\",\"arrowhead\":0,\"arrowwidth\":1},\"geo\":{\"bgcolor\":\"white\",\"landcolor\":\"#E5ECF6\",\"subunitcolor\":\"white\",\"showland\":true,\"showlakes\":true,\"lakecolor\":\"white\"},\"title\":{\"x\":0.05},\"mapbox\":{\"style\":\"light\"}}},\"xaxis\":{\"anchor\":\"y\",\"domain\":[0.0,1.0],\"title\":{\"text\":\"index\"}},\"yaxis\":{\"anchor\":\"x\",\"domain\":[0.0,1.0],\"title\":{\"text\":\"value\"},\"type\":\"log\"},\"legend\":{\"title\":{\"text\":\"variable\"},\"tracegroupgap\":0},\"title\":{\"text\":\"Checkpoint Values for solu-12l (Log scale)\"}},                        {\"responsive\": true}                    ).then(function(){\n",
              "                            \n",
              "var gd = document.getElementById('87db2943-c842-478c-8c64-5289a60ba868');\n",
              "var x = new MutationObserver(function (mutations, observer) {{\n",
              "        var display = window.getComputedStyle(gd).display;\n",
              "        if (!display || display === 'none') {{\n",
              "            console.log([gd, 'removed!']);\n",
              "            Plotly.purge(gd);\n",
              "            observer.disconnect();\n",
              "        }}\n",
              "}});\n",
              "\n",
              "// Listen for the removal of the full notebook cells\n",
              "var notebookContainer = gd.closest('#notebook-container');\n",
              "if (notebookContainer) {{\n",
              "    x.observe(notebookContainer, {childList: true});\n",
              "}}\n",
              "\n",
              "// Listen for the clearing of the current output cell\n",
              "var outputEl = gd.closest('.output');\n",
              "if (outputEl) {{\n",
              "    x.observe(outputEl, {childList: true});\n",
              "}}\n",
              "\n",
              "                        })                };                            </script>        </div>\n",
              "</body>\n",
              "</html>"
            ]
          },
          "metadata": {},
          "output_type": "display_data"
        },
        {
          "data": {
            "text/html": [
              "<html>\n",
              "<head><meta charset=\"utf-8\" /></head>\n",
              "<body>\n",
              "    <div>            <script src=\"https://cdnjs.cloudflare.com/ajax/libs/mathjax/2.7.5/MathJax.js?config=TeX-AMS-MML_SVG\"></script><script type=\"text/javascript\">if (window.MathJax && window.MathJax.Hub && window.MathJax.Hub.Config) {window.MathJax.Hub.Config({SVG: {font: \"STIX-Web\"}});}</script>                <script type=\"text/javascript\">window.PlotlyConfig = {MathJaxConfig: 'local'};</script>\n",
              "        <script charset=\"utf-8\" src=\"https://cdn.plot.ly/plotly-2.26.0.min.js\"></script>                <div id=\"a5b83399-2637-48e9-980b-098ce30dc2fd\" class=\"plotly-graph-div\" style=\"height:525px; width:100%;\"></div>            <script type=\"text/javascript\">                                    window.PLOTLYENV=window.PLOTLYENV || {};                                    if (document.getElementById(\"a5b83399-2637-48e9-980b-098ce30dc2fd\")) {                    Plotly.newPlot(                        \"a5b83399-2637-48e9-980b-098ce30dc2fd\",                        [{\"hovertemplate\":\"variable=0\\u003cbr\\u003eindex=%{x}\\u003cbr\\u003evalue=%{y}\\u003cextra\\u003e\\u003c\\u002fextra\\u003e\",\"legendgroup\":\"0\",\"line\":{\"color\":\"#636efa\",\"dash\":\"solid\"},\"marker\":{\"symbol\":\"circle\"},\"mode\":\"lines+markers\",\"name\":\"0\",\"orientation\":\"v\",\"showlegend\":true,\"x\":[0,1,2,3,4,5,6,7,8,9,10,11,12,13,14,15,16,17,18,19,20,21,22,23,24,25,26,27,28,29,30,31,32,33,34,35,36,37,38,39,40,41,42,43,44,45,46,47,48,49,50,51,52,53,54,55,56,57,58,59,60,61,62,63,64,65,66,67,68,69,70,71,72,73,74,75,76,77,78,79,80,81,82,83,84,85,86,87,88,89,90,91,92,93,94,95,96,97,98,99,100,101,102,103,104,105,106,107,108,109,110,111,112,113,114,115,116,117,118,119,120,121,122,123,124,125,126,127,128,129,130,131,132,133,134,135,136,137,138,139,140,141,142,143,144,145,146,147,148,149,150,151,152,153,154,155,156,157,158,159,160,161,162,163,164,165,166,167,168,169,170,171,172,173,174,175,176,177,178,179,180,181,182,183,184,185,186,187,188,189,190,191,192,193,194,195,196,197,198,199,200,201,202,203,204,205,206,207,208,209,210,211,212,213,214,215,216,217,218,219,220,221,222,223,224,225,226,227,228,229,230,231,232,233,234,235,236,237,238,239,240,241,242,243,244,245,246,247,248,249,250,251,252,253,254,255,256,257,258,259,260,261,262,263,264,265,266,267,268,269,270,271,272,273,274,275,276,277,278,279,280,281,282,283,284,285,286,287,288,289,290,291,292,293,294,295,296,297,298,299,300,301,302,303,304,305,306,307,308,309,310,311,312,313,314,315,316,317,318,319,320,321,322,323,324,325,326,327,328,329,330,331,332,333,334,335,336,337,338,339,340,341,342,343,344,345,346,347,348,349,350,351,352,353,354,355,356,357,358,359,360,361,362,363,364,365,366,367,368,369,370,371,372,373,374,375,376,377,378,379,380,381,382,383,384,385,386,387,388,389,390,391,392,393,394,395,396,397,398,399,400,401,402,403,404,405,406,407,408,409,410,411,412,413,414,415,416,417,418,419,420,421,422,423,424,425,426,427,428,429,430,431,432,433,434,435,436,437,438,439,440,441,442,443,444,445,446,447,448,449,450,451,452,453,454,455,456,457,458,459,460,461,462,463,464,465,466,467,468,469,470,471,472,473,474,475,476,477,478,479,480,481,482,483,484,485,486,487,488,489,490,491,492,493,494,495,496,497,498,499,500,501,502,503,504,505,506,507,508,509,510,511,512,513,514,515,516,517,518,519,520,521,522,523,524,525,526,527,528,529,530,531,532,533,534,535,536,537,538,539,540,541,542,543,544,545,546,547,548,549,550,551,552,553,554,555,556,557,558,559,560,561,562,563,564,565,566,567,568,569,570,571,572,573,574,575,576,577,578,579,580,581,582,583,584,585,586,587,588,589,590,591,592,593,594,595,596,597,598,599,600,601,602,603,604,605,606,607,608],\"xaxis\":\"x\",\"y\":[0,10,20,30,40,50,60,70,80,90,100,150,200,250,300,350,400,450,500,550,600,650,700,750,800,850,900,950,1000,1050,1100,1150,1200,1250,1300,1350,1400,1450,1500,1550,1600,1650,1700,1750,1800,1850,1900,1950,2000,2100,2200,2300,2400,2500,2600,2700,2800,2900,3000,3100,3200,3300,3400,3500,3600,3700,3800,3900,4000,4100,4200,4300,4400,4500,4600,4700,4800,4900,5000,5100,5200,5300,5400,5500,5600,5700,5800,5900,6000,6100,6200,6300,6400,6500,6600,6700,6800,6900,7000,7100,7200,7300,7400,7500,7600,7700,7800,7900,8000,8100,8200,8300,8400,8500,8600,8700,8800,8900,9000,9100,9200,9300,9400,9500,9600,9700,9800,9900,10000,10100,10200,10300,10400,10500,10600,10700,10800,10900,11000,11100,11200,11300,11400,11500,11600,11700,11800,11900,12000,12100,12200,12300,12400,12500,12600,12700,12800,12900,13000,13100,13200,13300,13400,13500,13600,13700,13800,13900,14000,14100,14200,14300,14400,14500,14600,14700,14800,14900,15000,15100,15200,15300,15400,15500,15600,15700,15800,15900,16000,16100,16200,16300,16400,16500,16600,16700,16800,16900,17000,17100,17200,17300,17400,17500,17600,17700,17800,17900,18000,18100,18200,18300,18400,18500,18600,18700,18800,18900,19000,19100,19200,19300,19400,19500,19600,19700,19800,19900,20000,21000,22000,23000,24000,25000,26000,27000,28000,29000,30000,31000,32000,33000,34000,35000,36000,37000,38000,39000,40000,41000,42000,43000,44000,45000,46000,47000,48000,49000,50000,51000,52000,53000,54000,55000,56000,57000,58000,59000,60000,61000,62000,63000,64000,65000,66000,67000,68000,69000,70000,71000,72000,73000,74000,75000,76000,77000,78000,79000,80000,81000,82000,83000,84000,85000,86000,87000,88000,89000,90000,91000,92000,93000,94000,95000,96000,97000,98000,99000,100000,101000,102000,103000,104000,105000,106000,107000,108000,109000,110000,111000,112000,113000,114000,115000,116000,117000,118000,119000,120000,121000,122000,123000,124000,125000,126000,127000,128000,129000,130000,131000,132000,133000,134000,135000,136000,137000,138000,139000,140000,141000,142000,143000,144000,145000,146000,147000,148000,149000,150000,151000,152000,153000,154000,155000,156000,157000,158000,159000,160000,161000,162000,163000,164000,165000,166000,167000,168000,169000,170000,171000,172000,173000,174000,175000,176000,177000,178000,179000,180000,181000,182000,183000,184000,185000,186000,187000,188000,189000,190000,191000,192000,193000,194000,195000,196000,197000,198000,199000,200000,201000,202000,203000,204000,205000,206000,207000,208000,209000,210000,211000,212000,213000,214000,215000,216000,217000,218000,219000,220000,221000,222000,223000,224000,225000,226000,227000,228000,229000,230000,231000,232000,233000,234000,235000,236000,237000,238000,239000,240000,241000,242000,243000,244000,245000,246000,247000,248000,249000,250000,251000,252000,253000,254000,255000,256000,257000,258000,259000,260000,261000,262000,263000,264000,265000,266000,267000,268000,269000,270000,271000,272000,273000,274000,275000,276000,277000,278000,279000,280000,281000,282000,283000,284000,285000,286000,287000,288000,289000,290000,291000,292000,293000,294000,295000,296000,297000,298000,299000,300000,301000,302000,303000,304000,305000,306000,307000,308000,309000,310000,311000,312000,313000,314000,315000,316000,317000,318000,319000,320000,321000,322000,323000,324000,325000,326000,327000,328000,329000,330000,331000,332000,333000,334000,335000,336000,337000,338000,339000,340000,341000,342000,343000,344000,345000,346000,347000,348000,349000,350000,351000,352000,353000,354000,355000,356000,357000,358000,359000,360000,361000,362000,363000,364000,365000,366000,367000,368000,369000,370000,371000,372000,373000,374000,375000,376000,377000,378000,379000,380000,381000,382000,383000,384000,385000,386000,387000,388000,389000,390000,391000,392000,393000,394000,395000,396000,397000,398000,399000,400000],\"yaxis\":\"y\",\"type\":\"scatter\"}],                        {\"template\":{\"data\":{\"histogram2dcontour\":[{\"type\":\"histogram2dcontour\",\"colorbar\":{\"outlinewidth\":0,\"ticks\":\"\"},\"colorscale\":[[0.0,\"#0d0887\"],[0.1111111111111111,\"#46039f\"],[0.2222222222222222,\"#7201a8\"],[0.3333333333333333,\"#9c179e\"],[0.4444444444444444,\"#bd3786\"],[0.5555555555555556,\"#d8576b\"],[0.6666666666666666,\"#ed7953\"],[0.7777777777777778,\"#fb9f3a\"],[0.8888888888888888,\"#fdca26\"],[1.0,\"#f0f921\"]]}],\"choropleth\":[{\"type\":\"choropleth\",\"colorbar\":{\"outlinewidth\":0,\"ticks\":\"\"}}],\"histogram2d\":[{\"type\":\"histogram2d\",\"colorbar\":{\"outlinewidth\":0,\"ticks\":\"\"},\"colorscale\":[[0.0,\"#0d0887\"],[0.1111111111111111,\"#46039f\"],[0.2222222222222222,\"#7201a8\"],[0.3333333333333333,\"#9c179e\"],[0.4444444444444444,\"#bd3786\"],[0.5555555555555556,\"#d8576b\"],[0.6666666666666666,\"#ed7953\"],[0.7777777777777778,\"#fb9f3a\"],[0.8888888888888888,\"#fdca26\"],[1.0,\"#f0f921\"]]}],\"heatmap\":[{\"type\":\"heatmap\",\"colorbar\":{\"outlinewidth\":0,\"ticks\":\"\"},\"colorscale\":[[0.0,\"#0d0887\"],[0.1111111111111111,\"#46039f\"],[0.2222222222222222,\"#7201a8\"],[0.3333333333333333,\"#9c179e\"],[0.4444444444444444,\"#bd3786\"],[0.5555555555555556,\"#d8576b\"],[0.6666666666666666,\"#ed7953\"],[0.7777777777777778,\"#fb9f3a\"],[0.8888888888888888,\"#fdca26\"],[1.0,\"#f0f921\"]]}],\"heatmapgl\":[{\"type\":\"heatmapgl\",\"colorbar\":{\"outlinewidth\":0,\"ticks\":\"\"},\"colorscale\":[[0.0,\"#0d0887\"],[0.1111111111111111,\"#46039f\"],[0.2222222222222222,\"#7201a8\"],[0.3333333333333333,\"#9c179e\"],[0.4444444444444444,\"#bd3786\"],[0.5555555555555556,\"#d8576b\"],[0.6666666666666666,\"#ed7953\"],[0.7777777777777778,\"#fb9f3a\"],[0.8888888888888888,\"#fdca26\"],[1.0,\"#f0f921\"]]}],\"contourcarpet\":[{\"type\":\"contourcarpet\",\"colorbar\":{\"outlinewidth\":0,\"ticks\":\"\"}}],\"contour\":[{\"type\":\"contour\",\"colorbar\":{\"outlinewidth\":0,\"ticks\":\"\"},\"colorscale\":[[0.0,\"#0d0887\"],[0.1111111111111111,\"#46039f\"],[0.2222222222222222,\"#7201a8\"],[0.3333333333333333,\"#9c179e\"],[0.4444444444444444,\"#bd3786\"],[0.5555555555555556,\"#d8576b\"],[0.6666666666666666,\"#ed7953\"],[0.7777777777777778,\"#fb9f3a\"],[0.8888888888888888,\"#fdca26\"],[1.0,\"#f0f921\"]]}],\"surface\":[{\"type\":\"surface\",\"colorbar\":{\"outlinewidth\":0,\"ticks\":\"\"},\"colorscale\":[[0.0,\"#0d0887\"],[0.1111111111111111,\"#46039f\"],[0.2222222222222222,\"#7201a8\"],[0.3333333333333333,\"#9c179e\"],[0.4444444444444444,\"#bd3786\"],[0.5555555555555556,\"#d8576b\"],[0.6666666666666666,\"#ed7953\"],[0.7777777777777778,\"#fb9f3a\"],[0.8888888888888888,\"#fdca26\"],[1.0,\"#f0f921\"]]}],\"mesh3d\":[{\"type\":\"mesh3d\",\"colorbar\":{\"outlinewidth\":0,\"ticks\":\"\"}}],\"scatter\":[{\"fillpattern\":{\"fillmode\":\"overlay\",\"size\":10,\"solidity\":0.2},\"type\":\"scatter\"}],\"parcoords\":[{\"type\":\"parcoords\",\"line\":{\"colorbar\":{\"outlinewidth\":0,\"ticks\":\"\"}}}],\"scatterpolargl\":[{\"type\":\"scatterpolargl\",\"marker\":{\"colorbar\":{\"outlinewidth\":0,\"ticks\":\"\"}}}],\"bar\":[{\"error_x\":{\"color\":\"#2a3f5f\"},\"error_y\":{\"color\":\"#2a3f5f\"},\"marker\":{\"line\":{\"color\":\"#E5ECF6\",\"width\":0.5},\"pattern\":{\"fillmode\":\"overlay\",\"size\":10,\"solidity\":0.2}},\"type\":\"bar\"}],\"scattergeo\":[{\"type\":\"scattergeo\",\"marker\":{\"colorbar\":{\"outlinewidth\":0,\"ticks\":\"\"}}}],\"scatterpolar\":[{\"type\":\"scatterpolar\",\"marker\":{\"colorbar\":{\"outlinewidth\":0,\"ticks\":\"\"}}}],\"histogram\":[{\"marker\":{\"pattern\":{\"fillmode\":\"overlay\",\"size\":10,\"solidity\":0.2}},\"type\":\"histogram\"}],\"scattergl\":[{\"type\":\"scattergl\",\"marker\":{\"colorbar\":{\"outlinewidth\":0,\"ticks\":\"\"}}}],\"scatter3d\":[{\"type\":\"scatter3d\",\"line\":{\"colorbar\":{\"outlinewidth\":0,\"ticks\":\"\"}},\"marker\":{\"colorbar\":{\"outlinewidth\":0,\"ticks\":\"\"}}}],\"scattermapbox\":[{\"type\":\"scattermapbox\",\"marker\":{\"colorbar\":{\"outlinewidth\":0,\"ticks\":\"\"}}}],\"scatterternary\":[{\"type\":\"scatterternary\",\"marker\":{\"colorbar\":{\"outlinewidth\":0,\"ticks\":\"\"}}}],\"scattercarpet\":[{\"type\":\"scattercarpet\",\"marker\":{\"colorbar\":{\"outlinewidth\":0,\"ticks\":\"\"}}}],\"carpet\":[{\"aaxis\":{\"endlinecolor\":\"#2a3f5f\",\"gridcolor\":\"white\",\"linecolor\":\"white\",\"minorgridcolor\":\"white\",\"startlinecolor\":\"#2a3f5f\"},\"baxis\":{\"endlinecolor\":\"#2a3f5f\",\"gridcolor\":\"white\",\"linecolor\":\"white\",\"minorgridcolor\":\"white\",\"startlinecolor\":\"#2a3f5f\"},\"type\":\"carpet\"}],\"table\":[{\"cells\":{\"fill\":{\"color\":\"#EBF0F8\"},\"line\":{\"color\":\"white\"}},\"header\":{\"fill\":{\"color\":\"#C8D4E3\"},\"line\":{\"color\":\"white\"}},\"type\":\"table\"}],\"barpolar\":[{\"marker\":{\"line\":{\"color\":\"#E5ECF6\",\"width\":0.5},\"pattern\":{\"fillmode\":\"overlay\",\"size\":10,\"solidity\":0.2}},\"type\":\"barpolar\"}],\"pie\":[{\"automargin\":true,\"type\":\"pie\"}]},\"layout\":{\"autotypenumbers\":\"strict\",\"colorway\":[\"#636efa\",\"#EF553B\",\"#00cc96\",\"#ab63fa\",\"#FFA15A\",\"#19d3f3\",\"#FF6692\",\"#B6E880\",\"#FF97FF\",\"#FECB52\"],\"font\":{\"color\":\"#2a3f5f\"},\"hovermode\":\"closest\",\"hoverlabel\":{\"align\":\"left\"},\"paper_bgcolor\":\"white\",\"plot_bgcolor\":\"#E5ECF6\",\"polar\":{\"bgcolor\":\"#E5ECF6\",\"angularaxis\":{\"gridcolor\":\"white\",\"linecolor\":\"white\",\"ticks\":\"\"},\"radialaxis\":{\"gridcolor\":\"white\",\"linecolor\":\"white\",\"ticks\":\"\"}},\"ternary\":{\"bgcolor\":\"#E5ECF6\",\"aaxis\":{\"gridcolor\":\"white\",\"linecolor\":\"white\",\"ticks\":\"\"},\"baxis\":{\"gridcolor\":\"white\",\"linecolor\":\"white\",\"ticks\":\"\"},\"caxis\":{\"gridcolor\":\"white\",\"linecolor\":\"white\",\"ticks\":\"\"}},\"coloraxis\":{\"colorbar\":{\"outlinewidth\":0,\"ticks\":\"\"}},\"colorscale\":{\"sequential\":[[0.0,\"#0d0887\"],[0.1111111111111111,\"#46039f\"],[0.2222222222222222,\"#7201a8\"],[0.3333333333333333,\"#9c179e\"],[0.4444444444444444,\"#bd3786\"],[0.5555555555555556,\"#d8576b\"],[0.6666666666666666,\"#ed7953\"],[0.7777777777777778,\"#fb9f3a\"],[0.8888888888888888,\"#fdca26\"],[1.0,\"#f0f921\"]],\"sequentialminus\":[[0.0,\"#0d0887\"],[0.1111111111111111,\"#46039f\"],[0.2222222222222222,\"#7201a8\"],[0.3333333333333333,\"#9c179e\"],[0.4444444444444444,\"#bd3786\"],[0.5555555555555556,\"#d8576b\"],[0.6666666666666666,\"#ed7953\"],[0.7777777777777778,\"#fb9f3a\"],[0.8888888888888888,\"#fdca26\"],[1.0,\"#f0f921\"]],\"diverging\":[[0,\"#8e0152\"],[0.1,\"#c51b7d\"],[0.2,\"#de77ae\"],[0.3,\"#f1b6da\"],[0.4,\"#fde0ef\"],[0.5,\"#f7f7f7\"],[0.6,\"#e6f5d0\"],[0.7,\"#b8e186\"],[0.8,\"#7fbc41\"],[0.9,\"#4d9221\"],[1,\"#276419\"]]},\"xaxis\":{\"gridcolor\":\"white\",\"linecolor\":\"white\",\"ticks\":\"\",\"title\":{\"standoff\":15},\"zerolinecolor\":\"white\",\"automargin\":true,\"zerolinewidth\":2},\"yaxis\":{\"gridcolor\":\"white\",\"linecolor\":\"white\",\"ticks\":\"\",\"title\":{\"standoff\":15},\"zerolinecolor\":\"white\",\"automargin\":true,\"zerolinewidth\":2},\"scene\":{\"xaxis\":{\"backgroundcolor\":\"#E5ECF6\",\"gridcolor\":\"white\",\"linecolor\":\"white\",\"showbackground\":true,\"ticks\":\"\",\"zerolinecolor\":\"white\",\"gridwidth\":2},\"yaxis\":{\"backgroundcolor\":\"#E5ECF6\",\"gridcolor\":\"white\",\"linecolor\":\"white\",\"showbackground\":true,\"ticks\":\"\",\"zerolinecolor\":\"white\",\"gridwidth\":2},\"zaxis\":{\"backgroundcolor\":\"#E5ECF6\",\"gridcolor\":\"white\",\"linecolor\":\"white\",\"showbackground\":true,\"ticks\":\"\",\"zerolinecolor\":\"white\",\"gridwidth\":2}},\"shapedefaults\":{\"line\":{\"color\":\"#2a3f5f\"}},\"annotationdefaults\":{\"arrowcolor\":\"#2a3f5f\",\"arrowhead\":0,\"arrowwidth\":1},\"geo\":{\"bgcolor\":\"white\",\"landcolor\":\"#E5ECF6\",\"subunitcolor\":\"white\",\"showland\":true,\"showlakes\":true,\"lakecolor\":\"white\"},\"title\":{\"x\":0.05},\"mapbox\":{\"style\":\"light\"}}},\"xaxis\":{\"anchor\":\"y\",\"domain\":[0.0,1.0],\"title\":{\"text\":\"index\"}},\"yaxis\":{\"anchor\":\"x\",\"domain\":[0.0,1.0],\"title\":{\"text\":\"value\"},\"type\":\"log\"},\"legend\":{\"title\":{\"text\":\"variable\"},\"tracegroupgap\":0},\"title\":{\"text\":\"Checkpoint Values for stanford-gpt2-small-a (Log scale)\"}},                        {\"responsive\": true}                    ).then(function(){\n",
              "                            \n",
              "var gd = document.getElementById('a5b83399-2637-48e9-980b-098ce30dc2fd');\n",
              "var x = new MutationObserver(function (mutations, observer) {{\n",
              "        var display = window.getComputedStyle(gd).display;\n",
              "        if (!display || display === 'none') {{\n",
              "            console.log([gd, 'removed!']);\n",
              "            Plotly.purge(gd);\n",
              "            observer.disconnect();\n",
              "        }}\n",
              "}});\n",
              "\n",
              "// Listen for the removal of the full notebook cells\n",
              "var notebookContainer = gd.closest('#notebook-container');\n",
              "if (notebookContainer) {{\n",
              "    x.observe(notebookContainer, {childList: true});\n",
              "}}\n",
              "\n",
              "// Listen for the clearing of the current output cell\n",
              "var outputEl = gd.closest('.output');\n",
              "if (outputEl) {{\n",
              "    x.observe(outputEl, {childList: true});\n",
              "}}\n",
              "\n",
              "                        })                };                            </script>        </div>\n",
              "</body>\n",
              "</html>"
            ]
          },
          "metadata": {},
          "output_type": "display_data"
        },
        {
          "data": {
            "text/html": [
              "<html>\n",
              "<head><meta charset=\"utf-8\" /></head>\n",
              "<body>\n",
              "    <div>            <script src=\"https://cdnjs.cloudflare.com/ajax/libs/mathjax/2.7.5/MathJax.js?config=TeX-AMS-MML_SVG\"></script><script type=\"text/javascript\">if (window.MathJax && window.MathJax.Hub && window.MathJax.Hub.Config) {window.MathJax.Hub.Config({SVG: {font: \"STIX-Web\"}});}</script>                <script type=\"text/javascript\">window.PlotlyConfig = {MathJaxConfig: 'local'};</script>\n",
              "        <script charset=\"utf-8\" src=\"https://cdn.plot.ly/plotly-2.26.0.min.js\"></script>                <div id=\"4c28ffe1-8565-4e92-babd-d57cc8bc847d\" class=\"plotly-graph-div\" style=\"height:525px; width:100%;\"></div>            <script type=\"text/javascript\">                                    window.PLOTLYENV=window.PLOTLYENV || {};                                    if (document.getElementById(\"4c28ffe1-8565-4e92-babd-d57cc8bc847d\")) {                    Plotly.newPlot(                        \"4c28ffe1-8565-4e92-babd-d57cc8bc847d\",                        [{\"hovertemplate\":\"variable=0\\u003cbr\\u003eindex=%{x}\\u003cbr\\u003evalue=%{y}\\u003cextra\\u003e\\u003c\\u002fextra\\u003e\",\"legendgroup\":\"0\",\"line\":{\"color\":\"#636efa\",\"dash\":\"solid\"},\"marker\":{\"symbol\":\"circle\"},\"mode\":\"lines+markers\",\"name\":\"0\",\"orientation\":\"v\",\"showlegend\":true,\"x\":[0,1,2,3,4,5,6,7,8,9,10,11,12,13,14,15,16,17,18,19,20,21,22,23,24,25,26,27,28,29,30,31,32,33,34,35,36,37,38,39,40,41,42,43,44,45,46,47,48,49],\"xaxis\":\"x\",\"y\":[832,1664,2496,3328,4160,4992,5824,6656,7488,8320,9152,9984,10816,11648,12480,13312,14144,14976,15808,16640,17472,18304,19136,19968,20800,21632,22464,23296,24128,24960,25792,26624,27456,28288,29120,29952,30784,31616,32448,33280,34112,34944,35776,36608,37440,38272,39104,39936,40768,41600],\"yaxis\":\"y\",\"type\":\"scatter\"}],                        {\"template\":{\"data\":{\"histogram2dcontour\":[{\"type\":\"histogram2dcontour\",\"colorbar\":{\"outlinewidth\":0,\"ticks\":\"\"},\"colorscale\":[[0.0,\"#0d0887\"],[0.1111111111111111,\"#46039f\"],[0.2222222222222222,\"#7201a8\"],[0.3333333333333333,\"#9c179e\"],[0.4444444444444444,\"#bd3786\"],[0.5555555555555556,\"#d8576b\"],[0.6666666666666666,\"#ed7953\"],[0.7777777777777778,\"#fb9f3a\"],[0.8888888888888888,\"#fdca26\"],[1.0,\"#f0f921\"]]}],\"choropleth\":[{\"type\":\"choropleth\",\"colorbar\":{\"outlinewidth\":0,\"ticks\":\"\"}}],\"histogram2d\":[{\"type\":\"histogram2d\",\"colorbar\":{\"outlinewidth\":0,\"ticks\":\"\"},\"colorscale\":[[0.0,\"#0d0887\"],[0.1111111111111111,\"#46039f\"],[0.2222222222222222,\"#7201a8\"],[0.3333333333333333,\"#9c179e\"],[0.4444444444444444,\"#bd3786\"],[0.5555555555555556,\"#d8576b\"],[0.6666666666666666,\"#ed7953\"],[0.7777777777777778,\"#fb9f3a\"],[0.8888888888888888,\"#fdca26\"],[1.0,\"#f0f921\"]]}],\"heatmap\":[{\"type\":\"heatmap\",\"colorbar\":{\"outlinewidth\":0,\"ticks\":\"\"},\"colorscale\":[[0.0,\"#0d0887\"],[0.1111111111111111,\"#46039f\"],[0.2222222222222222,\"#7201a8\"],[0.3333333333333333,\"#9c179e\"],[0.4444444444444444,\"#bd3786\"],[0.5555555555555556,\"#d8576b\"],[0.6666666666666666,\"#ed7953\"],[0.7777777777777778,\"#fb9f3a\"],[0.8888888888888888,\"#fdca26\"],[1.0,\"#f0f921\"]]}],\"heatmapgl\":[{\"type\":\"heatmapgl\",\"colorbar\":{\"outlinewidth\":0,\"ticks\":\"\"},\"colorscale\":[[0.0,\"#0d0887\"],[0.1111111111111111,\"#46039f\"],[0.2222222222222222,\"#7201a8\"],[0.3333333333333333,\"#9c179e\"],[0.4444444444444444,\"#bd3786\"],[0.5555555555555556,\"#d8576b\"],[0.6666666666666666,\"#ed7953\"],[0.7777777777777778,\"#fb9f3a\"],[0.8888888888888888,\"#fdca26\"],[1.0,\"#f0f921\"]]}],\"contourcarpet\":[{\"type\":\"contourcarpet\",\"colorbar\":{\"outlinewidth\":0,\"ticks\":\"\"}}],\"contour\":[{\"type\":\"contour\",\"colorbar\":{\"outlinewidth\":0,\"ticks\":\"\"},\"colorscale\":[[0.0,\"#0d0887\"],[0.1111111111111111,\"#46039f\"],[0.2222222222222222,\"#7201a8\"],[0.3333333333333333,\"#9c179e\"],[0.4444444444444444,\"#bd3786\"],[0.5555555555555556,\"#d8576b\"],[0.6666666666666666,\"#ed7953\"],[0.7777777777777778,\"#fb9f3a\"],[0.8888888888888888,\"#fdca26\"],[1.0,\"#f0f921\"]]}],\"surface\":[{\"type\":\"surface\",\"colorbar\":{\"outlinewidth\":0,\"ticks\":\"\"},\"colorscale\":[[0.0,\"#0d0887\"],[0.1111111111111111,\"#46039f\"],[0.2222222222222222,\"#7201a8\"],[0.3333333333333333,\"#9c179e\"],[0.4444444444444444,\"#bd3786\"],[0.5555555555555556,\"#d8576b\"],[0.6666666666666666,\"#ed7953\"],[0.7777777777777778,\"#fb9f3a\"],[0.8888888888888888,\"#fdca26\"],[1.0,\"#f0f921\"]]}],\"mesh3d\":[{\"type\":\"mesh3d\",\"colorbar\":{\"outlinewidth\":0,\"ticks\":\"\"}}],\"scatter\":[{\"fillpattern\":{\"fillmode\":\"overlay\",\"size\":10,\"solidity\":0.2},\"type\":\"scatter\"}],\"parcoords\":[{\"type\":\"parcoords\",\"line\":{\"colorbar\":{\"outlinewidth\":0,\"ticks\":\"\"}}}],\"scatterpolargl\":[{\"type\":\"scatterpolargl\",\"marker\":{\"colorbar\":{\"outlinewidth\":0,\"ticks\":\"\"}}}],\"bar\":[{\"error_x\":{\"color\":\"#2a3f5f\"},\"error_y\":{\"color\":\"#2a3f5f\"},\"marker\":{\"line\":{\"color\":\"#E5ECF6\",\"width\":0.5},\"pattern\":{\"fillmode\":\"overlay\",\"size\":10,\"solidity\":0.2}},\"type\":\"bar\"}],\"scattergeo\":[{\"type\":\"scattergeo\",\"marker\":{\"colorbar\":{\"outlinewidth\":0,\"ticks\":\"\"}}}],\"scatterpolar\":[{\"type\":\"scatterpolar\",\"marker\":{\"colorbar\":{\"outlinewidth\":0,\"ticks\":\"\"}}}],\"histogram\":[{\"marker\":{\"pattern\":{\"fillmode\":\"overlay\",\"size\":10,\"solidity\":0.2}},\"type\":\"histogram\"}],\"scattergl\":[{\"type\":\"scattergl\",\"marker\":{\"colorbar\":{\"outlinewidth\":0,\"ticks\":\"\"}}}],\"scatter3d\":[{\"type\":\"scatter3d\",\"line\":{\"colorbar\":{\"outlinewidth\":0,\"ticks\":\"\"}},\"marker\":{\"colorbar\":{\"outlinewidth\":0,\"ticks\":\"\"}}}],\"scattermapbox\":[{\"type\":\"scattermapbox\",\"marker\":{\"colorbar\":{\"outlinewidth\":0,\"ticks\":\"\"}}}],\"scatterternary\":[{\"type\":\"scatterternary\",\"marker\":{\"colorbar\":{\"outlinewidth\":0,\"ticks\":\"\"}}}],\"scattercarpet\":[{\"type\":\"scattercarpet\",\"marker\":{\"colorbar\":{\"outlinewidth\":0,\"ticks\":\"\"}}}],\"carpet\":[{\"aaxis\":{\"endlinecolor\":\"#2a3f5f\",\"gridcolor\":\"white\",\"linecolor\":\"white\",\"minorgridcolor\":\"white\",\"startlinecolor\":\"#2a3f5f\"},\"baxis\":{\"endlinecolor\":\"#2a3f5f\",\"gridcolor\":\"white\",\"linecolor\":\"white\",\"minorgridcolor\":\"white\",\"startlinecolor\":\"#2a3f5f\"},\"type\":\"carpet\"}],\"table\":[{\"cells\":{\"fill\":{\"color\":\"#EBF0F8\"},\"line\":{\"color\":\"white\"}},\"header\":{\"fill\":{\"color\":\"#C8D4E3\"},\"line\":{\"color\":\"white\"}},\"type\":\"table\"}],\"barpolar\":[{\"marker\":{\"line\":{\"color\":\"#E5ECF6\",\"width\":0.5},\"pattern\":{\"fillmode\":\"overlay\",\"size\":10,\"solidity\":0.2}},\"type\":\"barpolar\"}],\"pie\":[{\"automargin\":true,\"type\":\"pie\"}]},\"layout\":{\"autotypenumbers\":\"strict\",\"colorway\":[\"#636efa\",\"#EF553B\",\"#00cc96\",\"#ab63fa\",\"#FFA15A\",\"#19d3f3\",\"#FF6692\",\"#B6E880\",\"#FF97FF\",\"#FECB52\"],\"font\":{\"color\":\"#2a3f5f\"},\"hovermode\":\"closest\",\"hoverlabel\":{\"align\":\"left\"},\"paper_bgcolor\":\"white\",\"plot_bgcolor\":\"#E5ECF6\",\"polar\":{\"bgcolor\":\"#E5ECF6\",\"angularaxis\":{\"gridcolor\":\"white\",\"linecolor\":\"white\",\"ticks\":\"\"},\"radialaxis\":{\"gridcolor\":\"white\",\"linecolor\":\"white\",\"ticks\":\"\"}},\"ternary\":{\"bgcolor\":\"#E5ECF6\",\"aaxis\":{\"gridcolor\":\"white\",\"linecolor\":\"white\",\"ticks\":\"\"},\"baxis\":{\"gridcolor\":\"white\",\"linecolor\":\"white\",\"ticks\":\"\"},\"caxis\":{\"gridcolor\":\"white\",\"linecolor\":\"white\",\"ticks\":\"\"}},\"coloraxis\":{\"colorbar\":{\"outlinewidth\":0,\"ticks\":\"\"}},\"colorscale\":{\"sequential\":[[0.0,\"#0d0887\"],[0.1111111111111111,\"#46039f\"],[0.2222222222222222,\"#7201a8\"],[0.3333333333333333,\"#9c179e\"],[0.4444444444444444,\"#bd3786\"],[0.5555555555555556,\"#d8576b\"],[0.6666666666666666,\"#ed7953\"],[0.7777777777777778,\"#fb9f3a\"],[0.8888888888888888,\"#fdca26\"],[1.0,\"#f0f921\"]],\"sequentialminus\":[[0.0,\"#0d0887\"],[0.1111111111111111,\"#46039f\"],[0.2222222222222222,\"#7201a8\"],[0.3333333333333333,\"#9c179e\"],[0.4444444444444444,\"#bd3786\"],[0.5555555555555556,\"#d8576b\"],[0.6666666666666666,\"#ed7953\"],[0.7777777777777778,\"#fb9f3a\"],[0.8888888888888888,\"#fdca26\"],[1.0,\"#f0f921\"]],\"diverging\":[[0,\"#8e0152\"],[0.1,\"#c51b7d\"],[0.2,\"#de77ae\"],[0.3,\"#f1b6da\"],[0.4,\"#fde0ef\"],[0.5,\"#f7f7f7\"],[0.6,\"#e6f5d0\"],[0.7,\"#b8e186\"],[0.8,\"#7fbc41\"],[0.9,\"#4d9221\"],[1,\"#276419\"]]},\"xaxis\":{\"gridcolor\":\"white\",\"linecolor\":\"white\",\"ticks\":\"\",\"title\":{\"standoff\":15},\"zerolinecolor\":\"white\",\"automargin\":true,\"zerolinewidth\":2},\"yaxis\":{\"gridcolor\":\"white\",\"linecolor\":\"white\",\"ticks\":\"\",\"title\":{\"standoff\":15},\"zerolinecolor\":\"white\",\"automargin\":true,\"zerolinewidth\":2},\"scene\":{\"xaxis\":{\"backgroundcolor\":\"#E5ECF6\",\"gridcolor\":\"white\",\"linecolor\":\"white\",\"showbackground\":true,\"ticks\":\"\",\"zerolinecolor\":\"white\",\"gridwidth\":2},\"yaxis\":{\"backgroundcolor\":\"#E5ECF6\",\"gridcolor\":\"white\",\"linecolor\":\"white\",\"showbackground\":true,\"ticks\":\"\",\"zerolinecolor\":\"white\",\"gridwidth\":2},\"zaxis\":{\"backgroundcolor\":\"#E5ECF6\",\"gridcolor\":\"white\",\"linecolor\":\"white\",\"showbackground\":true,\"ticks\":\"\",\"zerolinecolor\":\"white\",\"gridwidth\":2}},\"shapedefaults\":{\"line\":{\"color\":\"#2a3f5f\"}},\"annotationdefaults\":{\"arrowcolor\":\"#2a3f5f\",\"arrowhead\":0,\"arrowwidth\":1},\"geo\":{\"bgcolor\":\"white\",\"landcolor\":\"#E5ECF6\",\"subunitcolor\":\"white\",\"showland\":true,\"showlakes\":true,\"lakecolor\":\"white\"},\"title\":{\"x\":0.05},\"mapbox\":{\"style\":\"light\"}}},\"xaxis\":{\"anchor\":\"y\",\"domain\":[0.0,1.0],\"title\":{\"text\":\"index\"}},\"yaxis\":{\"anchor\":\"x\",\"domain\":[0.0,1.0],\"title\":{\"text\":\"value\"}},\"legend\":{\"title\":{\"text\":\"variable\"},\"tracegroupgap\":0},\"title\":{\"text\":\"Checkpoint Values for solu-1l-pile (Linear scale)\"}},                        {\"responsive\": true}                    ).then(function(){\n",
              "                            \n",
              "var gd = document.getElementById('4c28ffe1-8565-4e92-babd-d57cc8bc847d');\n",
              "var x = new MutationObserver(function (mutations, observer) {{\n",
              "        var display = window.getComputedStyle(gd).display;\n",
              "        if (!display || display === 'none') {{\n",
              "            console.log([gd, 'removed!']);\n",
              "            Plotly.purge(gd);\n",
              "            observer.disconnect();\n",
              "        }}\n",
              "}});\n",
              "\n",
              "// Listen for the removal of the full notebook cells\n",
              "var notebookContainer = gd.closest('#notebook-container');\n",
              "if (notebookContainer) {{\n",
              "    x.observe(notebookContainer, {childList: true});\n",
              "}}\n",
              "\n",
              "// Listen for the clearing of the current output cell\n",
              "var outputEl = gd.closest('.output');\n",
              "if (outputEl) {{\n",
              "    x.observe(outputEl, {childList: true});\n",
              "}}\n",
              "\n",
              "                        })                };                            </script>        </div>\n",
              "</body>\n",
              "</html>"
            ]
          },
          "metadata": {},
          "output_type": "display_data"
        },
        {
          "data": {
            "text/html": [
              "<html>\n",
              "<head><meta charset=\"utf-8\" /></head>\n",
              "<body>\n",
              "    <div>            <script src=\"https://cdnjs.cloudflare.com/ajax/libs/mathjax/2.7.5/MathJax.js?config=TeX-AMS-MML_SVG\"></script><script type=\"text/javascript\">if (window.MathJax && window.MathJax.Hub && window.MathJax.Hub.Config) {window.MathJax.Hub.Config({SVG: {font: \"STIX-Web\"}});}</script>                <script type=\"text/javascript\">window.PlotlyConfig = {MathJaxConfig: 'local'};</script>\n",
              "        <script charset=\"utf-8\" src=\"https://cdn.plot.ly/plotly-2.26.0.min.js\"></script>                <div id=\"d92c9f04-9700-4de1-9237-9cba28fcdafb\" class=\"plotly-graph-div\" style=\"height:525px; width:100%;\"></div>            <script type=\"text/javascript\">                                    window.PLOTLYENV=window.PLOTLYENV || {};                                    if (document.getElementById(\"d92c9f04-9700-4de1-9237-9cba28fcdafb\")) {                    Plotly.newPlot(                        \"d92c9f04-9700-4de1-9237-9cba28fcdafb\",                        [{\"hovertemplate\":\"variable=0\\u003cbr\\u003eindex=%{x}\\u003cbr\\u003evalue=%{y}\\u003cextra\\u003e\\u003c\\u002fextra\\u003e\",\"legendgroup\":\"0\",\"line\":{\"color\":\"#636efa\",\"dash\":\"solid\"},\"marker\":{\"symbol\":\"circle\"},\"mode\":\"lines+markers\",\"name\":\"0\",\"orientation\":\"v\",\"showlegend\":true,\"x\":[0,1,2,3,4,5,6,7,8,9,10,11,12,13,14,15,16,17,18,19,20,21,22,23,24,25,26,27,28,29,30,31,32,33,34,35,36,37,38,39,40,41,42,43,44,45,46,47,48,49,50,51,52,53,54,55,56,57,58,59,60,61,62,63,64,65,66,67,68,69,70,71,72,73,74,75,76,77,78,79,80,81,82,83,84,85,86,87,88,89,90,91,92,93,94,95,96,97,98,99],\"xaxis\":\"x\",\"y\":[326,652,978,1304,1630,1956,2282,2608,2934,3260,3586,3912,4238,4564,4890,5216,5542,5868,6194,6520,6846,7172,7498,7824,8150,8476,8802,9128,9454,9780,10106,10432,10758,11084,11410,11736,12062,12388,12714,13040,13366,13692,14018,14344,14670,14996,15322,15648,15974,16300,16626,16952,17278,17604,17930,18256,18582,18908,19234,19560,19886,20212,20538,20864,21190,21516,21842,22168,22494,22820,23146,23472,23798,24124,24450,24776,25102,25428,25754,26080,26406,26732,27058,27384,27710,28036,28362,28688,29014,29340,29666,29992,30318,30644,30970,31296,31622,31948,32274,32600],\"yaxis\":\"y\",\"type\":\"scatter\"}],                        {\"template\":{\"data\":{\"histogram2dcontour\":[{\"type\":\"histogram2dcontour\",\"colorbar\":{\"outlinewidth\":0,\"ticks\":\"\"},\"colorscale\":[[0.0,\"#0d0887\"],[0.1111111111111111,\"#46039f\"],[0.2222222222222222,\"#7201a8\"],[0.3333333333333333,\"#9c179e\"],[0.4444444444444444,\"#bd3786\"],[0.5555555555555556,\"#d8576b\"],[0.6666666666666666,\"#ed7953\"],[0.7777777777777778,\"#fb9f3a\"],[0.8888888888888888,\"#fdca26\"],[1.0,\"#f0f921\"]]}],\"choropleth\":[{\"type\":\"choropleth\",\"colorbar\":{\"outlinewidth\":0,\"ticks\":\"\"}}],\"histogram2d\":[{\"type\":\"histogram2d\",\"colorbar\":{\"outlinewidth\":0,\"ticks\":\"\"},\"colorscale\":[[0.0,\"#0d0887\"],[0.1111111111111111,\"#46039f\"],[0.2222222222222222,\"#7201a8\"],[0.3333333333333333,\"#9c179e\"],[0.4444444444444444,\"#bd3786\"],[0.5555555555555556,\"#d8576b\"],[0.6666666666666666,\"#ed7953\"],[0.7777777777777778,\"#fb9f3a\"],[0.8888888888888888,\"#fdca26\"],[1.0,\"#f0f921\"]]}],\"heatmap\":[{\"type\":\"heatmap\",\"colorbar\":{\"outlinewidth\":0,\"ticks\":\"\"},\"colorscale\":[[0.0,\"#0d0887\"],[0.1111111111111111,\"#46039f\"],[0.2222222222222222,\"#7201a8\"],[0.3333333333333333,\"#9c179e\"],[0.4444444444444444,\"#bd3786\"],[0.5555555555555556,\"#d8576b\"],[0.6666666666666666,\"#ed7953\"],[0.7777777777777778,\"#fb9f3a\"],[0.8888888888888888,\"#fdca26\"],[1.0,\"#f0f921\"]]}],\"heatmapgl\":[{\"type\":\"heatmapgl\",\"colorbar\":{\"outlinewidth\":0,\"ticks\":\"\"},\"colorscale\":[[0.0,\"#0d0887\"],[0.1111111111111111,\"#46039f\"],[0.2222222222222222,\"#7201a8\"],[0.3333333333333333,\"#9c179e\"],[0.4444444444444444,\"#bd3786\"],[0.5555555555555556,\"#d8576b\"],[0.6666666666666666,\"#ed7953\"],[0.7777777777777778,\"#fb9f3a\"],[0.8888888888888888,\"#fdca26\"],[1.0,\"#f0f921\"]]}],\"contourcarpet\":[{\"type\":\"contourcarpet\",\"colorbar\":{\"outlinewidth\":0,\"ticks\":\"\"}}],\"contour\":[{\"type\":\"contour\",\"colorbar\":{\"outlinewidth\":0,\"ticks\":\"\"},\"colorscale\":[[0.0,\"#0d0887\"],[0.1111111111111111,\"#46039f\"],[0.2222222222222222,\"#7201a8\"],[0.3333333333333333,\"#9c179e\"],[0.4444444444444444,\"#bd3786\"],[0.5555555555555556,\"#d8576b\"],[0.6666666666666666,\"#ed7953\"],[0.7777777777777778,\"#fb9f3a\"],[0.8888888888888888,\"#fdca26\"],[1.0,\"#f0f921\"]]}],\"surface\":[{\"type\":\"surface\",\"colorbar\":{\"outlinewidth\":0,\"ticks\":\"\"},\"colorscale\":[[0.0,\"#0d0887\"],[0.1111111111111111,\"#46039f\"],[0.2222222222222222,\"#7201a8\"],[0.3333333333333333,\"#9c179e\"],[0.4444444444444444,\"#bd3786\"],[0.5555555555555556,\"#d8576b\"],[0.6666666666666666,\"#ed7953\"],[0.7777777777777778,\"#fb9f3a\"],[0.8888888888888888,\"#fdca26\"],[1.0,\"#f0f921\"]]}],\"mesh3d\":[{\"type\":\"mesh3d\",\"colorbar\":{\"outlinewidth\":0,\"ticks\":\"\"}}],\"scatter\":[{\"fillpattern\":{\"fillmode\":\"overlay\",\"size\":10,\"solidity\":0.2},\"type\":\"scatter\"}],\"parcoords\":[{\"type\":\"parcoords\",\"line\":{\"colorbar\":{\"outlinewidth\":0,\"ticks\":\"\"}}}],\"scatterpolargl\":[{\"type\":\"scatterpolargl\",\"marker\":{\"colorbar\":{\"outlinewidth\":0,\"ticks\":\"\"}}}],\"bar\":[{\"error_x\":{\"color\":\"#2a3f5f\"},\"error_y\":{\"color\":\"#2a3f5f\"},\"marker\":{\"line\":{\"color\":\"#E5ECF6\",\"width\":0.5},\"pattern\":{\"fillmode\":\"overlay\",\"size\":10,\"solidity\":0.2}},\"type\":\"bar\"}],\"scattergeo\":[{\"type\":\"scattergeo\",\"marker\":{\"colorbar\":{\"outlinewidth\":0,\"ticks\":\"\"}}}],\"scatterpolar\":[{\"type\":\"scatterpolar\",\"marker\":{\"colorbar\":{\"outlinewidth\":0,\"ticks\":\"\"}}}],\"histogram\":[{\"marker\":{\"pattern\":{\"fillmode\":\"overlay\",\"size\":10,\"solidity\":0.2}},\"type\":\"histogram\"}],\"scattergl\":[{\"type\":\"scattergl\",\"marker\":{\"colorbar\":{\"outlinewidth\":0,\"ticks\":\"\"}}}],\"scatter3d\":[{\"type\":\"scatter3d\",\"line\":{\"colorbar\":{\"outlinewidth\":0,\"ticks\":\"\"}},\"marker\":{\"colorbar\":{\"outlinewidth\":0,\"ticks\":\"\"}}}],\"scattermapbox\":[{\"type\":\"scattermapbox\",\"marker\":{\"colorbar\":{\"outlinewidth\":0,\"ticks\":\"\"}}}],\"scatterternary\":[{\"type\":\"scatterternary\",\"marker\":{\"colorbar\":{\"outlinewidth\":0,\"ticks\":\"\"}}}],\"scattercarpet\":[{\"type\":\"scattercarpet\",\"marker\":{\"colorbar\":{\"outlinewidth\":0,\"ticks\":\"\"}}}],\"carpet\":[{\"aaxis\":{\"endlinecolor\":\"#2a3f5f\",\"gridcolor\":\"white\",\"linecolor\":\"white\",\"minorgridcolor\":\"white\",\"startlinecolor\":\"#2a3f5f\"},\"baxis\":{\"endlinecolor\":\"#2a3f5f\",\"gridcolor\":\"white\",\"linecolor\":\"white\",\"minorgridcolor\":\"white\",\"startlinecolor\":\"#2a3f5f\"},\"type\":\"carpet\"}],\"table\":[{\"cells\":{\"fill\":{\"color\":\"#EBF0F8\"},\"line\":{\"color\":\"white\"}},\"header\":{\"fill\":{\"color\":\"#C8D4E3\"},\"line\":{\"color\":\"white\"}},\"type\":\"table\"}],\"barpolar\":[{\"marker\":{\"line\":{\"color\":\"#E5ECF6\",\"width\":0.5},\"pattern\":{\"fillmode\":\"overlay\",\"size\":10,\"solidity\":0.2}},\"type\":\"barpolar\"}],\"pie\":[{\"automargin\":true,\"type\":\"pie\"}]},\"layout\":{\"autotypenumbers\":\"strict\",\"colorway\":[\"#636efa\",\"#EF553B\",\"#00cc96\",\"#ab63fa\",\"#FFA15A\",\"#19d3f3\",\"#FF6692\",\"#B6E880\",\"#FF97FF\",\"#FECB52\"],\"font\":{\"color\":\"#2a3f5f\"},\"hovermode\":\"closest\",\"hoverlabel\":{\"align\":\"left\"},\"paper_bgcolor\":\"white\",\"plot_bgcolor\":\"#E5ECF6\",\"polar\":{\"bgcolor\":\"#E5ECF6\",\"angularaxis\":{\"gridcolor\":\"white\",\"linecolor\":\"white\",\"ticks\":\"\"},\"radialaxis\":{\"gridcolor\":\"white\",\"linecolor\":\"white\",\"ticks\":\"\"}},\"ternary\":{\"bgcolor\":\"#E5ECF6\",\"aaxis\":{\"gridcolor\":\"white\",\"linecolor\":\"white\",\"ticks\":\"\"},\"baxis\":{\"gridcolor\":\"white\",\"linecolor\":\"white\",\"ticks\":\"\"},\"caxis\":{\"gridcolor\":\"white\",\"linecolor\":\"white\",\"ticks\":\"\"}},\"coloraxis\":{\"colorbar\":{\"outlinewidth\":0,\"ticks\":\"\"}},\"colorscale\":{\"sequential\":[[0.0,\"#0d0887\"],[0.1111111111111111,\"#46039f\"],[0.2222222222222222,\"#7201a8\"],[0.3333333333333333,\"#9c179e\"],[0.4444444444444444,\"#bd3786\"],[0.5555555555555556,\"#d8576b\"],[0.6666666666666666,\"#ed7953\"],[0.7777777777777778,\"#fb9f3a\"],[0.8888888888888888,\"#fdca26\"],[1.0,\"#f0f921\"]],\"sequentialminus\":[[0.0,\"#0d0887\"],[0.1111111111111111,\"#46039f\"],[0.2222222222222222,\"#7201a8\"],[0.3333333333333333,\"#9c179e\"],[0.4444444444444444,\"#bd3786\"],[0.5555555555555556,\"#d8576b\"],[0.6666666666666666,\"#ed7953\"],[0.7777777777777778,\"#fb9f3a\"],[0.8888888888888888,\"#fdca26\"],[1.0,\"#f0f921\"]],\"diverging\":[[0,\"#8e0152\"],[0.1,\"#c51b7d\"],[0.2,\"#de77ae\"],[0.3,\"#f1b6da\"],[0.4,\"#fde0ef\"],[0.5,\"#f7f7f7\"],[0.6,\"#e6f5d0\"],[0.7,\"#b8e186\"],[0.8,\"#7fbc41\"],[0.9,\"#4d9221\"],[1,\"#276419\"]]},\"xaxis\":{\"gridcolor\":\"white\",\"linecolor\":\"white\",\"ticks\":\"\",\"title\":{\"standoff\":15},\"zerolinecolor\":\"white\",\"automargin\":true,\"zerolinewidth\":2},\"yaxis\":{\"gridcolor\":\"white\",\"linecolor\":\"white\",\"ticks\":\"\",\"title\":{\"standoff\":15},\"zerolinecolor\":\"white\",\"automargin\":true,\"zerolinewidth\":2},\"scene\":{\"xaxis\":{\"backgroundcolor\":\"#E5ECF6\",\"gridcolor\":\"white\",\"linecolor\":\"white\",\"showbackground\":true,\"ticks\":\"\",\"zerolinecolor\":\"white\",\"gridwidth\":2},\"yaxis\":{\"backgroundcolor\":\"#E5ECF6\",\"gridcolor\":\"white\",\"linecolor\":\"white\",\"showbackground\":true,\"ticks\":\"\",\"zerolinecolor\":\"white\",\"gridwidth\":2},\"zaxis\":{\"backgroundcolor\":\"#E5ECF6\",\"gridcolor\":\"white\",\"linecolor\":\"white\",\"showbackground\":true,\"ticks\":\"\",\"zerolinecolor\":\"white\",\"gridwidth\":2}},\"shapedefaults\":{\"line\":{\"color\":\"#2a3f5f\"}},\"annotationdefaults\":{\"arrowcolor\":\"#2a3f5f\",\"arrowhead\":0,\"arrowwidth\":1},\"geo\":{\"bgcolor\":\"white\",\"landcolor\":\"#E5ECF6\",\"subunitcolor\":\"white\",\"showland\":true,\"showlakes\":true,\"lakecolor\":\"white\"},\"title\":{\"x\":0.05},\"mapbox\":{\"style\":\"light\"}}},\"xaxis\":{\"anchor\":\"y\",\"domain\":[0.0,1.0],\"title\":{\"text\":\"index\"}},\"yaxis\":{\"anchor\":\"x\",\"domain\":[0.0,1.0],\"title\":{\"text\":\"value\"}},\"legend\":{\"title\":{\"text\":\"variable\"},\"tracegroupgap\":0},\"title\":{\"text\":\"Checkpoint Values for solu-6l-pile (Linear scale)\"}},                        {\"responsive\": true}                    ).then(function(){\n",
              "                            \n",
              "var gd = document.getElementById('d92c9f04-9700-4de1-9237-9cba28fcdafb');\n",
              "var x = new MutationObserver(function (mutations, observer) {{\n",
              "        var display = window.getComputedStyle(gd).display;\n",
              "        if (!display || display === 'none') {{\n",
              "            console.log([gd, 'removed!']);\n",
              "            Plotly.purge(gd);\n",
              "            observer.disconnect();\n",
              "        }}\n",
              "}});\n",
              "\n",
              "// Listen for the removal of the full notebook cells\n",
              "var notebookContainer = gd.closest('#notebook-container');\n",
              "if (notebookContainer) {{\n",
              "    x.observe(notebookContainer, {childList: true});\n",
              "}}\n",
              "\n",
              "// Listen for the clearing of the current output cell\n",
              "var outputEl = gd.closest('.output');\n",
              "if (outputEl) {{\n",
              "    x.observe(outputEl, {childList: true});\n",
              "}}\n",
              "\n",
              "                        })                };                            </script>        </div>\n",
              "</body>\n",
              "</html>"
            ]
          },
          "metadata": {},
          "output_type": "display_data"
        }
      ],
      "source": [
        "from transformer_lens.loading_from_pretrained import get_checkpoint_labels\n",
        "for model_name in [\"attn-only-2l\", \"solu-12l\", \"stanford-gpt2-small-a\"]:\n",
        "    checkpoint_labels, checkpoint_label_type = get_checkpoint_labels(model_name)\n",
        "    line(checkpoint_labels, xaxis=\"Checkpoint Index\", yaxis=f\"Checkpoint Value ({checkpoint_label_type})\", title=f\"Checkpoint Values for {model_name} (Log scale)\", log_y=True, markers=True)\n",
        "for model_name in [\"solu-1l-pile\", \"solu-6l-pile\"]:\n",
        "    checkpoint_labels, checkpoint_label_type = get_checkpoint_labels(model_name)\n",
        "    line(checkpoint_labels, xaxis=\"Checkpoint Index\", yaxis=f\"Checkpoint Value ({checkpoint_label_type})\", title=f\"Checkpoint Values for {model_name} (Linear scale)\", log_y=False, markers=True)"
      ]
    },
    {
      "cell_type": "markdown",
      "metadata": {
        "id": "XttORLWhOYk_"
      },
      "source": [
        "### Example: Induction Head Phase Transition"
      ]
    },
    {
      "cell_type": "markdown",
      "metadata": {
        "id": "Mg7EhW2HOYk_"
      },
      "source": [
        "One of the more interesting results analysing circuit formation during training is the [induction head phase transition](https://transformer-circuits.pub/2022/in-context-learning-and-induction-heads/index.html). They find a pretty dramatic shift in models during training - there's a brief period where models go from not having induction heads to having them, which leads to the models suddenly becoming much better at in-context learning (using far back tokens to predict the next token, eg over 500 words back). This is enough of a big deal that it leads to a visible *bump* in the loss curve, where the model's rate of improvement briefly increases."
      ]
    },
    {
      "cell_type": "markdown",
      "metadata": {
        "id": "VcSJ56IgOYk_"
      },
      "source": [
        "As a brief demonstration of the existence of the phase transition, let's load some checkpoints of a two layer model, and see whether they have induction heads. An easy test, as we used above, is to give the model a repeated sequence of random tokens, and to check how good its loss is on the second half. `evals.induction_loss` is a rough util that runs this test on a model.\n",
        "(Note - this is deliberately a rough, non-rigorous test for the purposes of demonstration, eg `evals.induction_loss` by default just runs it on 4 sequences of 384 tokens repeated twice. These results totally don't do the paper justice - go check it out if you want to see the full results!)"
      ]
    },
    {
      "cell_type": "markdown",
      "metadata": {
        "id": "RDolt2FfOYk_"
      },
      "source": [
        "In the interests of time and memory, let's look at a handful of checkpoints (chosen to be around the phase change), indices `[10, 25, 35, 60, -1]`. These are roughly 22M, 200M, 500M, 1.6B and 21.8B tokens through training, respectively. (I generally recommend looking things up based on indices, rather than checkpoint value!)."
      ]
    },
    {
      "cell_type": "code",
      "execution_count": null,
      "metadata": {
        "id": "gLid7DJ2OYlA"
      },
      "outputs": [],
      "source": [
        "from transformer_lens import evals\n",
        "# We use the two layer model with SoLU activations, chosen fairly arbitrarily as being both small (so fast to download and keep in memory) and pretty good at the induction task.\n",
        "model_name = \"solu-2l\"\n",
        "# We can load a model from a checkpoint by specifying the checkpoint_index, -1 means the final checkpoint\n",
        "checkpoint_indices = [10, 25, 35, 60, -1]\n",
        "checkpointed_models = []\n",
        "tokens_trained_on = []\n",
        "induction_losses = []"
      ]
    },
    {
      "cell_type": "markdown",
      "metadata": {
        "id": "hglEB6dcOYlA"
      },
      "source": [
        "We load the models, cache them in a list, and"
      ]
    },
    {
      "cell_type": "code",
      "execution_count": null,
      "metadata": {
        "id": "F6sAphjcOYlA"
      },
      "outputs": [],
      "source": [
        "if not IN_GITHUB:\n",
        "    for index in checkpoint_indices:\n",
        "        # Load the model from the relevant checkpoint by index\n",
        "        model_for_this_checkpoint = HookedTransformer.from_pretrained(model_name, checkpoint_index=index, device=device)\n",
        "        checkpointed_models.append(model_for_this_checkpoint)\n",
        "\n",
        "        tokens_seen_for_this_checkpoint = model_for_this_checkpoint.cfg.checkpoint_value\n",
        "        tokens_trained_on.append(tokens_seen_for_this_checkpoint)\n",
        "\n",
        "        induction_loss_for_this_checkpoint = evals.induction_loss(model_for_this_checkpoint, device=device).item()\n",
        "        induction_losses.append(induction_loss_for_this_checkpoint)"
      ]
    },
    {
      "cell_type": "markdown",
      "metadata": {
        "id": "1r-p0LCEOYlA"
      },
      "source": [
        "We can plot this, and see there's a sharp shift from ~200-500M tokens trained on (note the log scale on the x axis). Interestingly, this is notably earlier than the phase transition in the paper, I'm not sure what's up with that.\n",
        "\n",
        "(To contextualise the numbers, the tokens in the random sequence are uniformly chosen from the first 20,000 tokens (out of ~48,000 total), so random performance is at least $\\ln(20000)\\approx 10$. A naive strategy like \"randomly choose a token that's already appeared in the first half of the sequence (384 elements)\" would get $\\ln(384)\\approx 5.95$, so the model is doing pretty well here.)"
      ]
    },
    {
      "cell_type": "code",
      "execution_count": null,
      "metadata": {
        "id": "ewwb0goXOYlA",
        "outputId": "58eec1f9-4185-40e5-f56b-b896c16ebf03"
      },
      "outputs": [
        {
          "data": {
            "text/html": [
              "<html>\n",
              "<head><meta charset=\"utf-8\" /></head>\n",
              "<body>\n",
              "    <div>            <script src=\"https://cdnjs.cloudflare.com/ajax/libs/mathjax/2.7.5/MathJax.js?config=TeX-AMS-MML_SVG\"></script><script type=\"text/javascript\">if (window.MathJax && window.MathJax.Hub && window.MathJax.Hub.Config) {window.MathJax.Hub.Config({SVG: {font: \"STIX-Web\"}});}</script>                <script type=\"text/javascript\">window.PlotlyConfig = {MathJaxConfig: 'local'};</script>\n",
              "        <script charset=\"utf-8\" src=\"https://cdn.plot.ly/plotly-2.26.0.min.js\"></script>                <div id=\"1b82f6dc-4619-4786-ac45-c3cf11921de0\" class=\"plotly-graph-div\" style=\"height:525px; width:100%;\"></div>            <script type=\"text/javascript\">                                    window.PLOTLYENV=window.PLOTLYENV || {};                                    if (document.getElementById(\"1b82f6dc-4619-4786-ac45-c3cf11921de0\")) {                    Plotly.newPlot(                        \"1b82f6dc-4619-4786-ac45-c3cf11921de0\",                        [],                        {\"template\":{\"data\":{\"histogram2dcontour\":[{\"type\":\"histogram2dcontour\",\"colorbar\":{\"outlinewidth\":0,\"ticks\":\"\"},\"colorscale\":[[0.0,\"#0d0887\"],[0.1111111111111111,\"#46039f\"],[0.2222222222222222,\"#7201a8\"],[0.3333333333333333,\"#9c179e\"],[0.4444444444444444,\"#bd3786\"],[0.5555555555555556,\"#d8576b\"],[0.6666666666666666,\"#ed7953\"],[0.7777777777777778,\"#fb9f3a\"],[0.8888888888888888,\"#fdca26\"],[1.0,\"#f0f921\"]]}],\"choropleth\":[{\"type\":\"choropleth\",\"colorbar\":{\"outlinewidth\":0,\"ticks\":\"\"}}],\"histogram2d\":[{\"type\":\"histogram2d\",\"colorbar\":{\"outlinewidth\":0,\"ticks\":\"\"},\"colorscale\":[[0.0,\"#0d0887\"],[0.1111111111111111,\"#46039f\"],[0.2222222222222222,\"#7201a8\"],[0.3333333333333333,\"#9c179e\"],[0.4444444444444444,\"#bd3786\"],[0.5555555555555556,\"#d8576b\"],[0.6666666666666666,\"#ed7953\"],[0.7777777777777778,\"#fb9f3a\"],[0.8888888888888888,\"#fdca26\"],[1.0,\"#f0f921\"]]}],\"heatmap\":[{\"type\":\"heatmap\",\"colorbar\":{\"outlinewidth\":0,\"ticks\":\"\"},\"colorscale\":[[0.0,\"#0d0887\"],[0.1111111111111111,\"#46039f\"],[0.2222222222222222,\"#7201a8\"],[0.3333333333333333,\"#9c179e\"],[0.4444444444444444,\"#bd3786\"],[0.5555555555555556,\"#d8576b\"],[0.6666666666666666,\"#ed7953\"],[0.7777777777777778,\"#fb9f3a\"],[0.8888888888888888,\"#fdca26\"],[1.0,\"#f0f921\"]]}],\"heatmapgl\":[{\"type\":\"heatmapgl\",\"colorbar\":{\"outlinewidth\":0,\"ticks\":\"\"},\"colorscale\":[[0.0,\"#0d0887\"],[0.1111111111111111,\"#46039f\"],[0.2222222222222222,\"#7201a8\"],[0.3333333333333333,\"#9c179e\"],[0.4444444444444444,\"#bd3786\"],[0.5555555555555556,\"#d8576b\"],[0.6666666666666666,\"#ed7953\"],[0.7777777777777778,\"#fb9f3a\"],[0.8888888888888888,\"#fdca26\"],[1.0,\"#f0f921\"]]}],\"contourcarpet\":[{\"type\":\"contourcarpet\",\"colorbar\":{\"outlinewidth\":0,\"ticks\":\"\"}}],\"contour\":[{\"type\":\"contour\",\"colorbar\":{\"outlinewidth\":0,\"ticks\":\"\"},\"colorscale\":[[0.0,\"#0d0887\"],[0.1111111111111111,\"#46039f\"],[0.2222222222222222,\"#7201a8\"],[0.3333333333333333,\"#9c179e\"],[0.4444444444444444,\"#bd3786\"],[0.5555555555555556,\"#d8576b\"],[0.6666666666666666,\"#ed7953\"],[0.7777777777777778,\"#fb9f3a\"],[0.8888888888888888,\"#fdca26\"],[1.0,\"#f0f921\"]]}],\"surface\":[{\"type\":\"surface\",\"colorbar\":{\"outlinewidth\":0,\"ticks\":\"\"},\"colorscale\":[[0.0,\"#0d0887\"],[0.1111111111111111,\"#46039f\"],[0.2222222222222222,\"#7201a8\"],[0.3333333333333333,\"#9c179e\"],[0.4444444444444444,\"#bd3786\"],[0.5555555555555556,\"#d8576b\"],[0.6666666666666666,\"#ed7953\"],[0.7777777777777778,\"#fb9f3a\"],[0.8888888888888888,\"#fdca26\"],[1.0,\"#f0f921\"]]}],\"mesh3d\":[{\"type\":\"mesh3d\",\"colorbar\":{\"outlinewidth\":0,\"ticks\":\"\"}}],\"scatter\":[{\"fillpattern\":{\"fillmode\":\"overlay\",\"size\":10,\"solidity\":0.2},\"type\":\"scatter\"}],\"parcoords\":[{\"type\":\"parcoords\",\"line\":{\"colorbar\":{\"outlinewidth\":0,\"ticks\":\"\"}}}],\"scatterpolargl\":[{\"type\":\"scatterpolargl\",\"marker\":{\"colorbar\":{\"outlinewidth\":0,\"ticks\":\"\"}}}],\"bar\":[{\"error_x\":{\"color\":\"#2a3f5f\"},\"error_y\":{\"color\":\"#2a3f5f\"},\"marker\":{\"line\":{\"color\":\"#E5ECF6\",\"width\":0.5},\"pattern\":{\"fillmode\":\"overlay\",\"size\":10,\"solidity\":0.2}},\"type\":\"bar\"}],\"scattergeo\":[{\"type\":\"scattergeo\",\"marker\":{\"colorbar\":{\"outlinewidth\":0,\"ticks\":\"\"}}}],\"scatterpolar\":[{\"type\":\"scatterpolar\",\"marker\":{\"colorbar\":{\"outlinewidth\":0,\"ticks\":\"\"}}}],\"histogram\":[{\"marker\":{\"pattern\":{\"fillmode\":\"overlay\",\"size\":10,\"solidity\":0.2}},\"type\":\"histogram\"}],\"scattergl\":[{\"type\":\"scattergl\",\"marker\":{\"colorbar\":{\"outlinewidth\":0,\"ticks\":\"\"}}}],\"scatter3d\":[{\"type\":\"scatter3d\",\"line\":{\"colorbar\":{\"outlinewidth\":0,\"ticks\":\"\"}},\"marker\":{\"colorbar\":{\"outlinewidth\":0,\"ticks\":\"\"}}}],\"scattermapbox\":[{\"type\":\"scattermapbox\",\"marker\":{\"colorbar\":{\"outlinewidth\":0,\"ticks\":\"\"}}}],\"scatterternary\":[{\"type\":\"scatterternary\",\"marker\":{\"colorbar\":{\"outlinewidth\":0,\"ticks\":\"\"}}}],\"scattercarpet\":[{\"type\":\"scattercarpet\",\"marker\":{\"colorbar\":{\"outlinewidth\":0,\"ticks\":\"\"}}}],\"carpet\":[{\"aaxis\":{\"endlinecolor\":\"#2a3f5f\",\"gridcolor\":\"white\",\"linecolor\":\"white\",\"minorgridcolor\":\"white\",\"startlinecolor\":\"#2a3f5f\"},\"baxis\":{\"endlinecolor\":\"#2a3f5f\",\"gridcolor\":\"white\",\"linecolor\":\"white\",\"minorgridcolor\":\"white\",\"startlinecolor\":\"#2a3f5f\"},\"type\":\"carpet\"}],\"table\":[{\"cells\":{\"fill\":{\"color\":\"#EBF0F8\"},\"line\":{\"color\":\"white\"}},\"header\":{\"fill\":{\"color\":\"#C8D4E3\"},\"line\":{\"color\":\"white\"}},\"type\":\"table\"}],\"barpolar\":[{\"marker\":{\"line\":{\"color\":\"#E5ECF6\",\"width\":0.5},\"pattern\":{\"fillmode\":\"overlay\",\"size\":10,\"solidity\":0.2}},\"type\":\"barpolar\"}],\"pie\":[{\"automargin\":true,\"type\":\"pie\"}]},\"layout\":{\"autotypenumbers\":\"strict\",\"colorway\":[\"#636efa\",\"#EF553B\",\"#00cc96\",\"#ab63fa\",\"#FFA15A\",\"#19d3f3\",\"#FF6692\",\"#B6E880\",\"#FF97FF\",\"#FECB52\"],\"font\":{\"color\":\"#2a3f5f\"},\"hovermode\":\"closest\",\"hoverlabel\":{\"align\":\"left\"},\"paper_bgcolor\":\"white\",\"plot_bgcolor\":\"#E5ECF6\",\"polar\":{\"bgcolor\":\"#E5ECF6\",\"angularaxis\":{\"gridcolor\":\"white\",\"linecolor\":\"white\",\"ticks\":\"\"},\"radialaxis\":{\"gridcolor\":\"white\",\"linecolor\":\"white\",\"ticks\":\"\"}},\"ternary\":{\"bgcolor\":\"#E5ECF6\",\"aaxis\":{\"gridcolor\":\"white\",\"linecolor\":\"white\",\"ticks\":\"\"},\"baxis\":{\"gridcolor\":\"white\",\"linecolor\":\"white\",\"ticks\":\"\"},\"caxis\":{\"gridcolor\":\"white\",\"linecolor\":\"white\",\"ticks\":\"\"}},\"coloraxis\":{\"colorbar\":{\"outlinewidth\":0,\"ticks\":\"\"}},\"colorscale\":{\"sequential\":[[0.0,\"#0d0887\"],[0.1111111111111111,\"#46039f\"],[0.2222222222222222,\"#7201a8\"],[0.3333333333333333,\"#9c179e\"],[0.4444444444444444,\"#bd3786\"],[0.5555555555555556,\"#d8576b\"],[0.6666666666666666,\"#ed7953\"],[0.7777777777777778,\"#fb9f3a\"],[0.8888888888888888,\"#fdca26\"],[1.0,\"#f0f921\"]],\"sequentialminus\":[[0.0,\"#0d0887\"],[0.1111111111111111,\"#46039f\"],[0.2222222222222222,\"#7201a8\"],[0.3333333333333333,\"#9c179e\"],[0.4444444444444444,\"#bd3786\"],[0.5555555555555556,\"#d8576b\"],[0.6666666666666666,\"#ed7953\"],[0.7777777777777778,\"#fb9f3a\"],[0.8888888888888888,\"#fdca26\"],[1.0,\"#f0f921\"]],\"diverging\":[[0,\"#8e0152\"],[0.1,\"#c51b7d\"],[0.2,\"#de77ae\"],[0.3,\"#f1b6da\"],[0.4,\"#fde0ef\"],[0.5,\"#f7f7f7\"],[0.6,\"#e6f5d0\"],[0.7,\"#b8e186\"],[0.8,\"#7fbc41\"],[0.9,\"#4d9221\"],[1,\"#276419\"]]},\"xaxis\":{\"gridcolor\":\"white\",\"linecolor\":\"white\",\"ticks\":\"\",\"title\":{\"standoff\":15},\"zerolinecolor\":\"white\",\"automargin\":true,\"zerolinewidth\":2},\"yaxis\":{\"gridcolor\":\"white\",\"linecolor\":\"white\",\"ticks\":\"\",\"title\":{\"standoff\":15},\"zerolinecolor\":\"white\",\"automargin\":true,\"zerolinewidth\":2},\"scene\":{\"xaxis\":{\"backgroundcolor\":\"#E5ECF6\",\"gridcolor\":\"white\",\"linecolor\":\"white\",\"showbackground\":true,\"ticks\":\"\",\"zerolinecolor\":\"white\",\"gridwidth\":2},\"yaxis\":{\"backgroundcolor\":\"#E5ECF6\",\"gridcolor\":\"white\",\"linecolor\":\"white\",\"showbackground\":true,\"ticks\":\"\",\"zerolinecolor\":\"white\",\"gridwidth\":2},\"zaxis\":{\"backgroundcolor\":\"#E5ECF6\",\"gridcolor\":\"white\",\"linecolor\":\"white\",\"showbackground\":true,\"ticks\":\"\",\"zerolinecolor\":\"white\",\"gridwidth\":2}},\"shapedefaults\":{\"line\":{\"color\":\"#2a3f5f\"}},\"annotationdefaults\":{\"arrowcolor\":\"#2a3f5f\",\"arrowhead\":0,\"arrowwidth\":1},\"geo\":{\"bgcolor\":\"white\",\"landcolor\":\"#E5ECF6\",\"subunitcolor\":\"white\",\"showland\":true,\"showlakes\":true,\"lakecolor\":\"white\"},\"title\":{\"x\":0.05},\"mapbox\":{\"style\":\"light\"}}},\"xaxis\":{\"anchor\":\"y\",\"domain\":[0.0,1.0],\"title\":{\"text\":\"value\"},\"type\":\"log\"},\"yaxis\":{\"anchor\":\"x\",\"domain\":[0.0,1.0],\"title\":{\"text\":\"index\"}},\"legend\":{\"tracegroupgap\":0},\"title\":{\"text\":\"Induction Loss over training: solu-2l\"}},                        {\"responsive\": true}                    ).then(function(){\n",
              "                            \n",
              "var gd = document.getElementById('1b82f6dc-4619-4786-ac45-c3cf11921de0');\n",
              "var x = new MutationObserver(function (mutations, observer) {{\n",
              "        var display = window.getComputedStyle(gd).display;\n",
              "        if (!display || display === 'none') {{\n",
              "            console.log([gd, 'removed!']);\n",
              "            Plotly.purge(gd);\n",
              "            observer.disconnect();\n",
              "        }}\n",
              "}});\n",
              "\n",
              "// Listen for the removal of the full notebook cells\n",
              "var notebookContainer = gd.closest('#notebook-container');\n",
              "if (notebookContainer) {{\n",
              "    x.observe(notebookContainer, {childList: true});\n",
              "}}\n",
              "\n",
              "// Listen for the clearing of the current output cell\n",
              "var outputEl = gd.closest('.output');\n",
              "if (outputEl) {{\n",
              "    x.observe(outputEl, {childList: true});\n",
              "}}\n",
              "\n",
              "                        })                };                            </script>        </div>\n",
              "</body>\n",
              "</html>"
            ]
          },
          "metadata": {},
          "output_type": "display_data"
        }
      ],
      "source": [
        "line(induction_losses, x=tokens_trained_on, xaxis=\"Tokens Trained On\", yaxis=\"Induction Loss\", title=\"Induction Loss over training: solu-2l\", markers=True, log_x=True)"
      ]
    }
  ],
  "metadata": {
    "kernelspec": {
      "display_name": "Python 3",
      "name": "python3"
    },
    "language_info": {
      "codemirror_mode": {
        "name": "ipython",
        "version": 3
      },
      "file_extension": ".py",
      "mimetype": "text/x-python",
      "name": "python",
      "nbconvert_exporter": "python",
      "pygments_lexer": "ipython3",
      "version": "3.8.10"
    },
    "orig_nbformat": 4,
    "vscode": {
      "interpreter": {
        "hash": "eb812820b5094695c8a581672e17220e30dd2c15d704c018326e3cc2e1a566f1"
      }
    },
    "colab": {
      "provenance": [],
      "gpuType": "T4"
    },
    "accelerator": "GPU",
    "widgets": {
      "application/vnd.jupyter.widget-state+json": {
        "860fe6ce8a2d486587dbcf11ef05c66c": {
          "model_module": "@jupyter-widgets/controls",
          "model_name": "HBoxModel",
          "model_module_version": "1.5.0",
          "state": {
            "_dom_classes": [],
            "_model_module": "@jupyter-widgets/controls",
            "_model_module_version": "1.5.0",
            "_model_name": "HBoxModel",
            "_view_count": null,
            "_view_module": "@jupyter-widgets/controls",
            "_view_module_version": "1.5.0",
            "_view_name": "HBoxView",
            "box_style": "",
            "children": [
              "IPY_MODEL_7d329281a2af44188cec265f1ed927ed",
              "IPY_MODEL_c8b2d343edd847e4bd2bd505683cd177",
              "IPY_MODEL_f31f22a20d3d4aec96a5c66f95298bff"
            ],
            "layout": "IPY_MODEL_8460fdc8bca343f78ed4651585522cea"
          }
        },
        "7d329281a2af44188cec265f1ed927ed": {
          "model_module": "@jupyter-widgets/controls",
          "model_name": "HTMLModel",
          "model_module_version": "1.5.0",
          "state": {
            "_dom_classes": [],
            "_model_module": "@jupyter-widgets/controls",
            "_model_module_version": "1.5.0",
            "_model_name": "HTMLModel",
            "_view_count": null,
            "_view_module": "@jupyter-widgets/controls",
            "_view_module_version": "1.5.0",
            "_view_name": "HTMLView",
            "description": "",
            "description_tooltip": null,
            "layout": "IPY_MODEL_86507e7d77f84819814d2ee6ad2085a8",
            "placeholder": "​",
            "style": "IPY_MODEL_5f99e810e8af47b7941e999cf7ce6203",
            "value": "config.json: 100%"
          }
        },
        "c8b2d343edd847e4bd2bd505683cd177": {
          "model_module": "@jupyter-widgets/controls",
          "model_name": "FloatProgressModel",
          "model_module_version": "1.5.0",
          "state": {
            "_dom_classes": [],
            "_model_module": "@jupyter-widgets/controls",
            "_model_module_version": "1.5.0",
            "_model_name": "FloatProgressModel",
            "_view_count": null,
            "_view_module": "@jupyter-widgets/controls",
            "_view_module_version": "1.5.0",
            "_view_name": "ProgressView",
            "bar_style": "success",
            "description": "",
            "description_tooltip": null,
            "layout": "IPY_MODEL_249f69626bcc42368c854de727e8403a",
            "max": 718,
            "min": 0,
            "orientation": "horizontal",
            "style": "IPY_MODEL_dc278d900e68415fa2172f0b397becd9",
            "value": 718
          }
        },
        "f31f22a20d3d4aec96a5c66f95298bff": {
          "model_module": "@jupyter-widgets/controls",
          "model_name": "HTMLModel",
          "model_module_version": "1.5.0",
          "state": {
            "_dom_classes": [],
            "_model_module": "@jupyter-widgets/controls",
            "_model_module_version": "1.5.0",
            "_model_name": "HTMLModel",
            "_view_count": null,
            "_view_module": "@jupyter-widgets/controls",
            "_view_module_version": "1.5.0",
            "_view_name": "HTMLView",
            "description": "",
            "description_tooltip": null,
            "layout": "IPY_MODEL_a9417e2f59e44313a80f4849c57cb868",
            "placeholder": "​",
            "style": "IPY_MODEL_af50ed242121424082bfbda64f0a8e54",
            "value": " 718/718 [00:00&lt;00:00, 55.6kB/s]"
          }
        },
        "8460fdc8bca343f78ed4651585522cea": {
          "model_module": "@jupyter-widgets/base",
          "model_name": "LayoutModel",
          "model_module_version": "1.2.0",
          "state": {
            "_model_module": "@jupyter-widgets/base",
            "_model_module_version": "1.2.0",
            "_model_name": "LayoutModel",
            "_view_count": null,
            "_view_module": "@jupyter-widgets/base",
            "_view_module_version": "1.2.0",
            "_view_name": "LayoutView",
            "align_content": null,
            "align_items": null,
            "align_self": null,
            "border": null,
            "bottom": null,
            "display": null,
            "flex": null,
            "flex_flow": null,
            "grid_area": null,
            "grid_auto_columns": null,
            "grid_auto_flow": null,
            "grid_auto_rows": null,
            "grid_column": null,
            "grid_gap": null,
            "grid_row": null,
            "grid_template_areas": null,
            "grid_template_columns": null,
            "grid_template_rows": null,
            "height": null,
            "justify_content": null,
            "justify_items": null,
            "left": null,
            "margin": null,
            "max_height": null,
            "max_width": null,
            "min_height": null,
            "min_width": null,
            "object_fit": null,
            "object_position": null,
            "order": null,
            "overflow": null,
            "overflow_x": null,
            "overflow_y": null,
            "padding": null,
            "right": null,
            "top": null,
            "visibility": null,
            "width": null
          }
        },
        "86507e7d77f84819814d2ee6ad2085a8": {
          "model_module": "@jupyter-widgets/base",
          "model_name": "LayoutModel",
          "model_module_version": "1.2.0",
          "state": {
            "_model_module": "@jupyter-widgets/base",
            "_model_module_version": "1.2.0",
            "_model_name": "LayoutModel",
            "_view_count": null,
            "_view_module": "@jupyter-widgets/base",
            "_view_module_version": "1.2.0",
            "_view_name": "LayoutView",
            "align_content": null,
            "align_items": null,
            "align_self": null,
            "border": null,
            "bottom": null,
            "display": null,
            "flex": null,
            "flex_flow": null,
            "grid_area": null,
            "grid_auto_columns": null,
            "grid_auto_flow": null,
            "grid_auto_rows": null,
            "grid_column": null,
            "grid_gap": null,
            "grid_row": null,
            "grid_template_areas": null,
            "grid_template_columns": null,
            "grid_template_rows": null,
            "height": null,
            "justify_content": null,
            "justify_items": null,
            "left": null,
            "margin": null,
            "max_height": null,
            "max_width": null,
            "min_height": null,
            "min_width": null,
            "object_fit": null,
            "object_position": null,
            "order": null,
            "overflow": null,
            "overflow_x": null,
            "overflow_y": null,
            "padding": null,
            "right": null,
            "top": null,
            "visibility": null,
            "width": null
          }
        },
        "5f99e810e8af47b7941e999cf7ce6203": {
          "model_module": "@jupyter-widgets/controls",
          "model_name": "DescriptionStyleModel",
          "model_module_version": "1.5.0",
          "state": {
            "_model_module": "@jupyter-widgets/controls",
            "_model_module_version": "1.5.0",
            "_model_name": "DescriptionStyleModel",
            "_view_count": null,
            "_view_module": "@jupyter-widgets/base",
            "_view_module_version": "1.2.0",
            "_view_name": "StyleView",
            "description_width": ""
          }
        },
        "249f69626bcc42368c854de727e8403a": {
          "model_module": "@jupyter-widgets/base",
          "model_name": "LayoutModel",
          "model_module_version": "1.2.0",
          "state": {
            "_model_module": "@jupyter-widgets/base",
            "_model_module_version": "1.2.0",
            "_model_name": "LayoutModel",
            "_view_count": null,
            "_view_module": "@jupyter-widgets/base",
            "_view_module_version": "1.2.0",
            "_view_name": "LayoutView",
            "align_content": null,
            "align_items": null,
            "align_self": null,
            "border": null,
            "bottom": null,
            "display": null,
            "flex": null,
            "flex_flow": null,
            "grid_area": null,
            "grid_auto_columns": null,
            "grid_auto_flow": null,
            "grid_auto_rows": null,
            "grid_column": null,
            "grid_gap": null,
            "grid_row": null,
            "grid_template_areas": null,
            "grid_template_columns": null,
            "grid_template_rows": null,
            "height": null,
            "justify_content": null,
            "justify_items": null,
            "left": null,
            "margin": null,
            "max_height": null,
            "max_width": null,
            "min_height": null,
            "min_width": null,
            "object_fit": null,
            "object_position": null,
            "order": null,
            "overflow": null,
            "overflow_x": null,
            "overflow_y": null,
            "padding": null,
            "right": null,
            "top": null,
            "visibility": null,
            "width": null
          }
        },
        "dc278d900e68415fa2172f0b397becd9": {
          "model_module": "@jupyter-widgets/controls",
          "model_name": "ProgressStyleModel",
          "model_module_version": "1.5.0",
          "state": {
            "_model_module": "@jupyter-widgets/controls",
            "_model_module_version": "1.5.0",
            "_model_name": "ProgressStyleModel",
            "_view_count": null,
            "_view_module": "@jupyter-widgets/base",
            "_view_module_version": "1.2.0",
            "_view_name": "StyleView",
            "bar_color": null,
            "description_width": ""
          }
        },
        "a9417e2f59e44313a80f4849c57cb868": {
          "model_module": "@jupyter-widgets/base",
          "model_name": "LayoutModel",
          "model_module_version": "1.2.0",
          "state": {
            "_model_module": "@jupyter-widgets/base",
            "_model_module_version": "1.2.0",
            "_model_name": "LayoutModel",
            "_view_count": null,
            "_view_module": "@jupyter-widgets/base",
            "_view_module_version": "1.2.0",
            "_view_name": "LayoutView",
            "align_content": null,
            "align_items": null,
            "align_self": null,
            "border": null,
            "bottom": null,
            "display": null,
            "flex": null,
            "flex_flow": null,
            "grid_area": null,
            "grid_auto_columns": null,
            "grid_auto_flow": null,
            "grid_auto_rows": null,
            "grid_column": null,
            "grid_gap": null,
            "grid_row": null,
            "grid_template_areas": null,
            "grid_template_columns": null,
            "grid_template_rows": null,
            "height": null,
            "justify_content": null,
            "justify_items": null,
            "left": null,
            "margin": null,
            "max_height": null,
            "max_width": null,
            "min_height": null,
            "min_width": null,
            "object_fit": null,
            "object_position": null,
            "order": null,
            "overflow": null,
            "overflow_x": null,
            "overflow_y": null,
            "padding": null,
            "right": null,
            "top": null,
            "visibility": null,
            "width": null
          }
        },
        "af50ed242121424082bfbda64f0a8e54": {
          "model_module": "@jupyter-widgets/controls",
          "model_name": "DescriptionStyleModel",
          "model_module_version": "1.5.0",
          "state": {
            "_model_module": "@jupyter-widgets/controls",
            "_model_module_version": "1.5.0",
            "_model_name": "DescriptionStyleModel",
            "_view_count": null,
            "_view_module": "@jupyter-widgets/base",
            "_view_module_version": "1.2.0",
            "_view_name": "StyleView",
            "description_width": ""
          }
        },
        "78697861d1534b3ca927d049d493e650": {
          "model_module": "@jupyter-widgets/controls",
          "model_name": "HBoxModel",
          "model_module_version": "1.5.0",
          "state": {
            "_dom_classes": [],
            "_model_module": "@jupyter-widgets/controls",
            "_model_module_version": "1.5.0",
            "_model_name": "HBoxModel",
            "_view_count": null,
            "_view_module": "@jupyter-widgets/controls",
            "_view_module_version": "1.5.0",
            "_view_name": "HBoxView",
            "box_style": "",
            "children": [
              "IPY_MODEL_434d788221314be89fe731e0e7247533",
              "IPY_MODEL_fb5c6f69dc1346a0b231469e8bb1ab64",
              "IPY_MODEL_db2871c168a1452daebe969ec6cd81e5"
            ],
            "layout": "IPY_MODEL_9ccbfb8488174c8997c17363e88596d6"
          }
        },
        "434d788221314be89fe731e0e7247533": {
          "model_module": "@jupyter-widgets/controls",
          "model_name": "HTMLModel",
          "model_module_version": "1.5.0",
          "state": {
            "_dom_classes": [],
            "_model_module": "@jupyter-widgets/controls",
            "_model_module_version": "1.5.0",
            "_model_name": "HTMLModel",
            "_view_count": null,
            "_view_module": "@jupyter-widgets/controls",
            "_view_module_version": "1.5.0",
            "_view_name": "HTMLView",
            "description": "",
            "description_tooltip": null,
            "layout": "IPY_MODEL_b622e44f2413401b9846636346ad894b",
            "placeholder": "​",
            "style": "IPY_MODEL_a26aae32ae5f44f39a346d65f97ec36e",
            "value": "model.safetensors: 100%"
          }
        },
        "fb5c6f69dc1346a0b231469e8bb1ab64": {
          "model_module": "@jupyter-widgets/controls",
          "model_name": "FloatProgressModel",
          "model_module_version": "1.5.0",
          "state": {
            "_dom_classes": [],
            "_model_module": "@jupyter-widgets/controls",
            "_model_module_version": "1.5.0",
            "_model_name": "FloatProgressModel",
            "_view_count": null,
            "_view_module": "@jupyter-widgets/controls",
            "_view_module_version": "1.5.0",
            "_view_name": "ProgressView",
            "bar_style": "success",
            "description": "",
            "description_tooltip": null,
            "layout": "IPY_MODEL_9e84b8e7c7244b1bbbb4a1ac92b81a6d",
            "max": 1519984962,
            "min": 0,
            "orientation": "horizontal",
            "style": "IPY_MODEL_2cdca141867f447889d598c4ff1f19e5",
            "value": 1519984962
          }
        },
        "db2871c168a1452daebe969ec6cd81e5": {
          "model_module": "@jupyter-widgets/controls",
          "model_name": "HTMLModel",
          "model_module_version": "1.5.0",
          "state": {
            "_dom_classes": [],
            "_model_module": "@jupyter-widgets/controls",
            "_model_module_version": "1.5.0",
            "_model_name": "HTMLModel",
            "_view_count": null,
            "_view_module": "@jupyter-widgets/controls",
            "_view_module_version": "1.5.0",
            "_view_name": "HTMLView",
            "description": "",
            "description_tooltip": null,
            "layout": "IPY_MODEL_201fb8e4dee64a64948410fa0cdc1580",
            "placeholder": "​",
            "style": "IPY_MODEL_de62aca7fe3c431a9985ae1bb35396d4",
            "value": " 1.52G/1.52G [01:07&lt;00:00, 39.6MB/s]"
          }
        },
        "9ccbfb8488174c8997c17363e88596d6": {
          "model_module": "@jupyter-widgets/base",
          "model_name": "LayoutModel",
          "model_module_version": "1.2.0",
          "state": {
            "_model_module": "@jupyter-widgets/base",
            "_model_module_version": "1.2.0",
            "_model_name": "LayoutModel",
            "_view_count": null,
            "_view_module": "@jupyter-widgets/base",
            "_view_module_version": "1.2.0",
            "_view_name": "LayoutView",
            "align_content": null,
            "align_items": null,
            "align_self": null,
            "border": null,
            "bottom": null,
            "display": null,
            "flex": null,
            "flex_flow": null,
            "grid_area": null,
            "grid_auto_columns": null,
            "grid_auto_flow": null,
            "grid_auto_rows": null,
            "grid_column": null,
            "grid_gap": null,
            "grid_row": null,
            "grid_template_areas": null,
            "grid_template_columns": null,
            "grid_template_rows": null,
            "height": null,
            "justify_content": null,
            "justify_items": null,
            "left": null,
            "margin": null,
            "max_height": null,
            "max_width": null,
            "min_height": null,
            "min_width": null,
            "object_fit": null,
            "object_position": null,
            "order": null,
            "overflow": null,
            "overflow_x": null,
            "overflow_y": null,
            "padding": null,
            "right": null,
            "top": null,
            "visibility": null,
            "width": null
          }
        },
        "b622e44f2413401b9846636346ad894b": {
          "model_module": "@jupyter-widgets/base",
          "model_name": "LayoutModel",
          "model_module_version": "1.2.0",
          "state": {
            "_model_module": "@jupyter-widgets/base",
            "_model_module_version": "1.2.0",
            "_model_name": "LayoutModel",
            "_view_count": null,
            "_view_module": "@jupyter-widgets/base",
            "_view_module_version": "1.2.0",
            "_view_name": "LayoutView",
            "align_content": null,
            "align_items": null,
            "align_self": null,
            "border": null,
            "bottom": null,
            "display": null,
            "flex": null,
            "flex_flow": null,
            "grid_area": null,
            "grid_auto_columns": null,
            "grid_auto_flow": null,
            "grid_auto_rows": null,
            "grid_column": null,
            "grid_gap": null,
            "grid_row": null,
            "grid_template_areas": null,
            "grid_template_columns": null,
            "grid_template_rows": null,
            "height": null,
            "justify_content": null,
            "justify_items": null,
            "left": null,
            "margin": null,
            "max_height": null,
            "max_width": null,
            "min_height": null,
            "min_width": null,
            "object_fit": null,
            "object_position": null,
            "order": null,
            "overflow": null,
            "overflow_x": null,
            "overflow_y": null,
            "padding": null,
            "right": null,
            "top": null,
            "visibility": null,
            "width": null
          }
        },
        "a26aae32ae5f44f39a346d65f97ec36e": {
          "model_module": "@jupyter-widgets/controls",
          "model_name": "DescriptionStyleModel",
          "model_module_version": "1.5.0",
          "state": {
            "_model_module": "@jupyter-widgets/controls",
            "_model_module_version": "1.5.0",
            "_model_name": "DescriptionStyleModel",
            "_view_count": null,
            "_view_module": "@jupyter-widgets/base",
            "_view_module_version": "1.2.0",
            "_view_name": "StyleView",
            "description_width": ""
          }
        },
        "9e84b8e7c7244b1bbbb4a1ac92b81a6d": {
          "model_module": "@jupyter-widgets/base",
          "model_name": "LayoutModel",
          "model_module_version": "1.2.0",
          "state": {
            "_model_module": "@jupyter-widgets/base",
            "_model_module_version": "1.2.0",
            "_model_name": "LayoutModel",
            "_view_count": null,
            "_view_module": "@jupyter-widgets/base",
            "_view_module_version": "1.2.0",
            "_view_name": "LayoutView",
            "align_content": null,
            "align_items": null,
            "align_self": null,
            "border": null,
            "bottom": null,
            "display": null,
            "flex": null,
            "flex_flow": null,
            "grid_area": null,
            "grid_auto_columns": null,
            "grid_auto_flow": null,
            "grid_auto_rows": null,
            "grid_column": null,
            "grid_gap": null,
            "grid_row": null,
            "grid_template_areas": null,
            "grid_template_columns": null,
            "grid_template_rows": null,
            "height": null,
            "justify_content": null,
            "justify_items": null,
            "left": null,
            "margin": null,
            "max_height": null,
            "max_width": null,
            "min_height": null,
            "min_width": null,
            "object_fit": null,
            "object_position": null,
            "order": null,
            "overflow": null,
            "overflow_x": null,
            "overflow_y": null,
            "padding": null,
            "right": null,
            "top": null,
            "visibility": null,
            "width": null
          }
        },
        "2cdca141867f447889d598c4ff1f19e5": {
          "model_module": "@jupyter-widgets/controls",
          "model_name": "ProgressStyleModel",
          "model_module_version": "1.5.0",
          "state": {
            "_model_module": "@jupyter-widgets/controls",
            "_model_module_version": "1.5.0",
            "_model_name": "ProgressStyleModel",
            "_view_count": null,
            "_view_module": "@jupyter-widgets/base",
            "_view_module_version": "1.2.0",
            "_view_name": "StyleView",
            "bar_color": null,
            "description_width": ""
          }
        },
        "201fb8e4dee64a64948410fa0cdc1580": {
          "model_module": "@jupyter-widgets/base",
          "model_name": "LayoutModel",
          "model_module_version": "1.2.0",
          "state": {
            "_model_module": "@jupyter-widgets/base",
            "_model_module_version": "1.2.0",
            "_model_name": "LayoutModel",
            "_view_count": null,
            "_view_module": "@jupyter-widgets/base",
            "_view_module_version": "1.2.0",
            "_view_name": "LayoutView",
            "align_content": null,
            "align_items": null,
            "align_self": null,
            "border": null,
            "bottom": null,
            "display": null,
            "flex": null,
            "flex_flow": null,
            "grid_area": null,
            "grid_auto_columns": null,
            "grid_auto_flow": null,
            "grid_auto_rows": null,
            "grid_column": null,
            "grid_gap": null,
            "grid_row": null,
            "grid_template_areas": null,
            "grid_template_columns": null,
            "grid_template_rows": null,
            "height": null,
            "justify_content": null,
            "justify_items": null,
            "left": null,
            "margin": null,
            "max_height": null,
            "max_width": null,
            "min_height": null,
            "min_width": null,
            "object_fit": null,
            "object_position": null,
            "order": null,
            "overflow": null,
            "overflow_x": null,
            "overflow_y": null,
            "padding": null,
            "right": null,
            "top": null,
            "visibility": null,
            "width": null
          }
        },
        "de62aca7fe3c431a9985ae1bb35396d4": {
          "model_module": "@jupyter-widgets/controls",
          "model_name": "DescriptionStyleModel",
          "model_module_version": "1.5.0",
          "state": {
            "_model_module": "@jupyter-widgets/controls",
            "_model_module_version": "1.5.0",
            "_model_name": "DescriptionStyleModel",
            "_view_count": null,
            "_view_module": "@jupyter-widgets/base",
            "_view_module_version": "1.2.0",
            "_view_name": "StyleView",
            "description_width": ""
          }
        },
        "58258f25460f4a3c919168679c5d2ab0": {
          "model_module": "@jupyter-widgets/controls",
          "model_name": "HBoxModel",
          "model_module_version": "1.5.0",
          "state": {
            "_dom_classes": [],
            "_model_module": "@jupyter-widgets/controls",
            "_model_module_version": "1.5.0",
            "_model_name": "HBoxModel",
            "_view_count": null,
            "_view_module": "@jupyter-widgets/controls",
            "_view_module_version": "1.5.0",
            "_view_name": "HBoxView",
            "box_style": "",
            "children": [
              "IPY_MODEL_d9b11208b11149ec959676a6bcde1097",
              "IPY_MODEL_051b4f2ac6d545a58c96b8e4e230db47",
              "IPY_MODEL_c4a6a9c66da04ef8b219015c047f67f3"
            ],
            "layout": "IPY_MODEL_6681190df6c844028914ec239f4a1a2d"
          }
        },
        "d9b11208b11149ec959676a6bcde1097": {
          "model_module": "@jupyter-widgets/controls",
          "model_name": "HTMLModel",
          "model_module_version": "1.5.0",
          "state": {
            "_dom_classes": [],
            "_model_module": "@jupyter-widgets/controls",
            "_model_module_version": "1.5.0",
            "_model_name": "HTMLModel",
            "_view_count": null,
            "_view_module": "@jupyter-widgets/controls",
            "_view_module_version": "1.5.0",
            "_view_name": "HTMLView",
            "description": "",
            "description_tooltip": null,
            "layout": "IPY_MODEL_5b04f3ba87f5420a96312be99c3189f6",
            "placeholder": "​",
            "style": "IPY_MODEL_d58eace3edb64b04b28d10ba2544ddb5",
            "value": "generation_config.json: 100%"
          }
        },
        "051b4f2ac6d545a58c96b8e4e230db47": {
          "model_module": "@jupyter-widgets/controls",
          "model_name": "FloatProgressModel",
          "model_module_version": "1.5.0",
          "state": {
            "_dom_classes": [],
            "_model_module": "@jupyter-widgets/controls",
            "_model_module_version": "1.5.0",
            "_model_name": "FloatProgressModel",
            "_view_count": null,
            "_view_module": "@jupyter-widgets/controls",
            "_view_module_version": "1.5.0",
            "_view_name": "ProgressView",
            "bar_style": "success",
            "description": "",
            "description_tooltip": null,
            "layout": "IPY_MODEL_fb9d0e8d829f43bfb450712bae99269c",
            "max": 124,
            "min": 0,
            "orientation": "horizontal",
            "style": "IPY_MODEL_a97ca614fb0e44b78605f74393ccd76b",
            "value": 124
          }
        },
        "c4a6a9c66da04ef8b219015c047f67f3": {
          "model_module": "@jupyter-widgets/controls",
          "model_name": "HTMLModel",
          "model_module_version": "1.5.0",
          "state": {
            "_dom_classes": [],
            "_model_module": "@jupyter-widgets/controls",
            "_model_module_version": "1.5.0",
            "_model_name": "HTMLModel",
            "_view_count": null,
            "_view_module": "@jupyter-widgets/controls",
            "_view_module_version": "1.5.0",
            "_view_name": "HTMLView",
            "description": "",
            "description_tooltip": null,
            "layout": "IPY_MODEL_dece4fe0c4b043469f46d0d313ad4d51",
            "placeholder": "​",
            "style": "IPY_MODEL_076544d260f5406a9d599f4da399e3fa",
            "value": " 124/124 [00:00&lt;00:00, 8.80kB/s]"
          }
        },
        "6681190df6c844028914ec239f4a1a2d": {
          "model_module": "@jupyter-widgets/base",
          "model_name": "LayoutModel",
          "model_module_version": "1.2.0",
          "state": {
            "_model_module": "@jupyter-widgets/base",
            "_model_module_version": "1.2.0",
            "_model_name": "LayoutModel",
            "_view_count": null,
            "_view_module": "@jupyter-widgets/base",
            "_view_module_version": "1.2.0",
            "_view_name": "LayoutView",
            "align_content": null,
            "align_items": null,
            "align_self": null,
            "border": null,
            "bottom": null,
            "display": null,
            "flex": null,
            "flex_flow": null,
            "grid_area": null,
            "grid_auto_columns": null,
            "grid_auto_flow": null,
            "grid_auto_rows": null,
            "grid_column": null,
            "grid_gap": null,
            "grid_row": null,
            "grid_template_areas": null,
            "grid_template_columns": null,
            "grid_template_rows": null,
            "height": null,
            "justify_content": null,
            "justify_items": null,
            "left": null,
            "margin": null,
            "max_height": null,
            "max_width": null,
            "min_height": null,
            "min_width": null,
            "object_fit": null,
            "object_position": null,
            "order": null,
            "overflow": null,
            "overflow_x": null,
            "overflow_y": null,
            "padding": null,
            "right": null,
            "top": null,
            "visibility": null,
            "width": null
          }
        },
        "5b04f3ba87f5420a96312be99c3189f6": {
          "model_module": "@jupyter-widgets/base",
          "model_name": "LayoutModel",
          "model_module_version": "1.2.0",
          "state": {
            "_model_module": "@jupyter-widgets/base",
            "_model_module_version": "1.2.0",
            "_model_name": "LayoutModel",
            "_view_count": null,
            "_view_module": "@jupyter-widgets/base",
            "_view_module_version": "1.2.0",
            "_view_name": "LayoutView",
            "align_content": null,
            "align_items": null,
            "align_self": null,
            "border": null,
            "bottom": null,
            "display": null,
            "flex": null,
            "flex_flow": null,
            "grid_area": null,
            "grid_auto_columns": null,
            "grid_auto_flow": null,
            "grid_auto_rows": null,
            "grid_column": null,
            "grid_gap": null,
            "grid_row": null,
            "grid_template_areas": null,
            "grid_template_columns": null,
            "grid_template_rows": null,
            "height": null,
            "justify_content": null,
            "justify_items": null,
            "left": null,
            "margin": null,
            "max_height": null,
            "max_width": null,
            "min_height": null,
            "min_width": null,
            "object_fit": null,
            "object_position": null,
            "order": null,
            "overflow": null,
            "overflow_x": null,
            "overflow_y": null,
            "padding": null,
            "right": null,
            "top": null,
            "visibility": null,
            "width": null
          }
        },
        "d58eace3edb64b04b28d10ba2544ddb5": {
          "model_module": "@jupyter-widgets/controls",
          "model_name": "DescriptionStyleModel",
          "model_module_version": "1.5.0",
          "state": {
            "_model_module": "@jupyter-widgets/controls",
            "_model_module_version": "1.5.0",
            "_model_name": "DescriptionStyleModel",
            "_view_count": null,
            "_view_module": "@jupyter-widgets/base",
            "_view_module_version": "1.2.0",
            "_view_name": "StyleView",
            "description_width": ""
          }
        },
        "fb9d0e8d829f43bfb450712bae99269c": {
          "model_module": "@jupyter-widgets/base",
          "model_name": "LayoutModel",
          "model_module_version": "1.2.0",
          "state": {
            "_model_module": "@jupyter-widgets/base",
            "_model_module_version": "1.2.0",
            "_model_name": "LayoutModel",
            "_view_count": null,
            "_view_module": "@jupyter-widgets/base",
            "_view_module_version": "1.2.0",
            "_view_name": "LayoutView",
            "align_content": null,
            "align_items": null,
            "align_self": null,
            "border": null,
            "bottom": null,
            "display": null,
            "flex": null,
            "flex_flow": null,
            "grid_area": null,
            "grid_auto_columns": null,
            "grid_auto_flow": null,
            "grid_auto_rows": null,
            "grid_column": null,
            "grid_gap": null,
            "grid_row": null,
            "grid_template_areas": null,
            "grid_template_columns": null,
            "grid_template_rows": null,
            "height": null,
            "justify_content": null,
            "justify_items": null,
            "left": null,
            "margin": null,
            "max_height": null,
            "max_width": null,
            "min_height": null,
            "min_width": null,
            "object_fit": null,
            "object_position": null,
            "order": null,
            "overflow": null,
            "overflow_x": null,
            "overflow_y": null,
            "padding": null,
            "right": null,
            "top": null,
            "visibility": null,
            "width": null
          }
        },
        "a97ca614fb0e44b78605f74393ccd76b": {
          "model_module": "@jupyter-widgets/controls",
          "model_name": "ProgressStyleModel",
          "model_module_version": "1.5.0",
          "state": {
            "_model_module": "@jupyter-widgets/controls",
            "_model_module_version": "1.5.0",
            "_model_name": "ProgressStyleModel",
            "_view_count": null,
            "_view_module": "@jupyter-widgets/base",
            "_view_module_version": "1.2.0",
            "_view_name": "StyleView",
            "bar_color": null,
            "description_width": ""
          }
        },
        "dece4fe0c4b043469f46d0d313ad4d51": {
          "model_module": "@jupyter-widgets/base",
          "model_name": "LayoutModel",
          "model_module_version": "1.2.0",
          "state": {
            "_model_module": "@jupyter-widgets/base",
            "_model_module_version": "1.2.0",
            "_model_name": "LayoutModel",
            "_view_count": null,
            "_view_module": "@jupyter-widgets/base",
            "_view_module_version": "1.2.0",
            "_view_name": "LayoutView",
            "align_content": null,
            "align_items": null,
            "align_self": null,
            "border": null,
            "bottom": null,
            "display": null,
            "flex": null,
            "flex_flow": null,
            "grid_area": null,
            "grid_auto_columns": null,
            "grid_auto_flow": null,
            "grid_auto_rows": null,
            "grid_column": null,
            "grid_gap": null,
            "grid_row": null,
            "grid_template_areas": null,
            "grid_template_columns": null,
            "grid_template_rows": null,
            "height": null,
            "justify_content": null,
            "justify_items": null,
            "left": null,
            "margin": null,
            "max_height": null,
            "max_width": null,
            "min_height": null,
            "min_width": null,
            "object_fit": null,
            "object_position": null,
            "order": null,
            "overflow": null,
            "overflow_x": null,
            "overflow_y": null,
            "padding": null,
            "right": null,
            "top": null,
            "visibility": null,
            "width": null
          }
        },
        "076544d260f5406a9d599f4da399e3fa": {
          "model_module": "@jupyter-widgets/controls",
          "model_name": "DescriptionStyleModel",
          "model_module_version": "1.5.0",
          "state": {
            "_model_module": "@jupyter-widgets/controls",
            "_model_module_version": "1.5.0",
            "_model_name": "DescriptionStyleModel",
            "_view_count": null,
            "_view_module": "@jupyter-widgets/base",
            "_view_module_version": "1.2.0",
            "_view_name": "StyleView",
            "description_width": ""
          }
        },
        "85c4da4cc945462d8bf4a618582a039b": {
          "model_module": "@jupyter-widgets/controls",
          "model_name": "HBoxModel",
          "model_module_version": "1.5.0",
          "state": {
            "_dom_classes": [],
            "_model_module": "@jupyter-widgets/controls",
            "_model_module_version": "1.5.0",
            "_model_name": "HBoxModel",
            "_view_count": null,
            "_view_module": "@jupyter-widgets/controls",
            "_view_module_version": "1.5.0",
            "_view_name": "HBoxView",
            "box_style": "",
            "children": [
              "IPY_MODEL_18972d7e211645a78a9d287929d81f5d",
              "IPY_MODEL_c038f52e90fb428db5c1469b48e0a39d",
              "IPY_MODEL_0f3231c9cc284fbb85cba3358eb66361"
            ],
            "layout": "IPY_MODEL_166ed80510e6491f85318f8d34b78e5a"
          }
        },
        "18972d7e211645a78a9d287929d81f5d": {
          "model_module": "@jupyter-widgets/controls",
          "model_name": "HTMLModel",
          "model_module_version": "1.5.0",
          "state": {
            "_dom_classes": [],
            "_model_module": "@jupyter-widgets/controls",
            "_model_module_version": "1.5.0",
            "_model_name": "HTMLModel",
            "_view_count": null,
            "_view_module": "@jupyter-widgets/controls",
            "_view_module_version": "1.5.0",
            "_view_name": "HTMLView",
            "description": "",
            "description_tooltip": null,
            "layout": "IPY_MODEL_fb5f54bce91e458a9680a44821154589",
            "placeholder": "​",
            "style": "IPY_MODEL_643a6d06eebe4b57a94335f73fd12c4a",
            "value": "tokenizer_config.json: 100%"
          }
        },
        "c038f52e90fb428db5c1469b48e0a39d": {
          "model_module": "@jupyter-widgets/controls",
          "model_name": "FloatProgressModel",
          "model_module_version": "1.5.0",
          "state": {
            "_dom_classes": [],
            "_model_module": "@jupyter-widgets/controls",
            "_model_module_version": "1.5.0",
            "_model_name": "FloatProgressModel",
            "_view_count": null,
            "_view_module": "@jupyter-widgets/controls",
            "_view_module_version": "1.5.0",
            "_view_name": "ProgressView",
            "bar_style": "success",
            "description": "",
            "description_tooltip": null,
            "layout": "IPY_MODEL_1c65366e67d041abb7c83be4a580ac5e",
            "max": 26,
            "min": 0,
            "orientation": "horizontal",
            "style": "IPY_MODEL_43b6c2ca61704ff78bd7581db161cbc3",
            "value": 26
          }
        },
        "0f3231c9cc284fbb85cba3358eb66361": {
          "model_module": "@jupyter-widgets/controls",
          "model_name": "HTMLModel",
          "model_module_version": "1.5.0",
          "state": {
            "_dom_classes": [],
            "_model_module": "@jupyter-widgets/controls",
            "_model_module_version": "1.5.0",
            "_model_name": "HTMLModel",
            "_view_count": null,
            "_view_module": "@jupyter-widgets/controls",
            "_view_module_version": "1.5.0",
            "_view_name": "HTMLView",
            "description": "",
            "description_tooltip": null,
            "layout": "IPY_MODEL_a50ed627f18444408bbd6cb869d496a3",
            "placeholder": "​",
            "style": "IPY_MODEL_7a5320da3f0e4c889c30e796ee8aed4d",
            "value": " 26.0/26.0 [00:00&lt;00:00, 3.01kB/s]"
          }
        },
        "166ed80510e6491f85318f8d34b78e5a": {
          "model_module": "@jupyter-widgets/base",
          "model_name": "LayoutModel",
          "model_module_version": "1.2.0",
          "state": {
            "_model_module": "@jupyter-widgets/base",
            "_model_module_version": "1.2.0",
            "_model_name": "LayoutModel",
            "_view_count": null,
            "_view_module": "@jupyter-widgets/base",
            "_view_module_version": "1.2.0",
            "_view_name": "LayoutView",
            "align_content": null,
            "align_items": null,
            "align_self": null,
            "border": null,
            "bottom": null,
            "display": null,
            "flex": null,
            "flex_flow": null,
            "grid_area": null,
            "grid_auto_columns": null,
            "grid_auto_flow": null,
            "grid_auto_rows": null,
            "grid_column": null,
            "grid_gap": null,
            "grid_row": null,
            "grid_template_areas": null,
            "grid_template_columns": null,
            "grid_template_rows": null,
            "height": null,
            "justify_content": null,
            "justify_items": null,
            "left": null,
            "margin": null,
            "max_height": null,
            "max_width": null,
            "min_height": null,
            "min_width": null,
            "object_fit": null,
            "object_position": null,
            "order": null,
            "overflow": null,
            "overflow_x": null,
            "overflow_y": null,
            "padding": null,
            "right": null,
            "top": null,
            "visibility": null,
            "width": null
          }
        },
        "fb5f54bce91e458a9680a44821154589": {
          "model_module": "@jupyter-widgets/base",
          "model_name": "LayoutModel",
          "model_module_version": "1.2.0",
          "state": {
            "_model_module": "@jupyter-widgets/base",
            "_model_module_version": "1.2.0",
            "_model_name": "LayoutModel",
            "_view_count": null,
            "_view_module": "@jupyter-widgets/base",
            "_view_module_version": "1.2.0",
            "_view_name": "LayoutView",
            "align_content": null,
            "align_items": null,
            "align_self": null,
            "border": null,
            "bottom": null,
            "display": null,
            "flex": null,
            "flex_flow": null,
            "grid_area": null,
            "grid_auto_columns": null,
            "grid_auto_flow": null,
            "grid_auto_rows": null,
            "grid_column": null,
            "grid_gap": null,
            "grid_row": null,
            "grid_template_areas": null,
            "grid_template_columns": null,
            "grid_template_rows": null,
            "height": null,
            "justify_content": null,
            "justify_items": null,
            "left": null,
            "margin": null,
            "max_height": null,
            "max_width": null,
            "min_height": null,
            "min_width": null,
            "object_fit": null,
            "object_position": null,
            "order": null,
            "overflow": null,
            "overflow_x": null,
            "overflow_y": null,
            "padding": null,
            "right": null,
            "top": null,
            "visibility": null,
            "width": null
          }
        },
        "643a6d06eebe4b57a94335f73fd12c4a": {
          "model_module": "@jupyter-widgets/controls",
          "model_name": "DescriptionStyleModel",
          "model_module_version": "1.5.0",
          "state": {
            "_model_module": "@jupyter-widgets/controls",
            "_model_module_version": "1.5.0",
            "_model_name": "DescriptionStyleModel",
            "_view_count": null,
            "_view_module": "@jupyter-widgets/base",
            "_view_module_version": "1.2.0",
            "_view_name": "StyleView",
            "description_width": ""
          }
        },
        "1c65366e67d041abb7c83be4a580ac5e": {
          "model_module": "@jupyter-widgets/base",
          "model_name": "LayoutModel",
          "model_module_version": "1.2.0",
          "state": {
            "_model_module": "@jupyter-widgets/base",
            "_model_module_version": "1.2.0",
            "_model_name": "LayoutModel",
            "_view_count": null,
            "_view_module": "@jupyter-widgets/base",
            "_view_module_version": "1.2.0",
            "_view_name": "LayoutView",
            "align_content": null,
            "align_items": null,
            "align_self": null,
            "border": null,
            "bottom": null,
            "display": null,
            "flex": null,
            "flex_flow": null,
            "grid_area": null,
            "grid_auto_columns": null,
            "grid_auto_flow": null,
            "grid_auto_rows": null,
            "grid_column": null,
            "grid_gap": null,
            "grid_row": null,
            "grid_template_areas": null,
            "grid_template_columns": null,
            "grid_template_rows": null,
            "height": null,
            "justify_content": null,
            "justify_items": null,
            "left": null,
            "margin": null,
            "max_height": null,
            "max_width": null,
            "min_height": null,
            "min_width": null,
            "object_fit": null,
            "object_position": null,
            "order": null,
            "overflow": null,
            "overflow_x": null,
            "overflow_y": null,
            "padding": null,
            "right": null,
            "top": null,
            "visibility": null,
            "width": null
          }
        },
        "43b6c2ca61704ff78bd7581db161cbc3": {
          "model_module": "@jupyter-widgets/controls",
          "model_name": "ProgressStyleModel",
          "model_module_version": "1.5.0",
          "state": {
            "_model_module": "@jupyter-widgets/controls",
            "_model_module_version": "1.5.0",
            "_model_name": "ProgressStyleModel",
            "_view_count": null,
            "_view_module": "@jupyter-widgets/base",
            "_view_module_version": "1.2.0",
            "_view_name": "StyleView",
            "bar_color": null,
            "description_width": ""
          }
        },
        "a50ed627f18444408bbd6cb869d496a3": {
          "model_module": "@jupyter-widgets/base",
          "model_name": "LayoutModel",
          "model_module_version": "1.2.0",
          "state": {
            "_model_module": "@jupyter-widgets/base",
            "_model_module_version": "1.2.0",
            "_model_name": "LayoutModel",
            "_view_count": null,
            "_view_module": "@jupyter-widgets/base",
            "_view_module_version": "1.2.0",
            "_view_name": "LayoutView",
            "align_content": null,
            "align_items": null,
            "align_self": null,
            "border": null,
            "bottom": null,
            "display": null,
            "flex": null,
            "flex_flow": null,
            "grid_area": null,
            "grid_auto_columns": null,
            "grid_auto_flow": null,
            "grid_auto_rows": null,
            "grid_column": null,
            "grid_gap": null,
            "grid_row": null,
            "grid_template_areas": null,
            "grid_template_columns": null,
            "grid_template_rows": null,
            "height": null,
            "justify_content": null,
            "justify_items": null,
            "left": null,
            "margin": null,
            "max_height": null,
            "max_width": null,
            "min_height": null,
            "min_width": null,
            "object_fit": null,
            "object_position": null,
            "order": null,
            "overflow": null,
            "overflow_x": null,
            "overflow_y": null,
            "padding": null,
            "right": null,
            "top": null,
            "visibility": null,
            "width": null
          }
        },
        "7a5320da3f0e4c889c30e796ee8aed4d": {
          "model_module": "@jupyter-widgets/controls",
          "model_name": "DescriptionStyleModel",
          "model_module_version": "1.5.0",
          "state": {
            "_model_module": "@jupyter-widgets/controls",
            "_model_module_version": "1.5.0",
            "_model_name": "DescriptionStyleModel",
            "_view_count": null,
            "_view_module": "@jupyter-widgets/base",
            "_view_module_version": "1.2.0",
            "_view_name": "StyleView",
            "description_width": ""
          }
        },
        "551b5cdcff884a939b8f19df1c45a5a5": {
          "model_module": "@jupyter-widgets/controls",
          "model_name": "HBoxModel",
          "model_module_version": "1.5.0",
          "state": {
            "_dom_classes": [],
            "_model_module": "@jupyter-widgets/controls",
            "_model_module_version": "1.5.0",
            "_model_name": "HBoxModel",
            "_view_count": null,
            "_view_module": "@jupyter-widgets/controls",
            "_view_module_version": "1.5.0",
            "_view_name": "HBoxView",
            "box_style": "",
            "children": [
              "IPY_MODEL_7690f660533346c79c8f1f232b95d96e",
              "IPY_MODEL_ffa3b7a6ab7e409197f9e837b4da06a1",
              "IPY_MODEL_3cfb21583a6648c3b6422a0a95dca07c"
            ],
            "layout": "IPY_MODEL_c878707a60854cbca48615ff6c867968"
          }
        },
        "7690f660533346c79c8f1f232b95d96e": {
          "model_module": "@jupyter-widgets/controls",
          "model_name": "HTMLModel",
          "model_module_version": "1.5.0",
          "state": {
            "_dom_classes": [],
            "_model_module": "@jupyter-widgets/controls",
            "_model_module_version": "1.5.0",
            "_model_name": "HTMLModel",
            "_view_count": null,
            "_view_module": "@jupyter-widgets/controls",
            "_view_module_version": "1.5.0",
            "_view_name": "HTMLView",
            "description": "",
            "description_tooltip": null,
            "layout": "IPY_MODEL_166483751ff14bf984d5cfcb58691fca",
            "placeholder": "​",
            "style": "IPY_MODEL_213bb43275c44f3abbc804c9c6b5156e",
            "value": "vocab.json: 100%"
          }
        },
        "ffa3b7a6ab7e409197f9e837b4da06a1": {
          "model_module": "@jupyter-widgets/controls",
          "model_name": "FloatProgressModel",
          "model_module_version": "1.5.0",
          "state": {
            "_dom_classes": [],
            "_model_module": "@jupyter-widgets/controls",
            "_model_module_version": "1.5.0",
            "_model_name": "FloatProgressModel",
            "_view_count": null,
            "_view_module": "@jupyter-widgets/controls",
            "_view_module_version": "1.5.0",
            "_view_name": "ProgressView",
            "bar_style": "success",
            "description": "",
            "description_tooltip": null,
            "layout": "IPY_MODEL_0321eba8ed0c4c549bbe28fe14f56e8b",
            "max": 1042301,
            "min": 0,
            "orientation": "horizontal",
            "style": "IPY_MODEL_d26b550253f9412d8ac9accce72e2e84",
            "value": 1042301
          }
        },
        "3cfb21583a6648c3b6422a0a95dca07c": {
          "model_module": "@jupyter-widgets/controls",
          "model_name": "HTMLModel",
          "model_module_version": "1.5.0",
          "state": {
            "_dom_classes": [],
            "_model_module": "@jupyter-widgets/controls",
            "_model_module_version": "1.5.0",
            "_model_name": "HTMLModel",
            "_view_count": null,
            "_view_module": "@jupyter-widgets/controls",
            "_view_module_version": "1.5.0",
            "_view_name": "HTMLView",
            "description": "",
            "description_tooltip": null,
            "layout": "IPY_MODEL_f85f4a59b0c948428047a2f190ce8fde",
            "placeholder": "​",
            "style": "IPY_MODEL_55231f2d68134b6b929dd5dd82c9acc5",
            "value": " 1.04M/1.04M [00:00&lt;00:00, 4.55MB/s]"
          }
        },
        "c878707a60854cbca48615ff6c867968": {
          "model_module": "@jupyter-widgets/base",
          "model_name": "LayoutModel",
          "model_module_version": "1.2.0",
          "state": {
            "_model_module": "@jupyter-widgets/base",
            "_model_module_version": "1.2.0",
            "_model_name": "LayoutModel",
            "_view_count": null,
            "_view_module": "@jupyter-widgets/base",
            "_view_module_version": "1.2.0",
            "_view_name": "LayoutView",
            "align_content": null,
            "align_items": null,
            "align_self": null,
            "border": null,
            "bottom": null,
            "display": null,
            "flex": null,
            "flex_flow": null,
            "grid_area": null,
            "grid_auto_columns": null,
            "grid_auto_flow": null,
            "grid_auto_rows": null,
            "grid_column": null,
            "grid_gap": null,
            "grid_row": null,
            "grid_template_areas": null,
            "grid_template_columns": null,
            "grid_template_rows": null,
            "height": null,
            "justify_content": null,
            "justify_items": null,
            "left": null,
            "margin": null,
            "max_height": null,
            "max_width": null,
            "min_height": null,
            "min_width": null,
            "object_fit": null,
            "object_position": null,
            "order": null,
            "overflow": null,
            "overflow_x": null,
            "overflow_y": null,
            "padding": null,
            "right": null,
            "top": null,
            "visibility": null,
            "width": null
          }
        },
        "166483751ff14bf984d5cfcb58691fca": {
          "model_module": "@jupyter-widgets/base",
          "model_name": "LayoutModel",
          "model_module_version": "1.2.0",
          "state": {
            "_model_module": "@jupyter-widgets/base",
            "_model_module_version": "1.2.0",
            "_model_name": "LayoutModel",
            "_view_count": null,
            "_view_module": "@jupyter-widgets/base",
            "_view_module_version": "1.2.0",
            "_view_name": "LayoutView",
            "align_content": null,
            "align_items": null,
            "align_self": null,
            "border": null,
            "bottom": null,
            "display": null,
            "flex": null,
            "flex_flow": null,
            "grid_area": null,
            "grid_auto_columns": null,
            "grid_auto_flow": null,
            "grid_auto_rows": null,
            "grid_column": null,
            "grid_gap": null,
            "grid_row": null,
            "grid_template_areas": null,
            "grid_template_columns": null,
            "grid_template_rows": null,
            "height": null,
            "justify_content": null,
            "justify_items": null,
            "left": null,
            "margin": null,
            "max_height": null,
            "max_width": null,
            "min_height": null,
            "min_width": null,
            "object_fit": null,
            "object_position": null,
            "order": null,
            "overflow": null,
            "overflow_x": null,
            "overflow_y": null,
            "padding": null,
            "right": null,
            "top": null,
            "visibility": null,
            "width": null
          }
        },
        "213bb43275c44f3abbc804c9c6b5156e": {
          "model_module": "@jupyter-widgets/controls",
          "model_name": "DescriptionStyleModel",
          "model_module_version": "1.5.0",
          "state": {
            "_model_module": "@jupyter-widgets/controls",
            "_model_module_version": "1.5.0",
            "_model_name": "DescriptionStyleModel",
            "_view_count": null,
            "_view_module": "@jupyter-widgets/base",
            "_view_module_version": "1.2.0",
            "_view_name": "StyleView",
            "description_width": ""
          }
        },
        "0321eba8ed0c4c549bbe28fe14f56e8b": {
          "model_module": "@jupyter-widgets/base",
          "model_name": "LayoutModel",
          "model_module_version": "1.2.0",
          "state": {
            "_model_module": "@jupyter-widgets/base",
            "_model_module_version": "1.2.0",
            "_model_name": "LayoutModel",
            "_view_count": null,
            "_view_module": "@jupyter-widgets/base",
            "_view_module_version": "1.2.0",
            "_view_name": "LayoutView",
            "align_content": null,
            "align_items": null,
            "align_self": null,
            "border": null,
            "bottom": null,
            "display": null,
            "flex": null,
            "flex_flow": null,
            "grid_area": null,
            "grid_auto_columns": null,
            "grid_auto_flow": null,
            "grid_auto_rows": null,
            "grid_column": null,
            "grid_gap": null,
            "grid_row": null,
            "grid_template_areas": null,
            "grid_template_columns": null,
            "grid_template_rows": null,
            "height": null,
            "justify_content": null,
            "justify_items": null,
            "left": null,
            "margin": null,
            "max_height": null,
            "max_width": null,
            "min_height": null,
            "min_width": null,
            "object_fit": null,
            "object_position": null,
            "order": null,
            "overflow": null,
            "overflow_x": null,
            "overflow_y": null,
            "padding": null,
            "right": null,
            "top": null,
            "visibility": null,
            "width": null
          }
        },
        "d26b550253f9412d8ac9accce72e2e84": {
          "model_module": "@jupyter-widgets/controls",
          "model_name": "ProgressStyleModel",
          "model_module_version": "1.5.0",
          "state": {
            "_model_module": "@jupyter-widgets/controls",
            "_model_module_version": "1.5.0",
            "_model_name": "ProgressStyleModel",
            "_view_count": null,
            "_view_module": "@jupyter-widgets/base",
            "_view_module_version": "1.2.0",
            "_view_name": "StyleView",
            "bar_color": null,
            "description_width": ""
          }
        },
        "f85f4a59b0c948428047a2f190ce8fde": {
          "model_module": "@jupyter-widgets/base",
          "model_name": "LayoutModel",
          "model_module_version": "1.2.0",
          "state": {
            "_model_module": "@jupyter-widgets/base",
            "_model_module_version": "1.2.0",
            "_model_name": "LayoutModel",
            "_view_count": null,
            "_view_module": "@jupyter-widgets/base",
            "_view_module_version": "1.2.0",
            "_view_name": "LayoutView",
            "align_content": null,
            "align_items": null,
            "align_self": null,
            "border": null,
            "bottom": null,
            "display": null,
            "flex": null,
            "flex_flow": null,
            "grid_area": null,
            "grid_auto_columns": null,
            "grid_auto_flow": null,
            "grid_auto_rows": null,
            "grid_column": null,
            "grid_gap": null,
            "grid_row": null,
            "grid_template_areas": null,
            "grid_template_columns": null,
            "grid_template_rows": null,
            "height": null,
            "justify_content": null,
            "justify_items": null,
            "left": null,
            "margin": null,
            "max_height": null,
            "max_width": null,
            "min_height": null,
            "min_width": null,
            "object_fit": null,
            "object_position": null,
            "order": null,
            "overflow": null,
            "overflow_x": null,
            "overflow_y": null,
            "padding": null,
            "right": null,
            "top": null,
            "visibility": null,
            "width": null
          }
        },
        "55231f2d68134b6b929dd5dd82c9acc5": {
          "model_module": "@jupyter-widgets/controls",
          "model_name": "DescriptionStyleModel",
          "model_module_version": "1.5.0",
          "state": {
            "_model_module": "@jupyter-widgets/controls",
            "_model_module_version": "1.5.0",
            "_model_name": "DescriptionStyleModel",
            "_view_count": null,
            "_view_module": "@jupyter-widgets/base",
            "_view_module_version": "1.2.0",
            "_view_name": "StyleView",
            "description_width": ""
          }
        },
        "7f34a4e98fec4cb4bd4f789986007208": {
          "model_module": "@jupyter-widgets/controls",
          "model_name": "HBoxModel",
          "model_module_version": "1.5.0",
          "state": {
            "_dom_classes": [],
            "_model_module": "@jupyter-widgets/controls",
            "_model_module_version": "1.5.0",
            "_model_name": "HBoxModel",
            "_view_count": null,
            "_view_module": "@jupyter-widgets/controls",
            "_view_module_version": "1.5.0",
            "_view_name": "HBoxView",
            "box_style": "",
            "children": [
              "IPY_MODEL_8837ea84b5aa42efa6b9a9a471b5d721",
              "IPY_MODEL_90f103a95c3e4865bc4004c26df3f7cc",
              "IPY_MODEL_a5877a5e7abe47e5bb34799ac38e7ffb"
            ],
            "layout": "IPY_MODEL_015c3b2892594a8bbf3b21104541551b"
          }
        },
        "8837ea84b5aa42efa6b9a9a471b5d721": {
          "model_module": "@jupyter-widgets/controls",
          "model_name": "HTMLModel",
          "model_module_version": "1.5.0",
          "state": {
            "_dom_classes": [],
            "_model_module": "@jupyter-widgets/controls",
            "_model_module_version": "1.5.0",
            "_model_name": "HTMLModel",
            "_view_count": null,
            "_view_module": "@jupyter-widgets/controls",
            "_view_module_version": "1.5.0",
            "_view_name": "HTMLView",
            "description": "",
            "description_tooltip": null,
            "layout": "IPY_MODEL_3e6a4fff7292466788b04cc88e80126e",
            "placeholder": "​",
            "style": "IPY_MODEL_1249645fc9144d13b070312629487984",
            "value": "merges.txt: 100%"
          }
        },
        "90f103a95c3e4865bc4004c26df3f7cc": {
          "model_module": "@jupyter-widgets/controls",
          "model_name": "FloatProgressModel",
          "model_module_version": "1.5.0",
          "state": {
            "_dom_classes": [],
            "_model_module": "@jupyter-widgets/controls",
            "_model_module_version": "1.5.0",
            "_model_name": "FloatProgressModel",
            "_view_count": null,
            "_view_module": "@jupyter-widgets/controls",
            "_view_module_version": "1.5.0",
            "_view_name": "ProgressView",
            "bar_style": "success",
            "description": "",
            "description_tooltip": null,
            "layout": "IPY_MODEL_675890b261f046c2ae4f9b7fed7c968a",
            "max": 456318,
            "min": 0,
            "orientation": "horizontal",
            "style": "IPY_MODEL_2aad1c4367c845b7896be5770d3de334",
            "value": 456318
          }
        },
        "a5877a5e7abe47e5bb34799ac38e7ffb": {
          "model_module": "@jupyter-widgets/controls",
          "model_name": "HTMLModel",
          "model_module_version": "1.5.0",
          "state": {
            "_dom_classes": [],
            "_model_module": "@jupyter-widgets/controls",
            "_model_module_version": "1.5.0",
            "_model_name": "HTMLModel",
            "_view_count": null,
            "_view_module": "@jupyter-widgets/controls",
            "_view_module_version": "1.5.0",
            "_view_name": "HTMLView",
            "description": "",
            "description_tooltip": null,
            "layout": "IPY_MODEL_cc7e9d127db04b538da3d0245f414a71",
            "placeholder": "​",
            "style": "IPY_MODEL_a1a9d4ef11af4c1fa8885b7747cce48b",
            "value": " 456k/456k [00:00&lt;00:00, 1.76MB/s]"
          }
        },
        "015c3b2892594a8bbf3b21104541551b": {
          "model_module": "@jupyter-widgets/base",
          "model_name": "LayoutModel",
          "model_module_version": "1.2.0",
          "state": {
            "_model_module": "@jupyter-widgets/base",
            "_model_module_version": "1.2.0",
            "_model_name": "LayoutModel",
            "_view_count": null,
            "_view_module": "@jupyter-widgets/base",
            "_view_module_version": "1.2.0",
            "_view_name": "LayoutView",
            "align_content": null,
            "align_items": null,
            "align_self": null,
            "border": null,
            "bottom": null,
            "display": null,
            "flex": null,
            "flex_flow": null,
            "grid_area": null,
            "grid_auto_columns": null,
            "grid_auto_flow": null,
            "grid_auto_rows": null,
            "grid_column": null,
            "grid_gap": null,
            "grid_row": null,
            "grid_template_areas": null,
            "grid_template_columns": null,
            "grid_template_rows": null,
            "height": null,
            "justify_content": null,
            "justify_items": null,
            "left": null,
            "margin": null,
            "max_height": null,
            "max_width": null,
            "min_height": null,
            "min_width": null,
            "object_fit": null,
            "object_position": null,
            "order": null,
            "overflow": null,
            "overflow_x": null,
            "overflow_y": null,
            "padding": null,
            "right": null,
            "top": null,
            "visibility": null,
            "width": null
          }
        },
        "3e6a4fff7292466788b04cc88e80126e": {
          "model_module": "@jupyter-widgets/base",
          "model_name": "LayoutModel",
          "model_module_version": "1.2.0",
          "state": {
            "_model_module": "@jupyter-widgets/base",
            "_model_module_version": "1.2.0",
            "_model_name": "LayoutModel",
            "_view_count": null,
            "_view_module": "@jupyter-widgets/base",
            "_view_module_version": "1.2.0",
            "_view_name": "LayoutView",
            "align_content": null,
            "align_items": null,
            "align_self": null,
            "border": null,
            "bottom": null,
            "display": null,
            "flex": null,
            "flex_flow": null,
            "grid_area": null,
            "grid_auto_columns": null,
            "grid_auto_flow": null,
            "grid_auto_rows": null,
            "grid_column": null,
            "grid_gap": null,
            "grid_row": null,
            "grid_template_areas": null,
            "grid_template_columns": null,
            "grid_template_rows": null,
            "height": null,
            "justify_content": null,
            "justify_items": null,
            "left": null,
            "margin": null,
            "max_height": null,
            "max_width": null,
            "min_height": null,
            "min_width": null,
            "object_fit": null,
            "object_position": null,
            "order": null,
            "overflow": null,
            "overflow_x": null,
            "overflow_y": null,
            "padding": null,
            "right": null,
            "top": null,
            "visibility": null,
            "width": null
          }
        },
        "1249645fc9144d13b070312629487984": {
          "model_module": "@jupyter-widgets/controls",
          "model_name": "DescriptionStyleModel",
          "model_module_version": "1.5.0",
          "state": {
            "_model_module": "@jupyter-widgets/controls",
            "_model_module_version": "1.5.0",
            "_model_name": "DescriptionStyleModel",
            "_view_count": null,
            "_view_module": "@jupyter-widgets/base",
            "_view_module_version": "1.2.0",
            "_view_name": "StyleView",
            "description_width": ""
          }
        },
        "675890b261f046c2ae4f9b7fed7c968a": {
          "model_module": "@jupyter-widgets/base",
          "model_name": "LayoutModel",
          "model_module_version": "1.2.0",
          "state": {
            "_model_module": "@jupyter-widgets/base",
            "_model_module_version": "1.2.0",
            "_model_name": "LayoutModel",
            "_view_count": null,
            "_view_module": "@jupyter-widgets/base",
            "_view_module_version": "1.2.0",
            "_view_name": "LayoutView",
            "align_content": null,
            "align_items": null,
            "align_self": null,
            "border": null,
            "bottom": null,
            "display": null,
            "flex": null,
            "flex_flow": null,
            "grid_area": null,
            "grid_auto_columns": null,
            "grid_auto_flow": null,
            "grid_auto_rows": null,
            "grid_column": null,
            "grid_gap": null,
            "grid_row": null,
            "grid_template_areas": null,
            "grid_template_columns": null,
            "grid_template_rows": null,
            "height": null,
            "justify_content": null,
            "justify_items": null,
            "left": null,
            "margin": null,
            "max_height": null,
            "max_width": null,
            "min_height": null,
            "min_width": null,
            "object_fit": null,
            "object_position": null,
            "order": null,
            "overflow": null,
            "overflow_x": null,
            "overflow_y": null,
            "padding": null,
            "right": null,
            "top": null,
            "visibility": null,
            "width": null
          }
        },
        "2aad1c4367c845b7896be5770d3de334": {
          "model_module": "@jupyter-widgets/controls",
          "model_name": "ProgressStyleModel",
          "model_module_version": "1.5.0",
          "state": {
            "_model_module": "@jupyter-widgets/controls",
            "_model_module_version": "1.5.0",
            "_model_name": "ProgressStyleModel",
            "_view_count": null,
            "_view_module": "@jupyter-widgets/base",
            "_view_module_version": "1.2.0",
            "_view_name": "StyleView",
            "bar_color": null,
            "description_width": ""
          }
        },
        "cc7e9d127db04b538da3d0245f414a71": {
          "model_module": "@jupyter-widgets/base",
          "model_name": "LayoutModel",
          "model_module_version": "1.2.0",
          "state": {
            "_model_module": "@jupyter-widgets/base",
            "_model_module_version": "1.2.0",
            "_model_name": "LayoutModel",
            "_view_count": null,
            "_view_module": "@jupyter-widgets/base",
            "_view_module_version": "1.2.0",
            "_view_name": "LayoutView",
            "align_content": null,
            "align_items": null,
            "align_self": null,
            "border": null,
            "bottom": null,
            "display": null,
            "flex": null,
            "flex_flow": null,
            "grid_area": null,
            "grid_auto_columns": null,
            "grid_auto_flow": null,
            "grid_auto_rows": null,
            "grid_column": null,
            "grid_gap": null,
            "grid_row": null,
            "grid_template_areas": null,
            "grid_template_columns": null,
            "grid_template_rows": null,
            "height": null,
            "justify_content": null,
            "justify_items": null,
            "left": null,
            "margin": null,
            "max_height": null,
            "max_width": null,
            "min_height": null,
            "min_width": null,
            "object_fit": null,
            "object_position": null,
            "order": null,
            "overflow": null,
            "overflow_x": null,
            "overflow_y": null,
            "padding": null,
            "right": null,
            "top": null,
            "visibility": null,
            "width": null
          }
        },
        "a1a9d4ef11af4c1fa8885b7747cce48b": {
          "model_module": "@jupyter-widgets/controls",
          "model_name": "DescriptionStyleModel",
          "model_module_version": "1.5.0",
          "state": {
            "_model_module": "@jupyter-widgets/controls",
            "_model_module_version": "1.5.0",
            "_model_name": "DescriptionStyleModel",
            "_view_count": null,
            "_view_module": "@jupyter-widgets/base",
            "_view_module_version": "1.2.0",
            "_view_name": "StyleView",
            "description_width": ""
          }
        },
        "4b1e364a00f341edae24b88b6ae236cd": {
          "model_module": "@jupyter-widgets/controls",
          "model_name": "HBoxModel",
          "model_module_version": "1.5.0",
          "state": {
            "_dom_classes": [],
            "_model_module": "@jupyter-widgets/controls",
            "_model_module_version": "1.5.0",
            "_model_name": "HBoxModel",
            "_view_count": null,
            "_view_module": "@jupyter-widgets/controls",
            "_view_module_version": "1.5.0",
            "_view_name": "HBoxView",
            "box_style": "",
            "children": [
              "IPY_MODEL_7f69509f4bc7410a93e38e0ae1102b4f",
              "IPY_MODEL_17bc8aedea0a4dadb604edb853df3e58",
              "IPY_MODEL_226fe0019d904f789b86f1ec8703ddab"
            ],
            "layout": "IPY_MODEL_2df1563d7ee04a28b4069fcca57d4372"
          }
        },
        "7f69509f4bc7410a93e38e0ae1102b4f": {
          "model_module": "@jupyter-widgets/controls",
          "model_name": "HTMLModel",
          "model_module_version": "1.5.0",
          "state": {
            "_dom_classes": [],
            "_model_module": "@jupyter-widgets/controls",
            "_model_module_version": "1.5.0",
            "_model_name": "HTMLModel",
            "_view_count": null,
            "_view_module": "@jupyter-widgets/controls",
            "_view_module_version": "1.5.0",
            "_view_name": "HTMLView",
            "description": "",
            "description_tooltip": null,
            "layout": "IPY_MODEL_9071e9fce73d40d7a1da3da8cc5d4fdd",
            "placeholder": "​",
            "style": "IPY_MODEL_d137ded3f98e488b83d4dacfbc934bb7",
            "value": "tokenizer.json: 100%"
          }
        },
        "17bc8aedea0a4dadb604edb853df3e58": {
          "model_module": "@jupyter-widgets/controls",
          "model_name": "FloatProgressModel",
          "model_module_version": "1.5.0",
          "state": {
            "_dom_classes": [],
            "_model_module": "@jupyter-widgets/controls",
            "_model_module_version": "1.5.0",
            "_model_name": "FloatProgressModel",
            "_view_count": null,
            "_view_module": "@jupyter-widgets/controls",
            "_view_module_version": "1.5.0",
            "_view_name": "ProgressView",
            "bar_style": "success",
            "description": "",
            "description_tooltip": null,
            "layout": "IPY_MODEL_787b3f35d7344bc0982029b9b4d9bd31",
            "max": 1355256,
            "min": 0,
            "orientation": "horizontal",
            "style": "IPY_MODEL_4323cc3fd3ce45c1a3511f8e058bbc67",
            "value": 1355256
          }
        },
        "226fe0019d904f789b86f1ec8703ddab": {
          "model_module": "@jupyter-widgets/controls",
          "model_name": "HTMLModel",
          "model_module_version": "1.5.0",
          "state": {
            "_dom_classes": [],
            "_model_module": "@jupyter-widgets/controls",
            "_model_module_version": "1.5.0",
            "_model_name": "HTMLModel",
            "_view_count": null,
            "_view_module": "@jupyter-widgets/controls",
            "_view_module_version": "1.5.0",
            "_view_name": "HTMLView",
            "description": "",
            "description_tooltip": null,
            "layout": "IPY_MODEL_3165adae46b14183879dbc0abe84c27f",
            "placeholder": "​",
            "style": "IPY_MODEL_ef8c08bb21e942daae69b7ae0d6bfbd7",
            "value": " 1.36M/1.36M [00:00&lt;00:00, 47.9MB/s]"
          }
        },
        "2df1563d7ee04a28b4069fcca57d4372": {
          "model_module": "@jupyter-widgets/base",
          "model_name": "LayoutModel",
          "model_module_version": "1.2.0",
          "state": {
            "_model_module": "@jupyter-widgets/base",
            "_model_module_version": "1.2.0",
            "_model_name": "LayoutModel",
            "_view_count": null,
            "_view_module": "@jupyter-widgets/base",
            "_view_module_version": "1.2.0",
            "_view_name": "LayoutView",
            "align_content": null,
            "align_items": null,
            "align_self": null,
            "border": null,
            "bottom": null,
            "display": null,
            "flex": null,
            "flex_flow": null,
            "grid_area": null,
            "grid_auto_columns": null,
            "grid_auto_flow": null,
            "grid_auto_rows": null,
            "grid_column": null,
            "grid_gap": null,
            "grid_row": null,
            "grid_template_areas": null,
            "grid_template_columns": null,
            "grid_template_rows": null,
            "height": null,
            "justify_content": null,
            "justify_items": null,
            "left": null,
            "margin": null,
            "max_height": null,
            "max_width": null,
            "min_height": null,
            "min_width": null,
            "object_fit": null,
            "object_position": null,
            "order": null,
            "overflow": null,
            "overflow_x": null,
            "overflow_y": null,
            "padding": null,
            "right": null,
            "top": null,
            "visibility": null,
            "width": null
          }
        },
        "9071e9fce73d40d7a1da3da8cc5d4fdd": {
          "model_module": "@jupyter-widgets/base",
          "model_name": "LayoutModel",
          "model_module_version": "1.2.0",
          "state": {
            "_model_module": "@jupyter-widgets/base",
            "_model_module_version": "1.2.0",
            "_model_name": "LayoutModel",
            "_view_count": null,
            "_view_module": "@jupyter-widgets/base",
            "_view_module_version": "1.2.0",
            "_view_name": "LayoutView",
            "align_content": null,
            "align_items": null,
            "align_self": null,
            "border": null,
            "bottom": null,
            "display": null,
            "flex": null,
            "flex_flow": null,
            "grid_area": null,
            "grid_auto_columns": null,
            "grid_auto_flow": null,
            "grid_auto_rows": null,
            "grid_column": null,
            "grid_gap": null,
            "grid_row": null,
            "grid_template_areas": null,
            "grid_template_columns": null,
            "grid_template_rows": null,
            "height": null,
            "justify_content": null,
            "justify_items": null,
            "left": null,
            "margin": null,
            "max_height": null,
            "max_width": null,
            "min_height": null,
            "min_width": null,
            "object_fit": null,
            "object_position": null,
            "order": null,
            "overflow": null,
            "overflow_x": null,
            "overflow_y": null,
            "padding": null,
            "right": null,
            "top": null,
            "visibility": null,
            "width": null
          }
        },
        "d137ded3f98e488b83d4dacfbc934bb7": {
          "model_module": "@jupyter-widgets/controls",
          "model_name": "DescriptionStyleModel",
          "model_module_version": "1.5.0",
          "state": {
            "_model_module": "@jupyter-widgets/controls",
            "_model_module_version": "1.5.0",
            "_model_name": "DescriptionStyleModel",
            "_view_count": null,
            "_view_module": "@jupyter-widgets/base",
            "_view_module_version": "1.2.0",
            "_view_name": "StyleView",
            "description_width": ""
          }
        },
        "787b3f35d7344bc0982029b9b4d9bd31": {
          "model_module": "@jupyter-widgets/base",
          "model_name": "LayoutModel",
          "model_module_version": "1.2.0",
          "state": {
            "_model_module": "@jupyter-widgets/base",
            "_model_module_version": "1.2.0",
            "_model_name": "LayoutModel",
            "_view_count": null,
            "_view_module": "@jupyter-widgets/base",
            "_view_module_version": "1.2.0",
            "_view_name": "LayoutView",
            "align_content": null,
            "align_items": null,
            "align_self": null,
            "border": null,
            "bottom": null,
            "display": null,
            "flex": null,
            "flex_flow": null,
            "grid_area": null,
            "grid_auto_columns": null,
            "grid_auto_flow": null,
            "grid_auto_rows": null,
            "grid_column": null,
            "grid_gap": null,
            "grid_row": null,
            "grid_template_areas": null,
            "grid_template_columns": null,
            "grid_template_rows": null,
            "height": null,
            "justify_content": null,
            "justify_items": null,
            "left": null,
            "margin": null,
            "max_height": null,
            "max_width": null,
            "min_height": null,
            "min_width": null,
            "object_fit": null,
            "object_position": null,
            "order": null,
            "overflow": null,
            "overflow_x": null,
            "overflow_y": null,
            "padding": null,
            "right": null,
            "top": null,
            "visibility": null,
            "width": null
          }
        },
        "4323cc3fd3ce45c1a3511f8e058bbc67": {
          "model_module": "@jupyter-widgets/controls",
          "model_name": "ProgressStyleModel",
          "model_module_version": "1.5.0",
          "state": {
            "_model_module": "@jupyter-widgets/controls",
            "_model_module_version": "1.5.0",
            "_model_name": "ProgressStyleModel",
            "_view_count": null,
            "_view_module": "@jupyter-widgets/base",
            "_view_module_version": "1.2.0",
            "_view_name": "StyleView",
            "bar_color": null,
            "description_width": ""
          }
        },
        "3165adae46b14183879dbc0abe84c27f": {
          "model_module": "@jupyter-widgets/base",
          "model_name": "LayoutModel",
          "model_module_version": "1.2.0",
          "state": {
            "_model_module": "@jupyter-widgets/base",
            "_model_module_version": "1.2.0",
            "_model_name": "LayoutModel",
            "_view_count": null,
            "_view_module": "@jupyter-widgets/base",
            "_view_module_version": "1.2.0",
            "_view_name": "LayoutView",
            "align_content": null,
            "align_items": null,
            "align_self": null,
            "border": null,
            "bottom": null,
            "display": null,
            "flex": null,
            "flex_flow": null,
            "grid_area": null,
            "grid_auto_columns": null,
            "grid_auto_flow": null,
            "grid_auto_rows": null,
            "grid_column": null,
            "grid_gap": null,
            "grid_row": null,
            "grid_template_areas": null,
            "grid_template_columns": null,
            "grid_template_rows": null,
            "height": null,
            "justify_content": null,
            "justify_items": null,
            "left": null,
            "margin": null,
            "max_height": null,
            "max_width": null,
            "min_height": null,
            "min_width": null,
            "object_fit": null,
            "object_position": null,
            "order": null,
            "overflow": null,
            "overflow_x": null,
            "overflow_y": null,
            "padding": null,
            "right": null,
            "top": null,
            "visibility": null,
            "width": null
          }
        },
        "ef8c08bb21e942daae69b7ae0d6bfbd7": {
          "model_module": "@jupyter-widgets/controls",
          "model_name": "DescriptionStyleModel",
          "model_module_version": "1.5.0",
          "state": {
            "_model_module": "@jupyter-widgets/controls",
            "_model_module_version": "1.5.0",
            "_model_name": "DescriptionStyleModel",
            "_view_count": null,
            "_view_module": "@jupyter-widgets/base",
            "_view_module_version": "1.2.0",
            "_view_name": "StyleView",
            "description_width": ""
          }
        },
        "82ecb003d5124dd5b0948f85815df925": {
          "model_module": "@jupyter-widgets/controls",
          "model_name": "HBoxModel",
          "model_module_version": "1.5.0",
          "state": {
            "_dom_classes": [],
            "_model_module": "@jupyter-widgets/controls",
            "_model_module_version": "1.5.0",
            "_model_name": "HBoxModel",
            "_view_count": null,
            "_view_module": "@jupyter-widgets/controls",
            "_view_module_version": "1.5.0",
            "_view_name": "HBoxView",
            "box_style": "",
            "children": [
              "IPY_MODEL_268879aba8fb4097b749030379a953e1",
              "IPY_MODEL_41a2e5e2f0934271ac37e0a9a9faed8f",
              "IPY_MODEL_3f720965cf314954809827e9f72b01e9"
            ],
            "layout": "IPY_MODEL_fcda87784d614de0870baed4451ef675"
          }
        },
        "268879aba8fb4097b749030379a953e1": {
          "model_module": "@jupyter-widgets/controls",
          "model_name": "HTMLModel",
          "model_module_version": "1.5.0",
          "state": {
            "_dom_classes": [],
            "_model_module": "@jupyter-widgets/controls",
            "_model_module_version": "1.5.0",
            "_model_name": "HTMLModel",
            "_view_count": null,
            "_view_module": "@jupyter-widgets/controls",
            "_view_module_version": "1.5.0",
            "_view_name": "HTMLView",
            "description": "",
            "description_tooltip": null,
            "layout": "IPY_MODEL_779976ce2e384aaa987783adfc06645f",
            "placeholder": "​",
            "style": "IPY_MODEL_193b7a3190fb40db9c891a5aee7e76e4",
            "value": "100%"
          }
        },
        "41a2e5e2f0934271ac37e0a9a9faed8f": {
          "model_module": "@jupyter-widgets/controls",
          "model_name": "FloatProgressModel",
          "model_module_version": "1.5.0",
          "state": {
            "_dom_classes": [],
            "_model_module": "@jupyter-widgets/controls",
            "_model_module_version": "1.5.0",
            "_model_name": "FloatProgressModel",
            "_view_count": null,
            "_view_module": "@jupyter-widgets/controls",
            "_view_module_version": "1.5.0",
            "_view_name": "ProgressView",
            "bar_style": "success",
            "description": "",
            "description_tooltip": null,
            "layout": "IPY_MODEL_8beb4ef10adb4697a5ac0ebd928daa42",
            "max": 12,
            "min": 0,
            "orientation": "horizontal",
            "style": "IPY_MODEL_dd0205451b7144cb94a00e15694ac7fb",
            "value": 12
          }
        },
        "3f720965cf314954809827e9f72b01e9": {
          "model_module": "@jupyter-widgets/controls",
          "model_name": "HTMLModel",
          "model_module_version": "1.5.0",
          "state": {
            "_dom_classes": [],
            "_model_module": "@jupyter-widgets/controls",
            "_model_module_version": "1.5.0",
            "_model_name": "HTMLModel",
            "_view_count": null,
            "_view_module": "@jupyter-widgets/controls",
            "_view_module_version": "1.5.0",
            "_view_name": "HTMLView",
            "description": "",
            "description_tooltip": null,
            "layout": "IPY_MODEL_1b81c4197b734612bfbd84ee79c2e66a",
            "placeholder": "​",
            "style": "IPY_MODEL_a720c8ac8aa54bbd948e061172db7b5c",
            "value": " 12/12 [00:05&lt;00:00,  2.26it/s]"
          }
        },
        "fcda87784d614de0870baed4451ef675": {
          "model_module": "@jupyter-widgets/base",
          "model_name": "LayoutModel",
          "model_module_version": "1.2.0",
          "state": {
            "_model_module": "@jupyter-widgets/base",
            "_model_module_version": "1.2.0",
            "_model_name": "LayoutModel",
            "_view_count": null,
            "_view_module": "@jupyter-widgets/base",
            "_view_module_version": "1.2.0",
            "_view_name": "LayoutView",
            "align_content": null,
            "align_items": null,
            "align_self": null,
            "border": null,
            "bottom": null,
            "display": null,
            "flex": null,
            "flex_flow": null,
            "grid_area": null,
            "grid_auto_columns": null,
            "grid_auto_flow": null,
            "grid_auto_rows": null,
            "grid_column": null,
            "grid_gap": null,
            "grid_row": null,
            "grid_template_areas": null,
            "grid_template_columns": null,
            "grid_template_rows": null,
            "height": null,
            "justify_content": null,
            "justify_items": null,
            "left": null,
            "margin": null,
            "max_height": null,
            "max_width": null,
            "min_height": null,
            "min_width": null,
            "object_fit": null,
            "object_position": null,
            "order": null,
            "overflow": null,
            "overflow_x": null,
            "overflow_y": null,
            "padding": null,
            "right": null,
            "top": null,
            "visibility": null,
            "width": null
          }
        },
        "779976ce2e384aaa987783adfc06645f": {
          "model_module": "@jupyter-widgets/base",
          "model_name": "LayoutModel",
          "model_module_version": "1.2.0",
          "state": {
            "_model_module": "@jupyter-widgets/base",
            "_model_module_version": "1.2.0",
            "_model_name": "LayoutModel",
            "_view_count": null,
            "_view_module": "@jupyter-widgets/base",
            "_view_module_version": "1.2.0",
            "_view_name": "LayoutView",
            "align_content": null,
            "align_items": null,
            "align_self": null,
            "border": null,
            "bottom": null,
            "display": null,
            "flex": null,
            "flex_flow": null,
            "grid_area": null,
            "grid_auto_columns": null,
            "grid_auto_flow": null,
            "grid_auto_rows": null,
            "grid_column": null,
            "grid_gap": null,
            "grid_row": null,
            "grid_template_areas": null,
            "grid_template_columns": null,
            "grid_template_rows": null,
            "height": null,
            "justify_content": null,
            "justify_items": null,
            "left": null,
            "margin": null,
            "max_height": null,
            "max_width": null,
            "min_height": null,
            "min_width": null,
            "object_fit": null,
            "object_position": null,
            "order": null,
            "overflow": null,
            "overflow_x": null,
            "overflow_y": null,
            "padding": null,
            "right": null,
            "top": null,
            "visibility": null,
            "width": null
          }
        },
        "193b7a3190fb40db9c891a5aee7e76e4": {
          "model_module": "@jupyter-widgets/controls",
          "model_name": "DescriptionStyleModel",
          "model_module_version": "1.5.0",
          "state": {
            "_model_module": "@jupyter-widgets/controls",
            "_model_module_version": "1.5.0",
            "_model_name": "DescriptionStyleModel",
            "_view_count": null,
            "_view_module": "@jupyter-widgets/base",
            "_view_module_version": "1.2.0",
            "_view_name": "StyleView",
            "description_width": ""
          }
        },
        "8beb4ef10adb4697a5ac0ebd928daa42": {
          "model_module": "@jupyter-widgets/base",
          "model_name": "LayoutModel",
          "model_module_version": "1.2.0",
          "state": {
            "_model_module": "@jupyter-widgets/base",
            "_model_module_version": "1.2.0",
            "_model_name": "LayoutModel",
            "_view_count": null,
            "_view_module": "@jupyter-widgets/base",
            "_view_module_version": "1.2.0",
            "_view_name": "LayoutView",
            "align_content": null,
            "align_items": null,
            "align_self": null,
            "border": null,
            "bottom": null,
            "display": null,
            "flex": null,
            "flex_flow": null,
            "grid_area": null,
            "grid_auto_columns": null,
            "grid_auto_flow": null,
            "grid_auto_rows": null,
            "grid_column": null,
            "grid_gap": null,
            "grid_row": null,
            "grid_template_areas": null,
            "grid_template_columns": null,
            "grid_template_rows": null,
            "height": null,
            "justify_content": null,
            "justify_items": null,
            "left": null,
            "margin": null,
            "max_height": null,
            "max_width": null,
            "min_height": null,
            "min_width": null,
            "object_fit": null,
            "object_position": null,
            "order": null,
            "overflow": null,
            "overflow_x": null,
            "overflow_y": null,
            "padding": null,
            "right": null,
            "top": null,
            "visibility": null,
            "width": null
          }
        },
        "dd0205451b7144cb94a00e15694ac7fb": {
          "model_module": "@jupyter-widgets/controls",
          "model_name": "ProgressStyleModel",
          "model_module_version": "1.5.0",
          "state": {
            "_model_module": "@jupyter-widgets/controls",
            "_model_module_version": "1.5.0",
            "_model_name": "ProgressStyleModel",
            "_view_count": null,
            "_view_module": "@jupyter-widgets/base",
            "_view_module_version": "1.2.0",
            "_view_name": "StyleView",
            "bar_color": null,
            "description_width": ""
          }
        },
        "1b81c4197b734612bfbd84ee79c2e66a": {
          "model_module": "@jupyter-widgets/base",
          "model_name": "LayoutModel",
          "model_module_version": "1.2.0",
          "state": {
            "_model_module": "@jupyter-widgets/base",
            "_model_module_version": "1.2.0",
            "_model_name": "LayoutModel",
            "_view_count": null,
            "_view_module": "@jupyter-widgets/base",
            "_view_module_version": "1.2.0",
            "_view_name": "LayoutView",
            "align_content": null,
            "align_items": null,
            "align_self": null,
            "border": null,
            "bottom": null,
            "display": null,
            "flex": null,
            "flex_flow": null,
            "grid_area": null,
            "grid_auto_columns": null,
            "grid_auto_flow": null,
            "grid_auto_rows": null,
            "grid_column": null,
            "grid_gap": null,
            "grid_row": null,
            "grid_template_areas": null,
            "grid_template_columns": null,
            "grid_template_rows": null,
            "height": null,
            "justify_content": null,
            "justify_items": null,
            "left": null,
            "margin": null,
            "max_height": null,
            "max_width": null,
            "min_height": null,
            "min_width": null,
            "object_fit": null,
            "object_position": null,
            "order": null,
            "overflow": null,
            "overflow_x": null,
            "overflow_y": null,
            "padding": null,
            "right": null,
            "top": null,
            "visibility": null,
            "width": null
          }
        },
        "a720c8ac8aa54bbd948e061172db7b5c": {
          "model_module": "@jupyter-widgets/controls",
          "model_name": "DescriptionStyleModel",
          "model_module_version": "1.5.0",
          "state": {
            "_model_module": "@jupyter-widgets/controls",
            "_model_module_version": "1.5.0",
            "_model_name": "DescriptionStyleModel",
            "_view_count": null,
            "_view_module": "@jupyter-widgets/base",
            "_view_module_version": "1.2.0",
            "_view_name": "StyleView",
            "description_width": ""
          }
        }
      }
    }
  },
  "nbformat": 4,
  "nbformat_minor": 0
}